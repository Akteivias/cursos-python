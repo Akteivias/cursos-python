{
  "nbformat": 4,
  "nbformat_minor": 0,
  "metadata": {
    "instance_type": "ml.t3.medium",
    "kernelspec": {
      "display_name": "Python 3",
      "language": "python",
      "name": "python3"
    },
    "language_info": {
      "codemirror_mode": {
        "name": "ipython",
        "version": 3
      },
      "file_extension": ".py",
      "mimetype": "text/x-python",
      "name": "python",
      "nbconvert_exporter": "python",
      "pygments_lexer": "ipython3",
      "version": "3.8.5"
    },
    "colab": {
      "name": "2021_web_scraping_http_inicial_solucion.ipynb",
      "provenance": []
    }
  },
  "cells": [
    {
      "cell_type": "markdown",
      "metadata": {
        "id": "dJikR8QwA0Zt"
      },
      "source": [
        "# **Web Scraping: Extrayendo datos de Internet**"
      ]
    },
    {
      "cell_type": "markdown",
      "metadata": {
        "id": "bTg_uMsf2sXB"
      },
      "source": [
        "## **¿Qué es el web scraping?**  🤔\n",
        "\n",
        "*La práctica de **recopilar datos** a través de cualquier medio que no sea un programa que interactúa con una API o un humano que usa un navegador web. **Normalmente mediante un programa automatizado** que consulta un servidor web, solicita datos (generalmente en forma de HTML y otros archivos que componen las páginas web) y luego analiza esos datos para extraer la información necesaria.*\n",
        "\n",
        "<br>\n",
        "\n",
        "<center>\n",
        "<img src=\"https://images-na.ssl-images-amazon.com/images/I/517z2NUzcEL._SX198_BO1,204,203,200_QL40_ML2_.jpg\">\n",
        "</center>\n",
        "\n",
        "<br>\n",
        "\n",
        "*Por otro lado, el **web crawling o indexación** se utiliza para indexar la información de la página mediante bots también conocidos como crawlers (lo que hacen los motores de búsqueda). Se trata de ver una página como un todo e indexarla. Cuando un bot rastrea un sitio web, **recorre todas las páginas y todos los enlaces**, hasta la última línea del sitio web, en busca de **CUALQUIER información**.*"
      ]
    },
    {
      "cell_type": "markdown",
      "metadata": {
        "id": "wDfhvFueahvR"
      },
      "source": [
        "## **Antes de empezar** ⚠️\n",
        "\n",
        "1. *Aspectos éticos y legales del web scraping*\n",
        "  * El web scraping es una forma automática de guardar información que se presenta en nuestro navegador muy utilizada tanto en la industria como en la academia, sus aspectos legales dependerán de cada sitio y de cada estado. Respecto a la ética es importante que nos detengamos a pensar si estamos o no generando algun perjuicio. En ambos casos el debate está abierto y hay mucha bibliografía al respecto como por ejemplo [este trabajo](https://www.researchgate.net/profile/Vlad-Krotov/publication/324907302_Legality_and_Ethics_of_Web_Scraping/links/5aea622345851588dd8287dc/Legality-and-Ethics-of-Web-Scraping.pdf)\n",
        "\n",
        "2. *No reinventar la rueda*\n",
        "  * Emprender un proyecto de web scraping a veces es rapido y sencillo, pero normalmente requiere tiempo y esfuerzo. Siempre es aconsejable asegurarse de que valga la pena y antes iniciar hacerse algunas preguntas:<br>\n",
        "    - ¿La informacion que necesito ya se encuentra disponible? (ej: APIs)\n",
        "    - ¿Vale la pena automatizarlo o es algo que lleva poco trabajo a mano?\n",
        "\n",
        "\n",
        "\n"
      ]
    },
    {
      "cell_type": "markdown",
      "metadata": {
        "id": "JodftJTr_eGi"
      },
      "source": [
        "## **Conceptos básicos sobre la web** \n",
        "\n",
        "#### HTML, CSS y JavaScript son los tres lenguajes principales con los que está hecho la parte de la web que vemos (*front-end*).\n",
        "\n",
        "<center>\n",
        "<img src=\"https://www.nicepng.com/png/detail/142-1423886_html5-css3-js-html-css-javascript.png\" width=\"400\">\n",
        "\n",
        "<img src=\"https://geekflare.com/wp-content/uploads/2019/12/css-gif.gif\" width=\"243\">\n",
        "\n",
        "\n",
        "</center>\n",
        "\n",
        "<br>\n",
        "<br>\n",
        "\n",
        "| ESTRUCTURA  | ESTILO | FUNCIONALIDAD|\n",
        "|-----|----------------| ---------- |\n",
        "|HTML| CSS | JAVASCRIPT|\n",
        "\n",
        "<font color=\"gray\">\n",
        "Fuente de las imágenes: <br>\n",
        "https://geekflare.com/es/css-formatting-optimization-tools/ <br>\n",
        "https://www.nicepng.com/ourpic/u2q8i1o0e6q8r5t4_html5-css3-js-html-css-javascript/\n",
        "</font>\n",
        "\n"
      ]
    },
    {
      "cell_type": "markdown",
      "metadata": {
        "id": "UvoyAdrL2pGS"
      },
      "source": [
        "## Introducción a HTML"
      ]
    },
    {
      "cell_type": "markdown",
      "metadata": {
        "id": "WZ8PvQ87A0Z1"
      },
      "source": [
        "El lenguaje principal de la internet es HTML, cuando nosotros vemos algo así:\n",
        "\n",
        "![](https://github.com/institutohumai/cursos-python/blob/master/Scraping/1_HTTP_Inicial/multimedia/hello-world.jpeg?raw=1)\n",
        "\n",
        "Eso se genera a partir de una código que luce así\n",
        "\n",
        "```html\n",
        "<html>\n",
        "  <header>\n",
        "    <title>Web Scraping - Instituto Humai</title>\n",
        "  </header>\n",
        "  <body>\n",
        "    <h1>¡Hola!</h1>\n",
        "    <p>Esto es un sitio web</p>\n",
        "  </body>\n",
        "</html>\n",
        "```\n",
        "\n",
        "**_Nota_**: Para saber más sobre HTML podés consultar [acá](https://www.w3schools.com/TAGS/default.ASP) la lista de etiquetas de este lenguaje."
      ]
    },
    {
      "cell_type": "markdown",
      "metadata": {
        "id": "B6sSeFHDGY26"
      },
      "source": [
        "\n",
        "```html\n",
        "  <head>\n",
        "    <title>Mi primer pagina</title>\n",
        "  </head>\n",
        "  <body>\n",
        "    <h1 id='titulo'>Hola</h1>\n",
        "    <h2 style='color:red;'>Subtitulo en rojo</h2>\n",
        "    <p>Primer parrafo</p>\n",
        "    <hr>\n",
        "    <img src=\"https://i.pinimg.com/564x/8f/14/25/8f142555ef5006abd82d8c5c7f9f8570.jpg\" alt=\"gato\" width=400>\n",
        "  </body>\n",
        "```\n",
        "<center>\n",
        "<img src=\"https://i.ibb.co/9pqvGSv/HTML-gatito.png\"  width=800> <br>\n",
        "<h3>Probar el código: <a>https://codepen.io/GEJ1/pen/GRmVNPb</a></h3>\n",
        "</center>\n"
      ]
    },
    {
      "cell_type": "markdown",
      "metadata": {
        "id": "MrnbZl5CETFL"
      },
      "source": [
        "## DOM (Document Object Model)\n",
        "\n",
        "\n",
        "Interfaz independiente del lenguaje que trata un documento XML o HTML como una estructura de tipo **árbol**\n",
        "<figure>\n",
        "<img src=\"https://upload.wikimedia.org/wikipedia/commons/thumb/5/5a/DOM-model.svg/330px-DOM-model.svg.png\" width=\"500\">\n",
        "\n",
        "```html\n",
        "<html>\n",
        "  <head>\n",
        "    <title>My title</title>\n",
        "  </head>\n",
        "  <body>\n",
        "    <h1>A heading</h1>\n",
        "    <a href>Link text</a>\n",
        "  </body>\n",
        "</html>\n",
        "```\n",
        "</figure>\n",
        "\n",
        "<font color=\"gray\"> Fuente: https://en.wikipedia.org/wiki/Document_Object_Model\n",
        "<br>Autor: Birger Eriksson\n",
        "</font>\n"
      ]
    },
    {
      "cell_type": "markdown",
      "metadata": {
        "id": "B3s4n2eqA0Z3"
      },
      "source": [
        "## ¿Cómo consigo el código HTML?\n",
        "\n",
        "Ahora que sabemos cuál es el componente principal de los sitios webs podemos intentar programar a nuestra computadora para leer HTML y extraer información útil.\n",
        "\n",
        "Para conseguir el código de un sitio web podemos presionar `ctrl+u` en el navegador.\n",
        "\n",
        "Para hacer lo mismo desde Python podemos hacer lo siguiente:"
      ]
    },
    {
      "cell_type": "code",
      "metadata": {
        "id": "lCA6aQ1gA0Z5",
        "colab": {
          "base_uri": "https://localhost:8080/"
        },
        "outputId": "5835ff58-4cab-4ac0-8b24-69c2319703b7"
      },
      "source": [
        "#Importamos la libreria necesaria\n",
        "import requests\n",
        "\n",
        "un_sitio_web = \"https://es.wikipedia.org/wiki/HTML\"\n",
        "\n",
        "# esto descarga la información del sitio web\n",
        "# Es similar a lo que hace un navegador web antes de mostrar el contenido de forma amigable para un humano\n",
        "resultado = requests.get(un_sitio_web)\n",
        "\n",
        "# accedemos al código a través del atributo \"text\" del resultado\n",
        "codigo_html = resultado.text\n",
        "print(codigo_html[:1000])"
      ],
      "execution_count": null,
      "outputs": [
        {
          "output_type": "stream",
          "name": "stdout",
          "text": [
            "<!DOCTYPE html>\n",
            "<html class=\"client-nojs\" lang=\"es\" dir=\"ltr\">\n",
            "<head>\n",
            "<meta charset=\"UTF-8\"/>\n",
            "<title>HTML - Wikipedia, la enciclopedia libre</title>\n",
            "<script>document.documentElement.className=\"client-js\";RLCONF={\"wgBreakFrames\":!1,\"wgSeparatorTransformTable\":[\",\\t.\",\" \\t,\"],\"wgDigitTransformTable\":[\"\",\"\"],\"wgDefaultDateFormat\":\"dmy\",\"wgMonthNames\":[\"\",\"enero\",\"febrero\",\"marzo\",\"abril\",\"mayo\",\"junio\",\"julio\",\"agosto\",\"septiembre\",\"octubre\",\"noviembre\",\"diciembre\"],\"wgRequestId\":\"29fc7366-2b54-483e-82ab-b76ae6eb8438\",\"wgCSPNonce\":!1,\"wgCanonicalNamespace\":\"\",\"wgCanonicalSpecialPageName\":!1,\"wgNamespaceNumber\":0,\"wgPageName\":\"HTML\",\"wgTitle\":\"HTML\",\"wgCurRevisionId\":138298734,\"wgRevisionId\":138298734,\"wgArticleId\":1366,\"wgIsArticle\":!0,\"wgIsRedirect\":!1,\"wgAction\":\"view\",\"wgUserName\":null,\"wgUserGroups\":[\"*\"],\"wgCategories\":[\"Wikipedia:Artículos con datos por trasladar a Wikidata\",\"Wikipedia:Artículos con identificadores BNE\",\"Wikipedia:Artículos con identificadores BNF\",\"Wikipedia:Artícu\n"
          ]
        }
      ]
    },
    {
      "cell_type": "markdown",
      "metadata": {
        "id": "fyGIaAQNA0Z7"
      },
      "source": [
        "### ¿Qué acabamos de hacer?\n",
        "\n",
        "Veamos algunos detalles más sobre cómo descargar el contenido de un sitio web (O cómo se le suele decir en la jerga de la programación _realizar un request_). Como dijimos, en python se puede utilizar la función get de la libreria requests para hacer esto, veamos con mayor profundidad cómo se utiliza."
      ]
    },
    {
      "cell_type": "code",
      "metadata": {
        "id": "ekwXCdmkA0Z8",
        "colab": {
          "base_uri": "https://localhost:8080/"
        },
        "outputId": "4d45032f-fe4d-4ec8-d6d1-e8ca976c8fa0"
      },
      "source": [
        "# httpbin es una pagina para testear pedidos HTTP, en particular la siguiente URL nos devuelve nuestro header.\n",
        "url = 'http://httpbin.org/headers' \n",
        "resp = requests.get(url)\n",
        "\n",
        "print('------------------------------')\n",
        "print('Respuesta sin headers')\n",
        "print(resp.text)\n",
        "\n",
        "print('------------------------------')\n",
        "print('Respuesta con headers')\n",
        "nuestros_headers = {\n",
        "    'user-agent': 'Mozilla/5.0 (X11; Linux x86_64) AppleWebKit/537.36 (KHTML, like Gecko) Chrome/84.0.4147.105 Safari/537.36'\n",
        "    }\n",
        "resp_con_headers = requests.get(url, headers = nuestros_headers)\n",
        "print(resp_con_headers.text)\n"
      ],
      "execution_count": 55,
      "outputs": [
        {
          "output_type": "stream",
          "name": "stdout",
          "text": [
            "------------------------------\n",
            "Respuesta sin headers\n",
            "{\n",
            "  \"headers\": {\n",
            "    \"Accept\": \"*/*\", \n",
            "    \"Accept-Encoding\": \"gzip, deflate\", \n",
            "    \"Host\": \"httpbin.org\", \n",
            "    \"User-Agent\": \"python-requests/2.23.0\", \n",
            "    \"X-Amzn-Trace-Id\": \"Root=1-61561f08-0c46c3b434fb43e715333b44\"\n",
            "  }\n",
            "}\n",
            "\n",
            "------------------------------\n",
            "Respuesta con headers\n",
            "{\n",
            "  \"headers\": {\n",
            "    \"Accept\": \"*/*\", \n",
            "    \"Accept-Encoding\": \"gzip, deflate\", \n",
            "    \"Host\": \"httpbin.org\", \n",
            "    \"User-Agent\": \"Mozilla/5.0 (X11; Linux x86_64) AppleWebKit/537.36 (KHTML, like Gecko) Chrome/84.0.4147.105 Safari/537.36\", \n",
            "    \"X-Amzn-Trace-Id\": \"Root=1-61561f08-4afb069b3aab2efa415e83a7\"\n",
            "  }\n",
            "}\n",
            "\n"
          ]
        }
      ]
    },
    {
      "cell_type": "markdown",
      "metadata": {
        "id": "XhxvusaLA0Z8"
      },
      "source": [
        "A parte de la _url_, muchas veces se especifican los _headers_, estos son objetos que proveen datos sobre nuestro _request_, por ejemplo en el campo user-agent brindamos detalles sobre quienes somos (Nuestro sistema operativo, navegador web y demás). En este caso, como no estamos usando un navegador sino que hacemos el _request_ desde Python normalmente se omite este campo, o en caso de ser obligatorio se puede inventar, ya que algunos sitios nos van a ignorar a menos que especifiquemos este campo.\n",
        "\n",
        "Pueden ver más en esta [Lista de Headers](https://en.wikipedia.org/wiki/List_of_HTTP_header_fields)\n",
        "\n",
        "- Consultas\n",
        "    - ¿Por qué los sitios te podrían bloquear/ignorar?\n",
        "    - ¿De donde saco un user-agent?\n"
      ]
    },
    {
      "cell_type": "markdown",
      "metadata": {
        "id": "MdRjN5y1CuBK"
      },
      "source": [
        "### Protocolo HTTP"
      ]
    },
    {
      "cell_type": "markdown",
      "metadata": {
        "id": "2w07ITLwHmi8"
      },
      "source": [
        "La web utiliza ampliamente el protocolo HTTP (de _Hypertext Transfer Protocol_) para interactuar con sus recursos. Este protocolo indica cómo estructurar un mensaje de texto que describa la petición (**request**) del usuario a un servidor. Hay distintos tipos de peticios que un usuario puede realizar, algunas de ellas son:\n",
        "\n",
        "* **GET**: Solicita una representación de un recurso alojado en el servidor.\n",
        "* **POST**: Envía datos al servidor para crear un recurso nuevo.\n",
        "* **PUT**: Crea o modifica un recurso del servidor.\n",
        "* **DELETE**: Elimina un recurso del servidor.\n",
        "\n",
        "Existen otros métodos que no nos van a ser relevantes por ahora.\n",
        "\n",
        "Cada vez que vamos al navegador y escribimos la dirección de una página web, **estamos haciendo un GET request** a un servidor. \n",
        "Esto es una petición para adquirir el código de un recurso que queremos visualizar en el navegador. "
      ]
    },
    {
      "cell_type": "markdown",
      "metadata": {
        "id": "U_wuF5Mq1ikJ"
      },
      "source": [
        "Como vimos antes la función `get` retorna un objeto, el cual llamamos _resp_, este es un elemento de la clase **_Response_** y tiene distintos atributos a los que podemos acceder.\n",
        "\n",
        "El objeto **_Response_** de requests tiene los siguientes elementos principales:\n",
        "\n",
        "- **.text**: devuelve el contenido como string.\n",
        "- **.content**: devuelve el contenido en bytes.\n",
        "- **.json()**: el contenido en formato JSON, si es posible.\n",
        "- **.status_code**: el código de respuesta.\n",
        "\n",
        "\n",
        "El código de status (*status code*) nos informa del estado de nuestra *request*\n",
        "\n",
        "Códigos posibles:\n",
        "\n",
        "- 1xx Mensaje de información\n",
        "- 2xx Éxito\n",
        "- 3xx Redirigir a otra URL\n",
        "- 4xx Error del cliente\n",
        "- 5xx Error del servidor\n",
        "\n",
        "<center>\n",
        "<img alt=\"http-status-codes\" src=\"https://miro.medium.com/max/1400/1*w_iicbG7L3xEQTArjHUS6g.jpeg\" width=\"500\"> <br>\n",
        "<font color='gray'>Fuente: https://www.youtube.com/watch?v=LtNSd_4txVc\n",
        "</font>\n",
        "</center>\n",
        "\n"
      ]
    },
    {
      "cell_type": "code",
      "metadata": {
        "id": "BJoW-QxnA0Z9",
        "colab": {
          "base_uri": "https://localhost:8080/"
        },
        "outputId": "937f0449-5e68-42d8-a573-f85d29aaa35b"
      },
      "source": [
        "#Vemos el código de estado\n",
        "# 200 es que esta todo bien, 5xx o 4xx es que esta todo mal (Por ejemplo el clasico 404)\n",
        "resp.status_code"
      ],
      "execution_count": null,
      "outputs": [
        {
          "output_type": "execute_result",
          "data": {
            "text/plain": [
              "200"
            ]
          },
          "metadata": {},
          "execution_count": 4
        }
      ]
    },
    {
      "cell_type": "code",
      "metadata": {
        "id": "LyzTCE9lA0Z-",
        "outputId": "ebd2d06b-21ac-43d8-979e-9b11961ce684"
      },
      "source": [
        "#Vemos los headers que enviamos\n",
        "resp.request.headers"
      ],
      "execution_count": null,
      "outputs": [
        {
          "data": {
            "text/plain": [
              "{'user-agent': 'Mozilla/5.0 (X11; Linux x86_64) AppleWebKit/537.36 (KHTML, like Gecko) Chrome/84.0.4147.105 Safari/537.36', 'Accept-Encoding': 'gzip, deflate', 'Accept': '*/*', 'Connection': 'keep-alive'}"
            ]
          },
          "execution_count": 4,
          "metadata": {},
          "output_type": "execute_result"
        }
      ]
    },
    {
      "cell_type": "markdown",
      "metadata": {
        "id": "tgd3ifvlA0Z_"
      },
      "source": [
        "El atributo que nos interesa particularmente es resp.text, que guardan el contenido de la página.\n",
        "\n",
        "Como vamos a descargar el codigo de un sitio frecuentemente armamos una funcion para no reescribir lo mismo muchas veces"
      ]
    },
    {
      "cell_type": "code",
      "metadata": {
        "id": "ZtjjqrYdA0Z_"
      },
      "source": [
        "def codigo_html(url):\n",
        "    headers = {\n",
        "        'user-agent': 'Mozilla/5.0 (X11; Linux x86_64) AppleWebKit/537.36 (KHTML, like Gecko) Chrome/84.0.4147.105 Safari/537.36'\n",
        "        }\n",
        "    resp = requests.get(url, headers = headers)\n",
        "    return resp.text"
      ],
      "execution_count": null,
      "outputs": []
    },
    {
      "cell_type": "code",
      "metadata": {
        "colab": {
          "base_uri": "https://localhost:8080/"
        },
        "id": "dp8KOmTafohn",
        "outputId": "5220527c-3b25-4e89-f13d-fd6fd930b6ee"
      },
      "source": [
        "# Tambien podemos scrapear otro tipo de a que no sea texto\n",
        "import requests\n",
        "\n",
        "# defino la URL\n",
        "image_url = 'https://www.octoparse.com/media/7179/find-data.jpg'\n",
        "\n",
        "# Hago una peticion y guardo la respuesta\n",
        "image_response = requests.get(image_url)\n",
        "\n",
        "# Accedemos al contenido de la imagen en bytes\n",
        "image_response_content = image_response.content\n",
        "\n",
        "print(f'Este es el contenido en bytes: \\n {image_response_content}')"
      ],
      "execution_count": null,
      "outputs": [
        {
          "output_type": "stream",
          "name": "stdout",
          "text": [
            "Este es el contenido en bytes: \n",
            " b'\\xff\\xd8\\xff\\xe0\\x00\\x10JFIF\\x00\\x01\\x01\\x00\\x00\\x01\\x00\\x01\\x00\\x00\\xff\\xdb\\x00C\\x00\\n\\x07\\x07\\x08\\x07\\x06\\n\\x08\\x08\\x08\\x0b\\n\\n\\x0b\\x0e\\x18\\x10\\x0e\\r\\r\\x0e\\x1d\\x15\\x16\\x11\\x18#\\x1f%$\"\\x1f\"!&+7/&)4)!\"0A149;>>>%.DIC<H7=>;\\xff\\xdb\\x00C\\x01\\n\\x0b\\x0b\\x0e\\r\\x0e\\x1c\\x10\\x10\\x1c;(\"(;;;;;;;;;;;;;;;;;;;;;;;;;;;;;;;;;;;;;;;;;;;;;;;;;;\\xff\\xc2\\x00\\x11\\x08\\x01\\x90\\x02&\\x03\\x01\\x11\\x00\\x02\\x11\\x01\\x03\\x11\\x01\\xff\\xc4\\x00\\x1c\\x00\\x00\\x01\\x04\\x03\\x01\\x00\\x00\\x00\\x00\\x00\\x00\\x00\\x00\\x00\\x00\\x00\\x00\\x01\\x02\\x03\\x05\\x04\\x06\\x07\\x08\\xff\\xc4\\x00\\x19\\x01\\x01\\x01\\x01\\x01\\x01\\x01\\x00\\x00\\x00\\x00\\x00\\x00\\x00\\x00\\x00\\x00\\x00\\x01\\x02\\x03\\x04\\x05\\xff\\xda\\x00\\x0c\\x03\\x01\\x00\\x02\\x10\\x03\\x10\\x00\\x00\\x00\\xd2\\xf9D\\x11\\x01u\\xa0L\\xe4\\x12\\r\\x81!\\xcc\\x82*\\x88\\x80\\xaa\\x82\\x8b\\x04\\x89\\xd0\\xb0\\x0b\\x04\\n\\xa1\\xa8\\xb8\\x1a\\x8bJ$9\\xa2\\x80\\x0c\\x85h\\x0bt\\x90L\\x82\\x056h\\nA\\xb3H+(*\\xa0\\xa2\\r\\x01\\x11\\x04i\\x08\\xab9\\x90TD\\xc3\\xba\\x86\\xb2\\x11\\x84BQ\\x00R\\x0e\\x84\\n\\xca1a\\xe5\\x8ePi\\x86\\x85-\\xa0\\x99\\x8a\\x16(\\x81+\\xeb2&\\x8a\\xdd\\x08\\x07\\xda\\xa6Q\\x8f\\x99\\x1a\\xb0\\x15(\\x01c6\\x14\\xae\\xd0\\x8533ptDPT\\x14A\\x07\\xc6L\\xad\\x10@\\xcb7Y\\x00R\\xcf\\xab\\xd0\\xd5\\xe6l\\xcb\\xda\\xef\\xb6\\xf9\\xf8\\xf4\\t\\xe7\\x93\\xd0\\xc6\\x80l\\xa73:a\\xe6l\\xcfL\\xea\\xf3\\x93D\\xe3\\x8a\\xde\\x9a\\xf5n\\xa8s#\\xa6\\x9e\\x7f;\\xc9\\xc5\\x0e\\xb0s3\\xaf\\x10\\x1cH\\xd6\\xf9\\xce\\xa1\\xd2\\xe1\\x9b\\x89\\xcd\\x8e\\xb4e\\x1c\\xe4\\xc0:YJS\\x17&\\xd2c\\x9e{\\x8cnn\\xd9\\xd5\\xb4\\x98\\x87\\x9ec\\xac\\xd7C91\\xd6@\\xa55S\\xa2\\x1cJ4^Z\\x8a\\x92D\\x05\\xb4e\\x00\\x0bN\\x8fCi\\xe6|\\xcc\\x8a\\xf4\\x8d\\xbc\\x94\\xebG!:\\xf1\\xc9\\xcd\\xf8\\xe6gL<\\xcd\\x99\\xe9\\x9d^rh\\x9cq]\\xd3^\\xac\\xd5\\xe2E\\x11\\xe8\\xa3\\xcf\\xe7\\xa0\\r\\x18\\xbf9\\x99\\xd3\\nb\\x90\\xe3\\x19\\x9b~\\xafN6\\xc3\\x80\\x9e\\x8a9\\x99\\xb7\\x9c\\xd8\\xe9\\x85)L\\\\\\x95gH8Lj\\xbc\\xdd\\xb3\\xaa\\x9c\\xe9\\x87\\x00:\\xc9lh&\\x9f\\x1d\\xfa\\xbc\\xcf\\x1d\\xca\\xad\\x8e~rNZ`\\xb9\\x8c\\x12\\xcbz\\x02\\x02\\xcf\\xa3\\xd0\\xfay\\x9b,X\\xf5\\x1e\\xdaq\\xb3\\x1a\\xa1\\xb4\\x9c\\x98\\xe9\\x873:a\\xe6y=1o94NX\\xad\\xd6\\xbd[\\xabW\\\\\\x98\\xed\\xa7\\x9f\\xcf@\\x10\\x15\\x873:aJS\\x1cg\\x08\\xf6\\xf5q\\xad\\x1c`\\xf4\\xa9\\xcc\\x8d\\xcc\\xe6gL)Jb\\xe4\\xda\\x80\\xf3tE\\xce\\xf6\\xce\\xb2\\x98\\xe9\\xa7\\x01;\\xa9\\xab\\x0f8\\xf4zB\\xbc\\xa9\\x1e\\xa2\\xadXy\\xe7\\xdeU\\xea`\\xdd\\x89-\\xac\\x02\\x10\\xb5\\xe8\\xf46\\x9ed\\xc2\\xba=?\\xd0\\x1aa\\xb7\\x95&\\x80t\\xc3\\x99\\x9d0\\xf3$\\x9e\\x9b\\xb7\\x9c\\x1a\\x17<`\\xb5\\xea\\xce\\x97\\x8a\\x94\\x11\\xe8\\x9a\\xf3\\xf9\\xe8\\x03[2\\x8eft\\xc2\\x94\\xa68\\x9eXU\\xe9\\x8a\\xd3M%\\xafJ\\xb3\\xcc\\xcd\\xc8\\xe6\\x87L)Jb\\xe4\\xa8:Y\\xc2\\xe3S\\xe7{gYLt\\xd3\\x8b\\x9d\\xa0\\xd5K\\xd3\\xce\\xa7\\xa5\\xcf2\\x9e\\x9a5R\\xf4\\xf2\\xb6.N*d\\x9b$\\xcd\\xc54 -:\\xcfB\\xdb\\xe6l\\xcc<\\xbb\\xff\\x00K\\xb3\\x1c\\x08\\xef\\xa6\\x82k\\'K9\\x99\\xd6\\xe3\\x98\\x1d\\x02\\x9aqX\\xd6s=W\\xbb\\xc3d\\xab_C\\xd7\\x9f\\xcf@\\x1c|\\xe8\\xc73:\\xb1\\t\\xcf\\xce\"\\x07\\xa4\\r4\\xe7g\\xa9\\xcd\\\\\\x8c\\xe7\\'e+\\xcd\\x08\\xdaJc\\xa6\\x9c25NZ\\xed]\\xb3blG-:\\x91\\xcb\\x0e\\xa6y\\xf8\\xf4\\t\\xc0\\x8e\\xfar\\xc3\\xaa\\x1eY\\xcb\\x1b\\x9e\\xa1\\xcd\\x8bf\\xae\\xc8\\xe4\\x82\\xca\\xd1\\x9d&\\xd5Z\\x8eO\\x8b}\\xdb3E\\xad\\xee(\\x88\\xcb\\x82\\x8c\\xd9J\\xc3(\\xc95\\x96pct\\xb7U\\x8a\\xad]\\xcc\\xd4\\x8d\\xb4\\xd3\\x97i(\\xd3i\\x18iF.Y\\x86\\xc5\\xa5i\\xac\\xb5\\xbd&\\xcb&\\x93\\x18\\xd3;\\xa6\\xf5\\x91\\x1a\\x04l\\x95\\x8c]\\x9a\\xd4C\\xcds\\xd5d\\xb8\\xe6\\xbamF\\x9cn&\\xael\\xe6\\xb2l\\xc6\\x9e\\x9by\\xa7\\xe5\\x8b\\x8db7\\x16\\xcb5\\xb3g\\x82\\t`\\x84 \\xb4\\xa2\\x00\\xe0\\x00\\x1b@\\xe4\\x02P\\x19\\x00\\xa9\\xdfJ=\\x142sOi\\xf3rg9\\x9a\\xc4\\t6V\\x12\\xe4\\x10\\xe9\\x0cc\\xa5N\\xd6\\xf8Z\\xc8\\xa1D\\x03E\\x00\\x00\\x01\\xa1(\\x14\\x81 \\x00%FC\\xa9\\x83\\x8e\\x91\\xd9\\x1d\\xd0\\xe9\\xb1\\xcf:\\x0e\\xb9h\\xe9\\xa6\\x85\\xc8(\\x83\\x80\\x04\\x12\\x94T\\x04\\x95PD\\x14\\xd6:t\\xc5\\xa5\\x17:{S\\xf3\\xeb\\x9d\\xcbs3\\x9f\\x96\\x0e\\xf1{f\\xc3m\\xc7L`C\\xf9\\xab\\xf1\\xad\\x03\\xbf6\\xc9kc\\xe0\\x00\\x10\\x00\\x05\\x10\\x00h\\xe0\\x00\\xa0\\x06\\x84BC\\xa9\\x85\\x8e\\x89$\\x1a\\xd2:lw\\xca\\xa0\\x004p\\x00\\x00\\x00\\x82\\xb2\\x03@\\x02&\\xa2\\x98\\xcdk\\x1a\\xd3i\\xc2\\xcdfs\\xeda\\xc7o\\x9b\\xb5\\xc5\\xb9\\x99\\xc5\\xde7\\x86o\\xac\\xb3\\xe9\\x9c\\x0c\\xc4j\\xb3-+Y\\xe7\\xbdqs\\x996\\xb2\\x82\\xb4B\\x00\\x00\\x00\\n(\\x80\\x02R\\x89\\x084\\x84\\x850\\x1d\\x15ai\\xab\\xb2_2\\n\\x02\\n\\x00(\\r\\xd0\\x14\\x10\\xcc\\x01\\xa0\\x01\\x1b\\xa8\\xa5]\\xd5\\x1d\\xd1JM\\xcf\\xad\\xe7\\x9b\\xb6G=\\xcf5d\\xd5\\xbb9{\\xe7\\xb5\\xb3eq\\x9d\\xd31\\xea*c\\xeak\\xbc\\xaf(\\xdea\\xe93\\xa6P\\x1aH]d\\x01@\\x05\\x10\\x00&\\x90\\x06\\x84!\\x14\\xb8\\xc4&\\x1b\\xa3\\xeb\\x0byj\\xed\\x99\\xe2\\x05 \\xa0\\x00\\x00*\\x00 \\n%*\\xa4\\x80X\\x85\\x15\\xe9[IOk3\\x8fK\\xff\\x007\\xa3\\'\\x9e\\xf2e\\x99m.o:r\\xd9u\\x8c\\xbb3\\xf7\\x93Ye\\xcaYG\\xc7\\\\\\xe7s]\\xe9\\x9c\\xa6Z\\x14\\n(\\x00B\\x0e\\x95\\x02V\\x88\\x03\\x06\\x88\\xac\\x1b.9\\x15\\x98\\xd3r\\xcd`\\xf5\\xe7\\x89\\xa9\\xb9s\\xc0\\x14\\x00\\x00\\x00\\x0eD\\x00\\x00\\x12\\x95R@,C_\\xbdp)f\\xa4k+\\x9f]\\x83\\xcd\\xd2\\xc3\\x97G\\xe3Y-\\xe4\\xef7\\xfa\\xe5\\xb1\\xef\\x85\\xd7nh\\xd4\\x10\\\\\\xcc\\xe7Y\\x9di6h}3\\x9d\\xac\\xa0P\\x00\\x02\\x89\\r\\x1d(3:A\\x83D\\x95\\x02\\xd4\\x18\\x90\\x90Y\\x8c\\xdc\\x90\\xb2Vwm\\xbc\\xb9\\x1a-\\x02@\\x00\\x14\\xb9&\\x8e\\x84@-Y\\x1b`\\x19\\x1a+I%=\\xedO\\xac+RM\\xe7q\\xebs\\xe6\\xe9a\\xcb\\xa4\\xd9\\xb9{\\xeb\\x95\\xaey\\x8c\\xec\\xfd9l]\\xb8*U\\xe3Vw\\x0f\\xdek#UNg\\xd1ey&\\xaad\\x05\\xa0\\x88\\xa3[L\\x92X\\xd5 \\x10\\x00@T\\x18\\x90\\x10\\xd9\\x8a\\xe9$\\x93\\xe2\\xd5\\xf5\\x9b=\\xe2h\\xe8\\x02\\x00\\x01h\\x82\\x9d\\r@-$,\\x00 \\xd0\\xe7\\xb3\\x87\\xd1\\xd5}^h\\xb5\\xcaY\\xbb_?{\\x8f7L\\x8c\\xeal\\xdc\\xce\\x97?\\\\\\xedY\\x94\\xdczr\\x9f\\xa7:\\xde]-\\xfa\\xf0.k#P^a\\xd3\\xa6\\xe31G\\xae(\\xa8\\x16\\xb4ft\\x83U2m\\xa0\\xb0\\x00\\x00\\x82(1 \"\\xb7\\x1en\\\\\\xa7\\xc5\\xab\\xed\\xcfb\\xdf\\x10r\\x80(\\n(\\x81 \\x03\\x86\\x80H\\x06\\xc4;$V\\xf9\\xfe\\xa5f\\xf1Q\\xe8\\xf3\\x91\\x7f\\xe6\\xedk\\xc3\\xa2\\x99\\x0b6\\xb3.\\xa2\\xcewSW\\x93[\\x07n9\\t\\xad\\xe7Uz\\xc4W3\\',\\xd6\\xfa\\xce\\xfa\\xea\\xfd<4<\\xf4\\xc1\\x8a\\xc1&\\x90Jp\\x80, \\xa0 \\x00\\xd1\\x84$1\\x04\\xdeE\\x99<wQ\\xe8\\xe5c\\xd7/I\\xe4p\\xf8x\\x00\\n\\x128\\x06\\x8a j\\x00\\x00\\x04\\xbe?\\xa9\\x87u[\\xd3\\x85\\x7fN{\\x1f\\x9f\\xad\\x97\\x1e\\x8e$Yw\\xcf\\x1f\\xd5\\xcb\\x13\\x8fS\\x97l\\x8ew\\xaa\\xf6\\xe0\\xfe\\xbc\\xf9\\xcez\\xd4w\\xf2\\xed<:\\xd8\\xdci]\\xb3\\xbc\\xcb\\xb0t\\xf3\\xe8\\x1c\\xda\\xb3\\xa3!\\x01T)\\x00\\x05\\x85\\x10\\x00\\x00`\\x869\\x14E75\\xce\\x7f\\x1e\\x94^\\x8caw\\xe7+7X\\xc4\\xed\\xca>\\x1d (\\x0e\\x01\\x02\\xe5-\\x00\\x00\\x00\"\\x7f?\\xb6\\xaaz\\xf3\\xb9\\xf3\\xd7\\xbd^{\\xef7[\\x1e]\\'Y4g\\\\\\xd6z|\\xab\\xc3\\xd5\\'=b\\xf3u\\x9e\\x9c\\xac;q\\xd4w\\xb3\\xaf\\x9fp\\xe3#\\xc6\\xf5\\x0e\\x9e\\xac\\xe7\\x93cr\\x92\\xb1\\xb9j\\xaf\\xa6y^t\\xcdi\\xc0\\x00(\\x00\\x80,\\xa8\\x08\\xd1\\x0cr(\\x8f=rn3\\xb8\\xdd{\\xd3\\x9c.\\xf8\\x95\\x9b\\xacbv\\xe6\\x1d\\x12H\\x00\\x00\\xe0\\x12\\xe4\\xb5\\x00\\x05\\x01\\x05\\x17\\x97Lo?\\xd2\\xcd\\xe7\\x1b\\xber\\xe57>\\x963n\\xd3\\x1ejn\\x98\\x89k&W\\x1a\\xea\\x1d\\xfc\\xdb/\\xa7\\xcd\\xae\\xf2\\xed\\x9dq\\x9b\\xaex\\xb2\\xf3\\xfb\\xeb\\xdd\\xf5\\xc6\\xad\\x1b\\x88\\xf9vMs\\xe6\\xda\\xce\\x94\\xd2\\x88(\\xe1\\x00\\x03 [PTi\\x19\\x01\\x1cG\\x9e\\xb2\\xef\\x11\\xeb5\\xdb\\x90\\xee=\\x9b\\xacbv\\xf23$\\x01CT\\x14!d\\x04\\xd4\\x02\\x01@JA\\xd8\\xd6O\\x8b\\xe9E4\\xf6]d\\xdc\\xf7\\x93\\x9e\\xb9\\x8c\\x9a\\x90\\x90\\xb7\\x8c+;wN}\\x17\\xd7\\xf3\\xeb\\xa6\\xa2\\xcd\\x9f-WZ\\xd33\\xe9\\xdb:\\xf9\\xea#b\\xc6nz\\xf3\\xc5\\xc6\\xec\\xfa\\xf1\\xe0\\xd9\\xd8\\x12\\x82R\\x84\\x00(\\x806\\x01\\x95\\x01\\x19\\x16z\\xafNu]\\xf9\\xc8E,\\x8c\\xddg\\x13M\\xcf\\x98\\xf1\\xc2\\x8b\\n7tGL\\xa0\\xb6\\x82@ \\xe1\\xb4\\x0f\\x83\\x1d\\xa5\\xf3\\xfa\\x1b\\x9d\\xcb\\x9d\\x1c\\xf7>w\\x92\\xd4\\xd4\\x83.\\xb0\\x18k\\x1b7GR\\xf5x5\\x8e=\\xae\\xfa\\xf0\\xac\\xe5\\xd3A\\xdf[9l\\xee\\x14|\\x96\\xfa\\xe5\\x95\\xa9\\x95\\xd7\\x97\\x1a\\xc5\\xa1t$\\x02\\x9a,8\\x04\\x00\\x1b\\x00\\xca\\x80\\x8b(\\xf3\\xd6N\\x9c\\xf1\\xbd~y\\x16\\xaf\\x1d$f\\xe2g\\'\\t\\x87\\x8a(\\xa0-(\\x00\\xd1E\\x82\\x81\\x04\\x00\\x1c\\x8b\\x8d\\x1e_~Fv\\x99\\xdb\\xb1\\xa9\\xf3\\xa9\\xd7\\'l\\x0b1d\\x956\\x9d\\xe3\\xa4\\xfb<ZO\\x9b\\xd7j\\xe7\\xa9V\\xb7\\xbfM\\xa3\\x95&\\xbc\\xf8\\xad\\xe2\\xe3{67\\xb11\\xbcz<\\xa9\\xbe|\\x97;\\xd7a\\xc3h\\x1c\\x83D\\x80\\x00\\xd0#XH\\xa4\\x8f;\\xce\\xf4r\\xb3\\xf7\\xf83d\\xe7\\x9eO\\xa1#7S3\\xe10\\xf1\\xc2\\x80\\x00\\xe0\\xa4\\x14\\x02\\x12\\x94A\\x00F\\x94t\\x87\\x97\\xd77>\\xf2gi\\x8b&nSk\\xb3\\x11\\xb6C\\xaev\\xfb\\xc6\\xdb\\xdf\\xcfc\\x89M\\xc7\\xd5\\xcb\\xbd>|=\\xea\\xf3\\x8d\\xc0\\xe9\\xc2\\x04\\x9b\\x97x\\x9d6\\x9e}\\xbaW\\xa3\\xc1\\xb2\\xf6\\xe1\\xa3\\xe7|\\x8f\\x1aA(\\x1c\\x83D\\x88(\\xd0\\x10b\\xc2B\\x91M\\xd8v\\xe3i\\xef\\xf0gMs\\xaf\\'\\xbaFn\\xb1\\x9c\\x92Xp\\xa3\\x82\\x14JpP\\x10\\x08\\x02P\\x10\\x80(\\xb0q\\xf6I\\xe7\\xee\\xfc\\xd9\\xb3\\xa3:\\xb8\\xaa\\xfd\\xe3\\x1e\\\\\\xde\\x8b\\xad\\xf1\\xcb\\xd6,\\xf7\\xc9\\xdc\\xee\\xa9\\x8fG9\\xf5p\\xcc\\xb6\\xc7\\x13\\x1ee\\xb70\\xe7\\xd0\\xcc\\xdd\\x8f\\x9f~\\xb9\\xe9\\xf9\\xfb/n\\\\\\xd7\\x9fNa+D\\x14\\x00\\x07\\x00\\xd0\\x84\\x18c\\x91K\\x1b\\xa6\\x7fn.\\xf5x\\xadz]\\x1b\\xc9\\xeb{7\\x98\\xcc\\xe4\\xd0\\xe1\\xc2\\x8b\\n%\\x02\\x80@6\\x80\\xa4\\x08\\x05\\x1c,\\xac\\xe3\\xebg\\x1e\\xf3\\xe6\\xe4\\xcdI\\x8dY\\xc9S\\xbc\\xe0\\xf6\\xb3mky\\xda\\xeb\\t\\xb9q\\xe7\\xce\\xa5\\x8e\\xdaG\\xbb\\xc94\\xd4\\x99\\xdacyx\\x8b\\x0c\\xcd\\xdb1\\xdf\\xa5\\xfa\\xbe~\\xcd\\xdb\\x8f*\\xe7\\xbew6\\xd1\\x00\\x05\\x0c\\x80\\x00\\xa4# \"\\x96&\\xec\\xfby\\xb3=\\xbekX\\xe7>Od\\xb77y\\xc4\\xe4\\xd2\\xbc\\x05\\x01\\xc2\\x08\\x00(\\x80\\x01@\\x02*\\xc7t\\xde\\x1d\\xd7\\x97x\"|\\xb2\\xf1\\xd3#\\x1b\\xbc\\xcej\\xba\\xee\\xb3\\xb0\\xed\\x9b\\xed\\xe3;|\\xae3\\x9c?\\x17]\\x17SZ\\xfa^\\x1c\\xee=\"\\xe7\\xde\\xcb\\x96\\xa4\\xca\\x1b2s\\xd3k\\xce\\xba\\x07\\xa7\\xc7\\xb4\\xf6\\xe1\\xc9\\xf9o\\x9eM% \\x83\\x85\\x10XH\\x02\\xd6\\x91\\xd9\\t\\x1c\\x90\\xb7c\\xd7\\x94\\xfe\\xcf5\\x93:\\'\\x93\\xd9-\\xcd\\xe6q94\\xae\\x14QD\\x14\\x06\\x8a \\xa2\\xc0% V3u\\xb3Y|}9~~\\x859\\x9cM3y\\xeb;\\x1b\\xb9\\x8a\\xd6\\xd9K\\xdbV]yY\\xef\\x8e\\xc5\\x9eZ\\xaf.\\xbc\\xdf\\xd7\\xc3\\x03\\xd3\\xe6\\xcc\\xf3\\xf5\\xc9\\xf3z\\xed3\\xb9p\\xc7\\xac\\xec\\xefc\\xb3|\\xf4\\xf8\\xf6n\\xdcyO-s\\xb9\\xa4\\xa6\\x80\\xe0\\x00\\x82\\x10[P\\x8a\\xc8H\\xe5\\x89\\xbc\\xbe\\x9c2}\\xbek\\xfc\\xdes\\xe7\\xf4\\xcc\\x97\\xb9\\xc4\\xe4\\xb0\\xf8&\\x9c- \\xa8\\n H\\x08*\\xa0\\xcd\\xa8\\xb5\\xba\\xa2\\xf3\\x87{\\x8f/\\xa5\\xd1\\r\\xcb\\xb5q\\xdc\\xe0\\xd5\\xb1\\xe5\\xabL\\xdc\\x87I%\\xb0\\xe9\\x9b\\xady\\xef{sls+\\x9d\\x13\\xd7\\xe7\\x8fh\\xb9\\xee\\xef\\xc9\\xeb\\xbd\\xe1\\xd6y\\xac\\x13=\\xbd\\x87|\\xf7\\xefO\\x86\\xf7\\xa7>]\\x8dsi\\xa4\\x1a\\x03\\xa1\\x05\\x01!B\\x9aF@G#\\x1d\\xf2\\xfa\\xf9\\xad}\\xfeK\\xbby\\x87\\x8b\\xd7*^\\xe7\\x19$\\x90\\xf8t\\xd0-\\x00\\x80\\xe1\\xa1 \\x00\\xb8\\x1b\\xdd\\x06\\x90\\x08O7\\xb9x}\\x93cx\\xf7\\x11\\xaa!X\\xb72\\xd9c\\xcf\\xa5\\x8d\\xd5\\x86\\xf1w\\xbevW\\x9d-\\xe7\\xcd=\\x9c*\\xf7\\x94\\x8ci\\xbb\\x7f\\x1f\\xb3b\\xf3z2f\\xb0\\xd39\\xbb\\xfd\\xf2\\xdf\\xfd>\\x1b\\xae\\x9c\\xf4\\x8ck\\x8d\\xcd4@\\x08P\\x14l(\\xb4\\xd22\\x029!w\\x9f\\xb7\\x9e\\xc3\\xd5\\xe7\\xb54??\\xa2T\\xbcc\\'\\t\\xf3\\xa5\\x14QQ5]\\x9c\\x81j\\x88(\\xc2\\x83Z\\xa9\\xd5Ah\\x04\\xcf\\xe7\\xd7p\\xf0\\xfbc\\\\v\\x1eI7$Vo\\x93u\\x1e\\xb9\\x84\\xf6e\\xdb\\x8b\\xeb\\xf0\\xd0w\\xe3\\x87+He^>\\x9d\\x93\\xc9\\xeb\\xb0\\xe7\\xb6&S\\xa5\\xd9\\xbb\\xfa<[Go+m\\xf3\\x9e\\x18\\x01\\x8d\\x96\\n\\x0e\\x00\\x1a(\\x84k\\x8fs\\x11\\x14\\xef\\'_5\\xa7\\xa7\\x8d\\xf7-s\\x9c\\xf5\\x99/X\\xc8\\xc2|\\xe9\\xe0*(j\\x99\\xca\\x8bh!\\x8ak[\\xd6.\\xb4\\xb2\\x02\\xd2\\x04-f\\xf3\\xe9\\xb4\\xf9\\xbdl\\xe5d$\\x9b\\x9b;\\xc5b\\x1dG\\xeb()\\xb6\\xf4\\xc6\\x8b\\xef\\xf9\\xf8\\x9d9A\\x9b\\x1a\\xba\\xb0q\\xd7#\\x8f[\\xbf?{\\x9e=\"\\\\\\x97]\\xcb|w\\xbe\\xfe+.\\x98\\xd5#\\x82w\\xe7\\x1e5\\x95\\xc3j\\xd2\\n8\\x04\\x01\\x08\\x96\\x0b\\x98\\x88\\xdd\\xdf\\xdb\\xcbg\\xe8\\xe3o&\\x85\\xc3\\xd3*_\\xb1>\\x13J\\xe1aG\\x00\\xaa\\t\\xa8gU\\x1b\\x94\\x1a\\xd2S@p\\x00\\xd8\\x05\\xb2\\\\\\xee\\xfb\\x8f{n\\x1d\\xdb\\x9b\\x95\\x9d\\x92a\\xf4\\xcc6M\\x96N\\xa5\\'\\xab\\xc9\\x1f\\xa7\\xcd\\x1e\\xb3\\x1el#\\xd7\\x11q\\xf3\\xd3.M\\x93\\xc7\\xe8\\xb1\\xe1\\xdf\"\\xeaf\\xf7\\x9e\\x9e]\\xc7\\xb7\\x97_\\xe98/nx\\x11\\x9b\\x9b\\x93\\xc3\\xb2B\\xa8\\x00\\x02\\x11\\x11\\x11Ty\\xeb\\x87\\xd7\\x94}s\\x94\\xce&u2_1>\\x19\\x12\\xa8+\\x95@Y\\x01\\xba\\x9a\\xd6\\xb7Yb\\xda\\xa0\\x00\\x02\\x0e\\x10-I\\x15\\'\\xc7K.}-x\\xf7\\xb8\\xc6\\xf5\\xbe\\xfcq5\\x88u\\xcf\\x0b\\xa6Me\\xf72\\xeb.fAR6\\xb03\\xd6d\\xcfb\\xe3\\xc1\\xed\\xb5\\xe7\\xbb\\'L\\x94\\xbf\\xef\\xe5\\xe5>\\xbe\\x18\\x1b\\xe7\\x8fu4\\xc6W;7\\x9f\\xb8\\xa0\\x00\\x08DBCt\\xdc\\xdc.\\xbc\\xe3\\xeb2S\\x1b6d\\xbec\\'\\t\\xa5[\\xa7H\\xa0(\\xb2WoZ\\xe6\\xae8\\xea\\x05\\x01r6p\\xd1E\\x01\\x04\\x00\\x08\\x14GR\\x8c\\x14@%\\xd63nF\\x15p\\xa7T\\xcd\\xcf\\xdf\\x1c^>\\x9d\\x8f\\xcb\\xde\\xdf\\x9f\\\\\\x0e\\x98\\xd6}^ft\\xc2\\xeb\\x12\\xa2\\x8b3\\x99\\xc7\\xac\\x9cv\\x8a\\x00\\r#\\xa8\\x88ef\\xb6\\x8c\\xe3\\xea\\xb6\\xa3\\xdf)\\x92\\xf9\\x8c\\x9c&\\x95\\xd7K\"\\x80\\x1a\\xfe\\xad6\\xb4\\x88\\x0e\\xa0\\x00\\\\\\x93e\\x01\\xc0 \\x808x\\xc1\\xb0\\x05 \\x00\\n\\x04\\xda\\xcc\\xf79\\x0cb\\xce\\x98\\xf9\\xdd\\x96\\xf8\\xd5\\xe3\\xa2\\xe7sMAb\\xdc#Y\\x1a\\xc6N\\xb0\\x83\\xa6Vk7\\x8fG\\xe3i\\x90\\x03H\\xea\"\\x19\\xa8u\\xb5\\x99v\\xb5\\x87\\xac\\xb3|\\xb2\\x12\\xfb2x\\x9a\\x1c8QJ\\xadkX\\xd0\\x14]\\x14\\x00QF\\x80\\x00\\x0e\\x1a\\x00$\\x19\\x1b(\\x00\\x08 \\x0fE\\x1f\\xb9\\x9b\\xaeL\\xcd\\xc4\\xcf[\\x1dr\\xad\\xc7H\\xe6\\x80\\x01i\\xe6N\\xf9\\xbfY~M%C\\x9f[\\x1e\\x1bnt\\x96$C\\x11i\\n\\xe3^\\x91\\xeb1o\\x05\\xca\\x99){\\x99\\x95\\x12\\xc3\\xc0P5-\\xeb\\x02\\x81\\xc1\\xa2\\x80\\xe1\\xa0\\x00\\x03\\x80P\\x00\\x01!)\\x00\\x04\\x14\\x04\\x15\\x14,\\xc9\\xd4zc\\xe7V:\\xe7W\\x8e\\x91\\xcd(\\x08:\\x83\"\\xc9\\xf5\\x89\\x12#&\\xe6\\x1bd\\xe5\\xd2\\xcf\\xcb\\xd12f\\x91D\\x1a@\\xb8\\xf7m\\xd61\\xf7\\x82\\x94\\xc8K\\xfc\\xcc\\xb8\\x92\\x1c8R\\xbc\\xd4\\xbai)E\\x84\\x1d\\xa3\\x85\\x188\\x06\\x80\\n \\xf1Q\\x01@\\x18&E\\x14\\n\\x00 \\xe4)ei\\x99\\xbccf\\xc5\\x8d\\x02\\xd0$;G\\xc6OLd2\\xc1\\xe4\\xda\\xce\\x16nw.\\x99\\xde~\\x8d\\x96\\x19 \\xd3\\x1c\\xc6\\xd6\\xdbf?L\\xb6\\xe6Rs`\\xcerbXQG\\x1a\\xce\\xd4\\xf7E8(\\x1c(\\x08(\\x80 \\x82\\x8e\\x1a*(\\xaa\\xa3\\x86\\x11\\x80\\x99(\\xba \\x809\\x14EA\\xd6&k!E\\xa6\\x8e\\x84\\xd1\\xd1?Le\\xb3\\x18\\xa6^\\xb3\\x04\\x91\\xce\\x93\\xcc\\xcb\\xcb\\xac\\x1c\\xb4\\xec\\xd67\\x8d\\xad6\\xe3\\x1b\\xa6[s4\\xdc\\xf7\\x1b\\x061\\x93\\x12\\xcd\\xbc)\\x86\\x8f\\xd4\\xd1\\x07\\x0b\\x06\\x80\\x00\\x00\\xe1\\xa3\\x86\\x80\\xe0\\x14QE\\x10Q\\x83\\x00!\\x02\\x80\\x00\\x00\\x14Hl(\\xb4\\x82\\xc1\\xa2\\xc3\\xb5\\x9c\\x86e\\xd6Z\\xb96M1\\x84\\xe93*\\x89\\x9d\\x1c;\\x1c\\xba\\xe3\\xebqo\\x966\\xf2Y,\\xdc\\xf7\\x1b\\x16\\x191,(\\xe8\\xa2\\xe8\\xd6\\xf6\\x00Q\\xd0h\\x0e\\x1a(\\x80\\x00\\x03\\x86\\x8e\\x01G\\x00\\x0e#\\x01\\x06\\x89\\tK\\x00P\\x00\\x007 u\\x02B\\xe8B\\xeb2\\x99\\x1a\\xcb\\x92k$\\x92\\x11\\x1a{.\\xb1\\xb2\\xc7\\xcb\\xab8\\xf6\\x8fX\\x83y-3r\\xac\\xd8\\xf323d\\x1c`\\xe9]\\xb5uc\\x96\\x11\\x84f\\xd6!\\x98@W\\x85fFQSV\\x11!\\x8ce\\x98fh\\xc4`\\xf1-\\xc4\\xd2\\xc72\\xbc\\x88\\x8doc(\\xd6\\x056r\\xbc\\xa4.D+\\xccx\\xb8\\x85\\xd2\\xb0\\xcf\\x87\\x98Ct\\xb2\\x87\\xeb8V9-3\\xacVeYS\\x19Y\\xbe0\\xdb\\x1f.\\xb2q\\xb3\\xd5\\x8d\\xd5\\x1c\\xb9\\xb6]I<\\xaf\\x1c_tv\\x8a\\xd0\\x8eHzL\\xe2\\xe7S9\\x99\\xd7\\x06\\x1cl\\xe55\\xd8c\\xa6\\x1eQ\\xae\\xdb\\x1b\\xb9\\xa4\\x1d \\xe4Ga5\\xa2\\x98\\xb9)\\x8eC\\xa7\\xaa\\xf2\\xf3Uj\\x16m\\xb2\\xfaN*\\x8efe\\x1d\\x08\\xb3<\\xc8z\\x84\\xad\\x18yH\\xf5\\xa1\\x9ay\\x80\\xed\\x86\\xc0d\\x1c4\\xef\\xa0y[Q\\x0fUf\\xf33\\xa6\\x01\\xcc\\xce=\\xd7\\x83,\\xc7\\x9aw>\\x99\\x9cY\\xf7Y\\x11) \\xf1\\xc2\\xc6\\xe5\\xd9\\xbf\\x11\\x1c\\x00\\xf4\\xc9\\xa6\\x97\\x073:aJR\\x9c\\x1bN\\xc3\\x97L<\\xa7]H\\xed\\x11\\xa0\\x1d\\x18\\xe5\\xa6\\xdcb\\x14\\xc5\\xc9Lr\\rOVf\\xf9\\xaa\\xb4\\xfa\\xe8\\x91\\xe8\\x18\\xe3\\x86\\xaeub\\x9c\\xe9\\xa7\\x9f\\xcf@\\x1c\\xfc\\xe8\\x07\\x97OQ\\x15G\\x15:YLng3;1\\xe4\\xd2\\xb7K\\x94\\xf5Vo\\x9b\\xac\\xdb\\x97\\xa5G\\x975\\xcf3|\\xdf\\xa6>5\\x8d-\\x97>\\x969\\xb698Q\\xc3\\xa3\\x17N\\xaf\\xd0\\x1b\\xa1\\xe7C\\xd1\\xc4%Y\\xcc\\xce\\x98R\\x94\\xc7\\x05\\xd3\\xb0\\xe5\\xd3\\x0f)\\xd6\\xf4z25\"\\xf8\\xd7J\\xe38\\xa6.Jc\\x90jz\\xb37\\xcdu\\xa8V\\\\z26C\\x80\\x1dL\\xa68\\xd9\\x82z\\xfc\\xad0\\x8e\\x0ez\\\\\\xd2\\rd\\xdaK\\xf30\\xe2\\x07x\\x03\\xc7:]\\x9e\\xaa\\xcb\\xcd\\xfa\\x9blt\\xa9|\\xc7\\xd3\\x9c\\xb6Is\\x06n5\\xb9\\xbc\\xfaZ\\xf3\\xb6y\\x03\\x87\\x0b\\x15zw\\xde\\x8csb8\\x91\\xdbMP\\xb19\\x99\\xd3\\nb\\x90\\xe0\\xbav,\\xbaa\\xe5=M\\x8a_RF\\x11\\xa3\\x9b\\xc1\\xccM\\x9c\\xa6.Jc\\x90i\\xea\\xcc\\xbc\\xd3f\\xa4\\xbb\\xa1\\xd2\\xe2\\xc4\\x84\\x90\\xa7:i\\xe7\\xf3\\xd0\\x073:a\\xc6\\x8e\\xc4P\\x94\\xa4\\xe5q\\xc2kc=1\\x1eN**\\xe6\\xbd]\\x97\\x9bu6\\xf8\\xe9R\\xf9\\x87|\\xe6\\xb9[\\x11q\\xd6\\\\\\xea\\xe3\\x96\\xedpp\\xa3\\x87\\x94\\xbaz_n@u\\xe3\\x9c\\x1d,\\xe2\\xe7N9\\x99\\xd6H\\xcehqM;\\x0e]0\\xf2\\xa6\\xa4\\xf2\\xfa\\xf2(\\x8ejv\\x93\\x85\\x1d\\x04\\xa6.M\\x9a9\\x9du\\xa2\\xa0\\xf3E\\\\\\x9e\\x8a\\x8as\\\\1M\\xbc\\xbd<\\xc8z|\\xe6GM9\\xb9\\xb8\\x1a9\\xbb\\x94\\x851\\xc1+p=1\\x14\\x87\\x9fJ\\xca\\xf5|y\\xb3So\\x97\\xa5\\xc7\\x98\\xf7\\xce[\\x95\\xb1\\xab\\x02\\xaeuq\\xc7w\\x198t(\\xa5v\\x91tP\\x97\\xc6\\x19\\x98k\\xe5\\xed\\x95R\\xdc\\x08k\\xb5\\x84\\\\E\\xa1\\xaah\\x86\\xe1\\x18\\xa5q|P\\x16DD\\xe6]\\x95\\xc5\\x9c!\\xab\\xe9\\x05m\\x99\\xb6\\xa6\\x94\\x8d7ijM8\\xdc\\x8a\\xe8\\xb10\\xc9\\x8a\\xd2\\xdc\\xda9\\xebH\\xe95\\xe3961Mn\\xa26\\x92\\x82\\xb2\\x92\\xcc\\xa0\\xd6%\\xd6$\\x91\\xab\\x8e\\xd4m]q\\xd5\\xf7:\\xa3\\xa1\\xc2\\xc5~\\xda/b\\x80\\x00\\xa4\\xa8\\xc9Y\\x06\\x92\\x11d\\xea4!@\\x05@r\\xa1\"-.\\x920\\xd2<\\xe9\\xa3\\xa8\\x14p\\xedD\\x91\\x1bI1\\xb2l\\xd0-\\x02\\x0b\\x97\\xa5\\xbc=\\xf2r\\xd7\\xb6\\xe4\\x1e\\xaeT\\x1dr\\xa1\\x00j8\\x92\\x9c\\xcc\\xba\\x93I0\\x860\\x8dYq\\xd7\\xff\\xc4\\x00[\\x10\\x00\\x00\\x04\\x02\\x05\\x05\\x06\\x0f\\x0c\\x07\\x08\\x02\\x01\\x05\\x00\\x00\\x00\\x01\\x02\\x03\\x04\\x11\\x05\\x06\\x12!1\\x10\\x13AQ\\xb2\\x14\"25at\\x15 06BERq\\x81\\x82\\x83\\x91\\xa1\\xc2\\xd1\\x07\\x16#3@STbr\\xb1\\xc1\\xd2$7Uc\\x93\\xa2\\xa34CDds\\x92\\xe1\\xf0%&\\xf1\\'GP\\xe2\\xf2\\xff\\xda\\x00\\x08\\x01\\x01\\x00\\x01?\\x01\\xff\\x00\\xf0\\xd3\\xf9\\x19u\\x19\\xe44\\xce\\xfe\\x95\\xd8\\x84\\xb2\\xa9(\\x8e\\xf1\\xbb\\x9a\\xd4\\xb0\\xd3\\xc9zvH\\xee\\xd6\\x1c\\x89Ck\\xb0\\xa2P\\xdd\\xcdw*\\x1b\\xb9\\xadJ\\x1b\\xb9\\xadJ\\x1b\\xb9\\xadJ\\xf3\\r\\xdc\\xd7r\\xa1\\xbb\\x9a\\xd4\\xa1\\xbb\\x9a\\xd4\\xa1\\xbb\\x9a\\xd4\\xb1\\xbb\\x9a\\xd4\\xb1\\x9eNc;|\\x86\\xeek\\xb9PLcjQ\\x14\\x95~G^KI%\\x1c\\xc6\\xeekR\\xc6\\xeekR\\xc6\\xefk\\xb9X\\xdd\\xedw*\\xf3\\r\\xdc\\xd6\\xa5\\x8d\\xde\\xd6\\xa5\\xf9\\x86\\xefk\\xb9X\\xdd\\xedjX\\xdd\\xedjX\\xdd\\xed\\xf7*\\x05\\x1e\\xd6\\xa5\\x06\\xdem\\xde\\n\\x81\\x9c\\x88\\xcfP\\xe8\\x83=\\xca\\xc7D\\x19\\xd4\\xa1\\xd1\\x06u,&9\\xa3\\xbb|^\\x00\\x98\\xa5:\\xbb\\x10\\xec-\\xd5jI\\x05\"\\x91m6\\xd7E\\xc4\\xa5:\\xcd\\x07\\xec\\x0c\\xc5\\xa1\\xc3\\xb3\\xc13\\xd6\\x15\\x1a\\xd2\\x14i2T\\xca\\xe1\\xd1\\x06\\xb5,n\\xf6\\xb5,n\\xf6\\xb5,n\\xf6\\xb5/\\xcc7{Z\\x96\\n9\\xaf\\xac^\\x00\\x85\\xa1e4\\x9c\\xc2\\x94II\\xa8\\xf4\\r\\xdc\\xd7r\\xb1\\xbb\\xda\\xd4\\xb0Q\\xad}b\\tZVSI\\xcc\\x86\\xeekR\\x86\\xeeoR\\xc6\\xeekR\\x86\\xeekR\\x86\\xeeoR\\xc6\\xeeoR\\x86\\xeekR\\x86\\xedkR\\x82\"P\\xe2\\xec\\x94\\xc4\\xc4\\xc4\\xc4\\xc4\\xfaZ\\x03\\xae\\xd8.\\xf2\\xf6U\\x92\\'\\x8e\\xe9>r\\xbd\\xa3\\x15Qv+D\\xbeq\\xa3/\\xc7%Z\\x87\\xb1\\\\V\\x8f\\x987}\\x99\\x18\\x87\\xff\\x00\\xdf\\xb3\\x7f\\xe6\\x94\\xbf[%\\x06\\xeev\\xb1S\\xaa\\xfa\\xed\\xa7\\xcdh\\x853\\xc4\\x91\\xfc\\xd9\\xcd\\x93\\x1e\\xe7\\xbd\\xb0\\xf2~\\xb0\\xa6x\\x92?\\x9b9\\xb2c\\xb5\\x9f\\xf7X\\xa1\\xb8\\x8e\\x03\\x9b7\\xb2B\\xbd\\xfcu\\x19\\xf6\\x97\\xea\\xe4\\x8e\\xf8\\x92\\xfbYc\\xbfXTw6?_%\\x15\\xfa\\xc2_9\\x7f\\xd6\\x0e!.\\xb6\\xa6\\xd6SJ\\xcaFB\\xa8C*\\x12\\xb3\\xc6C/\\xfb\\xa6\\x96\\x9f\\xe6H\\xa6x\\x92?\\x9b9\\xb2c\\xdc\\xf7\\xb6\\x1eO\\xd6\\x0bZP\\x83Z\\xd4IJJfg\\x81\\x10SP\\xd1Mo\\x9bi\\xe4(\\xb4\\x91(\\x8cV\\xaa\\x15\\x9a)\\xf6ca\\n\\xc3N\\x1c\\x8d\\x1a\\x8c8\\xea$i\\xe4\\x15\\x1a3=E\\xb9\\x0b\\xf3\\x0b\\xf4\\x18\\xaf\\xec\\xfe\\x89\\x08\\xff\\x00r\\xb3G\\x9cU\\xa6s\\x15z\\r?R\\xdf\\x9e\\xf1Z\\xad\\xd2\\x95\\x92\\x1e\\x8dk\\xb0\\x92|*\\x14u\\x1b\\rFC\\x13\\x10\\xcd\\xd9\\xd6\\xad*\\xef\\x86\"\\xd8\\x88u\\xe6\\x9ap\\x96\\xb6\\x15e\\xc2\\xeeLV\\xfa\\r\\x95\\xc1\\xae\\x92a\\x16\\x1ek\\x87.\\xcc\\x85@\\xbf\\xa2\\x1eO\\xd6\\x14\\xcf\\x12G\\xf3g6LU\\x1e\\xb6!<}\\xb3\\x15\\xf3\\x89\\x19\\xe7%\\xb2\\xa1Tz\\xd8\\x84\\xf1\\xf6\\xcc8\\xebmK:\\xb4\\xa2\\xd1\\xd9+G)\\x98\\x89\\x80\\x84\\x8bA\\xa1\\xf8f\\xdcI\\xebH\\xa4`:\\x11N9\\x08\\x9f\\x8aQZGx=\\xf1+\\xfb&*\\x8f[\\x10\\x9e>\\xd9\\x87\\x1dm\\xab9\\xd5\\xa5\\x16\\x8e\\xc9Z<OP\\x8a\\xa3\\xa0\\xe3\\x10h\\x88\\x86m\\xc2=i\\xbcR\\xd0\\x1d\\x06\\xa5\\x9e\\x85I\\xfc\\x19\\xa2\\xd2;\\xc2\\xa4\\xb3b\\x80\\xb7\\xf3\\xae\\xa9_\\x86J\\xca\\xc4\\xabE\\x0c\\xff\\x00v\\xeaS\\xe6Y{r\\xd3<I\\x1f\\xcd\\x9c\\xd91RY\\xcd\\xd0\\x16\\xfeu\\xd5+\\xf0\\xc9^Y\\xb1IA?\\xdd\\xa2\\xc7\\x98\\xff\\x00\\xe7$\\xf2O\\xa6\\xa0:\\xed\\x82\\xfb*\\xd9VH\\x9e:\\xa4\\xf9\\xca\\xf6\\x8cQ\\x0b\\xcc\\xd6x\\x15\\xfdk>{\\xb2P\\xf0\\xf6+\\xd5\\'\\xc8\\x93?\\xf7\\x19\\x1eHf?\\xfa\\x8c\\xff\\x00\\xd4M\\xbf\\xe4,\\x951\\xdc\\xf4}0\\xefv\\xeaU\\xe9X\\xa6x\\x92?\\x9b9\\xb2c\\xdc\\xf7\\xb6\\x1eO\\xd6\\x14\\xcf\\x12G\\xf3g6Lv\\xb3\\xfe\\xeb\\x147\\x11\\xc0sf\\xf6HW\\xbf\\x8e\\xa3>\\xd2\\xfd\\\\\\x91\\xdf\\x10_k%q\\x8e\\x8b\\x86\\xa6YC1\\xaf\\xb0\\x8c\\xc1p\\x16e\\xa5B\\xae\\xbe\\xeb\\xf5\\xae\\roD\\xae \\xe4\\xad\\xf2\\xef\\xecU\\x92\\x8a\\xfda/\\x9c\\xbf\\xebdj\\x0f1\\\\\\xdc|\\xb0\\x88\\x833\\xf1\\x89I!L\\xf1$\\x7f6sd\\xc7\\xb9\\xefl<\\x9f\\xac)\\x9e$\\x8f\\xe6\\xcel\\x98\\xaag:\\xb5\\t\\xe3m\\x18\\xaf\\x9cJ\\xcf8-\\x95\\x07\\x12\\xb4&j\\xf3\\x90\\xa9\\xd1\\x99\\x8a{5\\xd8D$\\xd3\\xec\\x15\\xb6\\x14\\xe2\\xa8\\x15\\x92\\nkB\\xd2\\xa2\\xfb\\x83(L,*\\x1b\\xc1\\r \\x8b\\xc0B\\x83\\x89\\xdd\\xf5\\xd5\\x11?:\\xe2\\xd5\\xfc\\xa7\\x92\\xacq\\xdd=\\xce}e\\x8an\\xfa\\x0e;\\x9b\\xaf\\xee\\x1e\\xe7\\xbd\\xb0\\xf2~\\xb0\\xa6x\\x92?\\x9b9\\xb2b\\xa8\\xf5\\xb1\\t\\xe3\\xed\\x98\\xaf\\x9cH\\xcf9-\\x95\\n\\xa3\\xd6\\xc4\\'\\x8f\\xb6b\\xbb!k\\xa2\\xa1\\xd0\\xd7\\x0c\\xe2\\x93/2\\xb2W\\x0e\\xb9X\\xe6\\xff\\x00\\x98=\\xf1+\\xfb&*\\x8f[\\x10\\x9e>\\xd9\\x8a\\xf4r\\xa1\\x98?\\xf3)\\xd9VJ\\xf5\\xc7\\x8dsb\\xdaP\\xab\\xadfh\\x08$~\\xe8\\x95\\xe7\\xbc!\\xf9\\xc7\\xba\\xc7p\\xda\\x17\\xe75~Q]\\xd0\\xae\\x86\\xb1\\x12\\x89\\x92\\xd8{\\x84Z\\x05]\\x8e\\x8f]a\\x84e\\xe8\\xf7\\xdeB\\xc9Gen\\x1c\\xb8\\'\\x92\\x97\\x8f\\x8f8\\xfaE\\x1b\\xbd\\xfc\\xd2_Z3y\\xd3\\x94\\xad\\x1d\\xc2\\xae\\xb5\\x99\\xa0 \\x91\\xfb\\xa2W\\x9e\\xf0\\x87\\xe7\\x1e\\xeb\\x1d\\xc3h_\\x9c\\xd5\\xf9E{f\\xd5\\x14\\xcb\\xdf6\\xf7\\xde@\\x8ee\\xd4h\\x0e\\xbb`\\xbe\\xca\\xf6U\\x92\\'\\x8e\\xe9>r\\xbd\\xa3\\x06\\xbc\\xcct#\\xff\\x006\\xe9\\x1f\\xa7$\\x1b\\x16+M$\\xeft\\xcb_\\xf7\\xf9A<\\x95D\\xad\\x8e\\xc9\\x08J\\xcf\\xc3?\\xca\\x18c\\xff\\x00r\\x8a\\x7f\\xfc\\xa2}\\'\\xff\\x00\\xea\"\\x9d\\xccB<\\xefp\\x85+\\xd0=\\xcf{a\\xe4\\xfdaL\\xf1$\\x7f6sd\\xc7\\xb9\\xefl<\\x9f\\xac)\\x9e$\\x8f\\xe6\\xcel\\x98\\xedg\\xfd\\xd6(n#\\x80\\xe6\\xcd\\xec\\x90\\xaf\\x7f\\x1fE\\xfd\\xa5\\xfa\\xb9#\\xbe$\\xbe\\xd6G\\xe0 \\xe2\\x97n\"\\x11\\x87\\x95)Z[d\\xa3\\xf4\\x86\\x99i\\x8ft|\\xd3(Ch.\\xc5\\x05/\\xee\\xb2Q_\\xac%\\xf3\\x97\\xfdl\\x99\\xb4\\x9b\\xa9r[\\xe4\\x91\\x91\\x1f~^\\xc2\\x14\\xcf\\x12G\\xf3g6L{\\x9e\\xf6\\xc3\\xc9\\xfa\\xc2\\x99\\xe2H\\xfel\\xe6\\xc9\\x8a\\xa3\\xd6\\xc4\\'\\x8f\\xb6b\\xbeq#<\\xe4\\xb6T\\x13bV\\x14\\xe9\\xa7A\\xcc\\x83+\\\\\\x04kQ\\x05\\x8bk%\\x10I\\xb7\\x10\\xcaV[\\xe4,\\x89D+<^\\xe3\\xa0bU\\xd9,\\xb3e\\xe1\\x15O\\xaeh/\\x1feY*\\xbf\\x1d\\xd3\\xfc\\xe7\\xd6X\\xa6x\\x92?\\x9b9\\xb2c\\xdc\\xf7\\xb6\\x1eO\\xd6\\x14\\xcf\\x12G\\xf3g6LU\\x1e\\xb6!<}\\xb3\\x15\\xf3\\x89\\x19\\xe7%\\xb2\\xa1Tz\\xd8\\x84\\xf1\\xf6\\xcc-\\xd6\\xda\\xb3\\x9cZQh\\xec\\xa6\\xd1\\xcag\\xa8\\x83\\xb9\\xec\\xd1\\xe6,[\\xd1o\\x01H*1T\\xfb\\xbd\\x11\\xf8\\xfeL<\\x1c\\x81\\xef\\x88_\\xd91Tz\\xd8\\x84\\xf1\\xf6\\xccW\\xce$g\\x9c\\x96\\xca\\xb2W\\xae<g\\x9b\\xa7iA\\x86\\xf30\\xed\\xb4]\\x82I\"\\x19\\xf9\\xd6\\xd8\\xd6\\x7f\\xcb\\xb7\\xff\\x00\\x7f\\x98V\\x963\\xf5v/\\xea\\x95\\xbf1\\x8a\\xacs\\xac\\xb0\\x1fa{*\\xc9Kq\\xbd \\x92\\xd3\\x14\\xad\\xa3\\x0c7\\x99\\x87m\\xa2\\xec\\x12I\\x10\\xcf\\xce\\xb6\\xc6\\xb3\\xfe]\\xbf\\xfb\\xfc\\xc2\\xb4\\xb1\\x9f\\xab\\xb1\\x7fT\\xad\\xf9\\x8c2si=F\\x80\\xeb\\xb6\\x0b\\xec\\xabeY\"\\xb8\\xea\\x93\\xe7+\\xda1\\x1a_\\x01=F!\\x1d\\xcfA\\xb2\\xefv\\xd9+\\xd0\\x12\\xc1&1\\xc7\\xfb\\xb4%>cW\\xe6\\x10q\\x96\\xeb\\xa4{\\x1f\\xb8O\\xa3\\xff\\x00\\xe8%\\x89R\\x0e\\xc4wm!\\x1ecW\\xb4V\\'sT\\x04j\\xbfti\\xf3\\xdc=\\xcf{a\\xe4\\xfdaL\\xf1$\\x7f6sd\\xc7\\xb9\\xefl<\\x9f\\xac)\\x9e$\\x8f\\xe6\\xcel\\x98\\xb6\\x9e\\x87\\xd9\\xb4V\\xb5xE\\r\\xc4p\\x1c\\xd9\\xbd\\x92\\x15\\xef\\xe3h\\xce\\xfa\\xfdPN!G$\\xad&}\\xf1\\x1d\\xf1\\x05\\xf6\\xb2V\\xe8\\xc8\\xc6\\xa9\\xc6Y\\x87\\x8c}\\x826\\'\\xbcY\\x96\\x95\\n\\x03;\\xef\\xb6\\x15o<\\xa7\\x96\\xab[\\xf5\\xe3\\xc0<\\x94W\\xeb\\t|\\xe5\\xff\\x00[%\\x03\\x19\\xbb\\xa8Xg\\xfb+\\x16U\\xdf!L\\xf1$\\x7f6sd\\xc7\\xb9\\xefl<\\x9f\\xac)\\x9e$\\x8f\\xe6\\xcel\\x98\\xaa=l\\xc2x\\xfbf+\\xe7\\x123\\xceKeBD\\xb9\\xda2%\\xe80fr\\x91\\x8a\\xac\\xea\\x9e\\xab\\x90j_ri\\xf3\\x19\\x90\\xaf\\xee\\xab3\\x04\\xcfb\\xa5-^aU:\\xe7\\x83\\xf1\\xf6\\x15\\x92\\xab\\xf1\\xdd?\\xce}e\\x8ag\\x89#\\xf9\\xb3\\x9b&=\\xcf{a\\xe4\\xfdaL\\xf1$\\x7f6sd\\xc5Q\\xebb\\x13\\xc7\\xdb1_8\\x91\\x9er[*\\x15G\\xad\\x88O\\x1fl\\xc5y;\\x143\\x06Z\"\\x93\\xb2\\xac\\x95\\xbf\\xaeV9\\xbf\\xe2\\xa0\\xf7\\xc4\\xb9\\xf6LU\\x1e\\xb6!<}\\xb3\\x15\\xf3\\x89\\x19\\xe7%\\xb2\\xac\\x95\\x95\\x9c\\xfdr\\xa3\\x9a\\xee\\x92\\xde\\xda\\xb21C\\xe6i\\xf7\\xe9]\\xd1<\\xf2,f\\xecw\\xb4\\xf8\\x04[;\\xa6\\r\\xf6>q\\xb5\\'\\xceB\\xa9u\\xcd\\x07\\xe3\\xec+\"\\x9a\\xcf\\xd7%\\xb5\\xddG\\x9e\\xdeF(|\\xcd>\\xfd+\\xba\\'\\x9eE\\x8c\\xdd\\x8e\\xf6\\x9f\\x00\\x8bgt\\xc1\\xbe\\xc7\\xce6\\xa4\\xf9\\xc8C\\x9f\\xc1\\xcbQ\\xf5\\x1a\\x03\\xae\\xd8?\\xb2\\xad\\x95d\\x89\\xe3\\xbaO\\x9c\\xafh\\xc4QN\\x19b\\xae\\xbb\\x9e\\xa0 \\x95\\xfb\\xab>k\\xb2QQ\\xb3\\xaf\\x8bs\\xe7]q\\x1e\\xcc\\x95\\xd1\\xdb\\x15yi\\xee\\xd6\\x94\\xfe\"\\xa0v\\xc3\\xc9\\xfa\\xc2\\x99\\xe2H\\xfel\\xe6\\xc9\\x8fs\\xde\\xd8y?X<\\xca\"\\x18[.\\x15\\xa48\\x93B\\x8bY\\n\\xc3W\\xa8\\xa8\\x1a\\x0e\"&\\x1a\\x16\\xc3\\xa8\\xb3#\\xb6\\xa3\\xec\\x88P\\xdcG\\x01\\xcd\\x9b\\xd9!\\x1fD@\\xd2\\x967k\\x19\\xdc\\xdc\\xec\\xef\\xcc\\xbe\\xe1Xh\\xf8J6\\x9da\\x98F\\xac \\xd9\\xb5)\\x99\\xdf\\xbe\\x11\\xff\\x00\\x10_k%q\\xeb\\x92\\x1f\\x9b~+\\x14\\x07]\\xb0}\\xe5\\xec\\xab%\\x15\\xfa\\xc2_9\\x7f\\xd6\\xc9P\\xa3>\\x06&\\x04\\xfb\\x1f\\x84O\\xe2)\\x9e$\\x8f\\xe6\\xcel\\x98\\xf7=\\xed\\x87\\x93\\xf5\\x84d>\\xeb\\x82~\\x1a\\xd5\\x8c\\xf3jD\\xf5L\\xa4(\\xe8$\\xd1\\xd0\\rB \\xed\\x13e\\x8e\\xb1_]OCa\\x99\\xec\\x94\\xf5\\xaf1\\x0b\\x07\\x8c\\x85\\x8b\\xa6*\\x8f[\\x10\\x9e>\\xd9\\x8ft\\x1f\\xf0\\x1eS\\xd5\\x14\\x1cZ \\xa9\\xb8X\\x85\\xdc\\x84\\xaf|}\\xfb\\x81^(\\xaa)p\\x11\\xb4\\x83\\xeaY\\x1e\\xebz\\xd9K\\xfe\\xf2\\x8a\\xcf\\x16\\x88J\\x06&\\xd1\\xde\\xeasi\\xf0\\x8a\\x89\\x12\\x86\\xa3\\xa2!\\x97\\xc2y\\x04i\\xf0\\x08\\xc67T\\x13\\xf0\\xf3\\x96u\\xb5\"}\\xf2\\x90\\xa1\\xa0UFQLA\\xadD\\xa579\\x99r\\x9c\\xc5}\\x89F\\xe4\\x86\\x84\\xec\\xcdv\\xc5Q\\xebb\\x13\\xc7\\xdb1_8\\x91\\x9er[*\\xc9\\\\:\\xe4\\x87\\xe6\\xdf\\x8a\\xc3\\xdf\\x10\\xe7\\xd91Tz\\xd8\\x84\\xf1\\xf6\\xccR\\xf4Rif\\x19enXKo\\x13\\x87v8\\xe4\\x89\\x94W\\xba\\x0c4\\xbf\\xc3\\xb1\\xbe\\xf4\\xfel\\x90U\\x9a2\"\\xb3t1hc3\\x9dZ&Dv\\xae\\x9f.J\\x1d\\x8c\\xc5}\\xcc\\xf7.\\xbb\\xb2\\xac\\x94S9\\xda\\xfc\\xf7\\xd4}\\xe5}\\xf9 \\xab4dEf\\xe8b\\xd0\\xc6g:\\xb4L\\x88\\xed]>\\\\\\x91\\x8c\\xeezb5\\x8e\\xe5\\xd5K\\xbd0w\\x0bc8c8\\xa1>\\x91\\x87\\xe2`i&\\xa3a\\x90\\x85\\xad\\xa29[\\xc3Irk\\x1e\\xfci\\xcf\\xa2Bz\\x7f0J\\x9dv*\"!\\xe4\\x92T\\xf2\\xed\\x9c\\xb0\\x99\\x87\\x13i\\xb5\\'Y\\n6\\xb0R\\xb4d\\n!\\x19a\\x85!\\x13\\x95\\xbf\\xfeG\\xbf\\x1ao\\xe8\\x90\\x9e\\x9f\\xcc!\\xb7T,KQm\\x91\\x1b\\xad\\xae\\xdd\\xe3\\xdf\\x8d7\\xf4HOO\\xe6\\x14\\xad3IS,!\\x88\\x86\\x19B\\x12\\xbb{\\xcf\\xfeE\\x17I\\xc7\\xd0\\xce?\\xb9Xiy\\xe3)\\xe79\\'\\xca\"kM1\\x15\\x0c\\xeb\\x0b\\x86\\x86\\xb2\\xea\\r\\x07)\\xe9\\xf1\\x85\\x0fIR4.{s0\\xd2\\xb3\\xd2\\x9d\\xbeO\\x08\\xf7\\xe3M\\xfd\\x12\\x13\\xd3\\xf9\\x85#XijJ\\x05poC\\xb0Hs\\xb8\\xc7\\x19\\xeb\\x10\\xb5\\xa2\\x98\\x85\\x86i\\x84B\\xc3Yi\\x04\\x82\\x9c\\xf4x\\xc3\\xdf\\x859\\xf4HOO\\xe6\\x11\\xd1\\xd1\\x94\\xa5\"\\x88\\xb8\\xa6\\x90\\x83B,o0\\xd3\\xca\"\\x9bS\\x8d\\xd9IL\\xe6=\\xf8\\xd3\\x7fD\\x84\\xf4\\xfeaIR1\\x94\\x84j#b\\xdam\\x06\\x84X\\xdexyyD\\r \\xf4\\x05 \\x98\\xe6\\x89*q\\x13\\xe1\\xe1yH{\\xfc\\xa5~\\x8f\\t\\xfe\\xc5~`\\xc5,\\xfc=0t\\xa2\\x10\\xdex\\xd6\\xa5\\xcb\\xb1\\xdfO\\xda=\\xfeR\\xbfG\\x84\\xff\\x00j\\xbf0\\xa2\\xa9\\'\\xe8\\x98\\xcd\\xd5\\x0cH5Y\\xb3%\\xe0\"k\\x95%\\x15\\x0c\\xec:\\xd9\\x86\\xb2\\xea\\r\\n\\x91\\x1e\\x9f\\x08\\xa1\\xe9\\xc8\\xba\\x17=\\xb9\\x90\\xd2\\xb3\\xd2\\x9d\\xb2=\\x1e\\x10U\\xde\\x97?\\xf0\\xd0\\x9f\\xedW\\xe6\\x0b\\xae\\xd4\\xbf\\xcc\\xc2\\x97\\x8a\\x7f\\x98FE\\xc5\\xd2Q9\\xf8\\xb7-\\xab\\xee\\r\\xa2\\xd2\\xbc\\x01p\\xc7b\\xd6\\x17]\\xac\\xc5\\x1fZi\\x1a2\\t\\x10L\\xb2\\xc1\\xa1\\xbe\\xec\\x8ex\\xcfX\\xa6)\\xa8\\xca\\\\\\xd9\\xddM\\xb4\\x8c\\xcc\\xec\\xd8\\x9e\\x9f\\x08\\x91\\n*\\xb6\\xc7\\xd1\\xcd\\x13\\nID\\xb4\\x9c\\tx\\x97\\x84\\x1d{|\\xd3\\xbc\\xa2\\xef\\xff\\x00V\\x7f\\x80\\x8d\\x89\\x8f\\xa6_\\xce\\xc6\\xabz\\x9c\\x10X\\'\\xbc\\x1cad\\xea^\\x87]\\x87\\x11)J\\xe1\\t\\\\\\xa9&\\x13b*\\x0ftr\\x96\\xf4\\xc3\\xf5\\xda5h\\x93\\x14niZ\\xd6v\\xbd\\x81\\xd4\\xc4\\xc6\\xbc\\xe4Lb\\xed\\xba\\xadb\\x8e\\xac4\\xb5\\x1b\\x02\\x886!\\x9847\\xdd\\xe3\\x8c\\xf5\\x8aZ\\x9a\\xa4\\xe9\\x88T\\xb1\\x12\\xc3\\tJWoy\\xe1\\xe5\\x1e\\xfci\\xcf\\xa2Bz\\x7f0\\x8d\\x8e\\x8d\\xa5)\\x16\\xe2\\xe2\\x9aB\\r\\x08\\xb1\\xbc\\xf0\\xf2\\xf2\\x87J\\xd3KIi!GV\\x1aZ\\x8c\\x81D\\x1b0\\xcc\\x1a\\x1b\\x9f\\x0f\\x1cg\\xac{\\xf1\\xa7>\\x89\\t\\xe9\\xfc\\xc1\\xea\\xd7N\\xba\\x8b)C\\rr\\xa0\\xbd\\xa6(\\xf8\\xeaB\\x8d\\x8f\\\\j\\x10\\x87\\x9eYH\\xcd\\xdb\\xf1\\x1e\\xfci\\xbf\\xa2Bz\\x7f0b&6\\x1a\\x96\\xe8\\x92\\x19Fz\\xda\\x97#\\xe0\\xdf\\xe1\\x1e\\xfci\\xbf\\xa2Bz\\x7f0*J<\\xa9\\xce\\x8b\\xe6\\x19\\xcf\\xf7=\\x8f\\x06Z\\xc7\\xbf*o\\xe8\\x90\\x9e\\x9f\\xcc \\xe9(\\xf8*U\\xeaE\\xa6\\x1aS\\xaf\\xda\\x99+\\x0b\\xcez\\xc7\\xbf*o\\xe8\\x90\\x9e\\x9f\\xcc\\x18\\x89\\x8d\\x86\\xa5\\xba&\\x86\\x91\\x9e\\xb6\\xa5\\xc8\\xf87\\xf8G\\xbf:k\\xe8\\x90\\x9e\\x9f\\xcc\"\"\\x1f\\x8d\\x8fv1\\xf4%\\x0bw\\x12F\\x1f\\x88]\\xc1:B\\xb1\\x12\\xf9Dj\\xb7\\xa9OH@\\x8a\\xe0\\x94Z\\xe4\\x06\\xd1L\\x8bXN\\xf0\\xed+\\x82\\x9c\\x08\\x1f\\xc2+B\\x7f\\x00m\\x9a\\xd3$`\\x92\\x10\\xe8\\xb1y\\x05C\\xa9j\\xce\\x15\\xfd\\xf0\\xeb\\x1b\\xe9\\xcaV\\x88fm\\x97\\x07\\x90;\\x08i\\x9e\\xb0[\\xd3\\x10\\xf7\\xa4\\xee\\xb8\\x820\\xf9\\x04\\x84\\x84\\x81t\\x86\\x1c\\xbc \\xb1\\n\\xc7\\xe51.g\\x1d3,4t\\x9a\\x02S9\\'\\xce\\x12\\x82\\xb6\\x1bo8\\xf6\\xf4*\\x14\\xf0!\\x984\\xaaR\\xdf\\x19\\xc8B\\xc1\\xadI2\\x97exj\\x04\\xc9\\x134\\x02\\xa3\\xb7\\xb7\\x90\\x8a\\x81V\\xf0\\x88\\xbb)\\x0e\\x86*\\xcc\\xa5 \\xb8\\x14\\xb3\\xbd\\xb121\\x1f\\x0cl;9oT!\\xee\\xc0\\xf1 \\x8e\\x0fW\\x90\\x90\\x97HyVr\\x08;\\x82\\xf8B_\\'yvXQ\\xf2\\x0eL\\xb8\\x84\\xa7{0\\xd3rI\\x9c\\xaf1\\xac\\xb5\\x15\\xe2\\t\\x17x\\x06h\\xcc\\xad\\x16\\x80\\xcc9.%&zD$:I\\xc5+A\\xe0\\x1bo~\\\\\\x83\\xc0\\x1e+oK\\xb9+B\\xc4\\xc4K\\x16\\x90b>\\x0b?\\x0c\\xa4\\xe9 \\xc1\\x99L\\x8f\\x12\\x0c\\x1c\\xdb\\xeaR\\xeaf\\x0c\\x19\\x87\\x03g\\xbd\\x0b\\xe1\\x82\\xea\\xf3\\xea\\x11\\xc7\\xbcJu\\x9eR\\r\\x95\\xa5Hf\\xcb6%$\\x84\\xb74\\xfd\\xe1\\x82\\x91\\x04o\\xc8\\x9bA\\xe3\\xc2\\xef\\x04\\xb6E\\x18\\xd2J\\xe9\\xa2D\\x12VU\\x84\\x821\\t \\x94\\xef\\xdc<fa\\t\\x9f\\x80-\\xbb\\x83\\xado\\xcc\\xb5\\x88\\xf8]\\xcf\\x1c\\xb9\\x14\\x89W\\x90\\x85\\xb8\\x94\\x95]d\\xfa\\x94\\xba\\x99\\x983\\x06aa7$)Gh[\\xf9<w\\xc6\\x97!e\\x90e7\\x86\\x88\\x1a&\\x1b \\\\\\x82\\x0e~\\x90e%\\xb6\\xe7rw\\x84\\xa4\\x94\\x99\\x10m\\x16G\\x04\\xae\\x04{\\xc3\\x90k\\x82aX\\x07\\xd1;\\xc5>\\xd6\\xf9\\x0eO\\x906W\\xcf\\xb2\\xf9\\x04\\xf2O\\xa40`\\xf1\\xbc$<\\x9b\\xe7\\xf2\\x88\\xcf\\xed\\x07\\xde\\xcaX\\x86\\x8a\\xf0\\xd9\\xdc\\n\\xf0A)9L54\\xe0\\x18p\\x8d2X\\x852\\xe0\\x99\\x98\\xcd\\xeffBr\\xdf\\x1e\\x12\\x19\\xc5\\x92\\x0eR.\\xf8i\\xd5\\x1c\\x88,\\xceGpU\\xe2\\x9bo\\xe0\\x93\\xdf\\x17%h=}^y\\'\\xd2\\x980\\xa3\\x08\\xc0\\x1af\\x90\\xa2\\x91\\xfc\\x88\\xbaX\\xe4\\x91\\x9aU\\xe0\\xca\\x90\\xd6!\\xb2\\xb8\\x10M\\xc0\\x83e;\\xf0\\x16\\x8d\\xbeR\\x10\\xabI\\xa4\\x82W\\xbc\\x91\\xcc8\\xb3D*\\x94E9\\x06\\x0c\\xd4V\\xdd;J>\\nu\\x06\\x90\\xb9\\xe0Adw\\xdd \\xbb\\x855\\xf1\\tT\\xf4\\x87J\\xc2\\x89\\x1aHc\\x7fP\\x98\\x98\\x98\\x98\\x9fP<\\x86\\x0f\\x10\\x90A\\xde\\x17R ]O\\xee\\x06\\xca\\x16F\\x93\\x0e\"\\xc2\\x8c\\xb2\\x10a \\x8bz\\x12\\x08 \\x83(4\\xde\\x1bA)\\'l\\x8aA\\x84\\xad\\x06\\xa2A\\xcd:\\x04\\x19\\xef\\x0b9\\xa4X\\xf8\\x07\\x8b\\xbeB\\x8cF\\xf0\\x94\\xa2\\xbf@B\\x90S#]\\xf7\\x85\\x16\\xf6\\xf3\\x0e\\xa6\\xcd\\xf3\\xb8\\xc56\\x9f\\xd0\\x16x\\xd99\\x87\\x177\\x12g|\\xae\\xf0\\x08J%\\xe8\\xb8sq\\x93I\\x99\\x17\\x00\\x1fI111>\\xa8`\\xf2i\\t+\\x82H?\\xc2\\xcb?\\x92D%J\\xcd\\x9aNGq\\x08\\x86w\\xea\\x04\\x90Ex\\x85)\\xa4\\x11\\\\\\x08\\x16\\xf4\\x13\\xe4Z&7a\\x97\\x07\\xc07c\\xcb\\xba\\xcd\\xc1\\x88\\xa5X$\\xdc\\x99\\x04E$\\xda\\x91\\x9f\\x00\\xe6\\x18uNA\\xa9zTs\\r\\x917d\\xcb\\x0b\"!\\xe5\\xa1s%\\xcaGpU\\'\\x10\\x82\\xb9V\\x88\\x15$\\xe3\\x8a\\xdf\\xdc\"\\xdd\\'\\xa8\\xf7\\xcb\\xea\\t\\x91,\\x8c\\xc5]_\\x04\\xb5\\x8ab\\x0fp\\xd2\\x0bG`\\xbd\\xfa\\x04\\xc4\\xc5\\xa1hO\\xa7\\xd1\\xd3\\x980`\\xc2\\n\\xe0\\x82\\xb8?\\xc2\\x19\\xf2\\xd6\\x12\\xf1\\x18\\xb5vB\\xea\\xbazR)\\xd9Wr\\x1cq\\tp\\xa7|\\xee\\x0e\\xb4h\\xb4\\xaePE|\\x841\\x11$b\\x08\\x82PFv\\x94fD3\\xb0\\xe5r\\x12\\xa5r\\xe07\\\\\\x19\\\\\\xbc\\xe5\\xfd\\xc0\\xce,\\xce\\xe5\\xaeS\\xba\\xd8Q\\xad\\x17\\xcc\\xe4\\x19\\x89R\\xb7\\x93\\x14S\\xa4\\xeb$\\xde\\xa1J\\xc4\\xae\\x1d)a\\xbe\\x12\\x8b\\x1eA\\x12\\xe3\\xd6Mf\\xa3Qw\\xc4+\\xee\\xba\\xf1\\xb6\\x94 \\x8ee\\x8e\\x99\\x86Zu\\xb7\\t\\xb7Qfg)\\xcee1\\x1d\\x0c\\xb4Q\\xae\\xcb\\x84r/8\\xe8\\x0ck\\xf7\"\\xcc\\xa7r\\xa6(\\xaa6*\\n_\\n\\x9b]\\xe1HQ\\xea\\xa5\\x18$-d\\x97P{\\xd7$\"\\xaa\\xfd\"\\xc5\\xe9o<\\x9f\\xa8\\x174*\\xca\\xd2i=J)|\\x88\\xf2H \\xae\\x08-\\xe8\\x88\\xe1\\xe4l\\xe4\\xa0\\x83\\xbb!\\x1f\\xc8\\x9b9\\x08\\xa4|6\\xf8\\xb1\\x0bd\\x8d\\xbb<\\x80\\xd2iY\\x91\\x95\\xf3\\x0c\\x16\\xf4$Y\\x99\\x03R\\xd4\\xd6n\\xe2Ox2\\x96\\xe7ede\\xcaB*\\tY\\xc9!\\xc4\\xa92\\xd7\\xf7\\x82)4\\x96\\xcbG\\xa4\\x7fw\\xbf9\\x88r\\xf8QB\\xdc\\x81K6KZ\\x0fYJs\\x1b\\x87xh\\xb0f\\x9e\\xf8\\x82\\xa3\\x10\\xcb\\xd9\\xdb\\x07=\\x16\\x83p\\xe5bFS\\x14\\x92%F;\\xf5\\na\\x14\\xd2YA%&A\\x88\\xd8\\xc8\\x85\\x95\\x8d\\xe9w\\x83IyI9\\xbc\\xb9\\xf7\\xc4\\x9dN\\x0f/\\xce\\r\\xa4\\xc5\\x9em\\xf5[\\x9e\\xb1\\x15V\\xa1\\x96\\xca\\xb3\\t\\xcd<\\\\\\x13\\x06\\x95$\\xcd*+*#\\x92\\x8bW\\xc8\\x0c\\x1eF\\xf0\\t\\xe0\\x08\\x8e\\x1eDp\\x820\\x04\\x0b\\xa6.\\xa8A\\xc3S\\xe8\\xb1g\\x0c\\x0c6\\xe6u\\xab\\xeeV\\x07\\xdf\\x06\\x82;\\xcc\\xaf \\x92\\x91\\x02\\r\\x1d\\xd8\\x05\\xa6\\xd9LX\\x91\\xde\\x12D\\x16I\\x0eMg\\xc8\\x1aL\\xaf\\x149\\xfc\\t\\x08\\xa6\\x89l\\x94\\xf4\\x184\\xad\\xa5k \\xda\\xc8\\xcb\\t\\x18O\\x08REj\\x8d\\x89-m\\x18\\xa2\\xe8fYNqgm\\\\\\xa1\\x94\\xb4\\xcd\\xdea\\x17I%\\x8aI\\xa6IX\\xa2f\\x17J\\xb6\\xd9\\xfc!\\xc8\\x84\\x0cJ)8\\xd2q\\x83\\xf8&xG\\xdd\\x18\\x85\\x8a\\xb6\\xfa\\xdb=b\\xb3@nX\\xfd\\xd0\\x9e\\x03\\xfb_ 0`\\xc5\\xa9$&/{ \\xe2\\xad\\xaay\\x11\\xc2 \\x9c\\x01\\x02\\xc8_  \\xd9\\x14\\x82\\x90M\\x99\\xac\\xbb#\\xbc\\x18\\xd0\\x08 %@\\xc8\\x8e\\xf2\\x06\\x0e\\xfb\\xc4\\xa6\\x13p\\xa1\\xdf\\xdf\\xd8\\x0e^\\xc1w\\x82J\\xe9\\x19L\\x1d\\x96\\xcer\\xf0\\x84\\xa8\\x8f\\x01Xi$B@\\x9a;\\'\\x0e\\xc8\\x85\\xa4\"_\\xf8\\xae\\ti\\x0c\\x1cQ\\xb5\\xbf\\xb2g\\xa0*\\x87I\\xc4\\x1cB\\xdeq\\xc7\\x14w\\xccBAf\\xaf\\x91\\x18j\\x19\\x0c\\xb9\\x9di$\\x83>\\x11\\x16\\x06\\x10F\\x88\\xe5\\xb9\\x82L\\xee\\x14\\xc4&\\xef\\xa2\\\\Ap\\xc8\\xad#\\xbeCGU<\\x87\\x95|\\x00YQ\\xc2\\t\\xc0\\x10.\\x96]X\\x8eX\\x0bsI\\x91\\xe9\\xc8C\\x00\\x93\\t0J0df$DS0no\\xe4Bw\\x8a5\\xabK%\\x10D\\x96\\xc4\\xb5\\x10\\x85\\x8b\\xdf)\\xa5\\xdc\\xa4\\x9c\\x85\\xc7\\xe1\\x11\\xd1%\\x07\\r\\x9d\\xc5Fd\\x94\\x97(~\\x19\\xb8\\xd7R\\xb7\\xcdNY\\xd0zC,\\xb6E$\\xa4\\x92E\\x81\\x11\\x0c\\xebm\\xd8\\xb4e\\xbe\\x0by\\t\\xd2Cw4\\xd2\\x0b}\\xbe3\\xb8\\x82\\x1f\\x9e\\x914:W\\x86\\x9c\\xcd\\x14\\xb1H\\xa6\\xa0\\xf7\\x1d\"\\xb2O\\xc5;\\xbfG\\x87\\xab\\x18<\\xaaL\\xd3\"\\x05\\n\\xb0PN\\x1eF\\xf8A\\x00\\x81t\\x85\\xd5g\\xd2\\x10ND\\x98I\\x84\\x98\\xb4D\\x9b\\xc1\\xdara\\x1b\\xd2\\x92\\xae1\"9JB\\x88_\\xc2\\xc80\\xa6\\xec(\\x88\\xc8Rm\\x9bQ\\x1b\\xa58\\x19\\xde!^\\xb6\\x82\\x15\\x9a.\\xc6`\\xbb\\x89\\xac\\xc4<{.\\xdfn\\xcc\\xf5\\x85\\xd2\\x0c\\xb4v&\\xa5]\\xa8=\\x16\\xe4I\\xcd[\\xd4\\xa4\\xf7\\xb2\\x0fE\\xbcW\\xa9Fa\\x0bq\\n\\xce\\xa8\\xe6a\\x8a[\\x02\\xbc\\xfc\\x02\\x1a=\\xd5\\x9e\\x04\\x9e\\xf9\\x88U$\\xd2[\\xe23\\xd6\"\\xe0\\x18\\x8dE\\x87[%\\x90\\xa5\\xa8\\xa5\\xd1\\x8f\\x15\\xf6\\xd9_\\x01_\\x87V<\\x93\\x08\\r\\xe0\\x12E,27\\xc2\\x08\\xc0\\x10/\\x94\\x10HI\\x19\\x87\\tE\\x89\\x19\\x04\\x9c\\x82\\x92j\\xb8\\x88\\x8c!\\xa3Q\\xdc\\x1a\\x81|\\x8c\\x94\\xdb\\xb2\\x10iq),\\xf2\\xb1\\xe5\\x11DO\\xc3\\xad8\\xdc N\\xc2Nx\\x11^)\\xc8\\xbd\\xd3\\x12\\xa5\\xf63\\x92{\\xc4(\\xd4)\\xe7\\x9bA`S\\xf3\\x88\\xb2\"By\\x0e\\xf0\\x9b\\x88<SIr(\\x19M\\xb1\\x0e\\xac\\xdb\\xbc\\x86!\\xcd6\\xa6b\\x06\\xca\\xd0Vda%\\x80\\xadr\\xe8i\\x7f\\xaaR\\xea\\xa6\\x0f*n\\x08\\xe0\\x84a\\x91\\xbe\\x10N\\x00\\x81|\\x97H#\\x13\\xd0\\x08\\xb2Bk0\\xfb\\xeau\\xe9\\xe8\\xd0\\x13r\\x82\\n\\xebR\\xc0B0g\\x82&a\\x16\\xc9\\xeb6e~\\xa1\\'\\x0f|d\\x10\\xa5\\x15\\xc2. \\xdba\\xc4\\xcf\\\\\\x84bOz\\xbd\\x02\\x05\\xd5\\xb5\\xbeOc5`\"c\\x17\\x12\\x94\\xa34\\xcb\\x7f\\xe9\\xa2S\\xef\\x98I\\xe8\\xd4\\x17\\xc1\\xfb\\x83nL\\x8d7\\x90\\x97(\\x81bw\\xac\\xed\\x18\\xa2\\xd2\\x94\"R\"\\x1c\\xa2\\xb8/y\\n\\x8eS>\\xaa`\\xf2\\x16 \\xd4e\\x80C\\xcb-\\x01\\x98\\x9b\\xaf,\\x8d\\xf0\\x82\\x01t\\x98e.\\xa7\\xa3)\\x03<y\\x01/H\\x98M\\xe4\\x08%*\\xdc\\xea\\xb3\\xa4\\x19\\x1a\\nj\\x07\\x16\\xdaNA\\xb8\\xd3\\xec\\x12F!\\xe9G\\x98_\\x009KI\\x19\\xf3n\\xc9i1\\x0fN\\xad\\xf5o\\x1a[\\x9d\\xe4\\x83|\\xcdv\\xac\\x99LR\\x978i\\x9e\\x80\\xb8\\x82u&\\xd9\\'\\xbc\\x19?\\x823\\xd6r\\x08p\\xb3\\xd3W\\x05\\x05\\xe9\\tt\\xd4\\xf6\\xf0\\xb4\\x0c\\xd9\\xf0\\x8e\\xf3\\x06\\x84\\x93\\xc9Y\\xe08N\\\\W\\x08D\\xe0(\\xee\\td\\xad\\xff\\x00\\x1d\\t\\xf6U\\xd5O\\x0c\\xa5\\xc2\\x05\"\\xc4 \\xdb\\xe4\\r6\\x85\\x16F\\xf8A! \\xbeDAn\\xb6\\xdf\\rB\\xd9\\xa8\\xb0\\xb2\\x10\\x15\\xbcW!\\x820\\xd9\\xe2\\x0b\\x10\\xc1\\x914s\\xc0<v\\xce\\xe3\\xde\\xe8\\x0bo\\x19\\x94\\xc3P\\x84no\\x14H0\\xd5\\x1a\\xe2\\xb1y~p\\x8a-\\x0b\"#\\xdf\\x17\\xd70\\xdc:Z2&\\x8b\\xd8#\\xd7ev\\x13\\xa0\\xaf\\x11\\xce\\xf0\\xa6\\t\\t\\x99\\x14\\xef\\n\\x91\\x9c\\x82\\x92n*\\xc1`A\\xb6\\x88\\xa4$fr\\x9d\\xc1i;\\x131\\x0c\\x99\\xacB\\xdc\\xa2\\x10\\\\\\x10\\x9c\\x05n\\xfe\\xd3\\r\\xf6\\x15\\xd5\\x8f!N\\xd0\\x95\\xa9\\x90L<\\xc3,\\xad%vF\\xf8A8\\x04\\x82\\xf9\\x0b\\x91\\r7\\x8a\\xa6z\\x88\\x1cK\\xcf\\xaa\\xcbed\\x83L\\x127\\xc7z\\xb5\\x98\\x96\\xf4\\x15\\xc6\\x14V\\x8aF\\x12fG#\\x08V\\xfb#&V,\\xeb i\\x91\\x99\\x1e\\x81+\\xc1&\\xfc\\x03Q+I\\xcb6\\xb3\\r\\xbc\\xb3T\\xb3\\x0b \\xca\\x0c\\xaf1\\x14v\\xdc3<t\\x88\\xc7s\\x8e\\x9ayo\\x04ZyA*gpf\\xebA\\xb1d\\xcc\\x83\\x84x\\x08D\\xeff\\x18N\\xfcA\\x94\\x88\\x820\\x15\\xc3\\xfbd7\\xd8>\\xa7\\x8eC\\x06\\x0f\\x00X\\x89\\x99`\\x10\\xeb\\x85\\xa01\\x13$^\\x8c\\x8d\\xf0\\x820\\x05\\x8f\\xc8\\rD\\x94\\xcc\\xceA\\xf8\\xc3V\\xf5\\xbb\\x93\\x92\\x06F\\x95\\x16\\x90I\\x12\\x98Q^\\x088\\x99\\x82Q\\xa0\\xef\\t_\\x984\\xec\\x8aaFK\\xdf\\x04\\xb5\\xbe\\r6\\x9b\\x83,\\xa7I\\x10K)\\xb30\\xf9\\x93p\\xcb>AHE\\x13HT\\xb8Z\\x04\\xcbX)\\x1c\\xc4\\xec\\x99\\x1e\\xa0\\xc4\\x8e\\xfda\\x08)\\x02@}3Q\\x10\\x87!\\nSX\\x86+\\x88\\'\\x01\\\\\\x13\\xf0\\xb0\\xab\\xef\\x97U0`\\xc2BU,Ckl\\xc3(l\\xd3\\x91\\xbe\\x18N\\x01=[@~)-]\\x89\\x87\\x1e[\\xbc#\\xca\\xd3\\x86\\xd3\\x84\\xa2\\x0c\\xad.\\xa2\\xdap\\x04Ae#\\t\\xd6\\x0c\\xb4\\x8c\\xd9(XSx`\\x10\\xe9`\\x12\\xe5\\xd8\\x86\\xde\\x9aD;\\x89+\\xa6\\x1b}\\x04X\\xcc&%<\\x82\\x95\\xa4\\x12\\xdc4\\x8dW\\xa8\\xc2\\xd6\\xa7\\x8c\\xd4\\xa9\\xf9\\x82\\x8aX\\x14\\x8bD\\xc1\\x97\\xa4\\x19\\x083\\x9b|\\xa4\\x10e/\\x00\\x9c\\xc8\\x19M\\xd0\\xdd\\xc2\\x0b\\x11\\t#HH\\xadP\\xc6\\xf5\\x19\\x9d/\\xeeUk\\xc1\\xd5O!\\x82\\x04\\x9bF\\x11\\r<\\x0c6\\xc2\\xc8\\xae<\\x8dp\\x82p\\x05\\xd5L\\xc9%39\\x08\\x88\\xc3^\\xf5\\xbc\\x068\\xf4\\xb0\\xd1\\'\\x0e\\xadi\\xd2A\\x0bK\\x88\\xb4\\x83\\xb88W\\x02\\x1c\\x81\\x00\\xc8-\\xa2\\x9c\\xc7\\xc2\\'\\x0b\\xc2^RO\\x82\\xaf\\x01\\x04D\\x9c\\xb4\\xf2\\x82\\x8dZn$\\x06\\xe2\\x9fqd\\x86\\xcaJQ\\xdd\\xa4S\\xed%\\x9aQ\\xb6\\x13\\x8bm\\x15\\xb5O\\x15\\x18;\\x89S\\x9aJXb0L\\xb1\\xd4\\x0b\\\\\\xc2\\xcb\\x900\\xe6i\\xceC\\x08t%\\xc2T\\xa4\\x14rt$\\xc4*\\x8b\\t\\x88\\x17{\\x13\\t;\\x83\\x88K\\x8d\\xa9\\n)\\xa5E#\\x11\\xf0\\xab\\xa3\\xe3\\xdc\\x84s\\xb1=\\xe1\\xebOU0\\xa0B\\xd1\\x92\\xae\\r\\xbe\\xb29\\xc8\"/y\\xc1\\xc8\\xd7\\x0c\\'\\x00@\\x81e\\x97N\\xfb\\xe9e7\\xe3\\xa0<\\xfa\\xde;\\xf0\\xd5\\xd4!\\xe2W\\x0e\\xab\\xafN\\x92\\x08y\\xb7\\xd16\\xcf\\xbf\\xc8%#\\xc8\\x90E2\\x90Rw\\xd3!\\xe0\\t^\\x830g<\\x02S1B0\\x85\\xc6\\xcdg$\\xb4V\\x8cFD\\xee\\xeaF\"0\\xe5\\xf0\\xaa\\xde\\xcfPY\\x14\\xac\\x99\\x1aF\\x9b:\\x01i\\x06S\\x0b\\rD\\x1a.U\\xe4!\\x9fI\\xae\\xe3\\x9c\\xc2\\xd3i\\x13HJ\\xe5\\x88C\\xc6J\\xd31\\x03\\x19;\\x8e\\xe3\\x10\\xce\\xcd%<\\x94\\xd5\\x14\\xd4|*\\xed\\\\\\xb4\\x14\\xd0\\xb2\\xecB\\x92\\xbc\\xd1\\x19\\xcd+\\x99\\x91\\xf2\\x84;\\xa0\\xfa\\x91\\x83\\x06\\x12\\t\\xc2J\\xaf\\r\\xc4\\xb4\\x13\\x12\\xc5\\x9d\\x19\\x1a\\xe1\\x04\\x82\\xeaX^\"#lo[\\xc4)F\\xb5MG3\\x12\\xe9\\xcb\"\\x1cSj\\xb4\\x93\\x91\\x86c\\x90\\xbb\\x9c\\xde\\xa8\\x15\\xe9\\xd6@\\x8eW\\x04\\x9d\\xc1y\\x0c\"cz\\xd9ZQ\\x91\\x17(\\x8a\\xa4L\\xd0l\\xb0fHU\\xcaV\\xb2\\rH\\xca\\xc9\\x1c\\xa7\\xa0\\xf00\\xa5[\\xb97\\x03ZN[\\xd9]\\x7f.K\\xe5\\x80Y]\\x91\\x9b\\x95\\x8c\\xb5\\x88w\\xfb\\x05b\\x12da$\\x10\\xbb\\x0b\\xb5\\xa4Q\\xd1\\x93N!\\xb5\\xccS\\xf4\\xa2 `\\x14\\x94\\xfcs\\x85$\\x90\\x9e\\xf6G\\x8aJj\\x99\\x84\\x19Z\\xbc6\\xa3\\xef\\xf5\\x13\\x06\\x0f\\x00\\x90\\xef\\x08\\x16 \\xb0\\xc8\\xd7\\x0c\\'\\x00\\x90]AKB\\x08\\xcdG!\\x13\\x16n\\x9c\\x93rzyd\\x97J\\xdb\\xee5\\xc0T\\x82i\\t\\xfcb<$!\\xe2\\xdbWg\\xe7\\x04h4\\xf0\\x93\\xe7\\x0fE\\xa1\\xb5\\xa9%|\\x8c\\x1cy\\xf6( q\\xcf\\x9d\\xc4d^\\x00\\xa5)w\\xa9Fy\\'q\\x92U J# \\x9d\\xf0\\xb3!\\xd8\\xe3\\xa4(\\x86\\x01\\x18\\x87\\x14h\\x92\\x93\\xdf\\x0c\\xbcJA/Xis\\x04EfB\\x19\\xec\\xca\\xc3\\xf4\\xe2!\\x18\\xb5\\xa4EG\\xae9\\xe5\\xbc\\xff\\x00\\n{\\xdb\\xf0\\x0e+zh\\x9c\\xf4\\xcc#IJ\\xf0S\\xc0\\xc2\\x17\\xae\\xee\\x9c\\xc1\\x83\\n\\xc0 9\\xc2\\x04\\x12y\\x1a\\xe1\\x04\\xe0\\x08\\x17N\\xfcZY\\xde\\x95\\xe6\\x1duO*\\xd2\\xba\\x9f\\xa4\\x10\\x96\\x81+\\xe4$$$%\\xca%t\\xf2r\\x8dbf1\\x1d\\xe0\\x95\\x1e\\x1a\\x04\\xed\\x17t\\x13=@\\xf7\\xc5)\\x07\\x10e|\\x83| \\xa2#n\\xf3\\x0c<m\\x1d\\xfc\\x13\\xc44\\xe9\\x1d\\xe99\\x86\\xdf\\xde\\xde\\x1f\\xa4\\x9bo\\x83z\\x83\\xcf\\xad\\xe5Zt\\xef\\x9d\\xdc\\x81N\\xefl\\xc8\\x82Rvmh,D\\x8b\\x12\\x06e\\xa2\\xe1}\\x93=A\\n\\x9fN`\\xc2\\xb0\\t\\xc0\\x19$\\x1aK+<0\\x8c\\x01\\x02\\xe9\\xa2\\xa3U3Cg$\\xf5\\x12\\xcb\\xae\\xf1\\xde\\x05,\\x97\\x89\\xdd!2\\xb51t\\xa4\\'\\xe8\\x13\\xc4O\\xa7#2\\xc2A\\x0e^W\\x03I\\xa6\\\\\\xa1s\\xb3\\x88Ao\\xb1\\x17\\x1b`\\xf1\\xc4%F\\x93\\xb8\\xe4\\r\\xf7U\\x8a\\xccLZ\\xd5\\x91\\xb5\\x03,\\x0es\\xd6&\\x0fQ\\xe8\\r\\xa8\\xc8\\x13\\x89\\xc2}1\\xe40G \\x97\\x08\\x8e\\xf2\\nq\\x06\\'\\x91\\x9e\\x18N\\x01 \\xbaX\\xe7l5d\\xb1WS)\\xe4!\\xf8\\x8db}F]!k\\x04r\\xbc\\x11\\x9e\\x13\\x13\\xd6aW\\xa4\\'z\\xb20\\\\\\x03\\x0b\\xe1\\x1c\\xbab0G\\x89b\\'\\x883\\x9a% \\x99\\xa7\\x1b\\x83\\x93V\\xfaX\\x06\\xde\\x95\\xc6s\\xe9\\xd4cHVS\\x0c\\xf0\\x82Br\\x17I\\x16\\xeeq\\xeb\\x8e\\xe4\\xe1\\xd4\\x0b\\xa4\\xe4\\x1a\\x81a!\\x85\\xc0\\xa5\\x93M\\xe0\\xb4\\x97P<\\xb8\\t\\xde3\\xa7,\\x05\\xad\\xec\\xee\\x98\\xbaa\\xa3\\x9ae0\\xbe\\x19\\xf4\\xc4a\\x05h\\xc5\\xf3\\xb8\\xe6&D\\x9eQ\\xcb9\\xe8\\r\\xca\\xf9\\x87\\x13\\xa44\\xbb;\\xd3\\x05#,D\\xb2\\x19dXN!yL3\\xc2\\t\\xc0\\'\\xa5\\x8cw4\\xc1\\xc8\\xf7\\xc7\\xd4%t\\xf2re\\xc0\\x17|}\\xf9\\x08\\xa5\\xca0\\x98\\xe5\\x12\\xbb$\\x84\\x8f\\xa7\\xd1\\x94\\x8f+.K\\x1c\\x03\\x9c3\\xe9\\xc8\\x11on0\\x92\\xb4\\x0eErO\\x012%\\x15\\xd2\\x0b)\\xa6W\\x03I\\xa6\\xfda\\x977\\xb2=\\x02\\xd1\\x1e\\x90`\\xf29\\x80H^S\\x0c\\xf0\\x82p\\t\\x05\\xd2R\\x0b\\x9b\\xf6;\\x9e\\x96}!\\x02)_\\xd2\\x16Yrd0W\\x82\\x96\\xac\\x9d\\xe2\\xeaE\\x94\\xba\\x81\\x04\\x9c\\xbb\\xc12\\xb2\\xa3\\xf0\\x83.A\\xaaz\\x05\\xd6J\\xf9\\x85&\\xd7(A\\x91\\x1e\\x03\\t\\xc8\\xe4\\xa0\\x95Z\\xbaW\\x90\\xb7|\\x81\\x18p\\x10VS\\x0cp\\x820\\x04\\x0b+\\x8a\\xcd\\xa0\\xd7\\xdc\\x90R\\x8dj5\\x1e\\x9e\\x9b\\x97\\xa4 E\\x92r\\xd1\\xd2\\x10L\\xb4\\x8d\\xec\\x81\\xcb@\\xe4,\\x97\\x11\\x1d\\xf9%.\\xae]5\\xa9\\xf2\\t\\x97(O\\x08\\x11\\xe3\\xec\\x1a\\t^nC\\x0b\\xc2s\\x98)\\xa9\\xb9\\x92\\xa7!/8\\xb3l\\xaf\\x94\\xc2\\x0c\\x83\\x98\\x02\\n\\xca\\xa0\\xc7\\x08#\\x00\\x9e\\x92\\x92wzM\\x91\\xf5>\\xf7K\\xc8\\x08w\\x8c]\\xa7\\'xi\\xc4r\\x83+\\xa7\\x93\\x10e.\\xac@\\xfaT\\x99\\x02\\x05v$\\x13\"\\x91\\xcc\\x14\\xb0\\nN\\x9b\\xc2OP\\xc0\\xf0\\x91\\x05\\x11\\x96\\x1a\\x01\\xdeC\\x12\\x90\"\\x06\\x931\\x9bQ\\xe0C4\\xbdY\\x18\\xe1\\x04`\\x0b.}\\xf5\\xc4\\xa9\\x88hE\\xbe\\xb4\\x94\\xcc\\x91y\\x87\\xe8\\xdaU\\xf7-\\xf4./\\xf8*\\xf6\\x07\\xe0#!Qn&\\x11\\xe6RwMm\\x99\\x06Yv!\\xd2i\\x96\\xd4\\xe2\\xd5\\x82PS3\\xf0\\x03\\xa2i$ \\xd4\\xba>)$X\\x99\\xb2\\xa0\\xc43\\xf1K4C\\xb0\\xe3\\xcb\"\\x9d\\x96\\xd3h\\xc2\\xa8\\xbaE\\xb4\\x1b\\x8b\\x80\\x89JSy\\xa8\\xd9T\\x881\\t\\x15\\x17ksC<\\xfd\\x9e\\x16m\\x06\\xa9\\x0e\\x83\\xd2\\x9f\\xb3\"\\xff\\x00\\x80\\xaf`r\\x029\\x84\\x99\\xbb\\x06\\xfa\\x0bZ\\xdb2\\x05)\\r\"\\x1e\\x12*.\\xd6\\xe7\\x86u\\xfb\\x1c,\\xda\\rR\\x0b\\xa2\\xe9\\x14!K\\\\\\x04JR\\x92\\x99\\x99\\xb2\\xa9\\x10#\\xd2\\x18\\x81\\x8c\\x8aE\\xb8xG\\xdeI\\\\jm\\x06e\\xe8\\x0e\\xd1\\xd1\\xec6n\\xbd\\x03\\x10\\xd2\\x0b\\x15-\\xa5\\x11\\x08xH\\xa8\\xbb[\\x9a\\x19\\xd7\\xac\\xf0\\xb3h5H*\\x8b\\xa4[A\\xadp\\x11IJo36TDB\\x1e\\x19\\xf8\\xa5\\x9a!\\xd8q\\xe5Jrm&\\xab\\x87B)_\\xd9\\x91\\x7f\\xc0Pj\\x02=\\xf4\\x13\\xac\\xc1D:\\x83\\xc1hh\\xcc\\x83\\xf0Q\\x90\\xa8\\xb7\\x11\\x06\\xfb);\\xa6\\xb4\\x1aK\\xd2\\x19\\xa3\\xe3\\xdfA:\\xc4\\x0cC\\x88<\\x16\\x86\\x94d\" \\xe3!Qn\"\\r\\xf6\\x93;\\x94\\xe2\\x0c\\x88%*Z\\xd2\\x84$\\xd4\\xa5\\x1c\\x89%\\x89\\x98\\xe8M)\\xfb2/\\xf8\\n\\xf6\\x07\\x9au\\x97\\x94\\xdb\\xcd\\xad\\xa5\\x94\\xa6\\x95\\x94\\x8c\\x86\\x99L\\x1d\\xc2\\x12\\x83\\xa5#\\x91n\\x1e\\tjGu\\x81zC\\xd5f\\x9aa\\x16\\x97\\x00\\xbf\\x10\\xc9_p9\\x91\\xc9E#-\\x00\\x88\\xcc\\xe4E3=\\x01\\xaa\\xb1M<\\x8bh\\x80_\\x8ciO\\xde#(\\x8aF\\x8f)\\xc5B-\\t\\xee\\xb1/>N\\x83\\xd2\\xbf\\xb3b\\xff\\x00\\x80\\xa1\\xd0\\x8aL\\xbb[\\x17\\xfc\\x05\\x07Yu\\x85Yy\\xa5\\xb6z\\x96\\x99dE\\x17H\\xad\\x04\\xb4@D\\xad*)\\x91\\x93*\\x90\\xe8=+\\xfb6/\\xf8\\n\\x0bJ\\x9bZ\\x90\\xb4\\x9aT\\x93\\x91\\x91\\xe80\\xd5\\x1b\\x1e\\xfbd\\xeb\\x10Q\\x0e\\xa0\\xf0R\\x1a3#\\x1d\\x07\\xa5\\x7ff\\xc5\\xff\\x00\\x01A\\xe8h\\x98\\x7f\\x8fa\\xd6\\xbe\\xda\\x0c\\x83M9\\x10\\xe94\\xcbjqj\\xc1()\\x99\\x8e\\x84\\xd2\\x9f\\xb3#?\\x82\\xaf`\\xe8U+\\xfb23\\xf8*\\xf6\\r\\xf2T\\xa6\\xd6\\x93J\\xd2r4\\x9e$c|\\xa5!\\r\\xa4\\xd6\\xb5\\x1c\\x89$W\\x99\\xea\\x1d\\x0f\\xa4\\xff\\x00d\\xc5\\xff\\x00\\t^\\xc1\\x98\\x8dq\\xf5C\\x94\\x1b\\xe6\\xfa\\njl\\x90v\\x8b\\xc0:\\x1bJ~\\xca\\x8c\\xfe\\n\\xbd\\x83pR\\xdf\\xb2\\xe2\\xff\\x00\\x80\\xaf`y\\x88\\xc8D[\\x88\\x82}\\x94\\x1d\\xd3Z\\r$%+\\x88\\xee\\x06S\\x1ao\\tL\\xcc \\xb7\\xf2\\x16S,\\x01C\\x86X\\x91\\x84\\xa6BBBB\\xa5#9J\\xc7\\xbf\\xdc\\x95\\x9f9\\xff\\x00\\xc6J\\xe2\\xc6v\\xae\\xba\\xaf\\x9aRW\\xf8\\n\\xa3\\xd74\\'\\x8f\\xb0aDJI\\xa4\\xef#\\xc4UHM\\xc3[#a~i\\xa5\\x97\\xf3$S<I\\x1f\\xcd\\x9c\\xd91\\xee{\\xdb\\x0f\\'\\xeb\\x07\\x9eC\\x0c\\xad\\xe7\\x0e\\xca\\x1bI\\xa9G\\xa8\\x880\\xfbQL%\\xe6VKmw\\xa4\\xc8Wj)\\x98l\\xd4{\\x08$g\\x0e\\xca\\xc8\\xb5\\xeb\\xc9\\xee}\\xdb\\x0f\\'\\xeb\\ng\\x89#\\xf9\\xb3\\x9b&\\x08T\\x17\\x7fC\\x8bg\\xb9Y+\\xce)\\xf4gh\\x08\\xd2\\xfd\\xc9\\x9f\\x98T\\x04~\\x85\\x16\\xbf\\xaeD)\\x14gh\\xd8\\xa6\\xfb\\xb6T^\\x81P\\x11\\xfaLb\\xf5!$#]\\xcc@D=\\xdc4\\xa5z\\x05Q\\xebb\\x13\\xc7\\xdb1_8\\x91\\x9er[*\\x15G\\xad\\x88O\\x1fl\\xc5|\\xe2Fy\\xc9l\\xa8Q\\\\uG\\xf3\\x86\\xf6\\x8b%k\\xeb\\x9e3\\xc4\\xd8!\\xe1\\x15b\\x01\\xaaB\\x9bB\\x1e+hm6\\xcd:\\xc1\\x14\\x8aD(\\xeaI\\x8aM\\x85\\xbd\\r;)Y\\xa2\\xfeA^\\xa0\\x1aJ\\x19\\x8fB$\\xb3]\\x85\\xf2\\x8a\\x93D\\xb4P\\xbd\\x12q3ug&\\xf9\\x08R4\\x8b\\x14[\\x04\\xfcE\\xab&\\xb2E\\xdc\\xa1hK\\x884-$\\xa4\\xaa\\xe3#\\xd2+\\x1d\\x1e\\x8a6\\x98u\\x86\\xbe(\\xf7\\xe8\\xef\\x1eC\\x8d\\x87LiA\\x1b\\xa5\\x9f4[$k!\\x1f\\x00\\xc5#\\n\\xa8h\\x94ZJ\\xbd\\x1c\\xa1\\xf6U\\x0f\\x10\\xe3\\n\\xc5\\xb5\\x9aO\\xc0!\\x19\\xdc\\xf0l\\xb3\\xf3m\\xa5>b\\xc9Y\\x98\\xccV\\x18\\xc4\\xeb]\\xbf=\\xe2\\xa8\\xf5\\xb1\\t\\xe3\\xed\\x98\\x8d\\x8e\\x85\\xa3\\xdbK\\xb1of\\x90\\xa5X#=am\\xb3\\x16\\xc1\\xa1iC\\xad,\\xb0;\\xc8\\xc5\\x15\\x04T}|L\"x(R\\xe5\\xde\\xb0yiN:\\xa49\\xca\\xf6\\x8cQ|w\\x01\\xceQ\\xb4Y \\x7fXT\\x8f6/S-|\\xe2Fy\\xc9l\\xa8z\\x01\\x97(\\xe40\\xca\\xa4\\xab&\\x0b\\x86\\x0f\\x02\\x04\\x82\\x04\\x92!,\\xa6r#1Q\\x1b\\xff\\x00\\xc6\\xc4\\xbf\\xdd\\xbd\\xf8\\x08\\xa7\\xf3O\\xc2#\\xe7^4\\xff\\x00\"\\x8f\\xf0\\x14\\xbb\\x1b\\xa6\\x88\\x8bg\\xbaeR\\xf3\\n\\xa3\\xd7<\\'\\x8f\\xb0y\\n\\x0f3[\\xb7Q\\x7f\\x7f\\x06s\\xef\\x92\\x93\\xff\\x00\\x02\\x99\\xe2H\\xfel\\xe6\\xc9\\x8fs\\xde\\xd8y?XS<I\\x1f\\xcd\\x9c\\xd91T\\xba\\xd9\\x84\\xf1\\xf6\\xccW\\xce%g\\x9c\\x16\\xca\\xb2{\\x9fv\\xc3\\xc9\\xfa\\xc2\\x99\\xe2H\\xfel\\xe6\\xc9\\x82\\xb9\"\\xa0\\xbb\\xfa|[=\\xd3v\\xbc\\xc6\"\\x9b\\xcfB<\\xd7v\\x83O\\xa0TTY\\xa1\\x16\\xae\\xed\\xf3\\xfc\\x02\\x93i&\\x93\\xd2B\\xa1\\xb3b\\x0e1\\x7f\\xbd\\xb1\\xe6\\x15\\x91\\xdc\\xcd^\\x8dW\\xd4\\xb3\\xe7\\xb8U\\x1e\\xb6!<}\\xb3\\x15\\xf3\\x89\\x19\\xe7%\\xb2\\xa1Tz\\xd8\\x84\\xf1\\xf6\\xccW\\xce$g\\x9c\\x96\\xca\\x85\\x15\\xc7P\\x1c\\xe5\\x1bE\\x92\\xb5\\xf5\\xcf\\x19\\xe2l\\x16J\\x90\\xb2*y\\xcf\\xac\\xc1\\x97\\xa4\\xb2\"**\\xa74\\xeb\\n\\x80\\xdd\\x0c-\\xe3Z\\x1f%\\xc8\\xbb\\xd8\\nv\\xb4tn\\t0\\xdb\\x8f3ev\\xedgg\\xa0\\xf9\\x05Q\\xebf\\x13\\xc7\\xdb1_8\\x91\\x9er[*\\xc9^\\xf8\\xed\\xaen[J\\xc9\\x13\\x06\\xfb\\x95\\xda\\x0e(\\x9aVa\\xa8}\\xf2\\xf4vy\\x16\\x82\\x8b\\xadjBpv4\\xf6\\xf2@?\\xba\\x18R\\xff\\x00|\\xe2|\\xcb2\\x15\\xed\\x8b\\x14\\xc3O|\\xe3?p\\xaa=lBx\\xfbf+\\xe7\\x123\\xceKeB\\x88\\xe2h\\x1en\\xde\\xc9\\x0f\\xfe\\xe6\\xff\\x00\\xdf\\x99\\xc9Lq\\xdc\\x7f9sh\\xc29\\x05\\x15\\xc7T\\x7f9F\\xd1d\\xad\\x08\\xb7Z#<M\\x82\\x15\\x07\\xb6>O\\xd6\\x14\\xcf\\x12G\\xf3g6L!\\xa4)\\x1339\\x98M\\xcb\\xbc\\x1d\\xe1Ex\\x9d\\xe1\\xa3\\x99\\xcc+\\x82B],R\\xac\\xc2\\xb8\\x7fTU\\x16\\xb3Uq\\x8f\\xafi^\\x91N?\\x9a\\xa5(t\\xf7Q\\'\\xf7K\\xd6\\x06S)\\x18\\xab\\x8c\\xe6+\\x93L|\\xda\\xddO\\xf2\\xab$\\x92\\xa3%\\xe3u\\xc6)\\x9e$\\x8f\\xe6\\xcel\\x98\\xf7=\\xed\\x87\\x93\\xf5\\x853\\xc4\\x91\\xfc\\xd9\\xcd\\x93\\x15G\\xad\\x88O\\x1fl\\xc5|\\xe2Fy\\xc9l\\xab\\'\\xb9\\xf7l<\\x9f\\xac)\\x9e$\\x8f\\xe6\\xcel\\x98,\\x05Lv\\xc5bB~q\\nNJ\\xb6\\xc6\\xe7\\xa2l~\\xf9\\xdfB\\xcc\\x84$Bb\\x9a5\\xa7B\\xd6\\x8f\\xf6\\xa8\\xcb\\xf0\\x15m\\x8c\\xc4\\x14O,[\\xbf|\\xbf\\x01]\\x9d\\xb1@\\x1a>q\\xd4\\xa7\\xf1\\x15G\\xad\\x88O\\x1fl\\xc5|\\xe2Fy\\xc9l\\xa8U\\x1e\\xb6!<}\\xb3\\x15\\xf3\\x89\\x19\\xe7%\\xb2\\xa1D\\xf1\\xd4\\x079F\\xd1d\\xad]tFx\\x9b\\x041\\x10\\x91n\\xc0F\\xb7\\x14\\xcd\\xcbh\\xc5\\x0fO\\xc1\\xd2\\xe8\\xf85X\\x7fK*\\xc48\\xda\\x1dmM\\xba\\x82Z\\x14R4\\x99L\\x8cV\\x9a\\xbe\\x9a)i\\x89\\x86\\xfe\\xcc\\xe9\\xca]\\xc1\\x8a\\xa3\\xd6\\xc4\\'\\x8f\\xb6b\\xbeq#<\\xe4\\xb6T:3J~\\xd3\\x8c\\xfe:\\xbd\\xa1\\xf8\\x97\\xe2\\x97n!\\xf7\\x1eY\\x14\\xad8\\xabG\\x90\\xe3a\\xd3\\x1aPF\\xe9g\\xcd\\x16\\xc9\\x1c\\x82\\x95b6&\\rh\\x81\\x8a\\xcc;-X\\xfb\\x05X\\x87Y\\xd6v\\x10\\xb2\\xf8\\xb5(\\xd5\\xe0,\\x95Q\\xfc\\xfd\\x16\\xea\\xbf\\xcc\\xb9\\xf7\\xccW\\xe6?E\\x84\\x7f\\xb9Y\\xa3\\xce*\\x8f[\\x10\\x9e>\\xd9\\x88\\xd8\\x08ZE\\xa4\\xb5\\x16\\xceu\\tU\\xb2)\\xe9\\x06ha\\xb9\\x99\\xa5\\x08Ai\\xb8\\x88\\x84\\x04b#\\xeb\\xf9D\\xa3\\x80\\xa5*^\\x04\\x19e@\\xa2\\xf8\\xf2\\x03\\x9c7\\xb4Y+?]1\\x9e&\\xc1\\n\\x81\\xdb\\x1f\\'\\xeb\\ng\\x89#\\xf9\\xb3\\x9b&\\x19\\x91!\\'\\x80\\xd3<HY+R \\xb9NC\\xc2!\\xf1\\x98Z\\xae.\\x9a\\x93T\\xa0\\x8c\\xb5\\x99\\x10\\xa2\\x19\\xccP\\xf0\\x8dw,\\xa6~a\\x1fD1H\\xc5B\\xc4\\xba\\xb7R\\xb8UZE\\x89KG\\xb3#,f=\\xd2>\\xd2\\x94\\xbf:\\x0f%[\\x8c\\xdd\\xd4\\x142\\xfb$\\xa6\\xc2\\xbc\\x02\\x99\\xe2H\\xfel\\xe6\\xc9\\x8fs\\xde\\xd8y?XS<I\\x1f\\xcd\\x9c\\xd91T\\xba\\xd9\\x84\\xf1\\xf6\\xccW\\xce$g\\x9c\\x96\\xca\\xb2{\\x9fv\\xc3\\xc9\\xfa\\xc2\\x99\\xe2H\\xfel\\xe6\\xc9\\x82\\xc0P\\x0e\\xe6k\\x0c\\x12\\xbfzI\\xf3\\xdd\\x91\\x08L3*\\xeeIJ_\\x9c\\xcc\\xc5K\\x8a8\\x9a)\\xebx\\x93\\xea\\xf4\\xde!X&\\x1aR5\\xb8\\xb5\\xf9\\xd4g\\xf8\\x8a\\xfc\\xef\\xe8p\\x8c\\xf7K5y\\x85Q\\xebb\\x13\\xc7\\xdb1_8\\x91\\x9er[*\\x15G\\xad\\x88O\\x1fl\\xc5|\\xe2Fy\\xc9l\\xa8Q2\\xe8\\xd5\\x1f\\xce\\x11\\xb4Y+g\\\\\\xf1\\x9e&\\xc1\\x02\\xbf\\x01Uh\\xe8ZJ\\x96u\\x88\\xb6\\xb3\\x88&MR\\xbc\\xb4\\x90\\x8f\\xabtL\\x1d\\x1d\\x13\\x12\\xc4.m\\xe6\\x99R\\xd0\\xb2uw\\x19\\x17|UzE\\xeaJ\\x87\\'_\\xbd\\xc4(\\xd0\\xa3\\xd6+\\x82mU\\xb7\\xfe\\xa9\\xa3hU\\x1e\\xb6a<}\\xb3\\x15\\xf3\\x89\\x19\\xe7%\\xb2\\xac\\x95\\xef\\x8e\\xda\\xe6\\xc5\\xb4\\xac\\x91\\xbf\\xac\\x1a?\\x9b\\x1f\\xaf\\x92\\xae3:\\xe5J9\\xdc)\\xcfJ\\xc1\\x94\\xc8\\xc5\\x13D\\xb1C\\xc3\\xa9\\x88u\\xb8\\xa4\\xa9v\\xf7\\xf2\\x15\\xc5\\x9c\\xf5^x\\xfeiIX\\xaa=lBx\\xfbf+\\x9cK\\xf0\\xb4CKa\\xf5\\xb2\\xac\\xf9\\x14\\xd0\\xa9hP~62$\\xa4\\xfcS\\xce\\x97\\xd7Y\\xa8U.\\xb9\\xe1<}\\x83\\xc9Lq\\xdc\\x7f9sh\\xc1HQ\\x1cu\\x01\\xce[\\xda,\\x95\\xab\\xae\\x88\\xcf\\x13`\\x85@\\xed\\x8f\\x93\\xf5\\x853\\xc4\\x91\\xfc\\xd9\\xcd\\x93\\rp\\x131h\\xce\\xeeY\\x90#= \\xce|\\x82\\xe0\\xc9\\xfc Q\\\\]5 \\x83yP\\xec\\x17\\xf7\\x8eH$\\x89$DZ\\x05k\\xa7)\\x1a6\\x94C\\x10\\x8f\\xd8Fh\\x95+\\t=&\\x12sI\\x18\\x8db\\xc5}\\xa3\\x9e\\xf9\\xc6\\x95\\xe8J\\xb2T(\\xcf\\xed0\\'\\xfe\\xaa~\\xe3\\x14\\xcf\\x12G\\xf3g6L{\\x9e\\xf6\\xc3\\xc9\\xfa\\xc2%\\x84\\xc5C;\\x0e\\xb9\\x92^A\\xa0\\xe5\\xca \\xe1Z\\x81\\x84n\\x15\\x92\\x92\\x1b)\\x10\\xaf\\x91(\\xdcp\\xd0\\xbd\\x99\\xae\\xdc\\xbb\\xd7d\\xf7>\\xed\\x87\\x93\\xf5\\x853\\xc4\\x91\\xfc\\xd9\\xcd\\x93\\x05\\xc1!\\x0c\\xeeb-\\x87\\xbem\\xc2W\\x98\\xf2Sof(H\\xd7?r\\xa1P\\x1e\\xfe\\xda\\xc7\\xd9^J\\xfc\\xef\\xe9\\xf0\\xac\\xf7-\\x1a\\xbc\\xe6*\\x8f[\\x10\\x9e>\\xd9\\x8a\\xf9\\xc4\\x8c\\xf3\\x92\\xd9P\\xaa=lBx\\xfbf\\x1f\\x86b)\\x04\\x87\\xd8m\\xe4Nv\\\\M\\xa2\\x14\\xfc\\x1c,%7A\\xeehf\\x99\\xb5\\x13\\xd8 \\x93\\xd9##\\xb4l\\x03\\xee\\x1b\\xafAC\\xba\\xb3\\xc5Kh\\x8c\\xccRICT\\xbcr\\x10\\x89%/\\xac\\x92E\\x81o\\x85V\\x8eD\\r:\\x83uvP\\xeasv\\x84K\\t\\x89\\x86u\\x85\\xf0]A\\xa0\\xfc\"\\x85\\xa2QC@\\xeed/9\\xbe5\\x1a\\x85t\\x8cC4!\\xc3O~\\xfa\\x8aE\\xde\\xbcTx\\xe4;F*\\x0e\\xd7\\xc22\\xa9\\xcb\\xea\\x98\\xa5\\xe8\\xb4R\\xd0\\xa9ak\\xb1e\\xc2\\\\\\xc1\\x9c\\x8ab\\xb2\\xc7\\xa2\\x91\\xa6\\x9du\\x93\\xb4\\xd27\\x89>\\xf6H\\xef\\xd6\\x15\\x1d\\xcd\\x8f\\xd7\\xc9VY\\xff\\x00\\xca\\xd3o\\xff\\x00\\x9b4\\xfaLR\\x8f.\\x1e\\x8b\\x8a}\\xa3\\x92\\xdbeJI\\xf2\\xc8T\\xfa^:\\x948\\xbd\\xda\\xfev\\xc5\\x8b7\\x11k\\x14\\xb3\\x1b\\xa6\\x88\\x8bgJ\\x9aT\\xbc\\xc2\\xa8\\xf5\\xb1\\t\\xe3\\xed\\x98\\xaf\\x9cH\\xcf9-\\x95d\\xaa=s\\xc2x\\xfb\\x07\\x91TU\\x1c\\xb5\\xa9k\\x80\\x86R\\xd5y\\x99\\xb2\\x9b\\xc5fe\\xa6+\\x0cSL\\xa1\\r\\xa0\\xac\\xefPR.\\t\\n\\x1f\\x8e\\xe09\\xcb{E\\x92\\xb5u\\xd1\\x19\\xe2l\\x10\\xa8\\x1d\\xb1\\xf2~\\xb0\\xa6x\\x92?\\x9b9\\xb2a\\x89\\xe6\\xcbQ\\x89\\x95\\xf7p\\xb1\\x13\\xc2ep\\xbbX;\\xc2.Yw\\xc2\\xaf\"\\xe9\\xa3\\x12\\xe9\\x1bO\\xb2\\xa2J\\xd8U\\xb23\\xd7\\xa0{\\xed\\xa7~\\x9d\\xfd${\\x04u!\\x15I?\\x9f\\x8bw8\\xe1&\\xcc\\xe4Ew\\x80{\\xec\\xa7>\\x9d\\xfd${\\x03\\x95\\x82\\x95z)\\x98\\xa5\\xc5|+\\x13\\xb0\\xab\\t\\xbax\\x8f}\\xb4\\xef\\xd3\\xbf\\xa4\\x8f`\\x82\\x8c\\x89\\xa3\\xe2\\t\\xf8W3n\\x11Jr\\x98z\\xb2\\xd3O\\xb2\\xb6]\\x8c\\xb4\\x87\\n\\xc2\\x8b6\\x8c\\x0f\\xc0 )X\\xfa.\\xde\\xe2\\x7f5\\x9c\\xe1oH\\xfe\\xf1\\xef\\xb6\\x9d\\xfaw\\xf4\\x91\\xec\\x07Z\\xe9\\xc5\\x7f\\x8e\\xfeD\\xfb\\x03\\xce\\xbd\\x10\\xeey\\xf7\\x94\\xe2\\xd5}\\xa5\\x9c\\xf2Q\\xf4\\xb4u\\x17oq?\\x9a\\xceJ\\xd6\\xf4\\x8f\\x0e\\xf8z\\xb3S/\\xb2\\xb6]\\x8c\\x9a\\x1cM\\x95\\x15\\x84\\xe0~\\x01\\xa3\\'\\xbe\\xbap\\xae\\xdd\\xbf\\xd2G\\xb0EV\\x1aV6\\x19p\\xf11v\\xda^)\\xb0\\x92\\xfb\\x88@R\\x11tc\\xcaz\\r\\xec\\xda\\xcd6L\\xe4Gw\\x84{\\xeb\\xa7\\xbe\\x9f\\xfd${\\x04ltU%\\x11\\x9e\\x8cw8\\xb9Y\\xb5\"/\\xb8BS\\xf4\\xac\\x0c2a\\xa1\\xa2\\xac4\\x8c\\n\\xc2O\\xf0\\x11\\xd4\\xd5%I1\\x99\\x8c\\x88\\xce \\x95jV\\x12W\\xf9\\x84%=K@\\xc2\\xa2\\x1e\\x1a*\\xc3H\\x9c\\x8a\\xc2O\\xf0\\x1e\\xfa\\xa9\\xef\\xa7\\x7fI\\x1e\\xc1\\x13L\\xd2Q\\xaf\\xb0\\xf3\\xf16\\x97\\x0e\\xabM\\x1d\\x82\\xde\\x9f\\x9b\\x90{\\xea\\xa7\\xbe\\x9f\\xfd${\\x07\\xbe\\xaa{\\xe9\\xdf\\xd2G\\xb08\\xeb\\x8f>\\xb7\\xdcQ)kQ\\xa9G\\xca`\\xd3<t\\x08\\n\\xcfK@#4\\x87I\\xd4\\x17b\\xed\\xff\\x00\\xf2\\x1c\\xae\\xb4\\xba\\xd1$\\xa1\\x84}\\x94\\x7f\\xc8}\\xf8\\x88\\xc7\\xcd\\xf8\\x97M\\xd5\\xebPa\\xd7\\xe1\\x9f\\'\\xa1\\x9cSn\\'\\x03Hj\\xbaS\\x08D\\x94\\x96\\x1d\\xe5Z=\\x86#\\xeb\\x1d+I5\\x9au\\xd2CG\\x8a\\x1a\\xd2$=\\xf6\\xd3\\xbfN\\xfe\\x92=\\x81t\\xe5$\\xe4{q\\xea\\x89\\xfd%\\xa4\\xd9J\\xec\\'\\x0b\\xfd\\xa3\\xdfm;\\xf4\\xef\\xe9#\\xd8!\\xe9\\xfaV\\x13;\\x98\\x8a\\xb1\\x9ep\\xdc^\\xf17\\xa8\\xfc\\x01\\xfa\\xcbLD0\\xb6]\\x8c\\x9a\\x16VTV\\x13\\x87\\x98@R\\xb1\\xb4]\\xb3\\x82{5\\x9c\\xe1oH\\xfe\\xf1\\xef\\xb2\\x9d\\xfao\\xf4\\x91\\xec\\x0c\\xb1Y\\xa8\\xda!\\xb5BE\\xb4p\\xe4\\x9bD\\x84$\\x8c\\xef\\xbf\\xb9\\x11\\xf4\\xd5%H\\xb3\\x98\\x8d~\\xda\\x12\\xabR\\xb0E\\x7f\\x80\\xb2BE?\\x03\\x12\\x98\\x98e\\xd8u\\x1c\\x15Jc\\xdfm=\\xf4\\xef\\xe9#\\xd8=\\xf6\\xd3\\xbfN\\xfe\\x92=\\x82.-\\xf8\\xe8\\x95D\\xc4\\xae\\xdb\\xab\\xe1*R\\x0c\\xba\\xe3\\x0f!\\xe6\\x8eKmD\\xa4\\x9c\\xb02\\x1e\\xfbi\\xdf\\xa7\\xff\\x00I\\x1e\\xc1\\x13\\x16\\xfcdR\\xe2bWm\\xd5\\xe2\\xa9b )X\\xfa39\\xb8\\x9f\\xcdg%kzG\\xf7\\x87k%5\\x10\\xca\\xd8v6hZl\\xa8\\xac&\\xf2?\\x00n\\xe6\\xe5;\\xc1\\x1f +\\x93yb/\\xd0\\x15~\\x00\\x87b],\\x84j\\xac\\xc2\\xaf\\xa6.\\xfeC\\xc7-\\xf2)\\x9eR\\xe9t\\xe4\\xe4\\x98\\xd0%t\\xa61\\xc4\\x1f(#\\xd0G\\xc9\\x93\\x90\\xc6\\x90\\x93\\xdfL\\xc1\\x1c\\xbb\\xf9\\x0b\\xbc\\x0eR\\x90+\\xb8\\'\\x88\\xc0\\xc1\\xa0\\x8ca\\xd3\\xd0\\x0b\\xcfPP\\xaa>\\xe2^a\\x13DQ\\xf1g7\\xa1P\\xa3\\xd6\"*\\x9d\\x18\\xef\\x01\\x06\\xdf\\xd91LQk\\xa2\\xa33*U\\xa4\\x9d\\xe9<\\xa5\\x92`\\x8f$\\xef\\xd6\\x08\\x12\\x8c\\xc8\\xe6\\tsM\\x99\\x17(;\\xca\\xfcK\\xd2\\x0c\\x81\\x14\\xe70\\x83\\x9bEx\\xff\\xc4\\x00(\\x10\\x01\\x00\\x02\\x02\\x02\\x02\\x01\\x03\\x05\\x01\\x01\\x01\\x00\\x00\\x00\\x00\\x01\\x00\\x11!1AQ\\x10aq\\x81\\x91\\xa1 \\xb1\\xc1\\xd1\\xf1\\xf0\\xe10\\xff\\xda\\x00\\x08\\x01\\x01\\x00\\x01?\\x10\\xee\\xbfh\\x18\\x9a\\xfe\\'\\xd27\\xd7\\x9f\\xb7\\x8e\\x1eH\\xdf\\x8a\\xf8\\xf3\\xfcx\\xcf\\x83\\xf9\\x9cU\\xd48/\\xe9\\x0f\\xac\\xd5\\x9c\\xc2\\x18\\xff\\x00\\xb7\\xe2\\xca\\xae>!\\xdd\\xfcb\\x0c;\\xc5\\xf4\\xcbm\\x87\\xc1\\xf33\\xd1\\x8fP\\xbbne\\xe2\\x1f\\xf3^4\\x85\\x83/\\x17\\x8a\\x97\\x8e?\\xb9l\\xb7\\xa3\\xed.\\xaf\\xfa\\x97\\xf9\\x9f\\xc7\\x8f\\xa93\\xb9\\xa2\\xa7\\t\\xe6\\xf7>\\xb3%\\xc4\\xd7\\xf5\\r\\\\5\\xe3\\xb7\\xf8\\x8d\\xc3<\\xfe\\'y_\\xa4\\xb3\\xbf\\xb9\\xe07\\xc6\\xbdCx\\x13\\xe6>\\xe6:\\x8e\\xa5\\xb6Qx\\'\\xf9G\\xf7\\x0c\\xa9)p\\xba\\xc8\\xad\\x02O\\xf2O\\xee\\x7f\\x9e\\x7fs\\xfc\\xb3\\xfb\\x9f\\xe1\\xbf\\xb8r}\\x93\\xfb\\x9f\\xe1\\x9f\\xdc\\xff\\x00,\\xfe\\xe1\\xff\\x00\\x8c\\x7fq\\xff\\x00\\xce?\\xb9\\x9d_N/u\\xab\\xfeg\\xf9\\xa7\\xf7\\x0b\\xb7\\xa0,6\\xfd|\\x02lP\\xc4\\x0f\\xfa\\x8f\\xee\\x7f\\x9c\\x7fp\\xe1\\xfb\\x07\\xf7:\\xbe\\xcb\\xfb\\x9f\\xe5\\x1f\\xdc\\xff\\x00\\x19\\xfd\\xc3\\xff\\x00\\x10\\xfe\\xe1\\xff\\x00\\x8c\\x7fs\\xfc#\\xfb\\x94\\xeb\\xec\\x9f\\xdc\\xe4\\x97\\xd0\\x97\\xb9\\xdeM2\\xac\\x17&\\x8d\\xb8\\xba\\'w\\xd8?\\xb8h\\xac\\xf8?\\xb9\\xfeY\\xfd\\xc5\\xca{\\x10\\x07w\\x96t9\\x90\\xaf\\xc0\\x0cv-\\xb1\\xc9\\xb7\\xafH\\xd1\\x96\\x99\\xaa@\\xfe\\xe7\\xf8\\xc7\\xf7?\\xce?\\xb9\\xfeq\\xfd\\xc7\\xff\\x009\\xfd\\xcf\\xf3\\x8f\\xee%\\xc9\\xecG\\xf6\\xca\\x1f\\x13[\\x86\\xf1\\xf7j\\xe7_\\xd8?\\xb9\\xfe\\x11\\xfd\\xc7n\\x00O\\xd8\\x7f$\\xd9\\xfbg\\xf7?\\xc6?\\xb9\\xfeY\\xfd\\xc7\\xff\\x00,\\xfe\\xe7o\\xda?\\xb9\\xfey\\xfd\\xce\\x8f\\xb6\\x7fs\\xfc3\\xfb\\x82\\x04\\xafe\\x1d\\xf7\\x11\\xea\\xe3\\xed\\x11\\x9c\\xd4,\\x19\\x842\\xbc\\x07\\xbc~\\x89Xm\\xff\\x00\\xef\\x9e\\x07\\xc3\\xff\\x00+\\xc4o\\xd7\\xf7\\xbe\\x01\\xd4\\xfd\\xb7\\xf5\\x08\\r\\x02\\x039\\xbeg\\xe3\\xbfg\\xcf\\xfd\\xde\\xbc\\x7f\\xee\\xf56\\xfc\\xde\\xf0\\x94\\x93w\\x1fe\\xf3 6V\\xc5\\xc0\\x05\\xaa\\xba\\th\\xc0dK\\xf6Is?\\xe3\\xcd\\xdc\\xc7D\\xbb\\xb1\\xdc\\xb9\\xf7\\xf6\\xe7o\\xfenB\\xec\\x7f5\\x87\\xbd\\xc7\\xc7\\x99\\x83\\xac\\x9f7\\xda\\x83\\x8e\\x05\\xdc\\x05\\x1ew\\x1cZ\\xff\\x00MANZF\\xab\\x9d>\\xd2\\x05\\xed\\xa2\\x01\\xe5\\xe2\\x96\\xb5A\\xdby\\x8f\\xfd\\x98|Ru\\x18\\xe9\\xcb\\xf4-\\xcb9\\xf9\\xe1}\\x8e\\xc9jk\\x9d\\xec)\\x00\\xf9x\\x08s\\xff\\x00\\xa2\\xe5\\x00\\x1f/\\x01\\xec\\xd6\\x82\\xbdF-\\xa8l\\xd5z\\x82\\xf4y\\xef?i\\xaf\\xd1\\x99\\x1f\\xb4\\x7f\\x19\\xf0\\xf5\\xcf\\xaf\\xf8+zW\\xef\\x0f\\x01\\xc7\\xfd\\xe3\\xf5\\xc8\\r\\x02\\x03\\xbef\\x1f\\x07\\xf6|)v\\xc8}\\xc8t\\xf3\\x1da\\xee\\xf1\\xff\\x00w\\xaf\\x1f\\xe5\\xfeM\\xfa\\x10\\x1a\\x07\\xf1\\xff\\x00\\xc3\\xae#\\xff\\x00?\\x86\\x03\\xeb\\xf5a\\x98\\xfc\\xdfj\\xc5\\xf7=\\x1a\\x00D\\xff\\x00\\x99\\xd3\\xc7\\xe2\\xa0\\x0f\\xfa\\xf9\\xfe\\xa3ANZC\\xc5\\x1b\\xc6\\xfc\\'\\xef8\\xd7\\xaf\\xe2\\xf1J\\xf5>b(\\xf7\\x90\\xe3\\xff\\x00\\x97\\x96\\x0e\\xb9\\x9a\\xdfr3\\x8b\\xa9\\xbf\\x1d\\x0fv\\x0ba\\x85\\xc1\\xef!\\xc7\\xff\\x00/,??\\xf8\\x92\\x01&\\xd0\\x7f\\x17\\x1d\\xf8\\xc1\\xe0\\xf7\\xa8\\xd47;\\xcf\\xe8\\x86\\x0cu\\xc2\\xef\\xc0|\\x1fk>\\xf6A\\xd7\\xf1\\x83\\'\\xee\\x82\\x7f\\xa1\\xa6\\t]}\\xb1?\\xfc\\r\\x01\\xa0@G\\xa9\\xf8\\xef\\xd9\\xf0,\\xe6\\x91\\xc3\\xa1\\x10\\x96\\x9b\\x94\\x97\\xe3\\xff\\x00w\\xaf\\x15G\\xe88\\x93\\xfa\\x84\\x06\\x82\\x9c\\xaf5\\x91\\x0cs-5\\x93\\xb4nVB\\xa1\\xd29\\'\\x0e\\x9f\\xe5\\x9f\\xc1\\xff\\x00\\xe2\\xbb@h)\\xcbK\\x88\\xe3\\xa1\\xe9\\xd9\\xb5\\x85a+\\xa9\\xcf\\xa6\\x98\\xfa\\x03\\xaf\\x18c\\xe6&\\x1e\\xdf\\xda\\x7fL9m\\x9e\\xbcw\\xc0\\x04>\\xab\\xf1+\\x1e\\xc8\\x7ff\\xcf\\x87\\xf8?w\\x9d=x\\xef\\x80\\x08}W\\xe2V=\\x90\\xfe\\xcd\\x96/U\\x1fS\\x0f\\xccoL<wz\\xf1\\xdb\\xfa3!w\\xd0\\xc2-\\xb3\\xefA\\x84\\xfd\\xbf\\xf5\\x90=i\\xfdj\\xff\\x008|\\xf7\\xdc\\x1c\\x87}\\xfaFh\\r\\x06_\\xd7\\xa5\\xf8\\x80\\xc7\\xd59^\\x08\\x0b{\\xd5\\xcf\\xc5~\\xcf\\x80\\xdev\\x1frh\\xdf\\xb5\\x15\\xd0\\xf8\\xff\\x00\\xbb\\xd7\\x8d\\xfe\\xda\\x1fg\\x7fR\\x03@\\xceV\\xb6\\xc4d\\xc7\\xc3\\xd4\\xb7u\\xa6l\\xa8\\xfa\\x03au\\xbe\\xbc\\x00\\x7f\\xf2\\x83\\xbc\\x06\\x82\\x9c\\xb4\\xbe\\xc7\\xe2?\\x8b\\x9f\\xfc\\xae\\x9f\\xd1\\x08V\\xe3\\xbc)\\xb4\\xfe\\xf8\\xb0y~\\xd8j\\xeb\\xef!\\xe5\\x07\\xe2\\xfc{i\\xfd\\xf1`\\xf2\\xfd\\xb0\\xd5\\xd7\\xdeB5\\x9e\\xd2#\\xbf\\xa4\\xa9\\xa1\\x95\\xf3>b<\\xcdo\\xf4\\xf6\\x13\\xf9g\\xe70\\xbaQ\\xf9|S\\x8b\\xfavO\\x10\\xe7\\xe7O\\x9a\\x80\\xf3OA\\xab\\nK\\'\\xcf\\xe6\\xbe\\x1c\\xbe\\x003\\xf4\\x9a\\xee\\xafbV\\x9f\\xdeu#\\x95\\x9f\\x86\\xfd\\x9f\\x1f\\x86\\x97\\xdbx\\xaf\\xfb\\xbdx\\xdb\\xb1g\\xed\\xf9\\xa0<\\xc7\\xd1w\\x99j\\x8b~\\x9c{J\\xab\\x07\\xab\\xf6\\xd5#\\x95\\x003\\xb8\\xb1\\xdbG\\x8aw\\x9d\\xb7\\xc5u\\x81L@\\x11\\xb1\\x84\\xff\\x00\\xa3\\xe2e\\xcf\\xd6T\\xaby\\xf6\\xce=\\xbd\\xee\\xcdo\\x7f\\xadY\\x07O\\xb8UX\\x1e\\xc7\\xdb\\xc1?E9\\x7f\\x1d/\\xf8\\x1dx\\xa5\\xfb\\xd2{\\xb5\\x05x\\x05g\\xfcV~\\xcf\\r\\x86\\x1a\\xfe>4\\xebx\\xe2\\xf5\\xbf?\\xe2\\xd8!\\xaf\\xe3\\xe3mAQ\\xf2Tq\\\\\\x81\\x91\\x89a\\x1f\\x07/\\x07\\xef\\xf8\\x9d\\xfa\\x82\\xc4!\\xda%\\x83\\xc2?\\xc1\\x9bo\\xb0jEk/qJr\\xe7\\xd6\\x9a\\x8b\\xaf\\xd2*\\xe5^\\x0c\\xff\\x00\\x16f\\xa8\\x9c2\\x94\\xa79\\xd3?\\xc7\\x99V\\x95\\xbb\\xd2r\\xe2\\xd9N]ph\\xf7\\x03\\xfd\\xfc\\xda\\x85;\\x8f\\xedV\\xee\\x8c\\xff\\x00\\x16t\\xbb\\xfbB`98\\xb7\\xaf\\xe6\\xd5\\x03\\xff\\x00.x5{\\x8d-r\\xbb\\x85\\xe9E\\xd8p\\xf7?\\xcd\\x9dh\\xed5\\xac\\x8d\\xaeb\\xdf~\\x00\\xb9\\x99\\x02x\\x14\\xdb.\\x98\\xb6\\x01\\xe6\\xfcF\\x0c\\x0bH\\x95\\x8f`\\x90\\xe7\\xdb\\xb5\\xc7\\xb9\\xf6\\xaf{\\x97Bk\\xe55\\xbe\\x9d\\xd8p\\xff\\x00\\xb6\\x1e\\x80\\x81\\xeb-G|C\\\\\\xe5@\\xe13\\xf8\\x97\\x0b\\xfaW\\x92\\xd8$?y\\xbaG\\x0e\\xd4\\xc4\\x8d\\xdf\\x13\\x07\\xbb\\xc6>\\x89\\xad\\xd5\\xee\\xbf\\x8e\\x1d\\xaf\\x83\\x13\\xd4\"nrmEi\\x1e\\xc8\\x1c\\x7f?\\xf1\\x89\\x1d\\x9b\\x85\\xbf\\xc6\\x1bi\\xdf\\xaa\\xa8\\xf4\\x04\\xb3G\\xd2\\x175\\xc0\\xc0J\\xc2\\xdcl\\x07.\\x7f\\x87?R\\xafu\\x97+l\\xa0\\x0bT>\\xd0M}\\x10\\xb9\\xae\\x06\\x7f\\x835\\xbf\\xf5\\xee\\xd8\\xd2\\xb6\\xf3\\xb8Wcp\\xff\\x00\\xc5\\x9b\\xc7V\\xcfk\\x8e\\x00\\xf3?\\xc5\\x9bb[o\\xbf\\x0es\\xfcY\\xb4\\xdaY\\xa5\\'@Y\\xfe,\\xdc/\\xca\\xf6\\xbd\\xe0\\x0f3\\xfcY\\x9b\\xb8\\x1c\\x1b\\x80v\\xa2\\x033y\\xc0\\xde\\xfe\\xf0P\\xc4\\xe5\\x9d\\x92\\xb7+,(\\xc6.\\x15\\xf3\\xe7\\xf9\\x87\\xdew\\n5\\x13\\x92\\x1f71U\\xe0\\x9f\\xdc\\xe2nb\\xe0\\xdc\\xafo\\x967\\rx\\x14_0l\\xdcL\\xd4\\x1cY\\x88\\x04\\xad\\xaa\\xc4\\xc0J\\xc4;e\\xed\\xab1G\\x0e\\xe1\\x8c\\x16\\x1f\\xe2\\xe6\\x8dk\\xcc\\x186(\\xaeqi\\x9e\\x85W\\xe2\\x0e\\xcb)Vy\\x86\\xe8t\\xfe\"r\\xb9\\xeaSy\\x90\\xbe?\\xc9\\x97\\xd7W\\xdc4\\xe3\\xce\\x88\\x17\\xc7\\x93\\xaf\\xcc\\xae1\\xe3\\xde\\xbebu/\\x88d\\x95\\x87\\x9f\\x06\\x84\\xf9NR\\x89Q\\xc2\\xdc\\x15\\x8dA\\x90\\x17+1\\x95$h\\x99\\xf0V|<\\xe2\\xe5\\xf5S3\\xef\\xe0\\xa0\\x9a\\xd4\\xff\\x00\\xaes\\x83>+\\xfe|3c\\x88gp\\xd6\\xa0\\xfa\\xd49\\xa2\\x13\\x87\\xdcx\\x0e!@\\xf2\\xb0.]\\x81v\\xdae \\x1f^>\\x91\\xd9\\xc4\\x14\\x1e\\x8eX\\xa4;\\xf9\\xe6a!\\xa5\\xb8)\\tZ\\x1by\\xb8\\xa3)\\xa0\\x1d\\xd4:V\\x05d\\xfcA\\x1b\\xda\\xbbq2YZ\\xf8!\\xea\\x18\\xf6\\xe5\\x98\\x9bf n\\xe0\\x95\\xebZ\\xd4H8eq\\x89\\xc6<\\xd4\\xfc\\xc7\\xb2?\\x13?0\\x13S0%\\xb5=\\x89\\xfb%=\\xdc~s\\x1dM#\\x12gn\\xa3)\\x0f\\xbcw\\xfd \\xb8\\x9e\\xe1\\xe5\\xe6\\xa0c\\x12\\xbc}\\xa7u\\x05O\\x06>\\xbe9a\\xa9\\xf6\\x86\\xa1>f\\xa0\\xf5\\x18\\xbc8}u\\x17cG\\x83+\\xeb\\x98f\\xd4\\x00R\\xc9l\\x0b\\x0f\\xa1+\\x01\\x82\\xc6q\\xeb\\xeb\\x0c\\xd6\\xa8\\x1f.\\xd8\\xd8e\\xe7\\x9dB\\xf5\\x0c\\xfd\\x19\\xe3\\xe9)XSN\\x8a\\xc4\\x01\\n\\xabb\\xb6\\xf70\\x18\\x19\\xf5\\x04*\\xe5\\xb7\\xe0\\x9c\\x95\\xe1\\x84\\xb0\\x13\\xad5\\xc3\\xfd\\xca)\\xddG\\xe9\\xd4N&q\\xe1?\\xcf\\x14\\xe6TpI\\\\J\\xdf~>\\x93r\\xcas\\x0f\\xbd\\xf8\\xae\\xe7u~B4bRP\\xa2\\xb8X\\x83\\xe0\\xe7\\x13\\x04&\\xf18\\xb9x\\xaf\\x17\\x8e\\xfdLJ\\x81VC?\\x1dG\\xec\\x8c\\xc5\\xc7\\x13\\xf2\\xf8\\xeebSu\\xbb+\\xca\\xb2\\xa6\\x11\\xf6\\x83\\x02\\xa9\\xf5\\xdc\\xc1j\\x93\\x88(U\\xaf\\xdd6\\xf5\\x06\\x0cs}\\x7f\\xeaa\\x0c\\xd8\\xb6\\xdc\\xba\\xb01O\\x1dT\\x02+2\\xedK\\xf6T\\x8f\\xaa\\x87m:J\\xd6\\xa1\\x15@5R\\xa1\\xfe\\x86\\xa9{2\\xd0\\xccC]F\\xf3\\x02\\x9f^5?x\\x15\\xaf\\xd0<}|Q\\xe3R\\xe5\\x9d\\xccO\\x8d\\x1b\\xeaYh\\xe7\\xb8\\x16!\\x96\\xef\\xdc\\x19\\xd4j\\xa5G\\x13\\x10\\xcf\\xa9\\xf5\\x8f\\xf9\\xe0Jk\\xc5\\xf3s\\xeb\\x0f\\x05,q\\x0fS\\xeb\\x0cjp\\xdfp\\x9ck\\xe9\\x15\\x8a\\xe3\\x0c!\\x98N\\xfb\\xc3\\x11\\x0bq\\x89F\\xaf\\xa7$\\xd9\\xff\\x00\\\\\\xdbe\\xf7\\xa2 \\xb7\\xcd-\\xe4\\x86I\\xc6\\x8e\\rJKu\\xde\\x99@\\xc58\\xc7\\xb89\\xc5/\\xa9J`e\\xfa\\xc4Y\\x1d\\xbd\\xcd!\\x93$\\x00}\\x98\\xcd\\xde4}\\x9c@r_\\xdeW\\x1c@\\xea\\xe7\\x10\\x81;\\xfd\\xe6\\xc5\\xd7\\x8cGl\\xb8{\\xf1q\\xa6\\xe2\\x97Q\\x19\\xea.\\xf3P\\xcd\\xf7\\x12e\\xe2\\xccb\\xa92\\x04\\xa9\\xf3\\x0f\\x0f\\x87\\xc0\\x11L\\x8f\\x13\\x88\\xcc\\xcb\\xcb\\xb9g\\x80\\x08~\\xf1\\xa9L\\xfaFU\\xe2\\x14\\xea\\xa7\\xdaU\\x10\\x0b`4\\xdc\\xb0mncW\\x15(z\\x08k\\x07\\xe2\\x12\\xaf\\xc4\\xb7\\\\\\xb3\\x89Z\\x1bq\\x8d{\\x98\\xcd{y\"\\x06\\xc9\\\\\\xf7\\x17m\\x18p\"\\xbb\\x90k\\x1fuR\\x81_\\xbc\\x16V\\xc7\\xa8o\\xc9\\x8eS\\xc0\\xb3Ly\\xfcx\\xde\\xb7?\\xe6l\\xd6f+\\xdc\\xc4\\x13\\x9cJ\\x98\\xadLF2\\xea>\\xf9\\x97q\\xb1w\\x9f\\x1b\\xea=\\xc6\\xb3\\x8d\\xc4\\x17\\x1e\\x19\\xaa#\\xde\\x13\\x1dK\\x12\\x10\\x98\\xf1\\xf4\\xf0|\\xc2T\\xcc\\xf8\\xd7\\x83\\x9e\\xe7\\x1e\\x18\\xf8p\\xde\\xa1\\x83\\xd4\\xf5S\\x17\\xb8\\x05rdJ\\x81S/\\xa6q\\x02\\xec5\\x8c\\xc6\\x06\\xc0\\x98\\x95-\\xfd\\xa6\"~\\xd1\\x9a*\\x90P\\xec\\x8e\\x94\\xa6\\xbd\\x93b\\x01\\xa7\\x88\\x03\\x11\\xbcs\\x0f#\\x1a\\xca!\\x8e\\x86\\xb8K\\x940[\\xa8,\\x8b\\x1d\\xe3Iw\\xaf\\x02}\\xee`{fW\\xb8G;\\x84\\xfa\\xf8\\x1e\\xe5&\\xb1\\x96\\xf6_\\x83s\\xe9\\x8e\\xa6\\xdf\\xe6\\x7f\\x1e\\t\\xf6\\xf0|jV\\x1b\\x1a%\\xd1\\xd45<=\\xc3;\\xcf\\xf3\\xfa._D5\\xfdL\\xcc\\x93\\xc0\\xd3{\\x9a\\xbc~\\x80\\xbb\\xf1\\x99\\xeeT\\xdd\\x17\\x94i\\xed3I\\x98\\xfb\\xd2\\x17\\xd4\\xc4M\\x7f0v\\x91\\x8beYf\\xddx\\xa3\\x81\\xb59\\x89\\xe0\\xfd\\x7f\\xa8 \\x05\\x95fw\\x85)`\\xd2\\xc5g\\x9b\\xe2!\\xd9*N\\xf6\\xa0f1\\x1b\\x14`/\\xc8\\xfd`\\xad\\xbf\\x82:Q\\x07-e\\x14\\xf6\\x8b\\x9b\\x9a\\xd8S\\xd3\\x02\\r\\xeci\\xf5=\\xce\\xa6;\\x8d<\\xe2\\xee\\xe5\\xf5/\\xce*z\\xdf\\x87\\x10L\\xe2}H\\xcd\\x1e\\xa6vD\\xc4A\\xf7\\x81;\\xe6\\x88<\\xe6\\xa5\\xd6u4y\\x83=\\xcc7\\x99\\xdd?\\x89\\xec\\xb9\\x98f\\x035/u8\\xdf\\xd2}q\\xe3\\x8d\\xf8\\xf8\\x82v\\xc1\\xb29\\x12\\xe3*&\\x8f\\xeeZ\\xee\\xcc\\xfc\\x91\\x17\\xdc\\xd5q(-\\xb9C\\xd9\\x00\\xe9\\xaa\\x95\\x14\\xddz\\x97\\x15A\\xce\\xa5\\xe0\\xdc\\xe7\\xc4k\\xbb\\x0e\\t\\xa0,\\xads1\\xd2\\x0bG\\x92;v\\xa9(cU\\xf1\\x11\\xa9X\\x88\\xd9\\x06\\xc8\\x06\\x8fs\\xfc\\xfc\\xc7\\xf7t\\xef\\xd5}e,:\\xce\\x86\\x10\\x9e\\xa5\\xce\\xdd\\xf4c[.8\\xee;F9g\\xed._\\x8f\\xbc=\\xc7[\\xf0\\xc43p\\xf9\\x95\\xe1\\x9b1Y:q\\x03\\x96Y\\xb4\\xcaed\\x13\"(\\x960\\xb5\\x883\"q\\xefP\\xc7\\x1fi\\x99\\xc7\\xb8Q\\xc4<w\\x0f~\\x03\\xef\\x19\\xbe\\xd3\\xe0\\xf1\\xdd\\xb0\\xdb\\x89\\x95\\x1c\\xb0\\xbc\\xccs_h\\x8c\\xd1\\x80\\x03\\x0cJ\\nV\\xd7\\xf19\\x1cJ\\xb8W\\xdc\\xe7\\xe4z\\x0e\\xe2\\x14A\\xb7\\x87\\xd2-\\x0e\\xf8\\x94\\x06rR\\x85\\x83\\xbdA\\xd5\\x99\\xb6[[\\xddw\\x01\\xe2\\x14\\xc9\\xa9\\x8d{\\x0f]#\\xdflb\\x83\\xf5\\x94\\xb585x#\\xf1-\\xf8\\xd9\\x8f\\x83\\x9f5K1\\xb6D\\x14\\xe4&\\xf1l\\x9b\\xdf\\xec\\xb5\\xecN\\x98:~\\xf7\\x9f\\xb4\\x0e\\x0f\\xc5\\xc5\\xf9\\x9b\\xcf\\xdag\\x99\\xf4\\x9a\\xf3\\xef\\xf7\\x87\\xde\\x13\\xeb4|\\xf8\\xfcQ1\\xe1\\xef1\\xaa\\xe7\\xe2}q\\x88\\xa7\\xc0K=\\xf8s\\x9c\\xfeb\\xec|\\x02\\xbe\\xd2\\xc5\\xe2\\xe6\\xcd\\xe4\\x849\\xb9\\xc5\\xce\\xf3\\r\\\\\\xe3\\xb9\\x8aa\\xd4j\\x10\\xf1\\xe8\\x86\\xaf\\xc6 \\xbc\\xd0{\\x83\\x85\\x03\\x01\\xfa\\xe6;\\xe9@\\xfd\\xa6>\\xea|\\xfb\\x95\\x9a \\xb6\\xae\\x07\\x03n\\xe5\\xe2\\x87\\xac\\x9f\\x96\\x1d\\xa2\\xe3\\x8f\\xe9\\xcc\\xaa\\xa5\\x05\\x88R\\xec\\xa7\\xa8\\x95\\x076\\xdc\\xdb\\x96\\xe2\\xab\\xc43IA\\xf5\\x88\\xa6\\xb1\\x0f\\xbdje\\x18\\xa94\\x9f\\x10\\x98\\xab}\\xc4c\\x9e\\x97\\xe7R\\xde\\xf9\\xe1\\xc8s:\\xa0\\x13\\xd6\\x86\\x06X\\x98\\xcd\\xd7K\\x85\\xdc\\xef\\xb4P\\xe4\\x9f8\\xf5\\x87\\x81\\x16\\x07=\\x9a\\xd6\\x97\\x81#?\\xb2<\\xae\\x92~}\\xce*}e\\xf9(\\xc4\\x13\\xc9a\\xe5\\xa6%^c\\xed\\x8e<\\xcc=\\xe6\\x0e\\x8b\\x9b\\xe7y\\x99\\xf6\\xf2\\xecn\\x10u\\xe2\\xeb3}\\x13!\\x86\\xaahnf0\\xc1\\x0f\\x19\\x9e\\xa6N\\x08jP\\xb7gQ\\x8b\\xbe\\xfc\\xf2\\x85\\xc0\\xc3\\xd4?M\\xd0\\xcd\\'\\xe2i)\\xecb\\xa1\\xab\\xda\\xf7\\x1by\\x1d2\\xd7g\\xb9Ux=B2\\xa8h \\xaag9\\xa8,\\x1bp\\xc9d}\\x83P\\xf0\\x93W\\xf29\\x97E\\x88\\x9c\\xb0z\\xf9\\x0c/\\xb6\\x1c\\xa8[\\x9c B\\xb71\\xbeqqzz\\xad\\xfc]J\\xdf\\xe6\\xd7\\xeb\\'1l\\xce5\\xff\\x00t\\xaf9\\xee\\\\\\xcc\\xb6\\x1fI\\xa2qd\\xf7p\\x87{#\\xa6=\\xdf\\x8d\\x99\\xc8!\\x9f\\xa8\\x17\\xd3\\xc82I\\xd5\\xe1\\xca\\x0f|\\xcd:\\xf1\\xc6I\\xf4\\x97\\r3\\x15\\x98\\xb5\\xe3>8\\xd4\\xd4\\xbb\\xbf\\x07;\\xae\\xe7\\xe5\\t\\xeeKi\\xa0\\xfe\\x8cB\\x08\\xe6\\r.\\xa6\\xa3\\xc7qT\\x06\\xb6\\xa4\\xd6\\x95\\x86\\x10\\xcd3\\x90}#c\\xb3\\xe6\\x12\\xe5nS#c\\x98\\x05\\x8c\\xf5\\xea\\x13X\\rw\\xcf\\x13\\x9a\\xfc\\xcd\\x8f,`\\x02a\\xab\\x81\\x99\\xc7\\x99r\\x877/{g\\x81\\xe8\\xa9\\xb53\\x99\\xa5\\x888/u\\x1b\\xa3\\xb0b\\xe0\\x97\\xbfn\\x96Q\\xe0s\\xe4\\xc4\\xcc\\x1f\\xcf\\xe8fo\\x12\\x95\\x1d/\\xed=\\xe2\\xc5\\x7f\\xd9\\x8c\\xe5\\n\\x9d\\xd7\\x8f\\xe3a\\xb9~\\xfe\\x90\\xc4\\xfaC\\xe82\\xa7\\xcajW5\\x89\\x89S\\xe1\\x811\\xe3\\x8dxk/\\x10,\\xad\\x10\\x8b\\xb2\\xa2\\xc6Y\\x86\\xe1\\xae\\xbd\\x93H/,J}\\x93\\xa5\\x94\\x9a\\xf8\\xc4\\x02-5\\x1e\\xe5\\xeb-\\xf3.\\xfc\\xda\\xd4i\\xdc\\x9d\\xcc,o/\\x1cs,\\x1d\\'\"/\\xa0\\xb1\\xe9\\xf7\\xf8\\xdc\\xcb-\\xb7\\xd1\\xd9H_2\\xc6\\x03\\xe0\\x98*V>^\\xa0\\x94\\x03\\xb4\\x95D\\xd2\\x15\\xb5\\xf7\\x0f*\\xea\\xe3K\\x91\\x14]\\x96\\x9eH\\x15\\xfc\\x9d`\\xb2~\\x82}\\xa1\\xe0\\xf5\\xb8ng\\xc3\\xa8\\xf2\\xcd\\x19\\xf4\\xc5\\xff\\x00\\xd8\\xf8\\xe1\\xe2\\x89O\\x8ab\\x95\\x8f\\x0e\\xf0\\xc9\\xc5O\\xfa\\xa1U\\x99\\xf8?\\xa2\\xfc]ZO\\xac\\xce\\xb1\\x07\\x1e\\xe5\\xbe.\\x14%\\xe6\\xae|0~#\\x01\\x8b\\r\\xc7K\\xa9O8\\x98V\\xeaS\\xc9\\x16\\xdd\\xab\\x89\\x9a\\x1a!\\x1b\\xdc_9\\x8bRA\\xc4\\xa0\\xcb\\x98\\x83\\x10\\xf9\\xd0\\x89\\xcd\\xe5\\xde4o\\xc1\\x18\\x12\\xeb\\xfc\\xaaP\\xc9-\\x8a\\x1fx\\x16\\xac\\x17\\xf7\\xac\\xa0\\xb2\\x80\\x06%\\xfc\\xa3yu\\x1c-n\\x8b2\\xbe\\x15\\xc0\\xdc\\xfd\\xa1\\xab0\\xb7\\x82^G\\xb2\\x0b\\x8e\\xca\\x9b;p\\xd4\\xfc\\xc2\\xe7\\xcc\\xbf\\x17>\\x87\\xcf\\x8b\\x9cLS\\x1c\\x8c\\xe5\\x98\\xb5\\x11gP\\x16j\\x03s\\x11\\xf9\\x08\\xe2}9\\xd3\\xf3\\x05\\xd6f\\x1aa\\t\\xfc\\xf1\\x08K\\x9a\\x89\\xd3/\\xc1\\xb9\\xa2q,q\\xcc\\xfb\\xce\\x19\\xf0x7\\x8cN_\\xde^W\\xba\\x82\\x1f/\\x1d\\xc70}g.\\xa6\\xa2\\xd7\\xd1\\x0f\\xc7<0\\x82AP\\x93{\\x03\\xa4\\x83\\x8a\\x9aX1\\x9b@\\x7f\\x99\\x86\\xa2\\xd5Z\\x19\\x95+(\\xe8\\x8b\\xbaT\\xe4\\x14{\\xfa\\xb4sv\\x86\\x1a\\x82\\x9f\\xbc\\xb9\\xf2\\x0c\\x0f]e\\x8b\\xfb\\xc49k;cl\\x0f\\xa9Q\\xd2\\x13\\xda/\\xe8\\xdf\\x8f~n\\x1d\\x11\\x8d\\x03:s=#\\xcd0s\\r\\xad\\xe2+\\x19\\xf3c\\x9c\\xc7\\xcd\\xd4>a\\x98;\\xcf\\x83\\xe6;\\x8e&\\xfc\\x1c\\xf9\\xd7\\xcf\\xa88\\x9f?O\\x17\\x8b\\x86y\\x9f\\x17\\xe0U\\xb8o\\xcb\\xa6t\\x7f\\xb0.\\x8e`\\x05\\xd4f:W\\xc0tK)\\x94\\xe1\\xe7\\xe2]\\xb9N#\\xf8\\x92\\x90!u\\x83\\n\\xed\\x1b\\xf8\\x1a\\xea\\x98\\xf9\\xad\\xe2\\x98_\\xa9`\\x1f\\xcc^\\xc7X\\xc9P\\xeer\\xd1\\x13\\x81\\xc5\\x17_i\\x7f\\xbc\\xb4^\\xf1f\\xfc\\x97\\xb0\\xf2\\xca(N\\x9d\\xccyY\\x06\\x8dj\\xc3\\xa2\\x0b>\\xc10\\x14\\x89\\xee\\xcf\\xb9\\x8f\\xfd\\x9f\\x92}|\\xa3\\xe7\\xe3\\x11\\xea\\xe2\\xfb\\xb2/u\\xe0\\xfc\\xcc[~\\xa1\\x14E\\xa8\\x19\\xb8D\\x1c+}W\\x8cc\\xe3\\xc4\\x85g\\x0f\\x80-\\tR\\x91\\xf0Ux\\xa8\\xe6]\\x7fR\\xa5BU\\xc1\\x8fr\\xa7\\xee\\xe2YCq\\xaa\\xd5{\\xb8\\x06\\xd2\\xc8\\xb2_\\xdb\\x99\\xb3\\x9csPu\\xb3mO\\xc2f/V&3\\x83\\xef\\x0c\\x81\\x1dw\\x00\\xe5\\xde\\xab\\x12\\xfd\\xf8\\x15\\xd7\\xaa\\x95>\\xe5p\\x83W\\xb0\\xdcA\\x1b\\x05\\xf5\\xdc\\xc6u\\xda\\xf9\\xeeU\\x94\\x84S\\xee\\xcb\\xb7D_\\xcb\\x88\\xb3\\x92\\x94\\xfe\\xf0#/c\\x14Z\\x17y\\xd9\\x0cX2j&,ut\\xe2g-\\x84\\x7f\\xe2{\\xaf<\\xd4*2\\xe5\\xee\\xa6\\xb8\\x9b#\\xccx\\xcb(\\xaa\\xdf\\xb9B\\xfas\\x14\\x05\\xdaX\\xc4\\x97\\x0bI\\xac\\x19I\\xc8\\xe7\\x88k\\xdc\\x07<\\xcd\\xebP\\x8fS\\xe9;|>\\xa6f|}|\\x1e\\xf55\\xad@\\x9f\\xba\\x02\\xd2=m~\\x08)\\x90\\xf6\\xe5\\x89\\x05\\xee\\x17\\xec\\x91\\xdb\\xb8\\xdbV5/\\xec\\xcd\\x17\\xa6}\\xc4\\\\\\x1a\\x03\\xa8)D;\\x12TW\\xfd,\\x97\\xfb\\x80YA S\\xabbL\\x97\\x8c]\\x00=\\x11\\x9f\\x12K\\xac\\xf7\\n\\xac\\xd9WyaH\\xa9\\x15\\x00\\x07F\\x8e?\\x89\\xc9\\xc6\\xb1\\xcb/\\x19\\x13\\x02D\\xdb)\\x9by\\x88I|\\xe6e\\x97\\x1a\\x98H\\xd0K\\xd6\\xe6\\xbfPe3\\xe9;\\xa8^\\xef>;\\xf1\\xf4gs\\xea\\x91\\xd6#\\xf9\\x8bz\\xb8\\xe7\\x9c\\xfa\\x80[\\xae\\xe1\\\\\\x14\\r\\xd4\\xa5\\xa7\\xc6\\xa9\\xef\\x83qo\\x10\\xe70(\\xaf\\xd1\\x9d\\xcfU\\x0f\\x0e&%\\x10/\\x8b\\xf7=T\\x0b\\x19PVM\\xed\\xab\\x7f\\x95\\x9b\\x13~\\xef\\xb4\\xb8\\x96\\xa7\\xde\\xcb\\xcc\\x84\\xf6\\xb3\\x98\\x02\\xce\\x19y.\\xed\\xc4Kz\\xa3\\x1b\\xfaD\\xde\\xb1\\xf9\\xf7-nb\\x97\\x1d\\x99\\xa9g\\xa0\\xd6\\x7fi]\\x15\\xe5\\xd4!:\\x0bm\\xc4\\xe6\\xf1\\xb5\\xeb\\xa9B\\r\\r\\xf4\\xea\\x11\\x93H\\x1a`g\\x1b\\xb0\\'?n`\\xac\\xbfOQ\\xe6\\xcfD\\xa8#>\\x12\\xf0\\xd2\\xd7Q\\x02\\x8dxq\\x8e\\xd5\\xb1n3\\xf0\\xc2gp\\xf0m\\xba\\x99\\x85\\xe9\\xb8\\xceY\\xb9\\xc9\\x8bcq\\xdd\\xba\\x85\\xee\\xf3m\\x8cz<\\x1a\\xfa\\x9a|A\\xbf\\xdb\\xc6;\\x81\\x01\\xaa\\x95C333+|\\xca\\x9e\\xfc\\x1a\\x95\\x8d\\xb1\\xb1\\x87}K{\\xfb\\xb9e\\xda\\xe62\\xba\\xf0rOLnO\\xdeR\\x05\\xdfr\\xe1O\\x13*\\x8c\\xef\\xe9(\\xa6\\xc3MJ\\xc1\\xb1Y%P\\xdeqq\\xca\\xea\\xeb\\xe9,\\xe9\\xf3\\xa9o\\x97\\x17\\x1dO\\xbc\\xd6fl\\x16i\\xec\\x9a\\xb7\\x94\\xb9\\xb6\\xb0?\\x98\\xe4\\xb4\\xaeV\\x00\\xca\\xae\\xdf\\x98\\xa1}\\xa0\\xc21\\x99\\x11\\xee\\xe6\\xa5\\t\\x8fs\\xb1\\t\\x86)z\\xa9]\\xd1\\x98\\x11~,\\xf8\\xb8r\\xcf\\x8c\\xf8\\x1a\\'\\x1e>\\xaf\\xe8O\\xfd\\x9d9\\xea{G\\xee`\\xf3w\\x016\\xa2%\\x9a\\xcf\\x12\\xddg\\x8d^0\\xde\\x08\\x10\\xff\\x00\\xc9_\\xbc\\xf8\\x84\\xef7\\xf17\\xa8\\xf3\\xe3\\xdc\\xac\\xb7d\\xad\\xd4\\xa8\\xa0\\xbd@iI\\xc4[-tk\\xc13\\x82\\x9b;\\x80\\xf2\\xad\\xfa\\xf5\\x06\\x9e*\\xa1[\\xf9\\x96\\x00a\\x9a\\xf2\\xf9\\xeeU\\xc6\\x7f\\xb8^\\xaa\\xf39&\\xf2\\xcfc)\\xcd\\x7f\\t.\\xed\\xa4\\xfa\\xd4\\xa0\\xdesX%\"\\xba\\x18y\\x82\\x00\\xa0b\\xe3\\xaa\\xf8\\x87)\\xc1S\\x15\\x12\\xf0\\xe1^\\x98n\\xdd,Od\\x03\\r\\xdf\\t]\\xc1#\\xd3\\r\\xd9b\\xe0\\x1b\\x7f\\xa8\\xcd\\xdc\\xc2\\xc7w\\xe4\\x88\\'8\\xc3\\x06!Q\\xb4W\\xadX\\x9b\\x9c\\x7f\\x0cql\\xa2b\\xf7>\\xb1\\xa9\\xeeky\\x86\\x93\\xc3\\x16=E\\xa7\\xb8\\xf17%\\x96b#d\\xa7\\xac\\xeeh\\xf3\\x08c\\x8cB\\x03\\xdc\\x07R\\xb1*W\\xd6\\x04\\x0b\\x9fV\\x1a\\xa8\\xf6\\xb3\\xb7R\\xd9\\xd3\\xbfqUi}\\xb0\\xfcO\\xa3\\xe5\\xeaZJ\\x8d\\x17\\xcf\\xfd\\xa9e\\xc2\\x1a\\xe72\\xa8\\xfc.l\\x8e\\x0e.\\x08V\\xde:\\x8cy\\x1d\\x86\\xc6\\x05\\xf9\\x1e\\xcd\\xfd\\xa3\\xeb\\x1fi\\x02\\nK\\xc8\\xa5\\x94,\\xeb\\x18\\x81D\\x02\\xc5\\xaed\\xf9\\xe6\\xef\\x15\\x81\\xc7N\\x91Z\\xb1\\x97\\xc1\\xe0\\x9d\\x04\\xf40\\xd6q2]\\xac\\xdd\\xc4\\xea\\xe9\\x98\\xcc\\x8c\\xac|&`\\x83O>\\xa5G\\x0b\\xefq\\xdb:NYt^\\xd8\\x8b\\xb1)\\x9a\\x1c\\xbb\\x85\\xf4\\xff\\x00r\\xef_yL\\xcd3\\xb8n\\x1f9\\x99\\x99\\x83s\\x9d\\xc62\\xd3G!\\x0e\\xdb\\x85p\\xbc\\xc2J\\xe1\\x89\\x89\\xe1\\x80\\x95\\xafP\\x8du\\xfaJ|\\xf8\\xd6\\xa5Y\\x88\\x13\\x8e\\xd9\\xdb\\x179h\\r\\xcb\\nN6\\xfd\\x06\\xb3\\xe3g\\x8b\\xd6G\\xc2\\xcc\\x8e\\x1c\\x1d\\xc5\\xa0\\xd1\\x98/\\x18p}a-?\\x98\\xe3\\x06\\x99n\\x94\\x84\\x0e\\x0b-\\xbbW1^K\\xe7;ac\\xa0\\x91\\xde\\xd5kz\\xe2\\x10`\\x93\\x9a\\x1b\\x02<_S\\xcf\\xa8i\\x0e\\xba\\x7f\\xef\\x89\\x90m\\xf7\\xb6p\\xe3\\xbfr\\x92\\xe2\\xd5l\\x94\\xb1\\x14\\xf9\\x187\\xf94s\\x1fRW\\x0c\\xc6\\xc3\\xb5\\x9a\\x98\\xf4\\xa7q@\\xee\\xf9%\\x95\\x03\\r\\xc6\\xf9\\xc0V\\n-e-\\x05\\xb7VA\\xe6\\xe0C\\x88\\xf11\\rLxf\\x8d\\x11e\\x9a\\xb06\\xf3\\xd7\\xc4I\\x02\\xab\\x04\\x81\\x18\\x83\\x99\\xa6jM%g0\\x85BT\\xfea\\xc9\\xcc\\xd1\\x08\\xb4\\xb2\\x1e\\xd6\\r\\x92\\xf5^#\\xc6\\',\\x03\\xa9\\xeak\\xc0\\xd4\\xdf\\x16\\xf7\\xe4\\xc3\\xeb\\x0eH9\\xf3\\xc6\\x9f\\xeaV\\xc2\\x93I\\x92~\\xc3\\x11\\xe9\\xef\\xdc\\x02Y\\x86!or\\xd7\\x90\\xfbK0\\x15\\xeeZF\\r\\xb82s\\xb7\\xd5,\\xc8\\xe8\\xd5g\\xe9\\x94\\x14\\x08\\xba\\xef\\x88mir_\\xdd0\\xab\\xaa\\xe7\\xfe\\xeer\\xab\\x1c\\x84\\xd8\\xcc6\\xfe\\'\\x13\\xa1G\\xbf\\x90gr\\xd5\\xb1\\xbd\\xdb\\x10\\x00D\\xeec\\x96\\x0eMJbL\\xb9\\xb2f\\x19S\\x94\\xa4\\x0c\\x16n)\\x17CI\\x84f\\x92)\\xcb\\\\O\\xfa\\xff\\x00C\\xcf\\xbe|\\xf7\\xdb\\xdf\\x93\\x14Kg\\xa2n\\x9f\\xf7\\xa8\\xd3&]\\\\%71\\xae\\xe7G\\xc0\\xd7l\\xfaB\\xba\\xc41\\x9af\\xa08\\x99\\x86\\x9e\\x9d\\xc4\\xddo\\xb6T\\x085p\\xe7\\xdc\\xf7\\x0epu\\x98lO\\xb7\\x85Vu5|\\xc0a\\x1f\\xb4\\xf4t\\xca\\xf5\\x924\\xc2\\x0fX\\xc5\\xaa\\xd7\\xe9\\x98\\r=F\\x07\\x10\\x1a\\x81\\xe8\\xca(Z9`Se^\\xa9\\xe4\\x8dX\\x0e\\x9f\\xdakY8\\x9bM\\x9e\\xff\\x00\\x88\\xd8\\xb4+\\xc4\\x1d\\r\\xbe\\x84\\xe2bZ\\xc7DKY/\\x98\\xdf\\xafS\\x80\\x03\\xa7p\\x1d\\xae=<\\x93\\xe3zb\\xda,uQ\\xa9~\\xc4\\xcb#\\t\\x9a0\\x13M\\xf1\\x14\\xa7\\xcf\\xd9\\xf0\\xb2\\x80\\xe2\\xd5K\\xb3\\xb2\\x00\\x08\\xe3\\x93y\\x8biA\\x8a\\xbf\\xd1VC9\\x8e<9W\\x1e\\x0e\\xd5\\xe6^f\\xba#.\\xd2a\\xdf\\x8dye\\xbf\\xf55 ?\\xc9\\xbc\\xf5\\x07\\xfb\\x8eI\\xcd;\\x84\\x02\\x9cK\\xea8\\xc1\\xd7\\xcc^\\xbf\\x01\\xa3\\xcf\\xc7\\x8f\\\\L{\\xb8@\\xc3\\xafS\\xdb\\xa4\\xbcB\\xf7\\x0eW/poc\\x11\\xa2*\\xec\\xd4i\\x88+\\x99\\xa6\\xe8\\xb9\\xd0\\xcb;pN\\xb6\\x85\\x10\\xe1\\xa8g\\x10\\xd1i`eqOU\\x8b%\\xfdN\\xe3\\xc2\\x9cA\\x16\\xc8\\xe6\\x03\\x17\\xb6\\x1c\\xc5\\xe8\\x1a/\\xa3\\x88\\xcb\\x0e\\xf3\\x90\\xd4Q\\xb3\\xbf\\xa4\\xcc\\x1d\\xe2\\xa62\\xe3\\x15\\x9d\\xc7e\\x9d\\x0f\\xe6\\x1fUza\\x19\\x00\\x8d\\xd5}Z\\xfa\\xc4\\x8cj\\xe5B&\\xd1\\xaa\\xf5\\\\F\\xbd\\xa8\\x10\\xd7\\xc5\\x91\\'\\x8d\\xcf\\xc1-\\x00\\xf98\\xb6.D0\\xc1\\xcc\\x12\\x16\\xdb\\xcaT7S\\\\W\\x82{\\x89\\x17\\x852O\\x16W<\\xc0.\\xf9\\xe2Q\\xef\\xc6\\x8cM>6\\x95\\x88\\x1b\\xb8J\\x862\\xb4v\\xf1\\x11\\xc5\\xc59\\x99Uv\\xf2\\xcew\\x01\\xa72\\xa7\\x0f\\xa9\\x9e%D\\x83\\xc6\\x01\\xefd\\xa2\\xba*&\\xdfI\\x82\\xb2\\xbd\\xf5+\\x18k\\xd39\\x15\\xb9\\xf6Y\\x80\\xd9g\\x18\\x96\\x10o\\xddM\\xb9\\x1d\\x12Z\\x81\\xa5\\x87\\xe1+\\x1f0!\\xba\\xdf\\xc4\\x0eW\\x11\\xea\\xe0d/|\\xcc\\xea\\t\\xd7?\\xf5E.\\xb9\\xaa.\\x97\\xb8\\x17K6m!\\x18aZ\\xd4\\x04\\x167\\xa9G\\xad2\\xe6\\x89ft\\xf4\\xcb\\xdc\\x0e\\x8c\\x0cZu\\xce\\xe2\\xb3\\x06p\\xdd2\\x94\\xd2t5\\xf7\\x83\\x80\\xdb?\\xd2\\xa0\\xb3\\x8a\\xe7\\xd1\\xdc\\xca\\xfd\\x0c\\xed\\x82\\x05\\x14f\\xff\\x00\\xf6!p>\\xe5y\\xf7\\xcc\\xdd\\xf7\\x1d\\xee9\\x9a\\xb9\\xc4\\xa4\\x97\\x88\\x88(Z\\x00\\xcd\\xda\\xf1\\x94b<\\x03\\xe0\\xe5\\xf1\\xa2\\xe5\\n\\xa45\\xaf\\x1d\\xf5\\x0b\\x9b\\xf1^\\x03\\x0b\\xf4\\x84_d\"\\xe0\\x81]8N\\x16\\x13\\xdc\\xa77\\x8c}#w\\xa8\\x0f\\xc3\\xee|j~I\\xfc@\\x87\\xcc\\x1a\\xf8\\xea\\x19f\\x88v9\\xf5\\t{\\x9a\\x11\\xa0\\xcdfP\\x12\\xae\\xbd\\xcb.\\xe4\\xac\\x9dGu\\xeb\\xaebP\\xe3$\\xe2\\xe5\\x0e\\x18\\x8e\\x87\\x8b_R\\xddB\\xf8\\x83\\xdc-]d\\xc9\\xbf\\xa4\\x01\\x14\\r\\x17\\xab!r\\xdb\\xe8\"a1\\x9b6Kf\\x1c\\xa9,H\\x03\\x16\\xa2\\x1dw\\x05\\x0e\\x0b\\xb7d\\x0b,\\xa4\\xf5>\\xacbn8\\xbd\\x91\\xe7s\\x16a\\xa70\\xb6MB-\\xe2o\\x9a\\x90\\xc0\\x9aj\\x01\\xd5\\xf8\\xe7\\x8f\\xac\\xbb\\xc9\\x8b\\xcb\\x88T:\\xe5\\x85d`\\x06\\xd6\\xe0\\x9b\\xde\\xa63\\xd7\\x13\\x11\\xe4U\\x1c\\xf7\\x0c\\xd3\\x01\\xab\\x8b\\x82\\xf9\\xb9\\xc1\\x9e\\xc6\\n\\xea\\xc1\\xdcM\\xe7&>\\x9d\\xca\\r\\xbe\\xd3\\xf0\\xcc\\x04\\xca\\xe3\\xeb(6v\\xfej`\\xb2\\xf5\\xf9!\\xa5\\xdc4\\xe3\\xdc\\xf8\\xf1\\xc5`\\xa9\\xc8\\x9f\\x13]0aY\\xdewd\\x0b?\\x97\\xb9T\\x0bh\\xde\\xa0\"\\xba[j\"QG\\xa8+\\xd3\\xfa=\\xc0\\xednl\\xbb\\xf9\"\\xe15\\x9cnX\\xc8\\x0eq\\xaf\\x99\\x81\\x16\\xd6S\\xa4\\x96\\xd9\\x91x=Gq\\x80\\xf6\\xfe&n\\xc6(\\x8e\\xf2\"e\\xe0\\x8a\\xc0)\\xd7\\x82qStv\\x93W_\\xcc\\xb3\\x03\\x98\\xf8\\x1e\\xe5\\xd9\\xd7[\\xf0\\x08\\x14C\\xaf\\x03\\x81a\\x95>\\xb4\\xc3^>\\xc7\\xcc\\xc4\\xdd\\xbb{\\x8f\\xa5\\xe9\\xdf\\xa8\\x1b\\xe5\\xfegz&~\\xbdN9\\xad}\\'wk\\xab\\x83{\\xc2u\\x07:w0\\xb7u\\xb4/\\x1b\\xaf\\xe3s\\x98\\x80\\xcd<\\x92\\xdb\\x07\\x8a\\xf9!\\xaeBU\\xc0f\\xef\\xf20p\\xf4#\\xfd\\xc6\\xdc`\\xc5\\xff\\x000MMr|\\xf9\\xaf\\xcf\\x9c\\x1a\\xe7\\xc0\\xef\\xb9G\\xb9x}B\\xcfL|x\\x9c\\xba\"\\xba\\xe9\\xcf\\x1a|\\xd7\\x8cL\\x7f\\xe4u\\xe9\\xe8\\xdc\\xec\\x0e0s\\x12\\xd5\\xb4\\xdfg,\\xe2\\x1bo\\x86\"\\xba\\xb3w]\\xa7\\xcc\\xa8\\xdd\\xd8T\\xa5\\x19\\xd2\\x98\\xe6\\x02\\n{\\xa8\\x0e\\xc0\\xfc1\\x00\\xca\\xfa\\x8dA\\x00\\xdc\\xa6\\x89\\xcdx3_s\\x13\\xe1\\xa3\\xd4\\x0e\\xa1\\x03x\\x87S[Ws\\xe97\\xc6a\\x9f\\x89\\xc4\\xfc\\xa6 \\xd7\\x10\\xc8\\x9d~\\xd2\\x99\\xff\\x00\\xaa \\xbb\\x81\\xf9\\xcct\\x17\\x83\\x92b\\xb9\\xdf\\xf9(\\xce*t\\xba5q\\xfbc\\xf3\\x0f\\xab\\xf1\\xf9\\x9fC\\xe6\\x1fs\\x9f]KUs\\xff\\x00frf\\xd8\\xa9\\x84\\x85k\\x17\\xdd\\xc6\\xb3x\\xaco1\\xac\\xe0\\xe6\\xae\\xe7\\xba\\x9cT\\xf8\\x99\\x9cT\\xb9\\xc7\\x83\\xd6jev\\xfe#\\xb7\\xa7\\x98\\xd7\\xf53\\xbe;\\xb8\\xa3o\\x93^X\\xb8\\xff\\x00b\\xae\\xedu\\xac\\xf7\\xea&M\\xd9G6kpo\\x91\\xbcm\\xe9%\\xe4P2\\xc3\\xf9?\\xa8\\x08\\x05\\xe9Hz\\xa8\\x8bj8\\r\\x9f\\xeck\\x8aj\\xbf\\xf6%\\x97\\x0c|E-\\x95f,Hf+\\xfc\\xc5(1\\xf34\\xf5\\xe0\\xa4\\xf5\\xcc\\xfc#\\xb9\\xa2q\\xdc\\x17\\xe8,\\xf9\\x9b\\xcfV\\xf81\\x9878\\x7fn\\xa3\\xbdj\\x06\\xe96o\\xad\\xcc\\x97f\\xa5\\xd5\\x97\\x87\\x8e\\xe55\\x9a\\x9d\\x95\\xdea\\xf1\\xea\\xe0\\x15\\xb6\\xae\\xf9\\xeen\\xdcg5.\\xcfo\\x13|a\\xcf\\xf7\\x05g\\x82\\xd0y\\x899P\\xe3\\x04\\xc9Z\\xaer\\xfe&B\\xcd\\xe1\\xa7W\\x00\\xe5s\\x8e\\xb5\\x0b\\xb7\\x1981\\xf7\\x89@\\x1a\\xaa\\xad\\xca\\xe75\\x15k\\'=\\xd7\\x80\\xb1\\xf5\\x19D\\xef\\x9f\\x06\\xe7\\xaf\\x079\\xccw\\xe5Gl\\xb8f\\x18\\xde\\xa0\\xd2\\xe3\\xe9\\xa9AZ\\x19\\xa7\\xb8m[uG\\xd1!\\xd3\\x7f\\x0f3\\x18\\xa3\\xbbi^\\xe2fRi\\x18z\\x18TP\\x1c\\xd7\\xf1(\\xc8\\xaeW5\\xc6\"\\xc3\\x14\\x82\\xc4\\xc4-8\\xf9\\xab\\xe2h-=2\\xd6\\xbb \\xbdc\\x8fP(\\x87\\x1d\\x11\\xe4\\x84\\xf4\\x96$&\\xb0s\\xdc9\\xc4\\tXe\\x1bc\\x90\\xf1\\xc4%@~\\xbdw\\x17\\xd5\\xfb\\xee\\x0e\\xd3\\xec\\xc3\\x03\\xfbCo\\xa8v\\xe7\\x9f\\xeev\\x8a7L,ol9\\xcc-\\xcf,\\xad\\xd5\\xd9\\xc7\\xa8\\xa5\\xd2\\x90\\xe6\\xa6\\x8e\\xd5\\xeb\\xb9Y\\xd9\\xcf\\xc4)\\x8bWd\\x07\\x81\\xbdC\\x9a\\x18G\\xd9\\xfe@N\\x1c\\xa6?\\x1f\\x98\\xd9\\x95\\xf7\\x9d\\xaf3\\x04\\xd0\\xb8O\\xd9\\x83bqp\\x1bf\\xab5[\\x99\\x05\\xe7K\\xc7\\x83s^k\\xc7\\xbf\\x04fg\\xd2o6|\\x10\\xcc\\xcd\\xe4\\xf5\\x08\\xe6\\xfd\\xd6`j\\x9a/\\x9e~f\\x1e=c\\x7f\\'\\xf3\\x158k\\t\\xb0x~\\xb12\\xd6^h\\xd9\\xf1\\x07\\x17\\xfe\\x0c\\xee(\\xf3\\xc9\\xea\\n\\x82\\x83\\x9a\\xbc\\xc5\\xafh\\x19\\x908\\xd5KQ8\\xee7\\xa3\\xbb\\xe6g \\xaa\\x82|\\xe5\\xba\\xb8\\x01VI\\xa1\\xe6s\\xdc9\\xdc\\t\\x80]\\x0bWt\\x0cj\\x86`J\\xea\\x1f^\\x85 \\x0b\\xe6\\xf6\\xb1m\\x08CMF\\x01\\xdb\\x89s,R\\x07hC\\xff\\x00\\xa9\\xa0\\x1bU!\\xba%\\xd8:\\xba\\x19\\xff\\x00\\x83\\x10\\x17\\xfb,}\\xc8\\x92n\\x9b\\xd7\\xafQ\\xc2.\\xcb\\x9c\\'\\x9c\\xa1\\xab\\xa1\\xa8\\xbd\\xf8x\\x06\\xd5IEi\\xbd\\x96G\\x8e*\\x9ez\\xb14\\xf8\\xbc\\x7f*C\\x0e?\\xca\\x1a\\xba\\x18o\\xde\\xbc\\x07+P\\x07\\x9b^\\x1d\\x90\\x873G\\x7f\\xbb\\x8fJa\\x08\\x1d\\xc7W\\xc7\\xab\\x13e\\xcf\\x85O\\x08B\\xaau\\xb1\\xceh\\xb0\\x87]B\\xda\\xb4\\x07\\x87\\x19\\x1b\\x9bo\\x02X\\xca\\x0b)3\\xb0\\xdb\\xb6\\x9d?\\xc3H\\x83\\xeb\\x0f\\xf6K\\n\\xd8\\xaaQ\\x93\\xd3\\r\\xbd\\xe0\\r\\xbcPB\\xdfP\\xdf\\xb2\\x19\\xf4\\xde\\xff\\x00\\xaa,\\x96U\\xf85\\xdf\\x0f\\xf9\\xea_\\x8b\\xe4?\\xb2\\x11\\xd4\\x1f\\xf6\\\\C\\xc8\\x87\\x83V\\x03\\x07D0\\x88\\xcf\\x89\\xcd\\xe7a\\x08\\x7fw\\x15B\\xf3G\\xef!7[\\xe5\\xad\\x96\\x82\\x07\\xfcS`\\xfd\\xa9\\x9cw\\xd6\\xe0l\\xae3\\r\\x8e\\x92\\xb4\\x01\\xdd\\xacx\\x86dw\\xc3\\x08\\xf6\\xd6\\xcd\\x90-}O\\x08\\x91\\xd5@]\\x1e\\xad!b\\x07l\\xc3\\x0b\\x94 \\xb6(q\\x9e#\\xae~\\xc41*\\x83A\\xd6\\xe9\\xfaK8\\x00*\\x14Xa|C\\xec\\xf5\\x0f\\x9b?\\xa5|K\\x9b\\xfc\\xa7\\x83\"\\x88$\\x0e\\x91\\xdd\\xc4\\xfe\\xb9qy@o\\xee\\x95\\xd6\\x82\\xac1\\xbf\\xc1$Y\\xbd\\xf5\\xee\\xe4\\x1b\\xf2\\xe882\\xeew\\xdb\\x93\\xd6\\x7f\\xbbJ{s\\x8f\\xfe\\xe9\\xb9|\\xf6hk\\xed\\t\\xff\\x00\\xe1NZb\\xb8\\xc4o[Cj\\xbb\\xb5X@\\x00\\x05\\x00Q\\x12&\\xfe\\xbc\\xc0\\xf8zTGg\\xd7E\\xb4\\x1a\\xad\\xb7\\x01(\\x10\\xac\\x1d$\\xc2\\xc8\\x81\\xd7\\x80\\xbd/{\\xbbR\\xce\\x1d04\\x9b\\x0f/\\x81\\xd33\\x1b\\xf3\\x92HC\\x94}\\x84<ug\\xe2O\\nE\\x90c)qC\\x13=#\\x00vf\\xf7\\xe3\\xad\\xcf(<\\xe9S\\xfe\\xef_\\xa2\\x17\\x15\\xa4\\x18\\xc1d\\x0c\\xb5T\\xcf\\x10\\xca\\xd9\\x7f\\x89}\\x95t\\xcc\\xb5\\xdc\\xc0\\xbf\\x98+\\xc6g\\x18}\\xa1\\xe9\\x88@\\xde&\\r\\xc0_\\xe1eh\\xdf\\xed@\\x7f\\xe7\\xcf\\xee\\xc4\\xa9\\xb6\\x1f\\x9d\\x93\\xcd&\\xba\\xcb\\xef\\xfc{\\xfa\\xa8\\r\\x05?\\x1b\\xaf>\\x80!\\xa4x\\x94\\xf3\\x0eKC_~D\\xf7\\xf9\\xfc\\x18Z\\xa3\\x0c~\\xf0\\xfd\\x98}\\x83\\xfb\\xa7\\xe9S\\x96\\x9c\\xaa\\xfc\\xf9\\x8eq\\xd8nwy\\xff\\x00\\x7f\\xc2\\xdf\\xc7\\xf7\\xa0\\x0b8Oc\\xcfD:\\xfe\\xacR\\xfc|\\xd4\\x9a\\xee\\xd2\\xaf\\xc6i>\\xd4\\xf8z\\xfb\\xe8\\xca\\xfc\\x118\\x82\\xfb\\xa7\\xf4S\\x97G\\xe3\\xe7\\x88\\xf4\\xbf\\x93\\x07\\x96\\xa71\\xdf\\xc1@@\\xcd\\x15\\xa31\\x99J^\\x8eYt\\xea\\x99Ri\\xc6\\xaf\\xfb\\x99_\\xae\\xe5?-@\\xe8\\x85 oP.\\x15P\\xcc\\'\\xfb\\x91\\xfb\\xaf\\xee\\xb8<\\xdc\\x88\\x18,Jcs\\x1fm\\x0f\\x00\\x18+\\x1e\\x86\\x96\\xbe\\xc7\\xea@h)\\xca\\xed\\xdf\\x9fAP\\xc2\\xf1|m\\xd4\\xa1i;\\xfe\\xc1\\xdc\\x19?\\xc98\\xf3\\xdf\\xbc\\x7f\\xf0\\xd3\\x96\\x9c\\xaf1\\xa1\\x17\\xbe\\x0e\\xa3*\\n\\x9e\\xfb>\\x13\\x10X{\\xbfi\\xec\\x8f\\x82T\\xa1\\xd2M\\xa5\\x1e\\xff\\x00\\xd1\\xd3\\x96\\x11\\x12\\x00\\xa4\\r\\x85\\xab\\x8c\\xbe\\n\\x92\\xff\\x00\\x11n\\x97\\xd6\\xc6-\\xf6T\\xa5=o\\x7f(\\xebG\\xd6\\xd5\\xf0=O\\xe4\\x8d\\xdc\\x9f\\x14\\xa4\\xc2\\x06\\xb6\\x15\\x10q\\x16\\xef=\\x03\\x1f\\x80\\x99\\x8d=\\xf6ym>Z\\xbf6?\\x1a\\x1d\\xfc\\x14\\n\\xd8\\xa2\\xed\\xef<B\\xc5\\x82}\\x93\\xe6_mW\\x87r\\x95\\xf9\\x92\\xbe\\x8b\\xc5D:\\x1b\\xd8\\x19>`\\x18\\x8f\\x06\\xbd\\xca\\x84\\'\\xfc\\xd6f3[\\x0f\\xca\\x92\\xb8c\\xd0M\\xac\\xd8\\xf8\\xfc\\x1f\\xdd\\xb7\\x8b\\xd5\\xbf\\xae\\xf1\\xfdH\\r\\x059y\\xf3\\xe8\\x00\\x9a\\xd8B\\xee\\xff\\x00#\\xe3\\xc5\\xe8\\xfe\\xab\\xfb\\xc5\\xcd\\xbb\\xf1\\x90F\\xbe\\xa15_#\\xed\\xcf\\xd3NZb\\xa7\\xe7\\xe0kj_\\x1f\\xd4\\xabG\\xb7\\xcau\\xc5mu\\xd1\\xd4e_\\xef\\xd6\\xb0\\xfb\\xff\\x00\\xb6\\x1f\\xfc1\\x0b\\xd3\\xfe\\x9f\\xfb\\xf8\\xd05x\\xb8\\xff\\x00\\xbc\\x96\\x9b\\xa0\\xe0\\'*\\xbe\\x12\\x94\\xad^\\xf7/I\\xfc\\xef\\xca\\xfe\\x8aq*\\'\\xe8\\xe0\\x8e\\xfe\\n\\x06\\x15\\x1eu\\x8b\\xce\\xee\\x06\\xbeK\\x06\\xd1\\xa9[ \\xf8\\xc4T\\xeb\\x83\\xf3\\x1c1y\\xe4\\x95\\x93\\xe9\\x92\\xbc\\xd1\\x02\\x04=\\xcd\\x97\\x11\\x7f\\x07\\xef0\\x96\\x00%\\xf4\\xf7n^\\xf2{\\x98\\x18\\x9c\\x7f\\xdf\\xf89\\xfd_*\\x80\\xda\\xb6\\x9fp\\x08\\xd4pYv\\x17v\\xff\\x00\\xd40\\xe1\\xf8\\xf3\\xe864\\x9fv\\x16\\x94\\xfb\\x10\\xc2p\\xca\\x01\\xf2\\x94L\\xde\\x8f\\x15\\x9c\\xef\\xd1\\x059i>\\xc2\\x90\\x83\\xdd#\\x9c\\xb3\\x9c\\x1e\\xe3<\\x15\\xbb\\xbe\\x97\\xb2\\xa44\\xd8\\xc9\\x88\\xa8\\x08S\\x9eKE\\xea\\'H\\x8at\\x11\\x96_v\\xe5Z\\xc6\\x96?\\xebBcZ\\xaf=\\xe0\\xfb\\xc1\\xe0\\xbd@D\\x80\\x16\\xac9\\xa0;\\xe7\\x87\\xfd\\xde\\xbcj\\xef}\\x9b\\xcc\\x1ezF\\x82G0_\\x02\\xbb\\xff\\x00P\\x95\\x16N\\xf9\\xd9<\\xd3\\x96\\xbc\\x92\\xed\\xf5|S\\xb5Rcf\\xf2\\x9d\\xfe\\x8c\\x05;\\xf8h\\x05j\\xc4\\xbd\\x1b\\x98\\x86&\\x83\\x1f\\x10\\x18Q\\xc2\\xa5\\x1fw\\x19\\x89M\\xa0\\x98\\xa9F\\xde:6Gzv\\xf5\\x0f\\xfd\\x84!t\\xf1::\\xc1\\xc24\\x12\\x9c\\x9c\\xf8\\xfc`\\x8e\\x1a\\xd2\\xe2\\x81\\x01\\xd4;\\xc9\\x9e7\\x8e\\xb8x\\xdd\\xcb\\xb9H\\xc1\\xf4\\x89\\t\\xdb\\xe3\\xcd\\x81\\xd4\\xd6\\xecU\\xdf\\xd5\\xd6\\x8f\\x8d\\xf7\\xff\\x00o\\xf1\\xcb\\x0c\\xaaX1\\xce\\xf6\\xf3\\ne\\xed~U\\xa3-\\xf3\\xf5{\\xc0\\xea\\x0cS\\xb2%\\x94@a\\x93\\xf4\\xfaZ\\xb7\\xb8Z\\n\\x83v\\xc3\\xa0\\xf5\\t\\x18\\x92\\x89\\n\\xa8-\\x14\\x08s\\xeew\\xe5\\\\\\xb0\\\\\\'\\x17F\\x89\\xc0a\\x07:\\xef\\x8a\\xef\\xc32\\x9c\\xf3G8\\xe8\\xecg\\xfa<\\x1e\\xea\\xf5f\\x0bL\\xb5EZ\\xc7H\\xb3\\x84\\'\\xa3\\xe3\\xfb\\xf1\\x0f\\xbd\\xed\\xbf\\x97\\x19\\x7f\\xdb\\xf0ptK4\\xb2\\xbaH;\\xdf\\xa7\\xf0\\x11\\xc6\\'\\x92\\x8f\\x96\\xd8\\xd6\\xceO\\x1f\\xdc\\xf9:\\xf2\\xe9T\\xef\\xe3\\xf7\\x19\\xac\\xaf\\xe69\\x8bw}>\\xd7\\xc4=z\\xa1\\xbf\\xadh\\xc7\\x9a}c\\x9f\\xfe.\\xd0u\\xa4\\x17\\\\\\x89\\xb0\\x9b\\x99\\\\\\xcc\\nX\\x8e\\x1b4\\xbeo~\\x830(Z\\x800Q\\xa0\\x96\\xbd\\xc7\\r\\x8b\\x18\\x7f\\xea\\x8c7\\x8c*\\x98\\x00`\\x03A\\x1aaj\\xdf\\xd5\\xd6\\x8c\\'\\x0f\\xa4\\xf5\\x9dN7\\xd0l\\x81T\\xe1\\xab1oLV`(Rm\\xf4\\xc1\\r\\xa1{7\\x08\\x1a_\\xf1\\xf14\\x1c\\x85\\xf1\\xb9w\\x9a\\x07\\xc4\\xa8\\x10!Iv\\x9a\\xe6\\x10\\x98\\xdf\\x8cz\\x0e\\xfb\\x8d\"\\x1a\\xeacM\\xd5\\x19\\xf0E\\xe4\\x07y\\xc4\\xe7p\\xa9b\\xce\\xb39\\xa9\\xab\\xe2~\\xf3\\n\\xff\\x000.\\xb7F\\xa29T\\x95u\\xf0\\x7f\\xecp\\xee\\x91\\xe450\\xc0\\xbdW\\xed\\x06\\x8d\\xf5\\x9f\\xee+\\xae\\x95p/(n\\xc9\\xc7\\x1f\\xf5\\xc7I\\x84\\xef\\xab\\x8f\\xe0\\xebP\\xb1\\xf6\\xf0A\\xe4\\x99\\xd9~\\xa5\\x07\\xf6j\\xa0\\x16i\\xbew8\\x08\\xad\\xdc\\xa2\\xaa\\x1c6\\xcc\\xf7\\x93\\x06epg\\x84\\xdc\\xe4\\x05\\xf4\\xc4U%|\\xccn}\\xbc\\x8c\\xe1#\\xf2\\x9f\\xceH\\xa6i\\xdf?qIV\\xf8$\\xf9F\\xb8\\x84`}Ap\\xe2\\n\\xb5\\xa7sJ\\xb2\\x97\\xf3\\x01)\\xc1QP\\'g\\xf1\\xf6\\x8a\\xbc(rc\\xe0\\xcd\\xd9\\x17\\xbdf&A\\xf3Z\\x84\\x9aO\\xff\\xc4\\x00\\x1f\\x11\\x00\\x02\\x02\\x02\\x03\\x01\\x01\\x01\\x00\\x00\\x00\\x00\\x00\\x00\\x00\\x00\\x01\\x02\\x00\\x11\\x10\\x12 0@\\x03P\\x13\\xff\\xda\\x00\\x08\\x01\\x02\\x01\\x01\\x02\\x00\\xe1C\"\\tU\\x8a\\xae\\x00\\x18\\x00\\xcdW\\x1b\\x97U\\x8a\\xe1\\xaej_Q\\x00`C\\xc8\\r\\x08\\x03]u\\xd6\\xab]j\\xb4\\xd6\\xc0\\xd6\\xaa\\xb5\\xd6\\xaa\\xb5\\xaa\\x9a\\xeb\\xadV\\xb5\\xae\\xbak\\xae\\xbaT\\xd7Mu\\xd3M4\\xd3M4+\\x81\\x0f%\\xc1\\x83\\xa4q_a\\x83\\x81\\xe9=K\\x83\\x07H\\xe2\\xbe\\xc3\\x07@\\xe8\\xbb\\xe2\\xb8h\\x9d\\xc9\\xdc;\\x9a\\x0e\\xe6\\xc8\\xe4\\xb8h\\x9d\\xc9\\xdc2:\\xcc\\x1d\\xcf\\x0e\\x07!\\x86\\x8b\\xdab\\xe4u\\xdfM\\xe4\\xc5\\xeeh\\xd0s\\x06\\xce.\\xee\\xee\\xefk\\xda\\xee\\tv<\\x17`\\xdd\\xed\\xb6\\xd6H7w\\xb5\\xed{^\\xd7\\xb5\\x92\\xd0zD\\x1cn\\xefm\\xaf6\\x1b\\xf5\\x04\\x1cI&\\xf6\\x06\\xc4\\x10\\xc2m\\x0f\\xeb\\x92Y\\xca\\x96#\"\\x03\\x82\\x14\\x98?Y\\x8b5\\xd9\\x83\"\\tUG\\x0b\\xe5\\xbb\\xbb\\x10\\n\\xf3\\x0e\\x0f\\x0e.\\xf002I\\x82\\x0fH\\x80\\xfa\\xde\\x18e\\x88!\\x89\\xc2\\xee\\x08;n\\xee\\xfao\\xce\\xad\\x041\\xa1\\xc8\\xc0\\x82_\\x11\\xecO1\\x81\\x90\\x88cC*\\x87\\x00`\\x83#\\xd4p\\x9erU\\xee49\\xaa\\xa9\\xba\\x90\\t\\r\\xb0\\x94\\x90\\xcb\\xbf2\\xf9\\xda*\\xa91\\xa1\\xca\\x95G\\x020\\xf9C\\x02\\xff\\x00&\\x0b\\x00\\x82Uy\\x97\\xce\\xe1Hr\\xcd\\x8b\\xb4m\\xd8\\xc6?<\\x02\\x1d\\xc0@I\\x10\\x92\\xd5\\xe10\\xc3\\x08_?\\xd0)e\\xda\\x19wa\\xae\\xda|\\xa1\\x10K\\xde\\x00e\\xea\\x8c\\xc3\\xc0a\\x80h\\x07\\x99\\x83\\x8d\\xb0x\\xdd\\x92\\x86\\xd0\\x1c\\x15\\x10;\\x1aXA\\x1e$\\x9by\\xec\\xa6\\x94a\\xe3T\\x00\\x02\\x070\\xc0\\xe6\\x00`;Y>/\\x9c\\t\\xfc\\xbd\\x0f\\x0f!\\x9aX\\x0f\\xd1T\\xaa\\x84\\x80\\x15\\x86\\x02\\xb0\\xf8\\xbeQM\\xfa_\\x90\\xcd(X\\xf3\\xe7>a\\xcc\\x04\\x9c\\x08\\xb0C\\xe1\\xf8J\\xae\\x83\\x07\\x81\\xf8\\x8c\\x08 \\x00Q\\x8aR\\x1c^DL7\\x85\\n\\xfdw\\xe80x\\x1f\\x88\\x82\\x05\\x0b@\\x01\\xf4\\x88\\x11cJ-\\x81\\x13\\r\\xe1\\xf9\\r\\xaf\\xd0\\\\\\xe4\\xe0@C\\x88\\x14+\\x97\\x9f\\x05\\x10\\xc2qpD\\xc3x~C\\xf9\\xe9\\xe61\\xbe\\x92\\xf0A\\x15\\x04\\x0e>\\x83\\xe8I\\x9f%1\\xa3\\x1c]\\x88\\x98o\\x0f\\xc8\\xef\\xb7A\\x83\\xa8g\\xe82`\\x84\\x15\\xa8\\x00\\x00\\x0c\\x05\\x00G\\x8d\\xc5b\\xe0\\xf8~+{\\xf4\\x18:@\\xcb/\\xd0`\\xc16\\x84\\x18\\x00\\x12\\xd4\"V>\\x83\\x82\\xc5\\xc1\\xf0\\xfc\\x97M|\\x14\\x07\\x00]J\\x03\\xc0\\x1c\\xd8\\x8888e\\xac\\xa1\\x06\\x08V\\xbb~lZ\\xfc\\x00q\\xa8\\xc8S\\x85\\x83\\x8bX\\xa3\"0(\\xeb\\x95 \\xe1T\\xa9\\xed\\xf9\\x92\\xd7\\xdb]t~e*\\x82\\x84\\xb8\\x11>c\\x90\\x84:e\\r\\xa8\\x18*W\\xa4C\\x13\\x15\\xda\\x07iS\\xf0?!\\xf3\\x1f?\\xe4>Ao\\x91\\x822\\xfd\\x17)\\x10\\x19Q\\x81\\xe9\\x10\\xc4\\xc5\\xf5\\x8ec\\xd0`\\xc3\\x86P\\x8b\\xf2T\\x1cXK\\xe8\\xbd\\xaf\\xc4=\\x06\\x08#B\\xa1&\\xdc\\x04 \\xa1^\\x8a\\xaa\\x10\\xf5\\x8f\\xc0\\x11\\xbb\\n\\x15\\xe20 \\x94!\\xe8\\x19\\x1f\\x80#u\\x81\\x19[\\x88\\xc0\\x82X\\x87\\x9a\\x8f\\xc3\\x11\\xbb\\x04$\\xa9A\\x8a\\xc0\\x83\\x02\\x1ej\\x0f\\xe1\\x88{\\x04\\xa9\\xab%dA\\x83\\x0f\\xe8\\x8e\\xcd\\x1b\\xe7Qra\\xe2 \\xfc\\x91\\x81\\xd8\\x18\\x92\\x84/H\\x1cn\\xee\\xf1w\\x8b\\xbb\\xbb\\xbb\\xbc^n\\xf1www\\x81\\x0f+\\x04\\x9d\\xb6\\xdbk\\xc3)\\x02]\\xdf\\x01\\xe98\\x1eu\\x87\\x99\\x16\\xe2W\\xbc\\xe0`\\xf9V6\\x00\\xc0\\x190\\x8e&/\\xa8\\xe0`\\xf9V6\\x06A\\xc8\\x8f\\xc8E\\xf0\\x1e\\xa3\\xea8\\\\\\x888\\x1eB/\\x80\\xfe2\\xe4A\\xc0\\xf21\\rUUUq\\xaa\\x10\\xca\\xaa\\xaa\\xaa\\xaa\\xaa\\xa1\\x0c\\xaa\\x00\\x8a\\xaa\\xcdV\\x03\\x82\\x04\\xaa\\x18\\xa9T\\xb0\\xf5X\\x1e\\xeb\\xb8:\\xddC\\x8f\\xbf\\xcd\\xb0`\\xec\\xff\\xc4\\x00\"\\x11\\x00\\x02\\x01\\x03\\x04\\x03\\x01\\x01\\x00\\x00\\x00\\x00\\x00\\x00\\x00\\x00\\x01\\x11\\x00!@P\\x12 0`\\x02\\x10\\x80\"p\\xff\\xda\\x00\\x08\\x01\\x02\\x01\\x03?\\x00\\xd87\\x08.D\\x18Bl_9\\xe58_\\xd6\\x06\\xb8O\\xd6\\x06\\xbd\\x16\\xbd\\x16\\xbd\\x16\\xb81\\x05\\xf8\\xe3\\x1e\\x87t}\\x15tU\\xf0#\\xe8\\x8b\\x95\\xc5}I\\\\\\x03\\xd8\\xbd\\xbfJ\\xee\\x92\\xb7U\\x8cm\\\\.(\\xa3\\xc9\\xa3)\\xb5q\\xbe\\x80\\xc6\\xcdSF\\xda\\xcaZ\\x8bw\\x1f-\">\\xd4\\xd5\\xb6\\xb2\\x96\\x8e\\x1c;\\x11\\x98\\xae\\xd0\\xfe\\x15\\xe414\\xbc\\xf1\\x10b\\x10\\xca,q\\xc2\\xa9\\xaa\\xf4@ \\xb8\\\\\\xba\\xe6\\x9b\\xd3\\r\\xcb\\x87\\xc2;%na\\x86\\xe4yM7O\\x9cA\\x05\\xf0\\x83f\\xa9\\xa7\\x89d\\xdf\\xa3\\x0c>\\x84\\x1e?9?K\\xa2?\\xe8j;\\x07\\xf4x\\x80\\xf4B!\\x10\\xc7a\\xff\\xc4\\x00!\\x11\\x00\\x02\\x02\\x01\\x05\\x01\\x01\\x01\\x01\\x00\\x00\\x00\\x00\\x00\\x00\\x00\\x01\\x02\\x00\\x11\\x10\\x03\\x12 0@P\\x13\\x04`\\xff\\xda\\x00\\x08\\x01\\x03\\x01\\x01\\x02\\x00\\xf97\\xc2\\xaa\\xab\\xd7UUUUUU\\x8d\\xbbj\\xb6\\xed\\xdb\\xb7n\\xda\\xaa\\xaa\\xaa\\xaa\\xaa\\xafy\\x83\\xb9~\\xb1\\x83\\xb9\\x7f\\xc2\\x8f\\x96=C\\xc2}C\\xd2`\\xf9\\x82\\x10\\x05y\\t\\x07\\x95WEf\\xfaj\\xaa\\xaa\\xaa\\xab\\x80\\x86\\t^a\\x07\\x10\\x02\\x91\\xb6\\xaa\\xb2@\\xf5\\x08b\\xfa\\x04\\x1c\\x04\\x00\\n\\xdbTA\\xcd7\\xa9a\\x8b\\x8a\\xaf\"\\xf0\\x10\\x0c\\x00G\\x00%\\x9e#\\xb2\\xab\\x98\\x8d\\x13\\x17~E\\x87\"\\x01\\x81\\x0f\\x1b\\xddc\\x88\\xec\\xbb\\xe61w\\xe0\\x1d\\x14\\x02\\x85\\x95UD\\x1c\\xd5z\\xd6\\x1f\\x18\\xe8\\x10\\x00\\x06j\\x88ir\\xbd\\x8b\\xe8\\xad\\xa8\\x94 \\x82\\x0c\\td\\x88\\xe2\\xb0xQ\\x8b\\xe6\\x18\\x1ebP\\xaa\\x15\\x82\\x080!$\\xdc`#\\xf0\\x10\\x07O0\\xc0\\xf3\\x88\\x90\\x8a\\x10b\\xee\\xe0\\x15\\xb5\\x94\\x95S\\xa7\\xb0\\x84\\x9a\\xd0J\\xaf\\x18\\xc0\\x95\\xe6\\xd1\\x8e\\x08\\x83\\x15F\\x16HB\\xcdX\\x80\\xcf\\xd0\\x18c\\xbc\\x04\\x1f\\x18\\xc0\\x97\\x91\\xe3\\xfevxA\\x82\\x0c\\xb2\\x1d\\x1d5r\\x93Vi\\x97\\x9boN:\\x14+\\xb4(>%\\x84\\x0e#\\xc7\\xa0\\xc2\\x12TA\\x93\\x81\\x18$\\xd6\\x80\\xac2\\x91\\x1a\\x13@\\x10\\xc8<K\\x18\\x86\\xf3\\xa4\\xd3,\\x98\\x18\\xa9UBk!\\x04\\x88bJ0M\\xcc\\xd7\\xe1\\x10C+\\xce\"\\xea\\xae\\xb5\\xc1/7q\\xd8\\x83\\xa7J?\\x10\\xb5[\\x190 \\xef\\x10F\\x85\\xff\\x00oF\\x9cR \\xe6#MA\\xa6\\xfa\\xaa\\xac\\xba\\x84\\xb3\\xa6\\xa0a\\x1bM\\x87\\x84MXey\\xaa\\x84\\xd3\"\\x0eWlf\\x91\\xd4\\x8d\\x12[\\x84\\x02\\x03z\\xb0A\\xe0\\x13V\\x1fQ\\x9a0ph1\\xb4\\xe2\\x84XI\\x82:\\xa00E\\x9a\\xb0A\\xde \\x8e\\x19v\\xfa\\x04\\xd3\\x83\\x83A\\x8d\\xc7\\x05h\\xcby\\xa7\\x1c*\\x98\\xb8x \\xef\\x18pWo\\x96\\xa6\\xdd=20 \\xc0\\xc5\\x18am1\\xaclE\\xcd\\x00c\\xf8D\\x11\\xa1?\\xa7\\x90JUT\\xe0 \\xc0\\xcbC\\x08F\\xd5a\\x12,\\x12\\xa8\\x03\\x1f\\xc20\\xf0\\x8a\\xf3$\\xac\\x91,\\x10Af0\\xc1\\x19\\xb0\\xb18\\x08\\xf1\\xf0;\\xc4i\\xaag\\xe7\\xe6VF9\\xaa\\x82\\x02#\\x02\\x08\\x8e\\xd8X\\x90dG\\x8f\\x81\\xde#MF\\x07\\x7f\\x9d\\x1c6\\xdc\\x08A\\x15\\x83\\x184<4\\x88`D\\x04\\xcdE\\xac]\\xf5\\x88\\xd3P\\x05\\xaf=#\\xab\\xe1e\\x11X\\xadR\\xdc\\x04\\x04:\\xb4\\xb8\\xeaD0\\x90GX\\x8d5\\x14-v\\x0e\\xd5+\\xa8\\xaf\\x00\\x95P\\xb6\\xa3\\x11Y\\x10\\x80Q\\xe2\\x93\\x1d\\x0cl\\x10\\xa4\\x1e\\x95\\xf0\\x8e\\xc1\\x0c\\x100\\xd5]BN\\xa1\\xd4:\\xa5\\xe1\\x15\\x91\\x01`\\x85YM\\x98\\xea\\xd91H\\xe9PO1\\xf0\\xaa\\xa5\\xac1b\\x94m\\xcc\\xecDn\\nj\\xb9\\x0cUm\\xe09\\x0feQZX`\\x82)-pC\\x93\\x14\\x86\\x07\\x90\\xcd\\xee\\xe8\\x1f\\x00\\xc2\\x17+\\xd3U\\x14\\x8eK\\xda>\\r\\x0c\\xafY\\x8aA\\x1cW\\xb4|Q\\xdc\\xb06V\\x1e\\xc1\\xf1Gj\\xe0\\x10\\xd8Xx\\x1f\\xb2`\\x83 \\x86B\\xdc\\x0f\\xd9<\\x81\\xd3$\\xfd\\xaa\\xaa\\xdb\\xb3n\\xcd\\x94 &\\x0f\\xb4`\\xe5X\\x10\\xfc\\x11\\xea\\x180a\\x9ft\\x10A\\xf0G\\xa8`\\xc1\\x86\\xc8\\x82\\x0f1\\x83\\xe3\\x180\\xf0\\xf0\\x1ec\\x07\\xc60a\\xe1\\xe0>\\r\\xdc0K\\xbb\\xbb\\xe9\\xdbU\\xd1g\\xe3\\x8c\\x0eb_Ema\\xd0!\\x1c\\x7f\\xff\\xc4\\x00!\\x11\\x00\\x02\\x02\\x02\\x02\\x03\\x01\\x01\\x01\\x00\\x00\\x00\\x00\\x00\\x00\\x00\\x00\\x11\\x01! @0P\\x10\\x12`\\x90p\\x80\\xff\\xda\\x00\\x08\\x01\\x03\\x01\\x03?\\x00\\xfd:_\\xc8\\xa8\\xbe5\\xdc\\xd1zk\\xb1q\\xca\\x84{c]\\x8b\\x8eos\\xd0c\\xf0\\x87\\xd9<\\xd9\"\\xc1\\x0cB!\\x911\\xd9X\\xe3\\x89\\xe71$\\xacWZ\\xa4q\\xe1p\\xd8\\xe0\\xb2\\xb0\\x89\\xc6\\xb5\\xa7c\\xd4|JJ,q\\xe1\\x93\\x04\\xed\":[)xP8\\xcdwN\\x0b\\x1f\\x03\\x8e\\xf6\\x8b\\xce\\x8b\\xd3\\x82\\x08\\xe9\\xd4\\x17\\x9d\\x17\\xa7$\\x93\\xb2\\xba\\xc9\\xe9\\x96\\xfc|\\r\\x94I;/\\xa9\\xb2\\x88#e\\x1e\\xe2\\xe1\\xb2\\xb7l\\xa2\\x08#g\\xd4\\xf6\\xe1\\xb1FK^\\xca$\\x92v\\x97\\x13\\xe0^\\x1e\\x0b\\x05\\xd9\\xbc\\xdeO\\xf1\\xd5\\x0f\\xe2\\xef\\xe1$\\x9f\\xf2\\xff\\x00\\xff\\xd9'\n"
          ]
        }
      ]
    },
    {
      "cell_type": "code",
      "metadata": {
        "id": "XCeM77vEf70c"
      },
      "source": [
        "# Importamos librerias para manejar imagenes (no tienen nada que ver con el scrapeo)\n",
        "from PIL import Image\n",
        "from io import BytesIO\n",
        "\n",
        "# Mostramos la imagen\n",
        "image_from_url = Image.open(BytesIO(image_response_content))\n",
        "print('Esta imagen la bajamos de internet usando Python! \\n ')\n",
        "image_from_url"
      ],
      "execution_count": null,
      "outputs": []
    },
    {
      "cell_type": "markdown",
      "metadata": {
        "id": "h1cGseCPA0aA"
      },
      "source": [
        "### Documentación\n",
        "La función get y la clase Response fueron desarrolladas por lxs programadores que crearon la librería requests. Si quieren saber mas sobre algún detalle siempre es recomendable buscar en la [documentación oficial de la librería](https://docs.python-requests.org/en/latest/)."
      ]
    },
    {
      "cell_type": "markdown",
      "metadata": {
        "id": "NYNXMrDgA0aA"
      },
      "source": [
        "## ¿Cómo extraigo datos útiles del código HTML?\n",
        "\n",
        "- Veamos un ejemplo inspeccionando con chrome un sitio web:\n",
        "1. Nos posicionamos sobre el elemento que nos interesa.\n",
        "2. Presionamos click derecho -> *inspeccionar elemento* para abrir las *herramientas de desarrollo* (o presionando `CTRL + SHIFT + I`)\n",
        "4. Esto nos da acceso al codigo de HTML correspondiente al elemento de la pagina que nos interesa.\n",
        "\n",
        "\n",
        "<img src=\"https://i.ibb.co/1RSNcs5/inspect.png\" alt=\"inspect\" width=\"1100\">\n",
        "\n",
        "<hr>\n",
        "<br>\n",
        "<br>\n",
        "\n",
        "En **Elements** vamos a poder inspeccionar el código HTML, para ubicar los datos de nuestro interés. Para identificar la ubicación de uno, podemos posicionarnos con el cursor sobre el sitio, hacer click derecho, y seleccionar \"Inspeccionar elemento\".\n",
        "\n",
        "En la solapa **Network** podemos ver todos los paquetes HTTP que realiza nuestro navegador interactuando con un sitio. Identificando los paquetes de las APIs que traen los datos, podemos _scrapear_ datos más facilmente. **[Esto lo verán en la clase de APIs]**\n",
        "\n",
        "<br>\n",
        "<br>\n",
        "\n",
        "<img src='https://i2.wp.com/abodeqa.com/wp-content/uploads/2019/02/Inspect-Element-Using-Select-Tool.gif'>\n",
        "\n"
      ]
    },
    {
      "cell_type": "markdown",
      "metadata": {
        "id": "j208C_1eH8Z4"
      },
      "source": [
        "### **Método 1: Expresiones regulares**"
      ]
    },
    {
      "cell_type": "markdown",
      "metadata": {
        "id": "IIprwSHYA0aA"
      },
      "source": [
        "RegEx para los amigos. Son un mini lenguaje de programación diseñado para realizar búsquedas en strings."
      ]
    },
    {
      "cell_type": "markdown",
      "metadata": {
        "id": "BhrBctRSA0aB"
      },
      "source": [
        "Las funciones principales de la librería re son:\n",
        "- re.findall(pattern, string) para encontrar todos los resultados de una búsqueda\n",
        "- re.search(pattern, string) para encontrar el primer resultado que coincida\n",
        "- re.sub(pattern, replace, string) para substituir un texto por otro\n",
        "\n",
        "Recursos útiles\n",
        "\n",
        "- [Testeo de regex online](https://regex101.com/)\n",
        "- [CheatSheet](https://www.dataquest.io/wp-content/uploads/2019/03/python-regular-expressions-cheat-sheet.pdf)"
      ]
    },
    {
      "cell_type": "markdown",
      "metadata": {
        "id": "XIxDi3ZiA0aG"
      },
      "source": [
        "#### Aplicandolo a la web\n",
        "##### Ejemplo 1: Usamos regex para extraer los títulos del diario La Prensa.\n",
        "\n",
        "\n",
        "```html\n",
        "<h2 class=\"entry__title\"><a href=\"http://www.laprensa.com.ar/491843-Dilemas-de-la-batalla-cultural-I.note.aspx\" target=\"_self\" onclick=\"javascript:if(typeof(_gaq)!='undefined'){_gaq.push(['_trackEvent', 'Notas', 'Cultura', 'Dilemas de la batalla cultural (I)'])};\">Dilemas de la batalla cultural (I)</a></h2>\n",
        "```\n"
      ]
    },
    {
      "cell_type": "code",
      "metadata": {
        "id": "kz1d61KNA0aH"
      },
      "source": [
        "#Usamos el navegador para identificar la estructura de los datos que queremos extraer y creamos el patrón de búsqueda\n",
        "regla_de_busqueda = r'_self\">(.+)</a></h2>'"
      ],
      "execution_count": null,
      "outputs": []
    },
    {
      "cell_type": "code",
      "metadata": {
        "id": "rTtKkAsfA0aH"
      },
      "source": [
        "#Usamos findall para encontrar todas las coincidencias\n",
        "import re\n",
        "import requests\n",
        "titles = [m for m in re.findall(regla_de_busqueda, codigo_html(\"http://www.laprensa.com.ar/\"))]"
      ],
      "execution_count": null,
      "outputs": []
    },
    {
      "cell_type": "code",
      "metadata": {
        "id": "Ssh-aWNdA0aH",
        "colab": {
          "base_uri": "https://localhost:8080/"
        },
        "outputId": "21f20fd7-d2b1-4508-f907-ff27cf3f0aed"
      },
      "source": [
        "print(titles)"
      ],
      "execution_count": null,
      "outputs": [
        {
          "output_type": "stream",
          "name": "stdout",
          "text": [
            "['Vidal cuestionó los \"parches y manotazos de ahogado\" del Gobierno ', 'Tres gobiernos, ningún gobierno', 'Insultaron y agredieron a Leandro Santoro en un café cerca del Cabildo', 'El Gobierno elimina las retenciones a las exportaciones de servicios a partir de 2022', 'Libros aburridos', 'El ataque al Convento de las Catalinas']\n"
          ]
        }
      ]
    },
    {
      "cell_type": "markdown",
      "metadata": {
        "id": "H8oKjJkHFj2K"
      },
      "source": [
        "####  <font color='red'> Ejercicio </font>\n",
        "\n",
        "####  Modifiquen la regla de búsqueda para que descargue los links a las notas en vez del título"
      ]
    },
    {
      "cell_type": "code",
      "metadata": {
        "id": "-Q2ms9IQFvBS",
        "colab": {
          "base_uri": "https://localhost:8080/"
        },
        "outputId": "fc6979f7-faa5-48d7-aa07-e3970f4ab2e5"
      },
      "source": [
        "# Resolución\n",
        "\n",
        "#Usamos el navegador para identificar la estructura de los datos que queremos extraer y creamos el patrón de búsqueda\n",
        "regla_de_busqueda = r'<a href=\"(.+)\" target=\"_self\">'\n",
        "\n",
        "links = [link for link in re.findall(regla_de_busqueda, codigo_html(\"http://www.laprensa.com.ar/\"))]\n",
        "print(links)\n"
      ],
      "execution_count": null,
      "outputs": [
        {
          "output_type": "stream",
          "name": "stdout",
          "text": [
            "['https://www.laprensa.com.ar/507044-Vidal-cuestiono-los-parches-y-manotazos-de-ahogado-del-Gobierno-.note.aspx', 'https://www.laprensa.com.ar/507044-Vidal-cuestiono-los-parches-y-manotazos-de-ahogado-del-Gobierno-.note.aspx', 'https://www.laprensa.com.ar/507043-Tres-gobiernos-ningun-gobierno.note.aspx\" class=\"thumb-url', 'https://www.laprensa.com.ar/507043-Tres-gobiernos-ningun-gobierno.note.aspx', 'https://www.laprensa.com.ar/507045-Insultaron-y-agredieron-a-Leandro-Santoro-en-un-cafe-cerca-del-Cabildo.note.aspx\" class=\"thumb-url', 'https://www.laprensa.com.ar/507045-Insultaron-y-agredieron-a-Leandro-Santoro-en-un-cafe-cerca-del-Cabildo.note.aspx', 'https://www.laprensa.com.ar/507025-El-Gobierno-elimina-las-retenciones-a-las-exportaciones-de-servicios-a-partir-de-2022.note.aspx\" class=\"thumb-url', 'https://www.laprensa.com.ar/507025-El-Gobierno-elimina-las-retenciones-a-las-exportaciones-de-servicios-a-partir-de-2022.note.aspx', 'https://www.laprensa.com.ar/506993-Segundo-tiempo-con-otro-equipo-y-otro-capitan.note.aspx', 'https://www.laprensa.com.ar/506993-Segundo-tiempo-con-otro-equipo-y-otro-capitan.note.aspx', 'https://www.laprensa.com.ar/506990-Julieta-Diaz-la-maternidad-y-la-vida.note.aspx', 'https://www.laprensa.com.ar/506990-Julieta-Diaz-la-maternidad-y-la-vida.note.aspx', 'https://www.laprensa.com.ar/506992-Libros-aburridos.note.aspx', 'https://www.laprensa.com.ar/506992-Libros-aburridos.note.aspx', 'https://www.laprensa.com.ar/506991-El-ataque-al-Convento-de-las-Catalinas.note.aspx', 'https://www.laprensa.com.ar/506991-El-ataque-al-Convento-de-las-Catalinas.note.aspx', 'https://www.laprensa.com.ar/506905-El-Centro-Industrial-de-Ford-en-Pacheco-cumple-60-anos.note.aspx', 'https://www.laprensa.com.ar/506905-El-Centro-Industrial-de-Ford-en-Pacheco-cumple-60-anos.note.aspx', 'https://www.laprensa.com.ar/506814-El-neopuritanismo-alimenticio-contra-los-tomates-asesinos.note.aspx', 'https://www.laprensa.com.ar/506814-El-neopuritanismo-alimenticio-contra-los-tomates-asesinos.note.aspx']\n"
          ]
        }
      ]
    },
    {
      "cell_type": "markdown",
      "metadata": {
        "id": "ahxVvZazA0aI"
      },
      "source": [
        "### **Método 2: BeautifulSoup**\n",
        "* Esta librería provee un *parser* de html, o sea un programa que entiende el código, permitiendonos hacer consultas más sofisticadas de forma simple, por ejemplo \"buscame todos los titulos h2 del sitio\".\n",
        "\n",
        "\n",
        "* Se usa para extraer los datos de archivos HTML. Crea un árbol de análisis a partir del código fuente de la página que se puede utilizar para extraer datos de forma jerárquica y más legible.\n",
        "\n",
        "<center>\n",
        "<img alt=\"\" width=\"700\" role=\"presentation\" src=\"https://miro.medium.com/max/700/0*ETFzXPCNHkPpqNv_.png\"> <br>\n",
        "\n",
        "<font color=\"gray\">\n",
        "Fuente: https://medium.com/milooproject/python-simple-crawling-using-beautifulsoup-8247657c2de5\n",
        "<font>\n",
        "</center>"
      ]
    },
    {
      "cell_type": "markdown",
      "metadata": {
        "id": "BGXRo8BWtIDc"
      },
      "source": [
        "## Generalidades"
      ]
    },
    {
      "cell_type": "code",
      "metadata": {
        "id": "YLnDRuoftSDX"
      },
      "source": [
        "from bs4 import BeautifulSoup\n",
        "from IPython.display import HTML\n",
        "import requests\n",
        "\n",
        "# Vamos a jugar un poco con la pagina de Exactas\n",
        "url_base = 'https://exactas.uba.ar/'\n",
        "endpoint_calendario = 'calendario-academico/'\n",
        "html_obtenido = requests.get(url_base + endpoint_calendario)\n",
        "soup = BeautifulSoup(html_obtenido.text, \"html.parser\")\n",
        "# print(soup)\n",
        "# print(type(soup))\n",
        "# print(soup.prettify())\n",
        "\n",
        "## Tambien podemos mostrar renderizar el html aca en Colab :D\n",
        "# HTML(html_obtenido.text)"
      ],
      "execution_count": null,
      "outputs": []
    },
    {
      "cell_type": "code",
      "metadata": {
        "id": "Jo7AkWAhh23W",
        "colab": {
          "base_uri": "https://localhost:8080/"
        },
        "outputId": "85a59c11-911f-4d1e-813d-f4451d216238"
      },
      "source": [
        "# Si queremos quedarnos con un tag\n",
        "\n",
        "# El método \"find\" busca el primer elemento de la pagina con ese tag\n",
        "primer_h3 = soup.find('h3')\n",
        "print(primer_h3)\n",
        "\n",
        "# equivalente a:\n",
        "# print(soup.h3.text)"
      ],
      "execution_count": 6,
      "outputs": [
        {
          "output_type": "stream",
          "name": "stdout",
          "text": [
            "<h3>CURSO DE VERANO 2021 (7 semanas)</h3>\n"
          ]
        }
      ]
    },
    {
      "cell_type": "code",
      "metadata": {
        "id": "Az5VWD8qh5XP",
        "colab": {
          "base_uri": "https://localhost:8080/"
        },
        "outputId": "02266c23-c07d-4395-a874-ba3a8f35429c"
      },
      "source": [
        "# El método \"find_all\" busca TODOS los elementos de la pagina con ese tag y devuelve una lista que los contiene (en realidad devuelve un objeto de la clase \"bs4.element.ResultSet\")\n",
        "h3_todos = soup.find_all('h3')\n",
        "print(h3_todos)\n",
        "\n",
        "# Si usamos el parametro limit = 1, emulamos al metodo find:\n",
        "# h3_uno_solo = soup.find_all('h3',limit=1)\n",
        "# print(h3_uno_solo)"
      ],
      "execution_count": 7,
      "outputs": [
        {
          "output_type": "stream",
          "name": "stdout",
          "text": [
            "[<h3>CURSO DE VERANO 2021 (7 semanas)</h3>, <h3>INSCRIPCIÓN PRIMER CUATRIMESTRE 2021</h3>, <h3>EXÁMENES DE FEBRERO-MARZO 2021</h3>, <h3>PRIMER BIMESTRE 2021 (8 semanas)</h3>, <h3>SEGUNDO BIMESTRE 2021 (8 semanas)</h3>, <h3>CURSO DE INVIERNO 2021</h3>, <h3>INSCRIPCIÓN SEGUNDO CUATRIMESTRE 2021</h3>, <h3>INSCRIPCIÓN A DOCTORADO 2021</h3>, <h3>SEMANAS DE LAS CIENCIAS</h3>, <h3>ACTOS DE COLACIÓN DE GRADO Y POSGRADO</h3>, <h3><strong>FERIADOS</strong></h3>, <h3 class=\"widget-title\"><a href=\"https://exactas.uba.ar/agenda/\">Agenda →</a></h3>]\n"
          ]
        }
      ]
    },
    {
      "cell_type": "code",
      "metadata": {
        "id": "g_pjutuZh9wz",
        "colab": {
          "base_uri": "https://localhost:8080/"
        },
        "outputId": "3e8d647b-e906-47f2-c953-d706ff0fca9a"
      },
      "source": [
        "# podemos iterar sobre el objeto\n",
        "for fecha in h3_todos[:-1]:\n",
        "  # Extraemos el texto que se encuentra dentro del tag\n",
        "  print(fecha.text)"
      ],
      "execution_count": 8,
      "outputs": [
        {
          "output_type": "stream",
          "name": "stdout",
          "text": [
            "CURSO DE VERANO 2021 (7 semanas)\n",
            "INSCRIPCIÓN PRIMER CUATRIMESTRE 2021\n",
            "EXÁMENES DE FEBRERO-MARZO 2021\n",
            "PRIMER BIMESTRE 2021 (8 semanas)\n",
            "SEGUNDO BIMESTRE 2021 (8 semanas)\n",
            "CURSO DE INVIERNO 2021\n",
            "INSCRIPCIÓN SEGUNDO CUATRIMESTRE 2021\n",
            "INSCRIPCIÓN A DOCTORADO 2021\n",
            "SEMANAS DE LAS CIENCIAS\n",
            "ACTOS DE COLACIÓN DE GRADO Y POSGRADO\n",
            "FERIADOS\n"
          ]
        }
      ]
    },
    {
      "cell_type": "code",
      "metadata": {
        "id": "2KTxwctZiAC4",
        "colab": {
          "base_uri": "https://localhost:8080/"
        },
        "outputId": "84e6b16d-8533-4f13-fa1a-6d60540ca1e2"
      },
      "source": [
        "# Busco por clase, escribo class_ porque \"class\" es una palabra reservada en Python\n",
        "eventos_proximos = soup.find('aside', class_ = 'widget_my_calendar_upcoming_widget')\n",
        "for evento in eventos_proximos:\n",
        "  print(evento.text)"
      ],
      "execution_count": 10,
      "outputs": [
        {
          "output_type": "stream",
          "name": "stdout",
          "text": [
            "Agenda →\n",
            "\n",
            "30 septiembre, 2021,  : Becas de ayuda económica Sarmiento  | + INFO\n",
            "30 septiembre, 2021,  : Concurso de cargo técnico IGEBA CONICET  | + INFO\n",
            "30 septiembre, 2021, 14.00: Coloquio del Departamento de Física  | + INFO\n",
            "30 septiembre, 2021, 15.00: Charlas virtuales de carrera de septiembre-octubre  | + INFO\n",
            "1 octubre, 2021,  : Proyectos UBACYT de Desarrollo Estratégico 2022  | + INFO\n",
            "1 octubre, 2021, 13.00: Coloquio de los viernes \"Cannabis Medicinal: Mitos y realidades de la marihuana en el siglo XXI\"  | + INFO\n",
            "1 octubre, 2021, 17.00: Coloquios del DCAO/CIMA  | + INFO\n",
            "3 octubre, 2021,  : Meteorología del Espacio  | + INFO\n",
            "\n",
            "\n"
          ]
        }
      ]
    },
    {
      "cell_type": "code",
      "metadata": {
        "id": "fVxip8F0iEYA",
        "colab": {
          "base_uri": "https://localhost:8080/"
        },
        "outputId": "3dd08db4-40f6-4282-e57d-ea5918866770"
      },
      "source": [
        "# Todos los links. Esto podría ser útil para seguir scrapeando todo el sitio haciendo requests en ellos\n",
        "a_todos = soup.find_all('a', href=True)\n",
        "for a in a_todos:\n",
        "  print(f\"{a.text}: {a['href']}\")"
      ],
      "execution_count": 11,
      "outputs": [
        {
          "output_type": "stream",
          "name": "stdout",
          "text": [
            "Conocé Exactas: https://exactas.uba.ar/institucional/la-facultad/\n",
            "Carreras de Grado: https://exactas.uba.ar/ensenanza/carreras-de-grado/\n",
            "Carreras de Posgrado: https://exactas.uba.ar/ensenanza/carreras-de-posgrado/\n",
            "Cursos de Posgrado: https://exactas.uba.ar/ensenanza/cursos-de-posgrado/\n",
            "Estudiantes extranjeros: https://exactas.uba.ar/informacion-para-estudiantes-extranjeros/\n",
            "Orientación Vocacional: https://exactas.uba.ar/extension/ov/\n",
            "Becas para estudio: https://exactas.uba.ar/becas-para-estudio/\n",
            "Carreras de Grado: https://exactas.uba.ar/ensenanza/carreras-de-grado/\n",
            "Calendario Académico: https://exactas.uba.ar/calendario-academico/\n",
            "Inscripción de ingresantes: https://exactas.uba.ar/inscripcion-ingresantes/\n",
            "Inscripción a materias: http://inscripciones.exactas.uba.ar/exactas/\n",
            "Programa de Ingresantes: https://exactas.uba.ar/cbc/\n",
            "Becas para estudio: https://exactas.uba.ar/becas-para-estudio/\n",
            "Becas de Investigación: https://exactas.uba.ar/becas-de-investigacion/\n",
            "Distribución de Aulas: https://exactas.uba.ar/distribucion-de-aulas/\n",
            "Orientación Vocacional: https://exactas.uba.ar/extension/ov/\n",
            "Bibliotecas: https://exactas.uba.ar/ensenanza/bibliotecas/\n",
            "Pasantías Educativas: https://exactas.uba.ar/pasantias-educativas/\n",
            "Campus Virtual: http://campus.exactas.uba.ar/\n",
            "Diplomas y certificados: https://exactas.uba.ar/diplomas-y-certificados/\n",
            "Movilidad Internacional: https://exactas.uba.ar/movilidad-internacional/\n",
            "Ofertas de trabajo profesional: https://exactas.uba.ar/ofertas-de-trabajo-profesional/\n",
            "Programa de Formación y Trabajo: https://exactas.uba.ar/programa-de-formacion-y-trabajo/\n",
            "Concursos: https://exactas.uba.ar/institucional/concursos/\n",
            "Sistema de Inscripciones: http://inscripciones.exactas.uba.ar\n",
            "Calendario Académico: https://exactas.uba.ar/calendario-academico/\n",
            "Distribución de Aulas: https://exactas.uba.ar/distribucion-de-aulas/\n",
            "Trámites de Personal: https://exactas.uba.ar/formularios-personal/\n",
            "Campus Virtual: http://campus.exactas.uba.ar/\n",
            "Movilidad Internacional: https://exactas.uba.ar/movilidad-internacional/\n",
            "Concursos: https://exactas.uba.ar/institucional/concursos/\n",
            "Trámites de Personal: https://exactas.uba.ar/formularios-personal/\n",
            "Recursos Humanos UBA: https://rrhh.uba.ar/SitePages/Portal-UBA.aspx\n",
            "Carreras de Posgrado: https://exactas.uba.ar/ensenanza/carreras-de-posgrado/\n",
            "Cursos de Posgrado: https://exactas.uba.ar/ensenanza/cursos-de-posgrado/\n",
            "Juras: https://exactas.uba.ar/juras/\n",
            "Becas de Investigación: https://exactas.uba.ar/becas-de-investigacion/\n",
            "Padrón de Graduados/as: https://exactas.uba.ar/padron-de-graduados-as/\n",
            "Base y Lista de Graduados: https://exactas.uba.ar/base-y-lista-de-graduados/\n",
            "Información y actividades: https://exactas.uba.ar/area-de-graduados/\n",
            "Ofertas de trabajo profesional: https://exactas.uba.ar/ofertas-de-trabajo-profesional/\n",
            "Becas de Investigación: https://exactas.uba.ar/becas-de-investigacion/\n",
            "Incentivos: https://exactas.uba.ar/incentivos/\n",
            "Subsidios: https://exactas.uba.ar/subsidios/\n",
            "Gestión de convenios: https://exactas.uba.ar/gestion-de-convenios/\n",
            "Propiedad Intelectual – Patentamiento: https://exactas.uba.ar/propiedad-intelectual-patentamiento/\n",
            "Viajes Internacionales: https://exactas.uba.ar/viajes-internacionales/\n",
            "Proxy de Revistas: https://exactas.uba.ar/proxy-de-revistas/\n",
            "Experimentación animal: https://exactas.uba.ar/cicual/\n",
            "Bioterio Central: https://exactas.uba.ar/bioterio-central/\n",
            "Centros de Servicios: https://exactas.uba.ar/centros-de-servicios/\n",
            "Movilidad Internacional: https://exactas.uba.ar/movilidad-internacional/\n",
            "Trámites y formularios: https://exactas.uba.ar/tramites/\n",
            "Bibliotecas: https://exactas.uba.ar/ensenanza/bibliotecas/\n",
            "Comisión de Hábitat: https://exactas.uba.ar/comision-de-habitat/\n",
            "Buscador de Expedientes: https://expedientes.exactas.uba.ar\n",
            "Buscador de Resoluciones: http://resoluciones.exactas.uba.ar\n",
            "Exactas Verde: https://exactas.uba.ar/exactas-verde/\n",
            "Talleres Culturales: https://exactas.uba.ar/talleres-culturales/\n",
            "Deportes: https://exactas.uba.ar/deportes/\n",
            "Jardín Maternal: http://jardin.exactas.uba.ar/\n",
            "Cursos de Idiomas: https://exactas.uba.ar/cursos-de-idiomas/\n",
            "Comedores: https://exactas.uba.ar/comedores/\n",
            "Avisos Exactas: https://exactas.uba.ar/avisos-exactas/\n",
            "Intranet: http://intranet.exactas.uba.ar/\n",
            "Directorio Telefónico: https://exactas.uba.ar/directorio-telefonico/\n",
            "Elecciones Consejo Directivo: https://exactas.uba.ar/elecciones-consejo-directivo/\n",
            "Contacto: https://exactas.uba.ar/contacto/\n",
            "Powered by Ajaxy: http://www.ajaxy.org\n",
            ": https://twitter.com/exactas_uba\n",
            ": https://www.facebook.com/UBAExactas\n",
            ": https://www.youtube.com/exactasubaoficial\n",
            ": https://www.linkedin.com/company/facultad-de-ciencias-exactas-y-naturales-uba\n",
            ": https://www.instagram.com/exactas_uba/\n",
            "\n",
            "\n",
            "\n",
            "\n",
            ": https://exactas.uba.ar/\n",
            "La Facultad: https://exactas.uba.ar/institucional/la-facultad/\n",
            "Autoridades: https://exactas.uba.ar/institucional/autoridades/decanato/\n",
            "Decanato y Secretarías: https://exactas.uba.ar/institucional/autoridades/decanato/\n",
            "Consejo Directivo: https://exactas.uba.ar/institucional/autoridades/consejo-directivo/\n",
            "Cronograma y Horarios: https://exactas.uba.ar/institucional/informacion-del-consejo/cronograma-y-horarios/\n",
            "Órdenes del día: https://exactas.uba.ar/institucional/informacion-del-consejo/ordenes-del-dia/\n",
            "Informes: https://exactas.uba.ar/institucional/informacion-del-consejo/informes/\n",
            "Normativa: https://exactas.uba.ar/institucional/informacion-del-consejo/normativa/\n",
            "Informes de Gestión: https://exactas.uba.ar/institucional/la-facultad/informes-de-gestion/\n",
            "Consejo Directivo: https://exactas.uba.ar/institucional/informacion-del-consejo/\n",
            "Concursos: https://exactas.uba.ar/institucional/concursos/\n",
            "Seguridad laboral y ambiental: https://exactas.uba.ar/higieneyseguridad/\n",
            "Memoria y Derechos Humanos: https://exactas.uba.ar/institucional/memoria-derechos-humanos/\n",
            "Programa por la Igualdad de Género: https://exactas.uba.ar/institucional/programa-de-genero/\n",
            "Programa de Historia de la FCEN: https://exactas.uba.ar/institucional/programa-de-historia-de-la-fcen/\n",
            "Carreras de Grado: https://exactas.uba.ar/ensenanza/carreras-de-grado/\n",
            "Carreras de Posgrado: https://exactas.uba.ar/ensenanza/carreras-de-posgrado/\n",
            "Departamentos Docentes: https://exactas.uba.ar/ensenanza/departamentos-docentes/\n",
            "Nuestros Profesores: https://exactas.uba.ar/ensenanza/nuestros-profesores/\n",
            "Bibliotecas: https://exactas.uba.ar/ensenanza/bibliotecas/\n",
            "Áreas de investigación: https://exactas.uba.ar/investigacion/areas-de-investigacion/\n",
            "Institutos de Investigación: https://exactas.uba.ar/investigacion/institutos-de-investigacion/\n",
            "Vinculación y Transferencia Tecnológica: https://exactas.uba.ar/investigacion/vinculacion-y-transferencia-tecnologica/\n",
            "Servicios Científico-Técnicos: https://exactas.uba.ar/investigacion/servicios-cientifico-tecnicos/\n",
            "Comunicación Pública de la Ciencia: https://exactas.uba.ar/extension/comunicacion-publica-de-la-ciencia/\n",
            "Museos de Exactas UBA: https://exactas.uba.ar/extension/museos/\n",
            "Exactas con la Sociedad: https://exactas.uba.ar/extension/exactas-con-la-sociedad/\n",
            "Educación en Cárceles: https://exactas.uba.ar/extension/educacion-en-carceles/\n",
            "\n",
            "\n",
            "\n",
            "\n",
            ": https://exactas.uba.ar/\n",
            "La Facultad: https://exactas.uba.ar/institucional/la-facultad/\n",
            "Autoridades: https://exactas.uba.ar/institucional/autoridades/decanato/\n",
            "Decanato y Secretarías: https://exactas.uba.ar/institucional/autoridades/decanato/\n",
            "Consejo Directivo: https://exactas.uba.ar/institucional/autoridades/consejo-directivo/\n",
            "Cronograma y Horarios: https://exactas.uba.ar/institucional/informacion-del-consejo/cronograma-y-horarios/\n",
            "Órdenes del día: https://exactas.uba.ar/institucional/informacion-del-consejo/ordenes-del-dia/\n",
            "Informes: https://exactas.uba.ar/institucional/informacion-del-consejo/informes/\n",
            "Normativa: https://exactas.uba.ar/institucional/informacion-del-consejo/normativa/\n",
            "Informes de Gestión: https://exactas.uba.ar/institucional/la-facultad/informes-de-gestion/\n",
            "Consejo Directivo: https://exactas.uba.ar/institucional/informacion-del-consejo/\n",
            "Concursos: https://exactas.uba.ar/institucional/concursos/\n",
            "Seguridad laboral y ambiental: https://exactas.uba.ar/higieneyseguridad/\n",
            "Memoria y Derechos Humanos: https://exactas.uba.ar/institucional/memoria-derechos-humanos/\n",
            "Programa por la Igualdad de Género: https://exactas.uba.ar/institucional/programa-de-genero/\n",
            "Programa de Historia de la FCEN: https://exactas.uba.ar/institucional/programa-de-historia-de-la-fcen/\n",
            "Carreras de Grado: https://exactas.uba.ar/ensenanza/carreras-de-grado/\n",
            "Carreras de Posgrado: https://exactas.uba.ar/ensenanza/carreras-de-posgrado/\n",
            "Departamentos Docentes: https://exactas.uba.ar/ensenanza/departamentos-docentes/\n",
            "Nuestros Profesores: https://exactas.uba.ar/ensenanza/nuestros-profesores/\n",
            "Bibliotecas: https://exactas.uba.ar/ensenanza/bibliotecas/\n",
            "Áreas de investigación: https://exactas.uba.ar/investigacion/areas-de-investigacion/\n",
            "Institutos de Investigación: https://exactas.uba.ar/investigacion/institutos-de-investigacion/\n",
            "Vinculación y Transferencia Tecnológica: https://exactas.uba.ar/investigacion/vinculacion-y-transferencia-tecnologica/\n",
            "Servicios Científico-Técnicos: https://exactas.uba.ar/investigacion/servicios-cientifico-tecnicos/\n",
            "Comunicación Pública de la Ciencia: https://exactas.uba.ar/extension/comunicacion-publica-de-la-ciencia/\n",
            "Museos de Exactas UBA: https://exactas.uba.ar/extension/museos/\n",
            "Exactas con la Sociedad: https://exactas.uba.ar/extension/exactas-con-la-sociedad/\n",
            "Educación en Cárceles: https://exactas.uba.ar/extension/educacion-en-carceles/\n",
            "Inicio: https://exactas.uba.ar\n",
            "Exactas ante el coronavirus / Dictado de clases: https://exactas.uba.ar/coronavirus/dictado-de-clases/\n",
            ": https://exactas.uba.ar/coronavirus\n",
            "Agenda →: https://exactas.uba.ar/agenda/\n",
            "+ INFO: https://exactas.uba.ar/agenda/?mc_id=900\n",
            "+ INFO: https://exactas.uba.ar/agenda/?mc_id=927\n",
            "+ INFO: https://exactas.uba.ar/agenda/?mc_id=967\n",
            "+ INFO: https://exactas.uba.ar/agenda/?mc_id=907\n",
            "+ INFO: https://exactas.uba.ar/agenda/?mc_id=956\n",
            "+ INFO: https://exactas.uba.ar/agenda/?mc_id=965\n",
            "+ INFO: https://exactas.uba.ar/agenda/?mc_id=968\n",
            "+ INFO: https://exactas.uba.ar/agenda/?mc_id=960\n",
            "La Facultad: https://exactas.uba.ar/institucional/la-facultad/\n",
            "Autoridades: https://exactas.uba.ar/institucional/autoridades/decanato/\n",
            "Decanato y Secretarías: https://exactas.uba.ar/institucional/autoridades/decanato/\n",
            "Consejo Directivo: https://exactas.uba.ar/institucional/autoridades/consejo-directivo/\n",
            "Cronograma y Horarios: https://exactas.uba.ar/institucional/informacion-del-consejo/cronograma-y-horarios/\n",
            "Órdenes del día: https://exactas.uba.ar/institucional/informacion-del-consejo/ordenes-del-dia/\n",
            "Informes: https://exactas.uba.ar/institucional/informacion-del-consejo/informes/\n",
            "Normativa: https://exactas.uba.ar/institucional/informacion-del-consejo/normativa/\n",
            "Informes de Gestión: https://exactas.uba.ar/institucional/la-facultad/informes-de-gestion/\n",
            "Consejo Directivo: https://exactas.uba.ar/institucional/informacion-del-consejo/\n",
            "Concursos: https://exactas.uba.ar/institucional/concursos/\n",
            "Seguridad laboral y ambiental: https://exactas.uba.ar/higieneyseguridad/\n",
            "Memoria y Derechos Humanos: https://exactas.uba.ar/institucional/memoria-derechos-humanos/\n",
            "Programa por la Igualdad de Género: https://exactas.uba.ar/institucional/programa-de-genero/\n",
            "Programa de Historia de la FCEN: https://exactas.uba.ar/institucional/programa-de-historia-de-la-fcen/\n",
            "Carreras de Grado: https://exactas.uba.ar/ensenanza/carreras-de-grado/\n",
            "Carreras de Posgrado: https://exactas.uba.ar/ensenanza/carreras-de-posgrado/\n",
            "Departamentos Docentes: https://exactas.uba.ar/ensenanza/departamentos-docentes/\n",
            "Nuestros Profesores: https://exactas.uba.ar/ensenanza/nuestros-profesores/\n",
            "Bibliotecas: https://exactas.uba.ar/ensenanza/bibliotecas/\n",
            "Áreas de investigación: https://exactas.uba.ar/investigacion/areas-de-investigacion/\n",
            "Institutos de Investigación: https://exactas.uba.ar/investigacion/institutos-de-investigacion/\n",
            "Vinculación y Transferencia Tecnológica: https://exactas.uba.ar/investigacion/vinculacion-y-transferencia-tecnologica/\n",
            "Servicios Científico-Técnicos: https://exactas.uba.ar/investigacion/servicios-cientifico-tecnicos/\n",
            "Comunicación Pública de la Ciencia: https://exactas.uba.ar/extension/comunicacion-publica-de-la-ciencia/\n",
            "Museos de Exactas UBA: https://exactas.uba.ar/extension/museos/\n",
            "Exactas con la Sociedad: https://exactas.uba.ar/extension/exactas-con-la-sociedad/\n",
            "Educación en Cárceles: https://exactas.uba.ar/extension/educacion-en-carceles/\n",
            "Campus Virtual: http://campus.exactas.uba.ar\n",
            "Trámites: http://exactas.uba.ar/tramites/\n",
            "Intranet: http://intranet.exactas.uba.ar/\n",
            "Webmail: http://webmail.exactas.uba.ar/\n",
            "Contacto: /contacto/\n",
            "UBA: http://www.uba.ar/\n",
            ": https://exactas.uba.ar\n",
            "Inicio: https://exactas.uba.ar/\n",
            "Institucional: #\n",
            "La Facultad: https://exactas.uba.ar/institucional/la-facultad/\n",
            "Autoridades: https://exactas.uba.ar/institucional/autoridades/\n",
            "Consejo Directivo: https://exactas.uba.ar/institucional/informacion-del-consejo/\n",
            "Concursos: https://exactas.uba.ar/institucional/concursos/\n",
            "Seguridad laboral y ambiental: https://exactas.uba.ar/higieneyseguridad/\n",
            "Memoria y Derechos Humanos: https://exactas.uba.ar/institucional/memoria-derechos-humanos/\n",
            "Programa por la Igualdad de Género: https://exactas.uba.ar/institucional/programa-de-genero/\n",
            "Programa de Historia de la FCEN: https://exactas.uba.ar/institucional/programa-de-historia-de-la-fcen/\n",
            "Carreras de Grado: https://exactas.uba.ar/ensenanza/carreras-de-grado/\n",
            "Carreras de Posgrado: https://exactas.uba.ar/ensenanza/carreras-de-posgrado/\n",
            "Departamentos Docentes: https://exactas.uba.ar/ensenanza/departamentos-docentes/\n",
            "Nuestros Profesores: https://exactas.uba.ar/ensenanza/nuestros-profesores/\n",
            "Bibliotecas: https://exactas.uba.ar/ensenanza/bibliotecas/\n",
            "Áreas de investigación: https://exactas.uba.ar/investigacion/areas-de-investigacion/\n",
            "Institutos de Investigación: https://exactas.uba.ar/investigacion/institutos-de-investigacion/\n",
            "Vinculación y Transferencia Tecnológica: https://exactas.uba.ar/investigacion/vinculacion-y-transferencia-tecnologica/\n",
            "Servicios Científico-Técnicos: https://exactas.uba.ar/investigacion/servicios-cientifico-tecnicos/\n",
            "Comunicación Pública de la Ciencia: https://exactas.uba.ar/extension/comunicacion-publica-de-la-ciencia/\n",
            "Museos de Exactas UBA: https://exactas.uba.ar/extension/museos/\n",
            "Exactas con la Sociedad: https://exactas.uba.ar/extension/exactas-con-la-sociedad/\n",
            "Educación en Cárceles: https://exactas.uba.ar/extension/educacion-en-carceles/\n",
            "Conocé Exactas: http://exactas.uba.ar/es/la-facultad/\n",
            "Carreras de Grado: https://exactas.uba.ar/ensenanza/carreras-de-grado/\n",
            "Carreras de Posgrado: https://exactas.uba.ar/ensenanza/carreras-de-posgrado/\n",
            "Cursos de Posgrado: https://exactas.uba.ar/ensenanza/cursos-de-posgrado/\n",
            "Estudiantes extranjeros: https://exactas.uba.ar/informacion-para-estudiantes-extranjeros/\n",
            "Orientación Vocacional: https://exactas.uba.ar/extension/ov/\n",
            "Becas para estudio: https://exactas.uba.ar/becas-para-estudio/\n",
            "Carreras de Grado: https://exactas.uba.ar/ensenanza/carreras-de-grado/\n",
            "Calendario Académico: https://exactas.uba.ar/calendario-academico/\n",
            "Inscripción de ingresantes: https://exactas.uba.ar/inscripcion-ingresantes/\n",
            "Inscripción a materias: http://inscripciones.exactas.uba.ar/exactas/\n",
            "Programa de Ingresantes: https://exactas.uba.ar/cbc/\n",
            "Becas para estudio: https://exactas.uba.ar/becas-para-estudio/\n",
            "Becas de Investigación: https://exactas.uba.ar/becas-de-investigacion/\n",
            "Distribución de Aulas: https://exactas.uba.ar/distribucion-de-aulas/\n",
            "Orientación Vocacional: https://exactas.uba.ar/extension/ov/\n",
            "Bibliotecas: https://exactas.uba.ar/ensenanza/bibliotecas/\n",
            "Pasantías Educativas: https://exactas.uba.ar/pasantias-educativas/\n",
            "Campus Virtual: http://campus.exactas.uba.ar/\n",
            "Diplomas y certificados: https://exactas.uba.ar/diplomas-y-certificados/\n",
            "Movilidad Internacional: https://exactas.uba.ar/movilidad-internacional/\n",
            "Ofertas de trabajo profesional: https://exactas.uba.ar/ofertas-de-trabajo-profesional/\n",
            "Programa de Formación y Trabajo: https://exactas.uba.ar/programa-de-formacion-y-trabajo/\n",
            "Concursos: https://exactas.uba.ar/institucional/concursos/\n",
            "Sistema de Inscripciones: http://inscripciones.exactas.uba.ar\n",
            "Calendario Académico: https://exactas.uba.ar/calendario-academico/\n",
            "Distribución de Aulas: https://exactas.uba.ar/distribucion-de-aulas/\n",
            "Trámites de Personal: https://exactas.uba.ar/formularios-personal/\n",
            "Campus Virtual: http://campus.exactas.uba.ar/\n",
            "Movilidad Internacional: https://exactas.uba.ar/movilidad-internacional/\n",
            "Concursos: https://exactas.uba.ar/institucional/concursos/\n",
            "Trámites de Personal: https://exactas.uba.ar/formularios-personal/\n",
            "Recursos Humanos UBA: https://rrhh.uba.ar/SitePages/Portal-UBA.aspx\n",
            "Carreras de Posgrado: https://exactas.uba.ar/ensenanza/carreras-de-posgrado/\n",
            "Cursos de Posgrado: https://exactas.uba.ar/ensenanza/cursos-de-posgrado/\n",
            "Juras: https://exactas.uba.ar/juras/\n",
            "Becas de Investigación: https://exactas.uba.ar/becas-de-investigacion/\n",
            "Padrón de Graduados/as: https://exactas.uba.ar/padron-de-graduados-as/\n",
            "Base y Lista de Graduados: https://exactas.uba.ar/base-y-lista-de-graduados/\n",
            "Información y actividades: https://exactas.uba.ar/area-de-graduados/\n",
            "Ofertas de trabajo profesional: https://exactas.uba.ar/ofertas-de-trabajo-profesional/\n",
            "Becas de Investigación: https://exactas.uba.ar/becas-de-investigacion/\n",
            "Incentivos: https://exactas.uba.ar/incentivos/\n",
            "Subsidios: https://exactas.uba.ar/subsidios/\n",
            "Gestión de convenios: https://exactas.uba.ar/gestion-de-convenios/\n",
            "Propiedad Intelectual – Patentamiento: https://exactas.uba.ar/propiedad-intelectual-patentamiento/\n",
            "Viajes Internacionales: https://exactas.uba.ar/viajes-internacionales/\n",
            "Proxy de Revistas: https://exactas.uba.ar/proxy-de-revistas/\n",
            "Experimentación animal: https://exactas.uba.ar/cicual/\n",
            "Bioterio Central: https://exactas.uba.ar/bioterio-central/\n",
            "Centros de Servicios: https://exactas.uba.ar/centros-de-servicios/\n",
            "Movilidad Internacional: https://exactas.uba.ar/movilidad-internacional/\n",
            "Trámites y formularios: https://exactas.uba.ar/tramites/\n",
            "Bibliotecas: https://exactas.uba.ar/ensenanza/bibliotecas/\n",
            "Comisión de Hábitat: https://exactas.uba.ar/comision-de-habitat/\n",
            "Buscador de Expedientes: http://www.fcen.uba.ar/expedientes/expedientes\n",
            "Buscador de Resoluciones: http://resoluciones.exactas.uba.ar\n",
            "Exactas Verde: https://exactas.uba.ar/exactas-verde/\n",
            "Talleres Culturales: https://exactas.uba.ar/talleres-culturales/\n",
            "Deportes: https://exactas.uba.ar/deportes/\n",
            "Cursos de Idiomas: https://exactas.uba.ar/cursos-de-idiomas/\n",
            "Jardín Maternal: http://jardin.exactas.uba.ar/\n",
            "Comedores: https://exactas.uba.ar/comedores/\n",
            "Avisos Exactas: https://exactas.uba.ar/avisos-exactas/\n",
            "Intranet: http://intranet.exactas.uba.ar/\n",
            "Directorio Telefónico: https://exactas.uba.ar/directorio-telefonico/\n",
            "Elecciones Consejo Directivo: https://exactas.uba.ar/elecciones-consejo-directivo/\n",
            "Contacto: https://exactas.uba.ar/contacto/\n"
          ]
        }
      ]
    },
    {
      "cell_type": "code",
      "metadata": {
        "id": "HuLP4tVviG-D",
        "colab": {
          "base_uri": "https://localhost:8080/"
        },
        "outputId": "e25e19ba-dbb7-4fa5-abce-3e5c15cf5b0a"
      },
      "source": [
        "# Podemos tambien scrapear un tabla y traernos los feriados\n",
        "tabla_feriados = soup.find_all('td')\n",
        "\n",
        "# Con 'attr' podemos acceder a cualquier atributo de a etiqueta usando un diccionario\n",
        "dias = soup.find_all('td', attrs={'style':'width: 74px;'}) \n",
        "fechas = soup.find_all('td', attrs={'style':'width: 127px;'}) \n",
        "eventos = soup.find_all('td', attrs={'style':'width: 438px;'}) \n",
        "# print(tabla_feriados)\n",
        "\n",
        "for pos in range(len(dias)):\n",
        "  print(f\" Dia: {dias[pos].text.strip()} | fecha: {fechas[pos].text.strip()} | evento: {eventos[pos].text.strip()} \")"
      ],
      "execution_count": 12,
      "outputs": [
        {
          "output_type": "stream",
          "name": "stdout",
          "text": [
            " Dia: Viernes | fecha: 1 de enero | evento: Año Nuevo \n",
            " Dia: Lunes | fecha: 15 de febrero | evento: Carnaval \n",
            " Dia: Martes | fecha: 16 de febrero | evento: Carnaval \n",
            " Dia: Miércoles | fecha: 24 de marzo | evento: Día Nacional de la Memoria por la Verdad y la Justicia \n",
            " Dia: Domingo | fecha: 28 de marzo | evento: Pascua Judía \n",
            " Dia: Lunes | fecha: 29 de marzo | evento: Pascua Judía \n",
            " Dia: Jueves | fecha: 1 de abril | evento: Jueves Santo \n",
            " Dia: Viernes | fecha: 2 de abril | evento: Viernes Santo y Día del Veterano y de los Caídos en la Guerra de Malvinas \n",
            " Dia: Sábado | fecha: 3 de abril | evento: Pascua Judía \n",
            " Dia: Domingo | fecha: 4 de abril | evento: Pascua Judía \n",
            " Dia: Sábado | fecha: 24 de abril | evento: Día de Acción por la Tolerancia y el Respeto entre los Pueblos \n",
            " Dia: Sábado | fecha: 1 de mayo | evento: Día del Trabajador \n",
            " Dia: Jueves | fecha: 13 de mayo | evento: Fiesta de la Ruptura del Ayuno del Sagrado Mes de Ramadán \n",
            " Dia: Lunes | fecha: 24 de mayo | evento: Feriado con fines turísticos \n",
            " Dia: Martes | fecha: 25 de mayo | evento: Día de la Revolución de Mayo \n",
            " Dia: Domingo | fecha: 20 de junio | evento: Paso a la Inmortalidad del General Belgrano \n",
            " Dia: Lunes | fecha: 21 de junio | evento: Paso a la Inmortalidad del General Güemes \n",
            " Dia: Viernes | fecha: 9 de julio | evento: Día de la Independencia \n",
            " Dia: Martes | fecha: 20 de julio | evento: Fiesta del Sacrificio \n",
            " Dia: Domingo | fecha: 8 de agosto | evento: Año Nuevo Islámico \n",
            " Dia: Lunes | fecha: 16 de agosto | evento: Paso a la Inmortalidad del General San Martín \n",
            " Dia: Martes | fecha: 7 de septiembre | evento: Año Nuevo Judío \n",
            " Dia: Miércoles | fecha: 8 de septiembre | evento: Año Nuevo Judío \n",
            " Dia: Jueves | fecha: 16 de septiembre | evento: Día del Perdón \n",
            " Dia: Martes | fecha: 21 de septiembre | evento: Día del Estudiante \n",
            " Dia: Viernes | fecha: 8 de octubre | evento: Feriado con fines turísticos \n",
            " Dia: Lunes | fecha: 11 de octubre | evento: Día del Respeto a la Diversidad Cultural \n",
            " Dia: Sábado | fecha: 20 de noviembre | evento: Día de la Soberanía Nacional \n",
            " Dia: Lunes | fecha: 22 de noviembre | evento: Feriado con fines turísticos \n",
            " Dia: Miércoles | fecha: 8 de diciembre | evento: Inmaculada Concepción de María \n",
            " Dia: Sábado | fecha: 25 de diciembre | evento: Navidad \n"
          ]
        }
      ]
    },
    {
      "cell_type": "code",
      "metadata": {
        "id": "8H_4LzMqk218",
        "colab": {
          "base_uri": "https://localhost:8080/",
          "height": 183
        },
        "outputId": "507ac860-6d4c-467a-c2d5-338f65da6d19"
      },
      "source": [
        "# Obtener la última actualización\n",
        "\n",
        "# Para exprresiones regulares\n",
        "import re\n",
        "# Para manejo de fechas\n",
        "from datetime import datetime\n",
        "\n",
        "def calendario_ultima_actualizacion():\n",
        "  ultima_actualizacion = soup.select('#post-256') \n",
        "  ultima_actualizacion= ultima_actualizacion[0].text\n",
        "  # Expresion que busca algo del estilo x/x/xxxx (donde x es un número)\n",
        "  match = re.search(r'\\d/\\d/\\d{4}', ultima_actualizacion)\n",
        "  fecha = match.group()\n",
        "  fecha_datetime = datetime.strptime(fecha, '%d/%m/%Y').date()\n",
        "  return fecha_datetime\n",
        "\n",
        "fecha_datetime = calendario_ultima_actualizacion()\n",
        "print(f\"Última actualización: {fecha_datetime.day}/{fecha_datetime.month}/{fecha_datetime.year} \")\n",
        "\n",
        "# Ahora podemos crear un programa que nos avise si se actualiza el calendario\n",
        "\n",
        "def avisame_si_actualizaron(fecha_previa):\n",
        "  # Esto esta solo para cortar el while\n",
        "  contador_anti_explosion = 0\n",
        "  fecha_datetime = calendario_ultima_actualizacion()\n",
        "  fecha_previa = f'{fecha_previa.day}/{fecha_previa.month}/{fecha_previa.year}'\n",
        "\n",
        "  while True:\n",
        "    fecha_actual = f'{fecha_datetime.day}/{fecha_datetime.month}/{fecha_datetime.year}'\n",
        "\n",
        "    if fecha_actual == fecha_previa and contador_anti_explosion < 5:\n",
        "      url_base = 'https://exactas.uba.ar/'\n",
        "      endpoint_calendario = 'calendario-academico/'\n",
        "      html_obtenido = requests.get(url_base + endpoint_calendario)\n",
        "      soup = BeautifulSoup(html_obtenido.text, \"html.parser\")\n",
        "      fecha_datetime = calendario_ultima_actualizacion()\n",
        "      print('igual')\n",
        "      contador_anti_explosion += 1\n",
        "\n",
        "    else:\n",
        "      print('Actualizaron!! \\n')\n",
        "      from google.colab import output\n",
        "      print(f'Se actualizo el: {fecha_datetime.day}/{fecha_datetime.month}/{fecha_datetime.year}')\n",
        "      # Para que ladre un perro avisandonos \n",
        "      output.eval_js('new Audio(\"https://assets.mixkit.co/sfx/preview/mixkit-dog-barking-twice-1.mp3\").play()')\n",
        "      break\n",
        "\n",
        "fecha_previa = calendario_ultima_actualizacion()\n",
        "\n",
        "# Corremos la funcion\n",
        "avisame_si_actualizaron(fecha_previa)\n",
        "\n"
      ],
      "execution_count": 14,
      "outputs": [
        {
          "output_type": "stream",
          "name": "stdout",
          "text": [
            "Última actualización: 3/6/2021 \n",
            "igual\n",
            "igual\n",
            "igual\n",
            "igual\n",
            "igual\n",
            "Actualizaron!! \n",
            "\n",
            "Se actualizo el: 3/6/2021\n"
          ]
        }
      ]
    },
    {
      "cell_type": "markdown",
      "metadata": {
        "id": "wfxO0wO5ubqt"
      },
      "source": [
        "<font color='red'>Ejercicio</font>\n",
        "\n",
        "* Generar diccionario cuyas claves sean los nombres de las carreras de grado vigentes en Exactas y sus valores el link asociado a cada una de ellas. https://exactas.uba.ar/ensenanza/carreras-de-grado/\n",
        "\n",
        "**¡A trabajar!**\n",
        "\n",
        "<img src=\"https://img.icons8.com/ios/452/spade.png\" width=\"80\" height=\"auto\"/>\n"
      ]
    },
    {
      "cell_type": "code",
      "metadata": {
        "id": "WCmp2i2a5nqr"
      },
      "source": [
        "# Resolución\n",
        "\n",
        "url = 'https://exactas.uba.ar/ensenanza/carreras-de-grado/'\n",
        "\n",
        "html_obtenido = requests.get(url)\n",
        "soup = BeautifulSoup(html_obtenido.text, \"html.parser\")\n",
        "\n",
        "titulos = soup.find_all('h2', class_ = 'titulo')\n",
        "uls = soup.find('ul', class_='listado carreras grado')\n",
        "lis = uls.find_all('li')\n",
        "\n",
        "lista_titulos = []\n",
        "lista_paginas = []\n",
        "\n",
        "for li in lis:\n",
        "  a = li.find('a', href=True)\n",
        "  lista_paginas.append(a['href'])\n",
        "  titulo = li.find('h2')\n",
        "  lista_titulos.append(titulo.text)\n",
        "\n",
        "diccionario_exactas = dict(zip(lista_titulos, lista_paginas))\n",
        "display(diccionario_exactas)\n",
        "\n",
        "import pandas as pd\n",
        "df = pd.DataFrame(diccionario_exactas.values(), index=list(diccionario_exactas.keys()), columns=['url'])\n",
        "display(df)"
      ],
      "execution_count": null,
      "outputs": []
    },
    {
      "cell_type": "markdown",
      "metadata": {
        "id": "GNkLPmfyA0aJ"
      },
      "source": [
        "#### Ejemplo 2: Cortazar"
      ]
    },
    {
      "cell_type": "code",
      "metadata": {
        "id": "vgHsDKT6A0aJ"
      },
      "source": [
        "# Creo carpeta donde voy a guardar los cuentos\n",
        "!mkdir -p multimedia/cortazar/\n",
        "\n",
        "import re\n",
        "codigo_html_crudo = codigo_html('http://ciudadseva.com/autor/julio-cortazar/cuentos/')\n",
        "\n",
        "regla_para_url_de_un_cuento = r'(https://ciudadseva.com/texto/.+/)'\n",
        "\n",
        "for url_de_un_cuento in re.findall(regla_para_url_de_un_cuento, codigo_html_crudo):\n",
        "    codigo_html_interpretado = BeautifulSoup(codigo_html(url_de_un_cuento), 'html.parser')\n",
        "    elem = codigo_html_interpretado.find(\"div\", { \"class\" : \"text-justify\" })\n",
        "    cuento = elem.text\n",
        "    \n",
        "    # Asi podemos guardar los resultados\n",
        "    nombre_del_archivo = url_de_un_cuento.split('/')[-2]\n",
        "    with open (f\"multimedia/cortazar/{nombre_del_archivo}.txt\", 'w') as out:\n",
        "        print(f'Guardando {nombre_del_archivo}')\n",
        "        out.write(cuento)"
      ],
      "execution_count": null,
      "outputs": []
    },
    {
      "cell_type": "markdown",
      "metadata": {
        "id": "pVzzO2iXA0aK"
      },
      "source": [
        "## Práctica: Mercadolibre"
      ]
    },
    {
      "cell_type": "markdown",
      "metadata": {
        "id": "oUGQfsEwSMXj"
      },
      "source": [
        "<font color='red'> Ejercicio </font>\n",
        "\n",
        "Descargá y calculá el promedio de los precios que aparecen en la primer página de mercado libre al buscar gibson"
      ]
    },
    {
      "cell_type": "code",
      "metadata": {
        "id": "VqFNpq-tA0aK"
      },
      "source": [
        "# Resolución\n",
        "\n",
        "import requests\n",
        "import re\n",
        "\n",
        "def precios_gibson():\n",
        "    url = \"https://listado.mercadolibre.com.ar/gibson\"\n",
        "    soup = BeautifulSoup(codigo_html(url), 'html.parser')\n",
        "    prices = []\n",
        "    # COMPLETAR\n",
        "    for precio in soup.find_all('span', class_ = 'price-tag-fraction'):\n",
        "      precio = precio.text\n",
        "      print(precio)\n",
        "      prices.append(int(precio.replace('.','')))\n",
        "\n",
        "    return prices\n",
        "\n",
        "precios = precios_gibson()\n",
        "print(precios)\n",
        "import numpy as np\n",
        "print(f\"El precio promedio es {int(np.nanmean(precios))}\")"
      ],
      "execution_count": null,
      "outputs": []
    },
    {
      "cell_type": "markdown",
      "metadata": {
        "id": "QAOTO4i5VFqg"
      },
      "source": [
        "## Usando cookies 🍪\n",
        "\n",
        "Las [*cookies*](https://es.wikipedia.org/wiki/Cookie_(inform%C3%A1tica)) son bloques de datos creados por un servidor con información enviada por un sitio web y almacenada en el navegador del usuario, de manera que el sitio web puede consultar la actividad previa del navegador. \n",
        "\n",
        "Sus principales funciones son:\n",
        "\n",
        "* Recordar accesos para saber si ya se ha visitado la página (ejemplo: cuando nos *loggeamos* se guardan cookies).\n",
        "\n",
        "* Conocer información sobre los hábitos de navegación.\n",
        "\n",
        "También hay otro tipo de información que se guarda en algunas páginas que son las *sessions*, básicamente es un dato similar a una cookie pero que se guarda en el servidor en lugar de hacerlo en el cliente (nuestro navegador).\n",
        "\n",
        "Para algunos proyectos de *web scraping* puede ser útil interactuar con ellas."
      ]
    },
    {
      "cell_type": "code",
      "metadata": {
        "colab": {
          "base_uri": "https://localhost:8080/"
        },
        "id": "J9ToN5a0JswW",
        "outputId": "2c084848-3908-4fd6-eb5d-695a7949a11a"
      },
      "source": [
        "import requests\n",
        "from IPython.display import HTML\n",
        "\n",
        "response = requests.get('https://www.kaggle.com/')\n",
        "\n",
        "# Obtenemos el atributo cookies\n",
        "cookies = response.cookies\n",
        "print(type(cookies))\n",
        "print(cookies)"
      ],
      "execution_count": 74,
      "outputs": [
        {
          "output_type": "stream",
          "name": "stdout",
          "text": [
            "<class 'requests.cookies.RequestsCookieJar'>\n",
            "<RequestsCookieJar[<Cookie CLIENT-TOKEN=eyJhbGciOiJub25lIiwidHlwIjoiSldUIn0.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. for www.kaggle.com/>, <Cookie CSRF-TOKEN=CfDJ8LdUzqlsSWBPr4Ce3rb9VL8ZAvOxaIXRSNBQa4LDjb5ajR4LbGFqXlsl1yHPrV3-4aCQ9zQJsspddpRP-u_1VB_mh9mhEOlCPyuF7C5tzGyPmO5005DM4S1KXCGe9Su9jvie5MPmMzGhJmDcYEyVtVM for www.kaggle.com/>, <Cookie GCLB=CJXT5cu1xKWCJQ for www.kaggle.com/>, <Cookie XSRF-TOKEN=CfDJ8LdUzqlsSWBPr4Ce3rb9VL8ngJLc_OhYwFZd-CQxmyZnGEOVwga5FCx9v39D0ziPmJK1gV_aBrZQjwCPaxqiYKpKgUbfyo9OoBPYTjY5jbRdrq2xMpa8bso__32bhpu0nD7dsPqMG_tdxfdClHPO1Rs for www.kaggle.com/>, <Cookie ka_sessionid=f87ccffa4c82c115675514b69dac9406 for www.kaggle.com/>]>\n"
          ]
        }
      ]
    },
    {
      "cell_type": "code",
      "metadata": {
        "colab": {
          "base_uri": "https://localhost:8080/"
        },
        "id": "GpPlQ7brg1__",
        "outputId": "4362a5f2-3ca0-4ce7-c62f-39c4a11f2725"
      },
      "source": [
        "# iteramos sobre las cookies en el cookie jar\n",
        "for cookie in cookies:\n",
        "  print('domain: ' ,cookie.domain)\n",
        "  print('name: ', cookie.name)\n",
        "  print('value: ', cookie.value)\n",
        "  print('------------------------')"
      ],
      "execution_count": 75,
      "outputs": [
        {
          "output_type": "stream",
          "name": "stdout",
          "text": [
            "domain:  www.kaggle.com\n",
            "name:  CLIENT-TOKEN\n",
            "value:  eyJhbGciOiJub25lIiwidHlwIjoiSldUIn0.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.\n",
            "------------------------\n",
            "domain:  www.kaggle.com\n",
            "name:  CSRF-TOKEN\n",
            "value:  CfDJ8LdUzqlsSWBPr4Ce3rb9VL8ZAvOxaIXRSNBQa4LDjb5ajR4LbGFqXlsl1yHPrV3-4aCQ9zQJsspddpRP-u_1VB_mh9mhEOlCPyuF7C5tzGyPmO5005DM4S1KXCGe9Su9jvie5MPmMzGhJmDcYEyVtVM\n",
            "------------------------\n",
            "domain:  www.kaggle.com\n",
            "name:  GCLB\n",
            "value:  CJXT5cu1xKWCJQ\n",
            "------------------------\n",
            "domain:  www.kaggle.com\n",
            "name:  XSRF-TOKEN\n",
            "value:  CfDJ8LdUzqlsSWBPr4Ce3rb9VL8ngJLc_OhYwFZd-CQxmyZnGEOVwga5FCx9v39D0ziPmJK1gV_aBrZQjwCPaxqiYKpKgUbfyo9OoBPYTjY5jbRdrq2xMpa8bso__32bhpu0nD7dsPqMG_tdxfdClHPO1Rs\n",
            "------------------------\n",
            "domain:  www.kaggle.com\n",
            "name:  ka_sessionid\n",
            "value:  f87ccffa4c82c115675514b69dac9406\n",
            "------------------------\n"
          ]
        }
      ]
    },
    {
      "cell_type": "markdown",
      "metadata": {
        "id": "Jziv4geBHFmS"
      },
      "source": [
        "Podemos enviar cookies junto con nuestro request. Esto puede ser util para ciertos sitios que usan la ausencia de cookies como criterio para bloquear el acceso."
      ]
    },
    {
      "cell_type": "code",
      "metadata": {
        "colab": {
          "base_uri": "https://localhost:8080/"
        },
        "id": "8CM8ZB9cG0T8",
        "outputId": "8a7c0e39-1b4f-448f-c93d-6a4884934787"
      },
      "source": [
        "url = 'https://www.kaggle.com/'\n",
        "\n",
        "mis_cookies = {\n",
        "    'name':'mi nombre',\n",
        "    'password':'superSeguro1234'\n",
        "    }\n",
        "print(mis_cookies)\n",
        "\n",
        "# Mando mis propias cookies\n",
        "respuesta = requests.get(url, cookies=mis_cookies)\n",
        "\n",
        "respuesta"
      ],
      "execution_count": 68,
      "outputs": [
        {
          "output_type": "stream",
          "name": "stdout",
          "text": [
            "{'name': 'mi nombre', 'password': 'superSeguro1234'}\n"
          ]
        },
        {
          "output_type": "execute_result",
          "data": {
            "text/plain": [
              "<Response [200]>"
            ]
          },
          "metadata": {},
          "execution_count": 68
        }
      ]
    },
    {
      "cell_type": "markdown",
      "metadata": {
        "id": "w52rjRnsA0aK"
      },
      "source": [
        "## ¿Entonces me puedo descargar todo internet?\n",
        "\n",
        "En la próximas clases veremos algunas limitaciones de este método y sus alternativas. Mas allá de eso es importante ponerse de vez en cuando en el lugar del sitio del cual estamos descargando datos.\n",
        "\n",
        "\n",
        "Muchas veces las páginas web obtienen sus ingresos a partir del uso de usuarios tradicionales (humanos) pero no de los scrapers (máquinas). Por lo que estos no generan ganancias al sitio y encima pueden causar congestión en los servidores (Pudiendo causar incluso la rotura del sitio similar a lo que pasa con los [ataques DDOS](https://es.wikipedia.org/wiki/Ataque_de_denegaci%C3%B3n_de_servicio)).\n",
        "\n",
        "Por esta razón los sitios webs suelen tener una pagina [/robots.txt](https://es.wikipedia.org/wiki/Est%C3%A1ndar_de_exclusi%C3%B3n_de_robots) donde especifican que tipo de scrapeo prefieren evitar para poder mantener su sitio funcionando correctamente sin problemas.\n",
        "\n",
        "Pueden ver, como ejemplos:\n",
        "\n",
        "- https://www.google.com/robots.txt\n",
        "- https://en.wikipedia.org/robots.txt"
      ]
    }
  ]
}