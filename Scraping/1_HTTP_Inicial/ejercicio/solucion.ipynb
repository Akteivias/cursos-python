{
 "cells": [
  {
   "cell_type": "code",
   "execution_count": null,
   "metadata": {},
   "outputs": [],
   "source": [
    "from bs4 import BeautifulSoup\n",
    "import requests\n",
    "import os\n",
    "\n",
    "letras_url = \"https://www.letras.com\"\n",
    "\n",
    "def descargar_cancion(path):\n",
    "    url = f\"{letras_url}{path}\"\n",
    "    page = requests.get(url)\n",
    "    soup = BeautifulSoup(page.content, 'html.parser')\n",
    "\n",
    "    letra = \"\"\n",
    "\n",
    "    for div in soup.findAll(\"div\", {\"class\": \"cnt-letra p402_premium\"}):\n",
    "        for p in div.findAll(\"p\"):\n",
    "            text = str(p)\n",
    "            for space in [\"</br>\",\"<br>\",\"<br/>\",\"<p>\",\"</p>\"]:\n",
    "                text = text.replace(space,\"\\n\")\n",
    "            letra += text\n",
    "\n",
    "    with open(f\"{path[1:-1]}.txt\",'w') as f:\n",
    "        f.write(letra)\n",
    "\n",
    "def descargar_letras(artista):\n",
    "\n",
    "    url = f\"{letras_url}/{artista}/mais_tocadas.html\"\n",
    "    page = requests.get(url)\n",
    "\n",
    "    if not os.path.exists(artista):\n",
    "      os.mkdir(artista)\n",
    "\n",
    "    soup = BeautifulSoup(page.content, 'html.parser')\n",
    "\n",
    "    for a in soup.findAll(\"a\", {\"class\": \"song-name\"}):\n",
    "        descargar_cancion(a[\"href\"])\n",
    "        \n",
    "artista = \"spinetta\"\n",
    "descargar_letras(artista)"
   ]
  }
 ],
 "metadata": {
  "instance_type": "ml.t3.medium",
  "kernelspec": {
   "display_name": "Python 3 (Data Science)",
   "language": "python",
   "name": "python3__SAGEMAKER_INTERNAL__arn:aws:sagemaker:us-east-1:081325390199:image/datascience-1.0"
  },
  "language_info": {
   "codemirror_mode": {
    "name": "ipython",
    "version": 3
   },
   "file_extension": ".py",
   "mimetype": "text/x-python",
   "name": "python",
   "nbconvert_exporter": "python",
   "pygments_lexer": "ipython3",
   "version": "3.7.6"
  }
 },
 "nbformat": 4,
 "nbformat_minor": 4
}
