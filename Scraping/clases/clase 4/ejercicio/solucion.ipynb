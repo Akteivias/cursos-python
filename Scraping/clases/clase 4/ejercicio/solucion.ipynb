{
 "cells": [
  {
   "cell_type": "code",
   "execution_count": null,
   "metadata": {},
   "outputs": [],
   "source": [
    "from selenium import webdriver \n",
    "from selenium.webdriver.support.ui import WebDriverWait\n",
    "from selenium.webdriver.support import expected_conditions as EC \n",
    "from selenium.webdriver.common.keys import Keys\n",
    "from selenium.webdriver.common.by import By\n",
    "import time\n",
    "import random\n",
    "\n",
    "driver = webdriver.Chrome('chromedriver')\n",
    "  \n",
    "driver.get(\"https://web.whatsapp.com/\")\n",
    "wait = WebDriverWait(driver, 600)\n",
    "  \n",
    "target = '\"Tazos Ganadores\"'\n",
    "\n",
    "x_arg = '//span[contains(@title,' + target + ')]'\n",
    "group_title = wait.until(EC.presence_of_element_located((By.XPATH, x_arg)))\n",
    "group_title.click()\n",
    "time.sleep(2)\n",
    "inp_xpath = '//div[@class=\"_2S1VP copyable-text selectable-text\"][@data-tab=\"1\"]'\n",
    "input_box = wait.until(EC.presence_of_element_located((By.XPATH, inp_xpath))) \n",
    "\n",
    "for _ in range(50):\n",
    "    codigo = \"\".join([random.choice(\"ABCDEFGHIJKLMNOPQRSTUVWXYZ0123456789\") for _ in range(8)])\n",
    "    input_box.send_keys(codigo + Keys.ENTER)"
   ]
  }
 ],
 "metadata": {
  "kernelspec": {
   "display_name": "Python 3",
   "language": "python",
   "name": "python3"
  },
  "language_info": {
   "codemirror_mode": {
    "name": "ipython",
    "version": 3
   },
   "file_extension": ".py",
   "mimetype": "text/x-python",
   "name": "python",
   "nbconvert_exporter": "python",
   "pygments_lexer": "ipython3",
   "version": "3.6.9"
  }
 },
 "nbformat": 4,
 "nbformat_minor": 4
}
