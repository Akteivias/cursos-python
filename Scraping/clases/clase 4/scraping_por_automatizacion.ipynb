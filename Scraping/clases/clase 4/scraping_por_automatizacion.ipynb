{
 "cells": [
  {
   "cell_type": "markdown",
   "metadata": {},
   "source": [
    "# Robots que controlan nuestro navegador\n",
    "\n",
    "A veces los sitios webs estan preparados para ser utilizados unicamente desde un navegador y los métodos que venimos utilizando no funcionan.\n",
    "\n",
    "En esos casos uno puede intentar desarrollar una especie de robot que controle nuestro navegador interactuando con internet de igual forma que lo hace un humano. Hay una herramienta llamada __Selenium__ que puede utilizarse exactamente para eso.\n",
    "\n",
    "### Recursos útiles\n",
    "- [Canal de youtube con algunos ejemplos de uso de selenium](https://www.youtube.com/watch?v=XHRXSPY75GE)"
   ]
  },
  {
   "cell_type": "markdown",
   "metadata": {},
   "source": [
    "## XPath\n",
    "\n",
    "¿Como se hace para programar un robot para que utilice un sitio web? Deberíamos poder describir de alguna manera donde esta ubicada cosa en un sitio web, XPath es un lenguaje diseñado con este objetivo.\n",
    "\n",
    "![](imagenes/xpath.png)"
   ]
  },
  {
   "cell_type": "markdown",
   "metadata": {
    "colab_type": "text",
    "id": "pRcpDhKurGsk"
   },
   "source": [
    "## Ejemplo 1: Buscar en google"
   ]
  },
  {
   "cell_type": "code",
   "execution_count": 41,
   "metadata": {
    "colab": {
     "autoexec": {
      "startup": false,
      "wait_interval": 0
     }
    },
    "colab_type": "code",
    "id": "EZtrF0W5rGsp"
   },
   "outputs": [],
   "source": [
    "from selenium import webdriver\n",
    "from selenium.webdriver.common.keys import Keys"
   ]
  },
  {
   "cell_type": "code",
   "execution_count": 42,
   "metadata": {
    "colab": {
     "autoexec": {
      "startup": false,
      "wait_interval": 0
     }
    },
    "colab_type": "code",
    "id": "Hzc538_7rGs4"
   },
   "outputs": [],
   "source": [
    "url = 'http://google.com/'\n",
    "driver = webdriver.Chrome('chromedriver')\n",
    "driver.get(url)"
   ]
  },
  {
   "cell_type": "code",
   "execution_count": 43,
   "metadata": {},
   "outputs": [],
   "source": [
    "from selenium.webdriver.common.keys import Keys\n",
    "driver.find_element_by_xpath('//*[@id=\"tsf\"]/div[2]/div[1]/div[1]/div/div[2]/input').send_keys(\"python\" + Keys.ENTER)"
   ]
  },
  {
   "cell_type": "code",
   "execution_count": 44,
   "metadata": {},
   "outputs": [],
   "source": [
    "driver.find_element_by_xpath('//*[@id=\"hdtb-msb-vis\"]/div[2]/a').click()"
   ]
  },
  {
   "cell_type": "code",
   "execution_count": 45,
   "metadata": {},
   "outputs": [],
   "source": [
    "driver.close()"
   ]
  },
  {
   "cell_type": "markdown",
   "metadata": {},
   "source": [
    "## Ejemplo 2: Spotify"
   ]
  },
  {
   "cell_type": "code",
   "execution_count": 22,
   "metadata": {},
   "outputs": [],
   "source": [
    "url = 'https://open.spotify.com/'\n",
    "driver = webdriver.Chrome('chromedriver')\n",
    "driver.get(url)"
   ]
  },
  {
   "cell_type": "code",
   "execution_count": 26,
   "metadata": {},
   "outputs": [],
   "source": [
    "from selenium.webdriver.common.keys import Keys\n",
    "driver.find_element_by_xpath('//*[@id=\"main\"]/div/div[2]/div[4]/div[1]/div/div[2]/div/div/div[2]/section/div/section[1]/div/div[2]/div/div/div[2]/div[1]/a').click()"
   ]
  },
  {
   "cell_type": "code",
   "execution_count": 38,
   "metadata": {},
   "outputs": [
    {
     "name": "stdout",
     "output_type": "stream",
     "text": [
      "El Top 50 de Argentina\n",
      "814,806 me gusta\n"
     ]
    }
   ],
   "source": [
    "def element_text(xpath):\n",
    "    element = driver.find_element_by_xpath(xpath)\n",
    "    return element.text\n",
    "\n",
    "title_xpath = '//*[@id=\"main\"]/div/div[2]/div[4]/div[1]/div/div[2]/div/div/div[2]/section/div[1]/div[5]/span/h1'\n",
    "title = element_text(title_xpath)\n",
    "print(title)\n",
    "\n",
    "likes_xpath = '//*[@id=\"main\"]/div/div[2]/div[4]/div[1]/div/div[2]/div/div/div[2]/section/div[1]/div[5]/div/span[1]'\n",
    "likes = element_text(likes_xpath)\n",
    "print(likes)"
   ]
  },
  {
   "cell_type": "code",
   "execution_count": 39,
   "metadata": {},
   "outputs": [],
   "source": [
    "driver.close()"
   ]
  },
  {
   "cell_type": "markdown",
   "metadata": {},
   "source": [
    "### Ejercicio\n",
    "Descargar también la duración de la playlist"
   ]
  },
  {
   "cell_type": "code",
   "execution_count": null,
   "metadata": {},
   "outputs": [],
   "source": []
  },
  {
   "cell_type": "markdown",
   "metadata": {},
   "source": [
    "## Prácticas avanzadas\n",
    "\n",
    "- Scrapy\n",
    "- Rotacion de IP y userAgent\n",
    "- Scheduling\n",
    "- Camuflando selenium\n",
    "- cURL\n",
    "- Cookies\n",
    "- Requests Sessions\n",
    "- Requests cookies -> selenium\n",
    "\n",
    "- Disable javascript\n",
    "- View current source\n",
    "\n",
    "\n",
    "- https://intoli.com/blog/making-chrome-headless-undetectable/\n",
    "- https://stackoverflow.com/questions/56528631/is-there-a-version-of-selenium-webdriver-that-is-not-detectable"
   ]
  }
 ],
 "metadata": {
  "kernelspec": {
   "display_name": "Python 3",
   "language": "python",
   "name": "python3"
  },
  "language_info": {
   "codemirror_mode": {
    "name": "ipython",
    "version": 3
   },
   "file_extension": ".py",
   "mimetype": "text/x-python",
   "name": "python",
   "nbconvert_exporter": "python",
   "pygments_lexer": "ipython3",
   "version": "3.6.9"
  }
 },
 "nbformat": 4,
 "nbformat_minor": 4
}
