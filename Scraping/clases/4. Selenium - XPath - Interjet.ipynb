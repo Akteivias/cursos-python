{
 "cells": [
  {
   "cell_type": "markdown",
   "metadata": {},
   "source": [
    "- Selenium\n",
    "- XPath"
   ]
  },
  {
   "cell_type": "markdown",
   "metadata": {},
   "source": [
    "# Selenium"
   ]
  },
  {
   "cell_type": "markdown",
   "metadata": {
    "colab_type": "text",
    "id": "pRcpDhKurGsk"
   },
   "source": [
    "### Iniciamos el driver"
   ]
  },
  {
   "cell_type": "code",
   "execution_count": null,
   "metadata": {
    "colab": {
     "autoexec": {
      "startup": false,
      "wait_interval": 0
     }
    },
    "colab_type": "code",
    "id": "EZtrF0W5rGsp"
   },
   "outputs": [],
   "source": [
    "import os\n",
    "import re\n",
    "\n",
    "from selenium import webdriver\n",
    "from selenium.webdriver.common.keys import Keys\n",
    "from selenium.webdriver.chrome.options import Options\n",
    "from selenium.webdriver import ActionChains"
   ]
  },
  {
   "cell_type": "code",
   "execution_count": null,
   "metadata": {
    "colab": {
     "autoexec": {
      "startup": false,
      "wait_interval": 0
     }
    },
    "colab_type": "code",
    "id": "Hzc538_7rGs4"
   },
   "outputs": [],
   "source": [
    "def init_chrome(headless = False):\n",
    "    print('Running Chrome.')\n",
    "    global webdriver\n",
    "    options = webdriver.ChromeOptions()\n",
    "    options.add_argument('--headless') if headless else None\n",
    "    options.add_argument('start-maximized')\n",
    "    driver = webdriver.Chrome(executable_path= os.getcwd() + '/chromedriver.exe', chrome_options= options)\n",
    "    \n",
    "    return driver"
   ]
  },
  {
   "cell_type": "markdown",
   "metadata": {},
   "source": [
    "# XPath"
   ]
  },
  {
   "cell_type": "code",
   "execution_count": 2,
   "metadata": {},
   "outputs": [],
   "source": [
    "from lxml import html"
   ]
  },
  {
   "cell_type": "markdown",
   "metadata": {
    "colab_type": "text",
    "id": "7d6t-1yarGtD"
   },
   "source": [
    "### Iniciamos sesión en google"
   ]
  },
  {
   "cell_type": "code",
   "execution_count": null,
   "metadata": {
    "colab": {
     "autoexec": {
      "startup": false,
      "wait_interval": 0
     }
    },
    "colab_type": "code",
    "id": "gzirORQurGtF"
   },
   "outputs": [],
   "source": [
    "def google_log_in(usr, pasw, url = 'https://accounts.google.com/signin/v2/identifier?service=mail'):\n",
    "    '''Uses ´driver´ variable in global scope to log in to Google Services'''\n",
    "    global driver\n",
    "    driver.get(url)\n",
    "    driver.find_element_by_xpath(\"//input[@type = 'email']\").send_keys(usr)\n",
    "    sleep(2)\n",
    "    driver.find_element_by_xpath(\"//*[@id='identifierNext']\").click()\n",
    "    sleep(2)\n",
    "    driver.find_element_by_xpath(\"//input[@type = 'password']\").send_keys(pasw)\n",
    "    sleep(2)\n",
    "    driver.find_element_by_xpath(\"//*[@id='passwordNext']\").click()\n",
    "    sleep(4)"
   ]
  },
  {
   "cell_type": "code",
   "execution_count": null,
   "metadata": {},
   "outputs": [],
   "source": []
  },
  {
   "cell_type": "markdown",
   "metadata": {},
   "source": [
    "# Caso interjet"
   ]
  },
  {
   "cell_type": "code",
   "execution_count": null,
   "metadata": {},
   "outputs": [],
   "source": [
    "from time import sleep\n",
    "from selenium import webdriver\n",
    "from fake_useragent import UserAgent\n",
    "import random\n",
    "from datetime import datetime, date, timedelta\n",
    "import pandas as pd\n",
    "import numpy as np\n",
    "import csv,operator\n",
    "import unicodedata"
   ]
  },
  {
   "cell_type": "code",
   "execution_count": null,
   "metadata": {},
   "outputs": [],
   "source": [
    "start = datetime.today() - timedelta(hours=3)\n",
    "formato = \"%Y%m%d\"\n",
    "formato2 = \"%Y-%m-%d %H:%M\""
   ]
  },
  {
   "cell_type": "code",
   "execution_count": 41,
   "metadata": {},
   "outputs": [
    {
     "name": "stdout",
     "output_type": "stream",
     "text": [
      "headless off\n"
     ]
    }
   ],
   "source": [
    "url = 'https://www.interjet.com/?currency=MXN'\n",
    "driver = init_chrome()"
   ]
  },
  {
   "cell_type": "code",
   "execution_count": 42,
   "metadata": {},
   "outputs": [],
   "source": [
    "driver.get(url)\n",
    "sleep(random.randint(1,3))"
   ]
  },
  {
   "cell_type": "code",
   "execution_count": 43,
   "metadata": {},
   "outputs": [],
   "source": [
    "driver.find_element_by_id(\"btn-one-way\").click()\n",
    "sleep(random.randint(1,2))\n",
    "driver.find_element_by_id(\"input-origin\").click()\n",
    "origin = 'Acapulco'\n",
    "sleep(random.randint(1,7))\n",
    "driver.find_element_by_id(\"input-origin\").send_keys(origin)\n",
    "sleep(random.randint(1,3))\n",
    "driver.find_element_by_xpath(\"//*[@id=\\\"OriginStationList\\\"]/li[1]/div/a\").click()\n",
    "sleep(random.randint(1,2))\n",
    "driver.find_element_by_id(\"input-destination\").click()\n",
    "destination = 'Guadalajara'\n",
    "sleep(random.randint(1,7))\n",
    "driver.find_element_by_id(\"input-destination\").send_keys(destination)\n",
    "sleep(random.randint(1,3))\n",
    "driver.find_element_by_xpath(\"//*[@id=\\\"DestinationStationList\\\"]/li[1]/div/a\").click()\n",
    "sleep(random.randint(1,3))\n",
    "driver.find_element_by_xpath(\"//*[contains(text(), 'Buscar')]\").click()"
   ]
  },
  {
   "cell_type": "code",
   "execution_count": 44,
   "metadata": {},
   "outputs": [],
   "source": [
    "#Month from Numbers to Letters\n",
    "month_in_letters = {'01' : 'Enero','02' : 'Febrero','03' : 'Marzo','04' : 'Abril','05' : 'Mayo','06' : 'Junio','07' : 'Julio',\n",
    "                    '08' : 'Agosto','09' : 'Septiembre','10' : 'Octubre','11' : 'Noviembre','12' : 'Diciembre'}\n",
    "                        \n",
    "def week_number_of_month(date_value):\n",
    "     return (date_value.isocalendar()[1] - date_value.replace(day=1).isocalendar()[1] + 1)"
   ]
  },
  {
   "cell_type": "code",
   "execution_count": 45,
   "metadata": {},
   "outputs": [],
   "source": [
    "dtd = 1"
   ]
  },
  {
   "cell_type": "code",
   "execution_count": 46,
   "metadata": {},
   "outputs": [],
   "source": [
    "year, month, day = datetime.now().today().strftime('%Y-%m-%d').split('-')\n",
    "month_dtd = month_in_letters[month]"
   ]
  },
  {
   "cell_type": "code",
   "execution_count": 47,
   "metadata": {},
   "outputs": [],
   "source": [
    "web_month = driver.find_elements_by_xpath(\"//*/span[@class='ui-datepicker-month']\")[0].text"
   ]
  },
  {
   "cell_type": "code",
   "execution_count": 48,
   "metadata": {},
   "outputs": [
    {
     "data": {
      "text/plain": [
       "'Marzo'"
      ]
     },
     "execution_count": 48,
     "metadata": {},
     "output_type": "execute_result"
    }
   ],
   "source": [
    "web_month"
   ]
  },
  {
   "cell_type": "code",
   "execution_count": 49,
   "metadata": {},
   "outputs": [
    {
     "name": "stdout",
     "output_type": "stream",
     "text": [
      "actual month\n"
     ]
    }
   ],
   "source": [
    "if month_dtd == web_month:\n",
    "    print('actual month')\n",
    "else:\n",
    "    driver.find_element_by_xpath(\"//*[@id=\\\"dp1582587773856\\\"]/div/div/a[2]/span\").click()\n",
    "calendar_week = week_number_of_month(datetime.now() + timedelta(days= dtd))\n",
    "calendar_day = (datetime.now() + timedelta(days= dtd)).weekday()+1"
   ]
  },
  {
   "cell_type": "code",
   "execution_count": 50,
   "metadata": {},
   "outputs": [],
   "source": [
    "driver.find_element_by_xpath(\"//*/table/tbody/tr[\"+str(calendar_week)+\"]/td[\"+ str(calendar_day)+\"]/a\").click()\n",
    "sleep(2)"
   ]
  },
  {
   "cell_type": "code",
   "execution_count": 51,
   "metadata": {},
   "outputs": [],
   "source": [
    "driver.find_element_by_xpath(\"//*[contains(@class, 'next') and contains(text(), 'Continuar')]\").click()"
   ]
  },
  {
   "cell_type": "code",
   "execution_count": 52,
   "metadata": {},
   "outputs": [],
   "source": [
    "driver.find_element_by_xpath(\"//a[@class='arrow next']\").click()"
   ]
  },
  {
   "cell_type": "code",
   "execution_count": 53,
   "metadata": {},
   "outputs": [
    {
     "name": "stdout",
     "output_type": "stream",
     "text": [
      "0\n"
     ]
    }
   ],
   "source": [
    "for i in range(0,len(driver.find_elements_by_xpath(\"//*[contains(text(), 'ver detalle')]\"))):\n",
    "    driver.find_elements_by_xpath(\"//*[contains(text(), 'ver detalle')]\")[i].click()\n",
    "    print(i)\n",
    "    break"
   ]
  },
  {
   "cell_type": "code",
   "execution_count": 60,
   "metadata": {},
   "outputs": [],
   "source": [
    "ps = driver.find_elements_by_xpath(\"//div[@class = 'modal-body']//p[@class = 'hour'or @class = 'place']\")"
   ]
  },
  {
   "cell_type": "code",
   "execution_count": 62,
   "metadata": {},
   "outputs": [
    {
     "data": {
      "text/plain": [
       "[<selenium.webdriver.remote.webelement.WebElement (session=\"4519b3673948705e27e8102e0f2b2dfb\", element=\"0.3504418285536739-11\")>,\n",
       " <selenium.webdriver.remote.webelement.WebElement (session=\"4519b3673948705e27e8102e0f2b2dfb\", element=\"0.3504418285536739-12\")>,\n",
       " <selenium.webdriver.remote.webelement.WebElement (session=\"4519b3673948705e27e8102e0f2b2dfb\", element=\"0.3504418285536739-13\")>,\n",
       " <selenium.webdriver.remote.webelement.WebElement (session=\"4519b3673948705e27e8102e0f2b2dfb\", element=\"0.3504418285536739-14\")>,\n",
       " <selenium.webdriver.remote.webelement.WebElement (session=\"4519b3673948705e27e8102e0f2b2dfb\", element=\"0.3504418285536739-15\")>,\n",
       " <selenium.webdriver.remote.webelement.WebElement (session=\"4519b3673948705e27e8102e0f2b2dfb\", element=\"0.3504418285536739-16\")>,\n",
       " <selenium.webdriver.remote.webelement.WebElement (session=\"4519b3673948705e27e8102e0f2b2dfb\", element=\"0.3504418285536739-17\")>,\n",
       " <selenium.webdriver.remote.webelement.WebElement (session=\"4519b3673948705e27e8102e0f2b2dfb\", element=\"0.3504418285536739-18\")>,\n",
       " <selenium.webdriver.remote.webelement.WebElement (session=\"4519b3673948705e27e8102e0f2b2dfb\", element=\"0.3504418285536739-19\")>,\n",
       " <selenium.webdriver.remote.webelement.WebElement (session=\"4519b3673948705e27e8102e0f2b2dfb\", element=\"0.3504418285536739-20\")>,\n",
       " <selenium.webdriver.remote.webelement.WebElement (session=\"4519b3673948705e27e8102e0f2b2dfb\", element=\"0.3504418285536739-21\")>,\n",
       " <selenium.webdriver.remote.webelement.WebElement (session=\"4519b3673948705e27e8102e0f2b2dfb\", element=\"0.3504418285536739-22\")>]"
      ]
     },
     "execution_count": 62,
     "metadata": {},
     "output_type": "execute_result"
    }
   ],
   "source": [
    "ps"
   ]
  },
  {
   "cell_type": "code",
   "execution_count": 71,
   "metadata": {},
   "outputs": [
    {
     "data": {
      "text/plain": [
       "[('hour', '8:30 hrs'),\n",
       " ('place', 'Cancún'),\n",
       " ('hour', '12:24 hrs'),\n",
       " ('place', 'Las Vegas'),\n",
       " ('hour', '8:30 hrs'),\n",
       " ('place', 'Cancún'),\n",
       " ('hour', '7:20 hrs'),\n",
       " ('place', 'Ciudad de México'),\n",
       " ('hour', '7:50 hrs'),\n",
       " ('place', 'Ciudad de México'),\n",
       " ('hour', '12:24 hrs'),\n",
       " ('place', 'Las Vegas')]"
      ]
     },
     "execution_count": 71,
     "metadata": {},
     "output_type": "execute_result"
    }
   ],
   "source": [
    "info_conex = [(p.get_attribute('class'), p.get_attribute('innerHTML')) for p in ps]\n",
    "info_conex"
   ]
  },
  {
   "cell_type": "code",
   "execution_count": 103,
   "metadata": {},
   "outputs": [
    {
     "data": {
      "text/html": [
       "<div>\n",
       "<style scoped>\n",
       "    .dataframe tbody tr th:only-of-type {\n",
       "        vertical-align: middle;\n",
       "    }\n",
       "\n",
       "    .dataframe tbody tr th {\n",
       "        vertical-align: top;\n",
       "    }\n",
       "\n",
       "    .dataframe thead th {\n",
       "        text-align: right;\n",
       "    }\n",
       "</style>\n",
       "<table border=\"1\" class=\"dataframe\">\n",
       "  <thead>\n",
       "    <tr style=\"text-align: right;\">\n",
       "      <th></th>\n",
       "      <th>0</th>\n",
       "      <th>1</th>\n",
       "      <th>0</th>\n",
       "      <th>1</th>\n",
       "    </tr>\n",
       "  </thead>\n",
       "  <tbody>\n",
       "    <tr>\n",
       "      <td>0</td>\n",
       "      <td>hour</td>\n",
       "      <td>8:30 hrs</td>\n",
       "      <td>place</td>\n",
       "      <td>Cancún</td>\n",
       "    </tr>\n",
       "    <tr>\n",
       "      <td>1</td>\n",
       "      <td>hour</td>\n",
       "      <td>12:24 hrs</td>\n",
       "      <td>place</td>\n",
       "      <td>Las Vegas</td>\n",
       "    </tr>\n",
       "    <tr>\n",
       "      <td>2</td>\n",
       "      <td>hour</td>\n",
       "      <td>8:30 hrs</td>\n",
       "      <td>place</td>\n",
       "      <td>Cancún</td>\n",
       "    </tr>\n",
       "    <tr>\n",
       "      <td>3</td>\n",
       "      <td>hour</td>\n",
       "      <td>7:20 hrs</td>\n",
       "      <td>place</td>\n",
       "      <td>Ciudad de México</td>\n",
       "    </tr>\n",
       "    <tr>\n",
       "      <td>4</td>\n",
       "      <td>hour</td>\n",
       "      <td>7:50 hrs</td>\n",
       "      <td>place</td>\n",
       "      <td>Ciudad de México</td>\n",
       "    </tr>\n",
       "    <tr>\n",
       "      <td>5</td>\n",
       "      <td>hour</td>\n",
       "      <td>12:24 hrs</td>\n",
       "      <td>place</td>\n",
       "      <td>Las Vegas</td>\n",
       "    </tr>\n",
       "  </tbody>\n",
       "</table>\n",
       "</div>"
      ],
      "text/plain": [
       "      0          1      0                 1\n",
       "0  hour   8:30 hrs  place            Cancún\n",
       "1  hour  12:24 hrs  place         Las Vegas\n",
       "2  hour   8:30 hrs  place            Cancún\n",
       "3  hour   7:20 hrs  place  Ciudad de México\n",
       "4  hour   7:50 hrs  place  Ciudad de México\n",
       "5  hour  12:24 hrs  place         Las Vegas"
      ]
     },
     "execution_count": 103,
     "metadata": {},
     "output_type": "execute_result"
    }
   ],
   "source": [
    "pd.concat([pd.DataFrame.from_records(info_conex).iloc[::2].reset_index(), \n",
    "           pd.DataFrame.from_records(info_conex).iloc[1::2].reset_index()],\n",
    "           axis=1).drop('index', axis=1)"
   ]
  },
  {
   "cell_type": "code",
   "execution_count": 123,
   "metadata": {},
   "outputs": [],
   "source": [
    "# driver.close()"
   ]
  }
 ],
 "metadata": {
  "kernelspec": {
   "display_name": "Python 3",
   "language": "python",
   "name": "python3"
  },
  "language_info": {
   "codemirror_mode": {
    "name": "ipython",
    "version": 3
   },
   "file_extension": ".py",
   "mimetype": "text/x-python",
   "name": "python",
   "nbconvert_exporter": "python",
   "pygments_lexer": "ipython3",
   "version": "3.7.7"
  }
 },
 "nbformat": 4,
 "nbformat_minor": 4
}
