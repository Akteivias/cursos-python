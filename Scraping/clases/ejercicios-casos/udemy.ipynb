{
 "cells": [
  {
   "cell_type": "code",
   "execution_count": null,
   "metadata": {},
   "outputs": [],
   "source": [
    "# Crawl"
   ]
  },
  {
   "cell_type": "code",
   "execution_count": 533,
   "metadata": {},
   "outputs": [],
   "source": [
    "import requests as rq\n",
    "import re\n",
    "from lxml import html, etree\n",
    "from time import sleep \n",
    "import numpy as np\n",
    "from numpy.random import uniform\n",
    "import json"
   ]
  },
  {
   "cell_type": "code",
   "execution_count": null,
   "metadata": {},
   "outputs": [],
   "source": [
    "base_url = 'https://www.udemy.com/'\n",
    "query = 'python'\n",
    "search_url = base_url + f'courses/search/?src=ukw&q={query}'\n",
    "user_agent = 'Mozilla/5.0 (X11; Linux x86_64) AppleWebKit/537.36 (KHTML, like Gecko) Chrome/81.0.4044.129 Safari/537.36'"
   ]
  },
  {
   "cell_type": "code",
   "execution_count": null,
   "metadata": {},
   "outputs": [],
   "source": [
    "fp = 'udemyurls.csv'\n",
    "out = open(fp,'a+')"
   ]
  },
  {
   "cell_type": "code",
   "execution_count": null,
   "metadata": {},
   "outputs": [],
   "source": [
    "for i in range(1, 1317):\n",
    "    url = f'https://www.udemy.com/sitemap/courses.xml?p={i}'\n",
    "    r = rq.get(url, headers = {'User-Agent':user_agent})\n",
    "    root = etree.fromstring(r.content)\n",
    "    urls = [e.getchildren()[0].text for e in root]    \n",
    "    if \"Oops\" in r.text:\n",
    "        continue\n",
    "    out.write(','.join(urls) + r'\\n')\n",
    "    #sleep(uniform(0,2))\n",
    "    print(i)\n",
    "out.close()"
   ]
  },
  {
   "cell_type": "code",
   "execution_count": null,
   "metadata": {},
   "outputs": [],
   "source": [
    "out.close()"
   ]
  },
  {
   "cell_type": "code",
   "execution_count": null,
   "metadata": {},
   "outputs": [],
   "source": [
    "# Scrape"
   ]
  },
  {
   "cell_type": "code",
   "execution_count": null,
   "metadata": {},
   "outputs": [],
   "source": [
    "with open(fp, 'r') as inp:\n",
    "    urls = inp.read().replace('\\\\n', ',').split(',')\n",
    "\n",
    "urls = list(set([u for u in urls if len(u) > 1]))"
   ]
  },
  {
   "cell_type": "code",
   "execution_count": 574,
   "metadata": {},
   "outputs": [],
   "source": [
    "fp = './udemy/udemy_py.csv'"
   ]
  },
  {
   "cell_type": "code",
   "execution_count": 586,
   "metadata": {},
   "outputs": [
    {
     "name": "stdout",
     "output_type": "stream",
     "text": [
      "1708,No instructor,1710,1711,1712,1713,1714,1715,1716,1717,1718,1719,1720,1721,1722,1723,1724,1725,1726,1727,1728,1729,1730,1731,1732,1733,1734,1735,1736,1737,1738,1739,1740,1741,1742,1743,1744,1745,1746,1747,1748,1749,1750,1751,1752,1753,1754,1755,1756,1757,1758,1759,1760,1761,1762,1763,1764,1765,1766,1767,1768,1769,1770,1771,1772,1773,1774,1775,1776,1777,1778,1779,1780,1781,1782,1783,1784,1785,1786,1787,1788,1789,1790,1791,1792,1793,1794,1795,1796,1797,1798,1799,1800,1801,1802,1803,1804,1805,1806,1807,1808,1809,1810,1811,1812,1813,1814,1815,1816,1817,1818,1819,1820,1821,1822,1823,1824,1825,1826,1827,1828,1829,1830,1831,1832,1833,1834,1835,1836,1837,1838,1839,1840,1841,1842,1843,1844,1845,1846,1847,1848,1849,1850,1851,1852,1853,1854,1855,1856,1857,1858,1859,1860,1861,1862,1863,1864,1865,1866,1867,1868,1869,1870,1871,1872,1873,1874,1875,1876,1877,1878,1879,1880,1881,1882,1883,1884,1885,1886,1887,1888,1889,1890,1891,1892,1893,1894,1895,1896,1897,1898,1899,1900,1901,1902,1903,1904,1905,1906,1907,1908,1909,1910,1911,1912,1913,1914,1915,1916,1917,1918,1919,1920,1921,1922,1923,1924,1925,1926,1927,1928,1929,1930,1931,1932,1933,1934,1935,1936,1937,1938,1939,1940,No data,1942,1943,1944,1945,1946,1947,1948,1949,1950,1951,1952,1953,1954,1955,1956,1957,1958,1959,1960,1961,1962,1963,1964,1965,1966,1967,1968,1969,1970,1971,1972,1973,1974,1975,1976,1977,1978,1979,1980,1981,1982,1983,1984,1985,1986,1987,1988,1989,1990,1991,1992,1993,1994,1995,1996,1997,1998,1999,2000,2001,2002,2003,2004,2005,2006,2007,2008,2009,2010,2011,2012,2013,2014,2015,2016,2017,2018,2019,2020,2021,2022,2023,2024,2025,2026,2027,2028,2029,2030,2031,2032,2033,2034,2035,2036,2037,2038,2039,2040,2041,2042,2043,2044,2045,2046,2047,2048,2049,2050,2051,2052,2053,2054,2055,2056,2057,2058,2059,2060,2061,2062,2063,2064,2065,2066,2067,2068,2069,2070,2071,2072,2073,2074,2075,2076,2077,2078,2079,2080,2081,2082,2083,2084,2085,2086,2087,2088,2089,2090,2091,2092,2093,2094,2095,2096,2097,2098,2099,2100,2101,2102,2103,2104,2105,2106,2107,2108,2109,2110,2111,2112,2113,2114,2115,2116,2117,2118,2119,2120,2121,2122,2123,2124,2125,2126,2127,2128,2129,2130,2131,2132,2133,2134,2135,2136,2137,2138,2139,2140,2141,2142,2143,2144,2145,2146,2147,2148,2149,2150,2151,2152,2153,2154,2155,2156,2157,2158,2159,2160,2161,2162,2163,2164,2165,2166,2167,2168,2169,2170,2171,2172,2173,2174,2175,2176,2177,2178,2179,2180,2181,2182,2183,2184,2185,2186,2187,2188,2189,2190,2191,2192,2193,2194,2195,2196,2197,2198,2199,2200,2201,2202,2203,2204,2205,"
     ]
    }
   ],
   "source": [
    "for i in range(1708,len(python)):\n",
    "    url = python[i]\n",
    "\n",
    "    # sitio ppal\n",
    "    r = rq.get(url, headers = {'User-Agent':user_agent})\n",
    "    dom = html.fromstring(r.content)\n",
    "    \n",
    "    if r.status_code != 200:\n",
    "        print('Not found', end=',')\n",
    "        continue\n",
    "    # json con data\n",
    "    try:\n",
    "        data_elem = dom.xpath('//script[@type=\"application/ld+json\"]')[0]\n",
    "    except:\n",
    "        print('No data', end=',')\n",
    "        continue\n",
    "    \n",
    "    try:\n",
    "        data = json.loads(data_elem.text)[0]\n",
    "    except:\n",
    "        data = json.loads(data_elem.text)\n",
    "\n",
    "    # algunos datos extra\n",
    "    try:\n",
    "        data['enrollment'] = re.search('\\d+', dom.xpath('//div[@data-purpose=\"enrollment\"]')[0].text).group(0)\n",
    "    except:\n",
    "        data['enrollment'] = np.nan\n",
    "    try:\n",
    "        data['langs'] = re.sub('\\s+', ' ', ' '.join(dom.xpath('//div[@data-purpose=\"lead-course-locale\"]')[0].itertext()))\n",
    "    except:\n",
    "        data['langs'] = np.nan\n",
    "\n",
    "    courseid = dom.xpath('//body')[0].get('data-clp-course-id')\n",
    "    # usamos la api para mas datos\n",
    "    api_url = f'https://www.udemy.com/api-2.0/course-landing-components/{courseid}/me/?components=curriculum,instructor_bio'\n",
    "    r = rq.get(api_url, headers = {'User-Agent':user_agent})\n",
    "    dom = html.fromstring(r.content)\n",
    "    api = r.json()\n",
    "    try:\n",
    "        data['instructor'] = api['instructor_bio']['data']['instructors_info']\n",
    "    except:\n",
    "        print('No instructor', end=',')\n",
    "        continue\n",
    "    data['curriculum'] = api['curriculum']['data']\n",
    "    \n",
    "    df_ = pd.json_normalize({k:v if type(v) != list else v[0] for k,v in data.items()})\n",
    "    df = pd.read_csv(fp)\n",
    "    df = df.append(df_)\n",
    "    df.to_csv(fp, mode='w', index=False)\n",
    "    print(i, end=',')\n"
   ]
  },
  {
   "cell_type": "code",
   "execution_count": 594,
   "metadata": {},
   "outputs": [
    {
     "data": {
      "text/plain": [
       "(2204, 50)"
      ]
     },
     "execution_count": 594,
     "metadata": {},
     "output_type": "execute_result"
    }
   ],
   "source": [
    "df = pd.read_csv(fp)\n",
    "df.shape"
   ]
  },
  {
   "cell_type": "code",
   "execution_count": 596,
   "metadata": {},
   "outputs": [
    {
     "data": {
      "text/html": [
       "<div>\n",
       "<style scoped>\n",
       "    .dataframe tbody tr th:only-of-type {\n",
       "        vertical-align: middle;\n",
       "    }\n",
       "\n",
       "    .dataframe tbody tr th {\n",
       "        vertical-align: top;\n",
       "    }\n",
       "\n",
       "    .dataframe thead th {\n",
       "        text-align: right;\n",
       "    }\n",
       "</style>\n",
       "<table border=\"1\" class=\"dataframe\">\n",
       "  <thead>\n",
       "    <tr style=\"text-align: right;\">\n",
       "      <th></th>\n",
       "      <th>name</th>\n",
       "      <th>inLanguage</th>\n",
       "      <th>@id</th>\n",
       "      <th>image</th>\n",
       "      <th>isAccessibleForFree</th>\n",
       "      <th>@type</th>\n",
       "      <th>@context</th>\n",
       "      <th>description</th>\n",
       "      <th>enrollment</th>\n",
       "      <th>langs</th>\n",
       "      <th>...</th>\n",
       "      <th>curriculum.is_limited_consumption_trial</th>\n",
       "      <th>curriculum.estimated_content_length_text</th>\n",
       "      <th>curriculum.is_for_practice_test_course</th>\n",
       "      <th>curriculum.estimated_content_length_in_seconds</th>\n",
       "      <th>curriculum.displayed_sections</th>\n",
       "      <th>curriculum.num_of_published_lectures</th>\n",
       "      <th>curriculum.tracking_id</th>\n",
       "      <th>curriculum.sections</th>\n",
       "      <th>curriculum.url</th>\n",
       "      <th>curriculum.num_undisplayed_sections</th>\n",
       "    </tr>\n",
       "  </thead>\n",
       "  <tbody>\n",
       "    <tr>\n",
       "      <th>1541</th>\n",
       "      <td>【增加職場技能】用一個假日進行 Python 資料分析視覺化實戰</td>\n",
       "      <td>zh</td>\n",
       "      <td>https://www.udemy.com/course/visualization-of-...</td>\n",
       "      <td>https://img-a.udemycdn.com/course/750x422/2703...</td>\n",
       "      <td>False</td>\n",
       "      <td>Course</td>\n",
       "      <td>http://schema.org</td>\n",
       "      <td>&lt;p&gt;你對資料總是分不清楚該怎麼去找到 Business Impact 嗎？&lt;/p&gt;&lt;p&gt;你...</td>\n",
       "      <td>206</td>\n",
       "      <td>Traditional Chinese</td>\n",
       "      <td>...</td>\n",
       "      <td>False</td>\n",
       "      <td>07:49:05</td>\n",
       "      <td>False</td>\n",
       "      <td>28145</td>\n",
       "      <td>[{'lecture_count': 12, 'content_length_text': ...</td>\n",
       "      <td>40</td>\n",
       "      <td>29K9jrnuT2y_zsY22tI6pA</td>\n",
       "      <td>[{'lecture_count': 12, 'content_length_text': ...</td>\n",
       "      <td>/course/visualization-of-python-data-analysis-...</td>\n",
       "      <td>0</td>\n",
       "    </tr>\n",
       "    <tr>\n",
       "      <th>1235</th>\n",
       "      <td>3 Python projects for beginners</td>\n",
       "      <td>en</td>\n",
       "      <td>https://www.udemy.com/course/3-python-projects...</td>\n",
       "      <td>https://img-a.udemycdn.com/course/750x422/3070...</td>\n",
       "      <td>True</td>\n",
       "      <td>Course</td>\n",
       "      <td>http://schema.org</td>\n",
       "      <td>&lt;p&gt;If you have covered the basics, then it is ...</td>\n",
       "      <td>2</td>\n",
       "      <td>NaN</td>\n",
       "      <td>...</td>\n",
       "      <td>False</td>\n",
       "      <td>38:52</td>\n",
       "      <td>False</td>\n",
       "      <td>2332</td>\n",
       "      <td>[{'items': [{'preview_url': '/course/3070866/p...</td>\n",
       "      <td>5</td>\n",
       "      <td>rXU3352hRQ2B5lK6VKuo2g</td>\n",
       "      <td>[{'items': [{'preview_url': '/course/3070866/p...</td>\n",
       "      <td>/course/3-python-projects-for-beginners/</td>\n",
       "      <td>0</td>\n",
       "    </tr>\n",
       "  </tbody>\n",
       "</table>\n",
       "<p>2 rows × 50 columns</p>\n",
       "</div>"
      ],
      "text/plain": [
       "                                  name inLanguage  \\\n",
       "1541  【增加職場技能】用一個假日進行 Python 資料分析視覺化實戰         zh   \n",
       "1235   3 Python projects for beginners         en   \n",
       "\n",
       "                                                    @id  \\\n",
       "1541  https://www.udemy.com/course/visualization-of-...   \n",
       "1235  https://www.udemy.com/course/3-python-projects...   \n",
       "\n",
       "                                                  image  isAccessibleForFree  \\\n",
       "1541  https://img-a.udemycdn.com/course/750x422/2703...                False   \n",
       "1235  https://img-a.udemycdn.com/course/750x422/3070...                 True   \n",
       "\n",
       "       @type           @context  \\\n",
       "1541  Course  http://schema.org   \n",
       "1235  Course  http://schema.org   \n",
       "\n",
       "                                            description  enrollment  \\\n",
       "1541  <p>你對資料總是分不清楚該怎麼去找到 Business Impact 嗎？</p><p>你...         206   \n",
       "1235  <p>If you have covered the basics, then it is ...           2   \n",
       "\n",
       "                      langs  ... curriculum.is_limited_consumption_trial  \\\n",
       "1541   Traditional Chinese   ...                                   False   \n",
       "1235                    NaN  ...                                   False   \n",
       "\n",
       "     curriculum.estimated_content_length_text  \\\n",
       "1541                                 07:49:05   \n",
       "1235                                    38:52   \n",
       "\n",
       "     curriculum.is_for_practice_test_course  \\\n",
       "1541                                  False   \n",
       "1235                                  False   \n",
       "\n",
       "     curriculum.estimated_content_length_in_seconds  \\\n",
       "1541                                          28145   \n",
       "1235                                           2332   \n",
       "\n",
       "                          curriculum.displayed_sections  \\\n",
       "1541  [{'lecture_count': 12, 'content_length_text': ...   \n",
       "1235  [{'items': [{'preview_url': '/course/3070866/p...   \n",
       "\n",
       "     curriculum.num_of_published_lectures  curriculum.tracking_id  \\\n",
       "1541                                   40  29K9jrnuT2y_zsY22tI6pA   \n",
       "1235                                    5  rXU3352hRQ2B5lK6VKuo2g   \n",
       "\n",
       "                                    curriculum.sections  \\\n",
       "1541  [{'lecture_count': 12, 'content_length_text': ...   \n",
       "1235  [{'items': [{'preview_url': '/course/3070866/p...   \n",
       "\n",
       "                                         curriculum.url  \\\n",
       "1541  /course/visualization-of-python-data-analysis-...   \n",
       "1235           /course/3-python-projects-for-beginners/   \n",
       "\n",
       "     curriculum.num_undisplayed_sections  \n",
       "1541                                   0  \n",
       "1235                                   0  \n",
       "\n",
       "[2 rows x 50 columns]"
      ]
     },
     "execution_count": 596,
     "metadata": {},
     "output_type": "execute_result"
    }
   ],
   "source": [
    "df.sample(2)"
   ]
  }
 ],
 "metadata": {
  "kernelspec": {
   "display_name": "Python 3",
   "language": "python",
   "name": "python3"
  },
  "language_info": {
   "codemirror_mode": {
    "name": "ipython",
    "version": 3
   },
   "file_extension": ".py",
   "mimetype": "text/x-python",
   "name": "python",
   "nbconvert_exporter": "python",
   "pygments_lexer": "ipython3",
   "version": "3.7.7"
  }
 },
 "nbformat": 4,
 "nbformat_minor": 4
}
