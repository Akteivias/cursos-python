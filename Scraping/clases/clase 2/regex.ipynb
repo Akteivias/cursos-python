{
 "cells": [
  {
   "cell_type": "markdown",
   "metadata": {},
   "source": [
    "## Expresiones Regulares\n",
    "RegEx para los amigos"
   ]
  },
  {
   "cell_type": "markdown",
   "metadata": {},
   "source": [
    "### ¿Qué son?\n",
    "Son un mini lenguaje de programación diseñado para realizar búsquedas en strings.\n"
   ]
  },
  {
   "cell_type": "code",
   "execution_count": 52,
   "metadata": {
    "collapsed": false,
    "jupyter": {
     "outputs_hidden": false
    }
   },
   "outputs": [
    {
     "name": "stdout",
     "output_type": "stream",
     "text": [
      "R TAMBIEN ESTA BUENO\n",
      "aguantEpython@gov.STA.com\n",
      "['hRola123probando', ' T2n13AMl/', 'BIE8nsjkaN9 aguantEpython@gov', 'STA', 'com jksB8', '92U/EN/0Onltk']\n"
     ]
    }
   ],
   "source": [
    "# python utiliza la libreria llamada re para todo lo relacionado a regular expressions\n",
    "import re\n",
    "\n",
    "mayusc = r'([A-Z ])'\n",
    "mail = r'([\\w.]+@[\\w.]+)'\n",
    "\n",
    "comentario_de_mercadolibre1 = 'hola Carlos, me interesa el producto, te dejo mi celu 1565525242'\n",
    "\n",
    "comentario_de_mercadolibre2 = 'hola Carlos, me interesa el producto. Te paso mis medidas guiño guiño. 15x65x52x52x42'\n",
    "\n",
    "print(''.join(re.findall(mayusc, cadena)))\n",
    "\n",
    "print(re.search(mail, cadena).group(1))\n",
    "\n",
    "print(re.split(',|\\.', cadena))"
   ]
  },
  {
   "cell_type": "raw",
   "metadata": {},
   "source": [
    "Para agilizar la confección de regex, y ver un conveniente Cheat Sheet, ver http://regexr.com/ "
   ]
  },
  {
   "cell_type": "markdown",
   "metadata": {},
   "source": [
    "En Python, lo usaremos con las funciónes:\n",
    "- re.split para separar strings\n",
    "- re.findall para encontrar todos los resultados de una búsqueda\n",
    "- re.search para la primera"
   ]
  },
  {
   "cell_type": "markdown",
   "metadata": {},
   "source": [
    "## Recursos útiles\n",
    "\n",
    "- [Testeo de regex online](https://regex101.com/)\n",
    "- [CheatSheet](https://www.dataquest.io/wp-content/uploads/2019/03/python-regular-expressions-cheat-sheet.pdf)\n"
   ]
  },
  {
   "cell_type": "markdown",
   "metadata": {},
   "source": [
    "## Ejercicio"
   ]
  },
  {
   "cell_type": "raw",
   "metadata": {},
   "source": [
    "Recuperá todos los mails de 'CCPP.mmbox'\n",
    "\n",
    "Dentro del archivo 'Archivo.txt':\n",
    "\n",
    "Buscá las direcciones de mail\n",
    "Buscá las páginas web\n",
    "Buscá las imagenes\n"
   ]
  },
  {
   "cell_type": "markdown",
   "metadata": {},
   "source": [
    "### Práctica Regex"
   ]
  },
  {
   "cell_type": "raw",
   "metadata": {},
   "source": [
    "Usa regex para hacer una función que chequee si el input es un email "
   ]
  },
  {
   "cell_type": "code",
   "execution_count": null,
   "metadata": {
    "collapsed": true,
    "jupyter": {
     "outputs_hidden": true
    }
   },
   "outputs": [],
   "source": [
    "def ismail()\n",
    "    return False"
   ]
  },
  {
   "cell_type": "raw",
   "metadata": {},
   "source": [
    "Hace otra que devuelva el dominio de una URL\n",
    "\n",
    "Ej:\n",
    "    domain_name(\"http://github.com/carbonfive/raygun\") == \"github\"\n",
    "    domain_name(\"http://www.zombie-bites.com\") == \"zombie-bites\"\n",
    "    domain_name(\"https://www.cnet.com\") == \"cnet\""
   ]
  },
  {
   "cell_type": "code",
   "execution_count": null,
   "metadata": {
    "collapsed": true,
    "jupyter": {
     "outputs_hidden": true
    }
   },
   "outputs": [],
   "source": [
    "def domain_name():\n",
    "    return domain"
   ]
  }
 ],
 "metadata": {
  "kernelspec": {
   "display_name": "Python 3",
   "language": "python",
   "name": "python3"
  },
  "language_info": {
   "codemirror_mode": {
    "name": "ipython",
    "version": 3
   },
   "file_extension": ".py",
   "mimetype": "text/x-python",
   "name": "python",
   "nbconvert_exporter": "python",
   "pygments_lexer": "ipython3",
   "version": "3.6.9"
  }
 },
 "nbformat": 4,
 "nbformat_minor": 4
}
