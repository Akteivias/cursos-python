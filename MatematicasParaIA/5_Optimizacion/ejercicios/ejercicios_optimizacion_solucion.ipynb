{
 "cells": [
  {
   "cell_type": "markdown",
   "metadata": {},
   "source": [
    "# Ejercicio 1: Método de la bisección\n",
    "\n",
    "Implementar el método de la bisección. Debe tomar como argumentos, la función a evaluar, el intervalo inicial, y los criterios de corte. Debe devolver el valor  hallado.\n",
    "\n",
    "Recordar que la formulación del método tiene como objetivo encontrar $\\color{orange}{x}$ que iguale a cero una ecuación.\n",
    "\n",
    "Hint: usar como base el pseudocódigo provisto en la teórica\n",
    "\n",
    "<center>\n",
    "<img src=\"http://www.frsn.utn.edu.ar/gie/an/enl/Metodobiseccion.gif\">\n",
    "</center>"
   ]
  },
  {
   "cell_type": "markdown",
   "metadata": {},
   "source": [
    "Implementamos el método de la bisección siguiendo cada uno de los pasos descriptos en el pseudocódigo."
   ]
  },
  {
   "cell_type": "code",
   "execution_count": 2,
   "metadata": {},
   "outputs": [],
   "source": [
    "def bisection(f, interval0, MAXITER, TOL):\n",
    "    a,b = interval0[0], interval0[1] #definimos el intervalo\n",
    "    fa, fb = f(a), f(b) #calculamos el valor de la función\n",
    "    fc = 2*TOL #esto está solamente para que entre por primera vez al while\n",
    "    cont = 1  #nuestro contador \n",
    "    while (abs(fc) >= TOL) and (cont < MAXITER): #condiciones de corte\n",
    "        c = (a+b)/2 #nuestro punto medio, la bisección\n",
    "        fc = f(c) #valor en este punto\n",
    "        if f(c) == 0: #si encontramos la solución devolver ese valor\n",
    "            return c\n",
    "        \n",
    "        if f(a)*fc < 0: #manera muy ingeniosa de determinar si es creciente o decreciente la función\n",
    "            b = c\n",
    "        else:\n",
    "            a = c\n",
    "        \n",
    "        cont += 1 \n",
    "    \n",
    "    if abs(f(c)) <= TOL:\n",
    "        return (a+b)/2\n",
    "    else:\n",
    "        print(f\"El método falló despues de {MAXITER} iteraciones\")\n",
    "        return None"
   ]
  },
  {
   "cell_type": "markdown",
   "metadata": {},
   "source": [
    "# Ejercicio 2:\n",
    "\n",
    "Usar el método de la bisección para resolver el siguiente problema \n",
    "\n",
    "$$\n",
    "\\color{orange}{x^6-4x^5+\\sin (x)-e^x+\\pi =0}\n",
    "$$\n",
    "\n",
    "Graficar la función en el intervalo $\\color{orange}{[-1,1]}$ y usar este intervalo como el inicial \n",
    "\n",
    "Usar `numpy`  y `matplotlib`.\n"
   ]
  },
  {
   "cell_type": "code",
   "execution_count": 3,
   "metadata": {},
   "outputs": [
    {
     "data": {
      "image/png": "[encoded data removed]",
      "text/plain": [
       "<Figure size 720x720 with 1 Axes>"
      ]
     },
     "metadata": {},
     "output_type": "display_data"
    }
   ],
   "source": [
    "# imports necesarios\n",
    "import numpy as np\n",
    "import matplotlib.pyplot as plt\n",
    "plt.style.use(\"dark_background\")\n",
    "\n",
    "#definimos el array para graficar la función\n",
    "x = np.linspace(-1,1, 1e4)\n",
    "\n",
    "# imlpementamos f siendo esta el lado izquierdo de la ecuación\n",
    "def f(x):\n",
    "    return x**6-4*(x**5)+np.sin(x) - np.exp(x) + np.pi\n",
    "\n",
    "#calculamos los valores de f en los puntos x que definimos anteriormente\n",
    "y = f(x)\n",
    "\n",
    "\n",
    "#graficamos para ver como era la forma de la función\n",
    "fig = plt.figure(figsize=(10,10))\n",
    "_ = plt.grid(linewidth = 0.3)\n",
    "_ = plt.plot(x,y)\n",
    "\n",
    "# usamos el método del punto anterior\n",
    "c = bisection(f, [-1,1], 1e6, 0.001)\n",
    "fc = f(c)\n",
    "\n",
    "_ = plt.scatter(c, f(c), s=100, c='r')\n",
    "_ = plt.title(f\"Valor de x={c:.5f}, f(x)={fc:.5f}\")"
   ]
  },
  {
   "cell_type": "markdown",
   "metadata": {},
   "source": [
    "# Ejercicio 3\n",
    "\n",
    "Modificar el método `fit` de la clase `LinearRegression` para poder guardar el historial del valores de la función error. Graficar el error en función del tiempo.\n"
   ]
  },
  {
   "cell_type": "code",
   "execution_count": 11,
   "metadata": {},
   "outputs": [],
   "source": [
    "class GradientDescent:\n",
    "        \n",
    "    def __init__(self, learning_rate=.001, max_iters=1e4, epsilon=1e-8, record_history=False):\n",
    "        \n",
    "        \"\"\"\n",
    "        Inicializador\n",
    "        \n",
    "        Parámetros\n",
    "        ----------\n",
    "        learning_rate (float, opcional): Ritmo de aprendizaje. Default a .001\n",
    "        max_iters (int, opcional): Máximas iteraciones. Default a 1E4.\n",
    "        epsilon (float, opcional): Cóta mínimma para el valor del gradiente permitido. Default a 1E-8\n",
    "        record_history (bool, opcional): Si es True guarda el historial de los pesos para cada paso de iteración. Default a False\n",
    "        \"\"\"\n",
    "        \n",
    "        self.learning_rate = learning_rate\n",
    "        self.max_iters = max_iters\n",
    "        self.record_history = record_history\n",
    "        self.epsilon = epsilon\n",
    "        if record_history:\n",
    "            self.w_history = []                 \n",
    "            \n",
    "    def run(self, gradient_fn, x, y, w):\n",
    "        \"\"\"\n",
    "        Método iterativo de gradiente descendiente. \n",
    "        \n",
    "        Parámetros\n",
    "        ----------\n",
    "        gradient_fn (function): gradiente de la función costo a minimizar. Debe tomar como parámetros x,y y los pesos correspondientes.\n",
    "        x (numpy.ndarray): variables independientes del conjunto de datos.\n",
    "        y (numpy.ndarray): variables dependientes observadas\n",
    "        w (numpy.ndarray): variables a entrenar del modelo \n",
    "\n",
    "        Devuelve\n",
    "        --------\n",
    "            w (numpy.ndarray): variables resultaantes luego del proceso de entrenamiento.\n",
    "        \"\"\"\n",
    "        \n",
    "        grad = np.inf # definimos el gradiente como infinito para que se cumpla la condicion y se ingresse al while\n",
    "        t = 1 # contador\n",
    "        while np.linalg.norm(grad) > self.epsilon and t < self.max_iters: #linalg.norm calcula la norma  L2 del vector gradiente\n",
    "            grad = gradient_fn(x, y, w) #calculamos el gradiente               \n",
    "            w = w - self.learning_rate * grad #acá esta la papa        \n",
    "            if self.record_history: \n",
    "                self.w_history.append(w)\n",
    "            t += 1\n",
    "        return w\n"
   ]
  },
  {
   "cell_type": "code",
   "execution_count": 12,
   "metadata": {},
   "outputs": [],
   "source": [
    "class LinearRegression:\n",
    "    def __init__(self, add_bias=True): \n",
    "        self.add_bias = add_bias #el bias es la constante de nuestro modelo lineal\n",
    "        pass\n",
    "            \n",
    "    def fit(self, x, y, optimizer):\n",
    "        \n",
    "        if self.add_bias:\n",
    "            N = x.shape[0]\n",
    "            x = np.column_stack([x,np.ones(N)]) \n",
    "        \n",
    "        N,D = x.shape\n",
    "        \n",
    "        def gradient(x, y, betas):                          \n",
    "            yh =  x @ betas # la operación calcula el producto matricial\n",
    "            N, D = x.shape \n",
    "            grad = -2*np.dot(y-yh, x)/N\n",
    "            return grad\n",
    "        \n",
    "        betas0 = np.zeros(D) #betas iniciales                                \n",
    "        self.betas = optimizer.run(gradient, x, y, betas0) #corremos el optimizador  \n",
    "        \n",
    "        #definimos la función MSE que toma a las variables predecidas y a las variables observadas\n",
    "        def MSE(y,yh):\n",
    "            e = (y-yh)**2\n",
    "            return np.mean(e)\n",
    "        \n",
    "        #definimos a la función que nos devuleve el error usando las variables predichas y los betas históricos que devuelve\n",
    "        # el optimizador\n",
    "        def get_error_history(x,y,history_betas):\n",
    "            error_history = []\n",
    "            #para cada uno  de los beta de entrenamiento tenemos que calcular la predicción yh\n",
    "            for betas in history_betas:\n",
    "                yh = x@betas #calculo de yh, recuerden @ es el producto matricial\n",
    "                error_history.append(MSE(y,yh)) # appendeamos el valor del error cuadrático medio para las predicciones de cada paso\n",
    "            return error_history #devolvemos el historial\n",
    "        \n",
    "        self.error_history = get_error_history(x,y,optimizer.w_history) # se lo asignamos a un atribut de la clase        \n",
    "        \n",
    "        return self\n",
    "    \n",
    "    def predict(self, x):\n",
    "        if self.add_bias: \n",
    "            N = x.shape[0]\n",
    "            x = np.column_stack([x,np.ones(N)])\n",
    "        yh = x@self.betas\n",
    "        return yh"
   ]
  },
  {
   "cell_type": "code",
   "execution_count": 13,
   "metadata": {},
   "outputs": [
    {
     "data": {
      "image/png": "[encoded data removed]",
      "text/plain": [
       "<Figure size 504x504 with 1 Axes>"
      ]
     },
     "metadata": {},
     "output_type": "display_data"
    }
   ],
   "source": [
    "b0_true = 5\n",
    "b1_true = 0.7\n",
    "x_rl = np.linspace(-1,1,100)\n",
    "y_rl = x_rl*b1_true + b0_true + np.random.random(x_rl.shape)\n",
    "\n",
    "optimizer = GradientDescent(learning_rate=.05, max_iters=100, record_history=True) \n",
    "model = LinearRegression() #inicializamos nuestro objeto regresion \n",
    "model.fit(x_rl,y_rl, optimizer) #entrenamos el modelo\n",
    "\n",
    "_ = plt.figure(figsize=(7,7))\n",
    "\n",
    "_ = plt.plot(np.arange(0,100-1), model.error_history, '.') # plotteamos la variable de interés\n",
    "\n",
    "_ = plt.ylabel('MSE', fontsize=14)\n",
    "_ = plt.xlabel(\"Número de Iteración\")"
   ]
  },
  {
   "cell_type": "markdown",
   "metadata": {},
   "source": [
    "# Ejercicio 4\n",
    "\n",
    "Modificar el método  `run` de la clase `GradientDescent` para guardar el valor del gradiente en cada paso del entrenamiento. Graficar la evolución del mismo."
   ]
  },
  {
   "cell_type": "code",
   "execution_count": 14,
   "metadata": {},
   "outputs": [],
   "source": [
    "class GradientDescent:\n",
    "        \n",
    "    def __init__(self, learning_rate=.001, max_iters=1e4, epsilon=1e-8, record_history=False):\n",
    "        \n",
    "        \"\"\"\n",
    "        Inicializador\n",
    "        \n",
    "        Parámetros\n",
    "        ----------\n",
    "        learning_rate (float, opcional): Ritmo de aprendizaje. Default a .001\n",
    "        max_iters (int, opcional): Máximas iteraciones. Default a 1E4.\n",
    "        epsilon (float, opcional): Cóta mínimma para el valor del gradiente permitido. Default a 1E-8\n",
    "        record_history (bool, opcional): Si es True guarda el historial de los pesos para cada paso de iteración. Default a False\n",
    "        \"\"\"\n",
    "        \n",
    "        self.learning_rate = learning_rate\n",
    "        self.max_iters = max_iters\n",
    "        self.record_history = record_history\n",
    "        self.epsilon = epsilon\n",
    "        if record_history:\n",
    "            self.w_history = []\n",
    "            #si queremos guardar la historia también guardaremos el historial del gradiente\n",
    "            self.grad_history = []                 \n",
    "            \n",
    "    def run(self, gradient_fn, x, y, w):\n",
    "        \"\"\"\n",
    "        Método iterativo de gradiente descendiente. \n",
    "        \n",
    "        Parámetros\n",
    "        ----------\n",
    "        gradient_fn (function): gradiente de la función costo a minimizar. Debe tomar como parámetros x,y y los pesos correspondientes.\n",
    "        x (numpy.ndarray): variables independientes del conjunto de datos.\n",
    "        y (numpy.ndarray): variables dependientes observadas\n",
    "        w (numpy.ndarray): variables a entrenar del modelo \n",
    "\n",
    "        Devuelve\n",
    "        --------\n",
    "            w (numpy.ndarray): variables resultaantes luego del proceso de entrenamiento.\n",
    "        \"\"\"\n",
    "        \n",
    "        grad = np.inf \n",
    "        t = 1 \n",
    "        while np.linalg.norm(grad) > self.epsilon and t < self.max_iters: \n",
    "            grad = gradient_fn(x, y, w) \n",
    "            w = w - self.learning_rate * grad        \n",
    "            if self.record_history: \n",
    "                self.w_history.append(w)\n",
    "                #guardamos en nuestro nuevo atributo \n",
    "                self.grad_history.append(np.linalg.norm(grad))\n",
    "            t += 1\n",
    "        return w\n"
   ]
  },
  {
   "cell_type": "code",
   "execution_count": 19,
   "metadata": {},
   "outputs": [
    {
     "data": {
      "image/png": "[encoded data removed]",
      "text/plain": [
       "<Figure size 504x504 with 1 Axes>"
      ]
     },
     "metadata": {},
     "output_type": "display_data"
    }
   ],
   "source": [
    "b0_true = 5\n",
    "b1_true = 0.7\n",
    "x_rl = np.linspace(-1,1,100)\n",
    "y_rl = x_rl*b1_true + b0_true + np.random.random(x_rl.shape)\n",
    "\n",
    "optimizer = GradientDescent(learning_rate=.05, max_iters=100, record_history=True) \n",
    "model = LinearRegression() \n",
    "model.fit(x_rl,y_rl, optimizer) \n",
    "\n",
    "_ = plt.figure(figsize=(7,7))\n",
    "\n",
    "_ = plt.plot(np.arange(len(optimizer.grad_history)), optimizer.grad_history  , '.')#graficamos una vez más la variable de interés\n",
    "\n",
    "_ = plt.ylabel('Norma del gradiente', fontsize=14)\n",
    "_ = plt.xlabel(\"Número de Iteración\")"
   ]
  },
  {
   "cell_type": "markdown",
   "metadata": {},
   "source": [
    "# Ejercicio 5\n",
    "\n",
    "Implementar  un método que determine si la figura geométrica de un disco de radio 1 es convexa.\n"
   ]
  },
  {
   "cell_type": "markdown",
   "metadata": {},
   "source": [
    "### Paso 1\n",
    "\n",
    "Implementar una función que permita determinar si un punto pertenece al conjunto definido como Disco.\n",
    "\n",
    "$$\n",
    "\\color{orange}{D = \\{(x,y) \\ : \\ \\|(x,y)\\|_2 \\leq 1 \\}}\n",
    "$$\n"
   ]
  },
  {
   "cell_type": "markdown",
   "metadata": {},
   "source": [
    "Una función muy sencilla que calcula la norma de un vector y nos devuelve un booleano en función de si esa norma es mayor o menor que 1."
   ]
  },
  {
   "cell_type": "code",
   "execution_count": 25,
   "metadata": {},
   "outputs": [],
   "source": [
    "import numpy as np\n",
    "\n",
    "def in_disk(x, y, radius=1):\n",
    "    norm  = np.sqrt(x**2 + y**2)\n",
    "    if norm <= radius:\n",
    "        return True\n",
    "    \n",
    "    return False\n",
    "    "
   ]
  },
  {
   "cell_type": "markdown",
   "metadata": {},
   "source": [
    "### Paso 2\n",
    "\n",
    "Implementar una función que dos puntos, y construya una recta (la recta va a ser una serie de puntos pertenecientes a la recta). \n"
   ]
  },
  {
   "cell_type": "markdown",
   "metadata": {},
   "source": [
    "Utilizamos las funcionalidades de numpy para construir una  serie de puntos pertenecientes a una recta. Para hacer esto sencillamente dividimos los intervalos en x y los intervalos en y una misma cantidad de puntos."
   ]
  },
  {
   "cell_type": "code",
   "execution_count": 24,
   "metadata": {},
   "outputs": [],
   "source": [
    "def build_line(x1, y1, x2, y2, NUM_POINTS=100):\n",
    "    xs = np.linspace(x1,x2,NUM_POINTS)\n",
    "    ys = np.linspace(y1,y2,NUM_POINTS)\n",
    "    \n",
    "    return xs, ys"
   ]
  },
  {
   "cell_type": "markdown",
   "metadata": {},
   "source": [
    "### Paso 3\n",
    "\n",
    "Implementar el método que chequee si los puntos pertenecientes a la recta pertenecen al conjunto disco. Usar puntos aleatorios asegurandose que caigan dentro de un círculo de radio 1. Esto es fácil usando coordenadas polares. Más info <a href=\"https://es.wikipedia.org/wiki/Coordenadas_polares\"> acá</a>"
   ]
  },
  {
   "cell_type": "markdown",
   "metadata": {},
   "source": [
    "Ahora que tenemos la función para construir los puntos asi como la función para determinar si un punto pertenece, las unimos en un ciclo iterativo muy sencillo para corroborar uno y todos los puntos de la recta construida. Para asegurarnos que los puntos iniciales que establecen la recta están dentro del círculo aprovechamos la facilidad de las coordenadas polares."
   ]
  },
  {
   "cell_type": "code",
   "execution_count": 26,
   "metadata": {},
   "outputs": [
    {
     "data": {
      "text/plain": [
       "True"
      ]
     },
     "execution_count": 26,
     "metadata": {},
     "output_type": "execute_result"
    }
   ],
   "source": [
    "def is_disk_convex(NUM_POINTS = 100):\n",
    "    #generamos dos pares de puntos dentro del circulo teniendo en cuenta\n",
    "    thetas = np.random.uniform(low=-np.pi, high=np.pi, size=2)\n",
    "    radiuses = np.random.random(2)\n",
    "    x1,x2 = radiuses*np.cos(thetas) \n",
    "    y1,y2 = radiuses*np.sin(thetas)\n",
    "    \n",
    "    xs,ys = build_line(x1,y1,x2,y2)\n",
    "    for x,y in zip(xs, ys):\n",
    "        if not in_disk(x,y, radius=1):\n",
    "            return False\n",
    "    return True\n",
    "\n",
    "is_disk_convex()"
   ]
  }
 ],
 "metadata": {
  "kernelspec": {
   "display_name": "Python 3 (ipykernel)",
   "language": "python",
   "name": "python3"
  },
  "language_info": {
   "codemirror_mode": {
    "name": "ipython",
    "version": 3
   },
   "file_extension": ".py",
   "mimetype": "text/x-python",
   "name": "python",
   "nbconvert_exporter": "python",
   "pygments_lexer": "ipython3",
   "version": "3.8.10"
  }
 },
 "nbformat": 4,
 "nbformat_minor": 4
}
