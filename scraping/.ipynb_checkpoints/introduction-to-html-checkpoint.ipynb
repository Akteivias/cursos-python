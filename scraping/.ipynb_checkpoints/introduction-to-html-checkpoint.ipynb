{
 "cells": [
  {
   "cell_type": "markdown",
   "metadata": {},
   "source": [
    "## Web-scraping is not nonsense!"
   ]
  },
  {
   "cell_type": "markdown",
   "metadata": {},
   "source": [
    "<p>Select which of the following is <em>not</em> correct.</p>"
   ]
  },
  {
   "cell_type": "markdown",
   "metadata": {},
   "source": [
    "<ul>\n",
    "<li>I don't believe web-scraping is nonsense!</li>\n",
    "</ul>"
   ]
  },
  {
   "cell_type": "markdown",
   "metadata": {},
   "source": [
    "## HTML tree wordy navigation"
   ]
  },
  {
   "cell_type": "markdown",
   "metadata": {},
   "source": [
    "<p><img src=\"https://assets.datacamp.com/production/repositories/2560/datasets/8f121c655bdba22173091a1ceb1bbdd113573c3b/html_tree_exercise.png\" alt=\"html_tree_exercise.png\"></p>\n",
    "<p>Given the html tree, which of the following does not correctly navigate to the paragraph element containing \"Hello World!\"?</p>"
   ]
  },
  {
   "cell_type": "markdown",
   "metadata": {},
   "source": [
    "<ul>\n",
    "<li>Siblings must be children from the same element.</li>\n",
    "</ul>"
   ]
  },
  {
   "cell_type": "markdown",
   "metadata": {},
   "source": [
    "## From Tree to HTML"
   ]
  },
  {
   "cell_type": "markdown",
   "metadata": {},
   "source": [
    "html = '''\n",
    "<html>\n",
    "  <head>\n",
    "    <title>Intro HTML</title>\n",
    "  </head>\n",
    "  <body>\n",
    "    <p>Hello World!</p>\n",
    "    <p>Enjoy DataCamp!</p>\n",
    "  </body>\n",
    "</html>\n",
    "'''"
   ]
  },
  {
   "cell_type": "markdown",
   "metadata": {},
   "source": [
    "<p>Here you are given the chance to create your own bit of HTML code (as a python string). More specifically, below is an HTML tree image and you will finish the missing code within the string <code>html</code> which produces this HTML tree.</p>\n",
    "<p><img src=\"https://assets.datacamp.com/production/repositories/2560/datasets/7043ab2cf053a078afe4adbda88b669de2a6ab73/html_tree_exercise_resize.png\" alt=\"html_tree_exercise.png\"></p>\n",
    "<p>To note: </p>\n",
    "<ul>\n",
    "<li>We have started the string <code>html</code> for you, to help nudge you in the correct direction. </li>\n",
    "<li>The spacing we use in the portion of the string we provide (e.g., indenting <code>&lt;head&gt;</code> two spaces more than <code>&lt;html&gt;</code>) isn't necessary, but we did so just to make it easier to read.</li>\n",
    "</ul>"
   ]
  },
  {
   "cell_type": "markdown",
   "metadata": {},
   "source": [
    "<ul>\n",
    "<li>Fill in the blank within the string variable <code>html</code> so that the HTML code matches its tree representation (including the text within the two paragraph children).</li>\n",
    "</ul>"
   ]
  },
  {
   "cell_type": "markdown",
   "metadata": {},
   "source": [
    "<ul>\n",
    "<li>You need to fill in the part for the <code>body</code> element and its two nested paragraph (<code>p</code>) children.</li>\n",
    "</ul>"
   ]
  },
  {
   "cell_type": "markdown",
   "metadata": {},
   "source": [
    "## Keep it Classy"
   ]
  },
  {
   "cell_type": "code",
   "execution_count": null,
   "metadata": {},
   "outputs": [],
   "source": [
    "from scrapy import Selector \n",
    "\n",
    "def whats_my_class( html ):\n",
    "  sel = Selector( text = html )\n",
    "  try:\n",
    "  \tprint( \"The class you assigned to the second div element is:\", sel.xpath( '//div' )[1].xpath('./@class' )[0].extract() )\n",
    "  except:\n",
    "    print(\"No second div element class found!\")"
   ]
  },
  {
   "cell_type": "markdown",
   "metadata": {},
   "source": [
    "<p>In this two-part exercise, you will have a chance to show off what you've learned about attributes; in this case, we focus on the class attribute.</p>"
   ]
  },
  {
   "cell_type": "markdown",
   "metadata": {},
   "source": [
    "## Finding href"
   ]
  },
  {
   "cell_type": "markdown",
   "metadata": {},
   "source": [
    "<p>Considering the following HTML:</p>\n",
    "<pre><code class=\"html language-html\">&lt;html&gt;\n",
    "  &lt;head&gt;\n",
    "    &lt;title&gt;Website Title&lt;/title&gt;\n",
    "    &lt;link rel=\"stylesheet\" type=\"text/css\" href=\"style.css\"&gt;\n",
    "  &lt;/head&gt;\n",
    "  &lt;body&gt;\n",
    "    &lt;div class=\"class1\" id=\"div1\"&gt;\n",
    "      &lt;p class=\"class2\"&gt;\n",
    "        Visit &lt;a href=\"http://datacamp.com/\"&gt;DataCamp&lt;/a&gt;!\n",
    "      &lt;/p&gt;\n",
    "    &lt;/div&gt;\n",
    "    &lt;div class=\"class1 class3\" id=\"div2\"&gt;\n",
    "      &lt;p class=\"class2\"&gt;\n",
    "        Or search for it on &lt;a href=\"http://www.google.com\"&gt;Google&lt;/a&gt;!\n",
    "      &lt;/p&gt;\n",
    "    &lt;/div&gt;\n",
    "  &lt;/body&gt;\n",
    "&lt;/html&gt;\n",
    "</code></pre>\n",
    "<p>Which of the following does <strong>not</strong> correctly describe how to get to the URL, <code>http://datacamp.com</code>?</p>"
   ]
  },
  {
   "cell_type": "markdown",
   "metadata": {},
   "source": [
    "<ul>\n",
    "<li>Look carefully at all the div elements belonging to <code>class1</code>.</li>\n",
    "</ul>"
   ]
  },
  {
   "cell_type": "markdown",
   "metadata": {},
   "source": [
    "## Where am I?"
   ]
  },
  {
   "cell_type": "markdown",
   "metadata": {},
   "source": [
    "import re\n",
    "from scrapy.http import TextResponse\n",
    "\n",
    "def space_remover( expr ):\n",
    "  return re.sub( pattern = \"[ ]+\", repl = \"\", string = expr)\n",
    "\n",
    "html = \"\"\"\n",
    "<html>\n",
    "  <body>\n",
    "    <div>\n",
    "      <p>Good Luck!</p>\n",
    "      <p>Not here...</p>\n",
    "    </div>\n",
    "    <div>\n",
    "      <p>Where am I?</p>\n",
    "    </div>\n",
    "  </body>\n",
    "</html>\n",
    "\"\"\"\n",
    "\n",
    "response = TextResponse( url = 'http://datacamp.com', body = html, encoding = 'utf-8' )\n",
    "\n",
    "def check_xpath( xpath ):\n",
    "  print( response.xpath( xpath ).extract_first() )"
   ]
  },
  {
   "cell_type": "code",
   "execution_count": null,
   "metadata": {},
   "outputs": [],
   "source": [
    "# Fill in the blank\n",
    "xpath = '/html/body/div[2]/p[1]'"
   ]
  },
  {
   "cell_type": "markdown",
   "metadata": {},
   "source": [
    "<p>In this exercise, you will navigate to a specific element using your new knowledge of XPath notation. </p>\n",
    "<p>Consider the HTML code:</p>\n",
    "<pre><code>&lt;html&gt;\n",
    "  &lt;body&gt;\n",
    "    &lt;div&gt;\n",
    "      &lt;p&gt;Good Luck!&lt;/p&gt;\n",
    "      &lt;p&gt;Not here...&lt;/p&gt;\n",
    "    &lt;/div&gt;\n",
    "    &lt;div&gt;\n",
    "      &lt;p&gt;Where am I?&lt;/p&gt;\n",
    "    &lt;/div&gt;\n",
    "  &lt;/body&gt;\n",
    "&lt;/html&gt;\n",
    "</code></pre>\n",
    "<p>Your job will be to create an XPath string using <strong>single forward-slashes</strong> and <strong>brackets</strong> which navigates to the paragraph <code>p</code> element which contains the text \"Where am I?\".</p>"
   ]
  },
  {
   "cell_type": "markdown",
   "metadata": {},
   "source": [
    "<ul>\n",
    "<li>Using only <strong>single forward-slashes</strong> to move between generations, and <strong>brackets</strong> to select the correct element, assign a string to the variable <code>xpath</code> that directs to the paragraph element containing \"<em>Where am I?</em>\". </li>\n",
    "<li>Do not include any blank spaces in the string you assign to <code>xpath</code>.</li>\n",
    "</ul>"
   ]
  },
  {
   "cell_type": "markdown",
   "metadata": {},
   "source": [
    "<ul>\n",
    "<li>By using single forward-slashes, from the <code>body</code> element, you need to go to the <strong>second</strong> <code>div</code> element and then to the <strong>first</strong> (and only) <code>p</code> element. </li>\n",
    "<li>Don't forget to use brackets to select the correct elements!</li>\n",
    "</ul>"
   ]
  },
  {
   "cell_type": "markdown",
   "metadata": {},
   "source": [
    "## It's Time to P"
   ]
  },
  {
   "cell_type": "code",
   "execution_count": null,
   "metadata": {},
   "outputs": [],
   "source": [
    "# Fill in the blank\n",
    "xpath = '//p'"
   ]
  },
  {
   "cell_type": "markdown",
   "metadata": {},
   "source": [
    "<p>In the lecture, we learned how to use double forward-slashes to navigate to all future generations. In this exercise, you will select all paragraph <code>p</code> elements within the HTML. Because we want you to navigate to <strong>all</strong> paragraph elements, it is not important that you know what the HTML code is, since the task can be accomplished with a simple XPath string using the <strong>double forward-slash</strong> notation you have learned.</p>"
   ]
  },
  {
   "cell_type": "markdown",
   "metadata": {},
   "source": [
    "<ul>\n",
    "<li>Using double forward-slash notation, assign to the variable <code>xpath</code> a simple XPath string navigating to <strong>all</strong> paragraph <code>p</code> elements within any HTML code.</li>\n",
    "</ul>"
   ]
  },
  {
   "cell_type": "markdown",
   "metadata": {},
   "source": [
    "<ul>\n",
    "<li>In the lesson, we learned that <code>//table</code> directed to all table elements with the HTML.</li>\n",
    "</ul>"
   ]
  },
  {
   "cell_type": "markdown",
   "metadata": {},
   "source": [
    "## A classy span"
   ]
  },
  {
   "cell_type": "code",
   "execution_count": null,
   "metadata": {},
   "outputs": [],
   "source": [
    "# Fill in the blank\n",
    "xpath = '//span[@class=\"span-class\"]'"
   ]
  },
  {
   "cell_type": "markdown",
   "metadata": {},
   "source": [
    "<p>Although we haven't yet gone deep into XPath, one thing we can do is select elements by their attributes using an XPath. For example, if we want to direct to the <code>div</code> element within the HTML document whose <code>id</code> attribute is <code>\"uid\"</code>, then we could write the XPath string <code>'//div[@id=\"uid\"]'</code>. The first part of this string, <code>//div</code>, first looks at all <code>div</code> elements in the HTML document. Then, using the brackets, we specify that we want only the <code>div</code> element with a specific <code>id</code> attribute (in this case <code>uid</code>). To note, the phrase <code>@id=\"uid\"</code> in the brackets would be read as \"attribute <code>id</code> equals <code>uid</code>\".</p>\n",
    "<p>In this exercise, you will select all <code>span</code> elements whose class attribute equals <code>\"span-class\"</code>. (Note: <code>span</code> is just another possible tag-name).</p>"
   ]
  },
  {
   "cell_type": "markdown",
   "metadata": {},
   "source": [
    "<ul>\n",
    "<li>Assign to the variable <code>xpath</code> an XPath string which will select all <code>span</code> elements whose class attribute equals <code>\"span-class\"</code>.  You do not need to see the actual HTML code to do this!</li>\n",
    "</ul>"
   ]
  },
  {
   "cell_type": "markdown",
   "metadata": {},
   "source": [
    "<ul>\n",
    "<li>Work by analogy! Remember that <code>//div[@id=\"uid\"]</code> selects all <code>div</code> elements whose <code>id</code> attribute equals <code>uid</code>.</li>\n",
    "</ul>"
   ]
  }
 ],
 "metadata": {},
 "nbformat": 4,
 "nbformat_minor": 4
}
