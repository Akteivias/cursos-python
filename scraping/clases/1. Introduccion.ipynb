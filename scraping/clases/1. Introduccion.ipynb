{
 "cells": [
  {
   "cell_type": "code",
   "execution_count": null,
   "metadata": {},
   "outputs": [],
   "source": []
  },
  {
   "cell_type": "markdown",
   "metadata": {},
   "source": [
    "- TCP/IP\n",
    "- URLs\n",
    "- HTTP\n",
    "- HTML\n",
    "- robots.txt\n",
    "- re 101"
   ]
  },
  {
   "cell_type": "markdown",
   "metadata": {},
   "source": [
    "Crawling, del movimiento ***to crawl***, relacionado con una araña (o ***spider***). Este programa recorre sitios web en búsqueda de links, devolviendo más rutas a explorar\n",
    "\n",
    "Web scraping, o minería de datos web, es la extracción de datos útiles de un sitio. \n",
    "\n",
    "Ambos procesos se suelen combinar en uno, generando extractos de información enriquecidos (RSS, Google), bases de datos (Common Crawl), otras\n"
   ]
  },
  {
   "cell_type": "markdown",
   "metadata": {},
   "source": [
    "## HTTP"
   ]
  },
  {
   "cell_type": "code",
   "execution_count": 100,
   "metadata": {},
   "outputs": [
    {
     "data": {
      "image/png": "[encoded data removed]",
      "text/plain": [
       "<IPython.core.display.Image object>"
      ]
     },
     "execution_count": 100,
     "metadata": {},
     "output_type": "execute_result"
    }
   ],
   "source": [
    "from IPython.display import Image\n",
    "Image(r'D:\\Matias\\Python\\Curso\\Archivos\\tcpiplayers.png')"
   ]
  },
  {
   "cell_type": "markdown",
   "metadata": {},
   "source": [
    "Conectionless\n",
    "\n",
    "Stateless\n",
    "\n",
    "Media-independant"
   ]
  },
  {
   "cell_type": "markdown",
   "metadata": {},
   "source": [
    "Request-line\n",
    "Headers\n",
    "\n",
    "Content"
   ]
  },
  {
   "cell_type": "markdown",
   "metadata": {},
   "source": [
    "Métodos:\n",
    "    Get\n",
    "    Post\n",
    "    Head\n",
    "    Put"
   ]
  },
  {
   "cell_type": "markdown",
   "metadata": {},
   "source": [
    "## Status codes \n",
    "\n",
    "- 1XX #Información\n",
    "- 2XX #OK\n",
    "- 3XX #Redirección\n",
    "- 4XX #Client Error\n",
    "- 5XX #Server Error"
   ]
  },
  {
   "cell_type": "code",
   "execution_count": null,
   "metadata": {},
   "outputs": [],
   "source": []
  },
  {
   "cell_type": "markdown",
   "metadata": {},
   "source": [
    "## Regular Expressions"
   ]
  },
  {
   "cell_type": "markdown",
   "metadata": {},
   "source": [
    "Mini lenguaje que para búsquedas en strings.\n",
    "\n",
    "http://regexr.com/\n",
    "https://regex101.com/\n",
    "\n",
    "En Python, lo usaremos con las funciónes:\n",
    "- re.split para separar strings\n",
    "- re.findall para encontrar todos los resultados de una búsqueda\n",
    "- re.search para la primera"
   ]
  },
  {
   "cell_type": "code",
   "execution_count": 52,
   "metadata": {
    "collapsed": false,
    "jupyter": {
     "outputs_hidden": false
    }
   },
   "outputs": [
    {
     "name": "stdout",
     "output_type": "stream",
     "text": [
      "R TAMBIEN ESTA BUENO\n",
      "aguantEpython@gov.STA.com\n",
      "['hRola123probando', ' T2n13AMl/', 'BIE8nsjkaN9 aguantEpython@gov', 'STA', 'com jksB8', '92U/EN/0Onltk']\n"
     ]
    }
   ],
   "source": [
    "import re\n",
    "\n",
    "mayusc = r'([A-Z ])'\n",
    "mail = r'([\\w.]+@[\\w.]+)'\n",
    "\n",
    "cadena = 'hRola123probando, T2n13AMl/.BIE8nsjkaN9 aguantEpython@gov.STA.com jksB8,92U/EN/0Onltk'\n",
    "\n",
    "print(''.join(re.findall(mayusc, cadena)))\n",
    "\n",
    "print(re.search(mail, cadena).group(1))\n",
    "\n",
    "print(re.split(',|\\.', cadena))"
   ]
  },
  {
   "cell_type": "raw",
   "metadata": {},
   "source": [
    "Para agilizar la confección de regex, y ver un conveniente Cheat Sheet, ver http://regexr.com/ "
   ]
  },
  {
   "cell_type": "markdown",
   "metadata": {},
   "source": [
    "## Ejercicio"
   ]
  },
  {
   "cell_type": "raw",
   "metadata": {},
   "source": [
    "Recuperá todos los mails de 'CCPP.mmbox'\n",
    "\n",
    "Dentro del archivo 'Archivo.txt':\n",
    "\n",
    "Buscá las direcciones de mail\n",
    "Buscá las páginas web\n",
    "Buscá las imagenes\n"
   ]
  },
  {
   "cell_type": "markdown",
   "metadata": {},
   "source": [
    "### Práctica Regex"
   ]
  },
  {
   "cell_type": "raw",
   "metadata": {},
   "source": [
    "Usa regex para hacer una función que chequee si el input es un email "
   ]
  },
  {
   "cell_type": "code",
   "execution_count": null,
   "metadata": {
    "collapsed": true,
    "jupyter": {
     "outputs_hidden": true
    }
   },
   "outputs": [],
   "source": [
    "def ismail()\n",
    "    return False"
   ]
  },
  {
   "cell_type": "raw",
   "metadata": {},
   "source": [
    "Hace otra que devuelva el dominio de una URL\n",
    "\n",
    "Ej:\n",
    "    domain_name(\"http://github.com/carbonfive/raygun\") == \"github\"\n",
    "    domain_name(\"http://www.zombie-bites.com\") == \"zombie-bites\"\n",
    "    domain_name(\"https://www.cnet.com\") == \"cnet\""
   ]
  },
  {
   "cell_type": "code",
   "execution_count": null,
   "metadata": {
    "collapsed": true,
    "jupyter": {
     "outputs_hidden": true
    }
   },
   "outputs": [],
   "source": [
    "def domain_name():\n",
    "    return domain"
   ]
  }
 ],
 "metadata": {
  "kernelspec": {
   "display_name": "Python 3",
   "language": "python",
   "name": "python3"
  },
  "language_info": {
   "codemirror_mode": {
    "name": "ipython",
    "version": 3
   },
   "file_extension": ".py",
   "mimetype": "text/x-python",
   "name": "python",
   "nbconvert_exporter": "python",
   "pygments_lexer": "ipython3",
   "version": "3.7.7"
  }
 },
 "nbformat": 4,
 "nbformat_minor": 4
}
