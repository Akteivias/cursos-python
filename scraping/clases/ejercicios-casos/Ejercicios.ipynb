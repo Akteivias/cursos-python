{
 "cells": [
  {
   "cell_type": "markdown",
   "metadata": {},
   "source": [
    "### Horoscopo Clarín y La Nación*\n",
    "\n",
    "*para desmentirlo"
   ]
  },
  {
   "cell_type": "code",
   "execution_count": 107,
   "metadata": {},
   "outputs": [],
   "source": [
    "import requests as rq\n",
    "from lxml import html\n",
    "import re\n",
    "from numpy.random import uniform\n",
    "from time import sleep"
   ]
  },
  {
   "cell_type": "code",
   "execution_count": 51,
   "metadata": {},
   "outputs": [],
   "source": [
    "signos = ['Aries', 'Tauro', 'Géminis',\n",
    "         'Cáncer', 'Leo', 'Virgo',\n",
    "         'Libra', 'Escorpio',\n",
    "         'Sagitario','Capricornio',\n",
    "         'Acuario', 'Piscis']"
   ]
  },
  {
   "cell_type": "code",
   "execution_count": 96,
   "metadata": {},
   "outputs": [],
   "source": [
    "def get_clean_from_element(e):\n",
    "    return re.sub('\\s*\\r*\\n+', '\\n', '\\n'.join(e.itertext())).strip()"
   ]
  },
  {
   "cell_type": "code",
   "execution_count": 97,
   "metadata": {},
   "outputs": [],
   "source": [
    "def get_clarin():\n",
    "    url = \"https://www.clarin.com/horoscopo\"\n",
    "    r = rq.get(url_clarin)\n",
    "    dom = html.fromstring(r.content)\n",
    "    signos = [e.text for e in dom.xpath('//h2[not(@*)]')]\n",
    "    contents = [get_clean_from_element(e) for e in dom.xpath('//div[@class=\"item\"]')]\n",
    "    return {signos[i]:contents[i] for i in range(len(signos))}"
   ]
  },
  {
   "cell_type": "code",
   "execution_count": 111,
   "metadata": {},
   "outputs": [],
   "source": [
    "def get_lanacion():\n",
    "    horoscopo = {}\n",
    "    for s in signos:\n",
    "        url = f'https://www.lanacion.com.ar/horoscopo/{s}'\n",
    "        r = rq.get(url)\n",
    "        e = dom.xpath('//section[contains(@class, \"hoy\")]/article')[0]\n",
    "        content = get_clean_from_element(e)\n",
    "        horoscopo[s] = content\n",
    "        sleep(uniform(0,2))\n",
    "    return horoscopo"
   ]
  },
  {
   "cell_type": "code",
   "execution_count": 112,
   "metadata": {},
   "outputs": [],
   "source": [
    "horoscopo_clarin = get_clarin()\n",
    "horoscopo_lanacion = get_lanacion()"
   ]
  },
  {
   "cell_type": "code",
   "execution_count": 113,
   "metadata": {},
   "outputs": [
    {
     "name": "stdout",
     "output_type": "stream",
     "text": [
      "Aries\n",
      "del 21.03\n",
      "al 20.04\n",
      "Horóscopo de hoy:\n",
      " Tendrás dificultades para pensar de manera lógica y racional. Por lo que te sentirás molesto y manifestarás inseguridad.\n",
      "Amor:\n",
      " Un miembro viejo de la familia está en problemas. Las fiestas de hoy te darán la oportunidad para llenar de ternura a esa persona.\n",
      "Riqueza:\n",
      " No viene al caso guardar secretos sobre tu situación económica. Con un poco de imaginación, puedes sortear los problemas.\n",
      "Bienestar:\n",
      " Alguien cercano tiene una personalidad tan fuerte que hay que cuidarse de no dejarse arrastrar por sus fantasías y proyectos.\n"
     ]
    }
   ],
   "source": [
    "print(horoscopo_clarin[signos[0]])"
   ]
  },
  {
   "cell_type": "code",
   "execution_count": 114,
   "metadata": {},
   "outputs": [
    {
     "name": "stdout",
     "output_type": "stream",
     "text": [
      "Aproveche el día al máximo, ya que contará con los suficientes impulsos para resolver todos los asuntos que hace tiempo posterga. Tome coraje y comience hoy.\n",
      "Amor:\n",
      "Por más que se sienta agredido por los celos de su enamorado, escúchelo. Intente comprenderlo, ya que usted no ha tenido una buena actitud hacia él.\n",
      "Riqueza:\n",
      "Si bien muchos de los cambios que surgirán en el trabajo no lo afectarán a usted de forma directa, procure estar precavido. Piense bien antes de actuar.\n",
      "Bienestar:\n",
      "Procure organizar una escapada para el fin de semana en familia, ya que volverán renovados. Busque el destino y compare precios, evite endeudarse.\n"
     ]
    }
   ],
   "source": [
    "print(horoscopo_lanacion[signos[0]])"
   ]
  },
  {
   "cell_type": "markdown",
   "metadata": {},
   "source": [
    "# Cuentos Borges y Cortazar "
   ]
  },
  {
   "cell_type": "code",
   "execution_count": 1,
   "metadata": {
    "collapsed": true,
    "jupyter": {
     "outputs_hidden": true
    }
   },
   "outputs": [],
   "source": [
    "import requests\n",
    "from bs4 import BeautifulSoup\n",
    "import pandas as pd\n",
    "import re\n",
    "import time\n",
    "import numpy as np"
   ]
  },
  {
   "cell_type": "code",
   "execution_count": 2,
   "metadata": {
    "collapsed": true,
    "jupyter": {
     "outputs_hidden": true
    }
   },
   "outputs": [],
   "source": [
    "url_cortazar = 'http://ciudadseva.com/autor/julio-cortazar/cuentos/'\n",
    "url_borges = 'http://ciudadseva.com/autor/jorge-luis-borges/cuentos/'"
   ]
  },
  {
   "cell_type": "code",
   "execution_count": 7,
   "metadata": {
    "collapsed": true,
    "jupyter": {
     "outputs_hidden": true
    }
   },
   "outputs": [],
   "source": [
    "def get_cuentos(url):\n",
    "    titulos = []\n",
    "    textos = []\n",
    "    \n",
    "    response = requests.get(url)\n",
    "\n",
    "    for s_url in re.findall('(http://ciudadseva.com/texto/.+?/)', response.text):   \n",
    "        cuento = requests.get(s_url)\n",
    "        soup = BeautifulSoup(cuento.content, 'html.parser')\n",
    "\n",
    "        for elem in soup.findAll(\"div\", { \"class\" : \"text-justify\" })[:2]:\n",
    "            cuento = elem.text\n",
    "            \n",
    "        titulos.append(s_url.split('/')[-2])\n",
    "        textos.append(cuento)\n",
    "        time.sleep(np.random.randint(1,4))\n",
    "        \n",
    "    return {k:v for k,v in zip(titulos, textos)}"
   ]
  },
  {
   "cell_type": "code",
   "execution_count": 8,
   "metadata": {},
   "outputs": [],
   "source": [
    "cuentos_bor = get_cuentos(url_borges)\n",
    "cuentos_cor = get_cuentos(url_cortazar)"
   ]
  },
  {
   "cell_type": "code",
   "execution_count": 9,
   "metadata": {},
   "outputs": [],
   "source": [
    "from sklearn.feature_extraction.text import CountVectorizer"
   ]
  },
  {
   "cell_type": "code",
   "execution_count": 10,
   "metadata": {
    "collapsed": true,
    "jupyter": {
     "outputs_hidden": true
    }
   },
   "outputs": [],
   "source": [
    "countv_bor = CountVectorizer()\n",
    "countv_cor = CountVectorizer()\n",
    "\n",
    "countv_bor.fit(cuentos_bor)\n",
    "countv_cor.fit(cuentos_cor)\n",
    "\n",
    "df_bor = pd.DataFrame(countv_bor.transform(cuentos_bor).toarray(), columns= countv_bor.get_feature_names())\n",
    "df_cor = pd.DataFrame(countv_cor.transform(cuentos_cor).toarray(), columns= countv_cor.get_feature_names())"
   ]
  },
  {
   "cell_type": "code",
   "execution_count": 11,
   "metadata": {
    "scrolled": true
   },
   "outputs": [
    {
     "data": {
      "text/html": [
       "<div>\n",
       "<style>\n",
       "    .dataframe thead tr:only-child th {\n",
       "        text-align: right;\n",
       "    }\n",
       "\n",
       "    .dataframe thead th {\n",
       "        text-align: left;\n",
       "    }\n",
       "\n",
       "    .dataframe tbody tr th {\n",
       "        vertical-align: top;\n",
       "    }\n",
       "</style>\n",
       "<table border=\"1\" class=\"dataframe\">\n",
       "  <thead>\n",
       "    <tr style=\"text-align: right;\">\n",
       "      <th></th>\n",
       "      <th>1829</th>\n",
       "      <th>1874</th>\n",
       "      <th>abel</th>\n",
       "      <th>adivino</th>\n",
       "      <th>adrogue</th>\n",
       "      <th>aleph</th>\n",
       "      <th>alguien</th>\n",
       "      <th>andres</th>\n",
       "      <th>argumentum</th>\n",
       "      <th>armoa</th>\n",
       "      <th>...</th>\n",
       "      <th>tertius</th>\n",
       "      <th>tlon</th>\n",
       "      <th>total</th>\n",
       "      <th>trama</th>\n",
       "      <th>tres</th>\n",
       "      <th>un</th>\n",
       "      <th>uqbar</th>\n",
       "      <th>versiones</th>\n",
       "      <th>yo</th>\n",
       "      <th>zunz</th>\n",
       "    </tr>\n",
       "  </thead>\n",
       "  <tbody>\n",
       "    <tr>\n",
       "      <th>0</th>\n",
       "      <td>0</td>\n",
       "      <td>0</td>\n",
       "      <td>1</td>\n",
       "      <td>0</td>\n",
       "      <td>0</td>\n",
       "      <td>0</td>\n",
       "      <td>0</td>\n",
       "      <td>0</td>\n",
       "      <td>0</td>\n",
       "      <td>0</td>\n",
       "      <td>...</td>\n",
       "      <td>0</td>\n",
       "      <td>0</td>\n",
       "      <td>0</td>\n",
       "      <td>0</td>\n",
       "      <td>0</td>\n",
       "      <td>0</td>\n",
       "      <td>0</td>\n",
       "      <td>0</td>\n",
       "      <td>0</td>\n",
       "      <td>0</td>\n",
       "    </tr>\n",
       "    <tr>\n",
       "      <th>1</th>\n",
       "      <td>0</td>\n",
       "      <td>0</td>\n",
       "      <td>0</td>\n",
       "      <td>0</td>\n",
       "      <td>1</td>\n",
       "      <td>0</td>\n",
       "      <td>0</td>\n",
       "      <td>0</td>\n",
       "      <td>0</td>\n",
       "      <td>0</td>\n",
       "      <td>...</td>\n",
       "      <td>0</td>\n",
       "      <td>0</td>\n",
       "      <td>0</td>\n",
       "      <td>0</td>\n",
       "      <td>0</td>\n",
       "      <td>0</td>\n",
       "      <td>0</td>\n",
       "      <td>0</td>\n",
       "      <td>0</td>\n",
       "      <td>0</td>\n",
       "    </tr>\n",
       "    <tr>\n",
       "      <th>2</th>\n",
       "      <td>0</td>\n",
       "      <td>0</td>\n",
       "      <td>0</td>\n",
       "      <td>0</td>\n",
       "      <td>0</td>\n",
       "      <td>0</td>\n",
       "      <td>1</td>\n",
       "      <td>0</td>\n",
       "      <td>0</td>\n",
       "      <td>0</td>\n",
       "      <td>...</td>\n",
       "      <td>0</td>\n",
       "      <td>0</td>\n",
       "      <td>0</td>\n",
       "      <td>0</td>\n",
       "      <td>0</td>\n",
       "      <td>0</td>\n",
       "      <td>0</td>\n",
       "      <td>0</td>\n",
       "      <td>0</td>\n",
       "      <td>0</td>\n",
       "    </tr>\n",
       "    <tr>\n",
       "      <th>3</th>\n",
       "      <td>0</td>\n",
       "      <td>0</td>\n",
       "      <td>0</td>\n",
       "      <td>0</td>\n",
       "      <td>0</td>\n",
       "      <td>0</td>\n",
       "      <td>0</td>\n",
       "      <td>1</td>\n",
       "      <td>0</td>\n",
       "      <td>1</td>\n",
       "      <td>...</td>\n",
       "      <td>0</td>\n",
       "      <td>0</td>\n",
       "      <td>0</td>\n",
       "      <td>0</td>\n",
       "      <td>0</td>\n",
       "      <td>0</td>\n",
       "      <td>0</td>\n",
       "      <td>0</td>\n",
       "      <td>0</td>\n",
       "      <td>0</td>\n",
       "    </tr>\n",
       "    <tr>\n",
       "      <th>4</th>\n",
       "      <td>0</td>\n",
       "      <td>0</td>\n",
       "      <td>0</td>\n",
       "      <td>0</td>\n",
       "      <td>0</td>\n",
       "      <td>0</td>\n",
       "      <td>0</td>\n",
       "      <td>0</td>\n",
       "      <td>1</td>\n",
       "      <td>0</td>\n",
       "      <td>...</td>\n",
       "      <td>0</td>\n",
       "      <td>0</td>\n",
       "      <td>0</td>\n",
       "      <td>0</td>\n",
       "      <td>0</td>\n",
       "      <td>0</td>\n",
       "      <td>0</td>\n",
       "      <td>0</td>\n",
       "      <td>0</td>\n",
       "      <td>0</td>\n",
       "    </tr>\n",
       "  </tbody>\n",
       "</table>\n",
       "<p>5 rows × 80 columns</p>\n",
       "</div>"
      ],
      "text/plain": [
       "   1829  1874  abel  adivino  adrogue  aleph  alguien  andres  argumentum  \\\n",
       "0     0     0     1        0        0      0        0       0           0   \n",
       "1     0     0     0        0        1      0        0       0           0   \n",
       "2     0     0     0        0        0      0        1       0           0   \n",
       "3     0     0     0        0        0      0        0       1           0   \n",
       "4     0     0     0        0        0      0        0       0           1   \n",
       "\n",
       "   armoa  ...   tertius  tlon  total  trama  tres  un  uqbar  versiones  yo  \\\n",
       "0      0  ...         0     0      0      0     0   0      0          0   0   \n",
       "1      0  ...         0     0      0      0     0   0      0          0   0   \n",
       "2      0  ...         0     0      0      0     0   0      0          0   0   \n",
       "3      1  ...         0     0      0      0     0   0      0          0   0   \n",
       "4      0  ...         0     0      0      0     0   0      0          0   0   \n",
       "\n",
       "   zunz  \n",
       "0     0  \n",
       "1     0  \n",
       "2     0  \n",
       "3     0  \n",
       "4     0  \n",
       "\n",
       "[5 rows x 80 columns]"
      ]
     },
     "execution_count": 11,
     "metadata": {},
     "output_type": "execute_result"
    }
   ],
   "source": [
    "df_bor.head()"
   ]
  },
  {
   "cell_type": "code",
   "execution_count": 12,
   "metadata": {
    "scrolled": true
   },
   "outputs": [
    {
     "data": {
      "text/html": [
       "<div>\n",
       "<style>\n",
       "    .dataframe thead tr:only-child th {\n",
       "        text-align: right;\n",
       "    }\n",
       "\n",
       "    .dataframe thead th {\n",
       "        text-align: left;\n",
       "    }\n",
       "\n",
       "    .dataframe tbody tr th {\n",
       "        vertical-align: top;\n",
       "    }\n",
       "</style>\n",
       "<table border=\"1\" class=\"dataframe\">\n",
       "  <thead>\n",
       "    <tr style=\"text-align: right;\">\n",
       "      <th></th>\n",
       "      <th>68</th>\n",
       "      <th>77</th>\n",
       "      <th>agua</th>\n",
       "      <th>almuerzo</th>\n",
       "      <th>almuerzos</th>\n",
       "      <th>amarilla</th>\n",
       "      <th>amor</th>\n",
       "      <th>arriba</th>\n",
       "      <th>asesina</th>\n",
       "      <th>autopista</th>\n",
       "      <th>...</th>\n",
       "      <th>teoria</th>\n",
       "      <th>testigos</th>\n",
       "      <th>tibia</th>\n",
       "      <th>tomada</th>\n",
       "      <th>un</th>\n",
       "      <th>una</th>\n",
       "      <th>vaso</th>\n",
       "      <th>velorios</th>\n",
       "      <th>veridica</th>\n",
       "      <th>vialidad</th>\n",
       "    </tr>\n",
       "  </thead>\n",
       "  <tbody>\n",
       "    <tr>\n",
       "      <th>0</th>\n",
       "      <td>0</td>\n",
       "      <td>0</td>\n",
       "      <td>0</td>\n",
       "      <td>0</td>\n",
       "      <td>1</td>\n",
       "      <td>0</td>\n",
       "      <td>0</td>\n",
       "      <td>0</td>\n",
       "      <td>0</td>\n",
       "      <td>0</td>\n",
       "      <td>...</td>\n",
       "      <td>0</td>\n",
       "      <td>0</td>\n",
       "      <td>0</td>\n",
       "      <td>0</td>\n",
       "      <td>0</td>\n",
       "      <td>0</td>\n",
       "      <td>0</td>\n",
       "      <td>0</td>\n",
       "      <td>0</td>\n",
       "      <td>0</td>\n",
       "    </tr>\n",
       "    <tr>\n",
       "      <th>1</th>\n",
       "      <td>0</td>\n",
       "      <td>1</td>\n",
       "      <td>0</td>\n",
       "      <td>0</td>\n",
       "      <td>0</td>\n",
       "      <td>0</td>\n",
       "      <td>1</td>\n",
       "      <td>0</td>\n",
       "      <td>0</td>\n",
       "      <td>0</td>\n",
       "      <td>...</td>\n",
       "      <td>0</td>\n",
       "      <td>0</td>\n",
       "      <td>0</td>\n",
       "      <td>0</td>\n",
       "      <td>0</td>\n",
       "      <td>0</td>\n",
       "      <td>0</td>\n",
       "      <td>0</td>\n",
       "      <td>0</td>\n",
       "      <td>0</td>\n",
       "    </tr>\n",
       "    <tr>\n",
       "      <th>2</th>\n",
       "      <td>0</td>\n",
       "      <td>0</td>\n",
       "      <td>0</td>\n",
       "      <td>0</td>\n",
       "      <td>0</td>\n",
       "      <td>0</td>\n",
       "      <td>0</td>\n",
       "      <td>0</td>\n",
       "      <td>0</td>\n",
       "      <td>0</td>\n",
       "      <td>...</td>\n",
       "      <td>0</td>\n",
       "      <td>0</td>\n",
       "      <td>0</td>\n",
       "      <td>0</td>\n",
       "      <td>0</td>\n",
       "      <td>0</td>\n",
       "      <td>0</td>\n",
       "      <td>0</td>\n",
       "      <td>0</td>\n",
       "      <td>0</td>\n",
       "    </tr>\n",
       "    <tr>\n",
       "      <th>3</th>\n",
       "      <td>0</td>\n",
       "      <td>0</td>\n",
       "      <td>0</td>\n",
       "      <td>0</td>\n",
       "      <td>0</td>\n",
       "      <td>0</td>\n",
       "      <td>0</td>\n",
       "      <td>0</td>\n",
       "      <td>0</td>\n",
       "      <td>0</td>\n",
       "      <td>...</td>\n",
       "      <td>0</td>\n",
       "      <td>0</td>\n",
       "      <td>0</td>\n",
       "      <td>0</td>\n",
       "      <td>0</td>\n",
       "      <td>1</td>\n",
       "      <td>0</td>\n",
       "      <td>0</td>\n",
       "      <td>0</td>\n",
       "      <td>0</td>\n",
       "    </tr>\n",
       "    <tr>\n",
       "      <th>4</th>\n",
       "      <td>0</td>\n",
       "      <td>0</td>\n",
       "      <td>0</td>\n",
       "      <td>0</td>\n",
       "      <td>0</td>\n",
       "      <td>0</td>\n",
       "      <td>0</td>\n",
       "      <td>0</td>\n",
       "      <td>0</td>\n",
       "      <td>0</td>\n",
       "      <td>...</td>\n",
       "      <td>0</td>\n",
       "      <td>0</td>\n",
       "      <td>0</td>\n",
       "      <td>1</td>\n",
       "      <td>0</td>\n",
       "      <td>0</td>\n",
       "      <td>0</td>\n",
       "      <td>0</td>\n",
       "      <td>0</td>\n",
       "      <td>0</td>\n",
       "    </tr>\n",
       "  </tbody>\n",
       "</table>\n",
       "<p>5 rows × 75 columns</p>\n",
       "</div>"
      ],
      "text/plain": [
       "   68  77  agua  almuerzo  almuerzos  amarilla  amor  arriba  asesina  \\\n",
       "0   0   0     0         0          1         0     0       0        0   \n",
       "1   0   1     0         0          0         0     1       0        0   \n",
       "2   0   0     0         0          0         0     0       0        0   \n",
       "3   0   0     0         0          0         0     0       0        0   \n",
       "4   0   0     0         0          0         0     0       0        0   \n",
       "\n",
       "   autopista    ...     teoria  testigos  tibia  tomada  un  una  vaso  \\\n",
       "0          0    ...          0         0      0       0   0    0     0   \n",
       "1          0    ...          0         0      0       0   0    0     0   \n",
       "2          0    ...          0         0      0       0   0    0     0   \n",
       "3          0    ...          0         0      0       0   0    1     0   \n",
       "4          0    ...          0         0      0       1   0    0     0   \n",
       "\n",
       "   velorios  veridica  vialidad  \n",
       "0         0         0         0  \n",
       "1         0         0         0  \n",
       "2         0         0         0  \n",
       "3         0         0         0  \n",
       "4         0         0         0  \n",
       "\n",
       "[5 rows x 75 columns]"
      ]
     },
     "execution_count": 12,
     "metadata": {},
     "output_type": "execute_result"
    }
   ],
   "source": [
    "df_cor.head()"
   ]
  },
  {
   "cell_type": "markdown",
   "metadata": {},
   "source": [
    "## Bonus:\n",
    "    Usar time para dar al scraper un tiempo de espera tomado de una distibución uniforme de rango 3.\n",
    "    Usar CountVectorizer de sci-kit learn para analizar los cuentos.\n"
   ]
  },
  {
   "cell_type": "markdown",
   "metadata": {},
   "source": [
    "## Otros\n",
    "\n",
    "1) 'https://weworkremotely.com/categories/2-programming/jobs' \n",
    "    Este sitio enumera ofertas de trabajo de programación del último mes. Armá un diccionario (u otra estructura) con los títulos de los trabajos, y con más información recolectada de cada link.\n",
    "    \n",
    "2) 'https://www.ncbi.nlm.nih.gov/pubmed/?term=dopamine'\n",
    "    Usá el buscador de PubMed para descargar abstracts de múltiples estudios (por ejemplo de la primer página... o más! It's up to you!). Maneja la información convenientemente, por ejemplo guardandola en uno o más archivos. \n",
    "\n",
    "3) 'https://github.com/jarikoi/interesting-papers' o 'https://people.eecs.berkeley.edu/~alig/papers/'\n",
    "    En estas páginas hay muchos PDFs. Descarga todos los que puedas! (un tip: en github, mira los links!\n",
    "    "
   ]
  },
  {
   "cell_type": "code",
   "execution_count": null,
   "metadata": {},
   "outputs": [],
   "source": []
  }
 ],
 "metadata": {
  "kernelspec": {
   "display_name": "Python 3",
   "language": "python",
   "name": "python3"
  },
  "language_info": {
   "codemirror_mode": {
    "name": "ipython",
    "version": 3
   },
   "file_extension": ".py",
   "mimetype": "text/x-python",
   "name": "python",
   "nbconvert_exporter": "python",
   "pygments_lexer": "ipython3",
   "version": "3.7.7"
  }
 },
 "nbformat": 4,
 "nbformat_minor": 4
}
