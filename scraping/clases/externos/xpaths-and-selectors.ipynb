{
 "cells": [
  {
   "cell_type": "markdown",
   "metadata": {},
   "source": [
    "## Counting Elements in the Wild"
   ]
  },
  {
   "cell_type": "markdown",
   "metadata": {},
   "source": [
    "<p>Below, you are given a few options to consider regarding counting the number of elements which are selected. Choose the one which is <strong>incorrect</strong>!</p>"
   ]
  },
  {
   "cell_type": "markdown",
   "metadata": {},
   "source": [
    "<ul>\n",
    "<li>A single forward-slash only looks forward one generation, whereas a double forward-slash looks forward to all future generations.</li>\n",
    "</ul>"
   ]
  },
  {
   "cell_type": "markdown",
   "metadata": {},
   "source": [
    "## Body Appendages"
   ]
  },
  {
   "cell_type": "code",
   "execution_count": null,
   "metadata": {},
   "outputs": [],
   "source": [
    "# WE WANT TO USE THE SAME DATACAMP COURSE DIRECTORY PRE-SAVED HTML CODE HERE INSTEAD OF REQUESTS\n",
    "from scrapy import Selector\n",
    "import requests\n",
    "html = requests.get( 'https://www.datacamp.com/courses/q:introduction' ).content\n",
    "\n",
    "sel = Selector( text = html )\n",
    "\n",
    "\n",
    "def how_many_elements( xpath ):\n",
    "  print( len(sel.xpath( xpath )) )"
   ]
  },
  {
   "cell_type": "code",
   "execution_count": null,
   "metadata": {},
   "outputs": [],
   "source": [
    "# Create an XPath string to direct to children of body element\n",
    "xpath = '/html/body/*'\n",
    "\n",
    "# Print out the number of elements selected\n",
    "how_many_elements( xpath )"
   ]
  },
  {
   "cell_type": "markdown",
   "metadata": {},
   "source": [
    "<p>We have loaded the HTML from a secret website and have used it to create a function <code>how_many_elements()</code>. The way this function works is that you pass it an XPath string and it will print out the number of elements the XPath you wrote has selected. For example, by running the code <code>how_many_elements('//*')</code> in the console will print out the total number of elements the HTML document has (try it!). </p>\n",
    "<p>Your job in this exercise is to create an XPath string which can be used to direct to all child elements the <code>body</code> (regardless of tag type). To note, you can first test your solution with <code>how_many_elements()</code> to find the total number of children in the body element if you wish.</p>\n",
    "<p><strong>Note that the exercises in this chapter may take some time to load.</strong></p>"
   ]
  },
  {
   "cell_type": "markdown",
   "metadata": {},
   "source": [
    "<ul>\n",
    "<li>Assign to the variable <code>xpath</code> an XPath string which directs to all child elements of the body element. There is only one body element in this HTML document and it is a child of the root <code>html</code> element.</li>\n",
    "</ul>"
   ]
  },
  {
   "cell_type": "markdown",
   "metadata": {},
   "source": [
    "<ul>\n",
    "<li>Remember that a single forward slash moves down one generation, and a wildcard ignores tag type.</li>\n",
    "</ul>"
   ]
  },
  {
   "cell_type": "markdown",
   "metadata": {},
   "source": [
    "## Choose DataCamp!"
   ]
  },
  {
   "cell_type": "markdown",
   "metadata": {},
   "source": [
    "from scrapy import Selector\n",
    "\n",
    "html = '''\n",
    "<html>\n",
    "  <body>\n",
    "    <div>\n",
    "      <p>Hello World!</p>\n",
    "      <div>\n",
    "        <p>Choose DataCamp!</p>\n",
    "      </div>\n",
    "    </div>\n",
    "    <div>\n",
    "      <p>Thanks for Watching!</p>\n",
    "    </div>\n",
    "  </body>\n",
    "</html>\n",
    "'''\n",
    "\n",
    "sel = Selector( text = html )\n",
    "\n",
    "def print_element_text( xpath ):\n",
    "  text = ' '.join( sel.xpath( xpath ).xpath( './text()' ).extract() )\n",
    "  print( text )"
   ]
  },
  {
   "cell_type": "code",
   "execution_count": null,
   "metadata": {},
   "outputs": [],
   "source": [
    "# Create an XPath string to the desired paragraph element\n",
    "xpath = '/html/body/div[1]/div/p'\n",
    "\n",
    "# Print out the element text\n",
    "print_element_text( xpath )"
   ]
  },
  {
   "cell_type": "markdown",
   "metadata": {},
   "source": [
    "<p>In this exercise, we want to give you the opportunity to create your own XPath string to achieve a certain task; the task is to select the paragraph element containing the text \"Choose DataCamp!\". </p>\n",
    "<p>Consider the following HTML:</p>\n",
    "<pre><code class=\"html language-html\">&lt;html&gt;\n",
    "  &lt;body&gt;\n",
    "    &lt;div&gt;\n",
    "      &lt;p&gt;Hello World!&lt;/p&gt;\n",
    "      &lt;div&gt;\n",
    "        &lt;p&gt;Choose DataCamp!&lt;/p&gt;\n",
    "      &lt;/div&gt;\n",
    "    &lt;/div&gt;\n",
    "    &lt;div&gt;\n",
    "      &lt;p&gt;Thanks for Watching!&lt;/p&gt;\n",
    "    &lt;/div&gt;\n",
    "  &lt;/body&gt;\n",
    "&lt;/html&gt;\n",
    "</code></pre>\n",
    "<p>We have created the function <code>print_element_text()</code> for you, which will print the text contained in your element (if it contains any). Feel free to use this function to check if your solution is correct!</p>"
   ]
  },
  {
   "cell_type": "markdown",
   "metadata": {},
   "source": [
    "<ul>\n",
    "<li>Assign to the variable <code>xpath</code> an XPath string to direct to the paragraph element containing the phrase: \"Choose DataCamp!\".</li>\n",
    "</ul>"
   ]
  },
  {
   "cell_type": "markdown",
   "metadata": {},
   "source": [
    "<ul>\n",
    "<li>Pay attention to the fact that there is one <code>div</code> element nested within another!</li>\n",
    "</ul>"
   ]
  },
  {
   "cell_type": "markdown",
   "metadata": {},
   "source": [
    "## Where it's @"
   ]
  },
  {
   "cell_type": "markdown",
   "metadata": {},
   "source": [
    "from scrapy import Selector\n",
    "\n",
    "html = '''\n",
    "<html>\n",
    "  <body>\n",
    "    <div id=\"div1\" class=\"class-1\">\n",
    "      <p class=\"class-1 class-2\">Hello World!</p>\n",
    "      <div id=\"div2\">\n",
    "        <p id=\"p2\" class=\"class-2\">Choose DataCamp!</p>\n",
    "      </div>\n",
    "    </div>\n",
    "    <div id=\"div3\" class=\"class-2\">\n",
    "      <p class=\"class-2\">Thanks for Watching!</p>\n",
    "    </div>\n",
    "  </body>\n",
    "</html>\n",
    "'''\n",
    "\n",
    "sel = Selector( text = html )\n",
    "\n",
    "def print_element_text( xpath ):\n",
    "  text = ' '.join( sel.xpath( xpath ).xpath( './text()' ).extract() )\n",
    "  print( text )"
   ]
  },
  {
   "cell_type": "code",
   "execution_count": null,
   "metadata": {},
   "outputs": [],
   "source": [
    "# Create an Xpath string to select desired p element\n",
    "xpath = '//*[@id=\"div3\"]/p'\n",
    "\n",
    "# Print out selection text\n",
    "print_element_text( xpath )"
   ]
  },
  {
   "cell_type": "markdown",
   "metadata": {},
   "source": [
    "<p>In this exercise, you'll begin to write an XPath string using attributes to achieve a certain task; that task is to select the paragraph element containing the text \"Thanks for Watching!\". We've already created most of the XPath string for you.</p>\n",
    "<p>Consider the following HTML:</p>\n",
    "<pre><code class=\"html language-html\">&lt;html&gt;\n",
    "  &lt;body&gt;\n",
    "    &lt;div id=\"div1\" class=\"class-1\"&gt;\n",
    "      &lt;p class=\"class-1 class-2\"&gt;Hello World!&lt;/p&gt;\n",
    "      &lt;div id=\"div2\"&gt;\n",
    "        &lt;p id=\"p2\" class=\"class-2\"&gt;Choose DataCamp!&lt;/p&gt;\n",
    "      &lt;/div&gt;\n",
    "    &lt;/div&gt;\n",
    "    &lt;div id=\"div3\" class=\"class-2\"&gt;\n",
    "      &lt;p class=\"class-2\"&gt;Thanks for Watching!&lt;/p&gt;\n",
    "    &lt;/div&gt;\n",
    "  &lt;/body&gt;\n",
    "&lt;/html&gt;\n",
    "</code></pre>\n",
    "<p>We have created the function <code>print_element_text()</code> for you, which will print any text contained in your element.</p>"
   ]
  },
  {
   "cell_type": "markdown",
   "metadata": {},
   "source": [
    "<ul>\n",
    "<li>Fill in the blanks in the XPath string to select the paragraph element containing the phrase: \"Thanks for Watching!\".</li>\n",
    "</ul>"
   ]
  },
  {
   "cell_type": "markdown",
   "metadata": {},
   "source": [
    "<ul>\n",
    "<li>The blank in the XPath string you are given should identify the element (by <code>id</code> attribute) whose child has the paragraph element you are begin asked to direct to.</li>\n",
    "</ul>"
   ]
  },
  {
   "cell_type": "markdown",
   "metadata": {},
   "source": [
    "## Check your Class"
   ]
  },
  {
   "cell_type": "markdown",
   "metadata": {},
   "source": [
    "from scrapy import Selector\n",
    "\n",
    "html = '''\n",
    "<html>\n",
    "  <body>\n",
    "    <div id=\"div1\" class=\"class-1\">\n",
    "      <p class=\"class-1 class-2\">Hello World!</p>\n",
    "      <div id=\"div2\">\n",
    "        <p id=\"p2\" class=\"class-2\">Choose DataCamp!</p>\n",
    "      </div>\n",
    "    </div>\n",
    "    <div id=\"div3\" class=\"class-2\">\n",
    "      <p class=\"class-2\">Thanks for Watching!</p>\n",
    "    </div>\n",
    "  </body>\n",
    "</html>\n",
    "'''\n",
    "\n",
    "sel = Selector( text = html )\n",
    "\n",
    "def print_element_text( xpath ):\n",
    "  text = ' '.join( sel.xpath( xpath ).xpath( './text()' ).extract() )\n",
    "  print( text )"
   ]
  },
  {
   "cell_type": "code",
   "execution_count": null,
   "metadata": {},
   "outputs": [],
   "source": [
    "# Create an XPath string to select p element by class\n",
    "xpath = '//p[@class=\"class-1 class-2\"]'\n",
    "\n",
    "# Print out select text\n",
    "print_element_text( xpath )"
   ]
  },
  {
   "cell_type": "markdown",
   "metadata": {},
   "source": [
    "<p>This exercise is to emphasize that when you use an XPath to select an element by its class attribute without using the <code>contains()</code> function, you match the class exactly. Your job is to fill in the blank below and finish the variable <code>xpath</code> directing to the specified element.</p>\n",
    "<p>Consider the following HTML:</p>\n",
    "<pre><code class=\"html language-html\">&lt;html&gt;\n",
    "  &lt;body&gt;\n",
    "    &lt;div id=\"div1\" class=\"class-1\"&gt;\n",
    "      &lt;p class=\"class-1 class-2\"&gt;Hello World!&lt;/p&gt;\n",
    "      &lt;div id=\"div2\"&gt;\n",
    "        &lt;p id=\"p2\" class=\"class-2\"&gt;Choose DataCamp!&lt;/p&gt;\n",
    "      &lt;/div&gt;\n",
    "    &lt;/div&gt;\n",
    "    &lt;div id=\"div3\" class=\"class-2\"&gt;\n",
    "      &lt;p class=\"class-2\"&gt;Thanks for Watching!&lt;/p&gt;\n",
    "    &lt;/div&gt;\n",
    "  &lt;/body&gt;\n",
    "&lt;/html&gt;\n",
    "</code></pre>"
   ]
  },
  {
   "cell_type": "markdown",
   "metadata": {},
   "source": [
    "<ul>\n",
    "<li>Fill in the blanks in the xpath below to select the paragraph element containing the phrase: \"Hello World!\".</li>\n",
    "</ul>"
   ]
  },
  {
   "cell_type": "markdown",
   "metadata": {},
   "source": [
    "<ul>\n",
    "<li>Be careful to use the double-quotation marks within the XPath (i.e., it has the form <code>xpath = '//p[@class=\"____\"]'</code>.</li>\n",
    "<li>Make sure to match the class attribute value exactly, including any spaces.</li>\n",
    "</ul>"
   ]
  },
  {
   "cell_type": "markdown",
   "metadata": {},
   "source": [
    "## Hyper(link) Active"
   ]
  },
  {
   "cell_type": "markdown",
   "metadata": {},
   "source": [
    "from scrapy import Selector\n",
    "\n",
    "html = '''\n",
    "<html>\n",
    "  <body>\n",
    "    <div id=\"div1\" class=\"class-1\">\n",
    "      <p class=\"class-1 class-2\">Hello World!</p>\n",
    "      <div id=\"div2\">\n",
    "        <p id=\"p2\" class=\"class-2\">Choose \n",
    "            <a href=\"http://datacamp.com\">DataCamp!</a>!\n",
    "        </p>\n",
    "      </div>\n",
    "    </div>\n",
    "    <div id=\"div3\" class=\"class-2\">\n",
    "      <p class=\"class-2\">Thanks for Watching!</p>\n",
    "    </div>\n",
    "  </body>\n",
    "</html>\n",
    "'''\n",
    "\n",
    "sel = Selector( text = html )\n",
    "\n",
    "def print_attribute( xpath ):\n",
    "  print( \"You have selected:\" )\n",
    "  for i,el in enumerate(sel.xpath( xpath ).extract()):\n",
    "  \tprint( \"%d) %s\" % (i+1, el) )"
   ]
  },
  {
   "cell_type": "code",
   "execution_count": null,
   "metadata": {},
   "outputs": [],
   "source": [
    "# Create an xpath to the href attribute\n",
    "xpath = '//p[@id=\"p2\"]/a/@href'\n",
    "\n",
    "# Print out the selection(s); there should be only one\n",
    "print_attribute( xpath )"
   ]
  },
  {
   "cell_type": "markdown",
   "metadata": {},
   "source": [
    "<p>One of the most important attributes to extract for \"web-crawling\" is the hyperlink url (<code>href</code> attribute) within an <code>a</code> tag. Here, you will extract such a hyperlink! We have created the function <code>print_attribute</code> to print out the data extracted from your XPath, so you can test your XPath strings in the console, if you like.</p>\n",
    "<p>The exercise refers to the following HTML source code:</p>\n",
    "<pre><code class=\"html language-html\">&lt;html&gt;\n",
    "  &lt;body&gt;\n",
    "    &lt;div id=\"div1\" class=\"class-1\"&gt;\n",
    "      &lt;p class=\"class-1 class-2\"&gt;Hello World!&lt;/p&gt;\n",
    "      &lt;div id=\"div2\"&gt;\n",
    "        &lt;p id=\"p2\" class=\"class-2\"&gt;Choose \n",
    "            &lt;a href=\"http://datacamp.com\"&gt;DataCamp!&lt;/a&gt;!\n",
    "        &lt;/p&gt;\n",
    "      &lt;/div&gt;\n",
    "    &lt;/div&gt;\n",
    "    &lt;div id=\"div3\" class=\"class-2\"&gt;\n",
    "      &lt;p class=\"class-2\"&gt;Thanks for Watching!&lt;/p&gt;\n",
    "    &lt;/div&gt;\n",
    "  &lt;/body&gt;\n",
    "&lt;/html&gt;\n",
    "</code></pre>"
   ]
  },
  {
   "cell_type": "markdown",
   "metadata": {},
   "source": [
    "<ul>\n",
    "<li>Fill in the blanks to complete the variable <code>xpath</code> below to select the <code>href</code> attribute value from the DataCamp hyperlink.</li>\n",
    "</ul>"
   ]
  },
  {
   "cell_type": "markdown",
   "metadata": {},
   "source": [
    "<ul>\n",
    "<li>Remember to use the double-quotation marks within the XPath attribute value. </li>\n",
    "<li>Use the <code>@</code> symbol to refer to attributes.</li>\n",
    "</ul>"
   ]
  },
  {
   "cell_type": "markdown",
   "metadata": {},
   "source": [
    "## Secret Links"
   ]
  },
  {
   "cell_type": "code",
   "execution_count": null,
   "metadata": {},
   "outputs": [],
   "source": [
    "# WE WANT TO USE THE SAME DATACAMP COURSE DIRECTORY PRE-SAVED HTML CODE HERE INSTEAD OF REQUESTS\n",
    "from scrapy import Selector\n",
    "import requests\n",
    "html = requests.get( 'https://www.datacamp.com/courses/q:introduction' ).content\n",
    "\n",
    "sel = Selector( text = html )\n",
    "\n",
    "def how_many_elements( xpath ):\n",
    "  print( \"You've selected %d elements\" % len(sel.xpath( xpath )) )\n",
    "  \n",
    "def preview( xpath ):\n",
    "  els = sel.xpath( xpath ).extract()\n",
    "  n = len(els)\n",
    "  for i,el in enumerate( els[:min(4,n)]):\n",
    "    print( \"Element %d: %s\" % (i+1,el) )"
   ]
  },
  {
   "cell_type": "code",
   "execution_count": null,
   "metadata": {},
   "outputs": [],
   "source": [
    "# Create an xpath to the href attributes\n",
    "xpath = '//a[contains(@class,\"course-block\")]/@href'\n",
    "\n",
    "# Print out how many elements are selected\n",
    "how_many_elements( xpath )\n",
    "# Preview the selected elements\n",
    "preview( xpath )"
   ]
  },
  {
   "cell_type": "markdown",
   "metadata": {},
   "source": [
    "<p>We have loaded the HTML from a secret website and have used it to create the functions <code>how_many_elements()</code> and <code>preview()</code>. The function <code>how_many_elements()</code> allows you to pass in an XPath string and it will print out the number of elements the XPath you wrote has selected. The function <code>preview()</code> allows you to pass in an XPath string and it will print out the first few elements you've selected. </p>\n",
    "<p>Your job in this exercise is to create an XPath which directs to all <code>href</code> attribute values of the hyperlink <code>a</code> elements whose class attributes contain the string <code>\"course-block\"</code>. If you do it correctly, you should find that you have selected 40 elements with your XPath string and that it previews links (with some repetition).</p>"
   ]
  },
  {
   "cell_type": "markdown",
   "metadata": {},
   "source": [
    "<ul>\n",
    "<li>Fill in the blanks below to assign an XPath string to the variable <code>xpath</code> which directs to all <code>href</code> attribute values of the hyperlink <code>a</code> elements whose class attributes contain the string <code>\"course-block\"</code>. Remember that we use the <code>contains</code> call within the XPath string to check if an attribute value contains a particular string.</li>\n",
    "</ul>"
   ]
  },
  {
   "cell_type": "markdown",
   "metadata": {},
   "source": [
    "<ul>\n",
    "<li>Remember that the format for <code>contains(____,____)</code> is <code>contains(@attr, \"string\")</code> to check that the <code>attr</code> attribute value contains the string <code>\"string\"</code>. You need to decide what to write for <code>@attr</code> and <code>\"string\"</code>. </li>\n",
    "<li>The final blank is left to reference the <code>href</code> attribute value you want to point to; don't forget to include the <code>@</code> symbol (i.e., you will write <code>@href</code>).</li>\n",
    "</ul>"
   ]
  },
  {
   "cell_type": "markdown",
   "metadata": {},
   "source": [
    "## XPath Chaining"
   ]
  },
  {
   "cell_type": "markdown",
   "metadata": {},
   "source": [
    "from scrapy import Selector\n",
    "\n",
    "html = '''\n",
    "<html>\n",
    "<body>\n",
    "<div>HELLO</div>\n",
    "<div><p>GOODBYE</p></div>\n",
    "<div><span><p>NOPE</p><p>ALMOST</p><p>YOU GOT IT!</p></span></div>\n",
    "</body>\n",
    "</html>\n",
    "'''\n",
    "\n",
    "sel = Selector( text = html )"
   ]
  },
  {
   "cell_type": "raw",
   "metadata": {},
   "source": [
    "# Chain together xpath methods to select desired p element\n",
    "sel.xpath( '//div' ).xpath( './span/p[3]' )"
   ]
  },
  {
   "cell_type": "markdown",
   "metadata": {},
   "source": [
    "<p><code>Selector</code> and <code>SelectorList</code> objects allow for <em>chaining</em> when using the <code>xpath</code> method. What this means is that you can apply the <code>xpath</code> method over once you've already applied it. For example, if <code>sel</code> is the name of our <code>Selector</code>, then </p>\n",
    "<pre><code class=\"python language-python\">sel.xpath('/html/body/div[2]')\n",
    "</code></pre>\n",
    "<p>\n",
    "is the same as </p>\n",
    "<pre><code class=\"python language-python\">sel.xpath('/html').xpath('./body/div[2]')\n",
    "</code></pre>\n",
    "<p>or is the same as </p>\n",
    "<pre><code class=\"python language-python\">sel.xpath('/html').xpath('./body').xpath('./div[2]')\n",
    "</code></pre>\n",
    "<p>\n",
    "The only catch is that you need to \"glue together\" the XPath pieces by using a period at the start of each subsequent XPath string (notice the periods we added to the XPath strings in our examples).</p>"
   ]
  },
  {
   "cell_type": "markdown",
   "metadata": {},
   "source": [
    "<ul>\n",
    "<li>Fill in the blank below to chain together two <code>xpath</code> calls which result in the same selection as</li>\n",
    "</ul>\n",
    "<pre><code class=\"python language-python\">sel.xpath('//div/span/p[3]')\n",
    "</code></pre>"
   ]
  },
  {
   "cell_type": "markdown",
   "metadata": {},
   "source": [
    "<ul>\n",
    "<li>Don't forget to use a period <code>.</code> as \"glue\" when chaining the <code>xpath</code> function!</li>\n",
    "</ul>"
   ]
  },
  {
   "cell_type": "markdown",
   "metadata": {},
   "source": [
    "## Divvy Up This Exercise"
   ]
  },
  {
   "cell_type": "markdown",
   "metadata": {},
   "source": [
    "html = '''\n",
    "<html>\n",
    "<body>\n",
    "<div>Div 1: <p>paragraph 1</p></div>\n",
    "<div>Div 2: <p>paragraph 2</p> <p>paragraph 3</p> </div>\n",
    "<div>Div 3: <p>paragraph 4</p> <p>paragraph 5</p> <p>paragraph 6</p></div>\n",
    "<div>Div 4: <p>paragraph 7</p></div>\n",
    "<div>Div 5: <p>paragraph 8</p></div>\n",
    "</body>\n",
    "</html>\n",
    "'''\n",
    "\n",
    "from scrapy import Selector\n",
    "divs = Selector( text = html ).xpath( '//div' )"
   ]
  },
  {
   "cell_type": "markdown",
   "metadata": {},
   "source": [
    "<p>We have pre-loaded an HTML into the string variable <code>html</code>. In this two part problem you will use this <code>html</code> variable as the HTML document to set up a <code>Selector</code> object with, and create a <code>SelectorList</code> which selects all <code>div</code> elements; then, you will check your understanding of what happens within the <code>SelectorList</code>.</p>"
   ]
  },
  {
   "cell_type": "markdown",
   "metadata": {},
   "source": [
    "## Course Class by Inspection"
   ]
  },
  {
   "cell_type": "markdown",
   "metadata": {},
   "source": [
    "<p>In the lesson, you had a brief glimpse of the following screenshot taken when \"inspecting the element\" of the DataCamp course title for the course <em>Introduction to R</em>:</p>\n",
    "<p><img src=\"https://assets.datacamp.com/production/repositories/2560/datasets/59b60e887fddcea07b8de46b1c899562a2a0603d/ElementSource.png\" alt=\"ElementSource.png\"></p>\n",
    "<p>By looking at the source (HTML) code provided in this image, choose which of the following matches the <code>class</code> attribute for the <code>h4</code> element containing the text for the title of the selected course.</p>"
   ]
  },
  {
   "cell_type": "markdown",
   "metadata": {},
   "source": [
    "<ul>\n",
    "<li>Look at the highlighted <code>h4</code> element in the bottom panel of source code given in the image and find the class attribute.</li>\n",
    "</ul>"
   ]
  },
  {
   "cell_type": "markdown",
   "metadata": {},
   "source": [
    "## Requesting a Selector"
   ]
  },
  {
   "cell_type": "code",
   "execution_count": null,
   "metadata": {},
   "outputs": [],
   "source": [
    "url = 'https://assets.datacamp.com/production/repositories/2560/datasets/19a0a26daa8d9db1d920b5d5607c19d6d8094b3b/all_short'"
   ]
  },
  {
   "cell_type": "code",
   "execution_count": null,
   "metadata": {},
   "outputs": [],
   "source": [
    "# Import a scrapy Selector\n",
    "from scrapy import Selector\n",
    "\n",
    "# Import requests\n",
    "import requests\n",
    "\n",
    "# Create the string html containing the HTML source\n",
    "html = requests.get( url ).content\n",
    "\n",
    "# Create the Selector object sel from html\n",
    "sel = Selector( text = html )\n",
    "\n",
    "# Print out the number of elements in the HTML document\n",
    "print( \"There are 1020 elements in the HTML document.\")\n",
    "print( \"You have found: \", len( sel.xpath('//*') ) )"
   ]
  },
  {
   "cell_type": "markdown",
   "metadata": {},
   "source": [
    "<p>We have pre-loaded the URL for a particular website in the string variable <code>url</code> and use the requests library to put the content from the website into the string variable <code>html</code>. Your task is to create a <code>Selector</code> object <code>sel</code> using the HTML source code stored in <code>html</code>.</p>"
   ]
  },
  {
   "cell_type": "markdown",
   "metadata": {},
   "source": [
    "<ul>\n",
    "<li>Fill in the two blanks below to assign to create the <code>Selector</code> object <code>sel</code> which uses the string <code>html</code> as the text it inputs.</li>\n",
    "</ul>"
   ]
  },
  {
   "cell_type": "markdown",
   "metadata": {},
   "source": [
    "<ul>\n",
    "<li>The comment above the import from scrapy is a huge hint.</li>\n",
    "<li>Remember that you want to pass the <code>html</code> variable as the text for the <code>Selector</code> object.</li>\n",
    "</ul>"
   ]
  }
 ],
 "metadata": {},
 "nbformat": 4,
 "nbformat_minor": 4
}
