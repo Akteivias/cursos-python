{
 "cells": [
  {
   "cell_type": "markdown",
   "metadata": {},
   "source": [
    "## Try another name"
   ]
  },
  {
   "cell_type": "code",
   "execution_count": null,
   "metadata": {},
   "outputs": [],
   "source": [
    "import re\n",
    "sentiment_analysis = [\"Just got ur newsletter, those fares really are unbelievable. Write to statravelAU@gmail.com or statravelpo@hotmail.com. They have amazing prices\", \"I should have paid more attention when we covered photoshop in my webpage design class in undergrad. Contact me Hollywoodheat34@msn.net.\", \"hey missed ya at the meeting. Read your email! msdrama098@hotmail.com\"]"
   ]
  },
  {
   "cell_type": "code",
   "execution_count": null,
   "metadata": {},
   "outputs": [],
   "source": [
    "# Write a regex that matches email\n",
    "regex_email = r\"([A-Za-z0-9]+)@\\S+\"\n",
    "\n",
    "for tweet in sentiment_analysis:\n",
    "    # Find all matches of regex in each tweet\n",
    "    email_matched = re.findall(regex_email, tweet)\n",
    "\n",
    "    # Complete the format method to print the results\n",
    "    print(\"Lists of users found in this tweet: {}\".format(email_matched))"
   ]
  },
  {
   "cell_type": "markdown",
   "metadata": {},
   "source": [
    "<p>You are still working on your Twitter sentiment analysis. You analyze now some things that caught your attention. You noticed that there are email addresses inserted in some tweets. Now, you are curious to find out which is the most common name. </p>\n",
    "<p>You want to extract the first part of the email. E.g. if you have the email <code>marysmith90@gmail.com</code>, you are only interested in <code>marysmith90</code>.<br>\n",
    "You need to match the entire expression. So you make sure to extract only names present in emails. Also, you are only interested in names containing upper (e.g. A,B, Z) or lowercase letters (e.g. a, d, z) and numbers.</p>\n",
    "<p>The list <code>sentiment_analysis</code> containing the text of three tweets as well as the <code>re</code> module were loaded in your session. You can use <code>print()</code> to view it in the IPython Shell.</p>"
   ]
  },
  {
   "cell_type": "markdown",
   "metadata": {},
   "source": [
    "<ul>\n",
    "<li>Complete the regex to match the email capturing only the name part. The name part appears before the <code>@</code>.</li>\n",
    "<li>Find all matches of the regex in each element of <code>sentiment_analysis</code> analysis. Assign it to the variable <code>email_matched</code>.</li>\n",
    "<li>Complete the <code>.format()</code> method to print the results captured in each element of <code>sentiment_analysis</code> analysis.</li>\n",
    "</ul>"
   ]
  },
  {
   "cell_type": "markdown",
   "metadata": {},
   "source": [
    "<ul>\n",
    "<li>To capture a <code>group</code>, place parentheses to surround that group: <code>(group)regex</code>. To match any lowercase letter use <code>a-z</code>, any uppercase use <code>A-Z</code> and numbers <code>0-9</code>. Use <code>[]</code> to indicate optional characters. Use <code>+</code> to match once or more times. <code>@</code> will match itself. </li>\n",
    "<li>To find all matches of a regex, use <code>.findall()</code>.</li>\n",
    "<li>Remember the <code>.format()</code> syntax: <code>\"text {}\".format(string)</code>.</li>\n",
    "</ul>"
   ]
  },
  {
   "cell_type": "markdown",
   "metadata": {},
   "source": [
    "## Flying home"
   ]
  },
  {
   "cell_type": "code",
   "execution_count": null,
   "metadata": {},
   "outputs": [],
   "source": [
    "flight = \"Subject: You are now ready to fly. Here you have your boarding pass IB3723 AMS-MAD 06OCT\""
   ]
  },
  {
   "cell_type": "markdown",
   "metadata": {},
   "source": [
    "<p>Your boss assigned you to a small project. They are performing an analysis of the travels people made to attend business meetings. You are given a dataset with only the email subjects for each of the people traveling. </p>\n",
    "<p>You learn that the text followed a pattern. Here is an example:</p>\n",
    "<p><code>Here you have your boarding pass LA4214 AER-CDB 06NOV</code>. </p>\n",
    "<p>You need to extract the information about the flight: </p>\n",
    "<ul>\n",
    "<li>The two letters indicate the airline (e.g <code>LA</code>), </li>\n",
    "<li>The 4 numbers are the flight number (e.g. <code>4214</code>). </li>\n",
    "<li>The three letters correspond to the departure (e.g <code>AER</code>), </li>\n",
    "<li>The destination (<code>CDB</code>),</li>\n",
    "<li>The date (<code>06NOV</code>) of the flight. </li>\n",
    "</ul>\n",
    "<p>All letters are always uppercase.</p>\n",
    "<p>The variable <code>flight</code> containing one email subject was loaded in your session. You can use <code>print()</code> to view it in the IPython Shell.</p>"
   ]
  },
  {
   "cell_type": "markdown",
   "metadata": {},
   "source": [
    "## Love it!"
   ]
  },
  {
   "cell_type": "code",
   "execution_count": null,
   "metadata": {},
   "outputs": [],
   "source": [
    "import re\n",
    "sentiment_analysis = [\"I totally love the concert The Book of Souls World Tour. It kinda amazing!\", \"I enjoy the movie Wreck-It Ralph. I watched with my boyfriend.\", \"I still like the movie Wish Upon a Star. Too bad Disney doesn't show it anymore.\"]"
   ]
  },
  {
   "cell_type": "code",
   "execution_count": null,
   "metadata": {},
   "outputs": [],
   "source": [
    "# Write a regex that matches sentences with the optional words\n",
    "regex_positive = r\"(love|like|enjoy).+?(movie|concert)\\s(.+?)\\.\"\n",
    "\n",
    "for tweet in sentiment_analysis:\n",
    "\t# Find all matches of regex in tweet\n",
    "    positive_matches = re.findall(regex_positive, tweet)\n",
    "    \n",
    "    # Complete format to print out the results\n",
    "    print(\"Positive comments found {}\".format(positive_matches))"
   ]
  },
  {
   "cell_type": "markdown",
   "metadata": {},
   "source": [
    "<p>You are still working on the Twitter sentiment analysis project. First, you want to identify positive tweets about movies and concerts. </p>\n",
    "<p>You plan to find all the sentences that contain the words <em>love</em>, <em>like</em>, or <em>enjoy</em> and capture that word. You will limit the tweets by focusing on those that contain the words <em>movie</em> or <em>concert</em> by keeping the word in another group. You will also save the movie or concert name. </p>\n",
    "<p>For example, if you have the sentence: <code>I love the movie Avengers.</code> You match and capture <code>love</code>. You need to match and capture <code>movie</code>. Afterwards, you match and capture anything until the dot.</p>\n",
    "<p>The list <code>sentiment_analysis</code> containing the text of three tweets and the <code>re</code> module are loaded in your session. You can use <code>print()</code> to view the data in the IPython Shell.</p>"
   ]
  },
  {
   "cell_type": "markdown",
   "metadata": {},
   "source": [
    "<ul>\n",
    "<li>Complete the regular expression to capture the words <code>love</code> or <code>like</code> or <code>enjoy</code>. Match and capture the words <code>movie</code> or <code>concert</code>. Match and capture anything appearing until the <code>.</code>.</li>\n",
    "<li>Find all matches of the regex in each element of <code>sentiment_analysis</code>. Assign them to <code>positive_matches</code>.</li>\n",
    "<li>Complete the <code>.format()</code> method to print out the results contained in <code>positive_matches</code> for each element in <code>sentiment_analysis</code>.</li>\n",
    "</ul>"
   ]
  },
  {
   "cell_type": "markdown",
   "metadata": {},
   "source": [
    "<ul>\n",
    "<li>Use <code>|</code> between the optional words you want to capture inside the parentheses <code>()</code>. Use the <code>.</code> metacharacter together with the plus quantifier if you want to match any type of character. Consider using a non-greedy quantifier adding <code>?</code>.</li>\n",
    "<li>To find all matches, use <code>.findall()</code>.</li>\n",
    "<li>Remember the <code>.format()</code> syntax: <code>\"text {}\".format(variable)</code>.</li>\n",
    "</ul>"
   ]
  },
  {
   "cell_type": "markdown",
   "metadata": {},
   "source": [
    "## Ugh! Not for me!"
   ]
  },
  {
   "cell_type": "code",
   "execution_count": null,
   "metadata": {},
   "outputs": [],
   "source": [
    "import re\n",
    "sentiment_analysis = [\"That was horrible! I really dislike the movie The cabin and the ant. So boring.\", \"I disapprove the movie Honest with you. It's full of cliches.\", \"I dislike very much the concert After twelve Tour. The sound was horrible.\"]"
   ]
  },
  {
   "cell_type": "code",
   "execution_count": null,
   "metadata": {},
   "outputs": [],
   "source": [
    "# Write a regex that matches sentences with the optional words\n",
    "regex_negative = r\"(hate|dislike|disapprove).+?(?:movie|concert)\\s(.+?)\\.\"\n",
    "\n",
    "for tweet in sentiment_analysis:\n",
    "\t# Find all matches of regex in tweet\n",
    "    negative_matches = re.findall(regex_negative, tweet)\n",
    "    \n",
    "    # Complete format to print out the results\n",
    "    print(\"Negative comments found {}\".format(negative_matches))"
   ]
  },
  {
   "cell_type": "markdown",
   "metadata": {},
   "source": [
    "<p>After finding positive tweets, you want to do it for negative tweets. Your plan now is to find sentences that contain the words <em>hate</em>, <em>dislike</em> or <em>disapprove</em>. You will again save the <em>movie</em> or <em>concert</em> name. You will get the tweet containing the words movie or concert but this time, you don't plan to save the word. </p>\n",
    "<p>For example, if you have the sentence: <code>I dislike the movie Avengers a lot.</code>. You match and capture <code>dislike</code>. You will match but not capture the word <code>movie</code>. Afterwards, you match and capture anything until the dot.  </p>\n",
    "<p>The list <code>sentiment_analysis</code> containing the text of three tweets as well as the <code>re</code> module are loaded in your session. You can use <code>print()</code> to view the data in the IPython Shell.</p>"
   ]
  },
  {
   "cell_type": "markdown",
   "metadata": {},
   "source": [
    "<ul>\n",
    "<li>Complete the regular expression to capture the words <code>hate</code> or <code>dislike</code> or <code>disapprove</code>. Match but don't capture the words <code>movie</code> or <code>concert</code>. Match and capture anything appearing until the <code>.</code>. </li>\n",
    "<li>Find all matches of the regex in each element of <code>sentiment_analysis</code>. Assign them to <code>negative_matches</code>.</li>\n",
    "<li>Complete the <code>.format()</code> method to print out the results contained in <code>negative_matches</code> for each element in <code>sentiment_analysis</code>.</li>\n",
    "</ul>"
   ]
  },
  {
   "cell_type": "markdown",
   "metadata": {},
   "source": [
    "<ul>\n",
    "<li>To capture optional groups, use <code>|</code> inside the parentheses. To capture any character use the <code>.</code> metacharacter. Consider using a non-greedy quantifier. To match but not capture a group, use non-capturing syntax <code>?:</code>. Remember to escape the dot.</li>\n",
    "<li>To find all matches, use <code>.findall()</code>.</li>\n",
    "<li>Remember the <code>.format()</code> syntax: <code>\"text {}\".format(variable)</code>.</li>\n",
    "</ul>"
   ]
  },
  {
   "cell_type": "markdown",
   "metadata": {},
   "source": [
    "## Parsing PDF files"
   ]
  },
  {
   "cell_type": "code",
   "execution_count": null,
   "metadata": {},
   "outputs": [],
   "source": [
    "import re\n",
    "contract = \"Provider will invoice Client for Services performed within 30 days of performance.  Client will pay Provider as set forth in each Statement of Work within 30 days of receipt and acceptance of such invoice. It is understood that payments to Provider for services rendered shall be made in full as agreed, without any deductions for taxes of any kind whatsoever, in conformity with Provider’s status as an independent contractor. Signed on 03/25/2001.\""
   ]
  },
  {
   "cell_type": "markdown",
   "metadata": {},
   "source": [
    "<p>You now need to work on another small project you have been delaying. Your company gave you some PDF files of signed contracts. The goal of the project is to create a database with the information you parse from them. Three of these columns should correspond to the day, month, and year when the contract was signed.<br>\n",
    "The dates appear as <code>Signed on 05/24/2016</code> (<code>05</code> indicating the month, <code>24</code> the day). You decide to use capturing groups to extract this information. Also, you would like to retrieve that information so you can store it separately in different variables. </p>\n",
    "<p>You decide to do a proof of concept.</p>\n",
    "<p>The variable <code>contract</code> containing the text of one contract and the <code>re</code> module are already loaded in your session. You can use <code>print()</code> to view the data in the IPython Shell.</p>"
   ]
  },
  {
   "cell_type": "markdown",
   "metadata": {},
   "source": [
    "## Close the tag, please!"
   ]
  },
  {
   "cell_type": "markdown",
   "metadata": {},
   "source": [
    "import re\n",
    "html_tags = [\"<body>Welcome to our course! It would be an awesome experience</body>\", \"<article>To be a data scientist, you need to have knowledge in statistics and mathematics</article>\", \"<nav>About me Links Contact me!\"]"
   ]
  },
  {
   "cell_type": "markdown",
   "metadata": {},
   "source": [
    "for string in html_tags:\n",
    "    # Complete the regex and find if it matches a closed HTML tags\n",
    "    match_tag =  re.match(r\"<(\\w+)>.*?</\\1>\", string)\n",
    " \n",
    "    if match_tag:\n",
    "        # If it matches print the first group capture\n",
    "        print(\"Your tag {} is closed\".format(match_tag.group(1))) \n",
    "    else:\n",
    "        # If it doesn't match capture only the tag \n",
    "        notmatch_tag = re.match(r\"<(\\w+)>\", string)\n",
    "        # Print the first group capture\n",
    "        print(\"Close your {} tag!\".format(notmatch_tag.group(1)))"
   ]
  },
  {
   "cell_type": "markdown",
   "metadata": {},
   "source": [
    "<p>In the meantime, you are working on one of your other projects. The company is going to develop a new product. It will help developers automatically check the code they are writing. You need to write a short script for checking that every HTML tag that is open has its proper closure. </p>\n",
    "<p>You have an example of a string containing HTML tags:</p>\n",
    "<p><code>&lt;title&gt;The Data Science Company&lt;/title&gt;</code></p>\n",
    "<p>You learn that an opening HTML tag is always at the beginning of the string. It appears inside <code>&lt;&gt;</code>. A closing tag also appears inside <code>&lt;&gt;</code>, but it is preceded by <code>/</code>. </p>\n",
    "<p>You also remember that capturing groups can be referenced using numbers, e.g <code>\\4</code>.</p>\n",
    "<p>The list <code>html_tags</code>, containing three strings with HTML tags, and the<code>re</code> module are loaded in your session. You can use <code>print()</code> to view the data in the IPython Shell.</p>"
   ]
  },
  {
   "cell_type": "markdown",
   "metadata": {},
   "source": [
    "<ul>\n",
    "<li>Complete the regex in order to match closed HTML tags. Find if there is a match in each string of the list <code>html_tags</code>. Assign the result to <code>match_tag</code>.</li>\n",
    "<li>If a match is found, print the first group captured and saved in <code>match_tag</code>.</li>\n",
    "<li>If no match is found, complete the regex to match only the text inside the HTML tag. Assign it to <code>notmatch_tag</code>.</li>\n",
    "<li>Print the first group captured by the regex and save it in <code>notmatch_tag</code>.</li>\n",
    "</ul>"
   ]
  },
  {
   "cell_type": "markdown",
   "metadata": {},
   "source": [
    "<ul>\n",
    "<li>To capture the <code>text</code> inside <code>&lt;&gt;</code>, place parenthesis around the expression: <code>r\"&lt;(text)&gt;</code>. To confirm that the same <code>text</code> appears in the closing tag, reference back to the <code>m</code> group captured by using <code>\\m</code>.</li>\n",
    "<li>To print the <code>m</code> group captured, use <code>.group(m)</code>.</li>\n",
    "<li>To capture the <code>text</code> inside <code>&lt;&gt;</code>, use parentheses: <code>r\"&lt;(text)&gt;</code>.</li>\n",
    "<li>To print the <code>m</code> group captured, use <code>.group(m)</code>.</li>\n",
    "</ul>"
   ]
  },
  {
   "cell_type": "markdown",
   "metadata": {},
   "source": [
    "## Reeepeated characters"
   ]
  },
  {
   "cell_type": "code",
   "execution_count": null,
   "metadata": {},
   "outputs": [],
   "source": [
    "import re\n",
    "sentiment_analysis = [\"@marykatherine_q i know! I heard it this morning and wondered the same thing. Moscooooooow is so behind the times\", \n",
    "                      \"Staying at a friends house...neighborrrrrrrs are so loud-having a party\",\n",
    "                      \"Just woke up an already have read some e-mail\"]"
   ]
  },
  {
   "cell_type": "code",
   "execution_count": null,
   "metadata": {},
   "outputs": [],
   "source": [
    "# Complete the regex to match an elongated word\n",
    "regex_elongated = r\"\\w*(\\w)\\1\\w*\"\n",
    "\n",
    "for tweet in sentiment_analysis:\n",
    "\t# Find if there is a match in each tweet \n",
    "\tmatch_elongated = re.search(regex_elongated, tweet)\n",
    "    \n",
    "\tif match_elongated:\n",
    "\t\t# Assign the captured group zero \n",
    "\t\telongated_word = match_elongated.group(0)\n",
    "        \n",
    "\t\t# Complete the format method to print the word\n",
    "\t\tprint(\"Elongated word found: {word}\".format(word=elongated_word))\n",
    "\telse:\n",
    "\t\tprint(\"No elongated word found\")     \t"
   ]
  },
  {
   "cell_type": "markdown",
   "metadata": {},
   "source": [
    "<p>Back to your sentiment analysis! Your next task is to replace elongated words that appear in the tweets. We define an elongated word as a word that contains a repeating character twice or more times. e.g. \"<strong>Awesoooome</strong>\".   </p>\n",
    "<p>Replacing those words is very important since a classifier will treat them as a different term from the source words lowering their frequency. </p>\n",
    "<p>To find them, you will use capturing groups and reference them back using numbers. E.g <code>\\4</code>. </p>\n",
    "<p>If you want to find a match for <code>Awesoooome</code>. You first need to capture <code>Awes</code>. Then, match <code>o</code> and reference the same character back, and then, <code>me</code>.</p>\n",
    "<p>The list <code>sentiment_analysis</code>, containing the text of three tweets, and the <code>re</code> module are loaded in your session. You can use <code>print()</code> to view the data in the IPython Shell.</p>"
   ]
  },
  {
   "cell_type": "markdown",
   "metadata": {},
   "source": [
    "<ul>\n",
    "<li>Complete the regular expression to match an elongated word as described.</li>\n",
    "<li>Search the elements in <code>sentiment_analysis</code> list to find out if they contain elongated words. Assign the result to <code>match_elongated</code>.</li>\n",
    "<li>Assign the captured group number zero to the variable <code>elongated_word</code>.</li>\n",
    "<li>Print the result contained in the variable <code>elongated_word</code>.</li>\n",
    "</ul>"
   ]
  },
  {
   "cell_type": "markdown",
   "metadata": {},
   "source": [
    "<ul>\n",
    "<li>First match the starting characters <code>\\w</code> zero or more times. To capture word characters, use <code>(\\w+)</code>. Reference back to the captured group number <code>m</code> by using <code>\\m</code>. Match the ending characters <code>\\w</code> zero or more times. </li>\n",
    "<li>To search for a match, use <code>.search()</code>.</li>\n",
    "<li>To retrieve the group <code>m</code>, use <code>.group(m)</code>.</li>\n",
    "<li>Remember the <code>.format()</code> syntax: <code>\"text {variable}\".format(variable=string)</code></li>\n",
    "</ul>"
   ]
  },
  {
   "cell_type": "markdown",
   "metadata": {},
   "source": [
    "## Surrounding words"
   ]
  },
  {
   "cell_type": "code",
   "execution_count": null,
   "metadata": {},
   "outputs": [],
   "source": [
    "import re\n",
    "import pandas as pd\n",
    "dataset = pd.read_csv(\"https://assets.datacamp.com/production/repositories/4510/datasets/19e319827a9c77db36702cf59bf61b1ef039de43/short_tweets.csv\", \n",
    "                                 header= 1,\n",
    "                                 names = [\"target\", \"id\", \"date\", \"flag\", \"user\", \"text\"])\n",
    "sentiment_analysis = dataset[\"text\"].iloc[46]"
   ]
  },
  {
   "cell_type": "markdown",
   "metadata": {},
   "source": [
    "<p>Now, you want to perform some visualizations with your <code>sentiment_analysis</code> dataset. You are interested in the words surrounding <code>python</code>. You want to count how many times a specific words appears right before and after it. </p>\n",
    "<p><strong>Positive lookahead</strong> <code>(?=)</code> makes sure that first part of the expression is followed by the lookahead expression. <strong>Positive lookbehind</strong> <code>(?&lt;=)</code> returns all matches that are preceded by the specified pattern.</p>\n",
    "<p>The variable <code>sentiment_analysis</code>, containing the text of one tweet, and the <code>re</code> module are loaded in your session. You can use <code>print()</code> to view the data in the IPython Shell.</p>"
   ]
  },
  {
   "cell_type": "markdown",
   "metadata": {},
   "source": [
    "## Filtering phone numbers"
   ]
  },
  {
   "cell_type": "code",
   "execution_count": null,
   "metadata": {},
   "outputs": [],
   "source": [
    "import re\n",
    "cellphones = [\"4564-646464-01\", \"345-5785-544245\", \"6476-579052-01\"]"
   ]
  },
  {
   "cell_type": "markdown",
   "metadata": {},
   "source": [
    "<p>Now, you need to write a script for a cell-phone searcher. It should scan a list of phone numbers and return those that meet certain characteristics.</p>\n",
    "<p>The phone numbers in the list have the structure: </p>\n",
    "<ul>\n",
    "<li>Optional area code: 3 numbers</li>\n",
    "<li>Prefix: 4 numbers</li>\n",
    "<li>Line number: 6 numbers</li>\n",
    "<li>Optional extension: 2 numbers</li>\n",
    "</ul>\n",
    "<p>E.g. <code>654-8764-439434-01</code>.</p>\n",
    "<p>You decide to use <code>.findall()</code> and the non-capturing group's negative lookahead <code>(?!)</code> and negative lookbehind <code>(?&lt;!)</code>.</p>\n",
    "<p>The list <code>cellphones</code>, containing three phone numbers, and the <code>re</code> module are loaded in your session. You can use <code>print()</code> to view the data in the IPython Shell.</p>"
   ]
  }
 ],
 "metadata": {},
 "nbformat": 4,
 "nbformat_minor": 4
}
