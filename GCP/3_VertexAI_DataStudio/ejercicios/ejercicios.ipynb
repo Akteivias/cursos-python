{
 "cells": [
  {
   "cell_type": "markdown",
   "metadata": {},
   "source": [
    "# Práctica Vertex AI"
   ]
  },
  {
   "cell_type": "markdown",
   "metadata": {},
   "source": [
    "Para esta práctica vamos a asumir el papel de un/a desarrollador de machine learning trabajando en un banco. Se nos solicita desarrollar un modelo para predecir si un cliente va a colocar un Plazo Fijo, un certificate of deposit (CD) en el dataset. El modelo será entrenado sobre un dataset que contiene información demográfica de los clientes, respuesta a eventos de marketing y factores externos.  \n",
    "Dataset https://archive.ics.uci.edu/ml/datasets/bank+marketing\n",
    "(utilizar la versión `bank-additional-full.csv`)\n",
    "## Actividades\n",
    "- Cargar el CSV en Google Cloud Storage.\n",
    "- Crear una tabla en BigQuery y usarlo como dataset de entrenamiento.\n",
    "- Entrenar un modelo de clasificación con AutoML e interpretar los resultados del job de entrenamiento.\n",
    "- Instanciar una notebook de Jupyter.\n",
    "- Armar un script de entrenamiento del modelo llamado train.py\n",
    "- Agregarlo a un contenedor, se puede utilizar el mismo Dockerfile si se lo coloca dentro de una carpeta llamada trainer\n",
    "- Subir el contenedor a Google Container Registry.\n",
    "- Lanzar un entrenamiento con este contenedor.\n",
    "- Evaluar los resultados y compararlos contra el obtenido en el primer punto.\n",
    "- Entrenar el modelo con AutoML con el SDK desde la notebook.\n",
    "- Deployar a un Endpoint cualquiera de los 3 modelos.\n",
    "- Solicitarle predicciones desde la notebook."
   ]
  },
  {
   "cell_type": "markdown",
   "metadata": {},
   "source": [
    "Nota: No se olviden de detener la notebook cuando no la usen y de eliminar el Endpoint cuando no le pidan predicciones."
   ]
  }
 ],
 "metadata": {
  "kernelspec": {
   "display_name": "Python 3 (ipykernel)",
   "language": "python",
   "name": "python3"
  },
  "language_info": {
   "codemirror_mode": {
    "name": "ipython",
    "version": 3
   },
   "file_extension": ".py",
   "mimetype": "text/x-python",
   "name": "python",
   "nbconvert_exporter": "python",
   "pygments_lexer": "ipython3",
   "version": "3.7.6"
  }
 },
 "nbformat": 4,
 "nbformat_minor": 4
}
