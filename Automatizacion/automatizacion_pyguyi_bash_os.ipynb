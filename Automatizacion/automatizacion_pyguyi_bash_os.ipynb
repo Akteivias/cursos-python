{
 "cells": [
  {
   "cell_type": "markdown",
   "metadata": {
    "id": "PfYnJ59siNQH"
   },
   "source": [
    "## Automatización:\n",
    "\n",
    "En esta clase:\n",
    "\n",
    "- Aprenderemos sobre programar desde una carpeta, o **directorio de trabajo**, y las una rutas o _path_ relativos, o absolutos.\n",
    "- Veremos como buscar archivos, también listar, borrar, copiar, mover y otras operaciones usuales con el sistema operativo. Librerías os, glob, shutil\n",
    "- Lectura de distintos tipos de datos: .sav, .dta, .csv, .zip"
   ]
  },
  {
   "cell_type": "markdown",
   "metadata": {
    "id": "_NB3x7ZciNQJ"
   },
   "source": [
    "Actualmente cualquier tarea que uno se proponga automatizar, así lo es. Podemos encontrar un espectro de complejidad:\n",
    "\n",
    "- Por un lado, con la librería *pyautogui* podemos automatizar movimientos de mouse y teclado. Esto da la posibilidad de automatizar tareas sencillas de una manera directa.\n",
    "\n",
    "(El siguiente ejemplo anda solo corriendolo como local!)"
   ]
  },
  {
   "cell_type": "markdown",
   "metadata": {
    "id": "YkgI3cPoiNQW"
   },
   "source": [
    "```python\n",
    "# Devuelve las dimensiones de la pantalla\n",
    "ancho, alto = pyautogui.size()\n",
    "# Devuelve la posición actual\n",
    "Xactual, Yactual = pyautogui.position()\n",
    "# Mover a coordenadas (pixels)\n",
    "pyautogui.moveTo(100, 150) \n",
    "# Clickear\n",
    "pyautogui.click() \n",
    "# Tipear con delay\n",
    "pyautogui.write('Hello world!', interval=0.25)  \n",
    "# Apretar una tecla\n",
    "pyautogui.press('esc') \n",
    "pyautogui.hotkey('ctrl', 'c')\n",
    "pyautogui.locateOnScreen()\n",
    "```"
   ]
  },
  {
   "cell_type": "markdown",
   "metadata": {},
   "source": [
    "***Nota: Lamentablemente pyautogui es lo único incluido en cualquiera de nuestros cursos que no funciona en Colab! Para ejecutar esta sección instalar Anaconda en la computadora local***"
   ]
  },
  {
   "cell_type": "code",
   "execution_count": 4,
   "metadata": {},
   "outputs": [
    {
     "name": "stdout",
     "output_type": "stream",
     "text": [
      "Requirement already satisfied: pyautogui in c:\\programdata\\anaconda3\\lib\\site-packages (0.9.52)\n",
      "Requirement already satisfied: pygetwindow>=0.0.5 in c:\\programdata\\anaconda3\\lib\\site-packages (from pyautogui) (0.0.9)\n",
      "Requirement already satisfied: PyTweening>=1.0.1 in c:\\programdata\\anaconda3\\lib\\site-packages (from pyautogui) (1.0.3)\n",
      "Requirement already satisfied: mouseinfo in c:\\programdata\\anaconda3\\lib\\site-packages (from pyautogui) (0.1.3)\n",
      "Requirement already satisfied: pymsgbox in c:\\programdata\\anaconda3\\lib\\site-packages (from pyautogui) (1.0.9)\n",
      "Requirement already satisfied: pyscreeze>=0.1.21 in c:\\programdata\\anaconda3\\lib\\site-packages (from pyautogui) (0.1.27)\n",
      "Requirement already satisfied: pyrect in c:\\programdata\\anaconda3\\lib\\site-packages (from pygetwindow>=0.0.5->pyautogui) (0.1.4)\n",
      "Requirement already satisfied: pyperclip in c:\\programdata\\anaconda3\\lib\\site-packages (from mouseinfo->pyautogui) (1.8.2)\n",
      "Requirement already satisfied: Pillow>=6.2.1; python_version == \"3.8\" in c:\\programdata\\anaconda3\\lib\\site-packages (from pyscreeze>=0.1.21->pyautogui) (8.0.1)\n"
     ]
    }
   ],
   "source": [
    "!pip install pyautogui"
   ]
  },
  {
   "cell_type": "code",
   "execution_count": 5,
   "metadata": {},
   "outputs": [],
   "source": [
    "from time import sleep\n",
    "import os\n",
    "import pyautogui as pygui\n",
    "import numpy as np"
   ]
  },
  {
   "cell_type": "code",
   "execution_count": 8,
   "metadata": {},
   "outputs": [],
   "source": [
    "# sleep(5)\n",
    "for i, x in enumerate([np.sin(x) for x in np.linspace(0,50,120)]):\n",
    "    pygui.moveRel(10,30*x)"
   ]
  },
  {
   "cell_type": "code",
   "execution_count": 9,
   "metadata": {},
   "outputs": [],
   "source": [
    "def cuadrado(l):\n",
    "    pygui.drag(l, 0, duration=1)\n",
    "    pygui.drag(0, l, duration=1)\n",
    "    pygui.drag(-l, 0, duration=1)\n",
    "    pygui.drag(0, -l, duration=1)"
   ]
  },
  {
   "cell_type": "code",
   "execution_count": 10,
   "metadata": {},
   "outputs": [],
   "source": [
    "#sleep(5)\n",
    "cuadrado(200)"
   ]
  },
  {
   "cell_type": "code",
   "execution_count": 4,
   "metadata": {},
   "outputs": [],
   "source": [
    "def abrir_paint():\n",
    "    # Windows\n",
    "    os.system('start mspaint.exe')\n",
    "    sleep(1)\n",
    "    S = pygui.size()\n",
    "    pygui.moveTo(S[0]//2, S[1]//2)"
   ]
  },
  {
   "cell_type": "code",
   "execution_count": 5,
   "metadata": {},
   "outputs": [],
   "source": [
    "def cuadrado_espiral(l, ratio=0.9):\n",
    "    pygui.move(-l//2, -l//2, duration=0.1)\n",
    "    for i in range(50):\n",
    "        l = l*ratio\n",
    "        pygui.drag(l, 0, duration=0.1)\n",
    "        l = l*ratio\n",
    "        pygui.drag(0, l, duration=0.1)\n",
    "        l = l*ratio\n",
    "        pygui.drag(-l, 0, duration=0.1)\n",
    "        l = l*ratio\n",
    "        pygui.drag(0, -l, duration=0.1)\n",
    "        if l < 5:\n",
    "            break"
   ]
  },
  {
   "cell_type": "code",
   "execution_count": 6,
   "metadata": {},
   "outputs": [],
   "source": [
    "import numpy as np\n",
    "\n",
    "def circulo_espiral(r=100, n=2, t=10):\n",
    "    S = pygui.size()\n",
    "    h, k = S[0]//2, S[1]//2\n",
    "    center = (h, k)\n",
    "\n",
    "    max_ = n*np.pi*2\n",
    "    t = np.linspace(0, max_, t)\n",
    "    x = h + (r-t)*np.cos(t)\n",
    "    y = k + (r-t)*np.sin(t)\n",
    "\n",
    "    coords = list(zip(x,y))\n",
    "    pygui.moveTo(coords[0][0], coords[0][1], duration=0)\n",
    "    for c in coords:\n",
    "        x_, y_ = c\n",
    "        pygui.dragTo(x_, y_, _pause=False, duration=1)"
   ]
  },
  {
   "cell_type": "code",
   "execution_count": 7,
   "metadata": {},
   "outputs": [],
   "source": [
    "abrir_paint()\n",
    "sleep(2)\n",
    "circulo_espiral(n=20, t=10, r=100)"
   ]
  },
  {
   "cell_type": "code",
   "execution_count": 14,
   "metadata": {},
   "outputs": [],
   "source": [
    "sleep(2)\n",
    "abrir_paint()\n",
    "cuadrado_espiral(600)"
   ]
  },
  {
   "cell_type": "markdown",
   "metadata": {
    "id": "982Hn1rzk-dc"
   },
   "source": [
    "Ocasionalmente hay algunos casos de uso, pero encontramos obstáculos:\n",
    "\n",
    "- Frágil ante cambios\n",
    "- Método bruto, ad hoc\n",
    "- Solo tareas sencillas\n",
    "\n",
    "Encontraremos el mismo dilema más adelante en _web scraping_, en un extremo el consumo de APIs y en otro la automatización del navegador."
   ]
  },
  {
   "cell_type": "markdown",
   "metadata": {},
   "source": [
    "## Bash y OS"
   ]
  },
  {
   "cell_type": "markdown",
   "metadata": {
    "id": "SF_oDqKmiNQu"
   },
   "source": [
    "### Interactuando con el Sistema Operativo"
   ]
  },
  {
   "cell_type": "code",
   "execution_count": null,
   "metadata": {
    "colab": {
     "base_uri": "https://localhost:8080/",
     "height": 34
    },
    "executionInfo": {
     "elapsed": 1213,
     "status": "ok",
     "timestamp": 1599253791131,
     "user": {
      "displayName": "Matías Grinberg",
      "photoUrl": "",
      "userId": "14116156229443883163"
     },
     "user_tz": 180
    },
    "id": "ouZ6t1KNkiBD",
    "outputId": "8eb1cec9-b75a-486e-f125-a9db042029a0"
   },
   "outputs": [
    {
     "name": "stdout",
     "output_type": "stream",
     "text": [
      "/content\n"
     ]
    }
   ],
   "source": [
    "# Con ! enviamos un comando a la terminal del sistema operativo\n",
    "!pwd"
   ]
  },
  {
   "cell_type": "markdown",
   "metadata": {
    "id": "04nubFEM8bUq"
   },
   "source": [
    "Algunos comandos a saber:\n",
    "\n",
    "- pwd : \"print working directory\"\n",
    "- ls: listar directorio actual\n",
    "- wget: para descargar archivos "
   ]
  },
  {
   "cell_type": "code",
   "execution_count": 13,
   "metadata": {
    "colab": {
     "base_uri": "https://localhost:8080/",
     "height": 437
    },
    "executionInfo": {
     "elapsed": 10325,
     "status": "ok",
     "timestamp": 1599253801378,
     "user": {
      "displayName": "Matías Grinberg",
      "photoUrl": "",
      "userId": "14116156229443883163"
     },
     "user_tz": 180
    },
    "id": "0wV9rYPck9BM",
    "outputId": "381ae8a2-5341-4a48-d244-1a197bba972a"
   },
   "outputs": [],
   "source": [
    "# http://microdatos.dane.gov.co/index.php/catalog/472/get_microdata\n",
    "# http://microdatos.dane.gov.co/index.php/catalog/472/download/20101\n",
    "!wget -O Expo_2021.zip http://microdatos.dane.gov.co/index.php/catalog/472/download/20555\n",
    "#!unzip -Pintalbid expo.zip -d nueva_carpeta"
   ]
  },
  {
   "cell_type": "markdown",
   "metadata": {
    "id": "MVMfYhz0einz"
   },
   "source": [
    "Librería OS"
   ]
  },
  {
   "cell_type": "code",
   "execution_count": null,
   "metadata": {
    "id": "DgSEaZW9iNQv"
   },
   "outputs": [],
   "source": [
    "import os"
   ]
  },
  {
   "cell_type": "markdown",
   "metadata": {
    "id": "6If5x0JViNQ3"
   },
   "source": [
    "```python\n",
    "#Devuelve el \"current working directory\", o directorio actual de trabajo\n",
    "os.getcwd() \n",
    "\n",
    "#Es por \"change directory\", o sea cambiar el directorio actual de trabajo\n",
    "os.chdir(path)\n",
    "\n",
    "#recorre recursivamente el árbol de directorios, empezando por el path. \n",
    "#en cada iteracion devuelve carpeta, [subcarpetas], [archivos]\n",
    "os.walk(path)\n",
    "\n",
    "#crea un directorio\n",
    "os.makedirs(path)\n",
    "\n",
    "#chequea si existe un path\n",
    "os.path.exists(path)\n",
    "\n",
    "#borra un archivo o carpeta vacia\n",
    "os.remove(path)\n",
    "\n",
    "#enumera el contenido del path\n",
    "os.listdir(path)\n",
    "\n",
    "#permite cambiar paths, nombres y extensiones\n",
    "os.rename(path, new_path)\n",
    "\n",
    "# Devuelve la ruta absoluta de una ruta relativa\n",
    "os.path.abspath(path)\n",
    "\n",
    "```"
   ]
  },
  {
   "cell_type": "markdown",
   "metadata": {
    "id": "FZe5B5JbiNQ_"
   },
   "source": [
    "Cuatro maneras de listar la carpeta actual"
   ]
  },
  {
   "cell_type": "code",
   "execution_count": null,
   "metadata": {
    "colab": {
     "base_uri": "https://localhost:8080/",
     "height": 34
    },
    "executionInfo": {
     "elapsed": 8846,
     "status": "ok",
     "timestamp": 1599253801380,
     "user": {
      "displayName": "Matías Grinberg",
      "photoUrl": "",
      "userId": "14116156229443883163"
     },
     "user_tz": 180
    },
    "id": "gGLB3_b4iNRA",
    "outputId": "76fcf49d-d450-4d3b-dc55-e9e1daa91f72"
   },
   "outputs": [
    {
     "name": "stdout",
     "output_type": "stream",
     "text": [
      "expo.zip  nueva_carpeta  sample_data\n"
     ]
    }
   ],
   "source": [
    "# Con la terminal\n",
    "!ls"
   ]
  },
  {
   "cell_type": "code",
   "execution_count": null,
   "metadata": {
    "colab": {
     "base_uri": "https://localhost:8080/",
     "height": 34
    },
    "executionInfo": {
     "elapsed": 8170,
     "status": "ok",
     "timestamp": 1599253801816,
     "user": {
      "displayName": "Matías Grinberg",
      "photoUrl": "",
      "userId": "14116156229443883163"
     },
     "user_tz": 180
    },
    "id": "yNFrArZkiNRH",
    "outputId": "45c89045-695d-4455-c839-0278b4e77fc5"
   },
   "outputs": [
    {
     "name": "stdout",
     "output_type": "stream",
     "text": [
      "expo.zip  nueva_carpeta  sample_data\n"
     ]
    }
   ],
   "source": [
    "!dir"
   ]
  },
  {
   "cell_type": "code",
   "execution_count": null,
   "metadata": {
    "colab": {
     "base_uri": "https://localhost:8080/",
     "height": 34
    },
    "executionInfo": {
     "elapsed": 8024,
     "status": "ok",
     "timestamp": 1599253801817,
     "user": {
      "displayName": "Matías Grinberg",
      "photoUrl": "",
      "userId": "14116156229443883163"
     },
     "user_tz": 180
    },
    "id": "xjTVNxv3iNRL",
    "outputId": "20e2f944-d3d2-439b-dafb-dd72bd6a3657"
   },
   "outputs": [
    {
     "data": {
      "text/plain": [
       "['.config', 'expo.zip', 'nueva_carpeta', 'sample_data']"
      ]
     },
     "execution_count": 9,
     "metadata": {
      "tags": []
     },
     "output_type": "execute_result"
    }
   ],
   "source": [
    "# Con Python\n",
    "# ruta relativa\n",
    "\n",
    "os.listdir('.')"
   ]
  },
  {
   "cell_type": "code",
   "execution_count": null,
   "metadata": {
    "colab": {
     "base_uri": "https://localhost:8080/",
     "height": 34
    },
    "executionInfo": {
     "elapsed": 7887,
     "status": "ok",
     "timestamp": 1599253801819,
     "user": {
      "displayName": "Matías Grinberg",
      "photoUrl": "",
      "userId": "14116156229443883163"
     },
     "user_tz": 180
    },
    "id": "-EvSs838iNRP",
    "outputId": "f7c085e8-a14d-4628-cf40-cf53a0ca1d82"
   },
   "outputs": [
    {
     "data": {
      "text/plain": [
       "['.config', 'expo.zip', 'nueva_carpeta', 'sample_data']"
      ]
     },
     "execution_count": 10,
     "metadata": {
      "tags": []
     },
     "output_type": "execute_result"
    }
   ],
   "source": [
    "# Con Python\n",
    "# ruta absoluta\n",
    "\n",
    "os.listdir(os.getcwd())"
   ]
  },
  {
   "cell_type": "code",
   "execution_count": null,
   "metadata": {
    "id": "dIZeFmG7mdRt"
   },
   "outputs": [],
   "source": []
  },
  {
   "cell_type": "markdown",
   "metadata": {
    "id": "HWckOOvMiNRT"
   },
   "source": [
    "Tres maneras de ver el directorio actual de trabajo"
   ]
  },
  {
   "cell_type": "code",
   "execution_count": null,
   "metadata": {
    "colab": {
     "base_uri": "https://localhost:8080/",
     "height": 35
    },
    "executionInfo": {
     "elapsed": 6598,
     "status": "ok",
     "timestamp": 1599253801821,
     "user": {
      "displayName": "Matías Grinberg",
      "photoUrl": "",
      "userId": "14116156229443883163"
     },
     "user_tz": 180
    },
    "id": "sA_EUomeiNRU",
    "outputId": "ee364cbf-dfb0-4a42-89f2-8d9018949159"
   },
   "outputs": [
    {
     "data": {
      "application/vnd.google.colaboratory.intrinsic+json": {
       "type": "string"
      },
      "text/plain": [
       "'/content'"
      ]
     },
     "execution_count": 11,
     "metadata": {
      "tags": []
     },
     "output_type": "execute_result"
    }
   ],
   "source": [
    "os.getcwd()"
   ]
  },
  {
   "cell_type": "code",
   "execution_count": null,
   "metadata": {
    "colab": {
     "base_uri": "https://localhost:8080/",
     "height": 34
    },
    "executionInfo": {
     "elapsed": 6479,
     "status": "ok",
     "timestamp": 1599253801822,
     "user": {
      "displayName": "Matías Grinberg",
      "photoUrl": "",
      "userId": "14116156229443883163"
     },
     "user_tz": 180
    },
    "id": "yw9af6sdiNRX",
    "outputId": "97e5d068-218e-4dd8-c244-7453881ad3a5"
   },
   "outputs": [
    {
     "name": "stdout",
     "output_type": "stream",
     "text": [
      "/content\n"
     ]
    }
   ],
   "source": [
    "!pwd"
   ]
  },
  {
   "cell_type": "code",
   "execution_count": null,
   "metadata": {
    "colab": {
     "base_uri": "https://localhost:8080/",
     "height": 35
    },
    "executionInfo": {
     "elapsed": 6323,
     "status": "ok",
     "timestamp": 1599253801823,
     "user": {
      "displayName": "Matías Grinberg",
      "photoUrl": "",
      "userId": "14116156229443883163"
     },
     "user_tz": 180
    },
    "id": "5rUz-4q-iNRa",
    "outputId": "0e269e3e-46a2-4783-a5ed-d767c40ebf7a"
   },
   "outputs": [
    {
     "data": {
      "application/vnd.google.colaboratory.intrinsic+json": {
       "type": "string"
      },
      "text/plain": [
       "'/content'"
      ]
     },
     "execution_count": 13,
     "metadata": {
      "tags": []
     },
     "output_type": "execute_result"
    }
   ],
   "source": [
    "os.path.abspath('.')"
   ]
  },
  {
   "cell_type": "markdown",
   "metadata": {
    "id": "_cXrtpQ5oa5I"
   },
   "source": [
    "Ejercicio:\n",
    "\n",
    "Cambiar el directorio de trabajo a 'nueva_carpeta' usando os.chdir"
   ]
  },
  {
   "cell_type": "code",
   "execution_count": null,
   "metadata": {
    "id": "--4h2n1VoYyl"
   },
   "outputs": [],
   "source": [
    "os.chdir('nueva_carpeta')"
   ]
  },
  {
   "cell_type": "markdown",
   "metadata": {
    "id": "HkD4xDJniNRd"
   },
   "source": [
    "Buscamos todos los .zip"
   ]
  },
  {
   "cell_type": "code",
   "execution_count": null,
   "metadata": {
    "colab": {
     "base_uri": "https://localhost:8080/",
     "height": 218
    },
    "executionInfo": {
     "elapsed": 1288,
     "status": "ok",
     "timestamp": 1599253846736,
     "user": {
      "displayName": "Matías Grinberg",
      "photoUrl": "",
      "userId": "14116156229443883163"
     },
     "user_tz": 180
    },
    "id": "gEju4QJiiNRe",
    "outputId": "f4348fc1-077e-4d92-93d0-affedc8fb06e"
   },
   "outputs": [
    {
     "name": "stdout",
     "output_type": "stream",
     "text": [
      "Agosto2018.zip\n",
      "Junio2018.zip\n",
      "Mayo2018.zip\n",
      "Noviembre2018.zip\n",
      "Octubre2018.zip\n",
      "Enero2018.zip\n",
      "Julio2018.zip\n",
      "Septiembre2018.zip\n",
      "Marzo2018.zip\n",
      "Febrero2018.zip\n",
      "Abril2018.zip\n",
      "Diciembre2018.zip\n"
     ]
    }
   ],
   "source": [
    "for elemento in os.listdir('./Expo_2018/'):  \n",
    "  if elemento[-4:] == '.zip':\n",
    "     print(elemento)"
   ]
  },
  {
   "cell_type": "markdown",
   "metadata": {
    "id": "0Rohql9J9VQq"
   },
   "source": [
    "Ahora usando glob"
   ]
  },
  {
   "cell_type": "code",
   "execution_count": null,
   "metadata": {
    "id": "Eo1vXlkZqCeR"
   },
   "outputs": [],
   "source": [
    "from glob import glob"
   ]
  },
  {
   "cell_type": "code",
   "execution_count": null,
   "metadata": {
    "colab": {
     "base_uri": "https://localhost:8080/",
     "height": 218
    },
    "executionInfo": {
     "elapsed": 648,
     "status": "ok",
     "timestamp": 1599253961499,
     "user": {
      "displayName": "Matías Grinberg",
      "photoUrl": "",
      "userId": "14116156229443883163"
     },
     "user_tz": 180
    },
    "id": "UYZgIb2piNRh",
    "outputId": "44dbc555-c0cf-47ce-84a3-60019d1918be"
   },
   "outputs": [
    {
     "data": {
      "text/plain": [
       "['./Expo_2018/Agosto2018.zip',\n",
       " './Expo_2018/Junio2018.zip',\n",
       " './Expo_2018/Mayo2018.zip',\n",
       " './Expo_2018/Noviembre2018.zip',\n",
       " './Expo_2018/Octubre2018.zip',\n",
       " './Expo_2018/Enero2018.zip',\n",
       " './Expo_2018/Julio2018.zip',\n",
       " './Expo_2018/Septiembre2018.zip',\n",
       " './Expo_2018/Marzo2018.zip',\n",
       " './Expo_2018/Febrero2018.zip',\n",
       " './Expo_2018/Abril2018.zip',\n",
       " './Expo_2018/Diciembre2018.zip']"
      ]
     },
     "execution_count": 32,
     "metadata": {
      "tags": []
     },
     "output_type": "execute_result"
    }
   ],
   "source": [
    "datos_path = './Expo_2018/' \n",
    "zip_files = glob(datos_path + '/*.zip')\n",
    "zip_files"
   ]
  },
  {
   "cell_type": "markdown",
   "metadata": {
    "id": "e0Qq8sfCWTX1"
   },
   "source": [
    "Hacemos un búcle para recorrer los archivos .zip y descomprimirlos en carpetas correspondientes"
   ]
  },
  {
   "cell_type": "code",
   "execution_count": null,
   "metadata": {
    "colab": {
     "base_uri": "https://localhost:8080/",
     "height": 218
    },
    "executionInfo": {
     "elapsed": 2596,
     "status": "ok",
     "timestamp": 1599253965826,
     "user": {
      "displayName": "Matías Grinberg",
      "photoUrl": "",
      "userId": "14116156229443883163"
     },
     "user_tz": 180
    },
    "id": "5blLmM2HiNRk",
    "outputId": "b5a4bd68-f0e7-4b1e-f740-51d265170ba6"
   },
   "outputs": [
    {
     "name": "stdout",
     "output_type": "stream",
     "text": [
      "./Expo_2018/Agosto2018\n",
      "./Expo_2018/Junio2018\n",
      "./Expo_2018/Mayo2018\n",
      "./Expo_2018/Noviembre2018\n",
      "./Expo_2018/Octubre2018\n",
      "./Expo_2018/Enero2018\n",
      "./Expo_2018/Julio2018\n",
      "./Expo_2018/Septiembre2018\n",
      "./Expo_2018/Marzo2018\n",
      "./Expo_2018/Febrero2018\n",
      "./Expo_2018/Abril2018\n",
      "./Expo_2018/Diciembre2018\n"
     ]
    }
   ],
   "source": [
    "import zipfile\n",
    "\n",
    "# Recorremos la lista de zips\n",
    "\n",
    "for f in zip_files:\n",
    "\n",
    "    # Definimos el nombre de la nueva carpeta en una variable\n",
    "    # Es la misma ruta \"f\" pero sin el \".zip\"\n",
    "\n",
    "    new_dir = f.replace('.zip', '')\n",
    "    print(new_dir)\n",
    "\n",
    "    # Extraemos en la nueva carpeta\n",
    "    with zipfile.ZipFile(f, \"r\") as zip_ref:\n",
    "        zip_ref.extractall(new_dir)      "
   ]
  },
  {
   "cell_type": "code",
   "execution_count": null,
   "metadata": {
    "colab": {
     "base_uri": "https://localhost:8080/",
     "height": 420
    },
    "executionInfo": {
     "elapsed": 1173,
     "status": "ok",
     "timestamp": 1599253983213,
     "user": {
      "displayName": "Matías Grinberg",
      "photoUrl": "",
      "userId": "14116156229443883163"
     },
     "user_tz": 180
    },
    "id": "4hvqYHIbo9oc",
    "outputId": "65e5f6a6-c5aa-4eb9-9384-de51a17cfb7a"
   },
   "outputs": [
    {
     "data": {
      "text/plain": [
       "['Agosto2018.zip',\n",
       " 'Abril2018',\n",
       " 'Junio2018.zip',\n",
       " 'Febrero2018',\n",
       " 'Agosto2018',\n",
       " 'Mayo2018.zip',\n",
       " 'Noviembre2018.zip',\n",
       " 'Marzo2018',\n",
       " 'Octubre2018.zip',\n",
       " 'Enero2018.zip',\n",
       " 'Julio2018',\n",
       " 'Octubre2018',\n",
       " 'Junio2018',\n",
       " 'Julio2018.zip',\n",
       " 'Septiembre2018',\n",
       " 'Septiembre2018.zip',\n",
       " 'Marzo2018.zip',\n",
       " 'Noviembre2018',\n",
       " 'Enero2018',\n",
       " 'Febrero2018.zip',\n",
       " 'Abril2018.zip',\n",
       " 'Diciembre2018.zip',\n",
       " 'Mayo2018',\n",
       " 'Diciembre2018']"
      ]
     },
     "execution_count": 35,
     "metadata": {
      "tags": []
     },
     "output_type": "execute_result"
    }
   ],
   "source": [
    "# Vemos que ya estan los .zips, y carpetas correspondientes\n",
    "os.listdir('Expo_2018')"
   ]
  },
  {
   "cell_type": "markdown",
   "metadata": {
    "id": "HQJV7LDwiNRp"
   },
   "source": [
    "```\n",
    ".\n",
    "├── Expo_2018\n",
    "│   ├── Abril2018\n",
    "│   │   ├── Abril.csv\n",
    "│   │   ├── Abril.dta\n",
    "│   │   └── Abril.sav\n",
    "│   ├── Abril2018.zip\n",
    "\n",
    "...\n",
    "\n",
    "│   ├── Octubre2018\n",
    "│   │   ├── Octubre 2018.csv\n",
    "│   │   ├── Octubre 2018.dta\n",
    "│   │   └── Octubre 2018.sav\n",
    "│   ├── Octubre2018.zip\n",
    "│   ├── sav_2018\n",
    "│   ├── Septiembre2018\n",
    "│   │   ├── Septiembre.csv\n",
    "│   │   ├── Septiembre.dta\n",
    "│   │   └── Septiembre.sav\n",
    "│   └── Septiembre2018.zip\n",
    "\n",
    "```"
   ]
  },
  {
   "cell_type": "code",
   "execution_count": null,
   "metadata": {
    "colab": {
     "base_uri": "https://localhost:8080/",
     "height": 218
    },
    "executionInfo": {
     "elapsed": 925,
     "status": "ok",
     "timestamp": 1599254009657,
     "user": {
      "displayName": "Matías Grinberg",
      "photoUrl": "",
      "userId": "14116156229443883163"
     },
     "user_tz": 180
    },
    "id": "YTZWE8GpiNRq",
    "outputId": "f12cd676-f0f4-431d-a054-019cc2dff4b4"
   },
   "outputs": [
    {
     "data": {
      "text/plain": [
       "['./Expo_2018/Abril2018/Abril.sav',\n",
       " './Expo_2018/Febrero2018/Febrero.sav',\n",
       " './Expo_2018/Agosto2018/Agosto.sav',\n",
       " './Expo_2018/Marzo2018/Marzo.sav',\n",
       " './Expo_2018/Julio2018/Julio.sav',\n",
       " './Expo_2018/Octubre2018/Octubre 2018.sav',\n",
       " './Expo_2018/Junio2018/Junio.sav',\n",
       " './Expo_2018/Septiembre2018/Septiembre.sav',\n",
       " './Expo_2018/Noviembre2018/Noviembre 2018.sav',\n",
       " './Expo_2018/Enero2018/Enero.sav',\n",
       " './Expo_2018/Mayo2018/Mayo.sav',\n",
       " './Expo_2018/Diciembre2018/Diciembre.sav']"
      ]
     },
     "execution_count": 36,
     "metadata": {
      "tags": []
     },
     "output_type": "execute_result"
    }
   ],
   "source": [
    "# Buscamos los archivos del tipo que queremos usando glob\n",
    "# Podemos cambiar el tipo cambiando la siguiente variable\n",
    "\n",
    "# tipo = 'dta'\n",
    "# tipo = 'csv'\n",
    "tipo = 'sav'\n",
    "\n",
    "datos = glob(f'{datos_path}/*/*{tipo}' )\n",
    "datos"
   ]
  },
  {
   "cell_type": "code",
   "execution_count": null,
   "metadata": {
    "id": "L8oJ93FBiNRs"
   },
   "outputs": [],
   "source": [
    "# Chequeamos si la carpeta ya existe, y si no creamos una carpeta para guardar todos archivos los de ese tipo \n",
    "\n",
    "if not os.path.exists(datos_path + '/' + tipo + '_2018'):\n",
    "    os.mkdir(datos_path + tipo + '_2018')"
   ]
  },
  {
   "cell_type": "code",
   "execution_count": null,
   "metadata": {
    "colab": {
     "base_uri": "https://localhost:8080/",
     "height": 134
    },
    "executionInfo": {
     "elapsed": 1013,
     "status": "ok",
     "timestamp": 1599254016760,
     "user": {
      "displayName": "Matías Grinberg",
      "photoUrl": "",
      "userId": "14116156229443883163"
     },
     "user_tz": 180
    },
    "id": "NRqnYuo-p3w8",
    "outputId": "48e34bb3-3e46-4e2f-bdbd-ee02a7168178"
   },
   "outputs": [
    {
     "name": "stdout",
     "output_type": "stream",
     "text": [
      "Abril2018\t   Enero2018.zip    Marzo2018\t       Octubre2018.zip\n",
      "Abril2018.zip\t   Febrero2018\t    Marzo2018.zip      sav_2018\n",
      "Agosto2018\t   Febrero2018.zip  Mayo2018\t       Septiembre2018\n",
      "Agosto2018.zip\t   Julio2018\t    Mayo2018.zip       Septiembre2018.zip\n",
      "Diciembre2018\t   Julio2018.zip    Noviembre2018\n",
      "Diciembre2018.zip  Junio2018\t    Noviembre2018.zip\n",
      "Enero2018\t   Junio2018.zip    Octubre2018\n"
     ]
    }
   ],
   "source": [
    "# Vemos que se creó la carpeta \"sav_2018\"\n",
    "\n",
    "!ls Expo_2018"
   ]
  },
  {
   "cell_type": "code",
   "execution_count": null,
   "metadata": {
    "id": "PTcSkRliiNRv"
   },
   "outputs": [],
   "source": [
    "# Movemos todos los que los archivos de ese tipo a la nueva carpeta\n",
    "# Podemos chequear si ya está en la carpeta con os.path.exists \n",
    "\n",
    "for d in datos:\n",
    "    # Definimos en una variable cuál va a ser la nueva ruta\n",
    "    new_path = datos_path + tipo + '_2018/' + d.split('/')[-1]\n",
    "    if not os.path.exists(new_path):\n",
    "        os.rename(d, new_path)"
   ]
  },
  {
   "cell_type": "code",
   "execution_count": null,
   "metadata": {
    "colab": {
     "base_uri": "https://localhost:8080/",
     "height": 67
    },
    "executionInfo": {
     "elapsed": 994,
     "status": "ok",
     "timestamp": 1599254057073,
     "user": {
      "displayName": "Matías Grinberg",
      "photoUrl": "",
      "userId": "14116156229443883163"
     },
     "user_tz": 180
    },
    "id": "KsA9YdhBp80Y",
    "outputId": "321d55e9-939b-4a99-d2dd-9a29929d6090"
   },
   "outputs": [
    {
     "name": "stdout",
     "output_type": "stream",
     "text": [
      " Abril.sav\t Enero.sav     Junio.sav  'Noviembre 2018.sav'\n",
      " Agosto.sav\t Febrero.sav   Marzo.sav  'Octubre 2018.sav'\n",
      " Diciembre.sav\t Julio.sav     Mayo.sav    Septiembre.sav\n"
     ]
    }
   ],
   "source": [
    "# Listamos los archivos dentro de la nueva carpeta\n",
    "\n",
    "!ls {datos_path}/{tipo}_2018"
   ]
  },
  {
   "cell_type": "markdown",
   "metadata": {
    "id": "tYtQI6RaiNR2"
   },
   "source": [
    "```\n",
    ".\n",
    "├── Expo_2018\n",
    "│   ├── Abril2018\n",
    "│   │   ├── Abril.csv\n",
    "│   │   └── Abril.dta\n",
    "│   ├── Abril2018.zip\n",
    "│   ├── Agosto2018\n",
    "│   │   ├── Agosto.csv\n",
    "\n",
    "...\n",
    "\n",
    "│   ├── Octubre2018\n",
    "│   │   ├── Octubre 2018.csv\n",
    "│   │   └── Octubre 2018.dta\n",
    "│   ├── Octubre2018.zip\n",
    "│   ├── sav_2018\n",
    "│   │   ├── Abril.sav\n",
    "│   │   ├── Agosto.sav\n",
    "│   │   ├── Diciembre.sav\n",
    "│   │   ├── Enero.sav\n",
    "│   │   ├── Febrero.sav\n",
    "│   │   ├── Julio.sav\n",
    "│   │   ├── Junio.sav\n",
    "│   │   ├── Marzo.sav\n",
    "│   │   ├── Mayo.sav\n",
    "│   │   ├── Noviembre 2018.sav\n",
    "│   │   ├── Octubre 2018.sav\n",
    "│   │   └── Septiembre.sav\n",
    "│   ├── Septiembre2018\n",
    "│   │   ├── Septiembre.csv\n",
    "│   │   └── Septiembre.dta\n",
    "│   └── Septiembre2018.zip\n",
    "```"
   ]
  },
  {
   "cell_type": "markdown",
   "metadata": {
    "id": "qaIyV9BPiNR2"
   },
   "source": [
    "En dos casos puede ser necesario recurrir a otra librería, _shutil_\n",
    "\n",
    "Estos casos son:\n",
    "\n",
    "- copyfile: para copiar archivos\n",
    "- rmtree: para borrar directorios\n",
    "\n",
    "Usaremos esta 2da función para limpiar los archivos que extrajimos y no necesitamos"
   ]
  },
  {
   "cell_type": "markdown",
   "metadata": {
    "id": "23irq3_MiNR3"
   },
   "source": [
    "```python\n",
    "from shutil import copyfile\n",
    "copyfile(src, dst)\n",
    "```"
   ]
  },
  {
   "cell_type": "code",
   "execution_count": null,
   "metadata": {
    "colab": {
     "base_uri": "https://localhost:8080/",
     "height": 225
    },
    "executionInfo": {
     "elapsed": 1040,
     "status": "ok",
     "timestamp": 1599254277625,
     "user": {
      "displayName": "Matías Grinberg",
      "photoUrl": "",
      "userId": "14116156229443883163"
     },
     "user_tz": 180
    },
    "id": "3UPCRzGIiNR3",
    "outputId": "fcd86e09-ae5b-4405-f827-6e5ce90920bc"
   },
   "outputs": [
    {
     "name": "stdout",
     "output_type": "stream",
     "text": [
      "/content/nueva_carpeta/Expo_2018/Agosto2018\n",
      "/content/nueva_carpeta/Expo_2018/Junio2018\n",
      "/content/nueva_carpeta/Expo_2018/Mayo2018\n",
      "/content/nueva_carpeta/Expo_2018/Noviembre2018\n",
      "/content/nueva_carpeta/Expo_2018/Octubre2018\n",
      "/content/nueva_carpeta/Expo_2018/Enero2018\n",
      "/content/nueva_carpeta/Expo_2018/Julio2018\n",
      "/content/nueva_carpeta/Expo_2018/Septiembre2018\n",
      "/content/nueva_carpeta/Expo_2018/Marzo2018\n",
      "/content/nueva_carpeta/Expo_2018/Febrero2018\n",
      "/content/nueva_carpeta/Expo_2018/Abril2018\n",
      "/content/nueva_carpeta/Expo_2018/Diciembre2018\n"
     ]
    }
   ],
   "source": [
    "import shutil\n",
    "\n",
    "for f in zip_files:\n",
    "    \n",
    "    # ¡CUIDADO!\n",
    "    # Estas funciones de borrar y renombrar son potencialmente peligrosas\n",
    "    # Antes de ejecutarlas con una ruta, pueden hacer un print para asegurarse de qué se haría\n",
    "    \n",
    "    # Borramos las carpetas de más, para eso\n",
    "    # buscamos la ruta absoluta del zip. \n",
    "    # Sabemos que carpeta donde se extrajo se llama igual pero sin .zip\n",
    "    zip_dir = os.path.abspath(f).split('.')[0]\n",
    "    \n",
    "    print('Borrando...', zip_dir)\n",
    "\n",
    "    shutil.rmtree(zip_dir)\n",
    "\n",
    "    # Borramos también los .zip\n",
    "    os.remove(f)"
   ]
  },
  {
   "cell_type": "code",
   "execution_count": null,
   "metadata": {
    "colab": {
     "base_uri": "https://localhost:8080/",
     "height": 35
    },
    "executionInfo": {
     "elapsed": 1297,
     "status": "ok",
     "timestamp": 1599254294810,
     "user": {
      "displayName": "Matías Grinberg",
      "photoUrl": "",
      "userId": "14116156229443883163"
     },
     "user_tz": 180
    },
    "id": "ot8inQ4rpWHA",
    "outputId": "75e831aa-86b3-4fe7-e37f-3bd0b366f685"
   },
   "outputs": [
    {
     "name": "stdout",
     "output_type": "stream",
     "text": [
      "sav_2018\n"
     ]
    }
   ],
   "source": [
    "# Nos queda solo la carpeta con todos los archivos del tipo elegido, ordenados\n",
    "\n",
    "!ls {datos_path}"
   ]
  },
  {
   "cell_type": "markdown",
   "metadata": {
    "id": "QylEEWr6_HEp"
   },
   "source": [
    "Cargamos los datos a un DataFrame"
   ]
  },
  {
   "cell_type": "code",
   "execution_count": null,
   "metadata": {
    "colab": {
     "base_uri": "https://localhost:8080/",
     "height": 225
    },
    "executionInfo": {
     "elapsed": 649,
     "status": "ok",
     "timestamp": 1599254419185,
     "user": {
      "displayName": "Matías Grinberg",
      "photoUrl": "",
      "userId": "14116156229443883163"
     },
     "user_tz": 180
    },
    "id": "PjzSMfA_iNSE",
    "outputId": "5249385a-0e8e-44b6-e443-a00787629ca9"
   },
   "outputs": [
    {
     "data": {
      "text/plain": [
       "['./Expo_2018/sav_2018/Septiembre.sav',\n",
       " './Expo_2018/sav_2018/Diciembre.sav',\n",
       " './Expo_2018/sav_2018/Febrero.sav',\n",
       " './Expo_2018/sav_2018/Octubre 2018.sav',\n",
       " './Expo_2018/sav_2018/Noviembre 2018.sav',\n",
       " './Expo_2018/sav_2018/Enero.sav',\n",
       " './Expo_2018/sav_2018/Mayo.sav',\n",
       " './Expo_2018/sav_2018/Agosto.sav',\n",
       " './Expo_2018/sav_2018/Julio.sav',\n",
       " './Expo_2018/sav_2018/Marzo.sav',\n",
       " './Expo_2018/sav_2018/Junio.sav',\n",
       " './Expo_2018/sav_2018/Abril.sav']"
      ]
     },
     "execution_count": 49,
     "metadata": {
      "tags": []
     },
     "output_type": "execute_result"
    }
   ],
   "source": [
    "from glob import glob\n",
    "\n",
    "rutas_datos = glob(datos_path + '/*/*' + tipo)\n",
    "rutas_datos"
   ]
  },
  {
   "cell_type": "markdown",
   "metadata": {
    "id": "JtF9Jpr7iNSJ"
   },
   "source": [
    "Leemos 3 tipos de datos:\n",
    "- Stata\n",
    "- SPSS\n",
    "- csv"
   ]
  },
  {
   "cell_type": "code",
   "execution_count": null,
   "metadata": {
    "id": "VYkMS2KLiNSK"
   },
   "outputs": [],
   "source": [
    "import pandas as pd\n",
    "\n",
    "datos = []\n",
    "\n",
    "for r in rutas_datos:\n",
    "\n",
    "    if tipo == 'dta':\n",
    "        # En el caso de stata necesitamos instalar la siguiente librería\n",
    "        !pip install pyreadstat\n",
    "        import pyreadstat\n",
    "\n",
    "        df, metadata = pyreadstat.read_dta(r)    \n",
    "\n",
    "    elif tipo == 'sav':\n",
    "        df = pd.read_spss(r)\n",
    "\n",
    "    elif tipo == 'csv':\n",
    "        df = pd.read_csv(r, delimiter = ';')\n",
    "\n",
    "    else:\n",
    "        print('Otro tipo!')\n",
    "\n",
    "datos.append(df)\n",
    "\n",
    "dataframe_total = pd.concat(datos)\n",
    "dataframe_total.to_csv('todos.csv')"
   ]
  },
  {
   "cell_type": "code",
   "execution_count": null,
   "metadata": {
    "colab": {
     "base_uri": "https://localhost:8080/",
     "height": 279
    },
    "executionInfo": {
     "elapsed": 1573,
     "status": "ok",
     "timestamp": 1599254472131,
     "user": {
      "displayName": "Matías Grinberg",
      "photoUrl": "",
      "userId": "14116156229443883163"
     },
     "user_tz": 180
    },
    "id": "rua4C1yniNSM",
    "outputId": "060f6327-0d5c-4976-dc68-3d8ac7cbd227"
   },
   "outputs": [
    {
     "data": {
      "text/html": [
       "<div>\n",
       "<style scoped>\n",
       "    .dataframe tbody tr th:only-of-type {\n",
       "        vertical-align: middle;\n",
       "    }\n",
       "\n",
       "    .dataframe tbody tr th {\n",
       "        vertical-align: top;\n",
       "    }\n",
       "\n",
       "    .dataframe thead th {\n",
       "        text-align: right;\n",
       "    }\n",
       "</style>\n",
       "<table border=\"1\" class=\"dataframe\">\n",
       "  <thead>\n",
       "    <tr style=\"text-align: right;\">\n",
       "      <th></th>\n",
       "      <th>FECH</th>\n",
       "      <th>ADUA</th>\n",
       "      <th>PAIS</th>\n",
       "      <th>COD_PAI4</th>\n",
       "      <th>COD_SAL1</th>\n",
       "      <th>COD_SAL</th>\n",
       "      <th>DPTO2</th>\n",
       "      <th>VIA</th>\n",
       "      <th>BANDERA</th>\n",
       "      <th>REGIM</th>\n",
       "      <th>MODAD</th>\n",
       "      <th>FINALID</th>\n",
       "      <th>CER_ORI1</th>\n",
       "      <th>SISESP</th>\n",
       "      <th>POSAR</th>\n",
       "      <th>DPTO1</th>\n",
       "      <th>UNID</th>\n",
       "      <th>CODUNI2</th>\n",
       "      <th>CANTI</th>\n",
       "      <th>PBK</th>\n",
       "      <th>PNK</th>\n",
       "      <th>FOBDOL</th>\n",
       "      <th>FOBPES</th>\n",
       "      <th>AGRENA</th>\n",
       "      <th>FLETES</th>\n",
       "      <th>SEGURO</th>\n",
       "      <th>OTROSG</th>\n",
       "      <th>NIT</th>\n",
       "      <th>RAZ_SIAL</th>\n",
       "    </tr>\n",
       "  </thead>\n",
       "  <tbody>\n",
       "    <tr>\n",
       "      <th>34570</th>\n",
       "      <td>1812.0</td>\n",
       "      <td>Cali</td>\n",
       "      <td>317</td>\n",
       "      <td>GTM</td>\n",
       "      <td>3.0</td>\n",
       "      <td>BOGOTA</td>\n",
       "      <td>VALLE DEL CAUCA</td>\n",
       "      <td>4.0</td>\n",
       "      <td>580.0</td>\n",
       "      <td>1.0</td>\n",
       "      <td>198.0</td>\n",
       "      <td>1.0</td>\n",
       "      <td>8.0</td>\n",
       "      <td>1.0</td>\n",
       "      <td>6.204630e+09</td>\n",
       "      <td>76.0</td>\n",
       "      <td>11.0</td>\n",
       "      <td>U</td>\n",
       "      <td>70.00</td>\n",
       "      <td>32.59</td>\n",
       "      <td>29.64</td>\n",
       "      <td>1742.00</td>\n",
       "      <td>5550768.36</td>\n",
       "      <td>1070.31</td>\n",
       "      <td>0.0</td>\n",
       "      <td>0.0</td>\n",
       "      <td>0.0</td>\n",
       "      <td>805003626</td>\n",
       "      <td>STF GROUP S.A.</td>\n",
       "    </tr>\n",
       "    <tr>\n",
       "      <th>30471</th>\n",
       "      <td>1808.0</td>\n",
       "      <td>Cartagena</td>\n",
       "      <td>580</td>\n",
       "      <td>PAN</td>\n",
       "      <td>6.0</td>\n",
       "      <td>CARTAGENA</td>\n",
       "      <td>BOGOTA</td>\n",
       "      <td>1.0</td>\n",
       "      <td>580.0</td>\n",
       "      <td>1.0</td>\n",
       "      <td>198.0</td>\n",
       "      <td>1.0</td>\n",
       "      <td>8.0</td>\n",
       "      <td>2.0</td>\n",
       "      <td>3.305900e+09</td>\n",
       "      <td>11.0</td>\n",
       "      <td>33.0</td>\n",
       "      <td>KG</td>\n",
       "      <td>849.94</td>\n",
       "      <td>965.99</td>\n",
       "      <td>849.94</td>\n",
       "      <td>11471.51</td>\n",
       "      <td>33660966.50</td>\n",
       "      <td>0.00</td>\n",
       "      <td>0.0</td>\n",
       "      <td>0.0</td>\n",
       "      <td>0.0</td>\n",
       "      <td>79421317</td>\n",
       "      <td>BUITRAGO BUITRAGO CARLOS</td>\n",
       "    </tr>\n",
       "    <tr>\n",
       "      <th>6953</th>\n",
       "      <td>1808.0</td>\n",
       "      <td>Especial de Aduanas de Bogotá</td>\n",
       "      <td>309</td>\n",
       "      <td>GLP</td>\n",
       "      <td>3.0</td>\n",
       "      <td>BOGOTA</td>\n",
       "      <td>ANTIOQUIA</td>\n",
       "      <td>4.0</td>\n",
       "      <td>249.0</td>\n",
       "      <td>1.0</td>\n",
       "      <td>198.0</td>\n",
       "      <td>1.0</td>\n",
       "      <td>6.0</td>\n",
       "      <td>1.0</td>\n",
       "      <td>6.031500e+08</td>\n",
       "      <td>5.0</td>\n",
       "      <td>11.0</td>\n",
       "      <td>U</td>\n",
       "      <td>2790.00</td>\n",
       "      <td>290.23</td>\n",
       "      <td>280.00</td>\n",
       "      <td>1980.65</td>\n",
       "      <td>5980671.70</td>\n",
       "      <td>1980.65</td>\n",
       "      <td>0.0</td>\n",
       "      <td>0.0</td>\n",
       "      <td>0.0</td>\n",
       "      <td>800160435</td>\n",
       "      <td>FLORES DE LA CAMPIÑA S.A.S.</td>\n",
       "    </tr>\n",
       "  </tbody>\n",
       "</table>\n",
       "</div>"
      ],
      "text/plain": [
       "         FECH  ...                     RAZ_SIAL\n",
       "34570  1812.0  ...               STF GROUP S.A.\n",
       "30471  1808.0  ...     BUITRAGO BUITRAGO CARLOS\n",
       "6953   1808.0  ...  FLORES DE LA CAMPIÑA S.A.S.\n",
       "\n",
       "[3 rows x 29 columns]"
      ]
     },
     "execution_count": 52,
     "metadata": {
      "tags": []
     },
     "output_type": "execute_result"
    }
   ],
   "source": [
    "dataframe_total.sample(3)"
   ]
  },
  {
   "cell_type": "code",
   "execution_count": null,
   "metadata": {
    "colab": {
     "base_uri": "https://localhost:8080/",
     "height": 294
    },
    "executionInfo": {
     "elapsed": 2201,
     "status": "ok",
     "timestamp": 1599254472774,
     "user": {
      "displayName": "Matías Grinberg",
      "photoUrl": "",
      "userId": "14116156229443883163"
     },
     "user_tz": 180
    },
    "id": "UYZ9tChwieV6",
    "outputId": "c184eac4-5c66-4d82-c457-14f243459e7d"
   },
   "outputs": [
    {
     "data": {
      "image/png": "[encoded data removed]",
      "text/plain": [
       "<Figure size 432x288 with 1 Axes>"
      ]
     },
     "metadata": {
      "needs_background": "light",
      "tags": []
     },
     "output_type": "display_data"
    }
   ],
   "source": [
    "dataframe_total.groupby('COD_PAI4')\\\n",
    "  .count()['CANTI']   \\\n",
    "  .sort_values()      \\\n",
    "  .iloc[-10:]         \\\n",
    "  .plot.bar();"
   ]
  },
  {
   "cell_type": "code",
   "execution_count": null,
   "metadata": {
    "id": "kjlx1TxE0pb1"
   },
   "outputs": [],
   "source": []
  },
  {
   "cell_type": "markdown",
   "metadata": {
    "id": "_8uLDuyoa1co"
   },
   "source": [
    "# Más práctica\n",
    "\n",
    "Ejercicio:\n",
    "\n",
    "1) Tomar la lista de temas del Google Sheets\n",
    "\n",
    "2) Crear una carpeta con su nombre en \"title case\"\n",
    "\n",
    "3) Dentro de cada carpeta, guardar los datos de tendencias para el día de \n",
    "\n",
    "Para acceder al Google Sheets necesitan primero subir el archivo \"alumnos.json\" ejecutando la siguiente celda:"
   ]
  },
  {
   "cell_type": "code",
   "execution_count": null,
   "metadata": {
    "id": "fsoD4BUNAJ0p"
   },
   "outputs": [],
   "source": [
    "from google.colab import files\n",
    "files.upload()"
   ]
  },
  {
   "cell_type": "markdown",
   "metadata": {
    "id": "JRqtu27AAPH1"
   },
   "source": [
    "Luego de ejecutar la siguiente celda, clickear \"restart runtime\" para que se actualice la librería gspread\n"
   ]
  },
  {
   "cell_type": "code",
   "execution_count": null,
   "metadata": {
    "colab": {
     "base_uri": "https://localhost:8080/",
     "height": 306
    },
    "executionInfo": {
     "elapsed": 3615,
     "status": "ok",
     "timestamp": 1599849146697,
     "user": {
      "displayName": "Matías Grinberg",
      "photoUrl": "",
      "userId": "14116156229443883163"
     },
     "user_tz": 180
    },
    "id": "M1b_sHupZOn8",
    "outputId": "13a9038b-5578-463e-b53a-36ce039aef14"
   },
   "outputs": [
    {
     "name": "stdout",
     "output_type": "stream",
     "text": [
      "Requirement already up-to-date: gspread in /usr/local/lib/python3.6/dist-packages (3.6.0)\n",
      "Requirement already satisfied, skipping upgrade: google-auth-oauthlib>=0.4.1 in /usr/local/lib/python3.6/dist-packages (from gspread) (0.4.1)\n",
      "Requirement already satisfied, skipping upgrade: requests>=2.2.1 in /usr/local/lib/python3.6/dist-packages (from gspread) (2.23.0)\n",
      "Requirement already satisfied, skipping upgrade: google-auth>=1.12.0 in /usr/local/lib/python3.6/dist-packages (from gspread) (1.17.2)\n",
      "Requirement already satisfied, skipping upgrade: requests-oauthlib>=0.7.0 in /usr/local/lib/python3.6/dist-packages (from google-auth-oauthlib>=0.4.1->gspread) (1.3.0)\n",
      "Requirement already satisfied, skipping upgrade: chardet<4,>=3.0.2 in /usr/local/lib/python3.6/dist-packages (from requests>=2.2.1->gspread) (3.0.4)\n",
      "Requirement already satisfied, skipping upgrade: idna<3,>=2.5 in /usr/local/lib/python3.6/dist-packages (from requests>=2.2.1->gspread) (2.10)\n",
      "Requirement already satisfied, skipping upgrade: urllib3!=1.25.0,!=1.25.1,<1.26,>=1.21.1 in /usr/local/lib/python3.6/dist-packages (from requests>=2.2.1->gspread) (1.24.3)\n",
      "Requirement already satisfied, skipping upgrade: certifi>=2017.4.17 in /usr/local/lib/python3.6/dist-packages (from requests>=2.2.1->gspread) (2020.6.20)\n",
      "Requirement already satisfied, skipping upgrade: pyasn1-modules>=0.2.1 in /usr/local/lib/python3.6/dist-packages (from google-auth>=1.12.0->gspread) (0.2.8)\n",
      "Requirement already satisfied, skipping upgrade: setuptools>=40.3.0 in /usr/local/lib/python3.6/dist-packages (from google-auth>=1.12.0->gspread) (49.6.0)\n",
      "Requirement already satisfied, skipping upgrade: six>=1.9.0 in /usr/local/lib/python3.6/dist-packages (from google-auth>=1.12.0->gspread) (1.15.0)\n",
      "Requirement already satisfied, skipping upgrade: rsa<5,>=3.1.4; python_version >= \"3\" in /usr/local/lib/python3.6/dist-packages (from google-auth>=1.12.0->gspread) (4.6)\n",
      "Requirement already satisfied, skipping upgrade: cachetools<5.0,>=2.0.0 in /usr/local/lib/python3.6/dist-packages (from google-auth>=1.12.0->gspread) (4.1.1)\n",
      "Requirement already satisfied, skipping upgrade: oauthlib>=3.0.0 in /usr/local/lib/python3.6/dist-packages (from requests-oauthlib>=0.7.0->google-auth-oauthlib>=0.4.1->gspread) (3.1.0)\n",
      "Requirement already satisfied, skipping upgrade: pyasn1<0.5.0,>=0.4.6 in /usr/local/lib/python3.6/dist-packages (from pyasn1-modules>=0.2.1->google-auth>=1.12.0->gspread) (0.4.8)\n"
     ]
    }
   ],
   "source": [
    "import gspread\n",
    "# Local\n",
    "!pip install gspread --upgrade\n",
    "gc = gspread.service_account(filename='./alumnos.json')"
   ]
  },
  {
   "cell_type": "code",
   "execution_count": null,
   "metadata": {
    "id": "YSjr1naEZhYw"
   },
   "outputs": [],
   "source": [
    "# Abrimos el g-sheet y descargamos los datos como una lista de diccionarios\n",
    "\n",
    "sh = gc.open(\"BID/INTAL\")\n",
    "data = sh.sheet1.get_all_records()"
   ]
  },
  {
   "cell_type": "code",
   "execution_count": null,
   "metadata": {
    "colab": {
     "base_uri": "https://localhost:8080/",
     "height": 84
    },
    "executionInfo": {
     "elapsed": 952,
     "status": "ok",
     "timestamp": 1599851555513,
     "user": {
      "displayName": "Matías Grinberg",
      "photoUrl": "",
      "userId": "14116156229443883163"
     },
     "user_tz": 180
    },
    "id": "W2A8zPTP3tUh",
    "outputId": "f828d8cd-bb58-442b-e7f3-47ae8be996e8"
   },
   "outputs": [
    {
     "data": {
      "text/plain": [
       "{'Enviado': '',\n",
       " 'Mail': 'barafani.magdalena@gmail.com',\n",
       " 'Nombre': 'Magdalena Barafani',\n",
       " 'Tema': 'estadísticas laborales'}"
      ]
     },
     "execution_count": 20,
     "metadata": {
      "tags": []
     },
     "output_type": "execute_result"
    }
   ],
   "source": [
    "data[0]"
   ]
  },
  {
   "cell_type": "markdown",
   "metadata": {
    "id": "j5cS3apfAYVB"
   },
   "source": [
    "La siguiente celda prepara y define una función _get_trends_ para buscar tendencias de Google. La misma recibe una búsqueda y devuelve un diccionario con los datos de las tendencias."
   ]
  },
  {
   "cell_type": "code",
   "execution_count": null,
   "metadata": {
    "colab": {
     "base_uri": "https://localhost:8080/",
     "height": 218
    },
    "executionInfo": {
     "elapsed": 4548,
     "status": "ok",
     "timestamp": 1599851570350,
     "user": {
      "displayName": "Matías Grinberg",
      "photoUrl": "",
      "userId": "14116156229443883163"
     },
     "user_tz": 180
    },
    "id": "LAiwUTATaBvu",
    "outputId": "80a13760-9e6c-46b7-a188-afed2d1407d4"
   },
   "outputs": [
    {
     "name": "stdout",
     "output_type": "stream",
     "text": [
      "Requirement already satisfied: pytrends in /usr/local/lib/python3.6/dist-packages (4.7.3)\n",
      "Requirement already satisfied: requests in /usr/local/lib/python3.6/dist-packages (from pytrends) (2.23.0)\n",
      "Requirement already satisfied: lxml in /usr/local/lib/python3.6/dist-packages (from pytrends) (4.2.6)\n",
      "Requirement already satisfied: pandas>=0.25 in /usr/local/lib/python3.6/dist-packages (from pytrends) (1.0.5)\n",
      "Requirement already satisfied: urllib3!=1.25.0,!=1.25.1,<1.26,>=1.21.1 in /usr/local/lib/python3.6/dist-packages (from requests->pytrends) (1.24.3)\n",
      "Requirement already satisfied: chardet<4,>=3.0.2 in /usr/local/lib/python3.6/dist-packages (from requests->pytrends) (3.0.4)\n",
      "Requirement already satisfied: certifi>=2017.4.17 in /usr/local/lib/python3.6/dist-packages (from requests->pytrends) (2020.6.20)\n",
      "Requirement already satisfied: idna<3,>=2.5 in /usr/local/lib/python3.6/dist-packages (from requests->pytrends) (2.10)\n",
      "Requirement already satisfied: pytz>=2017.2 in /usr/local/lib/python3.6/dist-packages (from pandas>=0.25->pytrends) (2018.9)\n",
      "Requirement already satisfied: python-dateutil>=2.6.1 in /usr/local/lib/python3.6/dist-packages (from pandas>=0.25->pytrends) (2.8.1)\n",
      "Requirement already satisfied: numpy>=1.13.3 in /usr/local/lib/python3.6/dist-packages (from pandas>=0.25->pytrends) (1.18.5)\n",
      "Requirement already satisfied: six>=1.5 in /usr/local/lib/python3.6/dist-packages (from python-dateutil>=2.6.1->pandas>=0.25->pytrends) (1.15.0)\n"
     ]
    }
   ],
   "source": [
    "!pip install pytrends\n",
    "\n",
    "import pandas as pd                        \n",
    "from pytrends.request import TrendReq\n",
    "\n",
    "def get_trends(query):\n",
    "    pytrend = TrendReq()\n",
    "    pytrend.build_payload(kw_list=[query])\n",
    "    df = pytrend.interest_by_region()\n",
    "    return df.sort_values(query, ascending=False)[query].to_dict()"
   ]
  },
  {
   "cell_type": "markdown",
   "metadata": {
    "id": "0hMmR3trAddM"
   },
   "source": [
    "Ahora sí:\n",
    "\n",
    "- Recorrer la lista de diccionarios\n",
    "- Tomar el tema de cada persona\n",
    "- Buscar las tendencias con la función get_trends\n",
    "- Si no existe ya la carpeta para ese tema, crearla\n",
    "- Crear un archivo .txt o .csv con los datos buscados dentro de esa carpeta"
   ]
  },
  {
   "cell_type": "code",
   "execution_count": null,
   "metadata": {
    "colab": {
     "base_uri": "https://localhost:8080/",
     "height": 84
    },
    "executionInfo": {
     "elapsed": 947,
     "status": "ok",
     "timestamp": 1599851592759,
     "user": {
      "displayName": "Matías Grinberg",
      "photoUrl": "",
      "userId": "14116156229443883163"
     },
     "user_tz": 180
    },
    "id": "TtZQYSkzlcF-",
    "outputId": "077b3805-66b7-4c46-e0aa-04a21ec62949"
   },
   "outputs": [],
   "source": [
    "data[0]"
   ]
  },
  {
   "cell_type": "code",
   "execution_count": null,
   "metadata": {
    "id": "EyRBaiRsaPFd"
   },
   "outputs": [],
   "source": [
    "# Ejemplo\n",
    "query = 'Python'\n",
    "tendencias = get_trends(query)\n",
    "tendencias"
   ]
  },
  {
   "cell_type": "code",
   "execution_count": null,
   "metadata": {
    "id": "9gN__Bbj28k1"
   },
   "outputs": [],
   "source": [
    "for d in data:\n",
    "    if not os.path.exists(d['Tema']):\n",
    "        os.makedirs(d['Tema'])\n",
    "\n",
    "    tendencias = get_trends(d['Tema'])\n",
    "\n",
    "    with open(d['Tema']+ '/' + f\"{d['Tema']}.txt\", 'w') as out:\n",
    "        out.write(str(tendencias))"
   ]
  },
  {
   "cell_type": "code",
   "execution_count": null,
   "metadata": {
    "colab": {
     "base_uri": "https://localhost:8080/",
     "height": 353
    },
    "executionInfo": {
     "elapsed": 26474,
     "status": "ok",
     "timestamp": 1599852192776,
     "user": {
      "displayName": "Matías Grinberg",
      "photoUrl": "",
      "userId": "14116156229443883163"
     },
     "user_tz": 180
    },
    "id": "4eJUQgvBc9Cl",
    "outputId": "b114bf3b-487b-4aaf-f340-61e0c763039a"
   },
   "outputs": [
    {
     "data": {
      "text/plain": [
       "['.config',\n",
       " 'alumnos.json',\n",
       " 'desigualdad',\n",
       " 'demografía',\n",
       " 'prosur',\n",
       " 'ied',\n",
       " 'sistemas',\n",
       " 'integración',\n",
       " 'redes neuronales',\n",
       " 'feedlot',\n",
       " 'covid',\n",
       " 'inflación',\n",
       " 'género',\n",
       " 'sustentabilidad',\n",
       " 'postres',\n",
       " 'estadísticas laboralesestadísticas laborales.txt',\n",
       " 'Python',\n",
       " 'eph',\n",
       " 'estadísticas laborales',\n",
       " 'sample_data']"
      ]
     },
     "execution_count": 35,
     "metadata": {
      "tags": []
     },
     "output_type": "execute_result"
    }
   ],
   "source": [
    "os.listdir('.')"
   ]
  },
  {
   "cell_type": "code",
   "execution_count": null,
   "metadata": {
    "id": "QdfLlvxFl3SO"
   },
   "outputs": [],
   "source": []
  }
 ],
 "metadata": {
  "colab": {
   "collapsed_sections": [],
   "name": "Automatización.ipynb",
   "provenance": []
  },
  "kernelspec": {
   "display_name": "Python 3",
   "language": "python",
   "name": "python3"
  },
  "language_info": {
   "codemirror_mode": {
    "name": "ipython",
    "version": 3
   },
   "file_extension": ".py",
   "mimetype": "text/x-python",
   "name": "python",
   "nbconvert_exporter": "python",
   "pygments_lexer": "ipython3",
   "version": "3.8.5"
  }
 },
 "nbformat": 4,
 "nbformat_minor": 4
}
