{
 "cells": [
  {
   "cell_type": "markdown",
   "metadata": {},
   "source": [
    "## Expresiones Regulares"
   ]
  },
  {
   "cell_type": "markdown",
   "metadata": {
    "id": "j208C_1eH8Z4"
   },
   "source": [
    "### **Método 1: Expresiones regulares**"
   ]
  },
  {
   "cell_type": "markdown",
   "metadata": {
    "id": "IIprwSHYA0aA"
   },
   "source": [
    "RegEx para los amigos. Son un mini lenguaje de programación diseñado para realizar búsquedas en strings."
   ]
  },
  {
   "cell_type": "markdown",
   "metadata": {
    "id": "BhrBctRSA0aB"
   },
   "source": [
    "Las funciones principales de la librería re son:\n",
    "- re.findall(pattern, string) para encontrar todos los resultados de una búsqueda\n",
    "- re.search(pattern, string) para encontrar el primer resultado que coincida\n",
    "- re.sub(pattern, replace, string) para substituir un texto por otro"
   ]
  },
  {
   "cell_type": "markdown",
   "metadata": {
    "id": "O_E5sG15A0aB"
   },
   "source": [
    "#### Recursos útiles\n",
    "\n",
    "- [Testeo de regex online](https://regex101.com/)\n",
    "- [CheatSheet](https://www.dataquest.io/wp-content/uploads/2019/03/python-regular-expressions-cheat-sheet.pdf)\n"
   ]
  },
  {
   "cell_type": "markdown",
   "metadata": {
    "id": "sZI-yZHCA0aB"
   },
   "source": [
    "\n",
    "<h2><center>Sintaxis para construir regex</center></h2>\n",
    "\n",
    "\n",
    "<h3><center>Grupos de captura</center></h3>\n",
    "\n",
    "\n",
    "|     |                       |\n",
    "|-----|-----------------------|\n",
    "| ()  | grupo de captura      |\n",
    "|(?:) | grupo de no captura   |\n",
    "\n",
    "<h3><center>Tipos de datos</center></h3>\n",
    "\n",
    "\n",
    "|     |                      |          |                         |\n",
    "|----|-----------------------|----------|-------------------------|\n",
    "| \\w | caracter alfanumérico | .        | cualquier cosa menos \\n |\n",
    "| \\d | dígito                | \\|       | operador \"or\"           |\n",
    "| \\s | espacio en blanco     | [m-z3-9] | rangos                  |\n",
    "\n",
    "<h3><center>Operadores</center></h3>\n",
    "\n",
    "|         |                      |\n",
    "|---------|----------------------|\n",
    "| \\|      | operador \"or\"        |\n",
    "| []      | conjunto             |\n",
    "|[m-z3-9] | rangos               |\n",
    "\n",
    "\n",
    "<h3><center>Cuantificadores</center></h3>\n",
    "\n",
    "|      |                                              |\n",
    "|------|----------------------------------------------|\n",
    "| +    | Uno o más del elemento anterior              |\n",
    "| *    | Cero o más del elemento anterior             |\n",
    "| {4,} | Cuatro o más del elemento anterior           |\n",
    "| ?    | Cambia el operador anterior de lazy a greedy |"
   ]
  },
  {
   "cell_type": "markdown",
   "metadata": {
    "id": "EBrQinMNA0aD"
   },
   "source": [
    "#### ¿Cómo se usa eso? Veamos ejemplos"
   ]
  },
  {
   "cell_type": "code",
   "execution_count": null,
   "metadata": {
    "id": "h2kqp9jZA0aD"
   },
   "outputs": [],
   "source": [
    "# Libreria para expresiones regulares en Python\n",
    "import re\n",
    "\n",
    "# a- extraer números de una oración.\n",
    "\n",
    "texto = \"Mi nombre es Mathias y mi teléfono es 1564232324\"\n",
    "regla_de_busqueda = \"15\\d+\"\n",
    "print('')\n",
    "print(texto)\n",
    "print(re.findall(regla_de_busqueda,texto))\n",
    "\n",
    "# En realidad los telefonos no son cualquier seguidilla de numeros\n",
    "# suelen tener entre 6 y 8 numeros despues del 15\n",
    "texto = \"Mi nombre es María y mi teléfono es 1564232324\"\n",
    "regla_de_busqueda = \"15\\d{6,8}\"\n",
    "print('')\n",
    "print(texto)\n",
    "print(re.findall(regla_de_busqueda,texto))\n",
    "\n",
    "# En realidad los telefonos no arrancan siempre con 15\n",
    "# capaz empiezan con 11 si son de buenos aires por ejemplo\n",
    "texto = \"Mi nombre es Carlos y mi teléfono es 1164232324\"\n",
    "regla_de_busqueda = \"(?:15|11)\\d{6,8}\"\n",
    "print('')\n",
    "print(texto)\n",
    "print(re.findall(regla_de_busqueda,texto))\n",
    "\n",
    "# En realidad los telefonos pueden tener un guión o espacio a parte de números\n",
    "texto = \"Mi nombre es asfasfeaf33 y mi teléfono es 11 6423-2324\"\n",
    "regla_de_busqueda = \"(?:15|11)[0-9\\s-]{6,10}\"\n",
    "print('')\n",
    "print(texto)\n",
    "print(re.findall(regla_de_busqueda,texto))\n",
    "\n",
    "# b- Como extraer el mes de un texto\n",
    "texto = \"REPORTE DE PERFOMANCE - MES DE JUNIO\"\n",
    "regla_de_busqueda = \"(MES DE (?:JULIO|AGOSTO|JUNIO))\"\n",
    "print('')\n",
    "print(texto)\n",
    "print(re.findall(regla_de_busqueda,texto))"
   ]
  },
  {
   "cell_type": "code",
   "execution_count": null,
   "metadata": {
    "id": "aSt52ODDA0aE"
   },
   "outputs": [],
   "source": [
    "# ¿Cómo hago que pare de buscar el operador * ?\n",
    "text = \"me llamo pedro. me gusta el rock.\"\n",
    "regla_de_busqueda_no_greedy = \"(.*?)\\.\"\n",
    "regla_de_busqueda_greedy = \"(.*)\\.\"\n",
    "print(re.findall(regla_de_busqueda_no_greedy,text))\n",
    "print(re.findall(regla_de_busqueda_greedy,text))"
   ]
  },
  {
   "cell_type": "code",
   "execution_count": null,
   "metadata": {
    "collapsed": false,
    "id": "PcB0jYBiA0aF",
    "jupyter": {
     "outputs_hidden": false
    }
   },
   "outputs": [],
   "source": [
    "# python utiliza la libreria llamada re para todo lo relacionado a regular expressions\n",
    "import re\n",
    "\n",
    "comentario_de_mercadolibre = 'hola soy @mariadominguez, me interesa el producto, te dejo mi celu 1565525233, saludos'\n",
    "\n",
    "def encontrar_telefonos(texto):\n",
    "    regla_de_busqueda = r'(15[0-9]{8})'\n",
    "    return re.findall(regla_de_busqueda, texto)\n",
    "\n",
    "def encontrar_usuarios(texto):\n",
    "    regla_de_busqueda = r'@([a-zA-Z]+)'\n",
    "    return re.findall(regla_de_busqueda, texto)\n",
    "\n",
    "print(encontrar_telefonos(comentario_de_mercadolibre))\n",
    "print(encontrar_usuarios(comentario_de_mercadolibre))"
   ]
  },
  {
   "cell_type": "markdown",
   "metadata": {
    "id": "ytqMqTahA0aF"
   },
   "source": [
    "#### Ejercicio"
   ]
  },
  {
   "cell_type": "markdown",
   "metadata": {
    "id": "7UXUMzUPA0aF"
   },
   "source": [
    "Usa regex para hacer una función que busque todos los emails en un texto"
   ]
  },
  {
   "cell_type": "code",
   "execution_count": null,
   "metadata": {
    "id": "rEbut8flA0aG"
   },
   "outputs": [],
   "source": [
    "# Resolución \n",
    "\n",
    "def encontrar_emails(texto):\n",
    "    regla_de_busqueda = r\"([a-z0-9_]+@[a-z]+\\.[a-z]+)\"\n",
    "    return re.findall(regla_de_busqueda,texto)\n",
    "\n",
    "texto = \"Hola te paso mi mail python@hotmail.com, saludos. Si no te funciona mandame a este otro, pedro_2010@yahoo.com\"\n",
    "encontrar_emails(texto)"
   ]
  }
 ],
 "metadata": {
  "kernelspec": {
   "display_name": "Python 3",
   "language": "python",
   "name": "python3"
  },
  "language_info": {
   "codemirror_mode": {
    "name": "ipython",
    "version": 3
   },
   "file_extension": ".py",
   "mimetype": "text/x-python",
   "name": "python",
   "nbconvert_exporter": "python",
   "pygments_lexer": "ipython3",
   "version": "3.8.5"
  }
 },
 "nbformat": 4,
 "nbformat_minor": 4
}
