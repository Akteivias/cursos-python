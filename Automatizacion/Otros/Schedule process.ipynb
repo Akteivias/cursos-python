{
 "cells": [
  {
   "cell_type": "raw",
   "metadata": {},
   "source": [
    " schtasks /Create [/S <system> [/U <username> [/P [<password>]]]]\n",
    "    [/RU <username> [/RP <password>]] /SC <schedule> [/MO <modifier>] [/D <day>]\n",
    "    [/M <months>] [/I <idletime>] /TN <taskname> /TR <taskrun> [/ST <starttime>]\n",
    "    [/RI <interval>] [ {/ET <endtime> | /DU <duration>} [/K] [/XML <xmlfile>] [/V1]]\n",
    "    [/SD <startdate>] [/ED <enddate>] [/IT] [/Z] [/F]"
   ]
  },
  {
   "cell_type": "code",
   "execution_count": 1,
   "metadata": {
    "tags": []
   },
   "outputs": [],
   "source": [
    "import subprocess"
   ]
  },
  {
   "cell_type": "code",
   "execution_count": null,
   "metadata": {
    "tags": []
   },
   "outputs": [],
   "source": [
    "subprocess.Popen('schtasks /create /ru Admin /rp paswd /tn \"daily work\" '\n",
    "                 '/tr \"{0}\" /sc daily /st 23:55:00 '.format(path))"
   ]
  },
  {
   "cell_type": "code",
   "execution_count": null,
   "metadata": {},
   "outputs": [],
   "source": [
    "https://ole.michelsen.dk/blog/schedule-jobs-with-crontab-on-mac-osx/"
   ]
  }
 ],
 "metadata": {
  "kernelspec": {
   "display_name": "Python 3",
   "language": "python",
   "name": "python3"
  },
  "language_info": {
   "codemirror_mode": {
    "name": "ipython",
    "version": 3
   },
   "file_extension": ".py",
   "mimetype": "text/x-python",
   "name": "python",
   "nbconvert_exporter": "python",
   "pygments_lexer": "ipython3",
   "version": "3.8.8"
  }
 },
 "nbformat": 4,
 "nbformat_minor": 4
}
