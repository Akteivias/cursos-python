{
  "cells": [
    {
      "cell_type": "markdown",
      "metadata": {},
      "source": [
        "<div align=\"center\"><a href=\"https://colab.research.google.com/github/institutohumai/cursos-python/blob/master/Automatizacion/Automatización_2/clase_automatizacion_2_gsheets_cron_mails.ipynb\"> <img src='https://colab.research.google.com/assets/colab-badge.svg'/> </a> <br> Recordá abrir en una nueva pestaña </div>"
      ]
    },
    {
      "cell_type": "markdown",
      "metadata": {
        "id": "IxFuuYnCgcud"
      },
      "source": [
        "# **Automatización II: outputs, envío de mail, volcado a GSheets, scheduling**\n",
        "\n",
        "### 🤖 Hoja de ruta 🤖\n",
        "\n",
        "-   Ejemplo scrapeo sencillo con *Pandas*.\t\t\t\t\t\n",
        "-   Uso de la API de *Google Sheets*.\t\t\t\t\t\t\t\n",
        "-   Carga de datos en *Google Data Studio* y creación de un gráfico sencillo.\n",
        "-   Ejemplo envío automático de mail con *smtplib*.\t\t\t\t \t\n",
        "-   Scheduling: cron para Mac y linux, GUI en Windows.\t\t\t\t\t"
      ]
    },
    {
      "cell_type": "markdown",
      "metadata": {
        "id": "erSI36S0gcuh"
      },
      "source": [
        "### **Scrapping con Pandas**\n",
        "\n",
        "\n",
        "\n",
        "Vamos a utilizar la librería de pandas para obtener las tablas que contiene una página. \n",
        "\n",
        "Documentación: https://pandas.pydata.org/docs/reference/api/pandas.read_html.html"
      ]
    },
    {
      "cell_type": "code",
      "execution_count": 1,
      "metadata": {
        "id": "JvR6tQDwgcuh"
      },
      "outputs": [],
      "source": [
        "import pandas as pd\n",
        "import numpy as np"
      ]
    },
    {
      "cell_type": "code",
      "execution_count": 2,
      "metadata": {
        "id": "WK3H7595gcuj"
      },
      "outputs": [],
      "source": [
        "# Datos de criptomonedas\n",
        "url = \"https://coinmarketcap.com/new/\""
      ]
    },
    {
      "cell_type": "markdown",
      "metadata": {
        "id": "jhbKI2-Hgcuj"
      },
      "source": [
        "Ahora con *pandas.read_html()* es posible conseguir una lista con las tablas que contiene una *url*."
      ]
    },
    {
      "cell_type": "code",
      "execution_count": 3,
      "metadata": {
        "id": "xoEIR290gcuj"
      },
      "outputs": [],
      "source": [
        "listadoTablas = pd.read_html(url)"
      ]
    },
    {
      "cell_type": "code",
      "execution_count": 4,
      "metadata": {
        "colab": {
          "base_uri": "https://localhost:8080/"
        },
        "id": "b7FcTpcLgcuk",
        "outputId": "56f7cb87-42b1-400c-eea2-1779b3ddbcbd"
      },
      "outputs": [
        {
          "name": "stdout",
          "output_type": "stream",
          "text": [
            "<class 'pandas.core.frame.DataFrame'>\n",
            "RangeIndex: 30 entries, 0 to 29\n",
            "Data columns (total 11 columns):\n",
            " #   Column                    Non-Null Count  Dtype  \n",
            "---  ------                    --------------  -----  \n",
            " 0   Unnamed: 0                0 non-null      float64\n",
            " 1   #                         30 non-null     int64  \n",
            " 2   Name                      30 non-null     object \n",
            " 3   Price                     30 non-null     object \n",
            " 4   1h                        30 non-null     object \n",
            " 5   24h                       30 non-null     object \n",
            " 6   Fully Diluted Market Cap  30 non-null     object \n",
            " 7   Volume                    30 non-null     object \n",
            " 8   Blockchain                30 non-null     object \n",
            " 9   Added                     30 non-null     object \n",
            " 10  Unnamed: 10               0 non-null      float64\n",
            "dtypes: float64(2), int64(1), object(8)\n",
            "memory usage: 2.7+ KB\n"
          ]
        }
      ],
      "source": [
        "listadoTablas[0].info()"
      ]
    },
    {
      "cell_type": "markdown",
      "metadata": {
        "id": "lU7tDle-gcul"
      },
      "source": [
        "Seleccionamos la tabla de las criptomonedas recientemente añadidas."
      ]
    },
    {
      "cell_type": "code",
      "execution_count": 5,
      "metadata": {
        "colab": {
          "base_uri": "https://localhost:8080/",
          "height": 351
        },
        "id": "mazoB0-agcul",
        "outputId": "18b4c3ef-2470-4327-ce46-3cb34fa0117c"
      },
      "outputs": [
        {
          "data": {
            "text/html": [
              "<div>\n",
              "<style scoped>\n",
              "    .dataframe tbody tr th:only-of-type {\n",
              "        vertical-align: middle;\n",
              "    }\n",
              "\n",
              "    .dataframe tbody tr th {\n",
              "        vertical-align: top;\n",
              "    }\n",
              "\n",
              "    .dataframe thead th {\n",
              "        text-align: right;\n",
              "    }\n",
              "</style>\n",
              "<table border=\"1\" class=\"dataframe\">\n",
              "  <thead>\n",
              "    <tr style=\"text-align: right;\">\n",
              "      <th></th>\n",
              "      <th>Name</th>\n",
              "      <th>Price</th>\n",
              "      <th>PctChnge_1h</th>\n",
              "      <th>PctChnge_24h</th>\n",
              "      <th>FullDiluted_MarketCap</th>\n",
              "      <th>Volume</th>\n",
              "      <th>Blockchain</th>\n",
              "      <th>Added_HoursAgo</th>\n",
              "    </tr>\n",
              "  </thead>\n",
              "  <tbody>\n",
              "    <tr>\n",
              "      <th>0</th>\n",
              "      <td>Alpha Shiba Inu1ALPHASHIB</td>\n",
              "      <td>$0.000000001896</td>\n",
              "      <td>2.18%</td>\n",
              "      <td>81.38%</td>\n",
              "      <td>$796,295</td>\n",
              "      <td>$464,536</td>\n",
              "      <td>Polygon</td>\n",
              "      <td>3 hours ago</td>\n",
              "    </tr>\n",
              "    <tr>\n",
              "      <th>1</th>\n",
              "      <td>Bit2me B2M Token2B2M</td>\n",
              "      <td>$0.1396</td>\n",
              "      <td>1.53%</td>\n",
              "      <td>6.67%</td>\n",
              "      <td>$698,050,338</td>\n",
              "      <td>$6,757,193</td>\n",
              "      <td>Ethereum</td>\n",
              "      <td>4 hours ago</td>\n",
              "    </tr>\n",
              "    <tr>\n",
              "      <th>2</th>\n",
              "      <td>Lil Doge Floki3LDF</td>\n",
              "      <td>$0.00000005691</td>\n",
              "      <td>38.07%</td>\n",
              "      <td>10.93%</td>\n",
              "      <td>0</td>\n",
              "      <td>$3,105,936</td>\n",
              "      <td>Binance Coin</td>\n",
              "      <td>6 hours ago</td>\n",
              "    </tr>\n",
              "    <tr>\n",
              "      <th>3</th>\n",
              "      <td>Skylight (New)4SLTN</td>\n",
              "      <td>$0.1654</td>\n",
              "      <td>1.29%</td>\n",
              "      <td>294.45%</td>\n",
              "      <td>$82,723,983</td>\n",
              "      <td>$1,523,929</td>\n",
              "      <td>Binance Coin</td>\n",
              "      <td>7 hours ago</td>\n",
              "    </tr>\n",
              "    <tr>\n",
              "      <th>4</th>\n",
              "      <td>HobbsNetworkToken5HNW</td>\n",
              "      <td>$12.90</td>\n",
              "      <td>0.68%</td>\n",
              "      <td>0.86%</td>\n",
              "      <td>$12,903,743</td>\n",
              "      <td>$506,404</td>\n",
              "      <td>Binance Coin</td>\n",
              "      <td>8 hours ago</td>\n",
              "    </tr>\n",
              "    <tr>\n",
              "      <th>5</th>\n",
              "      <td>Megacosm6MEGACOSM</td>\n",
              "      <td>$0.0000002419</td>\n",
              "      <td>0.34%</td>\n",
              "      <td>8.17%</td>\n",
              "      <td>$241,906</td>\n",
              "      <td>$79,159</td>\n",
              "      <td>Ethereum</td>\n",
              "      <td>9 hours ago</td>\n",
              "    </tr>\n",
              "    <tr>\n",
              "      <th>6</th>\n",
              "      <td>P2P Solutions foundation7P2PS</td>\n",
              "      <td>$58.93</td>\n",
              "      <td>1.05%</td>\n",
              "      <td>1.82%</td>\n",
              "      <td>$589,257,945,050</td>\n",
              "      <td>$943,409</td>\n",
              "      <td>Ethereum</td>\n",
              "      <td>9 hours ago</td>\n",
              "    </tr>\n",
              "    <tr>\n",
              "      <th>7</th>\n",
              "      <td>Baby Schrodinger Coin8BABYDINGER</td>\n",
              "      <td>$0.00000002323</td>\n",
              "      <td>4.83%</td>\n",
              "      <td>14.50%</td>\n",
              "      <td>0</td>\n",
              "      <td>$565,222</td>\n",
              "      <td>Binance Coin</td>\n",
              "      <td>10 hours ago</td>\n",
              "    </tr>\n",
              "    <tr>\n",
              "      <th>8</th>\n",
              "      <td>SparkLab9Spark</td>\n",
              "      <td>$0.003181</td>\n",
              "      <td>1.41%</td>\n",
              "      <td>15.03%</td>\n",
              "      <td>0</td>\n",
              "      <td>$5,222,271</td>\n",
              "      <td>Binance Coin</td>\n",
              "      <td>10 hours ago</td>\n",
              "    </tr>\n",
              "    <tr>\n",
              "      <th>9</th>\n",
              "      <td>SHKOOBY INU10SHKOOBY</td>\n",
              "      <td>$0.00000006953</td>\n",
              "      <td>4.64%</td>\n",
              "      <td>11.56%</td>\n",
              "      <td>$69,531,226</td>\n",
              "      <td>$20,917,171</td>\n",
              "      <td>Ethereum</td>\n",
              "      <td>11 hours ago</td>\n",
              "    </tr>\n",
              "  </tbody>\n",
              "</table>\n",
              "</div>"
            ],
            "text/plain": [
              "                               Name  ... Added_HoursAgo\n",
              "0         Alpha Shiba Inu1ALPHASHIB  ...    3 hours ago\n",
              "1              Bit2me B2M Token2B2M  ...    4 hours ago\n",
              "2                Lil Doge Floki3LDF  ...    6 hours ago\n",
              "3               Skylight (New)4SLTN  ...    7 hours ago\n",
              "4             HobbsNetworkToken5HNW  ...    8 hours ago\n",
              "5                 Megacosm6MEGACOSM  ...    9 hours ago\n",
              "6     P2P Solutions foundation7P2PS  ...    9 hours ago\n",
              "7  Baby Schrodinger Coin8BABYDINGER  ...   10 hours ago\n",
              "8                    SparkLab9Spark  ...   10 hours ago\n",
              "9              SHKOOBY INU10SHKOOBY  ...   11 hours ago\n",
              "\n",
              "[10 rows x 8 columns]"
            ]
          },
          "execution_count": 5,
          "metadata": {},
          "output_type": "execute_result"
        }
      ],
      "source": [
        "df = listadoTablas[0].copy()\n",
        "df.drop(['#','Unnamed: 10', 'Unnamed: 0'], axis=1, inplace=True) # Eliminamos columna valores nulos.\n",
        "df.columns = ['Name', 'Price', 'PctChnge_1h', 'PctChnge_24h', 'FullDiluted_MarketCap', 'Volume', 'Blockchain', 'Added_HoursAgo']\n",
        "df.replace('--', '0', inplace=True) # Imputamos valores nulos como np.nan\n",
        "df.head(10)"
      ]
    },
    {
      "cell_type": "code",
      "execution_count": 6,
      "metadata": {
        "id": "jIfuDF0cgcum"
      },
      "outputs": [],
      "source": [
        "# Convertimos a los tipos deseados\n",
        "df['Price'] = df['Price'].replace( '[\\$,)]','', regex=True ).astype(float)\n",
        "df['FullDiluted_MarketCap'] = df['FullDiluted_MarketCap'].replace( '[\\$,)]','', regex=True ).astype(float)\n",
        "df['Volume'] = df['Volume'].replace( '[\\$,)]','', regex=True ).astype(float)\n",
        "df['PctChnge_1h'] = df['PctChnge_1h'].replace( '[\\%,)]','', regex=True ).astype(float)/100\n",
        "df['PctChnge_24h'] = df['PctChnge_24h'].replace( '[\\%,)]','', regex=True ).astype(float)/100\n",
        "df['Added_HoursAgo'] = df['Added_HoursAgo'].apply(lambda x: x[0])"
      ]
    },
    {
      "cell_type": "code",
      "execution_count": 7,
      "metadata": {
        "colab": {
          "base_uri": "https://localhost:8080/",
          "height": 200
        },
        "id": "7tB2rgU9gcun",
        "outputId": "a13df906-4a94-46e9-eda1-64bfc6be5a23"
      },
      "outputs": [
        {
          "data": {
            "text/html": [
              "<div>\n",
              "<style scoped>\n",
              "    .dataframe tbody tr th:only-of-type {\n",
              "        vertical-align: middle;\n",
              "    }\n",
              "\n",
              "    .dataframe tbody tr th {\n",
              "        vertical-align: top;\n",
              "    }\n",
              "\n",
              "    .dataframe thead th {\n",
              "        text-align: right;\n",
              "    }\n",
              "</style>\n",
              "<table border=\"1\" class=\"dataframe\">\n",
              "  <thead>\n",
              "    <tr style=\"text-align: right;\">\n",
              "      <th></th>\n",
              "      <th>Name</th>\n",
              "      <th>Price</th>\n",
              "      <th>PctChnge_1h</th>\n",
              "      <th>PctChnge_24h</th>\n",
              "      <th>FullDiluted_MarketCap</th>\n",
              "      <th>Volume</th>\n",
              "      <th>Blockchain</th>\n",
              "      <th>Added_HoursAgo</th>\n",
              "    </tr>\n",
              "  </thead>\n",
              "  <tbody>\n",
              "    <tr>\n",
              "      <th>0</th>\n",
              "      <td>Alpha Shiba Inu1ALPHASHIB</td>\n",
              "      <td>1.896000e-09</td>\n",
              "      <td>0.0218</td>\n",
              "      <td>0.8138</td>\n",
              "      <td>796295.0</td>\n",
              "      <td>464536.0</td>\n",
              "      <td>Polygon</td>\n",
              "      <td>3</td>\n",
              "    </tr>\n",
              "    <tr>\n",
              "      <th>1</th>\n",
              "      <td>Bit2me B2M Token2B2M</td>\n",
              "      <td>1.396000e-01</td>\n",
              "      <td>0.0153</td>\n",
              "      <td>0.0667</td>\n",
              "      <td>698050338.0</td>\n",
              "      <td>6757193.0</td>\n",
              "      <td>Ethereum</td>\n",
              "      <td>4</td>\n",
              "    </tr>\n",
              "    <tr>\n",
              "      <th>2</th>\n",
              "      <td>Lil Doge Floki3LDF</td>\n",
              "      <td>5.691000e-08</td>\n",
              "      <td>0.3807</td>\n",
              "      <td>0.1093</td>\n",
              "      <td>0.0</td>\n",
              "      <td>3105936.0</td>\n",
              "      <td>Binance Coin</td>\n",
              "      <td>6</td>\n",
              "    </tr>\n",
              "    <tr>\n",
              "      <th>3</th>\n",
              "      <td>Skylight (New)4SLTN</td>\n",
              "      <td>1.654000e-01</td>\n",
              "      <td>0.0129</td>\n",
              "      <td>2.9445</td>\n",
              "      <td>82723983.0</td>\n",
              "      <td>1523929.0</td>\n",
              "      <td>Binance Coin</td>\n",
              "      <td>7</td>\n",
              "    </tr>\n",
              "    <tr>\n",
              "      <th>4</th>\n",
              "      <td>HobbsNetworkToken5HNW</td>\n",
              "      <td>1.290000e+01</td>\n",
              "      <td>0.0068</td>\n",
              "      <td>0.0086</td>\n",
              "      <td>12903743.0</td>\n",
              "      <td>506404.0</td>\n",
              "      <td>Binance Coin</td>\n",
              "      <td>8</td>\n",
              "    </tr>\n",
              "  </tbody>\n",
              "</table>\n",
              "</div>"
            ],
            "text/plain": [
              "                        Name         Price  ...    Blockchain  Added_HoursAgo\n",
              "0  Alpha Shiba Inu1ALPHASHIB  1.896000e-09  ...       Polygon               3\n",
              "1       Bit2me B2M Token2B2M  1.396000e-01  ...      Ethereum               4\n",
              "2         Lil Doge Floki3LDF  5.691000e-08  ...  Binance Coin               6\n",
              "3        Skylight (New)4SLTN  1.654000e-01  ...  Binance Coin               7\n",
              "4      HobbsNetworkToken5HNW  1.290000e+01  ...  Binance Coin               8\n",
              "\n",
              "[5 rows x 8 columns]"
            ]
          },
          "execution_count": 7,
          "metadata": {},
          "output_type": "execute_result"
        }
      ],
      "source": [
        "df.head()"
      ]
    },
    {
      "cell_type": "markdown",
      "metadata": {
        "id": "faZLkTxqgcuo"
      },
      "source": [
        "## **Vinculación con Google Drive**\n",
        "\n",
        "Para poder escribir/leer un archivo que se encuentra en *Google Drive*, será necesario primero, contar con un archivo de *autenticación* a su vez que compartir el archivo pertinente con el servicio creado desde Python."
      ]
    },
    {
      "cell_type": "markdown",
      "metadata": {
        "id": "7VlPFf5Dgcuo"
      },
      "source": [
        "#### Generación de archivo de autenticación. (Conexión local)\n",
        "\n",
        "Para ello entraremos en el siguiente [link](https://console.cloud.google.com/apis/) ingresando con la cuenta de google que querramos vincular. Una vez dentro de la plataforma de Google Cloud, crearemos un proyecto. Una vez dentro del proyecto entraremos en la sección **API y servicios** y daremos click en la opción **habilitar API y servicio**.\n",
        "\n",
        "  <img src=\"https://unket.s3.sa-east-1.amazonaws.com/static/gcp1.png\" alt=\"drawing\" width=\"500\"/>"
      ]
    },
    {
      "cell_type": "markdown",
      "metadata": {
        "id": "ivf3DvOygcup"
      },
      "source": [
        "Allí dentro seleccionaremos el tipo de API que estemos necesitando. En este caso la de Google Drive. Una vez habilitada la API dentro de nuestro proyecto, iremos a la sección de **credenciales**, y dentro de la misma daremos click a **crear credenciales**. Seleccionamos la opción de *Cuenta de servicio*. Una vez que la *Cuenta de servicio* haya sido generada, será posible acceder a sus configuraciones y generar una clave en formato json dentro de la misma.\n",
        "\n",
        "<img src=\"https://unket.s3.sa-east-1.amazonaws.com/static/gcp2.png\" alt=\"drawing\" width=\"500\" height=\"300\"/> <img src=\"https://unket.s3.sa-east-1.amazonaws.com/static/clave2.png\" alt=\"drawing\" width=\"500\"/>\n",
        "\n",
        "Más información sobre como crear un proyecto y habilitar una API [aquí](https://developers.google.com/workspace/guides/create-project)"
      ]
    },
    {
      "cell_type": "code",
      "execution_count": 8,
      "metadata": {
        "id": "il5zrv9OI_QS"
      },
      "outputs": [],
      "source": [
        "\n",
        "# Esta funcion incluye todo lo que hicios antes, para poder actualizar nuestro DataFrame\n",
        "def coinmarketcap_scraper():\n",
        "  \"\"\"\n",
        "  Scraper de la pagina https://coinmarketcap.com/new/\n",
        "  Obtiene los datos, los limpia y los devuelve como un DataFrame de Pandas.\n",
        "  \"\"\"\n",
        "  url = \"https://coinmarketcap.com/new/\"\n",
        "  \n",
        "  # Scrapeamos la tabla con Pandas\n",
        "  listadoTablas = pd.read_html(url)\n",
        "  # creamos DataFrame\n",
        "  df = listadoTablas[0].copy()\n",
        "\n",
        "  # Limpieza de datos\n",
        "\n",
        "  # Eliminamos columna valores nulos\n",
        "  df.drop(['#','Unnamed: 10', 'Unnamed: 0'], axis=1, inplace=True) \n",
        "  df.columns = ['Name', 'Price', 'PctChnge_1h', 'PctChnge_24h', 'FullDiluted_MarketCap', 'Volume', 'Blockchain', 'Added_HoursAgo']\n",
        "  # Imputamos valores nulos como np.nan \n",
        "  df.replace('--', '0', inplace=True) \n",
        "\n",
        "  # Convertimos a los tipos deseados\n",
        "  df['Price'] = df['Price'].replace( '[\\$,)]','', regex=True ).astype(float)\n",
        "  df['FullDiluted_MarketCap'] = df['FullDiluted_MarketCap'].replace( '[\\$,)]','', regex=True ).astype(float)\n",
        "  df['Volume'] = df['Volume'].replace( '[\\$,)]','', regex=True ).astype(float)\n",
        "  df['PctChnge_1h'] = df['PctChnge_1h'].replace( '[\\%,)]','', regex=True ).astype(float)/100\n",
        "  df['PctChnge_24h'] = df['PctChnge_24h'].replace( '[\\%,)]','', regex=True ).astype(float)/100\n",
        "  df['Added_HoursAgo'] = df['Added_HoursAgo'].apply(lambda x: x[0])\n",
        "\n",
        "  return df"
      ]
    },
    {
      "cell_type": "markdown",
      "metadata": {
        "id": "BNFaGKa6A16r"
      },
      "source": [
        "### Usando gspread para interactuar con las hojas de cálculo de Google\n",
        "\n",
        "Documentación: https://docs.gspread.org/en/v4.0.1/\n"
      ]
    },
    {
      "cell_type": "code",
      "execution_count": 9,
      "metadata": {
        "colab": {
          "base_uri": "https://localhost:8080/"
        },
        "id": "vlerF2Qmi4RU",
        "outputId": "3629def2-b1fe-4233-aea5-5f84c1a35742"
      },
      "outputs": [
        {
          "name": "stdout",
          "output_type": "stream",
          "text": [
            "Requirement already satisfied: gspread in /usr/local/lib/python3.7/dist-packages (3.0.1)\n",
            "Collecting gspread\n",
            "  Downloading gspread-4.0.1-py3-none-any.whl (29 kB)\n",
            "Requirement already satisfied: google-auth>=1.12.0 in /usr/local/lib/python3.7/dist-packages (from gspread) (1.35.0)\n",
            "Requirement already satisfied: google-auth-oauthlib>=0.4.1 in /usr/local/lib/python3.7/dist-packages (from gspread) (0.4.6)\n",
            "Requirement already satisfied: cachetools<5.0,>=2.0.0 in /usr/local/lib/python3.7/dist-packages (from google-auth>=1.12.0->gspread) (4.2.4)\n",
            "Requirement already satisfied: setuptools>=40.3.0 in /usr/local/lib/python3.7/dist-packages (from google-auth>=1.12.0->gspread) (57.4.0)\n",
            "Requirement already satisfied: pyasn1-modules>=0.2.1 in /usr/local/lib/python3.7/dist-packages (from google-auth>=1.12.0->gspread) (0.2.8)\n",
            "Requirement already satisfied: six>=1.9.0 in /usr/local/lib/python3.7/dist-packages (from google-auth>=1.12.0->gspread) (1.15.0)\n",
            "Requirement already satisfied: rsa<5,>=3.1.4 in /usr/local/lib/python3.7/dist-packages (from google-auth>=1.12.0->gspread) (4.7.2)\n",
            "Requirement already satisfied: requests-oauthlib>=0.7.0 in /usr/local/lib/python3.7/dist-packages (from google-auth-oauthlib>=0.4.1->gspread) (1.3.0)\n",
            "Requirement already satisfied: pyasn1<0.5.0,>=0.4.6 in /usr/local/lib/python3.7/dist-packages (from pyasn1-modules>=0.2.1->google-auth>=1.12.0->gspread) (0.4.8)\n",
            "Requirement already satisfied: requests>=2.0.0 in /usr/local/lib/python3.7/dist-packages (from requests-oauthlib>=0.7.0->google-auth-oauthlib>=0.4.1->gspread) (2.23.0)\n",
            "Requirement already satisfied: oauthlib>=3.0.0 in /usr/local/lib/python3.7/dist-packages (from requests-oauthlib>=0.7.0->google-auth-oauthlib>=0.4.1->gspread) (3.1.1)\n",
            "Requirement already satisfied: chardet<4,>=3.0.2 in /usr/local/lib/python3.7/dist-packages (from requests>=2.0.0->requests-oauthlib>=0.7.0->google-auth-oauthlib>=0.4.1->gspread) (3.0.4)\n",
            "Requirement already satisfied: urllib3!=1.25.0,!=1.25.1,<1.26,>=1.21.1 in /usr/local/lib/python3.7/dist-packages (from requests>=2.0.0->requests-oauthlib>=0.7.0->google-auth-oauthlib>=0.4.1->gspread) (1.24.3)\n",
            "Requirement already satisfied: certifi>=2017.4.17 in /usr/local/lib/python3.7/dist-packages (from requests>=2.0.0->requests-oauthlib>=0.7.0->google-auth-oauthlib>=0.4.1->gspread) (2021.5.30)\n",
            "Requirement already satisfied: idna<3,>=2.5 in /usr/local/lib/python3.7/dist-packages (from requests>=2.0.0->requests-oauthlib>=0.7.0->google-auth-oauthlib>=0.4.1->gspread) (2.10)\n",
            "Installing collected packages: gspread\n",
            "  Attempting uninstall: gspread\n",
            "    Found existing installation: gspread 3.0.1\n",
            "    Uninstalling gspread-3.0.1:\n",
            "      Successfully uninstalled gspread-3.0.1\n",
            "Successfully installed gspread-4.0.1\n"
          ]
        }
      ],
      "source": [
        "# Instalamos y hacemos un upgrade de gspread porque la funcion que necesitamos esta a partir de la version 3.6\n",
        "!pip install gspread --upgrade"
      ]
    },
    {
      "cell_type": "markdown",
      "metadata": {
        "id": "P4JEwDoqDbxP"
      },
      "source": [
        "Importamos la libreria gspread y chequeamos la version "
      ]
    },
    {
      "cell_type": "code",
      "execution_count": 10,
      "metadata": {
        "colab": {
          "base_uri": "https://localhost:8080/"
        },
        "id": "w2rDkvdLDYS_",
        "outputId": "8784b71e-7407-4132-bcc3-652eb05c14f9"
      },
      "outputs": [
        {
          "name": "stdout",
          "output_type": "stream",
          "text": [
            "Version de gspread:4.0.1\n"
          ]
        }
      ],
      "source": [
        "import gspread\n",
        "print(f'Version de gspread:{gspread.__version__}')"
      ]
    },
    {
      "cell_type": "markdown",
      "metadata": {
        "id": "5LhPtj0cCWRW"
      },
      "source": [
        "Autenticación local"
      ]
    },
    {
      "cell_type": "code",
      "execution_count": 16,
      "metadata": {
        "id": "HUa113Hogcup"
      },
      "outputs": [],
      "source": [
        "# Local\n",
        "\n",
        "gc = gspread.service_account(filename='credenciales.json') # Configurar con path de credenciales."
      ]
    },
    {
      "cell_type": "markdown",
      "metadata": {
        "id": "Uuq2jr7_gcuq"
      },
      "source": [
        "En caso de acceder desde Google Colab resulta más sencillo autenticarse dado que lo hace automaticamente con la cuenta linkeada."
      ]
    },
    {
      "cell_type": "code",
      "execution_count": 11,
      "metadata": {
        "id": "QLgRvYUcgcuq"
      },
      "outputs": [],
      "source": [
        "# Colab\n",
        "from google.colab import auth\n",
        "from oauth2client.client import GoogleCredentials\n",
        "\n",
        "auth.authenticate_user()\n",
        "gc = gspread.authorize(GoogleCredentials.get_application_default())"
      ]
    },
    {
      "cell_type": "markdown",
      "metadata": {
        "id": "aMD2PyfSgcur"
      },
      "source": [
        "#### Interactuamos con Google Sheets.\n",
        "\n",
        "Creamos una nueva hoja de calculo con su debido título y la compartimos con la cuenta desde la cual querramos acceder."
      ]
    },
    {
      "cell_type": "code",
      "execution_count": 12,
      "metadata": {
        "id": "SDvA0MSegcur"
      },
      "outputs": [],
      "source": [
        "# Creamos la hoja de calculo\n",
        "hoja_de_calculo = gc.create(\"CriptosRecientes\")\n",
        "\n",
        "# Para hacer visible el archivo es necesario compartirlo\n",
        "tu_mail = 'tu_mail@gmail.com'\n",
        "hoja_de_calculo.share(tu_mail, perm_type='user', role='writer')"
      ]
    },
    {
      "cell_type": "code",
      "execution_count": 13,
      "metadata": {
        "id": "a11tinAlJG_L"
      },
      "outputs": [],
      "source": [
        "# actualizamos el df\n",
        "df = coinmarketcap_scraper()"
      ]
    },
    {
      "cell_type": "code",
      "execution_count": 14,
      "metadata": {
        "colab": {
          "base_uri": "https://localhost:8080/"
        },
        "id": "djuJpdyigcur",
        "outputId": "e76355bc-2cca-4cc6-9d05-a49776d45064"
      },
      "outputs": [
        {
          "data": {
            "text/plain": [
              "{'spreadsheetId': '16P5SmNctJVUoXHQXdJyNjDv_3psMKKGECdJf1kYSHlQ',\n",
              " 'updatedCells': 248,\n",
              " 'updatedColumns': 8,\n",
              " 'updatedRange': \"'Hoja 1'!A1:H31\",\n",
              " 'updatedRows': 31}"
            ]
          },
          "execution_count": 14,
          "metadata": {},
          "output_type": "execute_result"
        }
      ],
      "source": [
        "# Obtenemos la pagina 0 de este archivo\n",
        "primera_hoja = hoja_de_calculo.get_worksheet(0)\n",
        "\n",
        "# Actualizo la hoja de calculo\n",
        "primera_hoja.update([df.columns.values.tolist()] + df.values.tolist())"
      ]
    },
    {
      "cell_type": "markdown",
      "metadata": {
        "id": "mXwuXSZlgcus"
      },
      "source": [
        "Ahora probemos leer nuevamente el archivo para corroborar que se hayan cargado bien los datos."
      ]
    },
    {
      "cell_type": "code",
      "execution_count": 15,
      "metadata": {
        "colab": {
          "base_uri": "https://localhost:8080/",
          "height": 0
        },
        "id": "2tTNntWmgcus",
        "outputId": "8572ff26-449f-468a-f6b0-eb7621af5e78"
      },
      "outputs": [
        {
          "data": {
            "text/html": [
              "<div>\n",
              "<style scoped>\n",
              "    .dataframe tbody tr th:only-of-type {\n",
              "        vertical-align: middle;\n",
              "    }\n",
              "\n",
              "    .dataframe tbody tr th {\n",
              "        vertical-align: top;\n",
              "    }\n",
              "\n",
              "    .dataframe thead th {\n",
              "        text-align: right;\n",
              "    }\n",
              "</style>\n",
              "<table border=\"1\" class=\"dataframe\">\n",
              "  <thead>\n",
              "    <tr style=\"text-align: right;\">\n",
              "      <th></th>\n",
              "      <th>Name</th>\n",
              "      <th>Price</th>\n",
              "      <th>PctChnge_1h</th>\n",
              "      <th>PctChnge_24h</th>\n",
              "      <th>FullDiluted_MarketCap</th>\n",
              "      <th>Volume</th>\n",
              "      <th>Blockchain</th>\n",
              "      <th>Added_HoursAgo</th>\n",
              "    </tr>\n",
              "  </thead>\n",
              "  <tbody>\n",
              "    <tr>\n",
              "      <th>1</th>\n",
              "      <td>Alpha Shiba Inu1ALPHASHIB</td>\n",
              "      <td>0.000000001896</td>\n",
              "      <td>0.0218</td>\n",
              "      <td>0.8138</td>\n",
              "      <td>796295</td>\n",
              "      <td>464536</td>\n",
              "      <td>Polygon</td>\n",
              "      <td>3</td>\n",
              "    </tr>\n",
              "    <tr>\n",
              "      <th>2</th>\n",
              "      <td>Bit2me B2M Token2B2M</td>\n",
              "      <td>0.1396</td>\n",
              "      <td>0.0153</td>\n",
              "      <td>0.0667</td>\n",
              "      <td>698050338</td>\n",
              "      <td>6757193</td>\n",
              "      <td>Ethereum</td>\n",
              "      <td>4</td>\n",
              "    </tr>\n",
              "    <tr>\n",
              "      <th>3</th>\n",
              "      <td>Lil Doge Floki3LDF</td>\n",
              "      <td>0.00000005691</td>\n",
              "      <td>0.3807</td>\n",
              "      <td>0.1093</td>\n",
              "      <td>0</td>\n",
              "      <td>3105936</td>\n",
              "      <td>Binance Coin</td>\n",
              "      <td>6</td>\n",
              "    </tr>\n",
              "    <tr>\n",
              "      <th>4</th>\n",
              "      <td>Skylight (New)4SLTN</td>\n",
              "      <td>0.1654</td>\n",
              "      <td>0.0129</td>\n",
              "      <td>2.9445</td>\n",
              "      <td>82723983</td>\n",
              "      <td>1523929</td>\n",
              "      <td>Binance Coin</td>\n",
              "      <td>7</td>\n",
              "    </tr>\n",
              "    <tr>\n",
              "      <th>5</th>\n",
              "      <td>HobbsNetworkToken5HNW</td>\n",
              "      <td>12.9</td>\n",
              "      <td>0.0068</td>\n",
              "      <td>0.0086</td>\n",
              "      <td>12903743</td>\n",
              "      <td>506404</td>\n",
              "      <td>Binance Coin</td>\n",
              "      <td>8</td>\n",
              "    </tr>\n",
              "  </tbody>\n",
              "</table>\n",
              "</div>"
            ],
            "text/plain": [
              "0                       Name           Price  ...    Blockchain Added_HoursAgo\n",
              "1  Alpha Shiba Inu1ALPHASHIB  0.000000001896  ...       Polygon              3\n",
              "2       Bit2me B2M Token2B2M          0.1396  ...      Ethereum              4\n",
              "3         Lil Doge Floki3LDF   0.00000005691  ...  Binance Coin              6\n",
              "4        Skylight (New)4SLTN          0.1654  ...  Binance Coin              7\n",
              "5      HobbsNetworkToken5HNW            12.9  ...  Binance Coin              8\n",
              "\n",
              "[5 rows x 8 columns]"
            ]
          },
          "execution_count": 15,
          "metadata": {},
          "output_type": "execute_result"
        }
      ],
      "source": [
        "# Obtenemos los valores de nuestra hoja de calculo\n",
        "nuestra_hoja = primera_hoja.get_all_values()\n",
        "\n",
        "# Cargamos con Pandas\n",
        "df_aux = pd.DataFrame(nuestra_hoja)\n",
        "df_aux.columns = df_aux.iloc[0,:]\n",
        "df_aux = df_aux.iloc[1:,:]\n",
        "df_aux.head()"
      ]
    },
    {
      "cell_type": "code",
      "execution_count": 16,
      "metadata": {
        "colab": {
          "base_uri": "https://localhost:8080/"
        },
        "id": "YGRq2Qgpgcus",
        "outputId": "f7857fa5-8456-47b8-ee5d-19a3477aa71c"
      },
      "outputs": [
        {
          "name": "stdout",
          "output_type": "stream",
          "text": [
            "<class 'pandas.core.frame.DataFrame'>\n",
            "RangeIndex: 30 entries, 1 to 30\n",
            "Data columns (total 8 columns):\n",
            " #   Column                 Non-Null Count  Dtype \n",
            "---  ------                 --------------  ----- \n",
            " 0   Name                   30 non-null     object\n",
            " 1   Price                  30 non-null     object\n",
            " 2   PctChnge_1h            30 non-null     object\n",
            " 3   PctChnge_24h           30 non-null     object\n",
            " 4   FullDiluted_MarketCap  30 non-null     object\n",
            " 5   Volume                 30 non-null     object\n",
            " 6   Blockchain             30 non-null     object\n",
            " 7   Added_HoursAgo         30 non-null     object\n",
            "dtypes: object(8)\n",
            "memory usage: 2.0+ KB\n"
          ]
        }
      ],
      "source": [
        "df_aux.info()"
      ]
    },
    {
      "cell_type": "code",
      "execution_count": null,
      "metadata": {},
      "outputs": [],
      "source": [
        "# Ejercicios: Scrapear los datos de las medallas obtenidas en gimnasia artistica femenina de esta entrada de wikipedia y guardarlos en una hoja de Google\n",
        "# https://en.wikipedia.org/wiki/List_of_Olympic_medalists_in_gymnastics_(women)"
      ]
    },
    {
      "cell_type": "markdown",
      "metadata": {
        "id": "DBYFfCl2N-40"
      },
      "source": [
        "## **Interacción con Google Data Studio**\n",
        "\n",
        "<img src='https://www.mdmarketingdigital.com/blog/wp-content/uploads/2019/06/Data-Studio-Stats-1200x700.png' width=500>\n",
        "\n",
        "\n",
        "\n",
        "[Google Data Studio](https://datastudio.google.com/) es una herramienta en línea para convertir datos en paneles e informes  personalizables"
      ]
    },
    {
      "cell_type": "markdown",
      "metadata": {
        "id": "pW5srOZKb5MK"
      },
      "source": [
        "## **Envio automatico de e-mails**\n",
        "\n",
        "En esta sección haremos un ejemplo de como enviar mails desde Python \n",
        "\n",
        "### **Protocolo SMTP**\n",
        "El protocolo para transferencia simple de correo (en inglés: Simple Mail Transfer Protocol o SMTP) es un protocolo de red utilizado para el intercambio de mensajes de correo electrónico entre computadoras u otros dispositivos (PDA, teléfonos móviles, impresoras, etcétera).\n",
        "\n",
        "### Usando Python\n",
        "\n",
        "Para poder usar Python desde gmail tendremos que habilitar el uso de \"aplicaciones poco seguras\". \n",
        "\n",
        "<img src='https://docs.rocketbot.co/wp-content/uploads/2020/01/c3.png' >\n",
        "<img src='https://docs.rocketbot.co/wp-content/uploads/2020/01/c4-768x244.png' >\n",
        "<center>\n",
        "Fuente: https://docs.rocketbot.co/?p=1567\n",
        "</center>\n",
        "\n",
        "* Si tienen problemas mirar aca: https://stackoverflow.com/questions/26852128/smtpauthenticationerror-when-sending-mail-using-gmail-and-python\n",
        "\n"
      ]
    },
    {
      "cell_type": "code",
      "execution_count": 62,
      "metadata": {
        "id": "5rvOKtA1gcut"
      },
      "outputs": [],
      "source": [
        "import smtplib\n",
        "from email.message import EmailMessage\n",
        "\n",
        "msg = EmailMessage()\n",
        "\n",
        "# Contenido\n",
        "msg['From']=\"curso_de_automatizacion_de_humai@gmail.com\"\n",
        "msg['To']=\"tu_mail@gmail.com\"\n",
        "msg['Subject']= \"Probando mandar mails!\"\n",
        "cuerpo_del_mail = 'Este es un mail enviado con Python en la clase! =D'\n",
        "msg.set_content(cuerpo_del_mail)\n",
        "\n",
        "# No se queden en los detalles aquí, pero pueden leer más sobre el protocolo SMTP acá: https://es.wikipedia.org/wiki/Protocolo_para_transferencia_simple_de_correo \n",
        "server = smtplib.SMTP('smtp.gmail.com', 587)\n",
        "server.starttls()\n",
        "\n",
        "# Usuario y contraseña\n",
        "usuario = 'tu_usuario'\n",
        "password = 'tu_contrasenia'\n",
        "\n",
        "server.login(usuario, password)\n",
        "\n",
        "# enviar\n",
        "server.send_message(msg)\n",
        "server.quit();"
      ]
    },
    {
      "cell_type": "markdown",
      "metadata": {
        "id": "7aVTvlIU3Xxu"
      },
      "source": [
        "### Enviar más de un mail\n",
        "\n",
        "Podría existir el caso de uso donde querramos enviar más de un mail. Por ejemplo a todes nuestres alumnes con la nota de su parcial."
      ]
    },
    {
      "cell_type": "code",
      "execution_count": 3,
      "metadata": {
        "colab": {
          "base_uri": "https://localhost:8080/"
        },
        "id": "eYUhxoI_qwio",
        "outputId": "6f3fead4-5777-44b1-c4e2-38952c542674"
      },
      "outputs": [
        {
          "name": "stdout",
          "output_type": "stream",
          "text": [
            "mail enviado a Juan\n",
            "mail enviado a Sofia\n",
            "mail enviado a Lupe\n"
          ]
        }
      ],
      "source": [
        "import smtplib\n",
        "from email.message import EmailMessage\n",
        "import time\n",
        "\n",
        "notas  = [10, 8 , 7]\n",
        "alumnes = ['Juan', 'Sofia', 'Lupe']\n",
        "mails = ['Juan@mail.com', 'Sofia@mail.com', 'Lupe@mail.com']\n",
        "\n",
        "# Usuario y contraseña\n",
        "usuario = 'tu_usuario'\n",
        "password = 'tu_contrasenia'\n",
        "\n",
        "with smtplib.SMTP('smtp.gmail.com', 587) as server:\n",
        "  for i in range(len(notas)):\n",
        "    # Contenido\n",
        "    msg = EmailMessage()\n",
        "\n",
        "    msg['From']=\"curso_de_automatizacion_de_humai@gmail.com\"\n",
        "    msg['To']=\"tu_mail@gmail.com\" # Obviamente habria que ir variando los mails, aca no lo voya hacer pero seria poner mails[i]\n",
        "    msg['Subject']= \"Probando mandar mails!\"\n",
        "    cuerpo_del_mail = f'Hola {alumnes[i]}, tu nota en el parcial fue de {notas[i]}.\\n\\nSaludos!'\n",
        "    msg.set_content(cuerpo_del_mail)\n",
        "    server = smtplib.SMTP('smtp.gmail.com', 587)\n",
        "    server.starttls()\n",
        "    server.login(usuario, password)\n",
        "    # server.starttls()\n",
        "\n",
        "    # enviar\n",
        "    server.send_message(msg)\n",
        "    time.sleep(3)\n",
        "    print(f'mail enviado a {alumnes[i]}')"
      ]
    },
    {
      "cell_type": "markdown",
      "metadata": {
        "id": "G5Gd9hvQ30mz"
      },
      "source": [
        "### Enviar archivos adjuntos\n",
        "\n",
        "Podemos agregar archivos adjuntos como por ejemplo imágenes o PDFs."
      ]
    },
    {
      "cell_type": "code",
      "execution_count": 4,
      "metadata": {
        "colab": {
          "base_uri": "https://localhost:8080/"
        },
        "id": "EcChj5Qyx49l",
        "outputId": "193a1595-57b4-4b05-9b32-2afb9a2d9c31"
      },
      "outputs": [
        {
          "name": "stdout",
          "output_type": "stream",
          "text": [
            "Mail enviado\n"
          ]
        }
      ],
      "source": [
        "# Enviar archivos adjuntos\n",
        "\n",
        "import smtplib\n",
        "# El módulo imghdr determina el tipo de imagen contenida en un archivo.\n",
        "import imghdr\n",
        "from email.message import EmailMessage\n",
        "\n",
        "msg = EmailMessage()\n",
        "\n",
        "# Contenido\n",
        "msg['From']=\"curso_de_automatizacion_de_humai@gmail.com\"\n",
        "msg['To']=\"tu_mail@gmail.com\"\n",
        "msg['Subject']= \"Probando mandar mails!\"\n",
        "cuerpo_del_mail = 'Te estoy enviando una imagen con Python! =D'\n",
        "msg.set_content(cuerpo_del_mail)\n",
        "\n",
        "path_imagen = '/content/humai_logo.png' \n",
        "\n",
        "with open(path_imagen, 'rb') as f:\n",
        "    image_data = f.read()\n",
        "    # Para saber el tipo de archivo\n",
        "    image_type = imghdr.what(f.name)\n",
        "    image_name = f.name\n",
        "\n",
        "msg.add_attachment(image_data, maintype='image', subtype=image_type, filename=image_name)\n",
        "\n",
        "# No se queden en los detalles aquí, pero pueden leer más sobre el protocolo SMTP acá: https://es.wikipedia.org/wiki/Protocolo_para_transferencia_simple_de_correo \n",
        "server = smtplib.SMTP('smtp.gmail.com', 587)\n",
        "server.starttls()\n",
        "\n",
        "# Usuario y contraseña\n",
        "usuario = 'tu_usuario'\n",
        "password = 'tu_contrasenia'\n",
        "\n",
        "server.login(usuario, password)\n",
        "\n",
        "# enviar\n",
        "server.send_message(msg)\n",
        "print('Mail enviado')\n",
        "server.quit();\n"
      ]
    },
    {
      "cell_type": "code",
      "execution_count": null,
      "metadata": {},
      "outputs": [],
      "source": [
        "# Ejercicios: \n",
        "# Enviar tres mails que contengan un PDF"
      ]
    },
    {
      "cell_type": "markdown",
      "metadata": {
        "id": "0NA7MIRZHZn8"
      },
      "source": [
        "## Scheduling con CRON\n",
        "\n",
        "En el sistema operativo Unix, cron es un administrador regular de procesos en segundo plano (demonio) que ejecuta procesos o guiones a intervalos regulares (por ejemplo, cada minuto, día, semana o mes). Los procesos que deben ejecutarse y la hora a la que deben hacerlo se especifican en el archivo crontab. \n",
        "\n",
        "<img src=\"https://i.ibb.co/ZWCbc2m/crontab.png\" alt=\"crontab\" border=\"0\">\n",
        "\n",
        "\n",
        "Cron se puede definir como el equivalente a Tareas Programadas de Windows.\n",
        "\n",
        "<img src='https://www.solvetic.com/uploads/monthly_01_2017/tutorials-9832-0-90051600-1484655732.png'> <br>\n",
        "Fuente: https://www.solvetic.com/tutoriales/article/3441-como-abrir-y-configurar-programador-tareas-windows-10/\n",
        "\n",
        "\n",
        "\n"
      ]
    },
    {
      "cell_type": "markdown",
      "metadata": {
        "id": "E-20gWgcHxZ5"
      },
      "source": [
        "### Comandos básicos de Cron\n",
        "\n",
        "En la terminal: <br>\n",
        "**`crontab -l`** -> Permite ver la lista de las tareas programadas <br>\n",
        "**`crontab -e`** -> Permite ver editar las tareas programadas\n",
        "\n",
        "<font color='red'><h3>ATENCION! </h3></font>\n",
        "\n",
        "**`crontab -r`** -> Permite borrar las tareas programadas  <br>\n",
        "Es importante que lo uses cuando quieras que tu tarea deje de ser ejecutada, sino va a quedar funcionando indefinidamente "
      ]
    },
    {
      "cell_type": "code",
      "execution_count": null,
      "metadata": {
        "id": "9sIZzo3ZIIxY"
      },
      "outputs": [],
      "source": [
        "# ┌───────────── Minutos (0 - 59)\n",
        "# │ ┌───────────── Hora (0 - 23)\n",
        "# │ │ ┌───────────── Dia del mes (1 - 31)\n",
        "# │ │ │ ┌───────────── Mes (1 - 12) o jan,feb,mar,apr,may,jun,jul... (meses en inglés)\n",
        "# │ │ │ │ ┌─────────────  día de la semana (0-6) (domingo=0 o 7) o sun,mon,tue,wed,thu,fri,sat (días en inglés) \n",
        "# │ │ │ │ │                                       \n",
        "# │ │ │ │ │\n",
        "# │ │ │ │ │\n",
        "# * * * * *  comando_a_ejecutar"
      ]
    },
    {
      "cell_type": "markdown",
      "metadata": {
        "id": "GFTtqGxxxxgC"
      },
      "source": [
        "Algunos ejemplos:\n",
        "\n",
        "Todos los dias a las 12 y media del mediodia corre esto\n",
        "\n",
        "`30 12 * * * python /ruta/a/mi/archivo/script.py`\n",
        "\n",
        "El 10 de cada mes corre esto a las 3 de la tarde\n",
        "\n",
        "` * 3 10 * * python /ruta/a/mi/archivo/script.py`\n",
        "\n",
        "Consideraciones\n",
        "* Dependiendo del intérprete de Python que tengan instalado pueden tener que poner algo distinto a la palabra python. Ejemplo:\n",
        "` * * * * * python3 /ruta/a/mi/archivo/script.py`\n",
        "\n",
        "* Otra forma es que cron se posicione en la ruta del archivo y luego solo lo corra. Ejemplo:\n",
        "`* * * * * cd /ruta/a/mi/archivo && python script.py`\n"
      ]
    },
    {
      "cell_type": "code",
      "execution_count": null,
      "metadata": {
        "id": "VLbKxKvOH3Ru"
      },
      "outputs": [],
      "source": [
        "def escribir_archivo():\n",
        "\twith open('prueba.txt', 'a+') as f:\n",
        "\t\tf.write('Esribiendo archivo desde Cron\\n')\n",
        "\t\t\n",
        "if __name__ == '__main__':\n",
        "\tescribir_archivo()"
      ]
    },
    {
      "cell_type": "code",
      "execution_count": null,
      "metadata": {},
      "outputs": [],
      "source": [
        "# Ejercicio para hacer con CRON o con el programador de tareas de windows:\n",
        "# Enviarse un mail a ustedes mismos cada 8 horas diciendo que van a avanzar con Python y lograr sus objetivos :)"
      ]
    },
    {
      "cell_type": "markdown",
      "metadata": {
        "id": "O7mhNV3-TAXy"
      },
      "source": [
        "### Recursos\n",
        "\n",
        "* Google Data Studio\n",
        "  * https://datastudio.google.com/gallery les recomendamos ver la galeria para inspirarse y ver todo lo que se puede hacer con esta herramienta\n",
        "\n",
        "\n",
        "* cron: \n",
        "  * [Video de Corey Schafer](https://www.youtube.com/watch?v=QZJ1drMQz1A&t=12s&ab_channel=CoreySchafer) , aunque esta en ingles se los super recomiendo\n",
        "  * https://crontab.guru/ Ayuda a escribir los comandos de cron\n",
        "\n"
      ]
    }
  ],
  "metadata": {
    "colab": {
      "collapsed_sections": [],
      "name": "clase-automatizacion-2.ipynb",
      "provenance": []
    },
    "interpreter": {
      "hash": "9458a9a65781ffd0b5785bc24d0483247d085e6235fe3761510e837e1e2f897e"
    },
    "kernelspec": {
      "display_name": "Python 3",
      "language": "python",
      "name": "python3"
    },
    "language_info": {
      "codemirror_mode": {
        "name": "ipython",
        "version": 3
      },
      "file_extension": ".py",
      "mimetype": "text/x-python",
      "name": "python",
      "nbconvert_exporter": "python",
      "pygments_lexer": "ipython3",
      "version": "3.8.8"
    }
  },
  "nbformat": 4,
  "nbformat_minor": 0
}
