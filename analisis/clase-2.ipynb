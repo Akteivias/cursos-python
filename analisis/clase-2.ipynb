{
 "cells": [
  {
   "cell_type": "markdown",
   "metadata": {},
   "source": [
    "# Clase 2: Pandas y estadística descriptiva"
   ]
  },
  {
   "cell_type": "code",
   "execution_count": 45,
   "metadata": {},
   "outputs": [],
   "source": [
    "import pandas as pd\n",
    "import numpy as np\n",
    "import matplotlib\n",
    "\n",
    "matplotlib.style.use(\"ggplot\")\n",
    "%matplotlib inline"
   ]
  },
  {
   "cell_type": "markdown",
   "metadata": {},
   "source": [
    "## Parámetros y extracción de datos"
   ]
  },
  {
   "cell_type": "code",
   "execution_count": 5,
   "metadata": {},
   "outputs": [],
   "source": [
    "# input\n",
    "CASOS_URL = \"https://sisa.msal.gov.ar/datos/descargas/covid-19/files/Covid19Casos.csv\"\n",
    "DETERMINACONES_URL = \"https://sisa.msal.gov.ar/datos/descargas/covid-19/files/Covid19Determinaciones.csv\"\n",
    "CASOS_PATH = \"data/covid_casos.csv\"\n",
    "DETERMINACIONES_PATH = \"data/covid_determinaciones.csv\"\n",
    "\n",
    "# output\n",
    "PANEL_CASOS_PATH = \"data/covid19-casos-panel.csv\""
   ]
  },
  {
   "cell_type": "markdown",
   "metadata": {},
   "source": [
    "Si los sacamos de internet, podemos usar directamente la URL de cualquier CSV. Siempre es buena práctica guardar una copia por si en algún momento una URL deja de estar disponible."
   ]
  },
  {
   "cell_type": "code",
   "execution_count": 12,
   "metadata": {},
   "outputs": [],
   "source": [
    "#casos = pd.read_csv(CASOS_URL, encoding=\"utf-16le\")\n",
    "#determinaciones = pd.read_csv(DETERMINACONES_URL, encoding=\"utf-16le\")\n",
    "\n",
    "#casos.to_csv(CASOS_PATH, encoding=\"utf8\", index=False)\n",
    "#determinaciones.to_csv(DETERMINACIONES_PATH, encoding=\"utf8\", index=False)"
   ]
  },
  {
   "cell_type": "code",
   "execution_count": 11,
   "metadata": {},
   "outputs": [],
   "source": [
    "converters = {\n",
    "    \"residencia_provincia_id\": lambda x: str(x).zfill(2),\n",
    "    \"departamento_provincia_id\": lambda x: str(x).zfill(3)\n",
    "}\n",
    "\n",
    "casos = pd.read_csv(CASOS_PATH, converters=converters)\n",
    "determinaciones = pd.read_csv(DETERMINACIONES_PATH, converters=converters)"
   ]
  },
  {
   "cell_type": "markdown",
   "metadata": {},
   "source": [
    "## Pivot table"
   ]
  },
  {
   "cell_type": "markdown",
   "metadata": {},
   "source": [
    "https://pandas.pydata.org/pandas-docs/stable/reference/api/pandas.pivot_table.html"
   ]
  },
  {
   "cell_type": "markdown",
   "metadata": {},
   "source": [
    "La función de `DataFrame.pivot_table` permite crear una tabla dinámica (de la misma forma que se podría hacer en una planilla de cálculo como Excel) fácilmente, eligiendo qué columnas se quieren mostrar en:\n",
    "\n",
    "* **índice (index)**: lo que se usa para abrir los datos en filas.\n",
    "* **columnas (columns)**: lo que se usa para abrir los datos en columnas.\n",
    "* **valores (values)**: las variables que se quieren abrir en filas y columnas.\n",
    "\n",
    "Y se puede elegir una o más funciones de agregación para aplicar a los valores cuando son agregados."
   ]
  },
  {
   "cell_type": "markdown",
   "metadata": {},
   "source": [
    "### Contar casos a partir de un registro"
   ]
  },
  {
   "cell_type": "markdown",
   "metadata": {},
   "source": [
    "**Casos**\n",
    "\n",
    "En el dataset de **casos** nos enfrentamos a un **registro**: el dataset es una lista de casos, donde cada fila es un \"caso\". No tenemos columnas con variables agregadas, tenemos la materia prima sobre la cual se construyen las estadísticas o las agregaciones de cualquier tipo.\n",
    "\n",
    "Las tablas dinámicas son una buena forma de agregar! En este caso la primera agregación obvia es _contar casos_. Tratemos de **contar la cantidad de casos de Covid por provincia**. "
   ]
  },
  {
   "cell_type": "code",
   "execution_count": 31,
   "metadata": {},
   "outputs": [
    {
     "data": {
      "text/plain": [
       "Index(['id_evento_caso', 'sexo', 'edad', 'edad_años_meses',\n",
       "       'residencia_pais_nombre', 'residencia_provincia_nombre',\n",
       "       'residencia_departamento_nombre', 'carga_provincia_nombre',\n",
       "       'fecha_inicio_sintomas', 'fecha_apertura', 'sepi_apertura',\n",
       "       'fecha_internacion', 'cuidado_intensivo', 'fecha_cui_intensivo',\n",
       "       'fallecido', 'fecha_fallecimiento', 'asistencia_respiratoria_mecanica',\n",
       "       'carga_provincia_id', 'origen_financiamiento', 'Clasificacion',\n",
       "       'clasificacion_resumen', 'residencia_provincia_id', 'fecha_diagnostico',\n",
       "       'residencia_departamento_id', 'ultima_actualizacion'],\n",
       "      dtype='object')"
      ]
     },
     "execution_count": 31,
     "metadata": {},
     "output_type": "execute_result"
    }
   ],
   "source": [
    "casos.columns"
   ]
  },
  {
   "cell_type": "code",
   "execution_count": 15,
   "metadata": {},
   "outputs": [
    {
     "data": {
      "text/html": [
       "<div>\n",
       "<style scoped>\n",
       "    .dataframe tbody tr th:only-of-type {\n",
       "        vertical-align: middle;\n",
       "    }\n",
       "\n",
       "    .dataframe tbody tr th {\n",
       "        vertical-align: top;\n",
       "    }\n",
       "\n",
       "    .dataframe thead th {\n",
       "        text-align: right;\n",
       "    }\n",
       "</style>\n",
       "<table border=\"1\" class=\"dataframe\">\n",
       "  <thead>\n",
       "    <tr style=\"text-align: right;\">\n",
       "      <th></th>\n",
       "      <th>id_evento_caso</th>\n",
       "      <th>sexo</th>\n",
       "      <th>edad</th>\n",
       "      <th>edad_años_meses</th>\n",
       "      <th>residencia_pais_nombre</th>\n",
       "      <th>residencia_provincia_nombre</th>\n",
       "      <th>residencia_departamento_nombre</th>\n",
       "      <th>carga_provincia_nombre</th>\n",
       "      <th>fecha_inicio_sintomas</th>\n",
       "      <th>fecha_apertura</th>\n",
       "      <th>...</th>\n",
       "      <th>fecha_fallecimiento</th>\n",
       "      <th>asistencia_respiratoria_mecanica</th>\n",
       "      <th>carga_provincia_id</th>\n",
       "      <th>origen_financiamiento</th>\n",
       "      <th>Clasificacion</th>\n",
       "      <th>clasificacion_resumen</th>\n",
       "      <th>residencia_provincia_id</th>\n",
       "      <th>fecha_diagnostico</th>\n",
       "      <th>residencia_departamento_id</th>\n",
       "      <th>ultima_actualizacion</th>\n",
       "    </tr>\n",
       "  </thead>\n",
       "  <tbody>\n",
       "    <tr>\n",
       "      <td>0</td>\n",
       "      <td>672064</td>\n",
       "      <td>M</td>\n",
       "      <td>52.0</td>\n",
       "      <td>Años</td>\n",
       "      <td>Argentina</td>\n",
       "      <td>Buenos Aires</td>\n",
       "      <td>Florencio Varela</td>\n",
       "      <td>Buenos Aires</td>\n",
       "      <td>2020-05-29</td>\n",
       "      <td>NaN</td>\n",
       "      <td>...</td>\n",
       "      <td>NaN</td>\n",
       "      <td>NO</td>\n",
       "      <td>6</td>\n",
       "      <td>Público</td>\n",
       "      <td>Caso Descartado</td>\n",
       "      <td>Descartado</td>\n",
       "      <td>06</td>\n",
       "      <td>2020-06-01</td>\n",
       "      <td>274</td>\n",
       "      <td>2020-06-15</td>\n",
       "    </tr>\n",
       "    <tr>\n",
       "      <td>1</td>\n",
       "      <td>717629</td>\n",
       "      <td>F</td>\n",
       "      <td>46.0</td>\n",
       "      <td>Años</td>\n",
       "      <td>Argentina</td>\n",
       "      <td>Buenos Aires</td>\n",
       "      <td>Pergamino</td>\n",
       "      <td>Buenos Aires</td>\n",
       "      <td>2020-01-29</td>\n",
       "      <td>2020-01-31</td>\n",
       "      <td>...</td>\n",
       "      <td>NaN</td>\n",
       "      <td>NO</td>\n",
       "      <td>6</td>\n",
       "      <td>Público</td>\n",
       "      <td>Caso Descartado</td>\n",
       "      <td>Descartado</td>\n",
       "      <td>06</td>\n",
       "      <td>NaN</td>\n",
       "      <td>623</td>\n",
       "      <td>2020-06-15</td>\n",
       "    </tr>\n",
       "    <tr>\n",
       "      <td>2</td>\n",
       "      <td>717926</td>\n",
       "      <td>F</td>\n",
       "      <td>41.0</td>\n",
       "      <td>Años</td>\n",
       "      <td>Argentina</td>\n",
       "      <td>CABA</td>\n",
       "      <td>COMUNA 12</td>\n",
       "      <td>CABA</td>\n",
       "      <td>2020-01-23</td>\n",
       "      <td>2020-01-31</td>\n",
       "      <td>...</td>\n",
       "      <td>NaN</td>\n",
       "      <td>NO</td>\n",
       "      <td>2</td>\n",
       "      <td>Público</td>\n",
       "      <td>Caso Invalidado Epidemiologicamente</td>\n",
       "      <td>Descartado</td>\n",
       "      <td>02</td>\n",
       "      <td>NaN</td>\n",
       "      <td>12</td>\n",
       "      <td>2020-06-15</td>\n",
       "    </tr>\n",
       "    <tr>\n",
       "      <td>3</td>\n",
       "      <td>718029</td>\n",
       "      <td>F</td>\n",
       "      <td>52.0</td>\n",
       "      <td>Años</td>\n",
       "      <td>Argentina</td>\n",
       "      <td>Buenos Aires</td>\n",
       "      <td>La Plata</td>\n",
       "      <td>Buenos Aires</td>\n",
       "      <td>2020-01-29</td>\n",
       "      <td>2020-01-31</td>\n",
       "      <td>...</td>\n",
       "      <td>NaN</td>\n",
       "      <td>NO</td>\n",
       "      <td>6</td>\n",
       "      <td>Público</td>\n",
       "      <td>Caso Invalidado Epidemiologicamente</td>\n",
       "      <td>Descartado</td>\n",
       "      <td>06</td>\n",
       "      <td>NaN</td>\n",
       "      <td>441</td>\n",
       "      <td>2020-06-15</td>\n",
       "    </tr>\n",
       "    <tr>\n",
       "      <td>4</td>\n",
       "      <td>718055</td>\n",
       "      <td>F</td>\n",
       "      <td>34.0</td>\n",
       "      <td>Años</td>\n",
       "      <td>Argentina</td>\n",
       "      <td>CABA</td>\n",
       "      <td>SIN ESPECIFICAR</td>\n",
       "      <td>CABA</td>\n",
       "      <td>2020-01-16</td>\n",
       "      <td>2020-01-31</td>\n",
       "      <td>...</td>\n",
       "      <td>NaN</td>\n",
       "      <td>NO</td>\n",
       "      <td>2</td>\n",
       "      <td>Privado</td>\n",
       "      <td>Caso Descartado</td>\n",
       "      <td>Descartado</td>\n",
       "      <td>02</td>\n",
       "      <td>2020-02-11</td>\n",
       "      <td>0</td>\n",
       "      <td>2020-06-15</td>\n",
       "    </tr>\n",
       "  </tbody>\n",
       "</table>\n",
       "<p>5 rows × 25 columns</p>\n",
       "</div>"
      ],
      "text/plain": [
       "   id_evento_caso sexo  edad edad_años_meses residencia_pais_nombre  \\\n",
       "0          672064    M  52.0            Años              Argentina   \n",
       "1          717629    F  46.0            Años              Argentina   \n",
       "2          717926    F  41.0            Años              Argentina   \n",
       "3          718029    F  52.0            Años              Argentina   \n",
       "4          718055    F  34.0            Años              Argentina   \n",
       "\n",
       "  residencia_provincia_nombre residencia_departamento_nombre  \\\n",
       "0                Buenos Aires               Florencio Varela   \n",
       "1                Buenos Aires                      Pergamino   \n",
       "2                        CABA                      COMUNA 12   \n",
       "3                Buenos Aires                       La Plata   \n",
       "4                        CABA                SIN ESPECIFICAR   \n",
       "\n",
       "  carga_provincia_nombre fecha_inicio_sintomas fecha_apertura  ...  \\\n",
       "0           Buenos Aires            2020-05-29            NaN  ...   \n",
       "1           Buenos Aires            2020-01-29     2020-01-31  ...   \n",
       "2                   CABA            2020-01-23     2020-01-31  ...   \n",
       "3           Buenos Aires            2020-01-29     2020-01-31  ...   \n",
       "4                   CABA            2020-01-16     2020-01-31  ...   \n",
       "\n",
       "   fecha_fallecimiento asistencia_respiratoria_mecanica carga_provincia_id  \\\n",
       "0                  NaN                               NO                  6   \n",
       "1                  NaN                               NO                  6   \n",
       "2                  NaN                               NO                  2   \n",
       "3                  NaN                               NO                  6   \n",
       "4                  NaN                               NO                  2   \n",
       "\n",
       "  origen_financiamiento                        Clasificacion  \\\n",
       "0               Público                      Caso Descartado   \n",
       "1               Público                      Caso Descartado   \n",
       "2               Público  Caso Invalidado Epidemiologicamente   \n",
       "3               Público  Caso Invalidado Epidemiologicamente   \n",
       "4               Privado                      Caso Descartado   \n",
       "\n",
       "  clasificacion_resumen residencia_provincia_id  fecha_diagnostico  \\\n",
       "0            Descartado                      06         2020-06-01   \n",
       "1            Descartado                      06                NaN   \n",
       "2            Descartado                      02                NaN   \n",
       "3            Descartado                      06                NaN   \n",
       "4            Descartado                      02         2020-02-11   \n",
       "\n",
       "  residencia_departamento_id ultima_actualizacion  \n",
       "0                        274           2020-06-15  \n",
       "1                        623           2020-06-15  \n",
       "2                         12           2020-06-15  \n",
       "3                        441           2020-06-15  \n",
       "4                          0           2020-06-15  \n",
       "\n",
       "[5 rows x 25 columns]"
      ]
     },
     "execution_count": 15,
     "metadata": {},
     "output_type": "execute_result"
    }
   ],
   "source": [
    "# busquemos las columnas que vamos a necesitar usar primero\n",
    "casos.head()"
   ]
  },
  {
   "cell_type": "code",
   "execution_count": 28,
   "metadata": {},
   "outputs": [
    {
     "data": {
      "text/plain": [
       "array(['Buenos Aires', 'CABA', 'Córdoba', 'Mendoza', 'SIN ESPECIFICAR',\n",
       "       'Tierra del Fuego', 'Formosa', 'Corrientes', 'Santa Fe',\n",
       "       'Entre Ríos', 'La Rioja', 'Río Negro', 'Chaco', 'San Luis',\n",
       "       'San Juan', 'Santa Cruz', 'Tucumán', 'Neuquén', 'La Pampa',\n",
       "       'Catamarca', 'Chubut', 'Salta', 'Santiago del Estero', 'Jujuy',\n",
       "       'Misiones'], dtype=object)"
      ]
     },
     "execution_count": 28,
     "metadata": {},
     "output_type": "execute_result"
    }
   ],
   "source": [
    "casos.residencia_provincia_nombre.unique()"
   ]
  },
  {
   "cell_type": "code",
   "execution_count": 29,
   "metadata": {},
   "outputs": [
    {
     "name": "stdout",
     "output_type": "stream",
     "text": [
      "fecha_inicio_sintomas\n",
      "fecha_apertura\n",
      "fecha_internacion\n",
      "fecha_cui_intensivo\n",
      "fecha_fallecimiento\n",
      "fecha_diagnostico\n"
     ]
    }
   ],
   "source": [
    "for col in casos.columns:\n",
    "    if col.startswith(\"fecha\"):\n",
    "        print(col)"
   ]
  },
  {
   "cell_type": "code",
   "execution_count": 30,
   "metadata": {},
   "outputs": [
    {
     "data": {
      "text/plain": [
       "Descartado        169443\n",
       "Confirmado         32772\n",
       "Sospechoso         14667\n",
       "Sin Clasificar         6\n",
       "Name: clasificacion_resumen, dtype: int64"
      ]
     },
     "execution_count": 30,
     "metadata": {},
     "output_type": "execute_result"
    }
   ],
   "source": [
    "casos.clasificacion_resumen.value_counts()"
   ]
  },
  {
   "cell_type": "code",
   "execution_count": 33,
   "metadata": {},
   "outputs": [
    {
     "data": {
      "text/html": [
       "<div>\n",
       "<style scoped>\n",
       "    .dataframe tbody tr th:only-of-type {\n",
       "        vertical-align: middle;\n",
       "    }\n",
       "\n",
       "    .dataframe tbody tr th {\n",
       "        vertical-align: top;\n",
       "    }\n",
       "\n",
       "    .dataframe thead th {\n",
       "        text-align: right;\n",
       "    }\n",
       "</style>\n",
       "<table border=\"1\" class=\"dataframe\">\n",
       "  <thead>\n",
       "    <tr style=\"text-align: right;\">\n",
       "      <th></th>\n",
       "      <th>id_evento_caso</th>\n",
       "    </tr>\n",
       "    <tr>\n",
       "      <th>residencia_provincia_nombre</th>\n",
       "      <th></th>\n",
       "    </tr>\n",
       "  </thead>\n",
       "  <tbody>\n",
       "    <tr>\n",
       "      <td>CABA</td>\n",
       "      <td>15104</td>\n",
       "    </tr>\n",
       "    <tr>\n",
       "      <td>Buenos Aires</td>\n",
       "      <td>13710</td>\n",
       "    </tr>\n",
       "    <tr>\n",
       "      <td>Chaco</td>\n",
       "      <td>1364</td>\n",
       "    </tr>\n",
       "    <tr>\n",
       "      <td>Río Negro</td>\n",
       "      <td>564</td>\n",
       "    </tr>\n",
       "    <tr>\n",
       "      <td>Córdoba</td>\n",
       "      <td>497</td>\n",
       "    </tr>\n",
       "    <tr>\n",
       "      <td>Santa Fe</td>\n",
       "      <td>285</td>\n",
       "    </tr>\n",
       "    <tr>\n",
       "      <td>SIN ESPECIFICAR</td>\n",
       "      <td>216</td>\n",
       "    </tr>\n",
       "    <tr>\n",
       "      <td>Neuquén</td>\n",
       "      <td>212</td>\n",
       "    </tr>\n",
       "    <tr>\n",
       "      <td>Tierra del Fuego</td>\n",
       "      <td>136</td>\n",
       "    </tr>\n",
       "    <tr>\n",
       "      <td>Mendoza</td>\n",
       "      <td>112</td>\n",
       "    </tr>\n",
       "    <tr>\n",
       "      <td>Corrientes</td>\n",
       "      <td>104</td>\n",
       "    </tr>\n",
       "    <tr>\n",
       "      <td>Entre Ríos</td>\n",
       "      <td>88</td>\n",
       "    </tr>\n",
       "    <tr>\n",
       "      <td>La Rioja</td>\n",
       "      <td>64</td>\n",
       "    </tr>\n",
       "    <tr>\n",
       "      <td>Chubut</td>\n",
       "      <td>61</td>\n",
       "    </tr>\n",
       "    <tr>\n",
       "      <td>Tucumán</td>\n",
       "      <td>56</td>\n",
       "    </tr>\n",
       "    <tr>\n",
       "      <td>Santa Cruz</td>\n",
       "      <td>50</td>\n",
       "    </tr>\n",
       "    <tr>\n",
       "      <td>Misiones</td>\n",
       "      <td>39</td>\n",
       "    </tr>\n",
       "    <tr>\n",
       "      <td>Formosa</td>\n",
       "      <td>34</td>\n",
       "    </tr>\n",
       "    <tr>\n",
       "      <td>Salta</td>\n",
       "      <td>23</td>\n",
       "    </tr>\n",
       "    <tr>\n",
       "      <td>Santiago del Estero</td>\n",
       "      <td>22</td>\n",
       "    </tr>\n",
       "    <tr>\n",
       "      <td>San Luis</td>\n",
       "      <td>11</td>\n",
       "    </tr>\n",
       "    <tr>\n",
       "      <td>San Juan</td>\n",
       "      <td>7</td>\n",
       "    </tr>\n",
       "    <tr>\n",
       "      <td>Jujuy</td>\n",
       "      <td>7</td>\n",
       "    </tr>\n",
       "    <tr>\n",
       "      <td>La Pampa</td>\n",
       "      <td>6</td>\n",
       "    </tr>\n",
       "  </tbody>\n",
       "</table>\n",
       "</div>"
      ],
      "text/plain": [
       "                             id_evento_caso\n",
       "residencia_provincia_nombre                \n",
       "CABA                                  15104\n",
       "Buenos Aires                          13710\n",
       "Chaco                                  1364\n",
       "Río Negro                               564\n",
       "Córdoba                                 497\n",
       "Santa Fe                                285\n",
       "SIN ESPECIFICAR                         216\n",
       "Neuquén                                 212\n",
       "Tierra del Fuego                        136\n",
       "Mendoza                                 112\n",
       "Corrientes                              104\n",
       "Entre Ríos                               88\n",
       "La Rioja                                 64\n",
       "Chubut                                   61\n",
       "Tucumán                                  56\n",
       "Santa Cruz                               50\n",
       "Misiones                                 39\n",
       "Formosa                                  34\n",
       "Salta                                    23\n",
       "Santiago del Estero                      22\n",
       "San Luis                                 11\n",
       "San Juan                                  7\n",
       "Jujuy                                     7\n",
       "La Pampa                                  6"
      ]
     },
     "execution_count": 33,
     "metadata": {},
     "output_type": "execute_result"
    }
   ],
   "source": [
    "casos_provincias = casos[casos.clasificacion_resumen == \"Confirmado\"].pivot_table(\n",
    "    index=[\"residencia_provincia_nombre\"],\n",
    "    values=[\"id_evento_caso\"],\n",
    "    aggfunc=\"count\"\n",
    ")\n",
    "casos_provincias.sort_values(\"id_evento_caso\", ascending=False)"
   ]
  },
  {
   "cell_type": "markdown",
   "metadata": {},
   "source": [
    "Primer reflejo que siempre tenés que tener: controlar el resultado con algún parámetro conocido (en lo posible). En este caso, tratemos de ver si la suma de casos tiene sentido o no."
   ]
  },
  {
   "cell_type": "code",
   "execution_count": 34,
   "metadata": {},
   "outputs": [
    {
     "data": {
      "text/plain": [
       "32772"
      ]
     },
     "execution_count": 34,
     "metadata": {},
     "output_type": "execute_result"
    }
   ],
   "source": [
    "casos_provincias.id_evento_caso.sum()"
   ]
  },
  {
   "cell_type": "markdown",
   "metadata": {},
   "source": [
    "En Google se muestra siempre el último dato reportado a la OMS, es un buen control\n",
    "\n",
    "https://www.google.com/search?q=casos+coronavirus+argentina&oq=casos+coronavirus&aqs=chrome.1.69i57j0l6j69i60.3332j0j7&sourceid=chrome&ie=UTF-8"
   ]
  },
  {
   "cell_type": "markdown",
   "metadata": {},
   "source": [
    "**Ejercicio:** crear una tabla contando la cantidad de casos fallecidos y controlarla. Pista: tenés que agregar un filtro más a la tabla anterior, que use la columna \"fecha_fallecimiento\"."
   ]
  },
  {
   "cell_type": "code",
   "execution_count": null,
   "metadata": {},
   "outputs": [],
   "source": []
  },
  {
   "cell_type": "markdown",
   "metadata": {},
   "source": [
    "### Crear un panel a partir de un registro"
   ]
  },
  {
   "cell_type": "markdown",
   "metadata": {},
   "source": [
    "Una estructura muy común de dataset de **panel** tiene:\n",
    "\n",
    "* 1 o más variables (generalmente numéricas)\n",
    "* 1 dimensión de apertura temporal\n",
    "* 1 o más dimensiones de apertura _no temporales_\n",
    "\n",
    "Convertir registros en paneles, es un paso lógico en el procesamiento de datos primarios hacia la construcción de productos estadísticos o analíticos. Encapsula una parte del esfuerzo que conviene hacer bien de una sola vez, y luego utilizar el panel fácilmente para la mayoría de nuestras necesidades. \n",
    "\n",
    "En este caso vamos a elegir cuáles son nuestras variables de interés para **construir el panel de casos de Covid**:\n",
    "\n",
    "* provincia\n",
    "* sexo\n",
    "* fecha (tiene que haber una dimensión temporal)"
   ]
  },
  {
   "cell_type": "code",
   "execution_count": 47,
   "metadata": {},
   "outputs": [
    {
     "data": {
      "text/html": [
       "<div>\n",
       "<style scoped>\n",
       "    .dataframe tbody tr th:only-of-type {\n",
       "        vertical-align: middle;\n",
       "    }\n",
       "\n",
       "    .dataframe tbody tr th {\n",
       "        vertical-align: top;\n",
       "    }\n",
       "\n",
       "    .dataframe thead th {\n",
       "        text-align: right;\n",
       "    }\n",
       "</style>\n",
       "<table border=\"1\" class=\"dataframe\">\n",
       "  <thead>\n",
       "    <tr style=\"text-align: right;\">\n",
       "      <th></th>\n",
       "      <th>residencia_provincia_id</th>\n",
       "      <th>residencia_provincia_nombre</th>\n",
       "      <th>sexo</th>\n",
       "      <th>fecha_diagnostico</th>\n",
       "      <th>id_evento_caso</th>\n",
       "    </tr>\n",
       "  </thead>\n",
       "  <tbody>\n",
       "    <tr>\n",
       "      <td>0</td>\n",
       "      <td>02</td>\n",
       "      <td>CABA</td>\n",
       "      <td>F</td>\n",
       "      <td>2020-03-06</td>\n",
       "      <td>1</td>\n",
       "    </tr>\n",
       "    <tr>\n",
       "      <td>1</td>\n",
       "      <td>02</td>\n",
       "      <td>CABA</td>\n",
       "      <td>F</td>\n",
       "      <td>2020-03-13</td>\n",
       "      <td>1</td>\n",
       "    </tr>\n",
       "    <tr>\n",
       "      <td>2</td>\n",
       "      <td>02</td>\n",
       "      <td>CABA</td>\n",
       "      <td>F</td>\n",
       "      <td>2020-03-14</td>\n",
       "      <td>3</td>\n",
       "    </tr>\n",
       "    <tr>\n",
       "      <td>3</td>\n",
       "      <td>02</td>\n",
       "      <td>CABA</td>\n",
       "      <td>F</td>\n",
       "      <td>2020-03-15</td>\n",
       "      <td>2</td>\n",
       "    </tr>\n",
       "    <tr>\n",
       "      <td>4</td>\n",
       "      <td>02</td>\n",
       "      <td>CABA</td>\n",
       "      <td>F</td>\n",
       "      <td>2020-03-16</td>\n",
       "      <td>2</td>\n",
       "    </tr>\n",
       "    <tr>\n",
       "      <td>...</td>\n",
       "      <td>...</td>\n",
       "      <td>...</td>\n",
       "      <td>...</td>\n",
       "      <td>...</td>\n",
       "      <td>...</td>\n",
       "    </tr>\n",
       "    <tr>\n",
       "      <td>1585</td>\n",
       "      <td>99</td>\n",
       "      <td>SIN ESPECIFICAR</td>\n",
       "      <td>M</td>\n",
       "      <td>2020-06-12</td>\n",
       "      <td>4</td>\n",
       "    </tr>\n",
       "    <tr>\n",
       "      <td>1586</td>\n",
       "      <td>99</td>\n",
       "      <td>SIN ESPECIFICAR</td>\n",
       "      <td>M</td>\n",
       "      <td>2020-06-13</td>\n",
       "      <td>3</td>\n",
       "    </tr>\n",
       "    <tr>\n",
       "      <td>1587</td>\n",
       "      <td>99</td>\n",
       "      <td>SIN ESPECIFICAR</td>\n",
       "      <td>M</td>\n",
       "      <td>2020-06-14</td>\n",
       "      <td>4</td>\n",
       "    </tr>\n",
       "    <tr>\n",
       "      <td>1588</td>\n",
       "      <td>99</td>\n",
       "      <td>SIN ESPECIFICAR</td>\n",
       "      <td>NR</td>\n",
       "      <td>2020-05-30</td>\n",
       "      <td>1</td>\n",
       "    </tr>\n",
       "    <tr>\n",
       "      <td>1589</td>\n",
       "      <td>99</td>\n",
       "      <td>SIN ESPECIFICAR</td>\n",
       "      <td>NR</td>\n",
       "      <td>2020-06-12</td>\n",
       "      <td>1</td>\n",
       "    </tr>\n",
       "  </tbody>\n",
       "</table>\n",
       "<p>1590 rows × 5 columns</p>\n",
       "</div>"
      ],
      "text/plain": [
       "     residencia_provincia_id residencia_provincia_nombre sexo  \\\n",
       "0                         02                        CABA    F   \n",
       "1                         02                        CABA    F   \n",
       "2                         02                        CABA    F   \n",
       "3                         02                        CABA    F   \n",
       "4                         02                        CABA    F   \n",
       "...                      ...                         ...  ...   \n",
       "1585                      99             SIN ESPECIFICAR    M   \n",
       "1586                      99             SIN ESPECIFICAR    M   \n",
       "1587                      99             SIN ESPECIFICAR    M   \n",
       "1588                      99             SIN ESPECIFICAR   NR   \n",
       "1589                      99             SIN ESPECIFICAR   NR   \n",
       "\n",
       "     fecha_diagnostico  id_evento_caso  \n",
       "0           2020-03-06               1  \n",
       "1           2020-03-13               1  \n",
       "2           2020-03-14               3  \n",
       "3           2020-03-15               2  \n",
       "4           2020-03-16               2  \n",
       "...                ...             ...  \n",
       "1585        2020-06-12               4  \n",
       "1586        2020-06-13               3  \n",
       "1587        2020-06-14               4  \n",
       "1588        2020-05-30               1  \n",
       "1589        2020-06-12               1  \n",
       "\n",
       "[1590 rows x 5 columns]"
      ]
     },
     "execution_count": 47,
     "metadata": {},
     "output_type": "execute_result"
    }
   ],
   "source": [
    "casos_panel = casos[casos.clasificacion_resumen == \"Confirmado\"].pivot_table(\n",
    "    index=[\n",
    "        \"residencia_provincia_id\",\n",
    "        \"residencia_provincia_nombre\",\n",
    "        \"sexo\",\n",
    "        \"fecha_diagnostico\"\n",
    "    ],\n",
    "    values=[\"id_evento_caso\"],\n",
    "    aggfunc=\"count\"\n",
    ").reset_index()\n",
    "casos_panel"
   ]
  },
  {
   "cell_type": "markdown",
   "metadata": {},
   "source": [
    "Ahora realizar distintos gráficos es muy fácil! Sólo hay que hacer una tabla dinámica sobre nuestro panel eligiendo las variables."
   ]
  },
  {
   "cell_type": "code",
   "execution_count": 48,
   "metadata": {},
   "outputs": [
    {
     "data": {
      "text/html": [
       "<div>\n",
       "<style scoped>\n",
       "    .dataframe tbody tr th:only-of-type {\n",
       "        vertical-align: middle;\n",
       "    }\n",
       "\n",
       "    .dataframe tbody tr th {\n",
       "        vertical-align: top;\n",
       "    }\n",
       "\n",
       "    .dataframe thead th {\n",
       "        text-align: right;\n",
       "    }\n",
       "</style>\n",
       "<table border=\"1\" class=\"dataframe\">\n",
       "  <thead>\n",
       "    <tr style=\"text-align: right;\">\n",
       "      <th>sexo</th>\n",
       "      <th>F</th>\n",
       "      <th>M</th>\n",
       "      <th>NR</th>\n",
       "    </tr>\n",
       "    <tr>\n",
       "      <th>fecha_diagnostico</th>\n",
       "      <th></th>\n",
       "      <th></th>\n",
       "      <th></th>\n",
       "    </tr>\n",
       "  </thead>\n",
       "  <tbody>\n",
       "    <tr>\n",
       "      <td>2020-03-03</td>\n",
       "      <td>NaN</td>\n",
       "      <td>1.0</td>\n",
       "      <td>NaN</td>\n",
       "    </tr>\n",
       "    <tr>\n",
       "      <td>2020-03-06</td>\n",
       "      <td>2.0</td>\n",
       "      <td>4.0</td>\n",
       "      <td>NaN</td>\n",
       "    </tr>\n",
       "    <tr>\n",
       "      <td>2020-03-07</td>\n",
       "      <td>NaN</td>\n",
       "      <td>1.0</td>\n",
       "      <td>NaN</td>\n",
       "    </tr>\n",
       "    <tr>\n",
       "      <td>2020-03-08</td>\n",
       "      <td>NaN</td>\n",
       "      <td>2.0</td>\n",
       "      <td>NaN</td>\n",
       "    </tr>\n",
       "    <tr>\n",
       "      <td>2020-03-09</td>\n",
       "      <td>5.0</td>\n",
       "      <td>1.0</td>\n",
       "      <td>NaN</td>\n",
       "    </tr>\n",
       "    <tr>\n",
       "      <td>...</td>\n",
       "      <td>...</td>\n",
       "      <td>...</td>\n",
       "      <td>...</td>\n",
       "    </tr>\n",
       "    <tr>\n",
       "      <td>2020-06-11</td>\n",
       "      <td>743.0</td>\n",
       "      <td>717.0</td>\n",
       "      <td>11.0</td>\n",
       "    </tr>\n",
       "    <tr>\n",
       "      <td>2020-06-12</td>\n",
       "      <td>719.0</td>\n",
       "      <td>825.0</td>\n",
       "      <td>7.0</td>\n",
       "    </tr>\n",
       "    <tr>\n",
       "      <td>2020-06-13</td>\n",
       "      <td>659.0</td>\n",
       "      <td>700.0</td>\n",
       "      <td>3.0</td>\n",
       "    </tr>\n",
       "    <tr>\n",
       "      <td>2020-06-14</td>\n",
       "      <td>406.0</td>\n",
       "      <td>410.0</td>\n",
       "      <td>2.0</td>\n",
       "    </tr>\n",
       "    <tr>\n",
       "      <td>2020-06-15</td>\n",
       "      <td>240.0</td>\n",
       "      <td>227.0</td>\n",
       "      <td>1.0</td>\n",
       "    </tr>\n",
       "  </tbody>\n",
       "</table>\n",
       "<p>103 rows × 3 columns</p>\n",
       "</div>"
      ],
      "text/plain": [
       "sexo                   F      M    NR\n",
       "fecha_diagnostico                    \n",
       "2020-03-03           NaN    1.0   NaN\n",
       "2020-03-06           2.0    4.0   NaN\n",
       "2020-03-07           NaN    1.0   NaN\n",
       "2020-03-08           NaN    2.0   NaN\n",
       "2020-03-09           5.0    1.0   NaN\n",
       "...                  ...    ...   ...\n",
       "2020-06-11         743.0  717.0  11.0\n",
       "2020-06-12         719.0  825.0   7.0\n",
       "2020-06-13         659.0  700.0   3.0\n",
       "2020-06-14         406.0  410.0   2.0\n",
       "2020-06-15         240.0  227.0   1.0\n",
       "\n",
       "[103 rows x 3 columns]"
      ]
     },
     "execution_count": 48,
     "metadata": {},
     "output_type": "execute_result"
    }
   ],
   "source": [
    "casos_evolucion_genero = casos_panel.pivot_table(\n",
    "    columns=\"sexo\",\n",
    "    index=\"fecha_diagnostico\",\n",
    "    values=\"id_evento_caso\",\n",
    "    aggfunc=\"sum\"\n",
    ")\n",
    "casos_evolucion_genero"
   ]
  },
  {
   "cell_type": "code",
   "execution_count": 49,
   "metadata": {},
   "outputs": [
    {
     "data": {
      "text/plain": [
       "<matplotlib.axes._subplots.AxesSubplot at 0x7ff35a38e650>"
      ]
     },
     "execution_count": 49,
     "metadata": {},
     "output_type": "execute_result"
    },
    {
     "data": {
      "image/png": "[encoded data removed]",
      "text/plain": [
       "<Figure size 1080x720 with 1 Axes>"
      ]
     },
     "metadata": {
      "needs_background": "light"
     },
     "output_type": "display_data"
    }
   ],
   "source": [
    "casos_evolucion_genero.plot(figsize=(15, 10))"
   ]
  },
  {
   "cell_type": "markdown",
   "metadata": {},
   "source": [
    "**Ejercicio:** graficar la evolución de casos por provincia."
   ]
  },
  {
   "cell_type": "code",
   "execution_count": null,
   "metadata": {},
   "outputs": [],
   "source": []
  },
  {
   "cell_type": "markdown",
   "metadata": {},
   "source": [
    "## Concat "
   ]
  },
  {
   "cell_type": "markdown",
   "metadata": {},
   "source": [
    "https://pandas.pydata.org/pandas-docs/stable/reference/api/pandas.concat.html"
   ]
  },
  {
   "cell_type": "markdown",
   "metadata": {},
   "source": [
    "Pero ahora queremos graficar las curvas de casos confirmados y fallecidos, y nos damos cuenta de que a nuestro panel construido para trabajar le falta una nueva dimensión de apertura de la variable **casos**: el **estado** del caso.\n",
    "\n",
    "Tenemos que agregar la variable **estado** a nuestro panel, con por lo menos dos estados: **confirmados** y **fallecios**. Para esto vamos a construir paneles **idénticos** para cada una de las variables y concatenarlos."
   ]
  },
  {
   "cell_type": "code",
   "execution_count": 50,
   "metadata": {},
   "outputs": [
    {
     "data": {
      "text/html": [
       "<div>\n",
       "<style scoped>\n",
       "    .dataframe tbody tr th:only-of-type {\n",
       "        vertical-align: middle;\n",
       "    }\n",
       "\n",
       "    .dataframe tbody tr th {\n",
       "        vertical-align: top;\n",
       "    }\n",
       "\n",
       "    .dataframe thead th {\n",
       "        text-align: right;\n",
       "    }\n",
       "</style>\n",
       "<table border=\"1\" class=\"dataframe\">\n",
       "  <thead>\n",
       "    <tr style=\"text-align: right;\">\n",
       "      <th></th>\n",
       "      <th>residencia_provincia_id</th>\n",
       "      <th>residencia_provincia_nombre</th>\n",
       "      <th>sexo</th>\n",
       "      <th>fecha_diagnostico</th>\n",
       "      <th>id_evento_caso</th>\n",
       "    </tr>\n",
       "  </thead>\n",
       "  <tbody>\n",
       "    <tr>\n",
       "      <td>0</td>\n",
       "      <td>02</td>\n",
       "      <td>CABA</td>\n",
       "      <td>F</td>\n",
       "      <td>2020-03-06</td>\n",
       "      <td>1</td>\n",
       "    </tr>\n",
       "    <tr>\n",
       "      <td>1</td>\n",
       "      <td>02</td>\n",
       "      <td>CABA</td>\n",
       "      <td>F</td>\n",
       "      <td>2020-03-13</td>\n",
       "      <td>1</td>\n",
       "    </tr>\n",
       "    <tr>\n",
       "      <td>2</td>\n",
       "      <td>02</td>\n",
       "      <td>CABA</td>\n",
       "      <td>F</td>\n",
       "      <td>2020-03-14</td>\n",
       "      <td>3</td>\n",
       "    </tr>\n",
       "    <tr>\n",
       "      <td>3</td>\n",
       "      <td>02</td>\n",
       "      <td>CABA</td>\n",
       "      <td>F</td>\n",
       "      <td>2020-03-15</td>\n",
       "      <td>2</td>\n",
       "    </tr>\n",
       "    <tr>\n",
       "      <td>4</td>\n",
       "      <td>02</td>\n",
       "      <td>CABA</td>\n",
       "      <td>F</td>\n",
       "      <td>2020-03-16</td>\n",
       "      <td>2</td>\n",
       "    </tr>\n",
       "  </tbody>\n",
       "</table>\n",
       "</div>"
      ],
      "text/plain": [
       "  residencia_provincia_id residencia_provincia_nombre sexo fecha_diagnostico  \\\n",
       "0                      02                        CABA    F        2020-03-06   \n",
       "1                      02                        CABA    F        2020-03-13   \n",
       "2                      02                        CABA    F        2020-03-14   \n",
       "3                      02                        CABA    F        2020-03-15   \n",
       "4                      02                        CABA    F        2020-03-16   \n",
       "\n",
       "   id_evento_caso  \n",
       "0               1  \n",
       "1               1  \n",
       "2               3  \n",
       "3               2  \n",
       "4               2  "
      ]
     },
     "execution_count": 50,
     "metadata": {},
     "output_type": "execute_result"
    }
   ],
   "source": [
    "casos_panel_confirmados = casos[casos.clasificacion_resumen == \"Confirmado\"].pivot_table(\n",
    "    index=[\n",
    "        \"residencia_provincia_id\",\n",
    "        \"residencia_provincia_nombre\",\n",
    "        \"sexo\",\n",
    "        \"fecha_diagnostico\"\n",
    "    ],\n",
    "    values=[\"id_evento_caso\"],\n",
    "    aggfunc=\"count\"\n",
    ").reset_index()\n",
    "casos_panel_confirmados.head()"
   ]
  },
  {
   "cell_type": "markdown",
   "metadata": {},
   "source": [
    "Ahora armemos el panel de casos fallecidos con la misma estructura."
   ]
  },
  {
   "cell_type": "code",
   "execution_count": 53,
   "metadata": {},
   "outputs": [
    {
     "data": {
      "text/html": [
       "<div>\n",
       "<style scoped>\n",
       "    .dataframe tbody tr th:only-of-type {\n",
       "        vertical-align: middle;\n",
       "    }\n",
       "\n",
       "    .dataframe tbody tr th {\n",
       "        vertical-align: top;\n",
       "    }\n",
       "\n",
       "    .dataframe thead th {\n",
       "        text-align: right;\n",
       "    }\n",
       "</style>\n",
       "<table border=\"1\" class=\"dataframe\">\n",
       "  <thead>\n",
       "    <tr style=\"text-align: right;\">\n",
       "      <th></th>\n",
       "      <th>residencia_provincia_id</th>\n",
       "      <th>residencia_provincia_nombre</th>\n",
       "      <th>sexo</th>\n",
       "      <th>fecha_fallecimiento</th>\n",
       "      <th>id_evento_caso</th>\n",
       "    </tr>\n",
       "  </thead>\n",
       "  <tbody>\n",
       "    <tr>\n",
       "      <td>0</td>\n",
       "      <td>02</td>\n",
       "      <td>CABA</td>\n",
       "      <td>F</td>\n",
       "      <td>2020-03-25</td>\n",
       "      <td>2</td>\n",
       "    </tr>\n",
       "    <tr>\n",
       "      <td>1</td>\n",
       "      <td>02</td>\n",
       "      <td>CABA</td>\n",
       "      <td>F</td>\n",
       "      <td>2020-03-28</td>\n",
       "      <td>1</td>\n",
       "    </tr>\n",
       "    <tr>\n",
       "      <td>2</td>\n",
       "      <td>02</td>\n",
       "      <td>CABA</td>\n",
       "      <td>F</td>\n",
       "      <td>2020-04-06</td>\n",
       "      <td>1</td>\n",
       "    </tr>\n",
       "    <tr>\n",
       "      <td>3</td>\n",
       "      <td>02</td>\n",
       "      <td>CABA</td>\n",
       "      <td>F</td>\n",
       "      <td>2020-04-07</td>\n",
       "      <td>1</td>\n",
       "    </tr>\n",
       "    <tr>\n",
       "      <td>4</td>\n",
       "      <td>02</td>\n",
       "      <td>CABA</td>\n",
       "      <td>F</td>\n",
       "      <td>2020-04-09</td>\n",
       "      <td>2</td>\n",
       "    </tr>\n",
       "  </tbody>\n",
       "</table>\n",
       "</div>"
      ],
      "text/plain": [
       "  residencia_provincia_id residencia_provincia_nombre sexo  \\\n",
       "0                      02                        CABA    F   \n",
       "1                      02                        CABA    F   \n",
       "2                      02                        CABA    F   \n",
       "3                      02                        CABA    F   \n",
       "4                      02                        CABA    F   \n",
       "\n",
       "  fecha_fallecimiento  id_evento_caso  \n",
       "0          2020-03-25               2  \n",
       "1          2020-03-28               1  \n",
       "2          2020-04-06               1  \n",
       "3          2020-04-07               1  \n",
       "4          2020-04-09               2  "
      ]
     },
     "execution_count": 53,
     "metadata": {},
     "output_type": "execute_result"
    }
   ],
   "source": [
    "casos_panel_fallecidos = casos[casos.clasificacion_resumen == \"Confirmado\"].pivot_table(\n",
    "    index=[\n",
    "        \"residencia_provincia_id\",\n",
    "        \"residencia_provincia_nombre\",\n",
    "        \"sexo\",\n",
    "        \"fecha_fallecimiento\"\n",
    "    ],\n",
    "    values=[\"id_evento_caso\"],\n",
    "    aggfunc=\"count\"\n",
    ").reset_index()\n",
    "casos_panel_fallecidos.head()"
   ]
  },
  {
   "cell_type": "markdown",
   "metadata": {},
   "source": [
    "Y ahora necesitamos modificar ambos paneles para que tengan la misma estructura, y así poder concatenarlos.\n",
    "\n",
    "* Agregar una columna para la dimensión \"estado\"\n",
    "* Renombrar las columnas para que sigan teniendo sentido cuando sumemos información"
   ]
  },
  {
   "cell_type": "code",
   "execution_count": 51,
   "metadata": {},
   "outputs": [
    {
     "data": {
      "text/html": [
       "<div>\n",
       "<style scoped>\n",
       "    .dataframe tbody tr th:only-of-type {\n",
       "        vertical-align: middle;\n",
       "    }\n",
       "\n",
       "    .dataframe tbody tr th {\n",
       "        vertical-align: top;\n",
       "    }\n",
       "\n",
       "    .dataframe thead th {\n",
       "        text-align: right;\n",
       "    }\n",
       "</style>\n",
       "<table border=\"1\" class=\"dataframe\">\n",
       "  <thead>\n",
       "    <tr style=\"text-align: right;\">\n",
       "      <th></th>\n",
       "      <th>residencia_provincia_id</th>\n",
       "      <th>residencia_provincia_nombre</th>\n",
       "      <th>sexo</th>\n",
       "      <th>fecha</th>\n",
       "      <th>casos</th>\n",
       "      <th>estado</th>\n",
       "    </tr>\n",
       "  </thead>\n",
       "  <tbody>\n",
       "    <tr>\n",
       "      <td>0</td>\n",
       "      <td>02</td>\n",
       "      <td>CABA</td>\n",
       "      <td>F</td>\n",
       "      <td>2020-03-06</td>\n",
       "      <td>1</td>\n",
       "      <td>confirmados</td>\n",
       "    </tr>\n",
       "    <tr>\n",
       "      <td>1</td>\n",
       "      <td>02</td>\n",
       "      <td>CABA</td>\n",
       "      <td>F</td>\n",
       "      <td>2020-03-13</td>\n",
       "      <td>1</td>\n",
       "      <td>confirmados</td>\n",
       "    </tr>\n",
       "    <tr>\n",
       "      <td>2</td>\n",
       "      <td>02</td>\n",
       "      <td>CABA</td>\n",
       "      <td>F</td>\n",
       "      <td>2020-03-14</td>\n",
       "      <td>3</td>\n",
       "      <td>confirmados</td>\n",
       "    </tr>\n",
       "    <tr>\n",
       "      <td>3</td>\n",
       "      <td>02</td>\n",
       "      <td>CABA</td>\n",
       "      <td>F</td>\n",
       "      <td>2020-03-15</td>\n",
       "      <td>2</td>\n",
       "      <td>confirmados</td>\n",
       "    </tr>\n",
       "    <tr>\n",
       "      <td>4</td>\n",
       "      <td>02</td>\n",
       "      <td>CABA</td>\n",
       "      <td>F</td>\n",
       "      <td>2020-03-16</td>\n",
       "      <td>2</td>\n",
       "      <td>confirmados</td>\n",
       "    </tr>\n",
       "  </tbody>\n",
       "</table>\n",
       "</div>"
      ],
      "text/plain": [
       "  residencia_provincia_id residencia_provincia_nombre sexo       fecha  casos  \\\n",
       "0                      02                        CABA    F  2020-03-06      1   \n",
       "1                      02                        CABA    F  2020-03-13      1   \n",
       "2                      02                        CABA    F  2020-03-14      3   \n",
       "3                      02                        CABA    F  2020-03-15      2   \n",
       "4                      02                        CABA    F  2020-03-16      2   \n",
       "\n",
       "        estado  \n",
       "0  confirmados  \n",
       "1  confirmados  \n",
       "2  confirmados  \n",
       "3  confirmados  \n",
       "4  confirmados  "
      ]
     },
     "execution_count": 51,
     "metadata": {},
     "output_type": "execute_result"
    }
   ],
   "source": [
    "casos_panel_confirmados[\"estado\"] = \"confirmados\"\n",
    "casos_panel_confirmados = casos_panel_confirmados.rename(columns={\n",
    "    \"fecha_diagnostico\": \"fecha\",\n",
    "    \"id_evento_caso\": \"casos\"\n",
    "})\n",
    "casos_panel_confirmados.head()"
   ]
  },
  {
   "cell_type": "code",
   "execution_count": 54,
   "metadata": {},
   "outputs": [
    {
     "data": {
      "text/html": [
       "<div>\n",
       "<style scoped>\n",
       "    .dataframe tbody tr th:only-of-type {\n",
       "        vertical-align: middle;\n",
       "    }\n",
       "\n",
       "    .dataframe tbody tr th {\n",
       "        vertical-align: top;\n",
       "    }\n",
       "\n",
       "    .dataframe thead th {\n",
       "        text-align: right;\n",
       "    }\n",
       "</style>\n",
       "<table border=\"1\" class=\"dataframe\">\n",
       "  <thead>\n",
       "    <tr style=\"text-align: right;\">\n",
       "      <th></th>\n",
       "      <th>residencia_provincia_id</th>\n",
       "      <th>residencia_provincia_nombre</th>\n",
       "      <th>sexo</th>\n",
       "      <th>fecha</th>\n",
       "      <th>casos</th>\n",
       "      <th>estado</th>\n",
       "    </tr>\n",
       "  </thead>\n",
       "  <tbody>\n",
       "    <tr>\n",
       "      <td>0</td>\n",
       "      <td>02</td>\n",
       "      <td>CABA</td>\n",
       "      <td>F</td>\n",
       "      <td>2020-03-25</td>\n",
       "      <td>2</td>\n",
       "      <td>fallecidos</td>\n",
       "    </tr>\n",
       "    <tr>\n",
       "      <td>1</td>\n",
       "      <td>02</td>\n",
       "      <td>CABA</td>\n",
       "      <td>F</td>\n",
       "      <td>2020-03-28</td>\n",
       "      <td>1</td>\n",
       "      <td>fallecidos</td>\n",
       "    </tr>\n",
       "    <tr>\n",
       "      <td>2</td>\n",
       "      <td>02</td>\n",
       "      <td>CABA</td>\n",
       "      <td>F</td>\n",
       "      <td>2020-04-06</td>\n",
       "      <td>1</td>\n",
       "      <td>fallecidos</td>\n",
       "    </tr>\n",
       "    <tr>\n",
       "      <td>3</td>\n",
       "      <td>02</td>\n",
       "      <td>CABA</td>\n",
       "      <td>F</td>\n",
       "      <td>2020-04-07</td>\n",
       "      <td>1</td>\n",
       "      <td>fallecidos</td>\n",
       "    </tr>\n",
       "    <tr>\n",
       "      <td>4</td>\n",
       "      <td>02</td>\n",
       "      <td>CABA</td>\n",
       "      <td>F</td>\n",
       "      <td>2020-04-09</td>\n",
       "      <td>2</td>\n",
       "      <td>fallecidos</td>\n",
       "    </tr>\n",
       "  </tbody>\n",
       "</table>\n",
       "</div>"
      ],
      "text/plain": [
       "  residencia_provincia_id residencia_provincia_nombre sexo       fecha  casos  \\\n",
       "0                      02                        CABA    F  2020-03-25      2   \n",
       "1                      02                        CABA    F  2020-03-28      1   \n",
       "2                      02                        CABA    F  2020-04-06      1   \n",
       "3                      02                        CABA    F  2020-04-07      1   \n",
       "4                      02                        CABA    F  2020-04-09      2   \n",
       "\n",
       "       estado  \n",
       "0  fallecidos  \n",
       "1  fallecidos  \n",
       "2  fallecidos  \n",
       "3  fallecidos  \n",
       "4  fallecidos  "
      ]
     },
     "execution_count": 54,
     "metadata": {},
     "output_type": "execute_result"
    }
   ],
   "source": [
    "casos_panel_fallecidos[\"estado\"] = \"fallecidos\"\n",
    "casos_panel_fallecidos = casos_panel_fallecidos.rename(columns={\n",
    "    \"fecha_fallecimiento\": \"fecha\",\n",
    "    \"id_evento_caso\": \"casos\"\n",
    "})\n",
    "casos_panel_fallecidos.head()"
   ]
  },
  {
   "cell_type": "markdown",
   "metadata": {},
   "source": [
    "Y ahora el momento de la verdad! Generemos un solo panel con todos los datos."
   ]
  },
  {
   "cell_type": "code",
   "execution_count": 56,
   "metadata": {},
   "outputs": [
    {
     "data": {
      "text/html": [
       "<div>\n",
       "<style scoped>\n",
       "    .dataframe tbody tr th:only-of-type {\n",
       "        vertical-align: middle;\n",
       "    }\n",
       "\n",
       "    .dataframe tbody tr th {\n",
       "        vertical-align: top;\n",
       "    }\n",
       "\n",
       "    .dataframe thead th {\n",
       "        text-align: right;\n",
       "    }\n",
       "</style>\n",
       "<table border=\"1\" class=\"dataframe\">\n",
       "  <thead>\n",
       "    <tr style=\"text-align: right;\">\n",
       "      <th></th>\n",
       "      <th>residencia_provincia_id</th>\n",
       "      <th>residencia_provincia_nombre</th>\n",
       "      <th>sexo</th>\n",
       "      <th>fecha</th>\n",
       "      <th>casos</th>\n",
       "      <th>estado</th>\n",
       "    </tr>\n",
       "  </thead>\n",
       "  <tbody>\n",
       "    <tr>\n",
       "      <td>0</td>\n",
       "      <td>02</td>\n",
       "      <td>CABA</td>\n",
       "      <td>F</td>\n",
       "      <td>2020-03-06</td>\n",
       "      <td>1</td>\n",
       "      <td>confirmados</td>\n",
       "    </tr>\n",
       "    <tr>\n",
       "      <td>1</td>\n",
       "      <td>02</td>\n",
       "      <td>CABA</td>\n",
       "      <td>F</td>\n",
       "      <td>2020-03-13</td>\n",
       "      <td>1</td>\n",
       "      <td>confirmados</td>\n",
       "    </tr>\n",
       "    <tr>\n",
       "      <td>2</td>\n",
       "      <td>02</td>\n",
       "      <td>CABA</td>\n",
       "      <td>F</td>\n",
       "      <td>2020-03-14</td>\n",
       "      <td>3</td>\n",
       "      <td>confirmados</td>\n",
       "    </tr>\n",
       "    <tr>\n",
       "      <td>3</td>\n",
       "      <td>02</td>\n",
       "      <td>CABA</td>\n",
       "      <td>F</td>\n",
       "      <td>2020-03-15</td>\n",
       "      <td>2</td>\n",
       "      <td>confirmados</td>\n",
       "    </tr>\n",
       "    <tr>\n",
       "      <td>4</td>\n",
       "      <td>02</td>\n",
       "      <td>CABA</td>\n",
       "      <td>F</td>\n",
       "      <td>2020-03-16</td>\n",
       "      <td>2</td>\n",
       "      <td>confirmados</td>\n",
       "    </tr>\n",
       "    <tr>\n",
       "      <td>...</td>\n",
       "      <td>...</td>\n",
       "      <td>...</td>\n",
       "      <td>...</td>\n",
       "      <td>...</td>\n",
       "      <td>...</td>\n",
       "      <td>...</td>\n",
       "    </tr>\n",
       "    <tr>\n",
       "      <td>421</td>\n",
       "      <td>90</td>\n",
       "      <td>Tucumán</td>\n",
       "      <td>F</td>\n",
       "      <td>2020-04-08</td>\n",
       "      <td>1</td>\n",
       "      <td>fallecidos</td>\n",
       "    </tr>\n",
       "    <tr>\n",
       "      <td>422</td>\n",
       "      <td>90</td>\n",
       "      <td>Tucumán</td>\n",
       "      <td>M</td>\n",
       "      <td>2020-03-29</td>\n",
       "      <td>1</td>\n",
       "      <td>fallecidos</td>\n",
       "    </tr>\n",
       "    <tr>\n",
       "      <td>423</td>\n",
       "      <td>90</td>\n",
       "      <td>Tucumán</td>\n",
       "      <td>M</td>\n",
       "      <td>2020-04-01</td>\n",
       "      <td>1</td>\n",
       "      <td>fallecidos</td>\n",
       "    </tr>\n",
       "    <tr>\n",
       "      <td>424</td>\n",
       "      <td>99</td>\n",
       "      <td>SIN ESPECIFICAR</td>\n",
       "      <td>M</td>\n",
       "      <td>2020-05-25</td>\n",
       "      <td>1</td>\n",
       "      <td>fallecidos</td>\n",
       "    </tr>\n",
       "    <tr>\n",
       "      <td>425</td>\n",
       "      <td>99</td>\n",
       "      <td>SIN ESPECIFICAR</td>\n",
       "      <td>NR</td>\n",
       "      <td>2020-06-08</td>\n",
       "      <td>1</td>\n",
       "      <td>fallecidos</td>\n",
       "    </tr>\n",
       "  </tbody>\n",
       "</table>\n",
       "<p>2016 rows × 6 columns</p>\n",
       "</div>"
      ],
      "text/plain": [
       "    residencia_provincia_id residencia_provincia_nombre sexo       fecha  \\\n",
       "0                        02                        CABA    F  2020-03-06   \n",
       "1                        02                        CABA    F  2020-03-13   \n",
       "2                        02                        CABA    F  2020-03-14   \n",
       "3                        02                        CABA    F  2020-03-15   \n",
       "4                        02                        CABA    F  2020-03-16   \n",
       "..                      ...                         ...  ...         ...   \n",
       "421                      90                     Tucumán    F  2020-04-08   \n",
       "422                      90                     Tucumán    M  2020-03-29   \n",
       "423                      90                     Tucumán    M  2020-04-01   \n",
       "424                      99             SIN ESPECIFICAR    M  2020-05-25   \n",
       "425                      99             SIN ESPECIFICAR   NR  2020-06-08   \n",
       "\n",
       "     casos       estado  \n",
       "0        1  confirmados  \n",
       "1        1  confirmados  \n",
       "2        3  confirmados  \n",
       "3        2  confirmados  \n",
       "4        2  confirmados  \n",
       "..     ...          ...  \n",
       "421      1   fallecidos  \n",
       "422      1   fallecidos  \n",
       "423      1   fallecidos  \n",
       "424      1   fallecidos  \n",
       "425      1   fallecidos  \n",
       "\n",
       "[2016 rows x 6 columns]"
      ]
     },
     "execution_count": 56,
     "metadata": {},
     "output_type": "execute_result"
    }
   ],
   "source": [
    "casos_panel2 = pd.concat([casos_panel_confirmados, casos_panel_fallecidos])\n",
    "casos_panel2"
   ]
  },
  {
   "cell_type": "markdown",
   "metadata": {},
   "source": [
    "Ya podemos graficar fallecidos"
   ]
  },
  {
   "cell_type": "code",
   "execution_count": 57,
   "metadata": {},
   "outputs": [
    {
     "data": {
      "text/html": [
       "<div>\n",
       "<style scoped>\n",
       "    .dataframe tbody tr th:only-of-type {\n",
       "        vertical-align: middle;\n",
       "    }\n",
       "\n",
       "    .dataframe tbody tr th {\n",
       "        vertical-align: top;\n",
       "    }\n",
       "\n",
       "    .dataframe thead th {\n",
       "        text-align: right;\n",
       "    }\n",
       "</style>\n",
       "<table border=\"1\" class=\"dataframe\">\n",
       "  <thead>\n",
       "    <tr style=\"text-align: right;\">\n",
       "      <th>sexo</th>\n",
       "      <th>F</th>\n",
       "      <th>M</th>\n",
       "      <th>NR</th>\n",
       "    </tr>\n",
       "    <tr>\n",
       "      <th>fecha</th>\n",
       "      <th></th>\n",
       "      <th></th>\n",
       "      <th></th>\n",
       "    </tr>\n",
       "  </thead>\n",
       "  <tbody>\n",
       "    <tr>\n",
       "      <td>2020-03-07</td>\n",
       "      <td>NaN</td>\n",
       "      <td>1.0</td>\n",
       "      <td>NaN</td>\n",
       "    </tr>\n",
       "    <tr>\n",
       "      <td>2020-03-13</td>\n",
       "      <td>NaN</td>\n",
       "      <td>1.0</td>\n",
       "      <td>NaN</td>\n",
       "    </tr>\n",
       "    <tr>\n",
       "      <td>2020-03-18</td>\n",
       "      <td>NaN</td>\n",
       "      <td>1.0</td>\n",
       "      <td>NaN</td>\n",
       "    </tr>\n",
       "    <tr>\n",
       "      <td>2020-03-21</td>\n",
       "      <td>1.0</td>\n",
       "      <td>NaN</td>\n",
       "      <td>NaN</td>\n",
       "    </tr>\n",
       "    <tr>\n",
       "      <td>2020-03-24</td>\n",
       "      <td>NaN</td>\n",
       "      <td>3.0</td>\n",
       "      <td>NaN</td>\n",
       "    </tr>\n",
       "    <tr>\n",
       "      <td>...</td>\n",
       "      <td>...</td>\n",
       "      <td>...</td>\n",
       "      <td>...</td>\n",
       "    </tr>\n",
       "    <tr>\n",
       "      <td>2020-06-11</td>\n",
       "      <td>5.0</td>\n",
       "      <td>14.0</td>\n",
       "      <td>NaN</td>\n",
       "    </tr>\n",
       "    <tr>\n",
       "      <td>2020-06-12</td>\n",
       "      <td>9.0</td>\n",
       "      <td>8.0</td>\n",
       "      <td>NaN</td>\n",
       "    </tr>\n",
       "    <tr>\n",
       "      <td>2020-06-13</td>\n",
       "      <td>4.0</td>\n",
       "      <td>7.0</td>\n",
       "      <td>NaN</td>\n",
       "    </tr>\n",
       "    <tr>\n",
       "      <td>2020-06-14</td>\n",
       "      <td>4.0</td>\n",
       "      <td>13.0</td>\n",
       "      <td>NaN</td>\n",
       "    </tr>\n",
       "    <tr>\n",
       "      <td>2020-06-15</td>\n",
       "      <td>1.0</td>\n",
       "      <td>2.0</td>\n",
       "      <td>NaN</td>\n",
       "    </tr>\n",
       "  </tbody>\n",
       "</table>\n",
       "<p>88 rows × 3 columns</p>\n",
       "</div>"
      ],
      "text/plain": [
       "sexo          F     M  NR\n",
       "fecha                    \n",
       "2020-03-07  NaN   1.0 NaN\n",
       "2020-03-13  NaN   1.0 NaN\n",
       "2020-03-18  NaN   1.0 NaN\n",
       "2020-03-21  1.0   NaN NaN\n",
       "2020-03-24  NaN   3.0 NaN\n",
       "...         ...   ...  ..\n",
       "2020-06-11  5.0  14.0 NaN\n",
       "2020-06-12  9.0   8.0 NaN\n",
       "2020-06-13  4.0   7.0 NaN\n",
       "2020-06-14  4.0  13.0 NaN\n",
       "2020-06-15  1.0   2.0 NaN\n",
       "\n",
       "[88 rows x 3 columns]"
      ]
     },
     "execution_count": 57,
     "metadata": {},
     "output_type": "execute_result"
    }
   ],
   "source": [
    "casos_evolucion_genero2 = casos_panel2[\n",
    "    casos_panel2.estado == \"fallecidos\"\n",
    "].pivot_table(\n",
    "    columns=\"sexo\",\n",
    "    index=\"fecha\",\n",
    "    values=\"casos\",\n",
    "    aggfunc=\"sum\"\n",
    ")\n",
    "casos_evolucion_genero2"
   ]
  },
  {
   "cell_type": "code",
   "execution_count": 58,
   "metadata": {},
   "outputs": [
    {
     "data": {
      "text/plain": [
       "<matplotlib.axes._subplots.AxesSubplot at 0x7ff35a271650>"
      ]
     },
     "execution_count": 58,
     "metadata": {},
     "output_type": "execute_result"
    },
    {
     "data": {
      "image/png": "[encoded data removed]",
      "text/plain": [
       "<Figure size 1080x720 with 1 Axes>"
      ]
     },
     "metadata": {
      "needs_background": "light"
     },
     "output_type": "display_data"
    }
   ],
   "source": [
    "casos_evolucion_genero2.plot(figsize=(15,10))"
   ]
  },
  {
   "cell_type": "code",
   "execution_count": null,
   "metadata": {},
   "outputs": [],
   "source": []
  },
  {
   "cell_type": "code",
   "execution_count": null,
   "metadata": {},
   "outputs": [],
   "source": []
  },
  {
   "cell_type": "code",
   "execution_count": null,
   "metadata": {},
   "outputs": [],
   "source": []
  },
  {
   "cell_type": "code",
   "execution_count": null,
   "metadata": {},
   "outputs": [],
   "source": []
  },
  {
   "cell_type": "code",
   "execution_count": null,
   "metadata": {},
   "outputs": [],
   "source": []
  },
  {
   "cell_type": "code",
   "execution_count": null,
   "metadata": {},
   "outputs": [],
   "source": []
  },
  {
   "cell_type": "code",
   "execution_count": null,
   "metadata": {},
   "outputs": [],
   "source": []
  },
  {
   "cell_type": "code",
   "execution_count": null,
   "metadata": {},
   "outputs": [],
   "source": []
  },
  {
   "cell_type": "code",
   "execution_count": null,
   "metadata": {},
   "outputs": [],
   "source": []
  },
  {
   "cell_type": "code",
   "execution_count": null,
   "metadata": {},
   "outputs": [],
   "source": []
  },
  {
   "cell_type": "code",
   "execution_count": null,
   "metadata": {},
   "outputs": [],
   "source": []
  },
  {
   "cell_type": "code",
   "execution_count": null,
   "metadata": {},
   "outputs": [],
   "source": []
  },
  {
   "cell_type": "code",
   "execution_count": null,
   "metadata": {},
   "outputs": [],
   "source": []
  },
  {
   "cell_type": "code",
   "execution_count": null,
   "metadata": {},
   "outputs": [],
   "source": []
  },
  {
   "cell_type": "code",
   "execution_count": null,
   "metadata": {},
   "outputs": [],
   "source": []
  },
  {
   "cell_type": "code",
   "execution_count": null,
   "metadata": {},
   "outputs": [],
   "source": []
  },
  {
   "cell_type": "markdown",
   "metadata": {},
   "source": [
    "## Groupby"
   ]
  },
  {
   "cell_type": "markdown",
   "metadata": {},
   "source": [
    "https://pandas.pydata.org/pandas-docs/stable/reference/api/pandas.DataFrame.groupby.html"
   ]
  },
  {
   "cell_type": "code",
   "execution_count": 2,
   "metadata": {},
   "outputs": [
    {
     "data": {
      "text/html": [
       "<div>\n",
       "<style scoped>\n",
       "    .dataframe tbody tr th:only-of-type {\n",
       "        vertical-align: middle;\n",
       "    }\n",
       "\n",
       "    .dataframe tbody tr th {\n",
       "        vertical-align: top;\n",
       "    }\n",
       "\n",
       "    .dataframe thead th {\n",
       "        text-align: right;\n",
       "    }\n",
       "</style>\n",
       "<table border=\"1\" class=\"dataframe\">\n",
       "  <thead>\n",
       "    <tr style=\"text-align: right;\">\n",
       "      <th></th>\n",
       "      <th>tipo_vehiculo</th>\n",
       "      <th>anio_inscripcion_inicial</th>\n",
       "      <th>mes_inscripcion_inicial</th>\n",
       "      <th>provincia_inscripcion_inicial</th>\n",
       "      <th>letra_provincia_inscripcion_inicial</th>\n",
       "      <th>cantidad_inscripciones_iniciales</th>\n",
       "      <th>provincia_id</th>\n",
       "    </tr>\n",
       "  </thead>\n",
       "  <tbody>\n",
       "    <tr>\n",
       "      <td>5803</td>\n",
       "      <td>Automotores</td>\n",
       "      <td>2020</td>\n",
       "      <td>2</td>\n",
       "      <td>Santa Cruz</td>\n",
       "      <td>Z</td>\n",
       "      <td>290</td>\n",
       "      <td>78</td>\n",
       "    </tr>\n",
       "    <tr>\n",
       "      <td>5804</td>\n",
       "      <td>Automotores</td>\n",
       "      <td>2020</td>\n",
       "      <td>2</td>\n",
       "      <td>Santa Fe</td>\n",
       "      <td>S</td>\n",
       "      <td>2503</td>\n",
       "      <td>82</td>\n",
       "    </tr>\n",
       "    <tr>\n",
       "      <td>5805</td>\n",
       "      <td>Automotores</td>\n",
       "      <td>2020</td>\n",
       "      <td>2</td>\n",
       "      <td>Santiago del Estero</td>\n",
       "      <td>G</td>\n",
       "      <td>261</td>\n",
       "      <td>86</td>\n",
       "    </tr>\n",
       "    <tr>\n",
       "      <td>5806</td>\n",
       "      <td>Automotores</td>\n",
       "      <td>2020</td>\n",
       "      <td>2</td>\n",
       "      <td>Tierra del Fuego</td>\n",
       "      <td>V</td>\n",
       "      <td>256</td>\n",
       "      <td>94</td>\n",
       "    </tr>\n",
       "    <tr>\n",
       "      <td>5807</td>\n",
       "      <td>Automotores</td>\n",
       "      <td>2020</td>\n",
       "      <td>2</td>\n",
       "      <td>Tucumán</td>\n",
       "      <td>T</td>\n",
       "      <td>792</td>\n",
       "      <td>90</td>\n",
       "    </tr>\n",
       "  </tbody>\n",
       "</table>\n",
       "</div>"
      ],
      "text/plain": [
       "     tipo_vehiculo  anio_inscripcion_inicial  mes_inscripcion_inicial  \\\n",
       "5803   Automotores                      2020                        2   \n",
       "5804   Automotores                      2020                        2   \n",
       "5805   Automotores                      2020                        2   \n",
       "5806   Automotores                      2020                        2   \n",
       "5807   Automotores                      2020                        2   \n",
       "\n",
       "     provincia_inscripcion_inicial letra_provincia_inscripcion_inicial  \\\n",
       "5803                    Santa Cruz                                   Z   \n",
       "5804                      Santa Fe                                   S   \n",
       "5805           Santiago del Estero                                   G   \n",
       "5806              Tierra del Fuego                                   V   \n",
       "5807                       Tucumán                                   T   \n",
       "\n",
       "      cantidad_inscripciones_iniciales  provincia_id  \n",
       "5803                               290            78  \n",
       "5804                              2503            82  \n",
       "5805                               261            86  \n",
       "5806                               256            94  \n",
       "5807                               792            90  "
      ]
     },
     "execution_count": 2,
     "metadata": {},
     "output_type": "execute_result"
    }
   ],
   "source": [
    "df.tail()"
   ]
  },
  {
   "cell_type": "code",
   "execution_count": 3,
   "metadata": {},
   "outputs": [
    {
     "data": {
      "text/html": [
       "<div>\n",
       "<style scoped>\n",
       "    .dataframe tbody tr th:only-of-type {\n",
       "        vertical-align: middle;\n",
       "    }\n",
       "\n",
       "    .dataframe tbody tr th {\n",
       "        vertical-align: top;\n",
       "    }\n",
       "\n",
       "    .dataframe thead th {\n",
       "        text-align: right;\n",
       "    }\n",
       "</style>\n",
       "<table border=\"1\" class=\"dataframe\">\n",
       "  <thead>\n",
       "    <tr style=\"text-align: right;\">\n",
       "      <th></th>\n",
       "      <th>tipo_vehiculo</th>\n",
       "      <th>mes_inscripcion_inicial</th>\n",
       "      <th>provincia_inscripcion_inicial</th>\n",
       "      <th>letra_provincia_inscripcion_inicial</th>\n",
       "      <th>cantidad_inscripciones_iniciales</th>\n",
       "      <th>provincia_id</th>\n",
       "    </tr>\n",
       "    <tr>\n",
       "      <th>anio_inscripcion_inicial</th>\n",
       "      <th></th>\n",
       "      <th></th>\n",
       "      <th></th>\n",
       "      <th></th>\n",
       "      <th></th>\n",
       "      <th></th>\n",
       "    </tr>\n",
       "  </thead>\n",
       "  <tbody>\n",
       "    <tr>\n",
       "      <td>2016</td>\n",
       "      <td>288</td>\n",
       "      <td>288</td>\n",
       "      <td>288</td>\n",
       "      <td>288</td>\n",
       "      <td>288</td>\n",
       "      <td>288</td>\n",
       "    </tr>\n",
       "    <tr>\n",
       "      <td>2017</td>\n",
       "      <td>288</td>\n",
       "      <td>288</td>\n",
       "      <td>288</td>\n",
       "      <td>288</td>\n",
       "      <td>288</td>\n",
       "      <td>288</td>\n",
       "    </tr>\n",
       "    <tr>\n",
       "      <td>2018</td>\n",
       "      <td>288</td>\n",
       "      <td>288</td>\n",
       "      <td>288</td>\n",
       "      <td>288</td>\n",
       "      <td>288</td>\n",
       "      <td>288</td>\n",
       "    </tr>\n",
       "    <tr>\n",
       "      <td>2019</td>\n",
       "      <td>288</td>\n",
       "      <td>288</td>\n",
       "      <td>288</td>\n",
       "      <td>288</td>\n",
       "      <td>288</td>\n",
       "      <td>288</td>\n",
       "    </tr>\n",
       "    <tr>\n",
       "      <td>2020</td>\n",
       "      <td>48</td>\n",
       "      <td>48</td>\n",
       "      <td>48</td>\n",
       "      <td>48</td>\n",
       "      <td>48</td>\n",
       "      <td>48</td>\n",
       "    </tr>\n",
       "  </tbody>\n",
       "</table>\n",
       "</div>"
      ],
      "text/plain": [
       "                          tipo_vehiculo  mes_inscripcion_inicial  \\\n",
       "anio_inscripcion_inicial                                           \n",
       "2016                                288                      288   \n",
       "2017                                288                      288   \n",
       "2018                                288                      288   \n",
       "2019                                288                      288   \n",
       "2020                                 48                       48   \n",
       "\n",
       "                          provincia_inscripcion_inicial  \\\n",
       "anio_inscripcion_inicial                                  \n",
       "2016                                                288   \n",
       "2017                                                288   \n",
       "2018                                                288   \n",
       "2019                                                288   \n",
       "2020                                                 48   \n",
       "\n",
       "                          letra_provincia_inscripcion_inicial  \\\n",
       "anio_inscripcion_inicial                                        \n",
       "2016                                                      288   \n",
       "2017                                                      288   \n",
       "2018                                                      288   \n",
       "2019                                                      288   \n",
       "2020                                                       48   \n",
       "\n",
       "                          cantidad_inscripciones_iniciales  provincia_id  \n",
       "anio_inscripcion_inicial                                                  \n",
       "2016                                                   288           288  \n",
       "2017                                                   288           288  \n",
       "2018                                                   288           288  \n",
       "2019                                                   288           288  \n",
       "2020                                                    48            48  "
      ]
     },
     "execution_count": 3,
     "metadata": {},
     "output_type": "execute_result"
    }
   ],
   "source": [
    "df.groupby(\"anio_inscripcion_inicial\").count().tail()"
   ]
  },
  {
   "cell_type": "code",
   "execution_count": 4,
   "metadata": {},
   "outputs": [
    {
     "data": {
      "text/html": [
       "<div>\n",
       "<style scoped>\n",
       "    .dataframe tbody tr th:only-of-type {\n",
       "        vertical-align: middle;\n",
       "    }\n",
       "\n",
       "    .dataframe tbody tr th {\n",
       "        vertical-align: top;\n",
       "    }\n",
       "\n",
       "    .dataframe thead th {\n",
       "        text-align: right;\n",
       "    }\n",
       "</style>\n",
       "<table border=\"1\" class=\"dataframe\">\n",
       "  <thead>\n",
       "    <tr style=\"text-align: right;\">\n",
       "      <th></th>\n",
       "      <th></th>\n",
       "      <th>tipo_vehiculo</th>\n",
       "      <th>provincia_inscripcion_inicial</th>\n",
       "      <th>letra_provincia_inscripcion_inicial</th>\n",
       "      <th>cantidad_inscripciones_iniciales</th>\n",
       "      <th>provincia_id</th>\n",
       "    </tr>\n",
       "    <tr>\n",
       "      <th>anio_inscripcion_inicial</th>\n",
       "      <th>mes_inscripcion_inicial</th>\n",
       "      <th></th>\n",
       "      <th></th>\n",
       "      <th></th>\n",
       "      <th></th>\n",
       "      <th></th>\n",
       "    </tr>\n",
       "  </thead>\n",
       "  <tbody>\n",
       "    <tr>\n",
       "      <td rowspan=\"3\" valign=\"top\">2019</td>\n",
       "      <td>10</td>\n",
       "      <td>24</td>\n",
       "      <td>24</td>\n",
       "      <td>24</td>\n",
       "      <td>24</td>\n",
       "      <td>24</td>\n",
       "    </tr>\n",
       "    <tr>\n",
       "      <td>11</td>\n",
       "      <td>24</td>\n",
       "      <td>24</td>\n",
       "      <td>24</td>\n",
       "      <td>24</td>\n",
       "      <td>24</td>\n",
       "    </tr>\n",
       "    <tr>\n",
       "      <td>12</td>\n",
       "      <td>24</td>\n",
       "      <td>24</td>\n",
       "      <td>24</td>\n",
       "      <td>24</td>\n",
       "      <td>24</td>\n",
       "    </tr>\n",
       "    <tr>\n",
       "      <td rowspan=\"2\" valign=\"top\">2020</td>\n",
       "      <td>1</td>\n",
       "      <td>24</td>\n",
       "      <td>24</td>\n",
       "      <td>24</td>\n",
       "      <td>24</td>\n",
       "      <td>24</td>\n",
       "    </tr>\n",
       "    <tr>\n",
       "      <td>2</td>\n",
       "      <td>24</td>\n",
       "      <td>24</td>\n",
       "      <td>24</td>\n",
       "      <td>24</td>\n",
       "      <td>24</td>\n",
       "    </tr>\n",
       "  </tbody>\n",
       "</table>\n",
       "</div>"
      ],
      "text/plain": [
       "                                                  tipo_vehiculo  \\\n",
       "anio_inscripcion_inicial mes_inscripcion_inicial                  \n",
       "2019                     10                                  24   \n",
       "                         11                                  24   \n",
       "                         12                                  24   \n",
       "2020                     1                                   24   \n",
       "                         2                                   24   \n",
       "\n",
       "                                                  provincia_inscripcion_inicial  \\\n",
       "anio_inscripcion_inicial mes_inscripcion_inicial                                  \n",
       "2019                     10                                                  24   \n",
       "                         11                                                  24   \n",
       "                         12                                                  24   \n",
       "2020                     1                                                   24   \n",
       "                         2                                                   24   \n",
       "\n",
       "                                                  letra_provincia_inscripcion_inicial  \\\n",
       "anio_inscripcion_inicial mes_inscripcion_inicial                                        \n",
       "2019                     10                                                        24   \n",
       "                         11                                                        24   \n",
       "                         12                                                        24   \n",
       "2020                     1                                                         24   \n",
       "                         2                                                         24   \n",
       "\n",
       "                                                  cantidad_inscripciones_iniciales  \\\n",
       "anio_inscripcion_inicial mes_inscripcion_inicial                                     \n",
       "2019                     10                                                     24   \n",
       "                         11                                                     24   \n",
       "                         12                                                     24   \n",
       "2020                     1                                                      24   \n",
       "                         2                                                      24   \n",
       "\n",
       "                                                  provincia_id  \n",
       "anio_inscripcion_inicial mes_inscripcion_inicial                \n",
       "2019                     10                                 24  \n",
       "                         11                                 24  \n",
       "                         12                                 24  \n",
       "2020                     1                                  24  \n",
       "                         2                                  24  "
      ]
     },
     "execution_count": 4,
     "metadata": {},
     "output_type": "execute_result"
    }
   ],
   "source": [
    "df.groupby([\"anio_inscripcion_inicial\", \"mes_inscripcion_inicial\"]).count().tail()"
   ]
  },
  {
   "cell_type": "code",
   "execution_count": 5,
   "metadata": {},
   "outputs": [
    {
     "data": {
      "text/html": [
       "<div>\n",
       "<style scoped>\n",
       "    .dataframe tbody tr th:only-of-type {\n",
       "        vertical-align: middle;\n",
       "    }\n",
       "\n",
       "    .dataframe tbody tr th {\n",
       "        vertical-align: top;\n",
       "    }\n",
       "\n",
       "    .dataframe thead th {\n",
       "        text-align: right;\n",
       "    }\n",
       "</style>\n",
       "<table border=\"1\" class=\"dataframe\">\n",
       "  <thead>\n",
       "    <tr style=\"text-align: right;\">\n",
       "      <th></th>\n",
       "      <th></th>\n",
       "      <th>cantidad_inscripciones_iniciales</th>\n",
       "      <th>provincia_id</th>\n",
       "    </tr>\n",
       "    <tr>\n",
       "      <th>anio_inscripcion_inicial</th>\n",
       "      <th>mes_inscripcion_inicial</th>\n",
       "      <th></th>\n",
       "      <th></th>\n",
       "    </tr>\n",
       "  </thead>\n",
       "  <tbody>\n",
       "    <tr>\n",
       "      <td rowspan=\"3\" valign=\"top\">2019</td>\n",
       "      <td>10</td>\n",
       "      <td>32781</td>\n",
       "      <td>1152</td>\n",
       "    </tr>\n",
       "    <tr>\n",
       "      <td>11</td>\n",
       "      <td>26004</td>\n",
       "      <td>1152</td>\n",
       "    </tr>\n",
       "    <tr>\n",
       "      <td>12</td>\n",
       "      <td>21470</td>\n",
       "      <td>1152</td>\n",
       "    </tr>\n",
       "    <tr>\n",
       "      <td rowspan=\"2\" valign=\"top\">2020</td>\n",
       "      <td>1</td>\n",
       "      <td>45170</td>\n",
       "      <td>1152</td>\n",
       "    </tr>\n",
       "    <tr>\n",
       "      <td>2</td>\n",
       "      <td>27731</td>\n",
       "      <td>1152</td>\n",
       "    </tr>\n",
       "  </tbody>\n",
       "</table>\n",
       "</div>"
      ],
      "text/plain": [
       "                                                  cantidad_inscripciones_iniciales  \\\n",
       "anio_inscripcion_inicial mes_inscripcion_inicial                                     \n",
       "2019                     10                                                  32781   \n",
       "                         11                                                  26004   \n",
       "                         12                                                  21470   \n",
       "2020                     1                                                   45170   \n",
       "                         2                                                   27731   \n",
       "\n",
       "                                                  provincia_id  \n",
       "anio_inscripcion_inicial mes_inscripcion_inicial                \n",
       "2019                     10                               1152  \n",
       "                         11                               1152  \n",
       "                         12                               1152  \n",
       "2020                     1                                1152  \n",
       "                         2                                1152  "
      ]
     },
     "execution_count": 5,
     "metadata": {},
     "output_type": "execute_result"
    }
   ],
   "source": [
    "df.groupby([\"anio_inscripcion_inicial\", \"mes_inscripcion_inicial\"]).sum().tail()"
   ]
  },
  {
   "cell_type": "markdown",
   "metadata": {},
   "source": [
    "**Ejercicio:** hacer una tabla que muestre la cantidad de patentamientos por provincia que se hicieron en el 2019."
   ]
  },
  {
   "cell_type": "code",
   "execution_count": null,
   "metadata": {},
   "outputs": [],
   "source": []
  },
  {
   "cell_type": "markdown",
   "metadata": {},
   "source": [
    "## Agg"
   ]
  },
  {
   "cell_type": "markdown",
   "metadata": {},
   "source": [
    "https://pandas.pydata.org/pandas-docs/stable/reference/api/pandas.DataFrame.agg.html"
   ]
  },
  {
   "cell_type": "code",
   "execution_count": 6,
   "metadata": {},
   "outputs": [],
   "source": [
    "df_expo = pd.read_csv(\"https://infra.datos.gob.ar/catalog/sspm/dataset/75/distribution/75.3/download/exportaciones-mensual.csv\")"
   ]
  },
  {
   "cell_type": "code",
   "execution_count": 7,
   "metadata": {},
   "outputs": [
    {
     "data": {
      "text/html": [
       "<div>\n",
       "<style scoped>\n",
       "    .dataframe tbody tr th:only-of-type {\n",
       "        vertical-align: middle;\n",
       "    }\n",
       "\n",
       "    .dataframe tbody tr th {\n",
       "        vertical-align: top;\n",
       "    }\n",
       "\n",
       "    .dataframe thead th {\n",
       "        text-align: right;\n",
       "    }\n",
       "</style>\n",
       "<table border=\"1\" class=\"dataframe\">\n",
       "  <thead>\n",
       "    <tr style=\"text-align: right;\">\n",
       "      <th></th>\n",
       "      <th>indice_tiempo</th>\n",
       "      <th>ica_exportaciones_total_general</th>\n",
       "      <th>ica_exportaciones_total_productos_primarios</th>\n",
       "      <th>ica_exportaciones_animales_vivos</th>\n",
       "      <th>ica_exportaciones_pescados_mariscos</th>\n",
       "      <th>ica_exportaciones_miel</th>\n",
       "      <th>ica_exportaciones_hortalizas_legumbres_sin_elaborar</th>\n",
       "      <th>ica_exportaciones_frutas_frescas</th>\n",
       "      <th>ica_exportaciones_cereales</th>\n",
       "      <th>ica_exportaciones_semillas_frutos_oleaginosos</th>\n",
       "      <th>...</th>\n",
       "      <th>ica_maquinas_aparatos_materiales_electricos</th>\n",
       "      <th>ica_material_transporte_terrestre</th>\n",
       "      <th>ica_vehiculos_navegacion_aerea_maritima_fluvial</th>\n",
       "      <th>ica_resto_moi</th>\n",
       "      <th>ica_total_combustibles_energia</th>\n",
       "      <th>ica_petroleo_crudo</th>\n",
       "      <th>ica_carburantes_grasas_aceites_lubricantes</th>\n",
       "      <th>gas_petroleo_otros_hidrocarburos</th>\n",
       "      <th>ica_energia_electrica</th>\n",
       "      <th>ica_resto_combustibles</th>\n",
       "    </tr>\n",
       "  </thead>\n",
       "  <tbody>\n",
       "    <tr>\n",
       "      <td>0</td>\n",
       "      <td>1992-01-01</td>\n",
       "      <td>725.798174</td>\n",
       "      <td>133.367679</td>\n",
       "      <td>0.505194</td>\n",
       "      <td>22.047199</td>\n",
       "      <td>3.809077</td>\n",
       "      <td>21.876559</td>\n",
       "      <td>14.239892</td>\n",
       "      <td>45.547102</td>\n",
       "      <td>19.538213</td>\n",
       "      <td>...</td>\n",
       "      <td>37.359934</td>\n",
       "      <td>16.862867</td>\n",
       "      <td>5.240765</td>\n",
       "      <td>6.726885</td>\n",
       "      <td>68.845548</td>\n",
       "      <td>29.251779</td>\n",
       "      <td>31.893742</td>\n",
       "      <td>4.144817</td>\n",
       "      <td>0.000000</td>\n",
       "      <td>3.555210</td>\n",
       "    </tr>\n",
       "    <tr>\n",
       "      <td>1</td>\n",
       "      <td>1992-02-01</td>\n",
       "      <td>851.896974</td>\n",
       "      <td>188.034116</td>\n",
       "      <td>0.870830</td>\n",
       "      <td>19.032655</td>\n",
       "      <td>5.756942</td>\n",
       "      <td>18.808046</td>\n",
       "      <td>37.583460</td>\n",
       "      <td>80.632051</td>\n",
       "      <td>11.634396</td>\n",
       "      <td>...</td>\n",
       "      <td>31.566474</td>\n",
       "      <td>18.060001</td>\n",
       "      <td>0.202600</td>\n",
       "      <td>5.706589</td>\n",
       "      <td>62.501529</td>\n",
       "      <td>22.121224</td>\n",
       "      <td>31.252193</td>\n",
       "      <td>1.799820</td>\n",
       "      <td>0.000000</td>\n",
       "      <td>7.328292</td>\n",
       "    </tr>\n",
       "    <tr>\n",
       "      <td>2</td>\n",
       "      <td>1992-03-01</td>\n",
       "      <td>984.648674</td>\n",
       "      <td>320.984466</td>\n",
       "      <td>0.697096</td>\n",
       "      <td>34.969729</td>\n",
       "      <td>6.570723</td>\n",
       "      <td>13.023373</td>\n",
       "      <td>46.865398</td>\n",
       "      <td>164.865627</td>\n",
       "      <td>21.563881</td>\n",
       "      <td>...</td>\n",
       "      <td>38.411961</td>\n",
       "      <td>16.693698</td>\n",
       "      <td>2.205804</td>\n",
       "      <td>4.902551</td>\n",
       "      <td>58.970218</td>\n",
       "      <td>34.108656</td>\n",
       "      <td>18.757213</td>\n",
       "      <td>2.873046</td>\n",
       "      <td>0.378265</td>\n",
       "      <td>2.853038</td>\n",
       "    </tr>\n",
       "    <tr>\n",
       "      <td>3</td>\n",
       "      <td>1992-04-01</td>\n",
       "      <td>998.051464</td>\n",
       "      <td>375.242075</td>\n",
       "      <td>0.705392</td>\n",
       "      <td>27.584509</td>\n",
       "      <td>6.373365</td>\n",
       "      <td>11.503317</td>\n",
       "      <td>42.140210</td>\n",
       "      <td>212.201256</td>\n",
       "      <td>31.478944</td>\n",
       "      <td>...</td>\n",
       "      <td>37.384285</td>\n",
       "      <td>20.170104</td>\n",
       "      <td>1.055706</td>\n",
       "      <td>5.881576</td>\n",
       "      <td>69.160250</td>\n",
       "      <td>36.180682</td>\n",
       "      <td>24.598652</td>\n",
       "      <td>4.133319</td>\n",
       "      <td>0.119467</td>\n",
       "      <td>4.128130</td>\n",
       "    </tr>\n",
       "    <tr>\n",
       "      <td>4</td>\n",
       "      <td>1992-05-01</td>\n",
       "      <td>1137.679956</td>\n",
       "      <td>474.440656</td>\n",
       "      <td>1.225952</td>\n",
       "      <td>27.739611</td>\n",
       "      <td>5.694092</td>\n",
       "      <td>9.677077</td>\n",
       "      <td>41.781644</td>\n",
       "      <td>194.670354</td>\n",
       "      <td>154.031489</td>\n",
       "      <td>...</td>\n",
       "      <td>35.174290</td>\n",
       "      <td>27.930373</td>\n",
       "      <td>2.536310</td>\n",
       "      <td>6.495665</td>\n",
       "      <td>60.379001</td>\n",
       "      <td>20.438015</td>\n",
       "      <td>32.574864</td>\n",
       "      <td>1.738228</td>\n",
       "      <td>0.116372</td>\n",
       "      <td>5.511522</td>\n",
       "    </tr>\n",
       "    <tr>\n",
       "      <td>...</td>\n",
       "      <td>...</td>\n",
       "      <td>...</td>\n",
       "      <td>...</td>\n",
       "      <td>...</td>\n",
       "      <td>...</td>\n",
       "      <td>...</td>\n",
       "      <td>...</td>\n",
       "      <td>...</td>\n",
       "      <td>...</td>\n",
       "      <td>...</td>\n",
       "      <td>...</td>\n",
       "      <td>...</td>\n",
       "      <td>...</td>\n",
       "      <td>...</td>\n",
       "      <td>...</td>\n",
       "      <td>...</td>\n",
       "      <td>...</td>\n",
       "      <td>...</td>\n",
       "      <td>...</td>\n",
       "      <td>...</td>\n",
       "      <td>...</td>\n",
       "    </tr>\n",
       "    <tr>\n",
       "      <td>331</td>\n",
       "      <td>2019-08-01</td>\n",
       "      <td>5568.000000</td>\n",
       "      <td>1505.000000</td>\n",
       "      <td>2.000000</td>\n",
       "      <td>182.000000</td>\n",
       "      <td>13.000000</td>\n",
       "      <td>52.000000</td>\n",
       "      <td>55.000000</td>\n",
       "      <td>711.000000</td>\n",
       "      <td>412.000000</td>\n",
       "      <td>...</td>\n",
       "      <td>123.000000</td>\n",
       "      <td>561.000000</td>\n",
       "      <td>84.000000</td>\n",
       "      <td>48.000000</td>\n",
       "      <td>288.000000</td>\n",
       "      <td>72.000000</td>\n",
       "      <td>210.000000</td>\n",
       "      <td>4.000000</td>\n",
       "      <td>21.000000</td>\n",
       "      <td>0.000000</td>\n",
       "    </tr>\n",
       "    <tr>\n",
       "      <td>332</td>\n",
       "      <td>2019-09-01</td>\n",
       "      <td>5746.000000</td>\n",
       "      <td>1605.000000</td>\n",
       "      <td>2.000000</td>\n",
       "      <td>121.000000</td>\n",
       "      <td>13.000000</td>\n",
       "      <td>59.000000</td>\n",
       "      <td>36.000000</td>\n",
       "      <td>667.000000</td>\n",
       "      <td>638.000000</td>\n",
       "      <td>...</td>\n",
       "      <td>130.000000</td>\n",
       "      <td>601.000000</td>\n",
       "      <td>9.000000</td>\n",
       "      <td>62.000000</td>\n",
       "      <td>305.000000</td>\n",
       "      <td>134.000000</td>\n",
       "      <td>142.000000</td>\n",
       "      <td>3.000000</td>\n",
       "      <td>22.000000</td>\n",
       "      <td>0.000000</td>\n",
       "    </tr>\n",
       "    <tr>\n",
       "      <td>333</td>\n",
       "      <td>2019-10-01</td>\n",
       "      <td>5889.000000</td>\n",
       "      <td>1612.000000</td>\n",
       "      <td>1.000000</td>\n",
       "      <td>158.000000</td>\n",
       "      <td>13.000000</td>\n",
       "      <td>65.000000</td>\n",
       "      <td>41.000000</td>\n",
       "      <td>623.000000</td>\n",
       "      <td>624.000000</td>\n",
       "      <td>...</td>\n",
       "      <td>120.000000</td>\n",
       "      <td>602.000000</td>\n",
       "      <td>6.000000</td>\n",
       "      <td>24.000000</td>\n",
       "      <td>377.000000</td>\n",
       "      <td>154.000000</td>\n",
       "      <td>162.000000</td>\n",
       "      <td>6.000000</td>\n",
       "      <td>40.000000</td>\n",
       "      <td>0.000000</td>\n",
       "    </tr>\n",
       "    <tr>\n",
       "      <td>334</td>\n",
       "      <td>2019-11-01</td>\n",
       "      <td>5893.000000</td>\n",
       "      <td>1568.000000</td>\n",
       "      <td>2.000000</td>\n",
       "      <td>132.000000</td>\n",
       "      <td>8.000000</td>\n",
       "      <td>59.000000</td>\n",
       "      <td>44.000000</td>\n",
       "      <td>666.000000</td>\n",
       "      <td>572.000000</td>\n",
       "      <td>...</td>\n",
       "      <td>103.000000</td>\n",
       "      <td>530.000000</td>\n",
       "      <td>1.000000</td>\n",
       "      <td>442.000000</td>\n",
       "      <td>352.000000</td>\n",
       "      <td>114.000000</td>\n",
       "      <td>176.000000</td>\n",
       "      <td>3.000000</td>\n",
       "      <td>52.000000</td>\n",
       "      <td>0.000000</td>\n",
       "    </tr>\n",
       "    <tr>\n",
       "      <td>335</td>\n",
       "      <td>2019-12-01</td>\n",
       "      <td>5374.000000</td>\n",
       "      <td>1391.000000</td>\n",
       "      <td>2.000000</td>\n",
       "      <td>124.000000</td>\n",
       "      <td>10.000000</td>\n",
       "      <td>87.000000</td>\n",
       "      <td>31.000000</td>\n",
       "      <td>821.000000</td>\n",
       "      <td>229.000000</td>\n",
       "      <td>...</td>\n",
       "      <td>110.000000</td>\n",
       "      <td>532.000000</td>\n",
       "      <td>12.000000</td>\n",
       "      <td>70.000000</td>\n",
       "      <td>374.000000</td>\n",
       "      <td>98.000000</td>\n",
       "      <td>210.000000</td>\n",
       "      <td>4.000000</td>\n",
       "      <td>58.000000</td>\n",
       "      <td>0.000000</td>\n",
       "    </tr>\n",
       "  </tbody>\n",
       "</table>\n",
       "<p>336 rows × 53 columns</p>\n",
       "</div>"
      ],
      "text/plain": [
       "    indice_tiempo  ica_exportaciones_total_general  \\\n",
       "0      1992-01-01                       725.798174   \n",
       "1      1992-02-01                       851.896974   \n",
       "2      1992-03-01                       984.648674   \n",
       "3      1992-04-01                       998.051464   \n",
       "4      1992-05-01                      1137.679956   \n",
       "..            ...                              ...   \n",
       "331    2019-08-01                      5568.000000   \n",
       "332    2019-09-01                      5746.000000   \n",
       "333    2019-10-01                      5889.000000   \n",
       "334    2019-11-01                      5893.000000   \n",
       "335    2019-12-01                      5374.000000   \n",
       "\n",
       "     ica_exportaciones_total_productos_primarios  \\\n",
       "0                                     133.367679   \n",
       "1                                     188.034116   \n",
       "2                                     320.984466   \n",
       "3                                     375.242075   \n",
       "4                                     474.440656   \n",
       "..                                           ...   \n",
       "331                                  1505.000000   \n",
       "332                                  1605.000000   \n",
       "333                                  1612.000000   \n",
       "334                                  1568.000000   \n",
       "335                                  1391.000000   \n",
       "\n",
       "     ica_exportaciones_animales_vivos  ica_exportaciones_pescados_mariscos  \\\n",
       "0                            0.505194                            22.047199   \n",
       "1                            0.870830                            19.032655   \n",
       "2                            0.697096                            34.969729   \n",
       "3                            0.705392                            27.584509   \n",
       "4                            1.225952                            27.739611   \n",
       "..                                ...                                  ...   \n",
       "331                          2.000000                           182.000000   \n",
       "332                          2.000000                           121.000000   \n",
       "333                          1.000000                           158.000000   \n",
       "334                          2.000000                           132.000000   \n",
       "335                          2.000000                           124.000000   \n",
       "\n",
       "     ica_exportaciones_miel  \\\n",
       "0                  3.809077   \n",
       "1                  5.756942   \n",
       "2                  6.570723   \n",
       "3                  6.373365   \n",
       "4                  5.694092   \n",
       "..                      ...   \n",
       "331               13.000000   \n",
       "332               13.000000   \n",
       "333               13.000000   \n",
       "334                8.000000   \n",
       "335               10.000000   \n",
       "\n",
       "     ica_exportaciones_hortalizas_legumbres_sin_elaborar  \\\n",
       "0                                            21.876559     \n",
       "1                                            18.808046     \n",
       "2                                            13.023373     \n",
       "3                                            11.503317     \n",
       "4                                             9.677077     \n",
       "..                                                 ...     \n",
       "331                                          52.000000     \n",
       "332                                          59.000000     \n",
       "333                                          65.000000     \n",
       "334                                          59.000000     \n",
       "335                                          87.000000     \n",
       "\n",
       "     ica_exportaciones_frutas_frescas  ica_exportaciones_cereales  \\\n",
       "0                           14.239892                   45.547102   \n",
       "1                           37.583460                   80.632051   \n",
       "2                           46.865398                  164.865627   \n",
       "3                           42.140210                  212.201256   \n",
       "4                           41.781644                  194.670354   \n",
       "..                                ...                         ...   \n",
       "331                         55.000000                  711.000000   \n",
       "332                         36.000000                  667.000000   \n",
       "333                         41.000000                  623.000000   \n",
       "334                         44.000000                  666.000000   \n",
       "335                         31.000000                  821.000000   \n",
       "\n",
       "     ica_exportaciones_semillas_frutos_oleaginosos  ...  \\\n",
       "0                                        19.538213  ...   \n",
       "1                                        11.634396  ...   \n",
       "2                                        21.563881  ...   \n",
       "3                                        31.478944  ...   \n",
       "4                                       154.031489  ...   \n",
       "..                                             ...  ...   \n",
       "331                                     412.000000  ...   \n",
       "332                                     638.000000  ...   \n",
       "333                                     624.000000  ...   \n",
       "334                                     572.000000  ...   \n",
       "335                                     229.000000  ...   \n",
       "\n",
       "     ica_maquinas_aparatos_materiales_electricos  \\\n",
       "0                                      37.359934   \n",
       "1                                      31.566474   \n",
       "2                                      38.411961   \n",
       "3                                      37.384285   \n",
       "4                                      35.174290   \n",
       "..                                           ...   \n",
       "331                                   123.000000   \n",
       "332                                   130.000000   \n",
       "333                                   120.000000   \n",
       "334                                   103.000000   \n",
       "335                                   110.000000   \n",
       "\n",
       "     ica_material_transporte_terrestre  \\\n",
       "0                            16.862867   \n",
       "1                            18.060001   \n",
       "2                            16.693698   \n",
       "3                            20.170104   \n",
       "4                            27.930373   \n",
       "..                                 ...   \n",
       "331                         561.000000   \n",
       "332                         601.000000   \n",
       "333                         602.000000   \n",
       "334                         530.000000   \n",
       "335                         532.000000   \n",
       "\n",
       "     ica_vehiculos_navegacion_aerea_maritima_fluvial  ica_resto_moi  \\\n",
       "0                                           5.240765       6.726885   \n",
       "1                                           0.202600       5.706589   \n",
       "2                                           2.205804       4.902551   \n",
       "3                                           1.055706       5.881576   \n",
       "4                                           2.536310       6.495665   \n",
       "..                                               ...            ...   \n",
       "331                                        84.000000      48.000000   \n",
       "332                                         9.000000      62.000000   \n",
       "333                                         6.000000      24.000000   \n",
       "334                                         1.000000     442.000000   \n",
       "335                                        12.000000      70.000000   \n",
       "\n",
       "     ica_total_combustibles_energia  ica_petroleo_crudo  \\\n",
       "0                         68.845548           29.251779   \n",
       "1                         62.501529           22.121224   \n",
       "2                         58.970218           34.108656   \n",
       "3                         69.160250           36.180682   \n",
       "4                         60.379001           20.438015   \n",
       "..                              ...                 ...   \n",
       "331                      288.000000           72.000000   \n",
       "332                      305.000000          134.000000   \n",
       "333                      377.000000          154.000000   \n",
       "334                      352.000000          114.000000   \n",
       "335                      374.000000           98.000000   \n",
       "\n",
       "     ica_carburantes_grasas_aceites_lubricantes  \\\n",
       "0                                     31.893742   \n",
       "1                                     31.252193   \n",
       "2                                     18.757213   \n",
       "3                                     24.598652   \n",
       "4                                     32.574864   \n",
       "..                                          ...   \n",
       "331                                  210.000000   \n",
       "332                                  142.000000   \n",
       "333                                  162.000000   \n",
       "334                                  176.000000   \n",
       "335                                  210.000000   \n",
       "\n",
       "     gas_petroleo_otros_hidrocarburos  ica_energia_electrica  \\\n",
       "0                            4.144817               0.000000   \n",
       "1                            1.799820               0.000000   \n",
       "2                            2.873046               0.378265   \n",
       "3                            4.133319               0.119467   \n",
       "4                            1.738228               0.116372   \n",
       "..                                ...                    ...   \n",
       "331                          4.000000              21.000000   \n",
       "332                          3.000000              22.000000   \n",
       "333                          6.000000              40.000000   \n",
       "334                          3.000000              52.000000   \n",
       "335                          4.000000              58.000000   \n",
       "\n",
       "     ica_resto_combustibles  \n",
       "0                  3.555210  \n",
       "1                  7.328292  \n",
       "2                  2.853038  \n",
       "3                  4.128130  \n",
       "4                  5.511522  \n",
       "..                      ...  \n",
       "331                0.000000  \n",
       "332                0.000000  \n",
       "333                0.000000  \n",
       "334                0.000000  \n",
       "335                0.000000  \n",
       "\n",
       "[336 rows x 53 columns]"
      ]
     },
     "execution_count": 7,
     "metadata": {},
     "output_type": "execute_result"
    }
   ],
   "source": [
    "df_expo"
   ]
  },
  {
   "cell_type": "code",
   "execution_count": 8,
   "metadata": {},
   "outputs": [],
   "source": [
    "# buscar dato de expo donde tenga sentido min, max, avg y suma total"
   ]
  },
  {
   "cell_type": "code",
   "execution_count": 9,
   "metadata": {},
   "outputs": [
    {
     "data": {
      "text/html": [
       "<div>\n",
       "<style scoped>\n",
       "    .dataframe tbody tr th:only-of-type {\n",
       "        vertical-align: middle;\n",
       "    }\n",
       "\n",
       "    .dataframe tbody tr th {\n",
       "        vertical-align: top;\n",
       "    }\n",
       "\n",
       "    .dataframe thead th {\n",
       "        text-align: right;\n",
       "    }\n",
       "</style>\n",
       "<table border=\"1\" class=\"dataframe\">\n",
       "  <thead>\n",
       "    <tr style=\"text-align: right;\">\n",
       "      <th></th>\n",
       "      <th>indice_tiempo</th>\n",
       "      <th>ica_exportaciones_total_general</th>\n",
       "      <th>ica_exportaciones_total_productos_primarios</th>\n",
       "      <th>ica_exportaciones_animales_vivos</th>\n",
       "      <th>ica_exportaciones_pescados_mariscos</th>\n",
       "      <th>ica_exportaciones_miel</th>\n",
       "      <th>ica_exportaciones_hortalizas_legumbres_sin_elaborar</th>\n",
       "      <th>ica_exportaciones_frutas_frescas</th>\n",
       "      <th>ica_exportaciones_cereales</th>\n",
       "      <th>ica_exportaciones_semillas_frutos_oleaginosos</th>\n",
       "      <th>...</th>\n",
       "      <th>ica_maquinas_aparatos_materiales_electricos</th>\n",
       "      <th>ica_material_transporte_terrestre</th>\n",
       "      <th>ica_vehiculos_navegacion_aerea_maritima_fluvial</th>\n",
       "      <th>ica_resto_moi</th>\n",
       "      <th>ica_total_combustibles_energia</th>\n",
       "      <th>ica_petroleo_crudo</th>\n",
       "      <th>ica_carburantes_grasas_aceites_lubricantes</th>\n",
       "      <th>gas_petroleo_otros_hidrocarburos</th>\n",
       "      <th>ica_energia_electrica</th>\n",
       "      <th>ica_resto_combustibles</th>\n",
       "    </tr>\n",
       "  </thead>\n",
       "  <tbody>\n",
       "    <tr>\n",
       "      <td>min</td>\n",
       "      <td>1992-01-01</td>\n",
       "      <td>725.798174</td>\n",
       "      <td>113.595346</td>\n",
       "      <td>0.163440</td>\n",
       "      <td>12.923521</td>\n",
       "      <td>1.843517</td>\n",
       "      <td>8.746488</td>\n",
       "      <td>2.608865</td>\n",
       "      <td>40.277424</td>\n",
       "      <td>3.951102</td>\n",
       "      <td>...</td>\n",
       "      <td>31.566474</td>\n",
       "      <td>16.693698</td>\n",
       "      <td>0.000000</td>\n",
       "      <td>4.902551</td>\n",
       "      <td>55.564557</td>\n",
       "      <td>0.000000</td>\n",
       "      <td>18.757213</td>\n",
       "      <td>1.738228</td>\n",
       "      <td>0.000000</td>\n",
       "      <td>0.000000</td>\n",
       "    </tr>\n",
       "    <tr>\n",
       "      <td>max</td>\n",
       "      <td>2019-12-01</td>\n",
       "      <td>8393.245179</td>\n",
       "      <td>2394.737357</td>\n",
       "      <td>11.506153</td>\n",
       "      <td>247.000000</td>\n",
       "      <td>35.993472</td>\n",
       "      <td>94.000000</td>\n",
       "      <td>222.538666</td>\n",
       "      <td>1134.368300</td>\n",
       "      <td>1007.752438</td>\n",
       "      <td>...</td>\n",
       "      <td>245.377528</td>\n",
       "      <td>1070.891053</td>\n",
       "      <td>336.294135</td>\n",
       "      <td>442.000000</td>\n",
       "      <td>892.452656</td>\n",
       "      <td>582.907199</td>\n",
       "      <td>494.265647</td>\n",
       "      <td>169.533431</td>\n",
       "      <td>149.000000</td>\n",
       "      <td>20.231647</td>\n",
       "    </tr>\n",
       "    <tr>\n",
       "      <td>mean</td>\n",
       "      <td>NaN</td>\n",
       "      <td>3718.690165</td>\n",
       "      <td>847.083552</td>\n",
       "      <td>2.234221</td>\n",
       "      <td>69.356585</td>\n",
       "      <td>11.272792</td>\n",
       "      <td>33.706499</td>\n",
       "      <td>57.462308</td>\n",
       "      <td>359.951199</td>\n",
       "      <td>209.595710</td>\n",
       "      <td>...</td>\n",
       "      <td>118.870975</td>\n",
       "      <td>362.609407</td>\n",
       "      <td>26.279546</td>\n",
       "      <td>31.889337</td>\n",
       "      <td>374.866038</td>\n",
       "      <td>147.625761</td>\n",
       "      <td>161.972257</td>\n",
       "      <td>49.533161</td>\n",
       "      <td>9.197031</td>\n",
       "      <td>6.958203</td>\n",
       "    </tr>\n",
       "  </tbody>\n",
       "</table>\n",
       "<p>3 rows × 53 columns</p>\n",
       "</div>"
      ],
      "text/plain": [
       "     indice_tiempo  ica_exportaciones_total_general  \\\n",
       "min     1992-01-01                       725.798174   \n",
       "max     2019-12-01                      8393.245179   \n",
       "mean           NaN                      3718.690165   \n",
       "\n",
       "      ica_exportaciones_total_productos_primarios  \\\n",
       "min                                    113.595346   \n",
       "max                                   2394.737357   \n",
       "mean                                   847.083552   \n",
       "\n",
       "      ica_exportaciones_animales_vivos  ica_exportaciones_pescados_mariscos  \\\n",
       "min                           0.163440                            12.923521   \n",
       "max                          11.506153                           247.000000   \n",
       "mean                          2.234221                            69.356585   \n",
       "\n",
       "      ica_exportaciones_miel  \\\n",
       "min                 1.843517   \n",
       "max                35.993472   \n",
       "mean               11.272792   \n",
       "\n",
       "      ica_exportaciones_hortalizas_legumbres_sin_elaborar  \\\n",
       "min                                            8.746488     \n",
       "max                                           94.000000     \n",
       "mean                                          33.706499     \n",
       "\n",
       "      ica_exportaciones_frutas_frescas  ica_exportaciones_cereales  \\\n",
       "min                           2.608865                   40.277424   \n",
       "max                         222.538666                 1134.368300   \n",
       "mean                         57.462308                  359.951199   \n",
       "\n",
       "      ica_exportaciones_semillas_frutos_oleaginosos  ...  \\\n",
       "min                                        3.951102  ...   \n",
       "max                                     1007.752438  ...   \n",
       "mean                                     209.595710  ...   \n",
       "\n",
       "      ica_maquinas_aparatos_materiales_electricos  \\\n",
       "min                                     31.566474   \n",
       "max                                    245.377528   \n",
       "mean                                   118.870975   \n",
       "\n",
       "      ica_material_transporte_terrestre  \\\n",
       "min                           16.693698   \n",
       "max                         1070.891053   \n",
       "mean                         362.609407   \n",
       "\n",
       "      ica_vehiculos_navegacion_aerea_maritima_fluvial  ica_resto_moi  \\\n",
       "min                                          0.000000       4.902551   \n",
       "max                                        336.294135     442.000000   \n",
       "mean                                        26.279546      31.889337   \n",
       "\n",
       "      ica_total_combustibles_energia  ica_petroleo_crudo  \\\n",
       "min                        55.564557            0.000000   \n",
       "max                       892.452656          582.907199   \n",
       "mean                      374.866038          147.625761   \n",
       "\n",
       "      ica_carburantes_grasas_aceites_lubricantes  \\\n",
       "min                                    18.757213   \n",
       "max                                   494.265647   \n",
       "mean                                  161.972257   \n",
       "\n",
       "      gas_petroleo_otros_hidrocarburos  ica_energia_electrica  \\\n",
       "min                           1.738228               0.000000   \n",
       "max                         169.533431             149.000000   \n",
       "mean                         49.533161               9.197031   \n",
       "\n",
       "      ica_resto_combustibles  \n",
       "min                 0.000000  \n",
       "max                20.231647  \n",
       "mean                6.958203  \n",
       "\n",
       "[3 rows x 53 columns]"
      ]
     },
     "execution_count": 9,
     "metadata": {},
     "output_type": "execute_result"
    }
   ],
   "source": [
    "df_expo.agg([\"min\", \"mean\", \"max\"])"
   ]
  },
  {
   "cell_type": "code",
   "execution_count": 10,
   "metadata": {},
   "outputs": [
    {
     "data": {
      "text/plain": [
       "0       68.845548\n",
       "1       62.501529\n",
       "2       58.970218\n",
       "3       69.160250\n",
       "4       60.379001\n",
       "          ...    \n",
       "331    307.000000\n",
       "332    301.000000\n",
       "333    362.000000\n",
       "334    345.000000\n",
       "335    370.000000\n",
       "Length: 336, dtype: float64"
      ]
     },
     "execution_count": 10,
     "metadata": {},
     "output_type": "execute_result"
    }
   ],
   "source": [
    "df_expo[[\"ica_resto_combustibles\", \"ica_energia_electrica\", \n",
    "         \"gas_petroleo_otros_hidrocarburos\", \"ica_carburantes_grasas_aceites_lubricantes\",\n",
    "        \"ica_petroleo_crudo\"]\n",
    "       ].agg(\"sum\", axis=1)"
   ]
  },
  {
   "cell_type": "markdown",
   "metadata": {},
   "source": [
    "**Ejercicio:** agregar las series de productos agropecuarios creando una serie de exportaciones agropecuarias."
   ]
  },
  {
   "cell_type": "code",
   "execution_count": null,
   "metadata": {},
   "outputs": [],
   "source": []
  },
  {
   "cell_type": "markdown",
   "metadata": {},
   "source": [
    "## Melt"
   ]
  },
  {
   "cell_type": "markdown",
   "metadata": {},
   "source": [
    "https://pandas.pydata.org/pandas-docs/stable/reference/api/pandas.melt.html"
   ]
  },
  {
   "cell_type": "code",
   "execution_count": null,
   "metadata": {},
   "outputs": [],
   "source": []
  },
  {
   "cell_type": "markdown",
   "metadata": {},
   "source": [
    "## Media y mediana"
   ]
  },
  {
   "cell_type": "code",
   "execution_count": 12,
   "metadata": {},
   "outputs": [
    {
     "data": {
      "text/plain": [
       "anio_inscripcion_inicial  mes_inscripcion_inicial\n",
       "2000                      1                          46926\n",
       "                          2                          32798\n",
       "                          3                          32504\n",
       "                          4                          26641\n",
       "                          5                          27580\n",
       "                                                     ...  \n",
       "2019                      10                         32781\n",
       "                          11                         26004\n",
       "                          12                         21470\n",
       "2020                      1                          45170\n",
       "                          2                          27731\n",
       "Name: cantidad_inscripciones_iniciales, Length: 242, dtype: int64"
      ]
     },
     "execution_count": 12,
     "metadata": {},
     "output_type": "execute_result"
    }
   ],
   "source": [
    "serie_patentamientos = df.groupby(\n",
    "    [\"anio_inscripcion_inicial\", \"mes_inscripcion_inicial\"]\n",
    ").sum()[\n",
    "    \"cantidad_inscripciones_iniciales\"]\n",
    "serie_patentamientos"
   ]
  },
  {
   "cell_type": "code",
   "execution_count": 13,
   "metadata": {},
   "outputs": [
    {
     "data": {
      "text/plain": [
       "mean      46616.582645\n",
       "median    45722.000000\n",
       "Name: cantidad_inscripciones_iniciales, dtype: float64"
      ]
     },
     "execution_count": 13,
     "metadata": {},
     "output_type": "execute_result"
    }
   ],
   "source": [
    "serie_patentamientos.agg([\"mean\", \"median\"])"
   ]
  },
  {
   "cell_type": "code",
   "execution_count": 14,
   "metadata": {},
   "outputs": [
    {
     "data": {
      "text/plain": [
       "<matplotlib.lines.Line2D at 0x7f3faf4dc090>"
      ]
     },
     "execution_count": 14,
     "metadata": {},
     "output_type": "execute_result"
    },
    {
     "data": {
      "image/png": "[encoded data removed]",
      "text/plain": [
       "<Figure size 1080x360 with 1 Axes>"
      ]
     },
     "metadata": {
      "needs_background": "light"
     },
     "output_type": "display_data"
    }
   ],
   "source": [
    "ax = serie_patentamientos.hist(bins=20, figsize=(15,5))\n",
    "\n",
    "ax.axvline(serie_patentamientos.mean(), color='orange', linestyle='dashed', linewidth=5)\n",
    "ax.axvline(serie_patentamientos.median(), color='red', linestyle='dashed', linewidth=5)"
   ]
  },
  {
   "cell_type": "markdown",
   "metadata": {},
   "source": [
    "La media y la mediana son muy parecidas cuando la distribución se aproxima a la normal, pero se diferencian cuando una de las colas es sustancialmente más grande que la otra."
   ]
  },
  {
   "cell_type": "code",
   "execution_count": 15,
   "metadata": {},
   "outputs": [
    {
     "data": {
      "text/plain": [
       "anio_inscripcion_inicial  mes_inscripcion_inicial  provincia_id\n",
       "2000                      1                        2                8892\n",
       "                                                   6               16346\n",
       "                                                   10                361\n",
       "                                                   14               4535\n",
       "                                                   18                731\n",
       "                                                                   ...  \n",
       "2020                      2                        78                290\n",
       "                                                   82               2503\n",
       "                                                   86                261\n",
       "                                                   90                792\n",
       "                                                   94                256\n",
       "Name: cantidad_inscripciones_iniciales, Length: 5808, dtype: int64"
      ]
     },
     "execution_count": 15,
     "metadata": {},
     "output_type": "execute_result"
    }
   ],
   "source": [
    "serie_patentamientos = df.groupby(\n",
    "    [\"anio_inscripcion_inicial\", \"mes_inscripcion_inicial\", \"provincia_id\"]\n",
    ").sum()[\n",
    "    \"cantidad_inscripciones_iniciales\"]\n",
    "serie_patentamientos"
   ]
  },
  {
   "cell_type": "code",
   "execution_count": 16,
   "metadata": {},
   "outputs": [
    {
     "data": {
      "text/plain": [
       "mean      1942.35761\n",
       "median     736.00000\n",
       "Name: cantidad_inscripciones_iniciales, dtype: float64"
      ]
     },
     "execution_count": 16,
     "metadata": {},
     "output_type": "execute_result"
    }
   ],
   "source": [
    "serie_patentamientos.agg([\"mean\", \"median\"])"
   ]
  },
  {
   "cell_type": "code",
   "execution_count": 17,
   "metadata": {},
   "outputs": [
    {
     "data": {
      "text/plain": [
       "<matplotlib.lines.Line2D at 0x7f3faf0b7910>"
      ]
     },
     "execution_count": 17,
     "metadata": {},
     "output_type": "execute_result"
    },
    {
     "data": {
      "image/png": "[encoded data removed]",
      "text/plain": [
       "<Figure size 1080x360 with 1 Axes>"
      ]
     },
     "metadata": {
      "needs_background": "light"
     },
     "output_type": "display_data"
    }
   ],
   "source": [
    "ax = serie_patentamientos.hist(bins=100, figsize=(15,5))\n",
    "\n",
    "ax.axvline(serie_patentamientos.mean(), color='orange', linestyle='dashed', linewidth=5)\n",
    "ax.axvline(serie_patentamientos.median(), color='red', linestyle='dashed', linewidth=5)"
   ]
  },
  {
   "cell_type": "markdown",
   "metadata": {},
   "source": [
    "**Ejercicio:** calcular y graficar la media y la mediana de la cantidad de patentamientos por provincia en el año 2017. ¿Cuál es la provincia más cerca de la cantidad de patentamientos promedio y cuál de la cantidad de patentamientos mediana"
   ]
  },
  {
   "cell_type": "code",
   "execution_count": null,
   "metadata": {},
   "outputs": [],
   "source": []
  },
  {
   "cell_type": "markdown",
   "metadata": {},
   "source": [
    "## Desvío estándar, varianza y desviación absoluta"
   ]
  },
  {
   "cell_type": "code",
   "execution_count": 18,
   "metadata": {},
   "outputs": [
    {
     "data": {
      "text/plain": [
       "<matplotlib.lines.Line2D at 0x7f3faef22cd0>"
      ]
     },
     "execution_count": 18,
     "metadata": {},
     "output_type": "execute_result"
    },
    {
     "data": {
      "image/png": "[encoded data removed]",
      "text/plain": [
       "<Figure size 1080x360 with 1 Axes>"
      ]
     },
     "metadata": {
      "needs_background": "light"
     },
     "output_type": "display_data"
    }
   ],
   "source": [
    "ax = serie_patentamientos.hist(bins=100, figsize=(15,5))\n",
    "\n",
    "ax.axvline(serie_patentamientos.mean(), color='orange', linestyle='dashed', linewidth=5)\n",
    "ax.axvline(serie_patentamientos.median(), color='red', linestyle='dashed', linewidth=5)"
   ]
  },
  {
   "cell_type": "markdown",
   "metadata": {},
   "source": [
    "Desvío estándar"
   ]
  },
  {
   "cell_type": "code",
   "execution_count": 19,
   "metadata": {},
   "outputs": [
    {
     "data": {
      "text/plain": [
       "3753.5672422227863"
      ]
     },
     "execution_count": 19,
     "metadata": {},
     "output_type": "execute_result"
    }
   ],
   "source": [
    "serie_patentamientos.std()"
   ]
  },
  {
   "cell_type": "markdown",
   "metadata": {},
   "source": [
    "Varianza"
   ]
  },
  {
   "cell_type": "code",
   "execution_count": 20,
   "metadata": {},
   "outputs": [
    {
     "data": {
      "text/plain": [
       "14089267.041887974"
      ]
     },
     "execution_count": 20,
     "metadata": {},
     "output_type": "execute_result"
    }
   ],
   "source": [
    "serie_patentamientos.var()"
   ]
  },
  {
   "cell_type": "code",
   "execution_count": 21,
   "metadata": {},
   "outputs": [
    {
     "data": {
      "text/plain": [
       "14089267.041887973"
      ]
     },
     "execution_count": 21,
     "metadata": {},
     "output_type": "execute_result"
    }
   ],
   "source": [
    "serie_patentamientos.std() ** 2"
   ]
  },
  {
   "cell_type": "markdown",
   "metadata": {},
   "source": [
    "Desvío absoluto mediano"
   ]
  },
  {
   "cell_type": "code",
   "execution_count": 22,
   "metadata": {},
   "outputs": [
    {
     "data": {
      "text/plain": [
       "2066.9925427024737"
      ]
     },
     "execution_count": 22,
     "metadata": {},
     "output_type": "execute_result"
    }
   ],
   "source": [
    "serie_patentamientos.mad()"
   ]
  },
  {
   "cell_type": "markdown",
   "metadata": {},
   "source": [
    "**Ejercicio:** Calcular el desvío estándar, la varianza y el desvío absoluto mediano de los patentamientos de automotores y motos por separado. ¿Cuál de ellos es más disperso? "
   ]
  },
  {
   "cell_type": "code",
   "execution_count": null,
   "metadata": {},
   "outputs": [],
   "source": []
  },
  {
   "cell_type": "markdown",
   "metadata": {},
   "source": [
    "## Distribuciones probabilísticas "
   ]
  },
  {
   "cell_type": "code",
   "execution_count": 23,
   "metadata": {},
   "outputs": [
    {
     "data": {
      "text/plain": [
       "<matplotlib.axes._subplots.AxesSubplot at 0x7f3faed56c10>"
      ]
     },
     "execution_count": 23,
     "metadata": {},
     "output_type": "execute_result"
    },
    {
     "data": {
      "image/png": "[encoded data removed]",
      "text/plain": [
       "<Figure size 432x288 with 1 Axes>"
      ]
     },
     "metadata": {
      "needs_background": "light"
     },
     "output_type": "display_data"
    }
   ],
   "source": [
    "normal_distribution = pd.Series(np.random.normal(0, 1, 10000))\n",
    "normal_distribution.hist(bins=20)"
   ]
  },
  {
   "cell_type": "code",
   "execution_count": 24,
   "metadata": {},
   "outputs": [
    {
     "data": {
      "text/plain": [
       "0.015990861497839178"
      ]
     },
     "execution_count": 24,
     "metadata": {},
     "output_type": "execute_result"
    }
   ],
   "source": [
    "normal_distribution.mean()"
   ]
  },
  {
   "cell_type": "code",
   "execution_count": 25,
   "metadata": {},
   "outputs": [
    {
     "data": {
      "text/plain": [
       "0.008703397239670348"
      ]
     },
     "execution_count": 25,
     "metadata": {},
     "output_type": "execute_result"
    }
   ],
   "source": [
    "normal_distribution.median()"
   ]
  },
  {
   "cell_type": "code",
   "execution_count": 26,
   "metadata": {},
   "outputs": [
    {
     "data": {
      "text/plain": [
       "0.989030091136738"
      ]
     },
     "execution_count": 26,
     "metadata": {},
     "output_type": "execute_result"
    }
   ],
   "source": [
    "normal_distribution.std()"
   ]
  },
  {
   "cell_type": "code",
   "execution_count": 27,
   "metadata": {},
   "outputs": [
    {
     "data": {
      "text/plain": [
       "<matplotlib.axes._subplots.AxesSubplot at 0x7f3faabdbf90>"
      ]
     },
     "execution_count": 27,
     "metadata": {},
     "output_type": "execute_result"
    },
    {
     "data": {
      "image/png": "[encoded data removed]",
      "text/plain": [
       "<Figure size 432x288 with 1 Axes>"
      ]
     },
     "metadata": {
      "needs_background": "light"
     },
     "output_type": "display_data"
    }
   ],
   "source": [
    "uniform_distribution = pd.Series(np.random.uniform(0, 1, 10000))\n",
    "uniform_distribution.hist(bins=20)"
   ]
  },
  {
   "cell_type": "code",
   "execution_count": 28,
   "metadata": {},
   "outputs": [
    {
     "data": {
      "text/plain": [
       "0.49439842958478664"
      ]
     },
     "execution_count": 28,
     "metadata": {},
     "output_type": "execute_result"
    }
   ],
   "source": [
    "uniform_distribution.mean()"
   ]
  },
  {
   "cell_type": "code",
   "execution_count": 29,
   "metadata": {},
   "outputs": [
    {
     "data": {
      "text/plain": [
       "0.4902722650903922"
      ]
     },
     "execution_count": 29,
     "metadata": {},
     "output_type": "execute_result"
    }
   ],
   "source": [
    "uniform_distribution.median()"
   ]
  },
  {
   "cell_type": "code",
   "execution_count": 30,
   "metadata": {},
   "outputs": [
    {
     "data": {
      "text/plain": [
       "0.28844319377965855"
      ]
     },
     "execution_count": 30,
     "metadata": {},
     "output_type": "execute_result"
    }
   ],
   "source": [
    "uniform_distribution.std()"
   ]
  },
  {
   "cell_type": "code",
   "execution_count": 31,
   "metadata": {},
   "outputs": [
    {
     "data": {
      "text/plain": [
       "<matplotlib.axes._subplots.AxesSubplot at 0x7f3fdcfd1650>"
      ]
     },
     "execution_count": 31,
     "metadata": {},
     "output_type": "execute_result"
    },
    {
     "data": {
      "image/png": "[encoded data removed]",
      "text/plain": [
       "<Figure size 432x288 with 1 Axes>"
      ]
     },
     "metadata": {
      "needs_background": "light"
     },
     "output_type": "display_data"
    }
   ],
   "source": [
    "uniform_distribution = pd.Series(np.random.lognormal(0, 1, 10000))\n",
    "uniform_distribution.hist(bins=100)"
   ]
  },
  {
   "cell_type": "markdown",
   "metadata": {},
   "source": [
    "**Ejercicio:** graficar las tres distribuciones con su media y su mediana."
   ]
  },
  {
   "cell_type": "code",
   "execution_count": null,
   "metadata": {},
   "outputs": [],
   "source": []
  },
  {
   "cell_type": "markdown",
   "metadata": {},
   "source": [
    "## Quantiles "
   ]
  },
  {
   "cell_type": "code",
   "execution_count": 32,
   "metadata": {},
   "outputs": [
    {
     "data": {
      "text/plain": [
       "(736.0, 736.0)"
      ]
     },
     "execution_count": 32,
     "metadata": {},
     "output_type": "execute_result"
    }
   ],
   "source": [
    "serie_patentamientos.quantile(0.5), serie_patentamientos.median()"
   ]
  },
  {
   "cell_type": "code",
   "execution_count": 33,
   "metadata": {},
   "outputs": [
    {
     "data": {
      "text/plain": [
       "352.0"
      ]
     },
     "execution_count": 33,
     "metadata": {},
     "output_type": "execute_result"
    }
   ],
   "source": [
    "serie_patentamientos.quantile(0.25)"
   ]
  },
  {
   "cell_type": "code",
   "execution_count": 34,
   "metadata": {},
   "outputs": [
    {
     "data": {
      "text/plain": [
       "1472.0"
      ]
     },
     "execution_count": 34,
     "metadata": {},
     "output_type": "execute_result"
    }
   ],
   "source": [
    "serie_patentamientos.quantile(0.75)"
   ]
  },
  {
   "cell_type": "markdown",
   "metadata": {},
   "source": [
    "**Ejercicio:** calcular valores maximo y minimo de la serie de patentamientos usando cuantiles y usando max() / min() y comparar el resultado."
   ]
  },
  {
   "cell_type": "code",
   "execution_count": null,
   "metadata": {},
   "outputs": [],
   "source": []
  },
  {
   "cell_type": "markdown",
   "metadata": {},
   "source": [
    "**Ejercicio:** graficar la distribución y la distribución logarítmica con sus medianas y quantiles 0.25 y 0.75"
   ]
  },
  {
   "cell_type": "code",
   "execution_count": null,
   "metadata": {},
   "outputs": [],
   "source": []
  },
  {
   "cell_type": "markdown",
   "metadata": {},
   "source": [
    "## Valores anómalos (outliers)"
   ]
  },
  {
   "cell_type": "markdown",
   "metadata": {},
   "source": [
    "Criterio 1: umbral de desvíos estándares."
   ]
  },
  {
   "cell_type": "code",
   "execution_count": 35,
   "metadata": {},
   "outputs": [
    {
     "data": {
      "text/plain": [
       "<matplotlib.axes._subplots.AxesSubplot at 0x7f3faa9e7d50>"
      ]
     },
     "execution_count": 35,
     "metadata": {},
     "output_type": "execute_result"
    },
    {
     "data": {
      "image/png": "[encoded data removed]",
      "text/plain": [
       "<Figure size 432x288 with 1 Axes>"
      ]
     },
     "metadata": {
      "needs_background": "light"
     },
     "output_type": "display_data"
    }
   ],
   "source": [
    "serie_patentamientos_normal = df.groupby(\n",
    "    [\"anio_inscripcion_inicial\", \"mes_inscripcion_inicial\"]\n",
    ").sum()[\n",
    "    \"cantidad_inscripciones_iniciales\"]\n",
    "serie_patentamientos_normal.hist(bins=20)"
   ]
  },
  {
   "cell_type": "code",
   "execution_count": 36,
   "metadata": {},
   "outputs": [],
   "source": [
    "media = serie_patentamientos_normal.mean()\n",
    "desvio_estandar = serie_patentamientos_normal.std()\n",
    "\n",
    "umbral_superior = media + 3 * desvio_estandar\n",
    "umbral_inferior = media - 3 * desvio_estandar"
   ]
  },
  {
   "cell_type": "code",
   "execution_count": 37,
   "metadata": {},
   "outputs": [
    {
     "data": {
      "text/plain": [
       "<matplotlib.lines.Line2D at 0x7f3faa801e50>"
      ]
     },
     "execution_count": 37,
     "metadata": {},
     "output_type": "execute_result"
    },
    {
     "data": {
      "image/png": "[encoded data removed]",
      "text/plain": [
       "<Figure size 1080x360 with 1 Axes>"
      ]
     },
     "metadata": {
      "needs_background": "light"
     },
     "output_type": "display_data"
    }
   ],
   "source": [
    "ax = serie_patentamientos_normal.hist(bins=100, figsize=(15,5))\n",
    "\n",
    "ax.axvline(media, color='orange', linestyle='dashed', linewidth=5)\n",
    "ax.axvline(umbral_inferior, color='red', linestyle='dashed', linewidth=5)\n",
    "ax.axvline(umbral_superior, color='red', linestyle='dashed', linewidth=5)"
   ]
  },
  {
   "cell_type": "code",
   "execution_count": 38,
   "metadata": {},
   "outputs": [
    {
     "data": {
      "text/plain": [
       "Series([], Name: cantidad_inscripciones_iniciales, dtype: int64)"
      ]
     },
     "execution_count": 38,
     "metadata": {},
     "output_type": "execute_result"
    }
   ],
   "source": [
    "serie_patentamientos_normal[serie_patentamientos_normal < umbral_inferior]"
   ]
  },
  {
   "cell_type": "code",
   "execution_count": 39,
   "metadata": {},
   "outputs": [
    {
     "data": {
      "text/plain": [
       "anio_inscripcion_inicial  mes_inscripcion_inicial\n",
       "2018                      1                          120788\n",
       "Name: cantidad_inscripciones_iniciales, dtype: int64"
      ]
     },
     "execution_count": 39,
     "metadata": {},
     "output_type": "execute_result"
    }
   ],
   "source": [
    "serie_patentamientos_normal[serie_patentamientos_normal > umbral_superior]"
   ]
  },
  {
   "cell_type": "code",
   "execution_count": 40,
   "metadata": {},
   "outputs": [
    {
     "data": {
      "text/plain": [
       "<matplotlib.axes._subplots.AxesSubplot at 0x7f3faa7ce890>"
      ]
     },
     "execution_count": 40,
     "metadata": {},
     "output_type": "execute_result"
    },
    {
     "data": {
      "image/png": "[encoded data removed]",
      "text/plain": [
       "<Figure size 432x288 with 1 Axes>"
      ]
     },
     "metadata": {
      "needs_background": "light"
     },
     "output_type": "display_data"
    }
   ],
   "source": [
    "serie_patentamientos.hist(bins=20)"
   ]
  },
  {
   "cell_type": "code",
   "execution_count": 41,
   "metadata": {},
   "outputs": [],
   "source": [
    "media = serie_patentamientos.mean()\n",
    "desvio_estandar = serie_patentamientos.std()\n",
    "\n",
    "umbral_superior = media + 3 * desvio_estandar\n",
    "umbral_inferior = media - 3 * desvio_estandar"
   ]
  },
  {
   "cell_type": "code",
   "execution_count": 42,
   "metadata": {},
   "outputs": [
    {
     "data": {
      "text/plain": [
       "<matplotlib.lines.Line2D at 0x7f3faa5bec10>"
      ]
     },
     "execution_count": 42,
     "metadata": {},
     "output_type": "execute_result"
    },
    {
     "data": {
      "image/png": "[encoded data removed]",
      "text/plain": [
       "<Figure size 1080x360 with 1 Axes>"
      ]
     },
     "metadata": {
      "needs_background": "light"
     },
     "output_type": "display_data"
    }
   ],
   "source": [
    "ax = serie_patentamientos.hist(bins=100, figsize=(15,5))\n",
    "\n",
    "ax.axvline(media, color='orange', linestyle='dashed', linewidth=5)\n",
    "ax.axvline(umbral_inferior, color='red', linestyle='dashed', linewidth=5)\n",
    "ax.axvline(umbral_superior, color='red', linestyle='dashed', linewidth=5)"
   ]
  },
  {
   "cell_type": "code",
   "execution_count": 43,
   "metadata": {},
   "outputs": [
    {
     "data": {
      "text/plain": [
       "Series([], Name: cantidad_inscripciones_iniciales, dtype: int64)"
      ]
     },
     "execution_count": 43,
     "metadata": {},
     "output_type": "execute_result"
    }
   ],
   "source": [
    "serie_patentamientos[serie_patentamientos < umbral_inferior]"
   ]
  },
  {
   "cell_type": "code",
   "execution_count": 44,
   "metadata": {},
   "outputs": [
    {
     "data": {
      "text/plain": [
       "anio_inscripcion_inicial  mes_inscripcion_inicial  provincia_id\n",
       "2000                      1                        6               16346\n",
       "2005                      1                        6               15286\n",
       "2006                      1                        6               18792\n",
       "2007                      1                        2               15030\n",
       "                                                   6               24854\n",
       "                                                                   ...  \n",
       "2018                      8                        6               19488\n",
       "                          9                        6               15392\n",
       "                          10                       6               14103\n",
       "2019                      1                        6               18450\n",
       "                          7                        6               14799\n",
       "Name: cantidad_inscripciones_iniciales, Length: 149, dtype: int64"
      ]
     },
     "execution_count": 44,
     "metadata": {},
     "output_type": "execute_result"
    }
   ],
   "source": [
    "serie_patentamientos[serie_patentamientos > umbral_superior]"
   ]
  },
  {
   "cell_type": "code",
   "execution_count": 45,
   "metadata": {},
   "outputs": [
    {
     "data": {
      "text/plain": [
       "5808"
      ]
     },
     "execution_count": 45,
     "metadata": {},
     "output_type": "execute_result"
    }
   ],
   "source": [
    "len(serie_patentamientos)"
   ]
  },
  {
   "cell_type": "markdown",
   "metadata": {},
   "source": [
    "**Ejercicio:** buscar los valores anómalos de patentamientos sólo de motos. ¿En qué mes y provincia son? ¿Se les ocurre alguna explicación?"
   ]
  },
  {
   "cell_type": "code",
   "execution_count": null,
   "metadata": {},
   "outputs": [],
   "source": []
  }
 ],
 "metadata": {
  "kernelspec": {
   "display_name": "Python 3",
   "language": "python",
   "name": "python3"
  },
  "language_info": {
   "codemirror_mode": {
    "name": "ipython",
    "version": 3
   },
   "file_extension": ".py",
   "mimetype": "text/x-python",
   "name": "python",
   "nbconvert_exporter": "python",
   "pygments_lexer": "ipython3",
   "version": "3.7.4"
  },
  "toc": {
   "base_numbering": 1,
   "nav_menu": {},
   "number_sections": true,
   "sideBar": true,
   "skip_h1_title": false,
   "title_cell": "Table of Contents",
   "title_sidebar": "Contents",
   "toc_cell": false,
   "toc_position": {},
   "toc_section_display": true,
   "toc_window_display": false
  }
 },
 "nbformat": 4,
 "nbformat_minor": 2
}
