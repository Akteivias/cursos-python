{
 "cells": [
  {
   "cell_type": "markdown",
   "metadata": {
    "colab_type": "text",
    "id": "q04PDYQI1m1a"
   },
   "source": [
    "## Aplicación de POO: PACMAN"
   ]
  },
  {
   "cell_type": "markdown",
   "metadata": {
    "colab_type": "text",
    "id": "bAfA1aNk1m1d"
   },
   "source": [
    "En esta guía vamos a empezar a diseñar una versión básica del tradicional juego PACMAN, organizando el código a partir de algunos conceptos de POO."
   ]
  },
  {
   "cell_type": "markdown",
   "metadata": {
    "colab_type": "text",
    "id": "JpRPySq91m1h"
   },
   "source": [
    "HABLAR DE LAS VENTAJAS DE POO?"
   ]
  },
  {
   "cell_type": "markdown",
   "metadata": {
    "colab_type": "text",
    "id": "W74JeU0c1m1j"
   },
   "source": [
    "Qué elementos van a ser clases? Pensemos en cómo es el juego...\n",
    "En primer lugar, existe un juego, que surje de la interacción entre el PACMAN, los FANTASMAS, el MAPA... Antes de pensar cómo modelar el juego pensemos en el mapa."
   ]
  },
  {
   "cell_type": "markdown",
   "metadata": {
    "colab_type": "text",
    "id": "P9zX-bN61m1m"
   },
   "source": [
    "¿Cómo describirían un mapa?"
   ]
  },
  {
   "cell_type": "markdown",
   "metadata": {
    "colab_type": "text",
    "id": "BjT576xB1m1n"
   },
   "source": [
    "Una versión simple de un mapa podría considerar:\n",
    "- Ser como una matriz, lo cual lo podríamos hacer con una lista de listas\n",
    "- Ser accesible en sus posiciones, ya que vamos a querer posicionar a los fantasmas, a pacman y posiblemente otros objetos\n",
    "- Ser printeable/printable\n",
    "- Poder preguntarle si una posición existe en el mapa, o qué hay en una determinada posición"
   ]
  },
  {
   "cell_type": "code",
   "execution_count": 1,
   "metadata": {
    "colab": {},
    "colab_type": "code",
    "id": "aWBgtZpp1m3T"
   },
   "outputs": [],
   "source": [
    "class EmptyCell:\n",
    "    def __repr__(self):\n",
    "        return \" . \""
   ]
  },
  {
   "cell_type": "code",
   "execution_count": 2,
   "metadata": {
    "colab": {},
    "colab_type": "code",
    "id": "sGH7YhRt1m1t"
   },
   "outputs": [],
   "source": [
    "class Map:\n",
    "    def __init__(self, n_rows, n_cols):\n",
    "        # primero guardo la cantidad de filas y la cantidad de columnas\n",
    "        self.n_rows = n_rows\n",
    "        self.n_cols = n_cols\n",
    "        # luego, genero un mapa vacío. Nota: ésto se puede hacer mejor usando setters, dejémoslo para otra oportunidad\n",
    "        self._map = [[EmptyCell() for i in range(self.n_cols)] for x in range(self.n_rows)]\n",
    "    \n",
    "    def __getitem__(self, row):\n",
    "        # esta es una función mágica, nos va a permitir acceder de una forma muy pythonezca\n",
    "        return self._map[row] # pueden adivinar qué nos va a devolver?\n",
    "    \n",
    "    def __str__(self):\n",
    "        # esta es otra función mágica, nos va a dar un print muy canchero, y luego la vamos a modificar más\n",
    "        str_map = \"\"\n",
    "        for row in self._map:\n",
    "            for col_idx in range(len(row)):\n",
    "                str_map += str(row[col_idx])\n",
    "                if col_idx == len(row) - 1:\n",
    "                    str_map += \"\\n\"\n",
    "                \n",
    "        return str_map"
   ]
  },
  {
   "cell_type": "markdown",
   "metadata": {
    "colab_type": "text",
    "id": "JRgOTlTl1m16"
   },
   "source": [
    "Primero, veamos para qué sirve..."
   ]
  },
  {
   "cell_type": "code",
   "execution_count": 3,
   "metadata": {
    "colab": {},
    "colab_type": "code",
    "id": "Ch_ZF8Wd1m16"
   },
   "outputs": [],
   "source": [
    "# instanciamos un mapa de 5 filas por 3 columnas\n",
    "game_map = Map(5,3)"
   ]
  },
  {
   "cell_type": "code",
   "execution_count": 4,
   "metadata": {
    "colab": {
     "base_uri": "https://localhost:8080/",
     "height": 34
    },
    "colab_type": "code",
    "executionInfo": {
     "elapsed": 2644,
     "status": "ok",
     "timestamp": 1589496164353,
     "user": {
      "displayName": "Maria Frances Gaska",
      "photoUrl": "",
      "userId": "00507418052719867119"
     },
     "user_tz": 180
    },
    "id": "2JDgZyoA1m2E",
    "outputId": "663ce186-a268-464a-9735-ba1a68ea9039"
   },
   "outputs": [
    {
     "data": {
      "text/plain": [
       "[ . ,  . ,  . ]"
      ]
     },
     "execution_count": 4,
     "metadata": {},
     "output_type": "execute_result"
    }
   ],
   "source": [
    "game_map[4]"
   ]
  },
  {
   "cell_type": "code",
   "execution_count": 5,
   "metadata": {
    "colab": {
     "base_uri": "https://localhost:8080/",
     "height": 121
    },
    "colab_type": "code",
    "executionInfo": {
     "elapsed": 2791,
     "status": "ok",
     "timestamp": 1589496164719,
     "user": {
      "displayName": "Maria Frances Gaska",
      "photoUrl": "",
      "userId": "00507418052719867119"
     },
     "user_tz": 180
    },
    "id": "zrX6oNZX1m2Q",
    "outputId": "c4963000-607b-4655-eae0-d68cce7d98d5"
   },
   "outputs": [
    {
     "name": "stdout",
     "output_type": "stream",
     "text": [
      " .  .  . \n",
      " .  .  . \n",
      " .  .  . \n",
      " .  .  . \n",
      " .  .  . \n",
      "\n"
     ]
    }
   ],
   "source": [
    "print(game_map)"
   ]
  },
  {
   "cell_type": "markdown",
   "metadata": {
    "colab_type": "text",
    "id": "I10AIRkP1m2X"
   },
   "source": [
    "¿Qué va a pasar a continuación...?"
   ]
  },
  {
   "cell_type": "code",
   "execution_count": 6,
   "metadata": {
    "colab": {
     "base_uri": "https://localhost:8080/",
     "height": 165
    },
    "colab_type": "code",
    "executionInfo": {
     "elapsed": 2400,
     "status": "error",
     "timestamp": 1589496164719,
     "user": {
      "displayName": "Maria Frances Gaska",
      "photoUrl": "",
      "userId": "00507418052719867119"
     },
     "user_tz": 180
    },
    "id": "_HVUeDLs1m2Y",
    "outputId": "ffdf1d3a-9332-4186-e4ed-fe77f5981a95"
   },
   "outputs": [
    {
     "ename": "IndexError",
     "evalue": "list index out of range",
     "output_type": "error",
     "traceback": [
      "\u001b[0;31m---------------------------------------------------------------------------\u001b[0m",
      "\u001b[0;31mIndexError\u001b[0m                                Traceback (most recent call last)",
      "\u001b[0;32m<ipython-input-6-0907db2f8642>\u001b[0m in \u001b[0;36m<module>\u001b[0;34m\u001b[0m\n\u001b[0;32m----> 1\u001b[0;31m \u001b[0mgame_map\u001b[0m\u001b[0;34m[\u001b[0m\u001b[0;36m4\u001b[0m\u001b[0;34m]\u001b[0m\u001b[0;34m[\u001b[0m\u001b[0;36m4\u001b[0m\u001b[0;34m]\u001b[0m\u001b[0;34m\u001b[0m\u001b[0;34m\u001b[0m\u001b[0m\n\u001b[0m",
      "\u001b[0;31mIndexError\u001b[0m: list index out of range"
     ]
    }
   ],
   "source": [
    "game_map[4][4]"
   ]
  },
  {
   "cell_type": "markdown",
   "metadata": {
    "colab_type": "text",
    "id": "S7IqiWlP1m2f"
   },
   "source": [
    "¿Tienen algo en común un fantasma y el pacman? Podríamos decir que, al menos, tienen en común que...\n",
    "\n",
    "1- Tienen una posición en el mapa\n",
    "\n",
    "2- Se pueden mover\n",
    "\n",
    "3- Pueden ser comidos (cuando pacman come la pastilla puede comer a los fantasmas)"
   ]
  },
  {
   "cell_type": "markdown",
   "metadata": {
    "colab_type": "text",
    "id": "XM-Yb-3b1m2f"
   },
   "source": [
    " Ya que tanto los fantasmas como PACMAN pueden hacer ciertas cosas en común, podemos resumir ese comportamiento en una clase más \"abstracta\". Es decir, tanto los fantasmas como PACMAN tienen ciertos atributos y acciones en común, en ambos casos son \"personajes\" del juego. Por este motivo, comenzamos creando esa clase."
   ]
  },
  {
   "cell_type": "code",
   "execution_count": 7,
   "metadata": {
    "colab": {},
    "colab_type": "code",
    "id": "obnaGbtk1m2g"
   },
   "outputs": [],
   "source": [
    "import random"
   ]
  },
  {
   "cell_type": "code",
   "execution_count": 8,
   "metadata": {
    "colab": {},
    "colab_type": "code",
    "id": "Y28UQzyG1m22"
   },
   "outputs": [],
   "source": [
    "class PowerPill:\n",
    "    def __repr__(self):\n",
    "        return \" O \""
   ]
  },
  {
   "cell_type": "code",
   "execution_count": 9,
   "metadata": {
    "colab": {},
    "colab_type": "code",
    "id": "hErPXVWD1m28"
   },
   "outputs": [],
   "source": [
    "class Wall:\n",
    "    def __repr__(self):\n",
    "        return \" | \""
   ]
  },
  {
   "cell_type": "code",
   "execution_count": 10,
   "metadata": {
    "colab": {},
    "colab_type": "code",
    "id": "LHaAZldL1m3C"
   },
   "outputs": [],
   "source": [
    "class Ghost:\n",
    "    def __repr__(self):\n",
    "        return \" G \""
   ]
  },
  {
   "cell_type": "code",
   "execution_count": 11,
   "metadata": {
    "colab": {},
    "colab_type": "code",
    "id": "l6Gjo6M51m3N"
   },
   "outputs": [],
   "source": [
    "class Pacman:\n",
    "    def __repr__(self):\n",
    "        return \" P \""
   ]
  },
  {
   "cell_type": "code",
   "execution_count": 12,
   "metadata": {
    "colab": {},
    "colab_type": "code",
    "id": "E4OdPix_1m3X"
   },
   "outputs": [],
   "source": [
    "class Map:\n",
    "    def __init__(self, n_rows:int, n_cols:int):\n",
    "        # primero guardo la cantidad de filas y la cantidad de columnas\n",
    "        self.n_rows = n_rows\n",
    "        self.n_cols = n_cols\n",
    "        # luego, genero un mapa vacío. Nota: ésto se puede hacer mejor usando setters, dejémoslo para otra oportunidad\n",
    "        self._elements = [[EmptyCell() for i in range(self.n_cols)] for x in range(self.n_rows)]\n",
    "    \n",
    "    def __getitem__(self, row:int):\n",
    "        # esta es una función mágica, nos va a permitir acceder de una forma muy pythonezca\n",
    "        return self._elements[row] # pueden adivinar qué nos va a devolver?\n",
    "    \n",
    "    def __str__(self):\n",
    "        str_map = \"\"\n",
    "        for row in self._elements:\n",
    "            for col_idx in range(len(row)):\n",
    "                element = row[col_idx]\n",
    "                str_map += str(element)\n",
    "                if col_idx == len(row) - 1:\n",
    "                    str_map += \"\\n\"\n",
    "                \n",
    "        return str_map\n",
    "\n",
    "    def update_element(self, element, pos_x, pos_y):\n",
    "        # método para modificar el tablero\n",
    "        self._elements[pos_x][pos_y] = element\n",
    "\n",
    "    def get_element(self, x, y):\n",
    "      # método para tomar un elemento\n",
    "      return self._elements[x][y]"
   ]
  },
  {
   "cell_type": "code",
   "execution_count": 13,
   "metadata": {
    "colab": {},
    "colab_type": "code",
    "id": "i2xH-Glh1m3c"
   },
   "outputs": [],
   "source": [
    "game_map = Map(5,3)"
   ]
  },
  {
   "cell_type": "code",
   "execution_count": 14,
   "metadata": {
    "colab": {
     "base_uri": "https://localhost:8080/",
     "height": 121
    },
    "colab_type": "code",
    "executionInfo": {
     "elapsed": 782,
     "status": "ok",
     "timestamp": 1589496165375,
     "user": {
      "displayName": "Maria Frances Gaska",
      "photoUrl": "",
      "userId": "00507418052719867119"
     },
     "user_tz": 180
    },
    "id": "gAipD4kU1m3g",
    "outputId": "84cecbef-879f-4570-986b-a9664eb097e8"
   },
   "outputs": [
    {
     "name": "stdout",
     "output_type": "stream",
     "text": [
      " .  .  . \n",
      " .  .  . \n",
      " .  .  . \n",
      " .  .  . \n",
      " .  .  . \n",
      "\n"
     ]
    }
   ],
   "source": [
    "print(game_map)"
   ]
  },
  {
   "cell_type": "code",
   "execution_count": 15,
   "metadata": {
    "colab": {},
    "colab_type": "code",
    "id": "GtG2I9q25kLQ"
   },
   "outputs": [],
   "source": [
    "game_map.update_element(Pacman(),2,2)"
   ]
  },
  {
   "cell_type": "code",
   "execution_count": 16,
   "metadata": {
    "colab": {
     "base_uri": "https://localhost:8080/",
     "height": 121
    },
    "colab_type": "code",
    "executionInfo": {
     "elapsed": 665,
     "status": "ok",
     "timestamp": 1589496166371,
     "user": {
      "displayName": "Maria Frances Gaska",
      "photoUrl": "",
      "userId": "00507418052719867119"
     },
     "user_tz": 180
    },
    "id": "pSABYFKo51N8",
    "outputId": "86a52c6e-63c9-4f99-f24a-d537d9730ddc"
   },
   "outputs": [
    {
     "name": "stdout",
     "output_type": "stream",
     "text": [
      " .  .  . \n",
      " .  .  . \n",
      " .  .  P \n",
      " .  .  . \n",
      " .  .  . \n",
      "\n"
     ]
    }
   ],
   "source": [
    "print(game_map)"
   ]
  },
  {
   "cell_type": "code",
   "execution_count": null,
   "metadata": {
    "colab": {},
    "colab_type": "code",
    "id": "WdzCj3IC6QNx"
   },
   "outputs": [],
   "source": [
    "import sys\n",
    "\n",
    "class Game:\n",
    "    \n",
    "    def __init__(self):\n",
    "        # cuando instanciamos el juego creamos personajes. Por ahora las posiciones son fijas pero se podrían hacer al azar\n",
    "        initial_map = Map(7,8)\n",
    "        initial_map.update_element(Pacman(),4,3)\n",
    "        initial_map.update_element(Ghost(),1,3)\n",
    "        initial_map.update_element(Ghost(),0,0)\n",
    "        self.game_map = initial_map\n",
    "        self.score = 0\n",
    "\n",
    "    def start(self):\n",
    "        end = False\n",
    "        while not end:\n",
    "            print(f\"score:{self.score}\")\n",
    "            print(self.game_map)\n",
    "            self._random_move_ghosts()\n",
    "            move_input = input()\n",
    "            if not self._input_key_is_valid(move_input):\n",
    "                print(\"El input tiene que ser a, w, s o d\")\n",
    "            else:\n",
    "                status = self._update_map_return_status(move_input)\n",
    "            if status == 1:\n",
    "                print(\"Cuidado con la pared\")\n",
    "            if status == 2:\n",
    "                print(\"Perdiste\")\n",
    "                end = True\n",
    "            elif status == 0:\n",
    "                self.score += 1\n",
    "\n",
    "    def _get_ghosts_positions(self):\n",
    "        ghosts_positions = []\n",
    "        for row in range(self.game_map.n_rows):\n",
    "            for col in range(self.game_map.n_cols):\n",
    "                element = self.game_map.get_element(row,col)\n",
    "                if isinstance(element,Ghost):\n",
    "                    ghosts_positions.append((row,col))\n",
    "        return ghosts_positions\n",
    "    \n",
    "    \n",
    "    def _random_move_ghosts(self):\n",
    "        ghosts_positions = self._get_ghosts_positions()\n",
    "        for position in ghosts_positions:\n",
    "            new_x, new_y = self._new_ghost_position(position)\n",
    "            if isinstance(self.game_map.get_element(new_x, new_y), Pacman):\n",
    "                print(\"Perdiste!\")\n",
    "            else:\n",
    "                self.game_map.update_element(Ghost(),new_x, new_y)\n",
    "                self.game_map.update_element(EmptyCell(),position[0], position[1])\n",
    "        \n",
    "\n",
    "    def _new_ghost_position(self,ghosts_position):\n",
    "        possible_moves = [\"a\",\"w\",\"s\",\"d\"]\n",
    "        random.shuffle(possible_moves)\n",
    "        for move in possible_moves:\n",
    "            new_x, new_y = self._advance_position(ghosts_position[0], ghosts_position[1], move)\n",
    "            if not self._hits_wall(new_x, new_y) and \\\n",
    "                not isinstance(self.game_map.get_element(new_x, new_y), Ghost):\n",
    "                return new_x, new_y\n",
    "\n",
    "    def _input_key_is_valid(self, move_input):\n",
    "        if move_input in [\"a\",\"w\",\"s\",\"d\"]:\n",
    "            return True\n",
    "        else:\n",
    "            return False\n",
    "\n",
    "    def _get_pacman_position(self):\n",
    "        for row in range(self.game_map.n_rows):\n",
    "            for col in range(self.game_map.n_cols):\n",
    "            element = self.game_map.get_element(row,col)\n",
    "            if isinstance(element,Pacman):\n",
    "                return row, col\n",
    "\n",
    "\n",
    "    def _update_map_return_status(self, move_input):\n",
    "        pacman_x,pacman_y = self._get_pacman_position()\n",
    "        new_x, new_y = self._advance_position(pacman_x,pacman_y,move_input)\n",
    "        if self._hits_wall(new_x, new_y):\n",
    "            return 1\n",
    "        elif isinstance(self.game_map.get_element(new_x,new_y),Ghost): \n",
    "            return 2\n",
    "        else:\n",
    "            self.game_map.update_element(EmptyCell(), pacman_x, pacman_y)\n",
    "            self.game_map.update_element(Pacman(), new_x, new_y)\n",
    "        return 0\n",
    "\n",
    "    def _hits_wall(self, x, y):\n",
    "        if x >= 0 and x + 1 < self.game_map.n_cols and y >= 0 and y + 1 < self.game_map.n_rows:\n",
    "            return False\n",
    "        return True\n",
    "\n",
    "\n",
    "    @staticmethod\n",
    "    def _advance_position(x,y,move):\n",
    "        if move == \"a\":\n",
    "            y = y - 1\n",
    "        elif move == \"w\":\n",
    "            x = x - 1\n",
    "        elif move == \"s\":\n",
    "            x = x + 1\n",
    "        elif move == \"d\":\n",
    "            y = y + 1\n",
    "        else:\n",
    "            raise NotImplementedError(f\"{move_input}\")\n",
    "        return x,y\n"
   ]
  },
  {
   "cell_type": "code",
   "execution_count": null,
   "metadata": {
    "colab": {},
    "colab_type": "code",
    "id": "8kaRNVr5dSE9"
   },
   "outputs": [],
   "source": [
    "game = Game()"
   ]
  },
  {
   "cell_type": "code",
   "execution_count": null,
   "metadata": {
    "colab": {
     "base_uri": "https://localhost:8080/",
     "height": 903
    },
    "colab_type": "code",
    "id": "ftVKfIwb8R_a",
    "outputId": "d41d6f58-d463-4e2f-c334-a27e89073771"
   },
   "outputs": [],
   "source": [
    "game.start()"
   ]
  },
  {
   "cell_type": "code",
   "execution_count": null,
   "metadata": {
    "colab": {},
    "colab_type": "code",
    "id": "8NkGpi401m4K"
   },
   "outputs": [],
   "source": [
    "ss\n"
   ]
  },
  {
   "cell_type": "code",
   "execution_count": null,
   "metadata": {
    "colab": {},
    "colab_type": "code",
    "id": "fuyGH3gUdY3F"
   },
   "outputs": [],
   "source": []
  }
 ],
 "metadata": {
  "colab": {
   "name": "Pacman(2).ipynb",
   "provenance": []
  },
  "kernelspec": {
   "display_name": "Python 3",
   "language": "python",
   "name": "python3"
  },
  "language_info": {
   "codemirror_mode": {
    "name": "ipython",
    "version": 3
   },
   "file_extension": ".py",
   "mimetype": "text/x-python",
   "name": "python",
   "nbconvert_exporter": "python",
   "pygments_lexer": "ipython3",
   "version": "3.7.7"
  }
 },
 "nbformat": 4,
 "nbformat_minor": 4
}
