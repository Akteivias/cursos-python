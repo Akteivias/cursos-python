{
 "cells": [
  {
   "cell_type": "markdown",
   "metadata": {
    "colab_type": "text",
    "id": "nGkigPqTmyZp"
   },
   "source": [
    "# Programacion orientada a objetos (POO)"
   ]
  },
  {
   "cell_type": "markdown",
   "metadata": {
    "colab_type": "text",
    "id": "JWZi0Jz7myZr"
   },
   "source": [
    "En el paradigma de programación orientada a objetos los programas se estructuran organizando el código en entidades llamadas objetos. Estos nos permiten encapsular data, funciones y variables dentro de una misma clase. Veamos de qué se trata."
   ]
  },
  {
   "cell_type": "markdown",
   "metadata": {
    "colab_type": "text",
    "id": "8facntg8myZs"
   },
   "source": [
    "## Terminologia de clases y objetos"
   ]
  },
  {
   "cell_type": "markdown",
   "metadata": {
    "colab_type": "text",
    "id": "f4-ocEflmyZs"
   },
   "source": [
    "1. Una **clase** es un prototipo de objeto, que engloba atributos que poseen todos los objetos de esa clase. Los atributos pueden ser datos como variables de clase y de instancia, y métodos (funciones). Se acceden con un punto.\n",
    "\n",
    "2. Una **instancia** es un objeto en particular que pertenece a una clase.\n",
    "\n",
    "3. Una variable de clase o **class variable**  es un atributo compartido por todas las instancias de la clase. Se definen dentro de una clase pero fuera de un método. \n",
    "\n",
    "4. La **herencia** es la transferencia de atributos de una clase a otra clase\n",
    "\n",
    "5. Un **método** es una función contenida dentro de un objeto.\n",
    "\n",
    "6. Un **objeto** es una instancia única de una estructura definida por su clase. Posee de atributos variables de clase, de instancia y métodos.\n",
    "\n"
   ]
  },
  {
   "cell_type": "markdown",
   "metadata": {
    "colab_type": "text",
    "id": "WL8GajTfmyZt"
   },
   "source": [
    "## Creando la primera clase"
   ]
  },
  {
   "cell_type": "code",
   "execution_count": 177,
   "metadata": {
    "slideshow": {
     "slide_type": "slide"
    }
   },
   "outputs": [
    {
     "name": "stdout",
     "output_type": "stream",
     "text": [
      "<class '__main__.Ejemplo'>\n"
     ]
    }
   ],
   "source": [
    "#La sintáxis es:\n",
    "\n",
    "class Ejemplo:\n",
    "    pass\n",
    "\n",
    "# Instancio la clase\n",
    "x = Ejemplo()\n",
    "\n",
    "print(type(x))"
   ]
  },
  {
   "cell_type": "markdown",
   "metadata": {},
   "source": [
    "Por convención, las clases se nombran empleando \"upper camel case\". Es decir, con mayúscula para cada término que sea parte del nombre. "
   ]
  },
  {
   "cell_type": "markdown",
   "metadata": {
    "slideshow": {
     "slide_type": "subslide"
    }
   },
   "source": [
    "Una librería famosa en Python por sus clases es \"requests\". Esta ĺibrería se usa para acceder a información web por HTTP. Algunas de sus clases son:\n",
    "\n",
    "- Session\n",
    "- Request\n",
    "- ConnectionError\n",
    "- ConnectTimeout\n",
    "\n",
    "Las últimas dos clases son para especificar errores, noten que se repiten las mayúsculas."
   ]
  },
  {
   "cell_type": "markdown",
   "metadata": {},
   "source": [
    "Podemos pensar a una clase como un molde, el cual usamos para generar objetos o instancias que tienen ciertos atributos o métodos (funciones) que deseamos mantener.\n",
    "\n",
    "Aquellos atributos y métodos que queremos que los objetos conserven son definidos como parte del constructor. El constructor en Python es el método reservado __init__. Este método se llama cuando se instancia la clase y en ese momento se inicializan los atributos de la clase, para lo cual podemos pasar parámetros.\n",
    "\n",
    "Además, vamos a emplear el término reservado **self** para indicar aquellos atributos y métodos propios de la clase que queremos que puedan ser accedidos desde el objetivo."
   ]
  },
  {
   "cell_type": "code",
   "execution_count": 178,
   "metadata": {
    "colab": {},
    "colab_type": "code",
    "id": "ru6DucmamyZ7"
   },
   "outputs": [],
   "source": [
    "class Persona():\n",
    "    def __init__(self, nombre_completo, edad, contacto):\n",
    "        self.edad = edad\n",
    "        self.contacto = contacto\n",
    "        self.nombrar(nombre_completo)\n",
    "    \n",
    "    def nombrar(self, nombre_completo):\n",
    "        separado = nombre_completo.split(' ')\n",
    "        self.nombre = separado[0]\n",
    "        self.apellido = ' '.join(separado[1:])\n",
    "\n",
    "    def info(self):\n",
    "        print(f'{self.apellido}, {self.nombre}\\nMail: {self.contacto}')"
   ]
  },
  {
   "cell_type": "code",
   "execution_count": 179,
   "metadata": {
    "colab": {
     "base_uri": "https://localhost:8080/",
     "height": 51
    },
    "colab_type": "code",
    "id": "-3AWihITmyZ-",
    "outputId": "cbe535a4-e3bc-499f-a956-027f7affc2ac"
   },
   "outputs": [
    {
     "name": "stdout",
     "output_type": "stream",
     "text": [
      "Rippley, Matías\n",
      "Mail: mail@arroba.punto\n"
     ]
    }
   ],
   "source": [
    "instancia_ejemplo = Persona('Matías Rippley', 24, 'mail@arroba.punto')\n",
    "instancia_ejemplo.info()"
   ]
  },
  {
   "cell_type": "code",
   "execution_count": 180,
   "metadata": {
    "colab": {},
    "colab_type": "code",
    "id": "ffB3W0b9pz3g"
   },
   "outputs": [],
   "source": [
    "class Curso:\n",
    "    max_alumnos = 35\n",
    "\n",
    "    def __init__(self, nombre, duracion, alumnos = [], costo=10):\n",
    "        self.nombre = nombre\n",
    "        self.duracion = duracion\n",
    "        self.alumnos = alumnos\n",
    "        self.costo = costo\n",
    "\n",
    "    def inscribir_alumno(self, nombre):\n",
    "        self.alumnos.append(nombre)\n",
    "        print(f'Se agregó al alumno/a {nombre}')\n",
    "\n",
    "    def tomar_lista(self):\n",
    "        for a in self.alumnos:\n",
    "            print(f'Alumno: {a}')\n",
    "\n",
    "    def resumen(self):\n",
    "        print(f'Curso {self.nombre}, {self.duracion} clases pensadas para {len(self.alumnos)} alumnos\\n'\n",
    "              f'Por el muy módico precio de {self.costo} rupias')"
   ]
  },
  {
   "cell_type": "code",
   "execution_count": 181,
   "metadata": {
    "colab": {},
    "colab_type": "code",
    "id": "XmX4l4IF_eTI"
   },
   "outputs": [],
   "source": [
    "curso_python = Curso('Python', 6)"
   ]
  },
  {
   "cell_type": "code",
   "execution_count": 185,
   "metadata": {
    "colab": {
     "base_uri": "https://localhost:8080/",
     "height": 51
    },
    "colab_type": "code",
    "id": "MnRKu_2M_sxP",
    "outputId": "380c19ec-65b3-4840-bf2e-d0711fbde5e6"
   },
   "outputs": [
    {
     "name": "stdout",
     "output_type": "stream",
     "text": [
      "Se agregó al alumno/a Máximo\n",
      "Se agregó al alumno/a Mateo\n"
     ]
    }
   ],
   "source": [
    "# Llamamos metodos de la instancia\n",
    "curso_python.inscribir_alumno('Máximo')\n",
    "curso_python.inscribir_alumno('Mateo')"
   ]
  },
  {
   "cell_type": "code",
   "execution_count": 186,
   "metadata": {
    "colab": {
     "base_uri": "https://localhost:8080/",
     "height": 51
    },
    "colab_type": "code",
    "id": "gFvzeuDn_yNf",
    "outputId": "2c62cced-2a98-41e6-a2c0-7a372038c02c"
   },
   "outputs": [
    {
     "name": "stdout",
     "output_type": "stream",
     "text": [
      "Alumno: Máximo\n",
      "Alumno: Mateo\n",
      "Alumno: Máximo\n",
      "Alumno: Mateo\n"
     ]
    }
   ],
   "source": [
    "curso_python.tomar_lista()"
   ]
  },
  {
   "cell_type": "code",
   "execution_count": 187,
   "metadata": {
    "colab": {},
    "colab_type": "code",
    "id": "nV-Ey85TuTYW"
   },
   "outputs": [],
   "source": [
    "# Asignamos un atributo a la instancia\n",
    "\n",
    "curso_python.costo = 5"
   ]
  },
  {
   "cell_type": "code",
   "execution_count": 188,
   "metadata": {
    "colab": {
     "base_uri": "https://localhost:8080/",
     "height": 51
    },
    "colab_type": "code",
    "id": "AqkOrzAavtQf",
    "outputId": "3a20c0cd-a11d-49b2-b1e7-05c241aae760"
   },
   "outputs": [
    {
     "name": "stdout",
     "output_type": "stream",
     "text": [
      "Curso Python, 6 clases pensadas para 4 alumnos\n",
      "Por el muy módico precio de 5 rupias\n"
     ]
    }
   ],
   "source": [
    "curso_python.resumen()"
   ]
  },
  {
   "cell_type": "markdown",
   "metadata": {
    "colab_type": "text",
    "id": "tZhkGmH4zp4t"
   },
   "source": [
    "### Herencia\n",
    "\n",
    "La clase derivada (Alumno) **hereda** atributos de la clase base (Persona)."
   ]
  },
  {
   "cell_type": "code",
   "execution_count": 189,
   "metadata": {
    "colab": {},
    "colab_type": "code",
    "id": "20SpMkEzDDNB"
   },
   "outputs": [],
   "source": [
    "# Clase derivada\n",
    "class Alumno(Persona):\n",
    "    def __init__(self, curso: Curso, *args):    \n",
    "        self.curso = curso\n",
    "        super().__init__(*args)\n",
    "\n",
    "    def info(self):\n",
    "        super().info()\n",
    "        print('Cursando:')\n",
    "        self.curso.resumen()\n",
    "\n",
    "    def estudiar(self, dato):\n",
    "        self.conocimiento = dato"
   ]
  },
  {
   "cell_type": "code",
   "execution_count": 190,
   "metadata": {
    "colab": {
     "base_uri": "https://localhost:8080/",
     "height": 102
    },
    "colab_type": "code",
    "id": "eWN6A1VebZDF",
    "outputId": "b0eac13b-0865-4958-c64a-9de6d8e94956"
   },
   "outputs": [
    {
     "name": "stdout",
     "output_type": "stream",
     "text": [
      "Henderson, Scott\n",
      "Mail: sh@mail.com\n",
      "Cursando:\n",
      "Curso Python, 6 clases pensadas para 4 alumnos\n",
      "Por el muy módico precio de 5 rupias\n"
     ]
    }
   ],
   "source": [
    "scott = Alumno(curso_python, 'Scott Henderson', 49, 'sh@mail.com')\n",
    "scott.info();"
   ]
  },
  {
   "cell_type": "code",
   "execution_count": 191,
   "metadata": {
    "colab": {},
    "colab_type": "code",
    "id": "yaActu69GauJ"
   },
   "outputs": [],
   "source": [
    "scott.estudiar('Se puede heredar de otra clase y extender sus métodos')"
   ]
  },
  {
   "cell_type": "code",
   "execution_count": 192,
   "metadata": {
    "colab": {
     "base_uri": "https://localhost:8080/",
     "height": 34
    },
    "colab_type": "code",
    "id": "TxnvrBvsHGzW",
    "outputId": "572c6a52-53af-444d-80a0-de6228446c5d"
   },
   "outputs": [
    {
     "data": {
      "text/plain": [
       "'Se puede heredar de otra clase y extender sus métodos'"
      ]
     },
     "execution_count": 192,
     "metadata": {},
     "output_type": "execute_result"
    }
   ],
   "source": [
    "scott.conocimiento"
   ]
  },
  {
   "cell_type": "markdown",
   "metadata": {
    "colab_type": "text",
    "id": "Ct3PNI7WNd_y"
   },
   "source": [
    "### Programación modular\n",
    "\n",
    "Python tambien soporta programación modular. Es el proceso de separar largas y complejas tareas de programación en subtereas/modulos mas pequeños y manejables.  "
   ]
  },
  {
   "cell_type": "code",
   "execution_count": null,
   "metadata": {},
   "outputs": [],
   "source": []
  },
  {
   "cell_type": "markdown",
   "metadata": {
    "colab_type": "text",
    "id": "6BBCTXGskrBp"
   },
   "source": [
    "### Protección de acceso\n",
    "\n",
    "Podemos cambiar el acceso (publico, no publico, protedigo) de los métodos y variables."
   ]
  },
  {
   "cell_type": "markdown",
   "metadata": {
    "colab_type": "text",
    "id": "xY3x3-5Co8-F"
   },
   "source": [
    "Dos formas distintas de encapsulamiento:\n",
    "\n",
    "- `_nopublico`\n",
    "- `__protegido`"
   ]
  },
  {
   "cell_type": "code",
   "execution_count": 193,
   "metadata": {
    "colab": {},
    "colab_type": "code",
    "id": "-MxLTGBfkqTN"
   },
   "outputs": [],
   "source": [
    "class Auto():\n",
    "\n",
    "    # Atributos privados\n",
    "    __max_velocidad = 0\n",
    "    _motor = ''\n",
    "\n",
    "    def __init__(self, color, marca):\n",
    "        self.color = color\n",
    "        self.marca = marca\n",
    "        self.__max_velocidad = 200\n",
    "        self._motor = 'v8'\n",
    "    \n",
    "    def conducir(self):\n",
    "        print('conduciendo. maxspeed ' + str(self.__mas_velocidad))"
   ]
  },
  {
   "cell_type": "code",
   "execution_count": 194,
   "metadata": {
    "colab": {},
    "colab_type": "code",
    "id": "pHGKm6iondA5"
   },
   "outputs": [],
   "source": [
    "superauto = Auto('rojo','Ferraudi')"
   ]
  },
  {
   "cell_type": "code",
   "execution_count": 195,
   "metadata": {
    "colab": {
     "base_uri": "https://localhost:8080/",
     "height": 34
    },
    "colab_type": "code",
    "id": "2VWZRkQ6pfZz",
    "outputId": "c70d1485-807d-4f9e-dcf2-331706a789e5"
   },
   "outputs": [
    {
     "data": {
      "text/plain": [
       "'v8'"
      ]
     },
     "execution_count": 195,
     "metadata": {},
     "output_type": "execute_result"
    }
   ],
   "source": [
    "# Atributo no publ\n",
    "superauto._motor"
   ]
  },
  {
   "cell_type": "code",
   "execution_count": 196,
   "metadata": {
    "colab": {
     "base_uri": "https://localhost:8080/",
     "height": 164
    },
    "colab_type": "code",
    "id": "WSafkUzHnp8y",
    "outputId": "10939014-e8b5-4444-f0c1-ed514e0344c2"
   },
   "outputs": [
    {
     "ename": "AttributeError",
     "evalue": "'Auto' object has no attribute '__max_velocidad'",
     "output_type": "error",
     "traceback": [
      "\u001b[0;31m---------------------------------------------------------------------------\u001b[0m",
      "\u001b[0;31mAttributeError\u001b[0m                            Traceback (most recent call last)",
      "\u001b[0;32m<ipython-input-196-aef680564bd1>\u001b[0m in \u001b[0;36m<module>\u001b[0;34m\u001b[0m\n\u001b[1;32m      1\u001b[0m \u001b[0;31m# Atributo privado\u001b[0m\u001b[0;34m\u001b[0m\u001b[0;34m\u001b[0m\u001b[0;34m\u001b[0m\u001b[0m\n\u001b[0;32m----> 2\u001b[0;31m \u001b[0msuperauto\u001b[0m\u001b[0;34m.\u001b[0m\u001b[0m__max_velocidad\u001b[0m\u001b[0;34m\u001b[0m\u001b[0;34m\u001b[0m\u001b[0m\n\u001b[0m",
      "\u001b[0;31mAttributeError\u001b[0m: 'Auto' object has no attribute '__max_velocidad'"
     ]
    }
   ],
   "source": [
    "# Atributo privado\n",
    "superauto.__max_velocidad "
   ]
  },
  {
   "cell_type": "markdown",
   "metadata": {
    "colab_type": "text",
    "id": "xfXyE_firtCL"
   },
   "source": [
    "### Encapsulamiento\n",
    "\n",
    "Nos permite que determinados métodos y/o atributos sean modificables y accesibles solamente por las operaciones definidas para el objeto al que pertenecen. Es decir que el acceso puede ser controlado por metodos. En python para encapsular se utiliza: decoradores y protección de acceso.\n",
    "\n",
    "Decoradores: \n",
    "- `@property`\n",
    "- `@property.setter`\n"
   ]
  },
  {
   "cell_type": "code",
   "execution_count": 197,
   "metadata": {
    "colab": {},
    "colab_type": "code",
    "id": "oNMfB6HQwIdy"
   },
   "outputs": [],
   "source": [
    "class Auto:\n",
    "\n",
    "    def __init__(self, modelo):   \n",
    "        self.modelo = modelo\n",
    "\n",
    "    # Inicia la propiedad \n",
    "    @property\n",
    "    def modelo(self):\n",
    "        return self.__modelo\n",
    "\n",
    "    # Definde la propiedad\n",
    "    @modelo.setter\n",
    "    def modelo(self, modelo):\n",
    "        if modelo < 2000:\n",
    "            self.__modelo = 2000\n",
    "        elif modelo > 2018:\n",
    "            self.__modelo = 2018\n",
    "        else:\n",
    "            self.__modelo = modelo\n",
    "\n",
    "    # Método\n",
    "    def queModelo(self):\n",
    "        return \"El modelo del auto es \" + str(self.modelo)\n"
   ]
  },
  {
   "cell_type": "code",
   "execution_count": 198,
   "metadata": {
    "colab": {
     "base_uri": "https://localhost:8080/",
     "height": 34
    },
    "colab_type": "code",
    "id": "5yFTLTLrwuNj",
    "outputId": "b7e6706e-d6a5-469b-a9f8-27bc421d5f8a"
   },
   "outputs": [
    {
     "name": "stdout",
     "output_type": "stream",
     "text": [
      "El modelo del auto es 2018\n"
     ]
    }
   ],
   "source": [
    "miauto = Auto(2088)\n",
    "print(miauto.queModelo())"
   ]
  },
  {
   "cell_type": "code",
   "execution_count": null,
   "metadata": {
    "colab": {},
    "colab_type": "code",
    "id": "us8rk0yvxS1A"
   },
   "outputs": [],
   "source": []
  },
  {
   "cell_type": "code",
   "execution_count": 199,
   "metadata": {},
   "outputs": [],
   "source": [
    "class Punto():\n",
    "    def __init__(self, x=0.0,y=0.0):\n",
    "        self.x = float(x)\n",
    "        self.y = float(y)\n",
    "        \n",
    "    def __repr__(self):\n",
    "        coord = (self.x,self.y)\n",
    "        return coord\n",
    "\n",
    "    def __str__(self):\n",
    "        point_str = \"(%f,%f)\" % (self.x, self.y)\n",
    "        return point_str"
   ]
  },
  {
   "cell_type": "markdown",
   "metadata": {},
   "source": [
    "Tipado"
   ]
  },
  {
   "cell_type": "code",
   "execution_count": 200,
   "metadata": {},
   "outputs": [],
   "source": [
    "class Linea(object):\n",
    "    def __init__(self, p1: Punto, p2: Punto):\n",
    "        self.p1 = Punto(x0,y0)\n",
    "        self.p2 = Punto(x1,y1)\n",
    "\n",
    "    def __str__(self):\n",
    "        x1,y1 = self.p1.x,self.p1.y\n",
    "        x2,y2 = self.p2.x,self.p2.y\n",
    "        linea = \"((%f,%f),(%f,%f))\" % (x0,y0,x1,y1)\n",
    "        return linea\n",
    "     \n",
    "    __repr__ = __str__\n",
    "    \n",
    "    def largo(self):\n",
    "        dist_x = abs(self.p2.x - self.p1.x)\n",
    "        dist_y = abs(self.p2.y - self.p1.y)\n",
    "        dist_x_squared = dist_x ** 2\n",
    "        dist_y_squared = dist_y ** 2\n",
    "        largo = (dist_x_squared + dist_y_squared) ** 0.5\n",
    "        return largo\n",
    "\n",
    "    def pendiente(self):\n",
    "        dist_y = self.p2.y - self.p1.y\n",
    "        dist_x = self.p2.x - self.p1.x\n",
    "        pendiente = dist_y/dist_x\n",
    "        return pendiente\n",
    "    \n",
    "    def intercepto(self):\n",
    "        return - (self.p1.x * self.pendiente()) + self.p1.y\n",
    "    \n",
    "    def predecir(self, x):\n",
    "        return self.pendiente() * x + self.intercepto()"
   ]
  },
  {
   "cell_type": "code",
   "execution_count": 201,
   "metadata": {
    "slideshow": {
     "slide_type": "subslide"
    }
   },
   "outputs": [],
   "source": [
    "x0,y0 = 7,5\n",
    "x1,y1 = 4,1"
   ]
  },
  {
   "cell_type": "code",
   "execution_count": 202,
   "metadata": {},
   "outputs": [],
   "source": [
    "p1 = Punto(x0,y0)\n",
    "p2 = Punto(x1,y1)\n",
    "linea = Linea(p1,p2)"
   ]
  },
  {
   "cell_type": "code",
   "execution_count": 203,
   "metadata": {},
   "outputs": [
    {
     "data": {
      "text/plain": [
       "(5.0, 1.3333333333333333, 1.0000000000000009)"
      ]
     },
     "execution_count": 203,
     "metadata": {},
     "output_type": "execute_result"
    }
   ],
   "source": [
    "linea.largo(), linea.pendiente(), linea.predecir(x1)"
   ]
  },
  {
   "cell_type": "code",
   "execution_count": null,
   "metadata": {},
   "outputs": [],
   "source": []
  }
 ],
 "metadata": {
  "kernelspec": {
   "display_name": "Python 3",
   "language": "python",
   "name": "python3"
  },
  "language_info": {
   "codemirror_mode": {
    "name": "ipython",
    "version": 3
   },
   "file_extension": ".py",
   "mimetype": "text/x-python",
   "name": "python",
   "nbconvert_exporter": "python",
   "pygments_lexer": "ipython3",
   "version": "3.7.3"
  }
 },
 "nbformat": 4,
 "nbformat_minor": 4
}
