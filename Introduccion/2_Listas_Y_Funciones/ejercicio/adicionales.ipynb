{
 "cells": [
  {
   "cell_type": "markdown",
   "metadata": {},
   "source": [
    "## Adicionales clase 2\n",
    "- TODO: Agregar boton de colab\n",
    "- TODO: No dar soluciones para mi, que lo consulten y si dar un mini conjunto de test"
   ]
  },
  {
   "cell_type": "markdown",
   "metadata": {},
   "source": [
    "### Juego de espías (Fácil)\n",
    "El espía Ramsay debe codificar los mensajes que le mandan otros espías sobre la cantidad de tropas que tiene el enemigo en distintos cuarteles. Para esto, otro espía le manda una tira de números con un pequeño truco. Esta tira de números estan separados por `-`, pero para que no sea tan fácil saber que esta informando, la cantidad de tropas esta levemente escondida y también esta escondido el número del cuartel. El cuartel estará escondido en el último lugar de la tira y para obtener la cantidad de tropas aproximadas se deben sumar todos los números que son divisibles por el número del cuartel de la tira. Crear una función que reciba el string de la tira de números y devuelva la cantidad de tropas que hay en el cuartel enemigo como una tupla. Adicionalmente, podria imprimir un mensaje con la información requerida.\n",
    "\n",
    "Ej:\n",
    "```Python\n",
    "INPUT:\n",
    "tira_numeros = '29-32-1.2-5-65-12345-0-1200-2'\n",
    "OUTPUT: \n",
    "(2, 1232)\n",
    "    \"En el cuartel número 2 hay 1232 soldados\"\n",
    "```"
   ]
  },
  {
   "cell_type": "code",
   "execution_count": null,
   "metadata": {},
   "outputs": [],
   "source": [
    "def informe_espia(tira_numeros):\n",
    "    # ayuda a Ramsay\n",
    "    \n",
    "    return informe"
   ]
  },
  {
   "cell_type": "code",
   "execution_count": 9,
   "metadata": {},
   "outputs": [
    {
     "ename": "NameError",
     "evalue": "name 'test1' is not defined",
     "output_type": "error",
     "traceback": [
      "\u001b[0;31m---------------------------------------------------------------------------\u001b[0m",
      "\u001b[0;31mNameError\u001b[0m                                 Traceback (most recent call last)",
      "\u001b[0;32m<ipython-input-9-47b6d8531b7b>\u001b[0m in \u001b[0;36m<module>\u001b[0;34m\u001b[0m\n\u001b[0;32m----> 1\u001b[0;31m \u001b[0mtest1\u001b[0m\u001b[0;34m(\u001b[0m\u001b[0minforme_espia\u001b[0m\u001b[0;34m)\u001b[0m\u001b[0;34m\u001b[0m\u001b[0;34m\u001b[0m\u001b[0m\n\u001b[0m",
      "\u001b[0;31mNameError\u001b[0m: name 'test1' is not defined"
     ]
    }
   ],
   "source": [
    "test1(informe_espia)"
   ]
  },
  {
   "cell_type": "code",
   "execution_count": null,
   "metadata": {},
   "outputs": [],
   "source": [
    "assert cantidad_tropas()== "
   ]
  },
  {
   "cell_type": "markdown",
   "metadata": {},
   "source": [
    "### Codificador César (Intermedio)\n",
    "Una de las formas mas antiguas de crear un código encriptado es lo que se conoce como el encriptado César <https://es.wikipedia.org/wiki/Cifrado_C%C3%A9sar>. En este tipo de encriptado lo que se hace es \"girar\" el abecedario una determinada cantidad de pasos según una clave numérica (ver ejemplo). Crear una función que lea un string y una clave y devuelva el string encriptado con la clave César (asumir que el texto esta en castellano).\n",
    "\n",
    "Ej: Clave = 2\n",
    "\n",
    "| Letra   | Letra encriptada |\n",
    "| ------------- |:-------------:| \n",
    "| A | C | \n",
    "| B | D |\n",
    "| C | E |\n",
    "| ... | ... |\n",
    "| Y | A |\n",
    "| Z | B |\n",
    "\n",
    "Mensaje: \"Hola estudiante\"\n",
    "Encriptado: \"Jqnc guvwfkcovg\"\n",
    "\n",
    "*(OPCIONAL) Crear un desencriptador para la clave César que cree una lista con todas las posibles rotaciones del texto.*"
   ]
  },
  {
   "cell_type": "code",
   "execution_count": 8,
   "metadata": {},
   "outputs": [],
   "source": [
    "# Se puede agregar que lean un archivo txt\n",
    "abecedario = 'abcder'"
   ]
  },
  {
   "cell_type": "markdown",
   "metadata": {},
   "source": [
    "### La calesita (Difícil)\n",
    "El señor Jacinto es dueño de una antigua calesita con animalitos que no funciona hace varios años y quiere volver a ponerla en funcionamiento. Para eso va a probarla prendiendola y viendo cuanto rota segun la cantidad de ciclos. \n",
    "\n",
    "Crear una función que reciba una lista de strings (con la primera en mayúscula) con los animales que componen la calesita, una cantidad de ciclos(n_ciclos) y devuelva la misma lista pero rotada hacia la derecha esa cantidad de ciclos, donde un ciclo es cambiar todos los animales una posición hacia la derecha:\n",
    "\n",
    "Ej:\n",
    "``` Python\n",
    "INPUT:\n",
    "calesita = ['Unicornio','Oso','Jirafa', 'Pato'. 'Elefante']\n",
    "problar_calesita(calesita, 1) = ['Elefante', 'Unicornio', 'Oso', 'Jirafa', 'Pato']\n",
    "```"
   ]
  },
  {
   "cell_type": "code",
   "execution_count": null,
   "metadata": {},
   "outputs": [],
   "source": [
    "def probar_calesita(calesita, n_ciclos):\n",
    "    # hacer la magia\n",
    "    \n",
    "    return calesita_girada"
   ]
  },
  {
   "cell_type": "code",
   "execution_count": null,
   "metadata": {},
   "outputs": [],
   "source": [
    "assert probar_calesita()== "
   ]
  },
  {
   "cell_type": "markdown",
   "metadata": {},
   "source": [
    "Cuando prueba la calesita se da cuenta que es muy lenta. Debe sacar uno de los animales para que pueda funcionar correctamente. Para eso los manda a pesar y le dicen cual es el que hay que sacar para que funcione perfectamente.\n",
    "\n",
    "Modificar la función anterior para que reciba un string, que es un animal en MAYÚSCULAS (animal_quitar) para sacar y pruebe la función nuevamente.\n",
    "\n",
    "Ej:\n",
    "```Python\n",
    "calesita = ['Unicornio','Oso','Jirafa', 'Pato'. 'Elefante']\n",
    "animal_quitar = 'JIRAFA'\n",
    "problar_calesita_arreglada(calesita, 1): ['Elefante', 'Unicornio', 'Oso', 'Pato']\n",
    "```"
   ]
  },
  {
   "cell_type": "code",
   "execution_count": null,
   "metadata": {},
   "outputs": [],
   "source": [
    "def probar_calesita_arreglada(calesita, n_ciclos, animal_quitar):\n",
    "    # repara la calesita!\n",
    "    \n",
    "    return calesita_girada_arreglada"
   ]
  },
  {
   "cell_type": "code",
   "execution_count": null,
   "metadata": {},
   "outputs": [],
   "source": [
    "assert probar_calesita_arreglada()== "
   ]
  }
 ],
 "metadata": {
  "kernelspec": {
   "display_name": "Python 3",
   "language": "python",
   "name": "python3"
  },
  "language_info": {
   "codemirror_mode": {
    "name": "ipython",
    "version": 3
   },
   "file_extension": ".py",
   "mimetype": "text/x-python",
   "name": "python",
   "nbconvert_exporter": "python",
   "pygments_lexer": "ipython3",
   "version": "3.8.3"
  }
 },
 "nbformat": 4,
 "nbformat_minor": 4
}
