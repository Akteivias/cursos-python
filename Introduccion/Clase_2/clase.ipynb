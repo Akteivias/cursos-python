{
 "cells": [
  {
   "cell_type": "markdown",
   "metadata": {
    "slideshow": {
     "slide_type": "slide"
    }
   },
   "source": [
    "## Clase II\n",
    "\n",
    "- [Control de flujo](#Control-de-flujo)\n",
    "- [Tuplas](#Tuplas)\n",
    "- [Errores](#Errores)\n",
    "- [List Comprehension](#List-Comprehension)\n",
    "- [Dict Comprehension](#Dict-Comprehension)\n",
    "- [Generadores](#Generadores)\n",
    "- [I/O](#I/0)\n",
    "- [Funciones](#Funciones)\n",
    "- [Lambda](#Lambda)"
   ]
  },
  {
   "cell_type": "markdown",
   "metadata": {
    "slideshow": {
     "slide_type": "slide"
    }
   },
   "source": [
    "### Pequeño Repaso"
   ]
  },
  {
   "cell_type": "code",
   "execution_count": 1,
   "metadata": {
    "slideshow": {
     "slide_type": "fragment"
    }
   },
   "outputs": [
    {
     "name": "stdout",
     "output_type": "stream",
     "text": [
      "El número 2 es par\n",
      "El número 4 es par\n",
      "El número 6 es par\n",
      "El número 8 es par\n"
     ]
    }
   ],
   "source": [
    "for i in range(1, 10):\n",
    "    if i % 2 == 0:\n",
    "        print(f\"El número {i} es par\")"
   ]
  },
  {
   "cell_type": "markdown",
   "metadata": {
    "slideshow": {
     "slide_type": "slide"
    }
   },
   "source": [
    "## Control de flujo\n",
    "\n",
    "Contamos con 3 _keywords_ que modifican el orden de ejecución **dentro de un bucle**\n",
    "\n",
    "- **continue**: interrumpe el flujo del bucle y retoma la ejecución en la siguiente iteración\n",
    "- **break**: termina el bucle\n",
    "- **pass**: no tiene efecto, se usa para evitar error cuando lo exige la sintáxis\n"
   ]
  },
  {
   "cell_type": "code",
   "execution_count": 2,
   "metadata": {
    "slideshow": {
     "slide_type": "subslide"
    }
   },
   "outputs": [
    {
     "name": "stdout",
     "output_type": "stream",
     "text": [
      "Procesando dato: 133\n",
      "133 corresponde a PEDRO PEREZ\n",
      "841 no se encuentra en la base, proseguimos...\n",
      "Procesando dato: 293\n",
      "293 corresponde a JOAQUÍN JOHANSEN\n",
      "Fin del proceso\n"
     ]
    }
   ],
   "source": [
    "base = {'133': 'Pedro Perez', \n",
    "        '293': 'Joaquín Johansen', \n",
    "        '841': 'Marcela Moira'}\n",
    "\n",
    "datos = ['133', 841, '293', 'END', 'Mati']\n",
    "base\n",
    "for d in datos:\n",
    "\n",
    "    if d == 'END':\n",
    "        print('Fin del proceso')\n",
    "        break\n",
    "        \n",
    "    elif d not in base:\n",
    "        print(f'{d} no se encuentra en la base, proseguimos...')\n",
    "        continue\n",
    "        \n",
    "    else:\n",
    "        pass\n",
    "    \n",
    "    print('Procesando dato:', d)\n",
    "    nombre = base[d]\n",
    "    nombre = nombre.upper()    \n",
    "    \n",
    "    print(f'{d} corresponde a {nombre}')"
   ]
  },
  {
   "cell_type": "markdown",
   "metadata": {
    "slideshow": {
     "slide_type": "slide"
    }
   },
   "source": [
    "## Tuplas "
   ]
  },
  {
   "cell_type": "markdown",
   "metadata": {
    "slideshow": {
     "slide_type": "subslide"
    }
   },
   "source": [
    "Una **tupla** es una secuencia **inmutable** de longitud fija. Las tuplas generalmente se utilizan para representar secuencias de elementos que tienen longitud fija."
   ]
  },
  {
   "cell_type": "code",
   "execution_count": 3,
   "metadata": {
    "slideshow": {
     "slide_type": "subslide"
    }
   },
   "outputs": [],
   "source": [
    "registro = ('Argentina', 112000, 'Bariloche')"
   ]
  },
  {
   "cell_type": "markdown",
   "metadata": {
    "slideshow": {
     "slide_type": "subslide"
    }
   },
   "source": [
    "Podemos acceder a un elemento por un índice como con una lista"
   ]
  },
  {
   "cell_type": "code",
   "execution_count": 4,
   "metadata": {
    "colab": {
     "base_uri": "https://localhost:8080/",
     "height": 34
    },
    "colab_type": "code",
    "executionInfo": {
     "elapsed": 588,
     "status": "ok",
     "timestamp": 1533996771390,
     "user": {
      "displayName": "Julián Ansaldo",
      "photoUrl": "//lh6.googleusercontent.com/-jtDAH592MC0/AAAAAAAAAAI/AAAAAAAAAAc/_b4XCQBRV3A/s50-c-k-no/photo.jpg",
      "userId": "114586102947653888214"
     },
     "user_tz": 180
    },
    "id": "ckk0oAhZGgJY",
    "outputId": "fe1c10d5-4084-4ff0-b7f8-28211fda61de",
    "slideshow": {
     "slide_type": "subslide"
    }
   },
   "outputs": [
    {
     "data": {
      "text/plain": [
       "'Argentina'"
      ]
     },
     "execution_count": 4,
     "metadata": {},
     "output_type": "execute_result"
    }
   ],
   "source": [
    "registro[0] "
   ]
  },
  {
   "cell_type": "markdown",
   "metadata": {
    "slideshow": {
     "slide_type": "slide"
    }
   },
   "source": [
    "#### Unpacking\n",
    "\n",
    "Con una tupla, o una lista podemos separar una secuencia en variables de la siguiente manera"
   ]
  },
  {
   "cell_type": "code",
   "execution_count": 5,
   "metadata": {
    "slideshow": {
     "slide_type": "subslide"
    }
   },
   "outputs": [
    {
     "name": "stdout",
     "output_type": "stream",
     "text": [
      "País: Argentina\n",
      "Población: 112000\n",
      "Ciudad: Bariloche\n"
     ]
    }
   ],
   "source": [
    "pais, poblacion, ciudad = registro\n",
    "\n",
    "print(\"País:\", pais)\n",
    "print(\"Población:\", poblacion)\n",
    "print(\"Ciudad:\", ciudad)"
   ]
  },
  {
   "cell_type": "code",
   "execution_count": 6,
   "metadata": {
    "colab": {},
    "colab_type": "code",
    "id": "ck5lAsi-JUsX",
    "slideshow": {
     "slide_type": "subslide"
    }
   },
   "outputs": [
    {
     "data": {
      "text/plain": [
       "('Brasil', 477000, 'Florianópolis')"
      ]
     },
     "execution_count": 6,
     "metadata": {},
     "output_type": "execute_result"
    }
   ],
   "source": [
    "registros = [registro, ('Brasil', 477000, 'Florianópolis')]\n",
    "registros[1]"
   ]
  },
  {
   "cell_type": "markdown",
   "metadata": {
    "slideshow": {
     "slide_type": "subslide"
    }
   },
   "source": [
    "Pero como las tuplas son **inmutables** no se pueden modificar"
   ]
  },
  {
   "cell_type": "code",
   "execution_count": 7,
   "metadata": {},
   "outputs": [
    {
     "data": {
      "text/plain": [
       "[4, 2, 3]"
      ]
     },
     "execution_count": 7,
     "metadata": {},
     "output_type": "execute_result"
    }
   ],
   "source": [
    "# Una lista sí se puede modificar\n",
    "lista = [1, 2, 3]\n",
    "\n",
    "lista[0] = 4\n",
    "\n",
    "lista"
   ]
  },
  {
   "cell_type": "code",
   "execution_count": 8,
   "metadata": {
    "colab": {
     "base_uri": "https://localhost:8080/",
     "height": 184
    },
    "colab_type": "code",
    "executionInfo": {
     "elapsed": 588,
     "status": "error",
     "timestamp": 1533996778382,
     "user": {
      "displayName": "Julián Ansaldo",
      "photoUrl": "//lh6.googleusercontent.com/-jtDAH592MC0/AAAAAAAAAAI/AAAAAAAAAAc/_b4XCQBRV3A/s50-c-k-no/photo.jpg",
      "userId": "114586102947653888214"
     },
     "user_tz": 180
    },
    "id": "jfOf0WAymLDQ",
    "outputId": "0613d744-ecf9-48d8-f891-673c31ea5eca",
    "slideshow": {
     "slide_type": "subslide"
    }
   },
   "outputs": [
    {
     "name": "stdout",
     "output_type": "stream",
     "text": [
      "('Argentina', 112000, 'Bariloche')\n"
     ]
    },
    {
     "ename": "TypeError",
     "evalue": "'tuple' object does not support item assignment",
     "output_type": "error",
     "traceback": [
      "\u001b[0;31m---------------------------------------------------------------------------\u001b[0m",
      "\u001b[0;31mTypeError\u001b[0m                                 Traceback (most recent call last)",
      "\u001b[0;32m<ipython-input-8-dbf63c5bf6eb>\u001b[0m in \u001b[0;36m<module>\u001b[0;34m()\u001b[0m\n\u001b[1;32m      1\u001b[0m \u001b[0;31m# En cambio una tupla no se puede modificar\u001b[0m\u001b[0;34m\u001b[0m\u001b[0;34m\u001b[0m\u001b[0m\n\u001b[1;32m      2\u001b[0m \u001b[0mprint\u001b[0m\u001b[0;34m(\u001b[0m\u001b[0mregistro\u001b[0m\u001b[0;34m)\u001b[0m\u001b[0;34m\u001b[0m\u001b[0m\n\u001b[0;32m----> 3\u001b[0;31m \u001b[0mregistro\u001b[0m\u001b[0;34m[\u001b[0m\u001b[0;36m0\u001b[0m\u001b[0;34m]\u001b[0m \u001b[0;34m=\u001b[0m \u001b[0;34m'Chile'\u001b[0m\u001b[0;34m\u001b[0m\u001b[0m\n\u001b[0m",
      "\u001b[0;31mTypeError\u001b[0m: 'tuple' object does not support item assignment"
     ]
    }
   ],
   "source": [
    "# En cambio una tupla no se puede modificar\n",
    "print(registro)\n",
    "registro[0] = 'Chile'"
   ]
  },
  {
   "cell_type": "code",
   "execution_count": 9,
   "metadata": {
    "slideshow": {
     "slide_type": "subslide"
    }
   },
   "outputs": [
    {
     "ename": "TypeError",
     "evalue": "'tuple' object doesn't support item deletion",
     "output_type": "error",
     "traceback": [
      "\u001b[0;31m---------------------------------------------------------------------------\u001b[0m",
      "\u001b[0;31mTypeError\u001b[0m                                 Traceback (most recent call last)",
      "\u001b[0;32m<ipython-input-9-de3b5b100261>\u001b[0m in \u001b[0;36m<module>\u001b[0;34m()\u001b[0m\n\u001b[1;32m      1\u001b[0m \u001b[0;31m# tampoco se puede borrar ninguno de sus elementos\u001b[0m\u001b[0;34m\u001b[0m\u001b[0;34m\u001b[0m\u001b[0m\n\u001b[0;32m----> 2\u001b[0;31m \u001b[0;32mdel\u001b[0m \u001b[0mregistro\u001b[0m\u001b[0;34m[\u001b[0m\u001b[0;36m0\u001b[0m\u001b[0;34m]\u001b[0m\u001b[0;34m\u001b[0m\u001b[0m\n\u001b[0m",
      "\u001b[0;31mTypeError\u001b[0m: 'tuple' object doesn't support item deletion"
     ]
    }
   ],
   "source": [
    "# tampoco se puede borrar ninguno de sus elementos\n",
    "del registro[0]"
   ]
  },
  {
   "cell_type": "markdown",
   "metadata": {
    "slideshow": {
     "slide_type": "slide"
    }
   },
   "source": [
    "## Errores\n",
    "\n",
    "En el ejemplo de arriba vimos una pantalla de error. El **traceback** o **stack trace** nos muestra el camino del error: veremos más adelante que cuando tenemos funciones anidadas, vemos aquí como el error se propaga. \n",
    "\n",
    "Las cosas a las que en principio les debemos prestar atención son:\n",
    "\n",
    "   1. El nombre del error, en este caso **TypeError**\n",
    "   2. La explicación dada en el último renglón: \"'tuple' object doesn't support item deletion\"\n",
    "   3. La flecha que nos indica la línea en la que ocurrió el error"
   ]
  },
  {
   "cell_type": "code",
   "execution_count": 10,
   "metadata": {
    "slideshow": {
     "slide_type": "subslide"
    }
   },
   "outputs": [
    {
     "ename": "NameError",
     "evalue": "name 'no_definido' is not defined",
     "output_type": "error",
     "traceback": [
      "\u001b[0;31m---------------------------------------------------------------------------\u001b[0m",
      "\u001b[0;31mNameError\u001b[0m                                 Traceback (most recent call last)",
      "\u001b[0;32m<ipython-input-10-7eac29aaea1e>\u001b[0m in \u001b[0;36m<module>\u001b[0;34m()\u001b[0m\n\u001b[0;32m----> 1\u001b[0;31m \u001b[0mprint\u001b[0m\u001b[0;34m(\u001b[0m\u001b[0mno_definido\u001b[0m\u001b[0;34m)\u001b[0m\u001b[0;34m\u001b[0m\u001b[0m\n\u001b[0m",
      "\u001b[0;31mNameError\u001b[0m: name 'no_definido' is not defined"
     ]
    }
   ],
   "source": [
    "print(no_definido)"
   ]
  },
  {
   "cell_type": "code",
   "execution_count": 11,
   "metadata": {},
   "outputs": [
    {
     "name": "stdout",
     "output_type": "stream",
     "text": [
      "{'133': 'Pedro Perez', '293': 'Joaquín Johansen', '841': 'Marcela Moira'}\n"
     ]
    }
   ],
   "source": [
    "print(base)"
   ]
  },
  {
   "cell_type": "code",
   "execution_count": 12,
   "metadata": {
    "slideshow": {
     "slide_type": "subslide"
    }
   },
   "outputs": [
    {
     "ename": "KeyError",
     "evalue": "'Gertrudis'",
     "output_type": "error",
     "traceback": [
      "\u001b[0;31m---------------------------------------------------------------------------\u001b[0m",
      "\u001b[0;31mKeyError\u001b[0m                                  Traceback (most recent call last)",
      "\u001b[0;32m<ipython-input-12-dfebdfd799e0>\u001b[0m in \u001b[0;36m<module>\u001b[0;34m()\u001b[0m\n\u001b[0;32m----> 1\u001b[0;31m \u001b[0mbase\u001b[0m\u001b[0;34m[\u001b[0m\u001b[0;34m'Gertrudis'\u001b[0m\u001b[0;34m]\u001b[0m\u001b[0;34m\u001b[0m\u001b[0m\n\u001b[0m",
      "\u001b[0;31mKeyError\u001b[0m: 'Gertrudis'"
     ]
    }
   ],
   "source": [
    "base['Gertrudis']"
   ]
  },
  {
   "cell_type": "markdown",
   "metadata": {},
   "source": [
    "Ejercicio \n",
    "1. ¿Qué está pasando en este código?"
   ]
  },
  {
   "cell_type": "code",
   "execution_count": 13,
   "metadata": {
    "slideshow": {
     "slide_type": "subslide"
    }
   },
   "outputs": [
    {
     "ename": "SyntaxError",
     "evalue": "invalid syntax (<ipython-input-13-c797e0e0635f>, line 1)",
     "output_type": "error",
     "traceback": [
      "\u001b[0;36m  File \u001b[0;32m\"<ipython-input-13-c797e0e0635f>\"\u001b[0;36m, line \u001b[0;32m1\u001b[0m\n\u001b[0;31m    if 10 > 5\u001b[0m\n\u001b[0m             ^\u001b[0m\n\u001b[0;31mSyntaxError\u001b[0m\u001b[0;31m:\u001b[0m invalid syntax\n"
     ]
    }
   ],
   "source": [
    "if 10 > 5\n",
    "    print('Qué está pasando?')"
   ]
  },
  {
   "cell_type": "markdown",
   "metadata": {},
   "source": [
    "2. ¿Y en este? Traten de arreglarlo "
   ]
  },
  {
   "cell_type": "code",
   "execution_count": 14,
   "metadata": {},
   "outputs": [
    {
     "ename": "TypeError",
     "evalue": "unsupported operand type(s) for +: 'int' and 'str'",
     "output_type": "error",
     "traceback": [
      "\u001b[0;31m---------------------------------------------------------------------------\u001b[0m",
      "\u001b[0;31mTypeError\u001b[0m                                 Traceback (most recent call last)",
      "\u001b[0;32m<ipython-input-14-715f0e881b0b>\u001b[0m in \u001b[0;36m<module>\u001b[0;34m()\u001b[0m\n\u001b[1;32m      1\u001b[0m \u001b[0ma\u001b[0m \u001b[0;34m=\u001b[0m \u001b[0;36m5\u001b[0m\u001b[0;34m\u001b[0m\u001b[0m\n\u001b[1;32m      2\u001b[0m \u001b[0mb\u001b[0m \u001b[0;34m=\u001b[0m \u001b[0;34m\"3\"\u001b[0m\u001b[0;34m\u001b[0m\u001b[0m\n\u001b[0;32m----> 3\u001b[0;31m \u001b[0ma\u001b[0m \u001b[0;34m+\u001b[0m \u001b[0mb\u001b[0m \u001b[0;34m==\u001b[0m \u001b[0;36m8\u001b[0m\u001b[0;34m\u001b[0m\u001b[0m\n\u001b[0m",
      "\u001b[0;31mTypeError\u001b[0m: unsupported operand type(s) for +: 'int' and 'str'"
     ]
    }
   ],
   "source": [
    "a = 5\n",
    "b = \"3\"\n",
    "a + b == 8"
   ]
  },
  {
   "cell_type": "markdown",
   "metadata": {},
   "source": [
    "3. ¿Y si tratamos de acceder a un elemento que no existe de una lista?"
   ]
  },
  {
   "cell_type": "markdown",
   "metadata": {
    "slideshow": {
     "slide_type": "subslide"
    }
   },
   "source": [
    "Para anticipar y manejar los errores, podemos usar la clausula **try** y **except**"
   ]
  },
  {
   "cell_type": "code",
   "execution_count": 15,
   "metadata": {
    "slideshow": {
     "slide_type": "subslide"
    }
   },
   "outputs": [
    {
     "name": "stdout",
     "output_type": "stream",
     "text": [
      "25\n"
     ]
    }
   ],
   "source": [
    "a = '20'\n",
    "b = 5\n",
    "\n",
    "try:\n",
    "    print(a+b)\n",
    "except:\n",
    "    print(int(a)+int(b))"
   ]
  },
  {
   "cell_type": "markdown",
   "metadata": {
    "slideshow": {
     "slide_type": "subslide"
    }
   },
   "source": [
    "Si queremos ver qué excepción ocurrió, podemos usar la siguiente sintáxis:"
   ]
  },
  {
   "cell_type": "code",
   "execution_count": 16,
   "metadata": {
    "slideshow": {
     "slide_type": "subslide"
    }
   },
   "outputs": [
    {
     "name": "stdout",
     "output_type": "stream",
     "text": [
      "list index out of range\n"
     ]
    }
   ],
   "source": [
    "lista = [1,2,3]\n",
    "\n",
    "try:\n",
    "    print(lista[4])\n",
    "except Exception as e:\n",
    "    print(e)"
   ]
  },
  {
   "cell_type": "markdown",
   "metadata": {
    "slideshow": {
     "slide_type": "subslide"
    }
   },
   "source": [
    "También podemos especificar qué hacer para distintos tipos de error:"
   ]
  },
  {
   "cell_type": "code",
   "execution_count": 17,
   "metadata": {
    "slideshow": {
     "slide_type": "subslide"
    }
   },
   "outputs": [
    {
     "name": "stdout",
     "output_type": "stream",
     "text": [
      "('3', 8)\n",
      "Wrong type\n",
      "(5, 0)\n",
      "Can't divide by zero\n",
      "(3,)\n",
      "Wrong length\n",
      "(4, 6)\n",
      "0.6666666666666666\n"
     ]
    }
   ],
   "source": [
    "lista_tuplas = [('3', 8), \n",
    "                (5, 0), \n",
    "                (3, ), \n",
    "                (4, 6)]\n",
    "\n",
    "for t in lista_tuplas:\n",
    "    try:\n",
    "        print(t)\n",
    "        print(t[0] / t[1])\n",
    "    except IndexError:\n",
    "        print('Wrong length')\n",
    "    except TypeError:\n",
    "        print('Wrong type')\n",
    "    except ZeroDivisionError:\n",
    "        print(\"Can't divide by zero\")"
   ]
  },
  {
   "cell_type": "markdown",
   "metadata": {
    "slideshow": {
     "slide_type": "slide"
    }
   },
   "source": [
    "# List Comprehension"
   ]
  },
  {
   "cell_type": "markdown",
   "metadata": {
    "slideshow": {
     "slide_type": "subslide"
    }
   },
   "source": [
    "Las **listas por comprensión** son una funcionalidad muy flexible de Python que permite crear listas de un modo más \"descriptivo\", basandose en la notación de definición de conjuntos."
   ]
  },
  {
   "cell_type": "code",
   "execution_count": 18,
   "metadata": {
    "slideshow": {
     "slide_type": "subslide"
    }
   },
   "outputs": [
    {
     "data": {
      "text/plain": [
       "[1, 4, 9, 16, 25]"
      ]
     },
     "execution_count": 18,
     "metadata": {},
     "output_type": "execute_result"
    }
   ],
   "source": [
    "# Como haríamos sin list comp.\n",
    "\n",
    "lista = [1,2,3,4,5]\n",
    "\n",
    "cuadrados = []\n",
    "\n",
    "for x in lista:\n",
    "    cuadrados.append(x**2)\n",
    "    \n",
    "cuadrados"
   ]
  },
  {
   "cell_type": "code",
   "execution_count": 19,
   "metadata": {
    "slideshow": {
     "slide_type": "subslide"
    }
   },
   "outputs": [],
   "source": [
    "# List comprehension\n",
    "\n",
    "cuadrados = [x**2 for x in lista]"
   ]
  },
  {
   "cell_type": "code",
   "execution_count": 20,
   "metadata": {
    "slideshow": {
     "slide_type": "subslide"
    }
   },
   "outputs": [
    {
     "name": "stdout",
     "output_type": "stream",
     "text": [
      "0\n",
      "16\n"
     ]
    }
   ],
   "source": [
    "# Observemos este caso\n",
    "\n",
    "x = 10\n",
    "print(x if x > 15 else 0)\n",
    "\n",
    "x = 16\n",
    "print(x if x > 15 else 0)"
   ]
  },
  {
   "cell_type": "markdown",
   "metadata": {
    "slideshow": {
     "slide_type": "subslide"
    }
   },
   "source": [
    "<center> Un conjunto S definido por todos los números X / 4 que pertenecen a los Naturales y cumplen que su cuadrado es mayor a 20\n",
    "\n",
    "$$S=\\{\\,\\frac{x}{4}\\mid x \\in \\mathbb{N},\\ x^2<60\\,\\}$$"
   ]
  },
  {
   "cell_type": "code",
   "execution_count": 21,
   "metadata": {
    "slideshow": {
     "slide_type": "fragment"
    }
   },
   "outputs": [
    {
     "data": {
      "text/plain": [
       "[0.0, 0.25, 0.5, 0.75, 1.0, 1.25, 1.5, 1.75]"
      ]
     },
     "execution_count": 21,
     "metadata": {},
     "output_type": "execute_result"
    }
   ],
   "source": [
    "S = []\n",
    "\n",
    "for x in range(1000):\n",
    "    if x ** 2 < 60:\n",
    "        S.append(x/4)\n",
    "S"
   ]
  },
  {
   "cell_type": "code",
   "execution_count": 22,
   "metadata": {
    "slideshow": {
     "slide_type": "fragment"
    }
   },
   "outputs": [
    {
     "data": {
      "text/plain": [
       "[0.0, 0.25, 0.5, 0.75, 1.0, 1.25, 1.5, 1.75]"
      ]
     },
     "execution_count": 22,
     "metadata": {},
     "output_type": "execute_result"
    }
   ],
   "source": [
    "S = [x/4 for x in range(1000) if x**2 < 60]\n",
    "S"
   ]
  },
  {
   "cell_type": "markdown",
   "metadata": {
    "slideshow": {
     "slide_type": "subslide"
    }
   },
   "source": [
    "La sintáxis para **filtrar** con condicionales es\n",
    "\n",
    "> [ (elemento) ( for x in (iterable) ) ( if condicion ) ]\n",
    "\n",
    "Donde \"elemento\" es lo que vayamos a guardar en la lista. Incluyendo un **else**:\n",
    "\n",
    "> [ (elemento) (if condicion else otro_elemento) ( for x in (iterable) ) ]\n",
    "\n",
    "Pueden hacerse loops anidados:\n",
    "\n",
    "> [i for i in range(x) for j in range(y)]"
   ]
  },
  {
   "cell_type": "code",
   "execution_count": 23,
   "metadata": {},
   "outputs": [
    {
     "name": "stdout",
     "output_type": "stream",
     "text": [
      "0 a\n",
      "0 b\n",
      "0 c\n",
      "1 a\n",
      "1 b\n",
      "1 c\n",
      "2 a\n",
      "2 b\n",
      "2 c\n"
     ]
    }
   ],
   "source": [
    "for x in range(3):\n",
    "    for y in 'abc':\n",
    "        print(x,y)"
   ]
  },
  {
   "cell_type": "code",
   "execution_count": 24,
   "metadata": {
    "slideshow": {
     "slide_type": "subslide"
    }
   },
   "outputs": [
    {
     "data": {
      "text/plain": [
       "[(0, 'a'),\n",
       " (0, 'b'),\n",
       " (0, 'c'),\n",
       " (1, 'a'),\n",
       " (1, 'b'),\n",
       " (1, 'c'),\n",
       " (2, 'a'),\n",
       " (2, 'b'),\n",
       " (2, 'c')]"
      ]
     },
     "execution_count": 24,
     "metadata": {},
     "output_type": "execute_result"
    }
   ],
   "source": [
    "[(x, y) for x in range(3) for y in 'abc']"
   ]
  },
  {
   "cell_type": "markdown",
   "metadata": {
    "slideshow": {
     "slide_type": "fragment"
    }
   },
   "source": [
    "O comprensiones anidadas:\n",
    "\n",
    "> [ [i for i in range(x) ] for j in range(y) ]"
   ]
  },
  {
   "cell_type": "code",
   "execution_count": 25,
   "metadata": {
    "slideshow": {
     "slide_type": "fragment"
    }
   },
   "outputs": [
    {
     "data": {
      "text/plain": [
       "[['', '', ''], ['a', 'b', 'c'], ['aa', 'bb', 'cc']]"
      ]
     },
     "execution_count": 25,
     "metadata": {},
     "output_type": "execute_result"
    }
   ],
   "source": [
    "[[l*n for l in 'abc'] for n in range(3)]"
   ]
  },
  {
   "cell_type": "markdown",
   "metadata": {
    "slideshow": {
     "slide_type": "fragment"
    }
   },
   "source": [
    "De modo similar,"
   ]
  },
  {
   "cell_type": "code",
   "execution_count": 26,
   "metadata": {
    "slideshow": {
     "slide_type": "subslide"
    }
   },
   "outputs": [
    {
     "data": {
      "text/plain": [
       "[('mantarraya', 10), ('pandas', 6), ('narval', 6), ('unicornio', 9)]"
      ]
     },
     "execution_count": 26,
     "metadata": {},
     "output_type": "execute_result"
    }
   ],
   "source": [
    "animales = ['mantarraya', 'pandas', 'narval', 'unicornio']\n",
    "\n",
    "[(a, len(a)) for a in animales]"
   ]
  },
  {
   "cell_type": "markdown",
   "metadata": {},
   "source": [
    "Ejercicio: Dado el siguiente grupo de palabras, crear otra lista que contenga sólo la primera letra de cada una"
   ]
  },
  {
   "cell_type": "code",
   "execution_count": 27,
   "metadata": {},
   "outputs": [],
   "source": [
    "lista = ['a','ante','bajo','cabe','con']"
   ]
  },
  {
   "cell_type": "markdown",
   "metadata": {},
   "source": [
    "Ejercicio: Dada la siguiente frase, crear una lista con el largo de cada palabra.\n",
    "Tip: Antes de aplicar listas por comprensión pueden usar la función split que vimos la clase pasada y la función replace para remover la puntuación."
   ]
  },
  {
   "cell_type": "code",
   "execution_count": 28,
   "metadata": {},
   "outputs": [],
   "source": [
    "frase = 'Cambiar el mundo, amigo Sancho, no es ni utopía ni locura, es justicia.'"
   ]
  },
  {
   "cell_type": "markdown",
   "metadata": {
    "slideshow": {
     "slide_type": "slide"
    }
   },
   "source": [
    "# I/O\n",
    "\n",
    "Ahora veremos como abrir archivos usando Python base. Para hacerlo usaremos la sentencia **with** para definir un **contexto** del siguiente modo:\n",
    "\n",
    "    with open('corpus.txt', 'r') as inp:\n",
    "        string_contenido = inp.read()\n",
    "        \n",
    "Lo que significa: con el archivo \"corpus.txt\" abierto en **modo** lectura (\"r\" de read) con el **alias** _inp_, definimos la variable contenido usando el método **.read()** para leer el archivo. Algunas aclaraciones:\n",
    "\n",
    "- El método .read() es propio del objeto de input, que **en esta ocasión** llamamos _inp_. Otro método útil es **.readlines()** que nos permite iterar por renglones.\n",
    "- La ruta al archivo puede ser **relativa** como en este caso, donde el archivo se encontraría en la misma carpeta que la notebook. También se puede dar el path completo, como podría ser \"C:/Usuarios/Matías/Documentos/corpus.txt\""
   ]
  },
  {
   "cell_type": "markdown",
   "metadata": {
    "slideshow": {
     "slide_type": "subslide"
    }
   },
   "source": [
    "Existen varios modos de abrir un archivo, incluyendo:\n",
    "\n",
    "    - r: read, lectura\n",
    "    - w: write, escritura\n",
    "    - a: append, agregar al final del archivo\n",
    "   \n",
    "Por ejemplo, para escribir en un archivo, haríamos:\n",
    "\n",
    "    with open(outpath, 'w') as f:\n",
    "        f.write(string)"
   ]
  },
  {
   "cell_type": "code",
   "execution_count": 29,
   "metadata": {
    "slideshow": {
     "slide_type": "fragment"
    }
   },
   "outputs": [],
   "source": [
    "with open('nuevo.txt', 'w') as f:\n",
    "    f.write('ejemplo de escritura')"
   ]
  },
  {
   "cell_type": "code",
   "execution_count": 30,
   "metadata": {
    "slideshow": {
     "slide_type": "fragment"
    }
   },
   "outputs": [
    {
     "name": "stdout",
     "output_type": "stream",
     "text": [
      "ejemplo de escritura\n"
     ]
    }
   ],
   "source": [
    "with open('nuevo.txt', 'r') as f:\n",
    "    contenido = f.read()\n",
    "\n",
    "print(contenido)"
   ]
  },
  {
   "cell_type": "code",
   "execution_count": 31,
   "metadata": {},
   "outputs": [
    {
     "name": "stdout",
     "output_type": "stream",
     "text": [
      "Ingrese un numero\n",
      "No anduvo, intente de nuevo\n",
      "Ingrese un numero\n",
      "No anduvo, intente de nuevo\n",
      "Ingrese un numero\n",
      "No anduvo, intente de nuevo\n",
      "Ingrese un numero2\n",
      "Su numero fue 2! :D\n"
     ]
    }
   ],
   "source": [
    "while True:\n",
    "    usuario_dijo = input('Ingrese un numero')\n",
    "\n",
    "    try:\n",
    "        num = int(usuario_dijo)\n",
    "        break\n",
    "    except:\n",
    "        print('No anduvo, intente de nuevo')\n",
    "\n",
    "print(f'Su numero fue {num}! :D')"
   ]
  },
  {
   "cell_type": "markdown",
   "metadata": {
    "slideshow": {
     "slide_type": "slide"
    }
   },
   "source": [
    "# Funciones\n",
    "\n",
    "Las funciones nos permiten estandarizar y reutilizar un proceso en múltiples ocasiones.\n",
    "\n",
    "Como patrón de diseño, las funciones tienen que ser lo más atómicas posibles, es decir, resolver un problema lo más pequeño posible y bien definido. Esto forma parte del paradigma de \"divide and conquer\" que busca reducir un sólo problema complejo a varios problemas más sencillos.\n",
    "\n",
    "Los nombres también son importantes, el nombre de la función tiene que reflejar lo mejor posible lo que hace. \n",
    "\n",
    "\n",
    "Las funciones se definen de la siguiente manera:\n",
    "\n",
    "    def nombre_de_funcion(argumentos):\n",
    "        \"\"\"docstring opcional\"\"\"\n",
    "        resultado = procedimiento(argumentos)\n",
    "        return resultado"
   ]
  },
  {
   "cell_type": "code",
   "execution_count": 32,
   "metadata": {
    "slideshow": {
     "slide_type": "fragment"
    }
   },
   "outputs": [],
   "source": [
    "def promedio(lista):\n",
    "    return sum(lista) / len(lista)"
   ]
  },
  {
   "cell_type": "code",
   "execution_count": 33,
   "metadata": {
    "slideshow": {
     "slide_type": "fragment"
    }
   },
   "outputs": [
    {
     "name": "stdout",
     "output_type": "stream",
     "text": [
      "1.5\n"
     ]
    }
   ],
   "source": [
    "resultado = promedio([0,1,2,3])\n",
    "print(resultado)"
   ]
  },
  {
   "cell_type": "code",
   "execution_count": 34,
   "metadata": {},
   "outputs": [],
   "source": [
    "def suma(a,b):\n",
    "    \"\"\"Esta función recibe dos numeros y devuelve la suma\"\"\"\n",
    "    return a+b"
   ]
  },
  {
   "cell_type": "code",
   "execution_count": 35,
   "metadata": {},
   "outputs": [
    {
     "name": "stdout",
     "output_type": "stream",
     "text": [
      "8\n"
     ]
    }
   ],
   "source": [
    "r = suma(3,5)\n",
    "print(r)"
   ]
  },
  {
   "cell_type": "code",
   "execution_count": 36,
   "metadata": {},
   "outputs": [],
   "source": [
    "def rango(lista):\n",
    "    return max(lista) - min(lista)"
   ]
  },
  {
   "cell_type": "code",
   "execution_count": 37,
   "metadata": {},
   "outputs": [
    {
     "data": {
      "text/plain": [
       "113"
      ]
     },
     "execution_count": 37,
     "metadata": {},
     "output_type": "execute_result"
    }
   ],
   "source": [
    "lista = [89, -24, 9, 2]\n",
    "rango(lista)"
   ]
  },
  {
   "cell_type": "markdown",
   "metadata": {},
   "source": [
    "Ejercicio: escribir una función que reciba una lista y devuelva la suma de todos los pares"
   ]
  },
  {
   "cell_type": "markdown",
   "metadata": {},
   "source": []
  },
  {
   "cell_type": "markdown",
   "metadata": {},
   "source": [
    "En las funciones existen argumentos se pueden pasar por posición o por su nombre. Algunos de los argumentos tienen un valor por default."
   ]
  },
  {
   "cell_type": "code",
   "execution_count": 38,
   "metadata": {
    "slideshow": {
     "slide_type": "fragment"
    }
   },
   "outputs": [],
   "source": [
    "def unir_lista(lista, conector=' '):\n",
    "    \"\"\"Esta funcion recibe dos argumentos, una lista y un conector\n",
    "    y devuelve la lista unida usando el conector.\"\"\"\n",
    "    \n",
    "    unida = conector.join([str(e) for e in lista])\n",
    "    \n",
    "    return unida"
   ]
  },
  {
   "cell_type": "code",
   "execution_count": 39,
   "metadata": {},
   "outputs": [
    {
     "data": {
      "text/plain": [
       "'unir 3 cosas'"
      ]
     },
     "execution_count": 39,
     "metadata": {},
     "output_type": "execute_result"
    }
   ],
   "source": [
    "unir_lista(['unir',3,'cosas'])"
   ]
  },
  {
   "cell_type": "code",
   "execution_count": 40,
   "metadata": {
    "slideshow": {
     "slide_type": "fragment"
    }
   },
   "outputs": [
    {
     "data": {
      "text/plain": [
       "'probando,unir,lista,123'"
      ]
     },
     "execution_count": 40,
     "metadata": {},
     "output_type": "execute_result"
    }
   ],
   "source": [
    "unir_lista(['probando', 'unir', 'lista', 123], conector = ',')"
   ]
  },
  {
   "cell_type": "markdown",
   "metadata": {},
   "source": [
    "Lo que no podemos hacer es pasar el argumento nombrado antes de el o los posicionales"
   ]
  },
  {
   "cell_type": "code",
   "execution_count": 41,
   "metadata": {},
   "outputs": [
    {
     "ename": "SyntaxError",
     "evalue": "positional argument follows keyword argument (<ipython-input-41-81791f827422>, line 1)",
     "output_type": "error",
     "traceback": [
      "\u001b[0;36m  File \u001b[0;32m\"<ipython-input-41-81791f827422>\"\u001b[0;36m, line \u001b[0;32m1\u001b[0m\n\u001b[0;31m    unir_lista(conector = ',',['probando', 'unir', 'lista', 123])\u001b[0m\n\u001b[0m                             ^\u001b[0m\n\u001b[0;31mSyntaxError\u001b[0m\u001b[0;31m:\u001b[0m positional argument follows keyword argument\n"
     ]
    }
   ],
   "source": [
    "unir_lista(conector = ',',['probando', 'unir', 'lista', 123])"
   ]
  },
  {
   "cell_type": "markdown",
   "metadata": {},
   "source": [
    "Cuando uso los argumentos por su nombre, puedo pasarlos en cualquier orden"
   ]
  },
  {
   "cell_type": "code",
   "execution_count": 42,
   "metadata": {},
   "outputs": [
    {
     "data": {
      "text/plain": [
       "'probando,unir,lista,123'"
      ]
     },
     "execution_count": 42,
     "metadata": {},
     "output_type": "execute_result"
    }
   ],
   "source": [
    "unir_lista(conector = ',',lista = ['probando', 'unir', 'lista', 123])"
   ]
  },
  {
   "cell_type": "markdown",
   "metadata": {
    "slideshow": {
     "slide_type": "subslide"
    }
   },
   "source": [
    "Existen distintos tipos de argumentos, principalmente los llamados \"args\" y \"kwargs\", o argumentos y \"keyword arguments\" es decir argumentos nombrados. "
   ]
  },
  {
   "cell_type": "markdown",
   "metadata": {
    "slideshow": {
     "slide_type": "subslide"
    }
   },
   "source": [
    "También podemos tener un numero variable de argumentos, usando el symbolo *, por conveción al parámetro se le llama 'args'"
   ]
  },
  {
   "cell_type": "markdown",
   "metadata": {},
   "source": [
    "Internamente, los elementos de *args se tratan como una tupla"
   ]
  },
  {
   "cell_type": "code",
   "execution_count": 43,
   "metadata": {},
   "outputs": [
    {
     "name": "stdout",
     "output_type": "stream",
     "text": [
      "<class 'tuple'>\n"
     ]
    },
    {
     "data": {
      "text/plain": [
       "16"
      ]
     },
     "execution_count": 43,
     "metadata": {},
     "output_type": "execute_result"
    }
   ],
   "source": [
    "def suma_todos(*args):\n",
    "    print(type(args))\n",
    "    return sum(args)\n",
    "\n",
    "suma_todos(9,1,4,2)"
   ]
  },
  {
   "cell_type": "markdown",
   "metadata": {},
   "source": [
    "En cambio los elementos de **kwargs se tratan como un diccionario"
   ]
  },
  {
   "cell_type": "code",
   "execution_count": 44,
   "metadata": {},
   "outputs": [],
   "source": [
    "def consulta(**kwargs):\n",
    "    print(type(kwargs))\n",
    "    print(f\"Su consulta es {kwargs['fecha']} a las {kwargs['hora']}\")"
   ]
  },
  {
   "cell_type": "code",
   "execution_count": 45,
   "metadata": {
    "slideshow": {
     "slide_type": "fragment"
    }
   },
   "outputs": [
    {
     "name": "stdout",
     "output_type": "stream",
     "text": [
      "<class 'dict'>\n",
      "Su consulta es hoy a las 4PM\n"
     ]
    }
   ],
   "source": [
    "consulta(fecha='hoy',hora='4PM')"
   ]
  },
  {
   "cell_type": "code",
   "execution_count": null,
   "metadata": {},
   "outputs": [],
   "source": []
  }
 ],
 "metadata": {
  "kernelspec": {
   "display_name": "conda_python3",
   "language": "python",
   "name": "conda_python3"
  },
  "language_info": {
   "codemirror_mode": {
    "name": "ipython",
    "version": 3
   },
   "file_extension": ".py",
   "mimetype": "text/x-python",
   "name": "python",
   "nbconvert_exporter": "python",
   "pygments_lexer": "ipython3",
   "version": "3.6.5"
  }
 },
 "nbformat": 4,
 "nbformat_minor": 4
}
