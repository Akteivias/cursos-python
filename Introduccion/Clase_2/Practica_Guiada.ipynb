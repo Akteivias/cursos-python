{
 "cells": [
  {
   "cell_type": "markdown",
   "metadata": {
    "slideshow": {
     "slide_type": "slide"
    }
   },
   "source": [
    "## Clase II\n",
    "\n",
    "- [Control de flujo](#Control-de-flujo)\n",
    "- [Tuplas](#Tuplas)\n",
    "- [Errores](#Errores)\n",
    "- [List Comprehension](#List-Comprehension)\n",
    "- [Dict Comprehension](#Dict-Comprehension)\n",
    "- [Generadores](#Generadores)\n",
    "- [I/O](#I/0)\n",
    "- [Funciones](#Funciones)\n",
    "- [Lambda](#Lambda)"
   ]
  },
  {
   "cell_type": "markdown",
   "metadata": {
    "slideshow": {
     "slide_type": "slide"
    }
   },
   "source": [
    "### Pequeño Repaso"
   ]
  },
  {
   "cell_type": "code",
   "execution_count": 1,
   "metadata": {
    "slideshow": {
     "slide_type": "fragment"
    }
   },
   "outputs": [
    {
     "name": "stdout",
     "output_type": "stream",
     "text": [
      "El número 2 es par\n",
      "El número 4 es par\n",
      "El número 6 es par\n",
      "El número 8 es par\n"
     ]
    }
   ],
   "source": [
    "for i in range(1, 10):\n",
    "    if i % 2 == 0:\n",
    "        print(f\"El número {i} es par\")"
   ]
  },
  {
   "cell_type": "markdown",
   "metadata": {
    "slideshow": {
     "slide_type": "fragment"
    }
   },
   "source": [
    "### Soluciones de clase pasada"
   ]
  },
  {
   "cell_type": "markdown",
   "metadata": {
    "slideshow": {
     "slide_type": "slide"
    }
   },
   "source": [
    "## Control de flujo\n",
    "\n",
    "Contamos con 3 _keywords_ que modifican el orden de ejecución **dentro de un bucle**\n",
    "\n",
    "- **continue**: interrumpe el flujo del bucle y retoma la ejecución en la siguiente iteración\n",
    "- **break**: termina el bucle\n",
    "- **pass**: no tiene efecto, se usa para evitar error cuando lo exige la sintáxis\n"
   ]
  },
  {
   "cell_type": "code",
   "execution_count": 4,
   "metadata": {
    "slideshow": {
     "slide_type": "subslide"
    }
   },
   "outputs": [
    {
     "name": "stdout",
     "output_type": "stream",
     "text": [
      "Procesando dato: 133\n",
      "133 corresponde a PEDRO PEREZ\n",
      "841 no se encuentra en la base, proseguimos...\n",
      "Procesando dato: 293\n",
      "293 corresponde a JOAQUÍN JOHANSEN\n",
      "Fin del proceso\n"
     ]
    }
   ],
   "source": [
    "base = {'133': 'Pedro Perez', \n",
    "        '293': 'Joaquín Johansen', \n",
    "        '841': 'Marcela Moira'}\n",
    "\n",
    "datos = ['133', 841, '293', 'END', 'Mati']\n",
    "base\n",
    "for d in datos:\n",
    "\n",
    "    if d == 'END':\n",
    "        print('Fin del proceso')\n",
    "        break\n",
    "        \n",
    "    elif d not in base:\n",
    "        print(f'{d} no se encuentra en la base, proseguimos...')\n",
    "        continue\n",
    "        \n",
    "    else:\n",
    "        pass\n",
    "    \n",
    "    print('Procesando dato:', d)\n",
    "    nombre = base[d]\n",
    "    nombre = nombre.upper()    \n",
    "    \n",
    "    print(f'{d} corresponde a {nombre}')"
   ]
  },
  {
   "cell_type": "markdown",
   "metadata": {
    "slideshow": {
     "slide_type": "slide"
    }
   },
   "source": [
    "## Tuplas "
   ]
  },
  {
   "cell_type": "markdown",
   "metadata": {
    "slideshow": {
     "slide_type": "subslide"
    }
   },
   "source": [
    "Una **tupla** es una secuencia **inmutable** de longitud fija"
   ]
  },
  {
   "cell_type": "code",
   "execution_count": 6,
   "metadata": {
    "slideshow": {
     "slide_type": "subslide"
    }
   },
   "outputs": [],
   "source": [
    "arg = ('Argentina', 10000, 'Bariloche')"
   ]
  },
  {
   "cell_type": "markdown",
   "metadata": {
    "slideshow": {
     "slide_type": "subslide"
    }
   },
   "source": [
    "Podemos acceder a un elemento por un índice como con una lista"
   ]
  },
  {
   "cell_type": "code",
   "execution_count": 7,
   "metadata": {
    "colab": {
     "base_uri": "https://localhost:8080/",
     "height": 34
    },
    "colab_type": "code",
    "executionInfo": {
     "elapsed": 588,
     "status": "ok",
     "timestamp": 1533996771390,
     "user": {
      "displayName": "Julián Ansaldo",
      "photoUrl": "//lh6.googleusercontent.com/-jtDAH592MC0/AAAAAAAAAAI/AAAAAAAAAAc/_b4XCQBRV3A/s50-c-k-no/photo.jpg",
      "userId": "114586102947653888214"
     },
     "user_tz": 180
    },
    "id": "ckk0oAhZGgJY",
    "outputId": "fe1c10d5-4084-4ff0-b7f8-28211fda61de",
    "slideshow": {
     "slide_type": "subslide"
    }
   },
   "outputs": [
    {
     "data": {
      "text/plain": [
       "'Argentina'"
      ]
     },
     "execution_count": 7,
     "metadata": {},
     "output_type": "execute_result"
    }
   ],
   "source": [
    "arg[0] "
   ]
  },
  {
   "cell_type": "markdown",
   "metadata": {
    "slideshow": {
     "slide_type": "slide"
    }
   },
   "source": [
    "#### Unpacking\n",
    "\n",
    "Con una tupla, o una lista podemos separar una secuencia en variables de la siguiente manera"
   ]
  },
  {
   "cell_type": "code",
   "execution_count": 10,
   "metadata": {},
   "outputs": [
    {
     "name": "stdout",
     "output_type": "stream",
     "text": [
      "1 3\n"
     ]
    }
   ],
   "source": [
    "punto = (1,3)\n",
    "\n",
    "x, y = punto\n",
    "\n",
    "print(x, y)"
   ]
  },
  {
   "cell_type": "code",
   "execution_count": 11,
   "metadata": {
    "slideshow": {
     "slide_type": "subslide"
    }
   },
   "outputs": [
    {
     "name": "stdout",
     "output_type": "stream",
     "text": [
      "Nombre: Argentina\n",
      "Apellido: 10000\n",
      "Lugar: Bariloche\n"
     ]
    }
   ],
   "source": [
    "nombre, valor, lugar = arg\n",
    "\n",
    "print(\"Nombre:\", nombre)\n",
    "print(\"Apellido:\", valor)\n",
    "print(\"Lugar:\", lugar)"
   ]
  },
  {
   "cell_type": "code",
   "execution_count": 13,
   "metadata": {
    "colab": {},
    "colab_type": "code",
    "id": "ck5lAsi-JUsX",
    "slideshow": {
     "slide_type": "subslide"
    }
   },
   "outputs": [
    {
     "data": {
      "text/plain": [
       "('Brasil', 9999, 'Florianópolis')"
      ]
     },
     "execution_count": 13,
     "metadata": {},
     "output_type": "execute_result"
    }
   ],
   "source": [
    "paises = [arg, ('Brasil', 9999, 'Florianópolis')]\n",
    "paises[1]"
   ]
  },
  {
   "cell_type": "markdown",
   "metadata": {
    "slideshow": {
     "slide_type": "subslide"
    }
   },
   "source": [
    "Pero como son **inmutables** no se pueden modificar"
   ]
  },
  {
   "cell_type": "code",
   "execution_count": 16,
   "metadata": {},
   "outputs": [
    {
     "data": {
      "text/plain": [
       "[4, 2, 3]"
      ]
     },
     "execution_count": 16,
     "metadata": {},
     "output_type": "execute_result"
    }
   ],
   "source": [
    "lista = [1,2,3]\n",
    "\n",
    "lista[0] = 4\n",
    "\n",
    "lista"
   ]
  },
  {
   "cell_type": "code",
   "execution_count": 15,
   "metadata": {
    "colab": {
     "base_uri": "https://localhost:8080/",
     "height": 184
    },
    "colab_type": "code",
    "executionInfo": {
     "elapsed": 588,
     "status": "error",
     "timestamp": 1533996778382,
     "user": {
      "displayName": "Julián Ansaldo",
      "photoUrl": "//lh6.googleusercontent.com/-jtDAH592MC0/AAAAAAAAAAI/AAAAAAAAAAc/_b4XCQBRV3A/s50-c-k-no/photo.jpg",
      "userId": "114586102947653888214"
     },
     "user_tz": 180
    },
    "id": "jfOf0WAymLDQ",
    "outputId": "0613d744-ecf9-48d8-f891-673c31ea5eca",
    "slideshow": {
     "slide_type": "subslide"
    }
   },
   "outputs": [
    {
     "ename": "TypeError",
     "evalue": "'tuple' object does not support item assignment",
     "output_type": "error",
     "traceback": [
      "\u001b[0;31m---------------------------------------------------------------------------\u001b[0m",
      "\u001b[0;31mTypeError\u001b[0m                                 Traceback (most recent call last)",
      "\u001b[0;32m<ipython-input-15-552ac97a734f>\u001b[0m in \u001b[0;36m<module>\u001b[0;34m\u001b[0m\n\u001b[0;32m----> 1\u001b[0;31m \u001b[0marg\u001b[0m\u001b[0;34m[\u001b[0m\u001b[0;36m0\u001b[0m\u001b[0;34m]\u001b[0m \u001b[0;34m=\u001b[0m \u001b[0;34m'Chile'\u001b[0m\u001b[0;34m\u001b[0m\u001b[0;34m\u001b[0m\u001b[0m\n\u001b[0m",
      "\u001b[0;31mTypeError\u001b[0m: 'tuple' object does not support item assignment"
     ]
    }
   ],
   "source": [
    "arg[0] = 'Chile'"
   ]
  },
  {
   "cell_type": "code",
   "execution_count": 39,
   "metadata": {
    "slideshow": {
     "slide_type": "subslide"
    }
   },
   "outputs": [
    {
     "ename": "TypeError",
     "evalue": "'tuple' object doesn't support item deletion",
     "output_type": "error",
     "traceback": [
      "\u001b[0;31m---------------------------------------------------------------------------\u001b[0m",
      "\u001b[0;31mTypeError\u001b[0m                                 Traceback (most recent call last)",
      "\u001b[0;32m<ipython-input-39-c4ea5ca2044f>\u001b[0m in \u001b[0;36m<module>\u001b[0;34m\u001b[0m\n\u001b[0;32m----> 1\u001b[0;31m \u001b[0;32mdel\u001b[0m \u001b[0marg\u001b[0m\u001b[0;34m[\u001b[0m\u001b[0;36m0\u001b[0m\u001b[0;34m]\u001b[0m\u001b[0;34m\u001b[0m\u001b[0;34m\u001b[0m\u001b[0m\n\u001b[0m",
      "\u001b[0;31mTypeError\u001b[0m: 'tuple' object doesn't support item deletion"
     ]
    }
   ],
   "source": [
    "del arg[0]"
   ]
  },
  {
   "cell_type": "markdown",
   "metadata": {
    "slideshow": {
     "slide_type": "slide"
    }
   },
   "source": [
    "## Errores\n",
    "\n",
    "En el ejemplo de arriba vimos una pantalla de error. El **traceback** o **stack trace** nos muestra el camino del error: veremos más adelante que cuando tenemos funciones anidadas, vemos aquí como el error se propaga. \n",
    "\n",
    "Las cosas a las que en principio les debemos prestar atención son:\n",
    "\n",
    "   1. El nombre del error, en este caso **TypeError**\n",
    "   2. La explicación dada en el último renglón: \"'tuple' object doesn't support item deletion\"\n",
    "   3. La flecha que nos indica la línea en la que ocurrió el error"
   ]
  },
  {
   "cell_type": "code",
   "execution_count": 17,
   "metadata": {
    "slideshow": {
     "slide_type": "subslide"
    }
   },
   "outputs": [
    {
     "ename": "NameError",
     "evalue": "name 'no_definido' is not defined",
     "output_type": "error",
     "traceback": [
      "\u001b[0;31m---------------------------------------------------------------------------\u001b[0m",
      "\u001b[0;31mNameError\u001b[0m                                 Traceback (most recent call last)",
      "\u001b[0;32m<ipython-input-17-7eac29aaea1e>\u001b[0m in \u001b[0;36m<module>\u001b[0;34m\u001b[0m\n\u001b[0;32m----> 1\u001b[0;31m \u001b[0mprint\u001b[0m\u001b[0;34m(\u001b[0m\u001b[0mno_definido\u001b[0m\u001b[0;34m)\u001b[0m\u001b[0;34m\u001b[0m\u001b[0;34m\u001b[0m\u001b[0m\n\u001b[0m",
      "\u001b[0;31mNameError\u001b[0m: name 'no_definido' is not defined"
     ]
    }
   ],
   "source": [
    "print(no_definido)"
   ]
  },
  {
   "cell_type": "code",
   "execution_count": 18,
   "metadata": {
    "slideshow": {
     "slide_type": "subslide"
    }
   },
   "outputs": [
    {
     "ename": "KeyError",
     "evalue": "'Gertrudis'",
     "output_type": "error",
     "traceback": [
      "\u001b[0;31m---------------------------------------------------------------------------\u001b[0m",
      "\u001b[0;31mKeyError\u001b[0m                                  Traceback (most recent call last)",
      "\u001b[0;32m<ipython-input-18-dfebdfd799e0>\u001b[0m in \u001b[0;36m<module>\u001b[0;34m\u001b[0m\n\u001b[0;32m----> 1\u001b[0;31m \u001b[0mbase\u001b[0m\u001b[0;34m[\u001b[0m\u001b[0;34m'Gertrudis'\u001b[0m\u001b[0;34m]\u001b[0m\u001b[0;34m\u001b[0m\u001b[0;34m\u001b[0m\u001b[0m\n\u001b[0m",
      "\u001b[0;31mKeyError\u001b[0m: 'Gertrudis'"
     ]
    }
   ],
   "source": [
    "base['Gertrudis']"
   ]
  },
  {
   "cell_type": "code",
   "execution_count": 19,
   "metadata": {
    "slideshow": {
     "slide_type": "subslide"
    }
   },
   "outputs": [
    {
     "ename": "SyntaxError",
     "evalue": "invalid syntax (<ipython-input-19-49a6e78157c2>, line 1)",
     "output_type": "error",
     "traceback": [
      "\u001b[0;36m  File \u001b[0;32m\"<ipython-input-19-49a6e78157c2>\"\u001b[0;36m, line \u001b[0;32m1\u001b[0m\n\u001b[0;31m    if 10 > 5\u001b[0m\n\u001b[0m             ^\u001b[0m\n\u001b[0;31mSyntaxError\u001b[0m\u001b[0;31m:\u001b[0m invalid syntax\n"
     ]
    }
   ],
   "source": [
    "if 10 > 5\n",
    "    print('Faltan los dos puntos!')"
   ]
  },
  {
   "cell_type": "markdown",
   "metadata": {
    "slideshow": {
     "slide_type": "subslide"
    }
   },
   "source": [
    "Para anticipar y manejar los errores, podemos usar la clausula **try** y **except**"
   ]
  },
  {
   "cell_type": "code",
   "execution_count": 20,
   "metadata": {
    "slideshow": {
     "slide_type": "subslide"
    }
   },
   "outputs": [
    {
     "name": "stdout",
     "output_type": "stream",
     "text": [
      "25\n"
     ]
    }
   ],
   "source": [
    "a = '20'\n",
    "b = 5\n",
    "\n",
    "try:\n",
    "    print(a+b)\n",
    "except:\n",
    "    print(int(a)+int(b))"
   ]
  },
  {
   "cell_type": "markdown",
   "metadata": {
    "slideshow": {
     "slide_type": "subslide"
    }
   },
   "source": [
    "Si queremos ver qué excepción ocurrió, podemos usar la siguiente sintáxis:"
   ]
  },
  {
   "cell_type": "code",
   "execution_count": 23,
   "metadata": {
    "slideshow": {
     "slide_type": "subslide"
    }
   },
   "outputs": [
    {
     "name": "stdout",
     "output_type": "stream",
     "text": [
      "list index out of range\n"
     ]
    }
   ],
   "source": [
    "lista = [1,2,3]\n",
    "\n",
    "try:\n",
    "    print(lista[4])\n",
    "except Exception as e:\n",
    "    print(e)"
   ]
  },
  {
   "cell_type": "markdown",
   "metadata": {
    "slideshow": {
     "slide_type": "subslide"
    }
   },
   "source": [
    "También podemos especificar qué hacer para distintos tipos de error:"
   ]
  },
  {
   "cell_type": "code",
   "execution_count": 26,
   "metadata": {
    "slideshow": {
     "slide_type": "subslide"
    }
   },
   "outputs": [
    {
     "name": "stdout",
     "output_type": "stream",
     "text": [
      "Wrong type\n",
      "Can't divide by zero\n",
      "Wrong length\n",
      "0.6666666666666666\n"
     ]
    }
   ],
   "source": [
    "lista_tuplas = [('3', 8), \n",
    "                (5, 0), \n",
    "                (3, ), \n",
    "                (4, 6)]\n",
    "\n",
    "for t in lista_tuplas:\n",
    "    try:\n",
    "        print(t[0] / t[1])\n",
    "    except IndexError:\n",
    "        print('Wrong length')\n",
    "    except TypeError:\n",
    "        print('Wrong type')\n",
    "    except ZeroDivisionError:\n",
    "        print('Can\\'t divide by zero')"
   ]
  },
  {
   "cell_type": "markdown",
   "metadata": {
    "slideshow": {
     "slide_type": "slide"
    }
   },
   "source": [
    "# List Comprehension"
   ]
  },
  {
   "cell_type": "markdown",
   "metadata": {
    "slideshow": {
     "slide_type": "subslide"
    }
   },
   "source": [
    "Las **listas por comprensión** son una funcionalidad muy flexible de Python que permite crear listas de un modo más \"descriptivo\", basandose en la notación de definición de conjuntos."
   ]
  },
  {
   "cell_type": "code",
   "execution_count": 40,
   "metadata": {
    "slideshow": {
     "slide_type": "subslide"
    }
   },
   "outputs": [
    {
     "data": {
      "text/plain": [
       "[1, 4, 9, 16, 25]"
      ]
     },
     "execution_count": 40,
     "metadata": {},
     "output_type": "execute_result"
    }
   ],
   "source": [
    "# Como haríamos sin list comp.\n",
    "\n",
    "lista = [1,2,3,4,5]\n",
    "\n",
    "cuadrados = []\n",
    "\n",
    "for x in lista:\n",
    "    cuadrados.append(x**2)\n",
    "    \n",
    "cuadrados"
   ]
  },
  {
   "cell_type": "code",
   "execution_count": 43,
   "metadata": {
    "slideshow": {
     "slide_type": "subslide"
    }
   },
   "outputs": [],
   "source": [
    "# List comprehension\n",
    "\n",
    "cuadrados = [x**2 for x in lista]"
   ]
  },
  {
   "cell_type": "code",
   "execution_count": 47,
   "metadata": {
    "slideshow": {
     "slide_type": "subslide"
    }
   },
   "outputs": [
    {
     "name": "stdout",
     "output_type": "stream",
     "text": [
      "0\n",
      "16\n"
     ]
    }
   ],
   "source": [
    "# Observemos este caso\n",
    "\n",
    "x = 10\n",
    "print(x if x > 15 else 0)\n",
    "\n",
    "x = 16\n",
    "print(x if x > 15 else 0)"
   ]
  },
  {
   "cell_type": "markdown",
   "metadata": {
    "slideshow": {
     "slide_type": "subslide"
    }
   },
   "source": [
    "<center> Un conjunto S definido por todos los números X / 4 que pertenecen a los Naturales y cumplen que su cuadrado es mayor a 20\n",
    "\n",
    "$$S=\\{\\,\\frac{x}{4}\\mid x \\in \\mathbb{N},\\ x^2<60\\,\\}$$"
   ]
  },
  {
   "cell_type": "code",
   "execution_count": 50,
   "metadata": {
    "slideshow": {
     "slide_type": "fragment"
    }
   },
   "outputs": [
    {
     "data": {
      "text/plain": [
       "[0.0, 0.25, 0.5, 0.75, 1.0, 1.25, 1.5, 1.75]"
      ]
     },
     "execution_count": 50,
     "metadata": {},
     "output_type": "execute_result"
    }
   ],
   "source": [
    "S = []\n",
    "\n",
    "for x in range(1000):\n",
    "    if x ** 2 < 60:\n",
    "        S.append(x/4)\n",
    "S"
   ]
  },
  {
   "cell_type": "code",
   "execution_count": 51,
   "metadata": {
    "slideshow": {
     "slide_type": "fragment"
    }
   },
   "outputs": [
    {
     "data": {
      "text/plain": [
       "[0.0, 0.25, 0.5, 0.75, 1.0, 1.25, 1.5, 1.75]"
      ]
     },
     "execution_count": 51,
     "metadata": {},
     "output_type": "execute_result"
    }
   ],
   "source": [
    "S = [x/4 for x in range(1000) if x**2 < 60]\n",
    "S"
   ]
  },
  {
   "cell_type": "markdown",
   "metadata": {
    "slideshow": {
     "slide_type": "subslide"
    }
   },
   "source": [
    "La sintáxis para **filtrar** con condicionales es\n",
    "\n",
    "> [ (elemento) ( for x in (iterable) ) ( if condicion ) ]\n",
    "\n",
    "Donde \"elemento\" es lo que vayamos a guardar en la lista. Incluyendo un **else**:\n",
    "\n",
    "> [ (elemento) (if condicion else otro_elemento) ( for x in (iterable) ) ]\n",
    "\n",
    "Pueden hacerse loops anidados:\n",
    "\n",
    "> [i for i in range(x) for j in range(y)]"
   ]
  },
  {
   "cell_type": "code",
   "execution_count": 63,
   "metadata": {},
   "outputs": [
    {
     "name": "stdout",
     "output_type": "stream",
     "text": [
      "0 a\n",
      "0 b\n",
      "0 c\n",
      "1 a\n",
      "1 b\n",
      "1 c\n",
      "2 a\n",
      "2 b\n",
      "2 c\n"
     ]
    }
   ],
   "source": [
    "for x in range(3):\n",
    "    for y in 'abc':\n",
    "        print(x,y)"
   ]
  },
  {
   "cell_type": "code",
   "execution_count": 64,
   "metadata": {
    "slideshow": {
     "slide_type": "subslide"
    }
   },
   "outputs": [
    {
     "data": {
      "text/plain": [
       "[(0, 'a'),\n",
       " (0, 'b'),\n",
       " (0, 'c'),\n",
       " (1, 'a'),\n",
       " (1, 'b'),\n",
       " (1, 'c'),\n",
       " (2, 'a'),\n",
       " (2, 'b'),\n",
       " (2, 'c')]"
      ]
     },
     "execution_count": 64,
     "metadata": {},
     "output_type": "execute_result"
    }
   ],
   "source": [
    "[(x, y) for x in range(3) for y in 'abc']"
   ]
  },
  {
   "cell_type": "markdown",
   "metadata": {
    "slideshow": {
     "slide_type": "fragment"
    }
   },
   "source": [
    "O comprensiones anidadas:\n",
    "\n",
    "> [ [i for i in range(x) ] for j in range(y) ]"
   ]
  },
  {
   "cell_type": "code",
   "execution_count": 70,
   "metadata": {
    "slideshow": {
     "slide_type": "fragment"
    }
   },
   "outputs": [
    {
     "data": {
      "text/plain": [
       "[['', '', ''], ['a', 'b', 'c'], ['aa', 'bb', 'cc']]"
      ]
     },
     "execution_count": 70,
     "metadata": {},
     "output_type": "execute_result"
    }
   ],
   "source": [
    "[[l*n for l in 'abc'] for n in range(3)]"
   ]
  },
  {
   "cell_type": "markdown",
   "metadata": {
    "slideshow": {
     "slide_type": "fragment"
    }
   },
   "source": [
    "De modo similar,"
   ]
  },
  {
   "cell_type": "code",
   "execution_count": 67,
   "metadata": {
    "slideshow": {
     "slide_type": "subslide"
    }
   },
   "outputs": [
    {
     "data": {
      "text/plain": [
       "[('mantarraya', 10), ('pandas', 6), ('narval', 6), ('unicornio', 9)]"
      ]
     },
     "execution_count": 67,
     "metadata": {},
     "output_type": "execute_result"
    }
   ],
   "source": [
    "animales = ['mantarraya', 'pandas', 'narval', 'unicornio']\n",
    "\n",
    "[(a, len(a)) for a in animales]"
   ]
  },
  {
   "cell_type": "markdown",
   "metadata": {
    "slideshow": {
     "slide_type": "slide"
    }
   },
   "source": [
    "## Dict comprehension\n",
    "\n",
    "De modo similar podemos declarar un diccionario con la siguiente sintáxis:\n",
    "\n",
    "> d = {k:v for k,v in [(a0,b0), (a1,b1) ... ]}"
   ]
  },
  {
   "cell_type": "code",
   "execution_count": 75,
   "metadata": {
    "slideshow": {
     "slide_type": "subslide"
    }
   },
   "outputs": [
    {
     "data": {
      "text/plain": [
       "{'mantarraya': 10, 'pandas': 6, 'narval': 6, 'unicornio': 9}"
      ]
     },
     "execution_count": 75,
     "metadata": {},
     "output_type": "execute_result"
    }
   ],
   "source": [
    "d = {a: len(a) for a in animales}"
   ]
  },
  {
   "cell_type": "code",
   "execution_count": 74,
   "metadata": {},
   "outputs": [
    {
     "data": {
      "text/plain": [
       "{'mantarraya': 10, 'pandas': 6, 'narval': 6, 'unicornio': 9}"
      ]
     },
     "execution_count": 74,
     "metadata": {},
     "output_type": "execute_result"
    }
   ],
   "source": [
    "d = {}\n",
    "\n",
    "for a in animales:\n",
    "    d[a] = len(a)\n",
    "d"
   ]
  },
  {
   "cell_type": "code",
   "execution_count": 78,
   "metadata": {},
   "outputs": [
    {
     "data": {
      "text/plain": [
       "6"
      ]
     },
     "execution_count": 78,
     "metadata": {},
     "output_type": "execute_result"
    }
   ],
   "source": [
    "d['narval']"
   ]
  },
  {
   "cell_type": "code",
   "execution_count": 84,
   "metadata": {},
   "outputs": [
    {
     "data": {
      "text/plain": [
       "{'1': 1, '2': 2, '3': 3, '4': 4, '5': 5, '6': 6, '7': 7, '8': 8, '9': 9}"
      ]
     },
     "execution_count": 84,
     "metadata": {},
     "output_type": "execute_result"
    }
   ],
   "source": [
    "{ str(i):i for i in range(1, 10) }"
   ]
  },
  {
   "cell_type": "markdown",
   "metadata": {
    "slideshow": {
     "slide_type": "subslide"
    }
   },
   "source": [
    "Es común el uso de la función zip() dentro de los dict comprehensions:"
   ]
  },
  {
   "cell_type": "code",
   "execution_count": 117,
   "metadata": {},
   "outputs": [
    {
     "data": {
      "text/plain": [
       "{'Maria': 30, 'Joaquin': 45, 'Gertrudis': 127}"
      ]
     },
     "execution_count": 117,
     "metadata": {},
     "output_type": "execute_result"
    }
   ],
   "source": [
    "nombres = ['Maria', 'Joaquin', 'Gertrudis', 'Chicharito']\n",
    "edades = [30, 45, 127]\n",
    "\n",
    "d = {}\n",
    "\n",
    "for nombre,edad in zip(nombres, edades):\n",
    "    d[nombre] = edad\n",
    "d"
   ]
  },
  {
   "cell_type": "code",
   "execution_count": 118,
   "metadata": {},
   "outputs": [
    {
     "data": {
      "text/plain": [
       "{'Maria': 30, 'Joaquin': 45, 'Gertrudis': 99}"
      ]
     },
     "execution_count": 118,
     "metadata": {},
     "output_type": "execute_result"
    }
   ],
   "source": [
    "d['Gertrudis'] = 99\n",
    "d"
   ]
  },
  {
   "cell_type": "code",
   "execution_count": 119,
   "metadata": {
    "slideshow": {
     "slide_type": "subslide"
    }
   },
   "outputs": [
    {
     "data": {
      "text/plain": [
       "{'Maria': 30, 'Joaquin': 45, 'Gertrudis': 127}"
      ]
     },
     "execution_count": 119,
     "metadata": {},
     "output_type": "execute_result"
    }
   ],
   "source": [
    "{t[0]:t[1] for t in zip(nombres, edades)}"
   ]
  },
  {
   "cell_type": "markdown",
   "metadata": {
    "slideshow": {
     "slide_type": "slide"
    }
   },
   "source": [
    "### Generadores \n",
    "\n",
    "Es un _iterable_ que a diferencia de una lista, genera los valores a medida que se requieren. Se pueden definir como una lista por comprensión pero usando paréntesis en lugar de corchetes. Otro ejemplo que conocemos es **range()**. "
   ]
  },
  {
   "cell_type": "code",
   "execution_count": 133,
   "metadata": {},
   "outputs": [
    {
     "data": {
      "text/plain": [
       "[('Maria', 30), ('Joaquin', 45), ('Gertrudis', 127)]"
      ]
     },
     "execution_count": 133,
     "metadata": {},
     "output_type": "execute_result"
    }
   ],
   "source": [
    "list(zip(nombres, edades))"
   ]
  },
  {
   "cell_type": "code",
   "execution_count": 130,
   "metadata": {
    "slideshow": {
     "slide_type": "subslide"
    }
   },
   "outputs": [
    {
     "data": {
      "text/plain": [
       "333332833.039419"
      ]
     },
     "execution_count": 130,
     "metadata": {},
     "output_type": "execute_result"
    }
   ],
   "source": [
    "# La suma de las raices cuadradas de los numeros pares de 0 a un millón\n",
    "\n",
    "sum( (x**0.5 for x in range(int(1e6)) if x % 2 == 0) )"
   ]
  },
  {
   "cell_type": "markdown",
   "metadata": {
    "slideshow": {
     "slide_type": "slide"
    }
   },
   "source": [
    "# I/O\n",
    "\n",
    "Ahora veremos como abrir archivos usando Python base. Para hacerlo usaremos la sentencia **with** para definir un **contexto** del siguiente modo:\n",
    "\n",
    "    with open('corpus.txt', 'r') as inp:\n",
    "        string_contenido = inp.read()\n",
    "        \n",
    "Lo que significa: con el archivo \"corpus.txt\" abierto en **modo** lectura (\"r\" de read) con el **alias** _inp_, definimos la variable contenido usando el método **.read()** para leer el archivo. Algunas aclaraciones:\n",
    "\n",
    "- El método .read() es propio del objeto de input, que **en esta ocasión** llamamos _inp_. Otro método útil es **.readlines()** que nos permite iterar por renglones.\n",
    "- La ruta al archivo puede ser **relativa** como en este caso, donde el archivo se encontraría en la misma carpeta que la notebook. También se puede dar el path completo, como podría ser \"C:/Usuarios/Matías/Documentos/corpus.txt\""
   ]
  },
  {
   "cell_type": "markdown",
   "metadata": {
    "slideshow": {
     "slide_type": "subslide"
    }
   },
   "source": [
    "Existen varios modos de abrir un archivo, incluyendo:\n",
    "\n",
    "    - r: read, lectura\n",
    "    - w: write, escritura\n",
    "    - a: append, agregar al final del archivo\n",
    "   \n",
    "Por ejemplo, para escribir en un archivo, haríamos:\n",
    "\n",
    "    with open(outpath, 'w') as out:\n",
    "        out.write(string)"
   ]
  },
  {
   "cell_type": "code",
   "execution_count": 141,
   "metadata": {
    "slideshow": {
     "slide_type": "fragment"
    }
   },
   "outputs": [],
   "source": [
    "with open('nuevo.txt', 'w') as out:\n",
    "    out.write('ejemplo de escritura')"
   ]
  },
  {
   "cell_type": "code",
   "execution_count": 142,
   "metadata": {
    "slideshow": {
     "slide_type": "fragment"
    }
   },
   "outputs": [
    {
     "name": "stdout",
     "output_type": "stream",
     "text": [
      "ejemplo de escritura\n"
     ]
    }
   ],
   "source": [
    "with open('nuevo.txt', 'r') as inp:\n",
    "    contenido = inp.read()\n",
    "\n",
    "print(contenido)"
   ]
  },
  {
   "cell_type": "code",
   "execution_count": 157,
   "metadata": {},
   "outputs": [
    {
     "name": "stdin",
     "output_type": "stream",
     "text": [
      "Ingrese un numero 8\n"
     ]
    },
    {
     "name": "stdout",
     "output_type": "stream",
     "text": [
      "Su numero fue 8! :D\n"
     ]
    }
   ],
   "source": [
    "while True:\n",
    "    usuario_dijo = input('Ingrese un numero')\n",
    "\n",
    "    try:\n",
    "        num = int(usuario_dijo)\n",
    "        break\n",
    "    except:\n",
    "        print('No anduvo, intente de nuevo')\n",
    "\n",
    "print(f'Su numero fue {num}! :D')"
   ]
  },
  {
   "cell_type": "markdown",
   "metadata": {
    "slideshow": {
     "slide_type": "slide"
    }
   },
   "source": [
    "# Funciones\n",
    "\n",
    "Las funciones nos permiten estandarizar y reutilizar un proceso en múltiples ocasiones. Se definen de la siguiente manera:\n",
    "\n",
    "    def nombre_de_funcion(argumentos):\n",
    "        resultado = procedimiento(argumentos)\n",
    "        return resultado"
   ]
  },
  {
   "cell_type": "code",
   "execution_count": 165,
   "metadata": {
    "slideshow": {
     "slide_type": "fragment"
    }
   },
   "outputs": [],
   "source": [
    "def promedio(lista):\n",
    "    return sum(lista) / len(lista)"
   ]
  },
  {
   "cell_type": "code",
   "execution_count": 166,
   "metadata": {
    "slideshow": {
     "slide_type": "fragment"
    }
   },
   "outputs": [
    {
     "name": "stdout",
     "output_type": "stream",
     "text": [
      "1.5\n"
     ]
    }
   ],
   "source": [
    "resultado = promedio([0,1,2,3])\n",
    "print(resultado)"
   ]
  },
  {
   "cell_type": "code",
   "execution_count": 199,
   "metadata": {},
   "outputs": [],
   "source": [
    "def mysuma(a,b):\n",
    "    \"\"\"Esta función recibe dos numeros y devuelve la suma\"\"\"\n",
    "    return a+b"
   ]
  },
  {
   "cell_type": "code",
   "execution_count": 200,
   "metadata": {},
   "outputs": [
    {
     "name": "stdout",
     "output_type": "stream",
     "text": [
      "8\n"
     ]
    }
   ],
   "source": [
    "r = mysuma(3,5)\n",
    "print(r)"
   ]
  },
  {
   "cell_type": "code",
   "execution_count": 4,
   "metadata": {},
   "outputs": [],
   "source": [
    "def rango(lista):\n",
    "    print(f'El minimo es {min(lista)}')\n",
    "    print(f'El maximo es {max(lista)}')\n",
    "    \n",
    "    return lista, len(lista)"
   ]
  },
  {
   "cell_type": "code",
   "execution_count": 9,
   "metadata": {},
   "outputs": [
    {
     "name": "stdout",
     "output_type": "stream",
     "text": [
      "El minimo es -24\n",
      "El maximo es 89\n"
     ]
    }
   ],
   "source": [
    "l1 = [89, -24, 9, 2]\n",
    "lista, largo_lista = rango(l1)"
   ]
  },
  {
   "cell_type": "markdown",
   "metadata": {
    "slideshow": {
     "slide_type": "subslide"
    }
   },
   "source": [
    "Existen distintos tipos de argumentos, principalmente los llamados \"args\" y \"kwargs\", o argumentos y \"keyword arguments\" es decir argumentos nombrados. "
   ]
  },
  {
   "cell_type": "code",
   "execution_count": 194,
   "metadata": {
    "slideshow": {
     "slide_type": "fragment"
    }
   },
   "outputs": [],
   "source": [
    "def unir_lista(lista, conector=' '):\n",
    "    \"\"\"Esta funcion recibe dos argumentos, una lista y un conector\n",
    "    y devuelve la lista unida usando el conector.\"\"\"\n",
    "    \n",
    "    unida = conector.join([str(e) for e in lista])\n",
    "    \n",
    "    return unida"
   ]
  },
  {
   "cell_type": "code",
   "execution_count": 195,
   "metadata": {
    "slideshow": {
     "slide_type": "fragment"
    }
   },
   "outputs": [
    {
     "data": {
      "text/plain": [
       "'probando,unir,lista,123'"
      ]
     },
     "execution_count": 195,
     "metadata": {},
     "output_type": "execute_result"
    }
   ],
   "source": [
    "unir_lista(['probando', 'unir', 'lista', 123], conector = ',')"
   ]
  },
  {
   "cell_type": "markdown",
   "metadata": {
    "slideshow": {
     "slide_type": "subslide"
    }
   },
   "source": [
    "También podemos tener un numero variable de argumentos, usando el symbolo *"
   ]
  },
  {
   "cell_type": "code",
   "execution_count": 196,
   "metadata": {},
   "outputs": [
    {
     "data": {
      "text/plain": [
       "16"
      ]
     },
     "execution_count": 196,
     "metadata": {},
     "output_type": "execute_result"
    }
   ],
   "source": [
    "def suma_todos(*args):\n",
    "    return sum(args)\n",
    "\n",
    "suma_todos(9,1,4,2)"
   ]
  },
  {
   "cell_type": "code",
   "execution_count": 190,
   "metadata": {
    "slideshow": {
     "slide_type": "fragment"
    }
   },
   "outputs": [
    {
     "data": {
      "text/plain": [
       "0"
      ]
     },
     "execution_count": 190,
     "metadata": {},
     "output_type": "execute_result"
    }
   ],
   "source": [
    "def sumar_listas(*listas):\n",
    "    return sum([sum(l) for l in listas])\n",
    "\n",
    "sumar_listas([1,2,3], [-1,-2,-3], [0])"
   ]
  },
  {
   "cell_type": "markdown",
   "metadata": {
    "slideshow": {
     "slide_type": "slide"
    }
   },
   "source": [
    "## Funciones Lambda"
   ]
  },
  {
   "cell_type": "markdown",
   "metadata": {
    "slideshow": {
     "slide_type": "fragment"
    }
   },
   "source": [
    "Las funciones lambda son funciones anónimas, no asignadas a un identificador. Se utilizan cuando se recurre a la función una sola vez, y por lo tanto no se necesita persistencia."
   ]
  },
  {
   "cell_type": "code",
   "execution_count": 13,
   "metadata": {},
   "outputs": [],
   "source": [
    "def suma(a,b):\n",
    "    return a + b"
   ]
  },
  {
   "cell_type": "code",
   "execution_count": 14,
   "metadata": {},
   "outputs": [
    {
     "data": {
      "text/plain": [
       "6"
      ]
     },
     "execution_count": 14,
     "metadata": {},
     "output_type": "execute_result"
    }
   ],
   "source": [
    "suma(2,4)"
   ]
  },
  {
   "cell_type": "code",
   "execution_count": 10,
   "metadata": {
    "slideshow": {
     "slide_type": "fragment"
    }
   },
   "outputs": [
    {
     "data": {
      "text/plain": [
       "6"
      ]
     },
     "execution_count": 10,
     "metadata": {},
     "output_type": "execute_result"
    }
   ],
   "source": [
    "(lambda a,b: a + b)(2,4)"
   ]
  },
  {
   "cell_type": "markdown",
   "metadata": {
    "slideshow": {
     "slide_type": "fragment"
    }
   },
   "source": [
    "Un uso común es dentro de **sorted()** o funciones similares. Por ejemplo, para ordenar la siguiente lista por los números que contiene (asumiendo consistencia):"
   ]
  },
  {
   "cell_type": "code",
   "execution_count": 12,
   "metadata": {
    "slideshow": {
     "slide_type": "fragment"
    }
   },
   "outputs": [
    {
     "data": {
      "text/plain": [
       "[('Luna', 8), ('Tierra', 25), ('Marte', 81)]"
      ]
     },
     "execution_count": 12,
     "metadata": {},
     "output_type": "execute_result"
    }
   ],
   "source": [
    "lista_tuplas = [('Luna', 8), ('Tierra', 25), ('Marte', 81)]\n",
    "\n",
    "sorted(lista_tuplas, \n",
    "       key = lambda t: t[1])"
   ]
  },
  {
   "cell_type": "code",
   "execution_count": 19,
   "metadata": {},
   "outputs": [],
   "source": [
    "def myorden(n):\n",
    "    return int(n)"
   ]
  },
  {
   "cell_type": "code",
   "execution_count": 18,
   "metadata": {},
   "outputs": [
    {
     "data": {
      "text/plain": [
       "['3', '4', '7', '9', '11', '20', '87']"
      ]
     },
     "execution_count": 18,
     "metadata": {},
     "output_type": "execute_result"
    }
   ],
   "source": [
    "lista_string = ['9', '11', '87', '7', '4', '20', '3']\n",
    "\n",
    "sorted(lista_string, key = myorden)"
   ]
  },
  {
   "cell_type": "code",
   "execution_count": 20,
   "metadata": {},
   "outputs": [
    {
     "data": {
      "text/plain": [
       "['3', '4', '7', '9', '11', '20', '87']"
      ]
     },
     "execution_count": 20,
     "metadata": {},
     "output_type": "execute_result"
    }
   ],
   "source": [
    "lista_string = ['9', '11', '87', '7', '4', '20', '3']\n",
    "\n",
    "sorted(lista_string, key = lambda n: int(n))"
   ]
  }
 ],
 "metadata": {
  "kernelspec": {
   "display_name": "Python 3",
   "language": "python",
   "name": "python3"
  },
  "language_info": {
   "codemirror_mode": {
    "name": "ipython",
    "version": 3
   },
   "file_extension": ".py",
   "mimetype": "text/x-python",
   "name": "python",
   "nbconvert_exporter": "python",
   "pygments_lexer": "ipython3",
   "version": "3.7.7"
  }
 },
 "nbformat": 4,
 "nbformat_minor": 4
}
