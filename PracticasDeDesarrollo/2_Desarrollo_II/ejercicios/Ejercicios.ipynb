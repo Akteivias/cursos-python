{
 "cells": [
  {
   "cell_type": "markdown",
   "metadata": {},
   "source": [
    "# Ejercicios\n",
    "\n",
    "Para la tarea de esta clase vamos a crear un ambiente virtual, con CONDA o Poetry y vamos a crear un script que usando click podamos llamar a las funciones en de la Mistery definida en el archivo `wrong.py` adjunto.\n",
    "Continuando, vamos a instalar mypy en el mismo ambiente y vamos a corregir wrong.py junto con los archivos que vayamos agregando.\n",
    "¡Suerte! :)"
   ]
  }
 ],
 "metadata": {
  "kernelspec": {
   "display_name": "Python 3 (ipykernel)",
   "language": "python",
   "name": "python3"
  },
  "language_info": {
   "codemirror_mode": {
    "name": "ipython",
    "version": 3
   },
   "file_extension": ".py",
   "mimetype": "text/x-python",
   "name": "python",
   "nbconvert_exporter": "python",
   "pygments_lexer": "ipython3",
   "version": "3.7.6"
  }
 },
 "nbformat": 4,
 "nbformat_minor": 4
}
