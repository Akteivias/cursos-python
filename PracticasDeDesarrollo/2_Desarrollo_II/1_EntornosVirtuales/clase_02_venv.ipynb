{
 "cells": [
  {
   "cell_type": "markdown",
   "id": "34c1c097",
   "metadata": {},
   "source": [
    "<a href=\"https://colab.research.google.com/github/institutohumai/cursos-python/blob/master/PracticasDeDesarrollo/2_Desarrollo_II/1_EntornosVirtuales/clase_02_venv.ipynb\" target=\"_parent\"><img src=\"https://colab.research.google.com/assets/colab-badge.svg\" alt=\"Open In Colab\" data-canonical-src=\"https://colab.research.google.com/assets/colab-badge.svg\"></a>"
   ]
  },
  {
   "cell_type": "markdown",
   "id": "5c52fb74",
   "metadata": {},
   "source": [
    "# 1. CONDA: Gestor de paquetes y ambientes\n",
    "\n",
    "<a href=\"https://docs.conda.io/en/latest/\">\n",
    "<img alt=\"Logo de Conda\" src=\"https://raw.githubusercontent.com/institutohumai/cursos-python/master/PracticasDeDesarrollo/2_Desarrollo_II/1_EntornosVirtuales/images/conda_logo.svg\" />\n",
    "</a>"
   ]
  },
  {
   "cell_type": "markdown",
   "id": "36543b21-e14c-4006-af33-0d0a0cae102d",
   "metadata": {},
   "source": [
    "## 1.1. Introducción a conceptos básicos"
   ]
  },
  {
   "cell_type": "markdown",
   "id": "9f3d0b0b-4726-4487-ae65-3bfb35ebf7a2",
   "metadata": {},
   "source": [
    "### ¿Qué es CONDA?\n",
    "\n",
    "&nbsp;&nbsp;&nbsp;&nbsp;**CONDA** es un gestor de paquetes que al igual el querido (?) PIP se encarga de instalar todas las dependencias que necesitemos para nuestros proyectos de desarrollo, asi cómo gestionar el ambiente virtual en donde se van a instalar.\n",
    "\n",
    "### ¿Qué es un ambiente virtual?\n",
    "\n",
    ">\"Un entorno cooperativamente aislado de ejecución que permite a los usuarios de Python y a las aplicaciones instalar y actualizar paquetes de distribución de Python sin interferir con el comportamiento de otras aplicaciones de Python en el mismo sistema.\" - [Python Docs](https://docs.python.org/es/3/glossary.html#term-virtual-environment)\n",
    "\n",
    "&nbsp;&nbsp;&nbsp;&nbsp;Dicho de otra manera, un ambiente virtual es lo que nos permite aislar el proyecto actual en el que estemos trabajando del resto de los proyectos que tambien estamos trabajando o, por ejemplo, del ambiente que es requerido para que nuestro sistema funcione correctamente.\n",
    "\n",
    "### ¿Para qué necesitamos aislar nuestro proyecto?\n",
    "\n",
    "&nbsp;&nbsp;&nbsp;&nbsp;Nada mejor que responder una pregunta con otra: \n",
    "\n",
    "`¿Qué hacemos si el proyecto A requiere la version 2.8 de una librería y el proyecto B requiere la version 3.4?`\n",
    "\n",
    "&nbsp;&nbsp;&nbsp;&nbsp; En ese caso cada vez que quisieramos cambiar de proyecto, tendríamos que desinstalar la versión anterior e instalar la nueva. Para evitar tener que hacer esto, podemos hacer uso de un **ambiente virtual** para que cada vez que queremos cambiar de proyecto solo tengamos que cambiar de ambiente y ambas versiones de la libreria puedan coexistir."
   ]
  },
  {
   "attachments": {
    "66818e02-a52e-4867-a715-d4d4ae32a0be.png": {
     "image/png": "[encoded data removed]"
    }
   },
   "cell_type": "markdown",
   "id": "43e5dcbd-9699-46a8-961d-9958ad94924a",
   "metadata": {},
   "source": [
    "| <img alt=\"Ambientes Virtuales\" src=\"https://raw.githubusercontent.com/institutohumai/cursos-python/master/PracticasDeDesarrollo/2_Desarrollo_II/1_EntornosVirtuales/images/ambientes_virtuales.webp\" /> |\n",
    "|:--:|\n",
    "| *(source dataquest.io)*|"
   ]
  },
  {
   "cell_type": "markdown",
   "id": "973af216-8916-41a7-9d42-500be7b29f90",
   "metadata": {},
   "source": [
    "\n",
    "### Ok, ¿Entonces necesito CONDA para trabajar con ambientes virtuales?\n",
    "\n",
    "&nbsp;&nbsp;&nbsp;&nbsp; Para nada. De hecho Python viene con un módulo standard llamado **venv** que sirve para hacer exactamente eso. Algunas herramientas que trás bambalinas lo utilizan son por ejemplo Pipenv o Poetry (de este último hablaremos más tarde ;) ).\n",
    "\n",
    "\n",
    "&nbsp;&nbsp;&nbsp;&nbsp; Dicho esto existen diferencias entre usar un ambiente virtual + PIP VS CONDA y que estará en cada uno usar su criterio profesional (👀) para decidir en que momento conviene usar uno o el otro:\n",
    "\n",
    "- Cuando hablamos de depencencias para nuestros proyectos normalmente nos referimos a librerias y las librerias de esas librerias, instalables con un simple `pip install mitadDeProyecto`; pero en varios casos las dependencias no son puras de Python y requieren que instalemos dependencias de sistemas usando el gestor de paquetes del mismo (apt, yum, brew, etc) para poder funcionar. Con CONDA, cuando agregamos una dependencia a nuestro proyecto, este se encarga de descargar e instalar todo lo requerido en el ambiente virtual.\n",
    "\n",
    "\n",
    "- Cuando queremos crear un ambiente virtual con venv, necesitamos que exista una versión de Python en el sistema (sino, ¿de dónde va a sacar el paquete standard?). Esto hace que cada vez que necesitemos una versión específica de Python tendremos que instalarla para después generar un ambiente virtual de la misma. Vale la pena aclarar que existen herramientas para hacer eso, por ejemplo *Pyenv*. Con CONDA cuando creamos un ambiente virtual, este incluye a su vez su propia versión de Python cómo si fuera una dependencia más por lo que si se necesita una versión nueva simplemente se descargará.\n",
    "\n",
    "\n",
    "- Con venv, podemos agregar \n",
    "paquetes con pip. En CONDA, con conda y pip.\n",
    "\n",
    "\n",
    "- Como CONDA instala TODO lo que necesites, puede que en muchos casos los ambientes se vuelvan pesados. Este problema se presenta cuando las dependencias entre proyectos son casi las mismas, a diferencia de unas pocas. Y que al estar todas aisladas, se repiten multiples veces ocupando mucho espacio.\n",
    "\n",
    "- CONDA no solo es un gestor de paquetes para Python. Puede gestionar paquetes de R, Ruby, Lua, Scala, Java, JavaScript, C, C++, FORTRAN.\n",
    "\n",
    "- Otro concepto que los diferencia es que en CONDA tenemos canales (channels). En PIP todos los paquetes vienen de un mismo canal: [The Python Package Index](https://pypi.org/). En CONDA, existen diferentes canales desde donde descargar dependencias, oficiales y extraoficiales. El canal por defecto tiene un nombre increiblemente atípico llamado... [defaults](https://anaconda.org/anaconda/repo) y en donde para publicar paquetes en el mismo tenemos que pagar una licencia (solo para subir paquetes, es gratis de descargar). Este se podría considerar cómo el canal estable. Ahora, existe otro canal llamado [conda-forge](https://anaconda.org/conda-forge/repo) en donde es libre de subir paquetes y normalmente están más actualizados. Vale la pena mencionar que en un mismo ambiente pueden coexistir paquetes que vienen de diferentes canales pero puede llevar a incompatibilidades.\n",
    "\n"
   ]
  },
  {
   "cell_type": "markdown",
   "id": "464d2611",
   "metadata": {},
   "source": [
    "---"
   ]
  },
  {
   "cell_type": "markdown",
   "id": "f3df2a63-4f12-40e4-9bd8-ddc55f20bfdb",
   "metadata": {},
   "source": [
    "### 1.2 Instalación"
   ]
  },
  {
   "cell_type": "markdown",
   "id": "a48a1b3e-8ec2-4468-8b2d-f0ed1b92d50e",
   "metadata": {},
   "source": [
    "&nbsp;&nbsp;&nbsp;&nbsp; Primero lo primero, vamos a instalar CONDA. Para eso tendremos que dirigirnos a este link: [INSTALACION CONDA](https://docs.conda.io/en/latest/miniconda.html) y seleccionar el link que querramos descargar de acuerdo a nuestro sistema operativo y la versión de python que querramos. En este caso estaremos instalando MINICONDA, que es una distribucion de CONDA cómo se muestra en la imagen siguiente."
   ]
  },
  {
   "cell_type": "markdown",
   "id": "1f207f19",
   "metadata": {},
   "source": [
    "| <img alt=\"Distribuciones de CONDA\" src=\"https://raw.githubusercontent.com/institutohumai/cursos-python/master/PracticasDeDesarrollo/2_Desarrollo_II/1_EntornosVirtuales/images/conda-distributions.png\" /> |\n",
    "|:--:|\n",
    "| *(source Planemo documentation)*|"
   ]
  },
  {
   "cell_type": "markdown",
   "id": "78e4214e",
   "metadata": {},
   "source": [
    "&nbsp;&nbsp;&nbsp;&nbsp;Los pasos a seguir para la instalación en la terminal son:\n",
    "\n",
    "```bash\n",
    "curl -O https://repo.anaconda.com/miniconda/Miniconda3-py39_4.12.0-Linux-x86_64.sh # En este caso descargo la versión de Linux pero descargá la versión que corresponda\n",
    "chmod +x Miniconda3-py39_4.12.0-Linux-x86_64.sh\n",
    "./Miniconda3-py39_4.12.0-Linux-x86_64.sh\n",
    "```\n",
    "&nbsp;&nbsp;&nbsp;&nbsp;A partir de este momento nos aparecerá un prompt a seguir en donde iremos seleccionando la configuración que querramos (Si no sabés que es alguna opción no te preocupes y seleccioná la que viene por defecto).\n",
    "\n",
    "&nbsp;&nbsp;&nbsp;&nbsp;Y voilá, tenemos CONDA! Siempre es bueno recordar que si recién terminamos de instalar CONDA, es recomendable trabajar en una terminal nueva o bien correr `source ~/.bashrc`.\n",
    "\n",
    "&nbsp;&nbsp;&nbsp;&nbsp;Para verificar que todo esté funcionando bien, podemos correr:\n",
    "\n",
    "```console\n",
    "(base) root@a13f708282e0:/# conda -V\n",
    "conda 4.12.0\n",
    "```"
   ]
  },
  {
   "cell_type": "markdown",
   "id": "31e046f9",
   "metadata": {},
   "source": [
    "&nbsp;&nbsp;&nbsp;&nbsp;Como podemos ver tenemos un \"(base)\" adelante de nuestro prompt, este es el ambiente por defecto de CONDA."
   ]
  },
  {
   "cell_type": "markdown",
   "id": "b0570178",
   "metadata": {},
   "source": [
    "---"
   ]
  },
  {
   "cell_type": "markdown",
   "id": "f3df2a63-4f12-40e4-9bd8-ddc55f20bfdb",
   "metadata": {},
   "source": [
    "### 1.3 Creación de ambientes"
   ]
  },
  {
   "cell_type": "markdown",
   "id": "a48a1b3e-8ec2-4468-8b2d-f0ed1b92d50e",
   "metadata": {},
   "source": [
    "&nbsp;&nbsp;&nbsp;&nbsp; Cómo mencionamos, **base** es el ambiente general y que probablemente querramos usar para el buen funcionamiento de nuestro ambiente de trabajo en general, no para un proyecto en específico, asique vamos a pasar a crear un nuevo ambiente para un nuevo proyecto de Data Science.\n",
    "\n",
    "```bash \n",
    "conda create -n DataScience numpy pandas click=8.0.1 python=3.7\n",
    "```\n",
    "\n",
    "&nbsp;&nbsp;&nbsp;&nbsp; Expliquemos un poco el comando:\n",
    " * `conda create` crea un nuevo ambiente.\n",
    " * `-n DataScience` establece el nombre del nuevo ambiente.\n",
    " * `numpy pandas click=8.0.1` la lista de paquete que queremos que se instalen en la creación. El resultado es lo mismo que crear un ambiente \"vacio\" y posteriormente instalar los paquetes. (OPCIONAL)\n",
    " * `python=3.7` cómo mencionamos anteriormente *python* es una dependencia más, por lo que a modo de ejemplificar instalamos una versión especifica del mismo. Si no seleccionamos ninguna versión entonces usará la última disponible en el canal. (OPCIONAL)\n",
    "\n",
    "*Para poder leer todos los posibles parametros simplemente podemos llamar `conda create -h`*\n",
    "\n",
    "&nbsp;&nbsp;&nbsp;&nbsp; Pero si ya creé mi nuevo ambiente, ¿por qué sigo viendo \"base\"? Tenemos que activar el nuevo ambiente. Para \"navegar\" entre los distintos ambientes debemos activar/desactivar ambientes. Para saber cuales son los ambientes disponibles podemos correr:\n",
    "\n",
    "```console\n",
    "(base) root@a13f708282e0:/# conda env list\n",
    "# conda environments:\n",
    "#\n",
    "base                  *  /root/miniconda3\n",
    "DataScience              /root/miniconda3/envs/DataScience\n",
    "```\n",
    "\n",
    "&nbsp;&nbsp;&nbsp;&nbsp; Como podemos ver, tenemos 2 ambientes. Cambiemos al nuevo con:\n",
    "\n",
    "```console\n",
    "(base) root@a13f708282e0:/# conda activate DataScience\n",
    "(DataScience) root@a13f708282e0:/# \n",
    "```\n",
    "\n",
    "&nbsp;&nbsp;&nbsp;&nbsp; Y ahora si podemos ver que nuestro prompt cambio `base -> DataScience` para reflejar que estamos en el nuevo ambiente!"
   ]
  },
  {
   "cell_type": "markdown",
   "id": "ba480c26",
   "metadata": {},
   "source": [
    "---"
   ]
  },
  {
   "cell_type": "markdown",
   "id": "ac87e249",
   "metadata": {},
   "source": [
    "### 1.4 Instalación de paquetes"
   ]
  },
  {
   "cell_type": "markdown",
   "id": "ea6d9edf",
   "metadata": {},
   "source": [
    "&nbsp;&nbsp;&nbsp;&nbsp; Genial. Ahora tenemos un ambiente en donde podemos empezar a desarrollar nuestro proyecto y está activo.\n",
    "\n",
    "&nbsp;&nbsp;&nbsp;&nbsp; Nos dirigimos al mismo y comenzamos a desarrollar. Llegado el momento, nos damos cuenta que necesitamos una nueva dependencia, en este caso el paquete *requests*. Para eso vamos a verifiar que exista en el canal que queremos.\n",
    "\n",
    "```console\n",
    "\n",
    "(DataScience) root@a13f708282e0:/# conda search requests\n",
    "Loading channels: done\n",
    "# Name                       Version           Build  Channel             \n",
    "requests                      2.21.0       py27_1000  conda-forge         \n",
    "requests                      2.21.0       py36_1000  conda-forge         \n",
    "requests                      2.21.0       py37_1000  conda-forge         \n",
    "requests                      2.22.0          py27_0  conda-forge         \n",
    "requests                      2.22.0          py27_1  conda-forge         \n",
    "requests                      2.22.0          py36_0  conda-forge         \n",
    "requests                      2.22.0          py36_1  conda-forge   \n",
    "...\n",
    "``` "
   ]
  },
  {
   "cell_type": "markdown",
   "id": "7c053a3c",
   "metadata": {},
   "source": [
    "&nbsp;&nbsp;&nbsp;&nbsp; Habiendo encontrado el paquete que queremos pasaremos a instalarlo. Podemos especificar la versión deseada, el canal de instalación, entre otras opciones que siempre podemos encontrar acompañando el comando con \"-h\". Por ahora nos limitamos a instalar la última versión:\n",
    "\n",
    "```console\n",
    "(DataScience) root@a13f708282e0:/# conda install request\n",
    "Collecting package metadata (current_repodata.json): done\n",
    "Solving environment: done\n",
    "\n",
    "## Package Plan ##\n",
    "\n",
    "  environment location: /root/miniconda3/envs/DataScience\n",
    "\n",
    "  added / updated specs:\n",
    "    - request\n",
    "\n",
    "\n",
    "The following packages will be downloaded:\n",
    "\n",
    "    package                    |            build\n",
    "    ---------------------------|-----------------\n",
    "    request-2.83.1             |                0         973 KB  conda-forge\n",
    "    ------------------------------------------------------------\n",
    "                                           Total:         973 KB\n",
    "\n",
    "The following NEW packages will be INSTALLED:\n",
    "\n",
    "  request            conda-forge/noarch::request-2.83.1-0\n",
    "\n",
    "\n",
    "Proceed ([y]/n)? y\n",
    "\n",
    "\n",
    "Downloading and Extracting Packages\n",
    "request-2.83.1       | 973 KB    | ######################################################################################################################################################################## | 100% \n",
    "Preparing transaction: done\n",
    "Verifying transaction: done\n",
    "Executing transaction: done\n",
    "```"
   ]
  },
  {
   "cell_type": "markdown",
   "id": "7324329d-2b98-4862-b26f-8113903db275",
   "metadata": {},
   "source": [
    "&nbsp;&nbsp;&nbsp;&nbsp; Todo muy lindo, pero ¿cómo puedo doble chequear que el paquete se instaló correctamente? No os preocupeis. Para eso podemos listar todos los paquetes que tengamos en el ambiente actual:\n",
    "\n",
    "```bash\n",
    "conda list\n",
    "```"
   ]
  },
  {
   "cell_type": "markdown",
   "id": "727eb0c4",
   "metadata": {},
   "source": [
    "&nbsp;&nbsp;&nbsp;&nbsp; Está bueno comentar que al momento de instalar una nueva dependencia podemos especificarle, al igual que en PIP, que versión queremos; ya sea fijando la versión específica que queremos o bien estableciendo pisos y techos de las versiones que queremos soportar."
   ]
  },
  {
   "cell_type": "markdown",
   "id": "54ab4246",
   "metadata": {},
   "source": [
    "&nbsp;&nbsp;&nbsp;&nbsp; Si en algún momento instalamos una dependencia que no debiamos, para probar o que simplemente no necesitamos más, el proceso para eliminarla es sencillo:\n",
    "\n",
    "```bash\n",
    "conda uninstall requests\n",
    "\n",
    "```"
   ]
  },
  {
   "cell_type": "markdown",
   "id": "ba480c26",
   "metadata": {},
   "source": [
    "---"
   ]
  },
  {
   "cell_type": "markdown",
   "id": "ac87e249",
   "metadata": {},
   "source": [
    "### 1.5 Actualización de paquetes"
   ]
  },
  {
   "cell_type": "markdown",
   "id": "ea6d9edf",
   "metadata": {},
   "source": [
    "&nbsp;&nbsp;&nbsp;&nbsp; El tiempo pasa y con él el ciclo de vida de los bugs: Se eliminan 5 y se crean 17. Pero más allá de los nuevos, quienes mantienen la librería que es clave para nuestro proyecto, arreglaron el bug que nos impedía seguir, por lo que deberiamos actualizar a una nueva versión."
   ]
  },
  {
   "cell_type": "markdown",
   "id": "1f207f19",
   "metadata": {},
   "source": [
    "| <img alt=\"El que no buguea, no programa\" src=\"https://raw.githubusercontent.com/institutohumai/cursos-python/master/PracticasDeDesarrollo/2_Desarrollo_II/1_EntornosVirtuales/images/little-bugs.jpeg\" />\n",
    "|:--:|\n",
    "| *(source Imgur)*|"
   ]
  },
  {
   "cell_type": "markdown",
   "id": "27bb595d",
   "metadata": {},
   "source": [
    "Para instalar una nueva versión de un nuevo paquete especifico, corremos:\n",
    "```console\n",
    "(DataScience) root@a13f708282e0:/# conda update click   \n",
    "Collecting package metadata (current_repodata.json): done\n",
    "Solving environment: done\n",
    "\n",
    "## Package Plan ##\n",
    "\n",
    "  environment location: /root/miniconda3/envs/DataScience\n",
    "\n",
    "  added / updated specs:\n",
    "    - click\n",
    "\n",
    "\n",
    "The following packages will be downloaded:\n",
    "\n",
    "    package                    |            build\n",
    "    ---------------------------|-----------------\n",
    "    click-8.1.3                |   py37hfd236b0_0         145 KB  conda-forge\n",
    "    ------------------------------------------------------------\n",
    "                                           Total:         145 KB\n",
    "\n",
    "The following packages will be UPDATED:\n",
    "\n",
    "  click              pkgs/main/noarch::click-8.0.3-pyhd3eb~ --> conda-forge/linux-aarch64::click-8.1.3-py37hfd236b0_0\n",
    "\n",
    "\n",
    "Proceed ([y]/n)? y\n",
    "\n",
    "\n",
    "Downloading and Extracting Packages\n",
    "click-8.1.3          | 145 KB    | ######################################################################################################################################################################## | 100% \n",
    "Preparing transaction: done\n",
    "Verifying transaction: done\n",
    "Executing transaction: done\n",
    "```"
   ]
  },
  {
   "cell_type": "markdown",
   "id": "18da719a",
   "metadata": {},
   "source": [
    "Y seguimos... Si en algún momento queremos actualizar todos los paquetes podemos correr `conda update --all`, pero cuidado que esto puedo desestabilizar el ambiente."
   ]
  },
  {
   "cell_type": "markdown",
   "id": "ba480c26",
   "metadata": {},
   "source": [
    "---"
   ]
  },
  {
   "cell_type": "markdown",
   "id": "ac87e249",
   "metadata": {},
   "source": [
    "### 1.7 Compartiendo ambientes"
   ]
  },
  {
   "cell_type": "markdown",
   "id": "ea6d9edf",
   "metadata": {},
   "source": [
    "&nbsp;&nbsp;&nbsp;&nbsp; Tenemos nuestro ambiente creado y con el proyecto corriendo en \"optimas condiciones\". Una compañera nos dice que intentó correr el proyecto pero no le funcionó con la misma data y el mismo código... Raro. ¿El contexto será el mismo?. Para asegurarnos pasemosle el ambiente entero.\n",
    "\n",
    "&nbsp;&nbsp;&nbsp;&nbsp; Para eso exportemos el ambiente a un archivo para poder pasarselo y de paso generar una versión de nuestro ambiente por si en el futuro inevitable el ambiente se vuelve inestable:\n",
    "```bash\n",
    "conda env export > ENV.yml\n",
    "```\n"
   ]
  },
  {
   "cell_type": "markdown",
   "id": "50f17a5b",
   "metadata": {},
   "source": [
    "&nbsp;&nbsp;&nbsp;&nbsp; Esto nos debería haber creado un archivo llamado \"ENV.yml\" que podemos compartir para poder crear ambientes con todas las dependencias que tenemos actualmente. El comando es similar a correr `pip freeze` en un ambiente gestionado con PIP.\n",
    "\n",
    "&nbsp;&nbsp;&nbsp;&nbsp; Enviado el archivo, lo que podemos hacer es crear un ambiente a partir de dicho archivo:\n",
    "\n",
    "```bash\n",
    "conda env create --file ENV.yml\n",
    "```\n",
    "\n",
    "&nbsp;&nbsp;&nbsp;&nbsp; Y ahora ambos tienen el mismo ambiente. Cabe aclarar que en este caso no le indicamos el nombre del ambiente que vamos a crear porque viene integrado adentro del archivo de configuración, pero tranquilamente podemos cambiarlo usando el parámetro \"-n\".\n"
   ]
  },
  {
   "cell_type": "markdown",
   "id": "ba480c26",
   "metadata": {},
   "source": [
    "---"
   ]
  },
  {
   "cell_type": "markdown",
   "id": "ac87e249",
   "metadata": {},
   "source": [
    "### 1.8 Conclusiones\n",
    "\n",
    "&nbsp;&nbsp;&nbsp;&nbsp; Terminando de trabajar en un proyecto lo mejor es volver al ambiente principal. Para esto podemos:\n",
    "  * Activar el ambiente base: `conda activate base`\n",
    "  * Salir de nuestro ambiente, lo que nos permitirá volver al base (o al menos al anterior): `conda deactivate`\n",
    "\n",
    "*Si lo que queremos es cambiar de ambientes para trabajar en otro proyecto podemos simplemente activar un ambiente desde otro. No es necesario \"pasar\" por base*."
   ]
  },
  {
   "cell_type": "markdown",
   "id": "37ef9a59",
   "metadata": {},
   "source": [
    "Con esto vimos que es un ambiente virtual y los comandos básicos de CONDA para crear un ambiente, gestionarlo, agregarle paquetes, actualizarlos y eliminarlos.\n",
    "En la carpeta [*resources*](resources/conda-cheatsheet.pdf) podemos encontrar un buen cheatsheet hecho por Anaconda."
   ]
  }
 ],
 "metadata": {
  "kernelspec": {
   "display_name": "Python 3.10.2 64-bit ('3.10.2')",
   "language": "python",
   "name": "python3"
  },
  "language_info": {
   "codemirror_mode": {
    "name": "ipython",
    "version": 3
   },
   "file_extension": ".py",
   "mimetype": "text/x-python",
   "name": "python",
   "nbconvert_exporter": "python",
   "pygments_lexer": "ipython3",
   "version": "3.10.2"
  },
  "vscode": {
   "interpreter": {
    "hash": "d27203dcce1218a35e5dd056f2e1158cfdf3a468b69181284abdce2479607453"
   }
  }
 },
 "nbformat": 4,
 "nbformat_minor": 5
}
