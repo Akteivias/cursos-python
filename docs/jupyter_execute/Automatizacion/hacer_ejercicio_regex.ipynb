{
 "cells": [
  {
   "cell_type": "markdown",
   "id": "a1ffe8ec-9021-41dc-a2fb-e64e07a27754",
   "metadata": {},
   "source": [
    "- Scrapear una lista de nombres\n",
    "- Generar strings aleatorios\n",
    "- Armar una archivo txt con la siguiente estructura:"
   ]
  },
  {
   "cell_type": "code",
   "execution_count": null,
   "id": "6aaa058c-7a94-41ef-82b9-d1024581cc93",
   "metadata": {},
   "outputs": [],
   "source": [
    "import pandas as pd\n",
    "import numpy as np\n",
    "import string\n",
    "from numpy.random import choice\n",
    "\n",
    "data = pd.read_html('https://buenosaires.gob.ar/areas/registrocivil/nombres/busqueda/imprimir.php')[0]['Nombres']\n",
    "\n",
    "texto = ''\n",
    "for i in range(1000):\n",
    "    nombre, apellido = data['Nombre'].sample(2).values\n",
    "    cuit = ''.join([str(n) for n in np.random.randint(0, 9, 10)])\n",
    "    mail = nombre[0].lower() + apellido[0].lower() + str(choice(range(1800, 2023))) + '@' + ''.join(choice(list(string.ascii_lowercase), 4)) + choice(['.com', '.com.ar', '.org', '.ai'])\n",
    "    id_ = ''.join(choice(list(string.ascii_lowercase)+list(string.ascii_uppercase)+list(range(9)), 12))\n",
    "    s = f\"\"\"Datos del Empleador: {nombre} {apellido}\\nCUIT: {cuit} \\nContacto: {mail} \\nN-ID: {id_}\\n\"\"\"\n",
    "    texto += s\n",
    "\n",
    "fp = 'datos_empleados.txt'\n",
    "with open(fp, 'w') as out:\n",
    "    out.write(texto)\n",
    "\n",
    "from google.colab import files\n",
    "files.download(fp)"
   ]
  }
 ],
 "metadata": {
  "kernelspec": {
   "display_name": "Python 3",
   "language": "python",
   "name": "python3"
  },
  "language_info": {
   "codemirror_mode": {
    "name": "ipython",
    "version": 3
   },
   "file_extension": ".py",
   "mimetype": "text/x-python",
   "name": "python",
   "nbconvert_exporter": "python",
   "pygments_lexer": "ipython3",
   "version": "3.8.8"
  }
 },
 "nbformat": 4,
 "nbformat_minor": 5
}