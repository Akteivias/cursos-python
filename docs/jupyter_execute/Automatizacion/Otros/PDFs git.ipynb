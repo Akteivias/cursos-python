{
 "cells": [
  {
   "cell_type": "code",
   "execution_count": 1,
   "metadata": {
    "collapsed": true,
    "jupyter": {
     "outputs_hidden": true
    }
   },
   "outputs": [],
   "source": [
    "import requests as rq\n",
    "import re\n",
    "\n",
    "def get_pdfs(url, path):\n",
    "    content = rq.get(url).text\n",
    "    pattern = r'\\/(.+?pdf)'\n",
    "    #cambio para descargar\n",
    "    urls = [r'https://github.com/' + re.sub(r'/blob/', r'/raw/', url_) for url_ in re.findall(pattern, content)]\n",
    "    for url_ in urls:\n",
    "        pdf = rq.get(url_).content\n",
    "        autor = url_.split('/')[3]\n",
    "        nombrePdf = url_.split('/')[-1]\n",
    "        file = '{} {}'.format(autor, nombrePdf)\n",
    "        print(file)\n",
    "        with open(file, 'wb') as out:\n",
    "            out.write(pdf)\n",
    "    return None"
   ]
  },
  {
   "cell_type": "code",
   "execution_count": 2,
   "metadata": {
    "collapsed": true,
    "jupyter": {
     "outputs_hidden": true
    }
   },
   "outputs": [],
   "source": [
    "import os\n",
    "os.chdir(r'D:\\Matias\\PDFs Ciencia\\Estadística y Data Science')"
   ]
  },
  {
   "cell_type": "code",
   "execution_count": 3,
   "metadata": {
    "collapsed": false,
    "jupyter": {
     "outputs_hidden": false
    }
   },
   "outputs": [
    {
     "name": "stdout",
     "output_type": "stream",
     "text": [
      "jdwittenauer ex1.pdf\n",
      "jdwittenauer ex2.pdf\n",
      "jdwittenauer ex3.pdf\n",
      "jdwittenauer ex4.pdf\n",
      "jdwittenauer ex5.pdf\n",
      "jdwittenauer ex6.pdf\n",
      "jdwittenauer ex7.pdf\n",
      "jdwittenauer ex8.pdf\n"
     ]
    }
   ],
   "source": [
    "get_pdfs(url = r'https://github.com/jdwittenauer/ipython-notebooks/tree/master/exercises/ML', path = r'D:\\Matias\\PDFs Ciencia')"
   ]
  }
 ],
 "metadata": {
  "kernelspec": {
   "display_name": "Python 3",
   "language": "python",
   "name": "python3"
  },
  "language_info": {
   "codemirror_mode": {
    "name": "ipython",
    "version": 3
   },
   "file_extension": ".py",
   "mimetype": "text/x-python",
   "name": "python",
   "nbconvert_exporter": "python",
   "pygments_lexer": "ipython3",
   "version": "3.8.8"
  }
 },
 "nbformat": 4,
 "nbformat_minor": 4
}