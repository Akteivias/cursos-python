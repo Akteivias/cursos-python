{
 "cells": [
  {
   "cell_type": "markdown",
   "metadata": {},
   "source": [
    "# Ejercicios extra visualización\n",
    "\n",
    "Se pedirá realizar graficos con distintos dataset. Es importante que cada uno de ellos cuente con un título y los respectivos nombres en sus ejes.\n",
    "\n",
    "\n",
    "## 1. Serie de tiempo\n",
    "\n",
    "Se pide realizar un análisis exploratorio de una serie de datos macroeconomicos, para ello es necesario visualizar la serie y otros gráficos descriptivos de la misma que se indicarán a continuación."
   ]
  },
  {
   "cell_type": "code",
   "execution_count": null,
   "metadata": {},
   "outputs": [],
   "source": [
    "import pandas as pd \n",
    "import matplotlib.pyplot as plt\n",
    "%matplotlib inline\n",
    "\n",
    "df = pd.read_csv('https://datasets-humai.s3.amazonaws.com/datasets/data_macro.csv',sep=',')"
   ]
  },
  {
   "cell_type": "code",
   "execution_count": null,
   "metadata": {},
   "outputs": [],
   "source": [
    "df.head()"
   ]
  },
  {
   "cell_type": "markdown",
   "metadata": {},
   "source": [
    "### 1.1\n",
    "Graficar la serie de importaciones, en el eje de las abscisas deben ir los años, mientras que en el de las ordenadas la cantidad importada."
   ]
  },
  {
   "cell_type": "code",
   "execution_count": null,
   "metadata": {},
   "outputs": [],
   "source": [
    "df['Importaciones_D'].plot()\n",
    "plt.xticks([x for x in range(1,65,4)],df['Año'].unique().tolist(),rotation=90)\n",
    "plt.title('Importaciones años 2004-2019')\n",
    "plt.xlabel('Año')\n",
    "plt.ylabel('USD')"
   ]
  },
  {
   "cell_type": "markdown",
   "metadata": {},
   "source": [
    "### 1.2\n",
    "\n",
    "Graficar los cierres anuales para exportaciones, importaciones, consumo publico, consumo privado y PBI. Recuerde incorporar los años en el eje horizontal."
   ]
  },
  {
   "cell_type": "code",
   "execution_count": null,
   "metadata": {},
   "outputs": [],
   "source": [
    "# Embellecer titulo y movidas\n",
    "df.iloc[3::4].plot(kind='bar')\n",
    "plt.xticks([x for x in range(0,17,1)], df['Año'].unique().tolist())\n",
    "plt.title('Cierres anuales')\n",
    "plt.xlabel('Año')\n",
    "plt.ylabel('USD')"
   ]
  },
  {
   "cell_type": "markdown",
   "metadata": {},
   "source": [
    "### 1.3 \n",
    "Graficar la serie de exportaciones junto a su media movil y su desvio estandar móvil."
   ]
  },
  {
   "cell_type": "code",
   "execution_count": null,
   "metadata": {},
   "outputs": [],
   "source": [
    "import numpy as np"
   ]
  },
  {
   "cell_type": "code",
   "execution_count": null,
   "metadata": {},
   "outputs": [],
   "source": [
    "# Consejo: utilizar las funciones np.rolling\n",
    "\n",
    "media_movil = df['Exportaciones_D'].rolling(4).mean()\n",
    "desvio_movil = df['Exportaciones_D'].rolling(4).std()"
   ]
  },
  {
   "cell_type": "code",
   "execution_count": null,
   "metadata": {},
   "outputs": [],
   "source": [
    "df['Exportaciones_D'].plot()\n",
    "media_movil.plot()\n",
    "desvio_movil.plot(kind='bar')\n",
    "plt.xticks([x for x in range(1,65,4)],df['Año'].unique().tolist(),rotation=90)\n",
    "plt.title('Exportaciones, media movil, desvio estandar movil')\n",
    "plt.xlabel('Año')\n",
    "plt.ylabel('Pesos')"
   ]
  },
  {
   "cell_type": "markdown",
   "metadata": {},
   "source": [
    "## 2. Iris Dataset\n",
    "\n",
    "Utilizando el [Iris Dataset](https://es.wikipedia.org/wiki/Conjunto_de_datos_flor_iris), una base de datos que contiene información acerca de tres especies de flores distintas, vamos realizar algunos gráficos para entender mejor su comportamiento. Este dataset es ampliamente utilizado en el ámbito academico para la práctica de visualización de datos, es recomendable que investiguen y vean los distintos trabajos realizados sobre el mismo. "
   ]
  },
  {
   "cell_type": "code",
   "execution_count": null,
   "metadata": {},
   "outputs": [],
   "source": [
    "df = pd.read_csv(\"https://datasets-humai.s3.amazonaws.com/datasets/data_iris.csv\")"
   ]
  },
  {
   "cell_type": "markdown",
   "metadata": {},
   "source": [
    "### 2.1 \n",
    "Graficar las distribución del largo del sepalo."
   ]
  },
  {
   "cell_type": "code",
   "execution_count": null,
   "metadata": {},
   "outputs": [],
   "source": [
    "df['SepalLengthCm'].hist()\n",
    "plt.title('Distribución del largo del sépalo')\n",
    "plt.xlabel('Count')\n",
    "plt.ylabel('Largo del sépalo')"
   ]
  },
  {
   "cell_type": "markdown",
   "metadata": {},
   "source": [
    "# 2.2\n",
    "Graficar la función de densidad del largo del sépalo."
   ]
  },
  {
   "cell_type": "code",
   "execution_count": null,
   "metadata": {},
   "outputs": [],
   "source": [
    "df['SepalLengthCm'].plot.density()\n",
    "plt.title('Función de densidad del largo del sepalo')"
   ]
  },
  {
   "cell_type": "markdown",
   "metadata": {},
   "source": [
    "## 3. Plotly"
   ]
  },
  {
   "cell_type": "code",
   "execution_count": null,
   "metadata": {},
   "outputs": [],
   "source": [
    "import plotly.graph_objects as go\n",
    "import plotly.express as px"
   ]
  },
  {
   "cell_type": "code",
   "execution_count": null,
   "metadata": {},
   "outputs": [],
   "source": [
    "df = pd.read_csv(\"/Users/mac/humai/cursos-python/AnalisisDeDatos/4_Visualizacion/data/data_iris.csv\")"
   ]
  },
  {
   "cell_type": "markdown",
   "metadata": {},
   "source": [
    "### 3.1\n",
    "\n",
    "Con plotly express realizar un gráfico de dispersion donde el eje de ordenadas explique el largo del sepalo y el eje de abscisas explique el largo del pétalo con cada una de las especies."
   ]
  },
  {
   "cell_type": "code",
   "execution_count": null,
   "metadata": {},
   "outputs": [],
   "source": [
    "fig = px.scatter(df, x=\"PetalLengthCm\", y=\"SepalLengthCm\", color=\"Species\",\n",
    "                title=\"Largo del pétalo y sépalo\")\n",
    "\n",
    "fig.show()"
   ]
  },
  {
   "cell_type": "markdown",
   "metadata": {},
   "source": [
    "### 3.B"
   ]
  },
  {
   "cell_type": "markdown",
   "metadata": {},
   "source": [
    "Realizar lo mismo que en el 3.B pero con un *objeto gráfico* de plotly. Vemos que podemos hacer una mayor personalización."
   ]
  },
  {
   "cell_type": "code",
   "execution_count": null,
   "metadata": {},
   "outputs": [],
   "source": [
    "# Especie versicolor\n",
    "t1 = go.Scatter(x=df['PetalLengthCm'].copy()[df['Species'] == 'Iris-versicolor'], \n",
    "                y=df['SepalLengthCm'].copy()[df['Species'] == 'Iris-versicolor'], \n",
    "                mode='markers', marker_symbol='star-triangle-up', marker_color='rgb(241, 196, 15)')\n",
    "\n",
    "# Especie setosa\n",
    "t2 = go.Scatter(x=df['PetalLengthCm'].copy()[df['Species'] == 'Iris-setosa'], \n",
    "                y=df['SepalLengthCm'].copy()[df['Species'] == 'Iris-setosa'], \n",
    "                mode='markers', marker_symbol='star-square', marker_color='rgb(241, 19, 196)')\n",
    "\n",
    "# Especies virginica\n",
    "t3 = go.Scatter(x=df['PetalLengthCm'].copy()[df['Species'] == 'Iris-virginica'], \n",
    "                y=df['SepalLengthCm'].copy()[df['Species'] == 'Iris-virginica'], \n",
    "                mode='markers', marker_symbol='star-diamond', marker_color='rgb(15, 196, 241)')"
   ]
  },
  {
   "cell_type": "code",
   "execution_count": null,
   "metadata": {},
   "outputs": [],
   "source": [
    "fig1 = go.Figure(data=[t1,t2,t3])\n",
    "fig1.update_layout(title='Largo de pétalo y sépalo')\n",
    "fig1.show()"
   ]
  },
  {
   "cell_type": "markdown",
   "metadata": {},
   "source": [
    "## Extra\n",
    "\n",
    "### Visulización de imagenes"
   ]
  },
  {
   "cell_type": "code",
   "execution_count": null,
   "metadata": {},
   "outputs": [],
   "source": [
    "import matplotlib.image as mpimg\n",
    "\n",
    "img = mpimg.imread('/Users/mac/humai/cursos-python/AnalisisDeDatos/4_Visualizacion/data/imagen.jpg')"
   ]
  },
  {
   "cell_type": "code",
   "execution_count": null,
   "metadata": {},
   "outputs": [],
   "source": [
    "print(img)"
   ]
  },
  {
   "cell_type": "code",
   "execution_count": null,
   "metadata": {},
   "outputs": [],
   "source": [
    "plt.imshow(img)"
   ]
  }
 ],
 "metadata": {
  "kernelspec": {
   "display_name": "Python 3",
   "language": "python",
   "name": "python3"
  },
  "language_info": {
   "codemirror_mode": {
    "name": "ipython",
    "version": 3
   },
   "file_extension": ".py",
   "mimetype": "text/x-python",
   "name": "python",
   "nbconvert_exporter": "python",
   "pygments_lexer": "ipython3",
   "version": "3.7.1"
  }
 },
 "nbformat": 4,
 "nbformat_minor": 2
}
