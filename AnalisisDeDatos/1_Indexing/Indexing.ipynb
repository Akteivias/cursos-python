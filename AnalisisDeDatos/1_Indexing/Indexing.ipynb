{
 "cells": [
  {
   "cell_type": "markdown",
   "metadata": {},
   "source": [
    "# Análisis de datos con Pandas\n",
    "\n",
    "Pandas es una de las librerías de Python más usadas para análisis de datos. El nombre pandas viene de \"Panel Data Analysis\" y su funcionalidad permite hacer operaciones sobre datos que se encuentran en memoria de manera eficiente. \n",
    "\n",
    "Pandas es útil para trabajar sobre datos tabulares, con dos condiciones importantes:\n",
    "\n",
    "I. Los datos se encuentran enteramente en la memoria RAM. Con lo cual, el tamaño de los datos que podemos manipular está limitado por el hardware. Como regla de pulgar, es una buena práctica no ocupar más de 1/3 de la memoria RAM de nuestro dispositivo con el dataset. Así, si estamos trabajando localmente en una notebook con 8GB de memoria RAM no es recomendable procesar datasets de más de 2.33GB.\n",
    "\n",
    "II. En pandas, las operaciones sobre filas y columnas son, en general, eficientes porque se hacen de forma \"vectorizada\". En realidad esta optimización, se hace desde numpy, una librería para realizar operaciones matemáticas que se utilizó a su vez para escribir pandas. \n",
    "\n",
    "Las operaciones vectorizadas son las que se realizan en bloque en vez de caso por caso. Las computadoras de hoy tienen la capacidad de recibir muchas instrucciones juntas y procesar varias de ellas a la vez. Por ejemplo, si nuestro hardware tiene la capacidad de procesar 4 operaciones juntas, el resultado de vectorizar una operación matemática es el siguiente:\n",
    "\n",
    "<img src = 'img/vectorizacion.png' /> \n",
    "\n",
    "\n",
    "En el primer caso hay que hacer 5 operaciones y en el segundo caso sólo dos.\n",
    "\n",
    "Es importante entender, entonces, que Pandas trabaja de esta manera y que por eso es una de las herramientas más elegidas para manipular datos en memoria.\n",
    "\n",
    "\n",
    "# 1. Los objetos fundamentales de Pandas\n",
    "\n",
    "## 1.1 Series\n",
    "\n",
    "Las series son \"columnas\" que de una tabla que están asociadas a un índice y a un nombre. Igual que una lista común de Python es una secuencia de elementos ordenados, pero a diferencia de la lista está asociada a más información."
   ]
  },
  {
   "cell_type": "code",
   "execution_count": 1,
   "metadata": {},
   "outputs": [],
   "source": [
    "import pandas as pd\n",
    "import numpy as np"
   ]
  },
  {
   "cell_type": "code",
   "execution_count": 2,
   "metadata": {},
   "outputs": [],
   "source": [
    "# Las series se pueden crear a partir de una lista\n",
    "serie = pd.Series(['a','b','c'])"
   ]
  },
  {
   "cell_type": "code",
   "execution_count": 3,
   "metadata": {},
   "outputs": [
    {
     "name": "stdout",
     "output_type": "stream",
     "text": [
      "Tipo de objetos que tiene  object\n",
      "Nombre  None\n",
      "Index  RangeIndex(start=0, stop=3, step=1)\n",
      "Valores  ['a' 'b' 'c']\n"
     ]
    }
   ],
   "source": [
    "# Propiedades importantes de las series\n",
    "print('Tipo de objetos que tiene ', serie.dtype)\n",
    "print('Nombre ', serie.name)\n",
    "print('Index ',serie.index)\n",
    "print('Valores ',serie.values)\n"
   ]
  },
  {
   "cell_type": "markdown",
   "metadata": {},
   "source": [
    "## 1.2 DataFrames\n",
    "\n",
    "Los DataFrames son \"tablas\", compuestas por varias \"columnas\" o series que comparten todas un mismo índice. En general los DataFrames se crean a partir de leer tablas de archivos (pueden ser en formato json o csv) pero a veces también se crean a partir de listas de diccionarios o de otras maneras. \n",
    "\n",
    "Los DataFrames tienen un objeto Index que describe los nombres de columnas y otro objeto Index que describen los nombres de las filas."
   ]
  },
  {
   "cell_type": "code",
   "execution_count": 4,
   "metadata": {},
   "outputs": [
    {
     "name": "stdout",
     "output_type": "stream",
     "text": [
      "--2020-06-14 21:21:58--  http://cdn.buenosaires.gob.ar/datosabiertos/datasets/sueldo-funcionarios/sueldo_funcionarios_2019.csv\n",
      "Resolving cdn.buenosaires.gob.ar (cdn.buenosaires.gob.ar)... 200.16.89.97\n",
      "Connecting to cdn.buenosaires.gob.ar (cdn.buenosaires.gob.ar)|200.16.89.97|:80... connected.\n",
      "HTTP request sent, awaiting response... 200 OK\n",
      "Length: 41078 (40K) [text/csv]\n",
      "Saving to: ‘sueldo_funcionarios_2019.csv.1’\n",
      "\n",
      "sueldo_funcionarios 100%[===================>]  40.12K   225KB/s    in 0.2s    \n",
      "\n",
      "2020-06-14 21:21:59 (225 KB/s) - ‘sueldo_funcionarios_2019.csv.1’ saved [41078/41078]\n",
      "\n"
     ]
    }
   ],
   "source": [
    "# 1. Descargamos un dataset público\n",
    "!wget http://cdn.buenosaires.gob.ar/datosabiertos/datasets/sueldo-funcionarios/sueldo_funcionarios_2019.csv"
   ]
  },
  {
   "cell_type": "code",
   "execution_count": 5,
   "metadata": {},
   "outputs": [],
   "source": [
    "# 2. Una vez que tenemos los datos en el disco local, podemos leerlos\n",
    "df = pd.read_csv('sueldo_funcionarios_2019.csv')"
   ]
  },
  {
   "cell_type": "code",
   "execution_count": 6,
   "metadata": {},
   "outputs": [
    {
     "name": "stdout",
     "output_type": "stream",
     "text": [
      "Columnas  Index(['cuil', 'anio', 'mes', 'funcionario_apellido', 'funcionario_nombre',\n",
      "       'reparticion', 'asignacion_por_cargo_i', 'aguinaldo_ii',\n",
      "       'total_salario_bruto_i_+_ii', 'observaciones'],\n",
      "      dtype='object')\n",
      "Index  RangeIndex(start=0, stop=385, step=1)\n",
      "Dimensiones  (385, 10)\n"
     ]
    }
   ],
   "source": [
    "# Propiedades importantes de los dataframes\n",
    "print('Columnas ', df.columns)\n",
    "print('Index ', df.index)\n",
    "print('Dimensiones ',df.shape)\n"
   ]
  },
  {
   "cell_type": "code",
   "execution_count": 7,
   "metadata": {},
   "outputs": [
    {
     "data": {
      "text/html": [
       "<div>\n",
       "<style scoped>\n",
       "    .dataframe tbody tr th:only-of-type {\n",
       "        vertical-align: middle;\n",
       "    }\n",
       "\n",
       "    .dataframe tbody tr th {\n",
       "        vertical-align: top;\n",
       "    }\n",
       "\n",
       "    .dataframe thead th {\n",
       "        text-align: right;\n",
       "    }\n",
       "</style>\n",
       "<table border=\"1\" class=\"dataframe\">\n",
       "  <thead>\n",
       "    <tr style=\"text-align: right;\">\n",
       "      <th></th>\n",
       "      <th>cuil</th>\n",
       "      <th>anio</th>\n",
       "      <th>mes</th>\n",
       "      <th>funcionario_apellido</th>\n",
       "      <th>funcionario_nombre</th>\n",
       "      <th>reparticion</th>\n",
       "      <th>asignacion_por_cargo_i</th>\n",
       "      <th>aguinaldo_ii</th>\n",
       "      <th>total_salario_bruto_i_+_ii</th>\n",
       "      <th>observaciones</th>\n",
       "    </tr>\n",
       "  </thead>\n",
       "  <tbody>\n",
       "    <tr>\n",
       "      <th>0</th>\n",
       "      <td>20-17692128-6</td>\n",
       "      <td>2019</td>\n",
       "      <td>1</td>\n",
       "      <td>RODRIGUEZ LARRETA</td>\n",
       "      <td>HORACIO ANTONIO</td>\n",
       "      <td>Jefe de Gobierno</td>\n",
       "      <td>197745.80</td>\n",
       "      <td>0.0</td>\n",
       "      <td>197745.80</td>\n",
       "      <td>NaN</td>\n",
       "    </tr>\n",
       "    <tr>\n",
       "      <th>1</th>\n",
       "      <td>20-17735449-0</td>\n",
       "      <td>2019</td>\n",
       "      <td>1</td>\n",
       "      <td>SANTILLI</td>\n",
       "      <td>DIEGO CESAR</td>\n",
       "      <td>Vicejefatura de Gobierno</td>\n",
       "      <td>197745.80</td>\n",
       "      <td>0.0</td>\n",
       "      <td>197745.80</td>\n",
       "      <td>NaN</td>\n",
       "    </tr>\n",
       "    <tr>\n",
       "      <th>2</th>\n",
       "      <td>27-24483014-0</td>\n",
       "      <td>2019</td>\n",
       "      <td>1</td>\n",
       "      <td>ACUÑA</td>\n",
       "      <td>MARIA SOLEDAD</td>\n",
       "      <td>Ministerio de Educación e Innovación</td>\n",
       "      <td>224516.62</td>\n",
       "      <td>0.0</td>\n",
       "      <td>224516.62</td>\n",
       "      <td>NaN</td>\n",
       "    </tr>\n",
       "    <tr>\n",
       "      <th>3</th>\n",
       "      <td>20-13872301-2</td>\n",
       "      <td>2019</td>\n",
       "      <td>1</td>\n",
       "      <td>ASTARLOA</td>\n",
       "      <td>GABRIEL MARIA</td>\n",
       "      <td>Procuración General de la Ciudad de Buenos Aires</td>\n",
       "      <td>224516.62</td>\n",
       "      <td>0.0</td>\n",
       "      <td>224516.62</td>\n",
       "      <td>NaN</td>\n",
       "    </tr>\n",
       "    <tr>\n",
       "      <th>4</th>\n",
       "      <td>20-25641207-2</td>\n",
       "      <td>2019</td>\n",
       "      <td>1</td>\n",
       "      <td>AVOGADRO</td>\n",
       "      <td>ENRIQUE LUIS</td>\n",
       "      <td>Ministerio de Cultura</td>\n",
       "      <td>224516.62</td>\n",
       "      <td>0.0</td>\n",
       "      <td>224516.62</td>\n",
       "      <td>NaN</td>\n",
       "    </tr>\n",
       "  </tbody>\n",
       "</table>\n",
       "</div>"
      ],
      "text/plain": [
       "            cuil  anio  mes funcionario_apellido funcionario_nombre  \\\n",
       "0  20-17692128-6  2019    1    RODRIGUEZ LARRETA    HORACIO ANTONIO   \n",
       "1  20-17735449-0  2019    1             SANTILLI        DIEGO CESAR   \n",
       "2  27-24483014-0  2019    1                ACUÑA      MARIA SOLEDAD   \n",
       "3  20-13872301-2  2019    1             ASTARLOA      GABRIEL MARIA   \n",
       "4  20-25641207-2  2019    1             AVOGADRO       ENRIQUE LUIS   \n",
       "\n",
       "                                        reparticion  asignacion_por_cargo_i  \\\n",
       "0                                  Jefe de Gobierno               197745.80   \n",
       "1                          Vicejefatura de Gobierno               197745.80   \n",
       "2              Ministerio de Educación e Innovación               224516.62   \n",
       "3  Procuración General de la Ciudad de Buenos Aires               224516.62   \n",
       "4                             Ministerio de Cultura               224516.62   \n",
       "\n",
       "   aguinaldo_ii  total_salario_bruto_i_+_ii observaciones  \n",
       "0           0.0                   197745.80           NaN  \n",
       "1           0.0                   197745.80           NaN  \n",
       "2           0.0                   224516.62           NaN  \n",
       "3           0.0                   224516.62           NaN  \n",
       "4           0.0                   224516.62           NaN  "
      ]
     },
     "execution_count": 7,
     "metadata": {},
     "output_type": "execute_result"
    }
   ],
   "source": [
    "# Explorar un DataFrame\n",
    "df.head()"
   ]
  },
  {
   "cell_type": "markdown",
   "metadata": {},
   "source": [
    "Si queremos extraer una serie del DataFrame, podemos hacerlo de la misma forma en que extraemos un valor de un diccionario.\n",
    "\n"
   ]
  },
  {
   "cell_type": "code",
   "execution_count": 15,
   "metadata": {},
   "outputs": [],
   "source": [
    "serie_mes = df['mes']"
   ]
  },
  {
   "cell_type": "code",
   "execution_count": 16,
   "metadata": {},
   "outputs": [
    {
     "data": {
      "text/plain": [
       "pandas.core.series.Series"
      ]
     },
     "execution_count": 16,
     "metadata": {},
     "output_type": "execute_result"
    }
   ],
   "source": [
    "type(serie_mes)"
   ]
  },
  {
   "cell_type": "markdown",
   "metadata": {},
   "source": [
    "## 1.3 Índices\n",
    "\n",
    "Los índices acompañan a las series y a los Data Frames. Son conjuntos ordenados e inmutables de elementos"
   ]
  },
  {
   "cell_type": "code",
   "execution_count": 8,
   "metadata": {},
   "outputs": [
    {
     "data": {
      "text/plain": [
       "Int64Index([2, 3, 5, 7, 11], dtype='int64')"
      ]
     },
     "execution_count": 8,
     "metadata": {},
     "output_type": "execute_result"
    }
   ],
   "source": [
    "ind = pd.Index([2, 3, 5, 7, 11])\n",
    "ind"
   ]
  },
  {
   "cell_type": "code",
   "execution_count": 9,
   "metadata": {},
   "outputs": [
    {
     "ename": "TypeError",
     "evalue": "Index does not support mutable operations",
     "output_type": "error",
     "traceback": [
      "\u001b[0;31m---------------------------------------------------------------------------\u001b[0m",
      "\u001b[0;31mTypeError\u001b[0m                                 Traceback (most recent call last)",
      "\u001b[0;32m<ipython-input-9-906a9fa1424c>\u001b[0m in \u001b[0;36m<module>\u001b[0;34m()\u001b[0m\n\u001b[0;32m----> 1\u001b[0;31m \u001b[0mind\u001b[0m\u001b[0;34m[\u001b[0m\u001b[0;36m1\u001b[0m\u001b[0;34m]\u001b[0m \u001b[0;34m=\u001b[0m \u001b[0;36m0\u001b[0m\u001b[0;34m\u001b[0m\u001b[0m\n\u001b[0m",
      "\u001b[0;32m~/anaconda3/envs/python3/lib/python3.6/site-packages/pandas/core/indexes/base.py\u001b[0m in \u001b[0;36m__setitem__\u001b[0;34m(self, key, value)\u001b[0m\n\u001b[1;32m   3936\u001b[0m \u001b[0;34m\u001b[0m\u001b[0m\n\u001b[1;32m   3937\u001b[0m     \u001b[0;32mdef\u001b[0m \u001b[0m__setitem__\u001b[0m\u001b[0;34m(\u001b[0m\u001b[0mself\u001b[0m\u001b[0;34m,\u001b[0m \u001b[0mkey\u001b[0m\u001b[0;34m,\u001b[0m \u001b[0mvalue\u001b[0m\u001b[0;34m)\u001b[0m\u001b[0;34m:\u001b[0m\u001b[0;34m\u001b[0m\u001b[0m\n\u001b[0;32m-> 3938\u001b[0;31m         \u001b[0;32mraise\u001b[0m \u001b[0mTypeError\u001b[0m\u001b[0;34m(\u001b[0m\u001b[0;34m\"Index does not support mutable operations\"\u001b[0m\u001b[0;34m)\u001b[0m\u001b[0;34m\u001b[0m\u001b[0m\n\u001b[0m\u001b[1;32m   3939\u001b[0m \u001b[0;34m\u001b[0m\u001b[0m\n\u001b[1;32m   3940\u001b[0m     \u001b[0;32mdef\u001b[0m \u001b[0m__getitem__\u001b[0m\u001b[0;34m(\u001b[0m\u001b[0mself\u001b[0m\u001b[0;34m,\u001b[0m \u001b[0mkey\u001b[0m\u001b[0;34m)\u001b[0m\u001b[0;34m:\u001b[0m\u001b[0;34m\u001b[0m\u001b[0m\n",
      "\u001b[0;31mTypeError\u001b[0m: Index does not support mutable operations"
     ]
    }
   ],
   "source": [
    "ind[1] = 0"
   ]
  },
  {
   "cell_type": "markdown",
   "metadata": {},
   "source": [
    "## 2. Exploración\n",
    "\n",
    "Vamos a analizar datos de una fuente real. Los ingresos de los funcionarios son información pública que se libera anualmente en el <a href='https://data.buenosaires.gob.ar/dataset/sueldo-funcionarios'>portal de datos abiertos</a> de GCBA.  \n",
    "\n",
    "En general los 4 primeros pasos para analizar un dataset son:\n",
    "1. Leerlo\n",
    "2. Consultar cuáles son las columnas\n",
    "3. Extraer una muestra\n",
    "4. Verificar cuántos registros tiene"
   ]
  },
  {
   "cell_type": "code",
   "execution_count": 10,
   "metadata": {},
   "outputs": [
    {
     "data": {
      "text/plain": [
       "Index(['cuil', 'anio', 'mes', 'funcionario_apellido', 'funcionario_nombre',\n",
       "       'reparticion', 'asignacion_por_cargo_i', 'aguinaldo_ii',\n",
       "       'total_salario_bruto_i_+_ii', 'observaciones'],\n",
       "      dtype='object')"
      ]
     },
     "execution_count": 10,
     "metadata": {},
     "output_type": "execute_result"
    }
   ],
   "source": [
    "df = pd.read_csv('sueldo_funcionarios_2019.csv')\n",
    "df.columns"
   ]
  },
  {
   "cell_type": "code",
   "execution_count": 11,
   "metadata": {},
   "outputs": [
    {
     "data": {
      "text/html": [
       "<div>\n",
       "<style scoped>\n",
       "    .dataframe tbody tr th:only-of-type {\n",
       "        vertical-align: middle;\n",
       "    }\n",
       "\n",
       "    .dataframe tbody tr th {\n",
       "        vertical-align: top;\n",
       "    }\n",
       "\n",
       "    .dataframe thead th {\n",
       "        text-align: right;\n",
       "    }\n",
       "</style>\n",
       "<table border=\"1\" class=\"dataframe\">\n",
       "  <thead>\n",
       "    <tr style=\"text-align: right;\">\n",
       "      <th></th>\n",
       "      <th>cuil</th>\n",
       "      <th>anio</th>\n",
       "      <th>mes</th>\n",
       "      <th>funcionario_apellido</th>\n",
       "      <th>funcionario_nombre</th>\n",
       "      <th>reparticion</th>\n",
       "      <th>asignacion_por_cargo_i</th>\n",
       "      <th>aguinaldo_ii</th>\n",
       "      <th>total_salario_bruto_i_+_ii</th>\n",
       "      <th>observaciones</th>\n",
       "    </tr>\n",
       "  </thead>\n",
       "  <tbody>\n",
       "    <tr>\n",
       "      <th>217</th>\n",
       "      <td>20-28908968-4</td>\n",
       "      <td>2019</td>\n",
       "      <td>7</td>\n",
       "      <td>COELHO CHICANO</td>\n",
       "      <td>CHRISTIAN</td>\n",
       "      <td>SS Contenidos</td>\n",
       "      <td>239470.36</td>\n",
       "      <td>0.00</td>\n",
       "      <td>239470.36</td>\n",
       "      <td>NaN</td>\n",
       "    </tr>\n",
       "    <tr>\n",
       "      <th>81</th>\n",
       "      <td>20-29751476-9</td>\n",
       "      <td>2019</td>\n",
       "      <td>3</td>\n",
       "      <td>CARRILLO</td>\n",
       "      <td>FACUNDO</td>\n",
       "      <td>SECR Atención y Gestión Ciudadana</td>\n",
       "      <td>210061.14</td>\n",
       "      <td>0.00</td>\n",
       "      <td>210061.14</td>\n",
       "      <td>NaN</td>\n",
       "    </tr>\n",
       "    <tr>\n",
       "      <th>234</th>\n",
       "      <td>20-16891528-5</td>\n",
       "      <td>2019</td>\n",
       "      <td>8</td>\n",
       "      <td>NACHON</td>\n",
       "      <td>MARCELO JORGE</td>\n",
       "      <td>SECR de Medios</td>\n",
       "      <td>256657.23</td>\n",
       "      <td>0.00</td>\n",
       "      <td>256657.23</td>\n",
       "      <td>NaN</td>\n",
       "    </tr>\n",
       "    <tr>\n",
       "      <th>192</th>\n",
       "      <td>20-25641207-2</td>\n",
       "      <td>2019</td>\n",
       "      <td>7</td>\n",
       "      <td>AVOGADRO</td>\n",
       "      <td>ENRIQUE LUIS</td>\n",
       "      <td>Ministerio de Cultura</td>\n",
       "      <td>263531.98</td>\n",
       "      <td>0.00</td>\n",
       "      <td>263531.98</td>\n",
       "      <td>NaN</td>\n",
       "    </tr>\n",
       "    <tr>\n",
       "      <th>343</th>\n",
       "      <td>27-13221055-7</td>\n",
       "      <td>2019</td>\n",
       "      <td>12</td>\n",
       "      <td>BOU PEREZ</td>\n",
       "      <td>ANA MARIA</td>\n",
       "      <td>Ministerio de Salud</td>\n",
       "      <td>82526.92</td>\n",
       "      <td>121497.97</td>\n",
       "      <td>204024.89</td>\n",
       "      <td>baja al 9/12</td>\n",
       "    </tr>\n",
       "  </tbody>\n",
       "</table>\n",
       "</div>"
      ],
      "text/plain": [
       "              cuil  anio  mes funcionario_apellido funcionario_nombre  \\\n",
       "217  20-28908968-4  2019    7       COELHO CHICANO          CHRISTIAN   \n",
       "81   20-29751476-9  2019    3             CARRILLO            FACUNDO   \n",
       "234  20-16891528-5  2019    8               NACHON      MARCELO JORGE   \n",
       "192  20-25641207-2  2019    7             AVOGADRO       ENRIQUE LUIS   \n",
       "343  27-13221055-7  2019   12            BOU PEREZ          ANA MARIA   \n",
       "\n",
       "                           reparticion  asignacion_por_cargo_i  aguinaldo_ii  \\\n",
       "217                      SS Contenidos               239470.36          0.00   \n",
       "81   SECR Atención y Gestión Ciudadana               210061.14          0.00   \n",
       "234                     SECR de Medios               256657.23          0.00   \n",
       "192              Ministerio de Cultura               263531.98          0.00   \n",
       "343                Ministerio de Salud                82526.92     121497.97   \n",
       "\n",
       "     total_salario_bruto_i_+_ii observaciones  \n",
       "217                   239470.36           NaN  \n",
       "81                    210061.14           NaN  \n",
       "234                   256657.23           NaN  \n",
       "192                   263531.98           NaN  \n",
       "343                   204024.89  baja al 9/12  "
      ]
     },
     "execution_count": 11,
     "metadata": {},
     "output_type": "execute_result"
    }
   ],
   "source": [
    "df.sample(5)"
   ]
  },
  {
   "cell_type": "code",
   "execution_count": 12,
   "metadata": {},
   "outputs": [
    {
     "data": {
      "text/plain": [
       "(385, 10)"
      ]
     },
     "execution_count": 12,
     "metadata": {},
     "output_type": "execute_result"
    }
   ],
   "source": [
    "# La propiedad shape nos devuelve una tupla (filas,columnas)\n",
    "df.shape"
   ]
  },
  {
   "cell_type": "markdown",
   "metadata": {},
   "source": [
    "## 3. Filtrando un DataFrame (Indexing)\n",
    "\n",
    "Hay muchas técnicas para filtrar un DataFrame. Podemos querer filtrar por columnas o por filas, por posición o por nombre. También podemos querer filtrar por condiciones que se cumplen o no. Cuando no queremos filtrar sobre una dimensión (filas o columnas) usamos \":\" para seleccionar todo.\n",
    "\n",
    "\n",
    "<img src='img/indexing.png' style='height:350px' />\n",
    "\n"
   ]
  },
  {
   "cell_type": "markdown",
   "metadata": {},
   "source": [
    "## 3.1 Boolean Indexing\n",
    "\n",
    "Vamos a tomar el dataset de funcionarios y quedarnos únicamente con los que pertenecen al Ministerio de Cultura."
   ]
  },
  {
   "cell_type": "code",
   "execution_count": 13,
   "metadata": {},
   "outputs": [],
   "source": [
    "df_min_cul = df.loc[df['reparticion'] == 'Ministerio de Cultura',:]"
   ]
  },
  {
   "cell_type": "code",
   "execution_count": 14,
   "metadata": {},
   "outputs": [
    {
     "data": {
      "text/plain": [
       "(12, 10)"
      ]
     },
     "execution_count": 14,
     "metadata": {},
     "output_type": "execute_result"
    }
   ],
   "source": [
    "# Veamos la cantidad de casos\n",
    "df_min_cul.shape"
   ]
  },
  {
   "cell_type": "markdown",
   "metadata": {},
   "source": [
    "Algo que puede llegar a confundir sobre el Indexing en Pandas es que en algunos casos se puede ser menos explícito a la hora de filtrar. Por ejemplo si ponemos una condición Booleana, pandas asume que el tipo de indexing es loc y que el filtro es sobre las filas y no sobre las columnas:\n"
   ]
  },
  {
   "cell_type": "code",
   "execution_count": 17,
   "metadata": {},
   "outputs": [],
   "source": [
    "df_min_cul = df[df['reparticion'] == 'Ministerio de Cultura']['']"
   ]
  },
  {
   "cell_type": "code",
   "execution_count": 18,
   "metadata": {},
   "outputs": [
    {
     "data": {
      "text/plain": [
       "(12, 10)"
      ]
     },
     "execution_count": 18,
     "metadata": {},
     "output_type": "execute_result"
    }
   ],
   "source": [
    "df_min_cul.shape"
   ]
  },
  {
   "cell_type": "markdown",
   "metadata": {},
   "source": [
    "## 3.2 Fancy Indexing\n",
    "\n",
    "Ahora vamos a quedarnos con un subconjunto de columnas del DataFrame."
   ]
  },
  {
   "cell_type": "code",
   "execution_count": 19,
   "metadata": {},
   "outputs": [],
   "source": [
    "df_view = df.loc[:,['anio','mes']]"
   ]
  },
  {
   "cell_type": "code",
   "execution_count": 20,
   "metadata": {},
   "outputs": [
    {
     "data": {
      "text/plain": [
       "(385, 2)"
      ]
     },
     "execution_count": 20,
     "metadata": {},
     "output_type": "execute_result"
    }
   ],
   "source": [
    "df_view.shape"
   ]
  },
  {
   "cell_type": "markdown",
   "metadata": {},
   "source": [
    "Existe una forma menos explícita de hacer esta misma operación. Si pasamos una lista al indexing, pandas asume que el tipo de indexing es loc y que el filtro es sobre las columnas y no las filas:"
   ]
  },
  {
   "cell_type": "code",
   "execution_count": 21,
   "metadata": {},
   "outputs": [],
   "source": [
    "df_view = df[['anio','mes']]"
   ]
  },
  {
   "cell_type": "code",
   "execution_count": 22,
   "metadata": {},
   "outputs": [
    {
     "data": {
      "text/plain": [
       "(385, 2)"
      ]
     },
     "execution_count": 22,
     "metadata": {},
     "output_type": "execute_result"
    }
   ],
   "source": [
    "df_view.shape"
   ]
  },
  {
   "cell_type": "markdown",
   "metadata": {},
   "source": [
    "## 4 Funciones de Agregación\n",
    "\n",
    "Utilizando Pandas podemos aplicar funciones a nivel de columna. Algunas funciones predefinidas son la media, el desvío estándar y la sumatoria, el valor máximo y el mínimo\n",
    "\n"
   ]
  },
  {
   "cell_type": "code",
   "execution_count": 23,
   "metadata": {},
   "outputs": [
    {
     "data": {
      "text/plain": [
       "12"
      ]
     },
     "execution_count": 23,
     "metadata": {},
     "output_type": "execute_result"
    }
   ],
   "source": [
    "df['mes'].max()"
   ]
  },
  {
   "cell_type": "code",
   "execution_count": 24,
   "metadata": {},
   "outputs": [
    {
     "data": {
      "text/plain": [
       "234234.3679999999"
      ]
     },
     "execution_count": 24,
     "metadata": {},
     "output_type": "execute_result"
    }
   ],
   "source": [
    "df['asignacion_por_cargo_i'].mean()"
   ]
  },
  {
   "cell_type": "code",
   "execution_count": 25,
   "metadata": {},
   "outputs": [
    {
     "data": {
      "text/plain": [
       "35043.16008466176"
      ]
     },
     "execution_count": 25,
     "metadata": {},
     "output_type": "execute_result"
    }
   ],
   "source": [
    "df['asignacion_por_cargo_i'].std()"
   ]
  },
  {
   "cell_type": "code",
   "execution_count": 26,
   "metadata": {},
   "outputs": [
    {
     "data": {
      "text/plain": [
       "97988834.36000001"
      ]
     },
     "execution_count": 26,
     "metadata": {},
     "output_type": "execute_result"
    }
   ],
   "source": [
    "df['total_salario_bruto_i_+_ii'].sum()"
   ]
  },
  {
   "cell_type": "markdown",
   "metadata": {},
   "source": [
    "Podemos combinar los filtros que vimos antes con las funciones de agregación para responder preguntas cómo ¿Cuál fue en gasto en asignaciones de funcionarios para la Secretaría de Medios 2019? ¿Y para la de Justicia y Seguridad?"
   ]
  },
  {
   "cell_type": "code",
   "execution_count": 43,
   "metadata": {},
   "outputs": [
    {
     "data": {
      "text/plain": [
       "3232402.25"
      ]
     },
     "execution_count": 43,
     "metadata": {},
     "output_type": "execute_result"
    }
   ],
   "source": [
    "df[df['reparticion'] == 'SECR de Medios']['total_salario_bruto_i_+_ii'].sum()"
   ]
  },
  {
   "cell_type": "code",
   "execution_count": 44,
   "metadata": {},
   "outputs": [
    {
     "data": {
      "text/plain": [
       "3029551.7300000004"
      ]
     },
     "execution_count": 44,
     "metadata": {},
     "output_type": "execute_result"
    }
   ],
   "source": [
    "df[df['reparticion'] == 'SECR Justicia y Seguridad']['total_salario_bruto_i_+_ii'].sum()"
   ]
  },
  {
   "cell_type": "markdown",
   "metadata": {},
   "source": [
    "## 5 Otros análisis descriptivos\n",
    "\n",
    "Pandas viene con algunas funciones built-in para ayudar al análisis descriptivo.\n",
    "\n",
    "### 5.1 Para las variables numéricas"
   ]
  },
  {
   "cell_type": "code",
   "execution_count": 39,
   "metadata": {},
   "outputs": [
    {
     "data": {
      "text/html": [
       "<div>\n",
       "<style scoped>\n",
       "    .dataframe tbody tr th:only-of-type {\n",
       "        vertical-align: middle;\n",
       "    }\n",
       "\n",
       "    .dataframe tbody tr th {\n",
       "        vertical-align: top;\n",
       "    }\n",
       "\n",
       "    .dataframe thead th {\n",
       "        text-align: right;\n",
       "    }\n",
       "</style>\n",
       "<table border=\"1\" class=\"dataframe\">\n",
       "  <thead>\n",
       "    <tr style=\"text-align: right;\">\n",
       "      <th></th>\n",
       "      <th>anio</th>\n",
       "      <th>mes</th>\n",
       "      <th>asignacion_por_cargo_i</th>\n",
       "      <th>aguinaldo_ii</th>\n",
       "      <th>total_salario_bruto_i_+_ii</th>\n",
       "    </tr>\n",
       "  </thead>\n",
       "  <tbody>\n",
       "    <tr>\n",
       "      <th>count</th>\n",
       "      <td>385.0</td>\n",
       "      <td>385.000000</td>\n",
       "      <td>385.000000</td>\n",
       "      <td>385.000000</td>\n",
       "      <td>385.000000</td>\n",
       "    </tr>\n",
       "    <tr>\n",
       "      <th>mean</th>\n",
       "      <td>2019.0</td>\n",
       "      <td>6.631169</td>\n",
       "      <td>234234.368000</td>\n",
       "      <td>20282.084883</td>\n",
       "      <td>254516.452883</td>\n",
       "    </tr>\n",
       "    <tr>\n",
       "      <th>std</th>\n",
       "      <td>0.0</td>\n",
       "      <td>3.539077</td>\n",
       "      <td>35043.160085</td>\n",
       "      <td>45248.840725</td>\n",
       "      <td>51434.987870</td>\n",
       "    </tr>\n",
       "    <tr>\n",
       "      <th>min</th>\n",
       "      <td>2019.0</td>\n",
       "      <td>1.000000</td>\n",
       "      <td>74991.860000</td>\n",
       "      <td>0.000000</td>\n",
       "      <td>185396.540000</td>\n",
       "    </tr>\n",
       "    <tr>\n",
       "      <th>25%</th>\n",
       "      <td>2019.0</td>\n",
       "      <td>4.000000</td>\n",
       "      <td>224516.620000</td>\n",
       "      <td>0.000000</td>\n",
       "      <td>224516.620000</td>\n",
       "    </tr>\n",
       "    <tr>\n",
       "      <th>50%</th>\n",
       "      <td>2019.0</td>\n",
       "      <td>7.000000</td>\n",
       "      <td>239470.360000</td>\n",
       "      <td>0.000000</td>\n",
       "      <td>245811.620000</td>\n",
       "    </tr>\n",
       "    <tr>\n",
       "      <th>75%</th>\n",
       "      <td>2019.0</td>\n",
       "      <td>10.000000</td>\n",
       "      <td>249972.870000</td>\n",
       "      <td>0.000000</td>\n",
       "      <td>263531.980000</td>\n",
       "    </tr>\n",
       "    <tr>\n",
       "      <th>max</th>\n",
       "      <td>2019.0</td>\n",
       "      <td>12.000000</td>\n",
       "      <td>275089.750000</td>\n",
       "      <td>170855.560000</td>\n",
       "      <td>445945.310000</td>\n",
       "    </tr>\n",
       "  </tbody>\n",
       "</table>\n",
       "</div>"
      ],
      "text/plain": [
       "         anio         mes  asignacion_por_cargo_i   aguinaldo_ii  \\\n",
       "count   385.0  385.000000              385.000000     385.000000   \n",
       "mean   2019.0    6.631169           234234.368000   20282.084883   \n",
       "std       0.0    3.539077            35043.160085   45248.840725   \n",
       "min    2019.0    1.000000            74991.860000       0.000000   \n",
       "25%    2019.0    4.000000           224516.620000       0.000000   \n",
       "50%    2019.0    7.000000           239470.360000       0.000000   \n",
       "75%    2019.0   10.000000           249972.870000       0.000000   \n",
       "max    2019.0   12.000000           275089.750000  170855.560000   \n",
       "\n",
       "       total_salario_bruto_i_+_ii  \n",
       "count                  385.000000  \n",
       "mean                254516.452883  \n",
       "std                  51434.987870  \n",
       "min                 185396.540000  \n",
       "25%                 224516.620000  \n",
       "50%                 245811.620000  \n",
       "75%                 263531.980000  \n",
       "max                 445945.310000  "
      ]
     },
     "execution_count": 39,
     "metadata": {},
     "output_type": "execute_result"
    }
   ],
   "source": [
    "df.describe()"
   ]
  },
  {
   "cell_type": "markdown",
   "metadata": {},
   "source": [
    "### 5.2 Para las variables categóricas\n"
   ]
  },
  {
   "cell_type": "code",
   "execution_count": 41,
   "metadata": {},
   "outputs": [
    {
     "data": {
      "text/plain": [
       "SECR Desarrollo Ciudadano                                         13\n",
       "SECR Justicia y Seguridad                                         13\n",
       "Ministerio de Salud                                               13\n",
       "SECR de Medios                                                    13\n",
       "SS Contenidos                                                     12\n",
       "Jefatura de Gabinete de Ministros                                 12\n",
       "SECR Integración Social y Urbana                                  12\n",
       "Ministerio de Desarrollo Urbano y Transporte                      12\n",
       "Vicejefatura de Gobierno                                          12\n",
       "Jefe de Gobierno                                                  12\n",
       "SECR Legal y Técnica                                              12\n",
       "SECR Administración de Seguridad y Emergencias                    12\n",
       "Ministerio de Gobierno                                            12\n",
       "UPE Transferencia de Funciones y Facultades en Materia de Seg.    12\n",
       "Ministerio de Cultura                                             12\n",
       "SECR Integración Social Para Personas Mayores                     12\n",
       "Consejo de los Derechos de Niñas, Niños y Adoles - Presidencia    12\n",
       "Procuración General de la Ciudad de Buenos Aires                  12\n",
       "SS Comunicacion                                                   12\n",
       "Sindicatura General de la Ciudad de Buenos Aires                  12\n",
       "Ente de Turismo Ley Nº 2627                                       12\n",
       "SECR Planificación, Evaluación y Coordinación de Gestión          12\n",
       "SECR Transporte                                                   11\n",
       "SECR Coordinación General                                         11\n",
       "SECR Atención y Gestión Ciudadana                                 11\n",
       "Ministerio de Economía y Finanzas                                 11\n",
       "Ministerio de Ambiente y Espacio Público                          11\n",
       "SECR Cultura Ciudadana y Función Pública                          11\n",
       "Ministerio de Educación e Innovación                              11\n",
       "Ministerio de Hábitat y Desarrollo Humano                         11\n",
       "SECR General y de Relaciones Internacionales                      11\n",
       "Ministerio de Espacio Público e Higiene Urbana                     2\n",
       "Ministerio de Desarrollo Humano y Hábitat                          2\n",
       "SECR Ciencia, Tecnologia e Innovacion                              2\n",
       "SECR Desarrollo Urbano                                             1\n",
       "SECR Comunicación, Contenidos y Participación Ciudadana            1\n",
       "SECR Asuntos Estratégicos                                          1\n",
       "Ministerio de Educación                                            1\n",
       "SECR Transformación Cultural                                       1\n",
       "SECR Ambiente                                                      1\n",
       "SECR Atención Ciudadana y Gestión Comunal                          1\n",
       "SECR General y Relaciones Internacionales                          1\n",
       "SECR Transporte y Obras Públicas                                   1\n",
       "SECR Innovación y Transformación Digital                           1\n",
       "Ministerio de Hacienda y Finanzas                                  1\n",
       "Ministerio de Desarrollo Económico y Producción                    1\n",
       "Name: reparticion, dtype: int64"
      ]
     },
     "execution_count": 41,
     "metadata": {},
     "output_type": "execute_result"
    }
   ],
   "source": [
    "df['reparticion'].value_counts()"
   ]
  },
  {
   "cell_type": "markdown",
   "metadata": {},
   "source": [
    "# Anexo: volviendo al tema de la vectorización\n",
    "\n",
    "¿Por qué es tan importante trabajar con Pandas y no con funciones escritas por nosotros en Python nativo y que procesen los datos dentro de un for loop?\n",
    "\n",
    "Por un lado está la comodidad. Hay mucha funcionalidad que ya está desarrollada en Pandas. Existen funciones que resuelven muchos de los problemas clásicos de manipular datos: agrupar, sumarizar, sacar estadísticas, filtrar, etc. Pero además hay una razón de performance. \n",
    "\n",
    "Veamos una demostración de que vectorizar es más eficiente. Vamos a crear dos listas de 1.000.000 de números aleatorios cada una y vamos a tratar de multiplicar elemento por elemento con pandas y sin pandas:\n",
    "\n"
   ]
  },
  {
   "cell_type": "code",
   "execution_count": 45,
   "metadata": {},
   "outputs": [],
   "source": [
    "lista1 = list(np.random.randint(1, 100, 1000000))\n",
    "lista2 = list(np.random.randint(1, 100, 1000000))"
   ]
  },
  {
   "cell_type": "code",
   "execution_count": 46,
   "metadata": {},
   "outputs": [
    {
     "name": "stdout",
     "output_type": "stream",
     "text": [
      "69.6 ms ± 1.65 ms per loop (mean ± std. dev. of 7 runs, 10 loops each)\n"
     ]
    }
   ],
   "source": [
    "%%timeit \n",
    "for x,y in zip(lista1,lista2):\n",
    "    x * y"
   ]
  },
  {
   "cell_type": "markdown",
   "metadata": {},
   "source": [
    "Ahora probemos hacer lo mismo con dos series de Pandas"
   ]
  },
  {
   "cell_type": "code",
   "execution_count": 47,
   "metadata": {},
   "outputs": [],
   "source": [
    "serie1 = pd.Series(lista1)\n",
    "serie2 = pd.Series(lista2)"
   ]
  },
  {
   "cell_type": "code",
   "execution_count": 48,
   "metadata": {},
   "outputs": [
    {
     "name": "stdout",
     "output_type": "stream",
     "text": [
      "954 µs ± 17.1 µs per loop (mean ± std. dev. of 7 runs, 1000 loops each)\n"
     ]
    }
   ],
   "source": [
    "%%timeit \n",
    "resultado = serie1 * serie2"
   ]
  },
  {
   "cell_type": "markdown",
   "metadata": {},
   "source": [
    "Conclusión: la operación vectorizada es <strong> más de 70 veces más rápida.</strong>"
   ]
  }
 ],
 "metadata": {
  "kernelspec": {
   "display_name": "conda_python3",
   "language": "python",
   "name": "conda_python3"
  },
  "language_info": {
   "codemirror_mode": {
    "name": "ipython",
    "version": 3
   },
   "file_extension": ".py",
   "mimetype": "text/x-python",
   "name": "python",
   "nbconvert_exporter": "python",
   "pygments_lexer": "ipython3",
   "version": "3.6.5"
  }
 },
 "nbformat": 4,
 "nbformat_minor": 4
}
