{
 "cells": [
  {
   "cell_type": "markdown",
   "metadata": {
    "id": "Gt28B2slcUJe"
   },
   "source": [
    "## Pandas: agrupación y agregación\n",
    "Para esta práctica usaremos los datos abiertos de CABA, a partir de un relevamiento muestral de los avisos publicados para la venta de departamentos en el año 2020. "
   ]
  },
  {
   "cell_type": "markdown",
   "metadata": {
    "id": "2A85Gdo3cb5N"
   },
   "source": [
    "https://data.buenosaires.gob.ar/dataset/terrenos-valor-oferta"
   ]
  },
  {
   "cell_type": "code",
   "execution_count": null,
   "metadata": {
    "id": "QlD-3ohYcUJf"
   },
   "outputs": [],
   "source": [
    "import numpy as np\n",
    "import pandas as pd\n",
    "\n",
    "pd.set_option('display.float_format', lambda x: '%.5f' % x)"
   ]
  },
  {
   "cell_type": "code",
   "execution_count": null,
   "metadata": {
    "id": "IzuED1DUcUJg"
   },
   "outputs": [],
   "source": [
    "df = pd.read_csv(\"Terrenos-en-venta-2020.csv\", encoding = \"latin1\", sep=\",\")"
   ]
  },
  {
   "cell_type": "markdown",
   "metadata": {
    "id": "QU0P2xFnEERq"
   },
   "source": [
    "Hacer un primer análisis del dataset y analizar nulos."
   ]
  },
  {
   "cell_type": "markdown",
   "metadata": {
    "id": "eDrWZhRIcUJh"
   },
   "source": [
    "### Ejercicio 1. \n",
    "¿Cuál es el precio medio del metro cuadrado en la Ciudad de Buenos Aires?"
   ]
  },
  {
   "cell_type": "code",
   "execution_count": null,
   "metadata": {
    "id": "ZpBQt6NltrOe"
   },
   "outputs": [],
   "source": []
  },
  {
   "cell_type": "markdown",
   "metadata": {
    "id": "9NG0wlT1cUJi"
   },
   "source": [
    "### Ejercicio 2. \n",
    "a) Dividir las propiedades por cuartiles de precios en dólares. "
   ]
  },
  {
   "cell_type": "code",
   "execution_count": null,
   "metadata": {
    "id": "EXHzAIygEL--"
   },
   "outputs": [],
   "source": []
  },
  {
   "cell_type": "markdown",
   "metadata": {
    "id": "DyeOsP1sEPLS"
   },
   "source": [
    "\n",
    "b) ¿Cuáles son los barrios con más domicilios en venta dentro del cuartil más barato de CABA? \n",
    "\n",
    "Usar pivot_table"
   ]
  },
  {
   "cell_type": "code",
   "execution_count": null,
   "metadata": {
    "id": "Tm30_hbfEQVQ"
   },
   "outputs": [],
   "source": []
  },
  {
   "cell_type": "markdown",
   "metadata": {
    "id": "KVn9srIAMnKH"
   },
   "source": [
    "¿Y usando groupby?"
   ]
  },
  {
   "cell_type": "code",
   "execution_count": null,
   "metadata": {
    "id": "gd3P5btrERAM"
   },
   "outputs": [],
   "source": []
  },
  {
   "cell_type": "markdown",
   "metadata": {
    "id": "N1PnJFQhQchP"
   },
   "source": [
    "¿Hay otra forma más sencilla?"
   ]
  },
  {
   "cell_type": "code",
   "execution_count": null,
   "metadata": {
    "id": "dSQuir9kERik"
   },
   "outputs": [],
   "source": []
  },
  {
   "cell_type": "markdown",
   "metadata": {
    "id": "LJOWVYXHcUJi"
   },
   "source": [
    "### Ejercicio 3. \n",
    "¿Se puede calcular el tamaño de las propiedades? \n",
    "\n",
    "¿Cuál sería el precio promedio de las propiedades para cada decil, según metros cuadrados? "
   ]
  },
  {
   "cell_type": "code",
   "execution_count": null,
   "metadata": {
    "id": "ncLUydWKESJF"
   },
   "outputs": [],
   "source": []
  },
  {
   "cell_type": "markdown",
   "metadata": {
    "id": "yCb8iB8ccUJj"
   },
   "source": [
    "### Ejercicio 4.\n",
    "\n",
    "¿Cuáles son los barrios más caros en términos de precios por metro cuadrado? ¿Y los más baratos? \n"
   ]
  },
  {
   "cell_type": "code",
   "execution_count": null,
   "metadata": {
    "id": "ADtRltFbESnC"
   },
   "outputs": [],
   "source": []
  },
  {
   "cell_type": "markdown",
   "metadata": {
    "id": "dZSN4oBISbgT"
   },
   "source": [
    "### Ejercicio 5\n",
    "\n",
    "Dado el siguiente DataFrame con departamentos en venta en CABA en 2019: https://data.buenosaires.gob.ar/dataset/terrenos-valor-oferta/resource/c9a6fed8-da1d-460e-92a8-e0213d68f59c\n",
    "\n",
    "¿Qué porcentaje de propiedades que estaban en venta durante 2019 siguieron estando en 2020?"
   ]
  },
  {
   "cell_type": "code",
   "execution_count": null,
   "metadata": {
    "id": "4AMM1jC2XbNE"
   },
   "outputs": [],
   "source": []
  },
  {
   "cell_type": "markdown",
   "metadata": {
    "id": "if0eJP2MH4Qz"
   },
   "source": [
    "¿Qué modificaciones habría que hacer para encontrar más coincidencias? ¿Qué consideraciones habría que tomar a la hora de analizar el resultado?"
   ]
  },
  {
   "cell_type": "code",
   "execution_count": null,
   "metadata": {
    "id": "u0oARV0yIRS5"
   },
   "outputs": [],
   "source": []
  }
 ],
 "metadata": {
  "colab": {
   "provenance": []
  },
  "kernelspec": {
   "display_name": "Python 3",
   "language": "python",
   "name": "python3"
  },
  "language_info": {
   "codemirror_mode": {
    "name": "ipython",
    "version": 3
   },
   "file_extension": ".py",
   "mimetype": "text/x-python",
   "name": "python",
   "nbconvert_exporter": "python",
   "pygments_lexer": "ipython3",
   "version": "3.6.8"
  }
 },
 "nbformat": 4,
 "nbformat_minor": 0
}
