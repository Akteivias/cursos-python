{
  "cells": [
    {
      "cell_type": "markdown",
      "metadata": {
        "id": "wFrYI3ibcz2G"
      },
      "source": [
        "<a href=\"https://colab.research.google.com/github/institutohumai/cursos-python/blob/master/AnalisisDeDatos/3_Agrupacion_y_Agregacion/agrupacion_agregacion_2.ipynb\"> <img src='https://colab.research.google.com/assets/colab-badge.svg' /> </a>\n",
        "<div align=\"center\"> Recordá abrir en una nueva pestaña </div>"
      ]
    },
    {
      "cell_type": "markdown",
      "metadata": {
        "id": "zCWCM6-wcv-i"
      },
      "source": [
        "# Pandas Agrupación y Agregación II"
      ]
    },
    {
      "cell_type": "markdown",
      "metadata": {
        "id": "8D279AFGy52z"
      },
      "source": [
        "---\n",
        "# Hack para visualizar mas comodamente 🤓\n"
      ]
    },
    {
      "cell_type": "code",
      "execution_count": null,
      "metadata": {
        "id": "tMmmKAivy9zk"
      },
      "outputs": [],
      "source": [
        "class display(object):\n",
        "    \"\"\"Display HTML representation of multiple objects\"\"\"\n",
        "    template = \"\"\"<div style=\"float: left; padding: 20px;\">\n",
        "    <p style='font-family:\"Courier New\", Courier, monospace'><strong>{0}</strong></p>{1}\n",
        "    </div>\"\"\"\n",
        "    def __init__(self, *args):\n",
        "        self.args = args\n",
        "\n",
        "    def _repr_html_(self):\n",
        "        return '\\n'.join(self.template.format(a, eval(a)._repr_html_()) for a in self.args)\n",
        "\n",
        "    def __repr__(self):\n",
        "        return '\\n\\n'.join(a + '\\n' + repr(eval(a)) for a in self.args)"
      ]
    },
    {
      "cell_type": "code",
      "execution_count": null,
      "metadata": {
        "id": "yUx1aFs70cqW"
      },
      "outputs": [],
      "source": [
        "import pandas as pd\n",
        "\n",
        "df1 = pd.DataFrame({\"col1\": [1,2,3,4], \"col2\": list(\"abcd\")})\n",
        "df2 = pd.DataFrame({\"col3\": [55,12,7668,31,123], \"col4\": [\"aasd\", \"akjsdh\", \"lakjsdf\", \"kjasdlk\", \"lkzdj\"]})"
      ]
    },
    {
      "cell_type": "code",
      "execution_count": null,
      "metadata": {
        "id": "kTjrbaA3081l"
      },
      "outputs": [],
      "source": [
        "display(\"df1\", \"df2\")"
      ]
    },
    {
      "cell_type": "markdown",
      "metadata": {
        "id": "g6jk7GzhPDF3"
      },
      "source": [
        "---\n",
        "# Acerca del dataset cammesa-renovable-energies 🧐\n"
      ]
    },
    {
      "cell_type": "markdown",
      "metadata": {
        "id": "G1qtlSIPQGmk"
      },
      "source": [
        "https://cammesaweb.cammesa.com/erenovables/\n",
        "\n",
        "COMPAÑÍA ADMINISTRADORA DEL MERCADO MAYORISTA ELECTRICO SOCIEDAD ANÓNIMA (CAMMESA)\n",
        "\n",
        "La Base de Datos contiene información relativa a la generación de energía eléctrica proveniente de fuentes renovables de energía en relación al RÉGIMEN DE FOMENTO NACIONAL PARA EL USO DE FUENTES RENOVABLES DE ENERGÍA DESTINADA A LA PRODUCCIÓN DE ENERGÍA ELÉCTRICA, sancionado a través de la Ley N° 26.190\n",
        "\n",
        "La Base de Datos es de paso mensual, desde Enero 2011, conteniendo los siguientes campos:\n",
        "\n",
        "a) Central / máquina por región del país;\n",
        "\n",
        "b) Tipo de fuente de energía renovable (Hidro < 50 MW; Eólico, Solar, Biomasa, Biodiesel)\n",
        "\n",
        "c) Energía Generada (GWh)\n",
        "\n",
        "d) Demanda total MEM (GWh)"
      ]
    },
    {
      "cell_type": "markdown",
      "metadata": {
        "id": "_YOrXSRA1Ux6"
      },
      "source": [
        "---\n",
        "# Descargamos el dataset de kaggle 📊"
      ]
    },
    {
      "cell_type": "code",
      "execution_count": null,
      "metadata": {
        "id": "VcIenSXmvAM-"
      },
      "outputs": [],
      "source": [
        "def download_kaggle_dataset_to_colab_instance(api_command_from_kaggle: str, json_content: str) -> None:\n",
        "    \"\"\"\n",
        "    descarga un dataset de la base de datasets de kaggle y lo guarda en la instancia de google colab activa.\n",
        "\n",
        "    args: \n",
        "        api_command_from_kaggle: es la linea de api que genera kaggle sobre el dataset, se consigue en las opciones del dataset.\n",
        "        json_content: es el contenido del json que genera Kaggle cuando se genera una API TOKEN.\n",
        "    \n",
        "    \"\"\"\n",
        "    from zipfile import ZipFile\n",
        "    ! pip install kaggle\n",
        "    ! mkdir /root/.kaggle/\n",
        "    with open(\"/root/.kaggle/kaggle.json\", \"w\") as token:\n",
        "        token.write(json_content)\n",
        "    ! chmod 600 /root/.kaggle/kaggle.json\n",
        "    ! kaggle config path -p /root/.kaggle/\n",
        "    ! $api_command_from_kaggle\n",
        "    name = f\"{api_command_from_kaggle.split('/')[-1]}.zip\"\n",
        "    zip_ref = ZipFile(f\"/content/{name}\")\n",
        "    zip_ref.extractall()\n",
        "    zip_ref.close()\n",
        "    ! rm $name\n"
      ]
    },
    {
      "cell_type": "code",
      "execution_count": null,
      "metadata": {
        "id": "c3Nj1Ef6v1lS"
      },
      "outputs": [],
      "source": [
        "download_kaggle_dataset_to_colab_instance(\"kaggle datasets download -d ccollado7/alternative-energies-argentina\", '{\"username\":\"charlymolero\",\"key\":\"1d6b921759c70f37b628bb3d636a143a\"}')"
      ]
    },
    {
      "cell_type": "markdown",
      "metadata": {
        "id": "O2QrEW8s1dhz"
      },
      "source": [
        "---\n",
        "# Ahora usamos el dataset 😎"
      ]
    },
    {
      "cell_type": "code",
      "execution_count": null,
      "metadata": {
        "id": "_cCcT2HzzDMR"
      },
      "outputs": [],
      "source": [
        "import numpy as np\n",
        "import pandas as pd\n",
        "import plotly.express as px"
      ]
    },
    {
      "cell_type": "code",
      "execution_count": null,
      "metadata": {
        "id": "2_eM6lmG1QhV"
      },
      "outputs": [],
      "source": [
        "df = pd.read_csv(\"/content/energias-alternativas.csv\", encoding=\"unicode_escape\", engine=\"python\")"
      ]
    },
    {
      "cell_type": "code",
      "execution_count": null,
      "metadata": {
        "id": "Vzc6LSpfQS9Q"
      },
      "outputs": [],
      "source": [
        "df.head()"
      ]
    },
    {
      "cell_type": "code",
      "execution_count": null,
      "metadata": {
        "id": "4VeiktZ51sQp"
      },
      "outputs": [],
      "source": [
        "df.info()"
      ]
    },
    {
      "cell_type": "code",
      "execution_count": null,
      "metadata": {
        "id": "rph4r8OR1884"
      },
      "outputs": [],
      "source": [
        "df.head()"
      ]
    },
    {
      "cell_type": "markdown",
      "metadata": {
        "id": "M5KNQI8f5NFj"
      },
      "source": [
        "---\n",
        "# Analicemos la Generación de energia para cada tipo de energia alternativa en argentina (suma)."
      ]
    },
    {
      "cell_type": "code",
      "execution_count": null,
      "metadata": {
        "id": "9XEaLdDw1-ZH"
      },
      "outputs": [],
      "source": [
        "df.actividad_producto_nombre.value_counts()"
      ]
    },
    {
      "cell_type": "code",
      "execution_count": null,
      "metadata": {
        "id": "_JOEjHOm3bIe"
      },
      "outputs": [],
      "source": [
        "df.indicador.value_counts()"
      ]
    },
    {
      "cell_type": "code",
      "execution_count": null,
      "metadata": {
        "id": "sGDnmE524ekt"
      },
      "outputs": [],
      "source": [
        "df.unidad_de_medida.value_counts()"
      ]
    },
    {
      "cell_type": "code",
      "execution_count": null,
      "metadata": {
        "id": "yXHo-fPL2Q1f"
      },
      "outputs": [],
      "source": [
        "generacion_por_energia = df[df[\"indicador\"] == \"Generación\"].groupby(\"actividad_producto_nombre\").aggregate({\"valor\": \"sum\"}).sort_values(by=[\"valor\"], ascending=False).reset_index()"
      ]
    },
    {
      "cell_type": "code",
      "execution_count": null,
      "metadata": {
        "id": "ByGiItVY7A_X"
      },
      "outputs": [],
      "source": [
        "generacion_por_energia"
      ]
    },
    {
      "cell_type": "code",
      "execution_count": null,
      "metadata": {
        "id": "7gEMnTg7C7Vv"
      },
      "outputs": [],
      "source": [
        "fig = px.bar(x = generacion_por_energia.actividad_producto_nombre, y = generacion_por_energia.valor)\n",
        "fig.update_xaxes(type='category')\n",
        "fig.update_layout(\n",
        "    xaxis_title=\"Energia Alternativa\",\n",
        "    yaxis_title=\"Generación (MWh)\",\n",
        ")\n",
        "fig.show()"
      ]
    },
    {
      "cell_type": "markdown",
      "metadata": {
        "id": "m6iqEl3F5XNj"
      },
      "source": [
        "---\n",
        "# Analicemos la Generación en cada provincia (suma)."
      ]
    },
    {
      "cell_type": "code",
      "execution_count": null,
      "metadata": {
        "id": "VPzonBM24UJo"
      },
      "outputs": [],
      "source": [
        "df.head()"
      ]
    },
    {
      "cell_type": "code",
      "execution_count": null,
      "metadata": {
        "id": "twwVOJo4zVwb"
      },
      "outputs": [],
      "source": [
        "df[df['indicador'] == \"Generación\"].groupby(\"alcance_nombre\").aggregate({\"valor\": \"sum\"})"
      ]
    },
    {
      "cell_type": "code",
      "execution_count": null,
      "metadata": {
        "id": "vLtQ-3DHEbcZ"
      },
      "outputs": [],
      "source": [
        "energia_por_provincia = df[df['indicador'] == \"Generación\"].groupby(\"alcance_nombre\").aggregate({\"valor\": \"sum\"}).sort_values(by=[\"valor\"]).reset_index()"
      ]
    },
    {
      "cell_type": "code",
      "execution_count": null,
      "metadata": {
        "id": "O8eVUhyT7vfT"
      },
      "outputs": [],
      "source": [
        "energia_por_provincia"
      ]
    },
    {
      "cell_type": "code",
      "execution_count": null,
      "metadata": {
        "id": "xEQjFse1FQmU"
      },
      "outputs": [],
      "source": [
        "fig = px.bar(x = energia_por_provincia.alcance_nombre, y = energia_por_provincia.valor)\n",
        "fig.update_xaxes(type='category')\n",
        "fig.update_layout(\n",
        "    xaxis_title=\"Provincia\",\n",
        "    yaxis_title=\"Generación (MWh)\",\n",
        ")\n",
        "fig.show()"
      ]
    },
    {
      "cell_type": "markdown",
      "metadata": {
        "id": "swEkyyqGFxXU"
      },
      "source": [
        "---\n",
        "# Analicemos los tipos de energia en cada provincia (conteo y multiindex)"
      ]
    },
    {
      "cell_type": "code",
      "execution_count": null,
      "metadata": {
        "id": "o78kRQWjFw0h"
      },
      "outputs": [],
      "source": [
        "df.head()"
      ]
    },
    {
      "cell_type": "code",
      "execution_count": null,
      "metadata": {
        "id": "CRhBmgLN0j_R"
      },
      "outputs": [],
      "source": []
    },
    {
      "cell_type": "code",
      "execution_count": null,
      "metadata": {
        "id": "3QVPC_APGDAL"
      },
      "outputs": [],
      "source": [
        "df_prov = df[df[\"indicador\"] == \"Generación\"].groupby([\"alcance_nombre\", \"actividad_producto_nombre\"]).aggregate({\"valor\": [\"size\", \"sum\"]})"
      ]
    },
    {
      "cell_type": "code",
      "execution_count": null,
      "metadata": {
        "id": "KSZWrp7C2V2T"
      },
      "outputs": [],
      "source": []
    },
    {
      "cell_type": "markdown",
      "metadata": {
        "id": "3kZaEN0FHyCS"
      },
      "source": [
        "---\n",
        "# Analicemos la generación de energia por año y mes (suma, multindex, group con datetimes y unstack)"
      ]
    },
    {
      "cell_type": "markdown",
      "metadata": {
        "id": "lf09SCWDM3R3"
      },
      "source": [
        "### usando la columna tal y como viene (en object -> str)"
      ]
    },
    {
      "cell_type": "code",
      "execution_count": null,
      "metadata": {
        "id": "oaJbkoShH4SA"
      },
      "outputs": [],
      "source": [
        "df.head()"
      ]
    },
    {
      "cell_type": "code",
      "execution_count": null,
      "metadata": {
        "id": "GBZ1NnkF3Ysn"
      },
      "outputs": [],
      "source": [
        "df.indice_tiempo.str.split(\"-\", expand = True)[1]"
      ]
    },
    {
      "cell_type": "code",
      "execution_count": null,
      "metadata": {
        "id": "GUZVl1UxH7SH"
      },
      "outputs": [],
      "source": [
        "df[\"year\"] = df.indice_tiempo.str.split(\"-\", expand = True)[0]\n",
        "df[\"month\"] = df.indice_tiempo.str.split(\"-\", expand = True)[1]"
      ]
    },
    {
      "cell_type": "code",
      "execution_count": null,
      "metadata": {
        "id": "w1lf6wwcIaHU"
      },
      "outputs": [],
      "source": [
        "df[df[\"indicador\"] == \"Generación\"].groupby([\"year\", \"month\"]).aggregate({\"valor\": \"sum\"})"
      ]
    },
    {
      "cell_type": "markdown",
      "metadata": {
        "id": "i2zlvpn9L2Ef"
      },
      "source": [
        "### casteando a datetime"
      ]
    },
    {
      "cell_type": "code",
      "execution_count": null,
      "metadata": {
        "id": "jK5QuFmJL7SB"
      },
      "outputs": [],
      "source": [
        "dfdt = df.copy()\n",
        "dfdt.info()"
      ]
    },
    {
      "cell_type": "code",
      "execution_count": null,
      "metadata": {
        "id": "rviaM_Pt5gQB"
      },
      "outputs": [],
      "source": [
        "pd.to_datetime(dfdt.indice_tiempo)\n"
      ]
    },
    {
      "cell_type": "code",
      "execution_count": null,
      "metadata": {
        "id": "sd-DEAEy6Jc7"
      },
      "outputs": [],
      "source": [
        "dfdt.indice_tiempo.dt.month_name()"
      ]
    },
    {
      "cell_type": "code",
      "execution_count": null,
      "metadata": {
        "id": "vxySBAcXMId9"
      },
      "outputs": [],
      "source": [
        "dfdt[dfdt.indicador == \"Generación\"].groupby([dfdt.indice_tiempo.dt.year, dfdt.indice_tiempo.dt.month_name()]).aggregate({\"valor\": \"sum\"}).unstack()"
      ]
    },
    {
      "cell_type": "markdown",
      "metadata": {
        "id": "ANu3qzx-No-1"
      },
      "source": [
        "---\n",
        "# El dinamismo entre pivot_table y multi index groupby. ¿Dos caras de una moneda? 🤔\n",
        "## Analicemos como es la generacion de cada tipo de energia por año"
      ]
    },
    {
      "cell_type": "code",
      "execution_count": null,
      "metadata": {
        "id": "FFt4GYb_TXPX"
      },
      "outputs": [],
      "source": [
        "df.head()"
      ]
    },
    {
      "cell_type": "code",
      "execution_count": null,
      "metadata": {
        "id": "qFkjIsPnTLd2"
      },
      "outputs": [],
      "source": [
        "df[df[\"indicador\"] == \"Generación\"].pivot_table(\n",
        "    index = [\"actividad_producto_nombre\", \"year\"],\n",
        "    columns = [],\n",
        "    values = [\"valor\"],\n",
        "    aggfunc = [\"sum\"],\n",
        "    margins = True\n",
        ").unstack()"
      ]
    },
    {
      "cell_type": "code",
      "execution_count": null,
      "metadata": {
        "id": "SKu993wkWGB4"
      },
      "outputs": [],
      "source": [
        "# con stack() podemos generar una tabla agrupada a partir de una pivot table on the fly\n",
        "energia_anio_valor_pivot_stack = df[df[\"indicador\"] == \"Generación\"].pivot_table(\n",
        "    index = [\"actividad_producto_nombre\"],\n",
        "    columns = [\"year\"],\n",
        "    values = [\"valor\"],\n",
        "    aggfunc = [\"sum\"],\n",
        "    margins = False\n",
        ").stack()"
      ]
    },
    {
      "cell_type": "code",
      "execution_count": null,
      "metadata": {
        "id": "nqFFImkjWs5w"
      },
      "outputs": [],
      "source": [
        "# una serie con dos dimensiones [\"actividad_producto_nombre\", \"year\"] puede ser representada como un dataframe usando el metodo unstack()\n",
        "energia_anio_valor_group = df[df[\"indicador\"] == \"Generación\"].groupby([\"actividad_producto_nombre\", \"year\"]).aggregate({\"valor\": \"sum\"})"
      ]
    },
    {
      "cell_type": "markdown",
      "metadata": {
        "id": "4o20dRXw6MXo"
      },
      "source": [
        "<p>\n",
        "<q style='quotes: \"“\" \"”\";'>Many programmers and SQL analysts ﬁnd the .groupby syntax intuitive,<br>while Excel junkies often feel more at home with the .pivot_table method.</q>\n",
        "</p>\n",
        "\n",
        "*Effective Pandas: Patterns For Data Manipulation, Matt Harrison (2021) p. 240*"
      ]
    },
    {
      "cell_type": "code",
      "execution_count": null,
      "metadata": {
        "id": "4ngAJnGG5tHj"
      },
      "outputs": [],
      "source": [
        "display(\"energia_anio_valor_pivot_stack\", \"energia_anio_valor_group\")"
      ]
    },
    {
      "cell_type": "markdown",
      "metadata": {
        "id": "5zc8xKBXB2Rd"
      },
      "source": [
        "#### groupby y pivot admiten especificar funciones para cada columna por separado"
      ]
    },
    {
      "cell_type": "code",
      "execution_count": null,
      "metadata": {
        "id": "urZDSsgFB-Fx"
      },
      "outputs": [],
      "source": [
        "df_pivot_specific = df[df[\"indicador\"] == \"Generación\"].pivot_table(\n",
        "                                                index = \"actividad_producto_nombre\",\n",
        "                                                aggfunc = {\n",
        "                                                            \"sector_id\": [\"size\"],\n",
        "                                                            \"valor\": [\"min\", \"max\"]\n",
        "                                                }\n",
        ")"
      ]
    },
    {
      "cell_type": "code",
      "execution_count": null,
      "metadata": {
        "id": "c1PwtGaCC2zj"
      },
      "outputs": [],
      "source": [
        "df_group_specific = df[df[\"indicador\"] == \"Generación\"].groupby(\"actividad_producto_nombre\").aggregate({\n",
        "                                                                            \"sector_id\": [\"size\"],\n",
        "                                                                            \"valor\": [\"min\", \"max\"]    \n",
        "})"
      ]
    },
    {
      "cell_type": "code",
      "execution_count": null,
      "metadata": {
        "id": "ndPbC_AhDH5E"
      },
      "outputs": [],
      "source": [
        "display(\"df_pivot_specific\", \"df_group_specific\")"
      ]
    },
    {
      "cell_type": "markdown",
      "metadata": {
        "id": "1H_TXANL7xBS"
      },
      "source": [
        "---\n",
        "# Bonus tricks 🔥💥⚡"
      ]
    },
    {
      "cell_type": "markdown",
      "metadata": {
        "id": "IyWLs0R88L0Q"
      },
      "source": [
        "### np.where"
      ]
    },
    {
      "cell_type": "markdown",
      "metadata": {
        "id": "wRK_3JLJ8Xkx"
      },
      "source": [
        "\n",
        "\n",
        "```python\n",
        "np.where(\n",
        "    condicional (mascara booleana),\n",
        "    serie/lista/funcion()/escalar si es True,\n",
        "    serie/lista/funcion()/escalar si es False\n",
        ")\n",
        "```\n",
        "usar el atributo .values en las series del df que se usen:\n",
        "\n",
        "\n",
        "```python\n",
        "df[\"nombre_columna\"].values\n",
        "```\n",
        "\n",
        "\n",
        "\n"
      ]
    },
    {
      "cell_type": "code",
      "execution_count": null,
      "metadata": {
        "id": "GVhk13t38XVi"
      },
      "outputs": [],
      "source": []
    },
    {
      "cell_type": "code",
      "execution_count": null,
      "metadata": {
        "id": "cRJ2vgqe8KDt"
      },
      "outputs": [],
      "source": []
    },
    {
      "cell_type": "markdown",
      "metadata": {
        "id": "e2eg11U49YaF"
      },
      "source": [
        "### np.select (para multiples condiciones)"
      ]
    },
    {
      "cell_type": "markdown",
      "metadata": {
        "id": "fiy1rCvf9ib4"
      },
      "source": [
        "\n",
        "\n",
        "```python\n",
        "conditions = [lista de mascaras booleanas]\n",
        "\n",
        "choices = [lista de lo que se coloca en caso de que la mascara booleana sea True]\n",
        "\n",
        "np.select(conditions, choices, default=\"NA\")\n",
        "```\n",
        "prestar atencion a que el argumento **default** es el valor que toma en caso de que ninguna de las condiciones booleanas sea True.\n"
      ]
    },
    {
      "cell_type": "code",
      "execution_count": null,
      "metadata": {
        "id": "FKxko1Ms9cue"
      },
      "outputs": [],
      "source": [
        "conditions = [\n",
        "            dfdt.indice_tiempo.dt.month.isin([1, 2, 3]), # verano\n",
        "            dfdt.indice_tiempo.dt.month.isin([4, 5, 6]), # otoño\n",
        "            dfdt.indice_tiempo.dt.month.isin([7, 8, 9]), # invierno\n",
        "            dfdt.indice_tiempo.dt.month.isin([10, 11, 12]),  # primavera\n",
        "]\n",
        "\n",
        "choices = [\n",
        "           \"verano\",\n",
        "           \"otoño\",\n",
        "           \"invierno\",\n",
        "           \"primavera\"\n",
        "]\n",
        "\n",
        "dfdt[\"estacion\"] = np.select(conditions, choices, default=\"no hay info\")"
      ]
    },
    {
      "cell_type": "code",
      "execution_count": null,
      "metadata": {
        "id": "Qll_-WGb8Y5K"
      },
      "outputs": [],
      "source": [
        "dfdt_season_np_select = dfdt.groupby(\"estacion\").aggregate({\"valor\": [\"size\", \"count\", \"sum\"]}) # count retorna el conteo de valores no NaN."
      ]
    },
    {
      "cell_type": "code",
      "execution_count": null,
      "metadata": {
        "id": "dknfv1HyCAlx"
      },
      "outputs": [],
      "source": [
        "dfdt_season_np_select"
      ]
    },
    {
      "cell_type": "markdown",
      "metadata": {
        "id": "aBbrBF9S-Auo"
      },
      "source": [
        "#### Tambien podemos lograr el mismo output usando agrupamiento con funcion sobre el index"
      ]
    },
    {
      "cell_type": "code",
      "execution_count": null,
      "metadata": {
        "id": "GMaVmeg4-gnd"
      },
      "outputs": [],
      "source": [
        "dfdt_index = dfdt.set_index(\"indice_tiempo\")"
      ]
    },
    {
      "cell_type": "code",
      "execution_count": null,
      "metadata": {
        "id": "wdrUrBa59_hY"
      },
      "outputs": [],
      "source": [
        "def season_grouper(idx):\n",
        "    if idx.month in [1, 2, 3]:\n",
        "        return \"verano\"\n",
        "    elif idx.month in [4, 5, 6]:\n",
        "        return \"otoño\"\n",
        "    elif idx.month in [7, 8, 9]:\n",
        "        return \"invierno\"\n",
        "    elif idx.month in [10, 11, 12]:\n",
        "        return \"primavera\"\n",
        "    else:\n",
        "        return \"no hay info\""
      ]
    },
    {
      "cell_type": "code",
      "execution_count": null,
      "metadata": {
        "id": "1JRdI8I6-tMf"
      },
      "outputs": [],
      "source": [
        "dfdt_index_pivot = dfdt_index.pivot_table(index=season_grouper, values=[\"valor\"], aggfunc=[\"size\", \"count\", \"sum\"])\n",
        "\n",
        "\n",
        "\n",
        "dfdt_index_group = dfdt_index.groupby(season_grouper).aggregate({\"valor\": [\"size\", \"count\", \"sum\"]})"
      ]
    },
    {
      "cell_type": "code",
      "execution_count": null,
      "metadata": {
        "id": "8XMImMiXATQH"
      },
      "outputs": [],
      "source": [
        "display(\"dfdt_index_pivot\", \"dfdt_index_group\", \"dfdt_season_np_select\")"
      ]
    },
    {
      "cell_type": "code",
      "execution_count": null,
      "metadata": {
        "id": "2OF-dqPZC0RZ"
      },
      "outputs": [],
      "source": [
        "def funcion_personalizada(x):\n",
        "    return x.mean() * 100\n",
        "\n",
        "df.groupby(\"actividad_producto_nombre\").aggregate({\"valor\": funcion_personalizada})"
      ]
    },
    {
      "cell_type": "code",
      "execution_count": null,
      "metadata": {
        "id": "WcmAVUaPDw4b"
      },
      "outputs": [],
      "source": [
        "df.groupby(\"actividad_producto_nombre\").aggregate({\"valor\": \"mean\"}) * 100"
      ]
    },
    {
      "cell_type": "markdown",
      "metadata": {
        "id": "EIGjw5atjAb-"
      },
      "source": [
        "### seleccion con multi index: la magia del .loc[ ]\n",
        "\n",
        "\n"
      ]
    },
    {
      "cell_type": "markdown",
      "metadata": {
        "id": "s7gkbCJH97P-"
      },
      "source": [
        "```python\n",
        "df.loc[filas, columnas]\n",
        "\n",
        "df.loc[(niveles de indice separados por coma), :]\n",
        "\n",
        "slice(None) se usa para seleccionar todos indices de un nivel dado\n",
        "\n",
        "```"
      ]
    },
    {
      "cell_type": "markdown",
      "metadata": {
        "id": "qCJ4hk7jqy95"
      },
      "source": [
        "### strip para los nombres de columnas"
      ]
    },
    {
      "cell_type": "code",
      "execution_count": null,
      "metadata": {
        "id": "PL5k1PQSqC8j"
      },
      "outputs": [],
      "source": [
        "test.columns = test.columns.str.strip()"
      ]
    },
    {
      "cell_type": "code",
      "execution_count": null,
      "metadata": {
        "id": "QKo7trCyqNcQ"
      },
      "outputs": [],
      "source": [
        "test.columns = [col.strip() for col in test.columns]"
      ]
    }
  ],
  "metadata": {
    "colab": {
      "collapsed_sections": [
        "8D279AFGy52z",
        "g6jk7GzhPDF3",
        "_YOrXSRA1Ux6",
        "O2QrEW8s1dhz",
        "M5KNQI8f5NFj",
        "m6iqEl3F5XNj",
        "swEkyyqGFxXU",
        "3kZaEN0FHyCS",
        "lf09SCWDM3R3",
        "i2zlvpn9L2Ef",
        "ANu3qzx-No-1",
        "5zc8xKBXB2Rd",
        "1H_TXANL7xBS",
        "IyWLs0R88L0Q",
        "e2eg11U49YaF",
        "aBbrBF9S-Auo",
        "EIGjw5atjAb-",
        "qCJ4hk7jqy95"
      ],
      "name": "group_and_agg_pandas_class.ipynb",
      "provenance": []
    },
    "kernelspec": {
      "display_name": "Python 3",
      "name": "python3"
    },
    "language_info": {
      "name": "python"
    }
  },
  "nbformat": 4,
  "nbformat_minor": 0
}
